{
 "cells": [
  {
   "cell_type": "code",
   "execution_count": 147,
   "metadata": {
    "ExecuteTime": {
     "end_time": "2018-10-16T14:14:58.475950Z",
     "start_time": "2018-10-16T14:14:58.444931Z"
    },
    "collapsed": true
   },
   "outputs": [],
   "source": [
    "%matplotlib notebook\n",
    "\n",
    "# %qtconsole\n",
    "\n",
    "import logging\n",
    "import time\n",
    "from importlib import reload\n",
    "\n",
    "from matplotlib import pyplot as plt\n",
    "from matplotlib import colors, cm\n",
    "import numpy as np\n",
    "\n",
    "import qcodes as qc\n",
    "from qcodes.dataset.experiment_container import new_experiment"
   ]
  },
  {
   "cell_type": "code",
   "execution_count": 148,
   "metadata": {
    "ExecuteTime": {
     "end_time": "2018-10-16T14:15:01.161795Z",
     "start_time": "2018-10-16T14:15:01.152815Z"
    },
    "collapsed": true
   },
   "outputs": [],
   "source": [
    "from pytopo.qctools import instruments as instools\n",
    "from pytopo.qctools.instruments import create_inst, add2station\n",
    "\n",
    "from pytopo.sweep.base import Nest, Chain\n",
    "from pytopo.sweep.decorators import getter, setter\n",
    "from pytopo.sweep import sweep, do_experiment, hardsweep, measure"
   ]
  },
  {
   "cell_type": "code",
   "execution_count": null,
   "metadata": {
    "collapsed": true
   },
   "outputs": [],
   "source": []
  },
  {
   "cell_type": "markdown",
   "metadata": {},
   "source": [
    "# Define measurement functions"
   ]
  },
  {
   "cell_type": "code",
   "execution_count": 195,
   "metadata": {
    "ExecuteTime": {
     "end_time": "2018-10-16T17:48:16.073503Z",
     "start_time": "2018-10-16T17:48:15.516118Z"
    },
    "collapsed": true
   },
   "outputs": [],
   "source": [
    "def setup_frq_sweep(fstart, fstop, fpts, chan='S21', bw=None, navgs=None, pwr=None):\n",
    "    \"\"\"\n",
    "    Setup a VNA trace.\n",
    "    \n",
    "    assumes that a channel with name chan is already created.\n",
    "    \"\"\"\n",
    "    vna = qc.Station.default.vna\n",
    "    trace = getattr(vna.channels, chan)\n",
    "    \n",
    "    fvals = np.linspace(fstart, fstop, fpts)\n",
    "    trace.start(fstart)\n",
    "    trace.stop(fstop)\n",
    "    trace.npts(fpts)\n",
    "    if navgs is not None:\n",
    "        trace.avg(navgs)\n",
    "    if bw is not None:\n",
    "        trace.bandwidth(bw)\n",
    "    if pwr is not None:\n",
    "        trace.power(pwr)\n",
    "    trace.autoscale()\n",
    "    \n",
    "    if not vna.rf_power():\n",
    "        vna.rf_on()\n",
    "    \n",
    "    return fvals\n",
    "\n",
    "def take_trace(chan='S21', plot=False):\n",
    "    \"\"\"\n",
    "    Get the data of a currently measured trace.\n",
    "    The trace has to be setup already.\n",
    "    \n",
    "    Returns magnitude (in dB) and phase (in rad).\n",
    "    \n",
    "    If plot is true, make a simple plot of the magnitude vs frequency.\n",
    "    \"\"\"\n",
    "    vna = qc.Station.default.vna\n",
    "    trace = getattr(vna.channels, chan)\n",
    "    \n",
    "    fvals = np.linspace(trace.start(), trace.stop(), trace.npts())\n",
    "    mag, phase = trace.trace_mag_phase()\n",
    "    \n",
    "    if plot:\n",
    "        fig, ax = plt.subplots(1, 1)\n",
    "        ax.plot(fvals*1e-9, 20*np.log10(mag))\n",
    "        ax.grid(dashes=[1,1])\n",
    "        ax.set_xlabel('Frequency (GHz)')\n",
    "        ax.set_ylabel('Magnitude (dBm)')\n",
    "        \n",
    "    return mag, phase\n",
    "\n",
    "\n",
    "@hardsweep(\n",
    "    ind=[('frequency', 'Hz', 'array')], \n",
    "    dep=[('amplitude', '', 'array'), ('phase', 'rad', 'array')]\n",
    ")\n",
    "def vna_frequency_sweep(*arg, **kw):\n",
    "    \"\"\"\n",
    "    Measurement function for a simple VNA trace for pytopo.sweep.\n",
    "    \n",
    "    All arguments will be passed to setup_trace.\n",
    "    Return data is as returned by take_trace.\n",
    "    \"\"\"\n",
    "    fvals = setup_frq_sweep(*arg, **kw)\n",
    "    mag, phase = take_trace(plot=False)\n",
    "    \n",
    "    return fvals, np.vstack((mag, phase))\n",
    "\n",
    "\n",
    "@hardsweep(\n",
    "    ind=[('frequency', 'Hz', 'array')], \n",
    "    dep=[('magnitude', 'dB', 'array'), ('phase', 'rad', 'array')]\n",
    ")\n",
    "def vna_frequency_sweep_dB(*arg, **kw):\n",
    "    \"\"\"\n",
    "    Measurement function for a simple VNA trace for pytopo.sweep.\n",
    "    \n",
    "    All arguments will be passed to setup_trace.\n",
    "    Return data is as returned by take_trace.\n",
    "    \"\"\"\n",
    "    fvals = setup_frq_sweep(*arg, **kw)\n",
    "    mag, phase = take_trace(plot=False)\n",
    "    \n",
    "    return fvals, np.vstack((20*np.log10(mag), phase))\n",
    "\n",
    "\n",
    "def setup_zerospan_trace(frq, npts, chan='S21', span=1.):\n",
    "    \"\"\"\n",
    "    Setup the VNA to measure a trace around <frq> with <npts> samples\n",
    "    in a very narray frequency span.\n",
    "    \"\"\"\n",
    "    vna = qc.Station.default.vna\n",
    "    trace = getattr(vna.channels, chan)\n",
    "    \n",
    "    trace.center(frq)\n",
    "    trace.span(span)\n",
    "    trace.npts(npts)\n",
    "    \n",
    "    trace.autoscale()\n",
    "    \n",
    "    if not vna.rf_power():\n",
    "        vna.rf_on()\n",
    "\n",
    "\n",
    "@hardsweep(\n",
    "    ind=[('iteration', '', 'array')], \n",
    "    dep=[('amplitude', '', 'array'), ('phase', 'rad', 'array')]\n",
    ")\n",
    "def vna_timetrace(*arg, **kw):\n",
    "    \"\"\"\n",
    "    Measure a 'time trace', emulated by a narrow span trace with many points.\n",
    "    \"\"\"\n",
    "    setup_zerospan_trace(*arg, **kw)\n",
    "    mag, phase = take_trace(plot=False)\n",
    "    \n",
    "    return np.arange(mag.size), np.vstack((mag, phase))\n",
    "\n",
    "\n",
    "@hardsweep(\n",
    "    ind=[('iteration', '', 'array')], \n",
    "    dep=[('magnitude', 'dB', 'array'), ('phase', 'rad', 'array')]\n",
    ")\n",
    "def vna_timetrace(*arg, **kw):\n",
    "    \"\"\"\n",
    "    Measure a 'time trace', emulated by a narrow span trace with many points.\n",
    "    \"\"\"\n",
    "    setup_zerospan_trace(*arg, **kw)\n",
    "    mag, phase = take_trace(plot=False)\n",
    "    \n",
    "    return np.arange(mag.size), np.vstack((20*np.log10(mag), phase))"
   ]
  },
  {
   "cell_type": "markdown",
   "metadata": {},
   "source": [
    "# Init station"
   ]
  },
  {
   "cell_type": "markdown",
   "metadata": {},
   "source": [
    "## Global variables"
   ]
  },
  {
   "cell_type": "code",
   "execution_count": 150,
   "metadata": {
    "ExecuteTime": {
     "end_time": "2018-10-16T14:15:06.813741Z",
     "start_time": "2018-10-16T14:15:06.809769Z"
    }
   },
   "outputs": [],
   "source": [
    "SAMPLE = \"FluxoniumTest_CD20181015\""
   ]
  },
  {
   "cell_type": "markdown",
   "metadata": {},
   "source": [
    "## Init instruments"
   ]
  },
  {
   "cell_type": "code",
   "execution_count": 2,
   "metadata": {
    "ExecuteTime": {
     "end_time": "2018-10-15T12:24:46.890255Z",
     "start_time": "2018-10-15T12:24:46.781180Z"
    },
    "collapsed": true
   },
   "outputs": [],
   "source": [
    "%run -i D:/OneDrive/BF2/Code/BF2/BF2/init_station.py"
   ]
  },
  {
   "cell_type": "code",
   "execution_count": 176,
   "metadata": {
    "ExecuteTime": {
     "end_time": "2018-10-16T15:10:44.922542Z",
     "start_time": "2018-10-16T15:10:44.607326Z"
    }
   },
   "outputs": [
    {
     "name": "stdout",
     "output_type": "stream",
     "text": [
      "Instrument vna already exists.\n",
      "Connected to: Rohde-Schwarz ZNB20-2Port (serial:1311601062101971, firmware:2.90) in 0.17s\n"
     ]
    }
   ],
   "source": [
    "from qcodes.instrument_drivers.rohde_schwarz.ZNB import ZNB\n",
    "vna = create_inst(ZNB, 'vna', address='TCPIP::169.254.62.18::inst0::INSTR', force_new_instance=True)\n",
    "station = qc.Station(vna)\n",
    "\n",
    "from qcodes.instrument_drivers.oxford.mercuryiPS import MercuryiPS\n",
    "mgnt = create_inst(MercuryiPs, 'mgnt', address='TCPIP::--::inst0::INSTR', force_new_instance=True)\n",
    "station = qc.Station(mgnt)\n",
    "\n",
    "# the VNA driver has some weird default settings. \n",
    "# Make sure here that we measure what we want\n",
    "vna.clear_channels()\n",
    "vna.add_channel('S21')\n",
    "vna.rf_off()"
   ]
  },
  {
   "cell_type": "code",
   "execution_count": 55,
   "metadata": {
    "ExecuteTime": {
     "end_time": "2018-10-15T13:05:16.987263Z",
     "start_time": "2018-10-15T13:05:16.983258Z"
    }
   },
   "outputs": [],
   "source": [
    "# check that we can take the trace correctly\n",
    "# mag, phase = take_trace(plot=True)"
   ]
  },
  {
   "cell_type": "code",
   "execution_count": 109,
   "metadata": {
    "ExecuteTime": {
     "end_time": "2018-10-16T11:32:17.312023Z",
     "start_time": "2018-10-16T11:32:17.261983Z"
    }
   },
   "outputs": [
    {
     "name": "stdout",
     "output_type": "stream",
     "text": [
      "Connected to: Rohde&Schwarz SGS100A (serial:1416.0505k02/110531, firmware:3.1.19.15-3.50.124.67) in 0.04s\n"
     ]
    }
   ],
   "source": [
    "from qcodes.instrument_drivers.rohde_schwarz.SGS100A import RohdeSchwarz_SGS100A\n",
    "twpa_pump = create_inst(RohdeSchwarz_SGS100A, 'twpa_pump', address=\"TCPIP::169.254.167.18::inst0::INSTR\")"
   ]
  },
  {
   "cell_type": "markdown",
   "metadata": {},
   "source": [
    "# Testing"
   ]
  },
  {
   "cell_type": "markdown",
   "metadata": {
    "ExecuteTime": {
     "end_time": "2018-10-15T12:31:02.235649Z",
     "start_time": "2018-10-15T12:31:02.213640Z"
    }
   },
   "source": [
    "## Quick manual trace (without saving)"
   ]
  },
  {
   "cell_type": "code",
   "execution_count": 196,
   "metadata": {
    "ExecuteTime": {
     "end_time": "2018-10-16T17:48:25.498037Z",
     "start_time": "2018-10-16T17:48:25.094755Z"
    }
   },
   "outputs": [
    {
     "data": {
      "application/javascript": [
       "/* Put everything inside the global mpl namespace */\n",
       "window.mpl = {};\n",
       "\n",
       "\n",
       "mpl.get_websocket_type = function() {\n",
       "    if (typeof(WebSocket) !== 'undefined') {\n",
       "        return WebSocket;\n",
       "    } else if (typeof(MozWebSocket) !== 'undefined') {\n",
       "        return MozWebSocket;\n",
       "    } else {\n",
       "        alert('Your browser does not have WebSocket support.' +\n",
       "              'Please try Chrome, Safari or Firefox ≥ 6. ' +\n",
       "              'Firefox 4 and 5 are also supported but you ' +\n",
       "              'have to enable WebSockets in about:config.');\n",
       "    };\n",
       "}\n",
       "\n",
       "mpl.figure = function(figure_id, websocket, ondownload, parent_element) {\n",
       "    this.id = figure_id;\n",
       "\n",
       "    this.ws = websocket;\n",
       "\n",
       "    this.supports_binary = (this.ws.binaryType != undefined);\n",
       "\n",
       "    if (!this.supports_binary) {\n",
       "        var warnings = document.getElementById(\"mpl-warnings\");\n",
       "        if (warnings) {\n",
       "            warnings.style.display = 'block';\n",
       "            warnings.textContent = (\n",
       "                \"This browser does not support binary websocket messages. \" +\n",
       "                    \"Performance may be slow.\");\n",
       "        }\n",
       "    }\n",
       "\n",
       "    this.imageObj = new Image();\n",
       "\n",
       "    this.context = undefined;\n",
       "    this.message = undefined;\n",
       "    this.canvas = undefined;\n",
       "    this.rubberband_canvas = undefined;\n",
       "    this.rubberband_context = undefined;\n",
       "    this.format_dropdown = undefined;\n",
       "\n",
       "    this.image_mode = 'full';\n",
       "\n",
       "    this.root = $('<div/>');\n",
       "    this._root_extra_style(this.root)\n",
       "    this.root.attr('style', 'display: inline-block');\n",
       "\n",
       "    $(parent_element).append(this.root);\n",
       "\n",
       "    this._init_header(this);\n",
       "    this._init_canvas(this);\n",
       "    this._init_toolbar(this);\n",
       "\n",
       "    var fig = this;\n",
       "\n",
       "    this.waiting = false;\n",
       "\n",
       "    this.ws.onopen =  function () {\n",
       "            fig.send_message(\"supports_binary\", {value: fig.supports_binary});\n",
       "            fig.send_message(\"send_image_mode\", {});\n",
       "            if (mpl.ratio != 1) {\n",
       "                fig.send_message(\"set_dpi_ratio\", {'dpi_ratio': mpl.ratio});\n",
       "            }\n",
       "            fig.send_message(\"refresh\", {});\n",
       "        }\n",
       "\n",
       "    this.imageObj.onload = function() {\n",
       "            if (fig.image_mode == 'full') {\n",
       "                // Full images could contain transparency (where diff images\n",
       "                // almost always do), so we need to clear the canvas so that\n",
       "                // there is no ghosting.\n",
       "                fig.context.clearRect(0, 0, fig.canvas.width, fig.canvas.height);\n",
       "            }\n",
       "            fig.context.drawImage(fig.imageObj, 0, 0);\n",
       "        };\n",
       "\n",
       "    this.imageObj.onunload = function() {\n",
       "        fig.ws.close();\n",
       "    }\n",
       "\n",
       "    this.ws.onmessage = this._make_on_message_function(this);\n",
       "\n",
       "    this.ondownload = ondownload;\n",
       "}\n",
       "\n",
       "mpl.figure.prototype._init_header = function() {\n",
       "    var titlebar = $(\n",
       "        '<div class=\"ui-dialog-titlebar ui-widget-header ui-corner-all ' +\n",
       "        'ui-helper-clearfix\"/>');\n",
       "    var titletext = $(\n",
       "        '<div class=\"ui-dialog-title\" style=\"width: 100%; ' +\n",
       "        'text-align: center; padding: 3px;\"/>');\n",
       "    titlebar.append(titletext)\n",
       "    this.root.append(titlebar);\n",
       "    this.header = titletext[0];\n",
       "}\n",
       "\n",
       "\n",
       "\n",
       "mpl.figure.prototype._canvas_extra_style = function(canvas_div) {\n",
       "\n",
       "}\n",
       "\n",
       "\n",
       "mpl.figure.prototype._root_extra_style = function(canvas_div) {\n",
       "\n",
       "}\n",
       "\n",
       "mpl.figure.prototype._init_canvas = function() {\n",
       "    var fig = this;\n",
       "\n",
       "    var canvas_div = $('<div/>');\n",
       "\n",
       "    canvas_div.attr('style', 'position: relative; clear: both; outline: 0');\n",
       "\n",
       "    function canvas_keyboard_event(event) {\n",
       "        return fig.key_event(event, event['data']);\n",
       "    }\n",
       "\n",
       "    canvas_div.keydown('key_press', canvas_keyboard_event);\n",
       "    canvas_div.keyup('key_release', canvas_keyboard_event);\n",
       "    this.canvas_div = canvas_div\n",
       "    this._canvas_extra_style(canvas_div)\n",
       "    this.root.append(canvas_div);\n",
       "\n",
       "    var canvas = $('<canvas/>');\n",
       "    canvas.addClass('mpl-canvas');\n",
       "    canvas.attr('style', \"left: 0; top: 0; z-index: 0; outline: 0\")\n",
       "\n",
       "    this.canvas = canvas[0];\n",
       "    this.context = canvas[0].getContext(\"2d\");\n",
       "\n",
       "    var backingStore = this.context.backingStorePixelRatio ||\n",
       "\tthis.context.webkitBackingStorePixelRatio ||\n",
       "\tthis.context.mozBackingStorePixelRatio ||\n",
       "\tthis.context.msBackingStorePixelRatio ||\n",
       "\tthis.context.oBackingStorePixelRatio ||\n",
       "\tthis.context.backingStorePixelRatio || 1;\n",
       "\n",
       "    mpl.ratio = (window.devicePixelRatio || 1) / backingStore;\n",
       "\n",
       "    var rubberband = $('<canvas/>');\n",
       "    rubberband.attr('style', \"position: absolute; left: 0; top: 0; z-index: 1;\")\n",
       "\n",
       "    var pass_mouse_events = true;\n",
       "\n",
       "    canvas_div.resizable({\n",
       "        start: function(event, ui) {\n",
       "            pass_mouse_events = false;\n",
       "        },\n",
       "        resize: function(event, ui) {\n",
       "            fig.request_resize(ui.size.width, ui.size.height);\n",
       "        },\n",
       "        stop: function(event, ui) {\n",
       "            pass_mouse_events = true;\n",
       "            fig.request_resize(ui.size.width, ui.size.height);\n",
       "        },\n",
       "    });\n",
       "\n",
       "    function mouse_event_fn(event) {\n",
       "        if (pass_mouse_events)\n",
       "            return fig.mouse_event(event, event['data']);\n",
       "    }\n",
       "\n",
       "    rubberband.mousedown('button_press', mouse_event_fn);\n",
       "    rubberband.mouseup('button_release', mouse_event_fn);\n",
       "    // Throttle sequential mouse events to 1 every 20ms.\n",
       "    rubberband.mousemove('motion_notify', mouse_event_fn);\n",
       "\n",
       "    rubberband.mouseenter('figure_enter', mouse_event_fn);\n",
       "    rubberband.mouseleave('figure_leave', mouse_event_fn);\n",
       "\n",
       "    canvas_div.on(\"wheel\", function (event) {\n",
       "        event = event.originalEvent;\n",
       "        event['data'] = 'scroll'\n",
       "        if (event.deltaY < 0) {\n",
       "            event.step = 1;\n",
       "        } else {\n",
       "            event.step = -1;\n",
       "        }\n",
       "        mouse_event_fn(event);\n",
       "    });\n",
       "\n",
       "    canvas_div.append(canvas);\n",
       "    canvas_div.append(rubberband);\n",
       "\n",
       "    this.rubberband = rubberband;\n",
       "    this.rubberband_canvas = rubberband[0];\n",
       "    this.rubberband_context = rubberband[0].getContext(\"2d\");\n",
       "    this.rubberband_context.strokeStyle = \"#000000\";\n",
       "\n",
       "    this._resize_canvas = function(width, height) {\n",
       "        // Keep the size of the canvas, canvas container, and rubber band\n",
       "        // canvas in synch.\n",
       "        canvas_div.css('width', width)\n",
       "        canvas_div.css('height', height)\n",
       "\n",
       "        canvas.attr('width', width * mpl.ratio);\n",
       "        canvas.attr('height', height * mpl.ratio);\n",
       "        canvas.attr('style', 'width: ' + width + 'px; height: ' + height + 'px;');\n",
       "\n",
       "        rubberband.attr('width', width);\n",
       "        rubberband.attr('height', height);\n",
       "    }\n",
       "\n",
       "    // Set the figure to an initial 600x600px, this will subsequently be updated\n",
       "    // upon first draw.\n",
       "    this._resize_canvas(600, 600);\n",
       "\n",
       "    // Disable right mouse context menu.\n",
       "    $(this.rubberband_canvas).bind(\"contextmenu\",function(e){\n",
       "        return false;\n",
       "    });\n",
       "\n",
       "    function set_focus () {\n",
       "        canvas.focus();\n",
       "        canvas_div.focus();\n",
       "    }\n",
       "\n",
       "    window.setTimeout(set_focus, 100);\n",
       "}\n",
       "\n",
       "mpl.figure.prototype._init_toolbar = function() {\n",
       "    var fig = this;\n",
       "\n",
       "    var nav_element = $('<div/>')\n",
       "    nav_element.attr('style', 'width: 100%');\n",
       "    this.root.append(nav_element);\n",
       "\n",
       "    // Define a callback function for later on.\n",
       "    function toolbar_event(event) {\n",
       "        return fig.toolbar_button_onclick(event['data']);\n",
       "    }\n",
       "    function toolbar_mouse_event(event) {\n",
       "        return fig.toolbar_button_onmouseover(event['data']);\n",
       "    }\n",
       "\n",
       "    for(var toolbar_ind in mpl.toolbar_items) {\n",
       "        var name = mpl.toolbar_items[toolbar_ind][0];\n",
       "        var tooltip = mpl.toolbar_items[toolbar_ind][1];\n",
       "        var image = mpl.toolbar_items[toolbar_ind][2];\n",
       "        var method_name = mpl.toolbar_items[toolbar_ind][3];\n",
       "\n",
       "        if (!name) {\n",
       "            // put a spacer in here.\n",
       "            continue;\n",
       "        }\n",
       "        var button = $('<button/>');\n",
       "        button.addClass('ui-button ui-widget ui-state-default ui-corner-all ' +\n",
       "                        'ui-button-icon-only');\n",
       "        button.attr('role', 'button');\n",
       "        button.attr('aria-disabled', 'false');\n",
       "        button.click(method_name, toolbar_event);\n",
       "        button.mouseover(tooltip, toolbar_mouse_event);\n",
       "\n",
       "        var icon_img = $('<span/>');\n",
       "        icon_img.addClass('ui-button-icon-primary ui-icon');\n",
       "        icon_img.addClass(image);\n",
       "        icon_img.addClass('ui-corner-all');\n",
       "\n",
       "        var tooltip_span = $('<span/>');\n",
       "        tooltip_span.addClass('ui-button-text');\n",
       "        tooltip_span.html(tooltip);\n",
       "\n",
       "        button.append(icon_img);\n",
       "        button.append(tooltip_span);\n",
       "\n",
       "        nav_element.append(button);\n",
       "    }\n",
       "\n",
       "    var fmt_picker_span = $('<span/>');\n",
       "\n",
       "    var fmt_picker = $('<select/>');\n",
       "    fmt_picker.addClass('mpl-toolbar-option ui-widget ui-widget-content');\n",
       "    fmt_picker_span.append(fmt_picker);\n",
       "    nav_element.append(fmt_picker_span);\n",
       "    this.format_dropdown = fmt_picker[0];\n",
       "\n",
       "    for (var ind in mpl.extensions) {\n",
       "        var fmt = mpl.extensions[ind];\n",
       "        var option = $(\n",
       "            '<option/>', {selected: fmt === mpl.default_extension}).html(fmt);\n",
       "        fmt_picker.append(option)\n",
       "    }\n",
       "\n",
       "    // Add hover states to the ui-buttons\n",
       "    $( \".ui-button\" ).hover(\n",
       "        function() { $(this).addClass(\"ui-state-hover\");},\n",
       "        function() { $(this).removeClass(\"ui-state-hover\");}\n",
       "    );\n",
       "\n",
       "    var status_bar = $('<span class=\"mpl-message\"/>');\n",
       "    nav_element.append(status_bar);\n",
       "    this.message = status_bar[0];\n",
       "}\n",
       "\n",
       "mpl.figure.prototype.request_resize = function(x_pixels, y_pixels) {\n",
       "    // Request matplotlib to resize the figure. Matplotlib will then trigger a resize in the client,\n",
       "    // which will in turn request a refresh of the image.\n",
       "    this.send_message('resize', {'width': x_pixels, 'height': y_pixels});\n",
       "}\n",
       "\n",
       "mpl.figure.prototype.send_message = function(type, properties) {\n",
       "    properties['type'] = type;\n",
       "    properties['figure_id'] = this.id;\n",
       "    this.ws.send(JSON.stringify(properties));\n",
       "}\n",
       "\n",
       "mpl.figure.prototype.send_draw_message = function() {\n",
       "    if (!this.waiting) {\n",
       "        this.waiting = true;\n",
       "        this.ws.send(JSON.stringify({type: \"draw\", figure_id: this.id}));\n",
       "    }\n",
       "}\n",
       "\n",
       "\n",
       "mpl.figure.prototype.handle_save = function(fig, msg) {\n",
       "    var format_dropdown = fig.format_dropdown;\n",
       "    var format = format_dropdown.options[format_dropdown.selectedIndex].value;\n",
       "    fig.ondownload(fig, format);\n",
       "}\n",
       "\n",
       "\n",
       "mpl.figure.prototype.handle_resize = function(fig, msg) {\n",
       "    var size = msg['size'];\n",
       "    if (size[0] != fig.canvas.width || size[1] != fig.canvas.height) {\n",
       "        fig._resize_canvas(size[0], size[1]);\n",
       "        fig.send_message(\"refresh\", {});\n",
       "    };\n",
       "}\n",
       "\n",
       "mpl.figure.prototype.handle_rubberband = function(fig, msg) {\n",
       "    var x0 = msg['x0'] / mpl.ratio;\n",
       "    var y0 = (fig.canvas.height - msg['y0']) / mpl.ratio;\n",
       "    var x1 = msg['x1'] / mpl.ratio;\n",
       "    var y1 = (fig.canvas.height - msg['y1']) / mpl.ratio;\n",
       "    x0 = Math.floor(x0) + 0.5;\n",
       "    y0 = Math.floor(y0) + 0.5;\n",
       "    x1 = Math.floor(x1) + 0.5;\n",
       "    y1 = Math.floor(y1) + 0.5;\n",
       "    var min_x = Math.min(x0, x1);\n",
       "    var min_y = Math.min(y0, y1);\n",
       "    var width = Math.abs(x1 - x0);\n",
       "    var height = Math.abs(y1 - y0);\n",
       "\n",
       "    fig.rubberband_context.clearRect(\n",
       "        0, 0, fig.canvas.width, fig.canvas.height);\n",
       "\n",
       "    fig.rubberband_context.strokeRect(min_x, min_y, width, height);\n",
       "}\n",
       "\n",
       "mpl.figure.prototype.handle_figure_label = function(fig, msg) {\n",
       "    // Updates the figure title.\n",
       "    fig.header.textContent = msg['label'];\n",
       "}\n",
       "\n",
       "mpl.figure.prototype.handle_cursor = function(fig, msg) {\n",
       "    var cursor = msg['cursor'];\n",
       "    switch(cursor)\n",
       "    {\n",
       "    case 0:\n",
       "        cursor = 'pointer';\n",
       "        break;\n",
       "    case 1:\n",
       "        cursor = 'default';\n",
       "        break;\n",
       "    case 2:\n",
       "        cursor = 'crosshair';\n",
       "        break;\n",
       "    case 3:\n",
       "        cursor = 'move';\n",
       "        break;\n",
       "    }\n",
       "    fig.rubberband_canvas.style.cursor = cursor;\n",
       "}\n",
       "\n",
       "mpl.figure.prototype.handle_message = function(fig, msg) {\n",
       "    fig.message.textContent = msg['message'];\n",
       "}\n",
       "\n",
       "mpl.figure.prototype.handle_draw = function(fig, msg) {\n",
       "    // Request the server to send over a new figure.\n",
       "    fig.send_draw_message();\n",
       "}\n",
       "\n",
       "mpl.figure.prototype.handle_image_mode = function(fig, msg) {\n",
       "    fig.image_mode = msg['mode'];\n",
       "}\n",
       "\n",
       "mpl.figure.prototype.updated_canvas_event = function() {\n",
       "    // Called whenever the canvas gets updated.\n",
       "    this.send_message(\"ack\", {});\n",
       "}\n",
       "\n",
       "// A function to construct a web socket function for onmessage handling.\n",
       "// Called in the figure constructor.\n",
       "mpl.figure.prototype._make_on_message_function = function(fig) {\n",
       "    return function socket_on_message(evt) {\n",
       "        if (evt.data instanceof Blob) {\n",
       "            /* FIXME: We get \"Resource interpreted as Image but\n",
       "             * transferred with MIME type text/plain:\" errors on\n",
       "             * Chrome.  But how to set the MIME type?  It doesn't seem\n",
       "             * to be part of the websocket stream */\n",
       "            evt.data.type = \"image/png\";\n",
       "\n",
       "            /* Free the memory for the previous frames */\n",
       "            if (fig.imageObj.src) {\n",
       "                (window.URL || window.webkitURL).revokeObjectURL(\n",
       "                    fig.imageObj.src);\n",
       "            }\n",
       "\n",
       "            fig.imageObj.src = (window.URL || window.webkitURL).createObjectURL(\n",
       "                evt.data);\n",
       "            fig.updated_canvas_event();\n",
       "            fig.waiting = false;\n",
       "            return;\n",
       "        }\n",
       "        else if (typeof evt.data === 'string' && evt.data.slice(0, 21) == \"data:image/png;base64\") {\n",
       "            fig.imageObj.src = evt.data;\n",
       "            fig.updated_canvas_event();\n",
       "            fig.waiting = false;\n",
       "            return;\n",
       "        }\n",
       "\n",
       "        var msg = JSON.parse(evt.data);\n",
       "        var msg_type = msg['type'];\n",
       "\n",
       "        // Call the  \"handle_{type}\" callback, which takes\n",
       "        // the figure and JSON message as its only arguments.\n",
       "        try {\n",
       "            var callback = fig[\"handle_\" + msg_type];\n",
       "        } catch (e) {\n",
       "            console.log(\"No handler for the '\" + msg_type + \"' message type: \", msg);\n",
       "            return;\n",
       "        }\n",
       "\n",
       "        if (callback) {\n",
       "            try {\n",
       "                // console.log(\"Handling '\" + msg_type + \"' message: \", msg);\n",
       "                callback(fig, msg);\n",
       "            } catch (e) {\n",
       "                console.log(\"Exception inside the 'handler_\" + msg_type + \"' callback:\", e, e.stack, msg);\n",
       "            }\n",
       "        }\n",
       "    };\n",
       "}\n",
       "\n",
       "// from http://stackoverflow.com/questions/1114465/getting-mouse-location-in-canvas\n",
       "mpl.findpos = function(e) {\n",
       "    //this section is from http://www.quirksmode.org/js/events_properties.html\n",
       "    var targ;\n",
       "    if (!e)\n",
       "        e = window.event;\n",
       "    if (e.target)\n",
       "        targ = e.target;\n",
       "    else if (e.srcElement)\n",
       "        targ = e.srcElement;\n",
       "    if (targ.nodeType == 3) // defeat Safari bug\n",
       "        targ = targ.parentNode;\n",
       "\n",
       "    // jQuery normalizes the pageX and pageY\n",
       "    // pageX,Y are the mouse positions relative to the document\n",
       "    // offset() returns the position of the element relative to the document\n",
       "    var x = e.pageX - $(targ).offset().left;\n",
       "    var y = e.pageY - $(targ).offset().top;\n",
       "\n",
       "    return {\"x\": x, \"y\": y};\n",
       "};\n",
       "\n",
       "/*\n",
       " * return a copy of an object with only non-object keys\n",
       " * we need this to avoid circular references\n",
       " * http://stackoverflow.com/a/24161582/3208463\n",
       " */\n",
       "function simpleKeys (original) {\n",
       "  return Object.keys(original).reduce(function (obj, key) {\n",
       "    if (typeof original[key] !== 'object')\n",
       "        obj[key] = original[key]\n",
       "    return obj;\n",
       "  }, {});\n",
       "}\n",
       "\n",
       "mpl.figure.prototype.mouse_event = function(event, name) {\n",
       "    var canvas_pos = mpl.findpos(event)\n",
       "\n",
       "    if (name === 'button_press')\n",
       "    {\n",
       "        this.canvas.focus();\n",
       "        this.canvas_div.focus();\n",
       "    }\n",
       "\n",
       "    var x = canvas_pos.x * mpl.ratio;\n",
       "    var y = canvas_pos.y * mpl.ratio;\n",
       "\n",
       "    this.send_message(name, {x: x, y: y, button: event.button,\n",
       "                             step: event.step,\n",
       "                             guiEvent: simpleKeys(event)});\n",
       "\n",
       "    /* This prevents the web browser from automatically changing to\n",
       "     * the text insertion cursor when the button is pressed.  We want\n",
       "     * to control all of the cursor setting manually through the\n",
       "     * 'cursor' event from matplotlib */\n",
       "    event.preventDefault();\n",
       "    return false;\n",
       "}\n",
       "\n",
       "mpl.figure.prototype._key_event_extra = function(event, name) {\n",
       "    // Handle any extra behaviour associated with a key event\n",
       "}\n",
       "\n",
       "mpl.figure.prototype.key_event = function(event, name) {\n",
       "\n",
       "    // Prevent repeat events\n",
       "    if (name == 'key_press')\n",
       "    {\n",
       "        if (event.which === this._key)\n",
       "            return;\n",
       "        else\n",
       "            this._key = event.which;\n",
       "    }\n",
       "    if (name == 'key_release')\n",
       "        this._key = null;\n",
       "\n",
       "    var value = '';\n",
       "    if (event.ctrlKey && event.which != 17)\n",
       "        value += \"ctrl+\";\n",
       "    if (event.altKey && event.which != 18)\n",
       "        value += \"alt+\";\n",
       "    if (event.shiftKey && event.which != 16)\n",
       "        value += \"shift+\";\n",
       "\n",
       "    value += 'k';\n",
       "    value += event.which.toString();\n",
       "\n",
       "    this._key_event_extra(event, name);\n",
       "\n",
       "    this.send_message(name, {key: value,\n",
       "                             guiEvent: simpleKeys(event)});\n",
       "    return false;\n",
       "}\n",
       "\n",
       "mpl.figure.prototype.toolbar_button_onclick = function(name) {\n",
       "    if (name == 'download') {\n",
       "        this.handle_save(this, null);\n",
       "    } else {\n",
       "        this.send_message(\"toolbar_button\", {name: name});\n",
       "    }\n",
       "};\n",
       "\n",
       "mpl.figure.prototype.toolbar_button_onmouseover = function(tooltip) {\n",
       "    this.message.textContent = tooltip;\n",
       "};\n",
       "mpl.toolbar_items = [[\"Home\", \"Reset original view\", \"fa fa-home icon-home\", \"home\"], [\"Back\", \"Back to  previous view\", \"fa fa-arrow-left icon-arrow-left\", \"back\"], [\"Forward\", \"Forward to next view\", \"fa fa-arrow-right icon-arrow-right\", \"forward\"], [\"\", \"\", \"\", \"\"], [\"Pan\", \"Pan axes with left mouse, zoom with right\", \"fa fa-arrows icon-move\", \"pan\"], [\"Zoom\", \"Zoom to rectangle\", \"fa fa-square-o icon-check-empty\", \"zoom\"], [\"\", \"\", \"\", \"\"], [\"Download\", \"Download plot\", \"fa fa-floppy-o icon-save\", \"download\"]];\n",
       "\n",
       "mpl.extensions = [\"eps\", \"pdf\", \"png\", \"ps\", \"raw\", \"svg\"];\n",
       "\n",
       "mpl.default_extension = \"png\";var comm_websocket_adapter = function(comm) {\n",
       "    // Create a \"websocket\"-like object which calls the given IPython comm\n",
       "    // object with the appropriate methods. Currently this is a non binary\n",
       "    // socket, so there is still some room for performance tuning.\n",
       "    var ws = {};\n",
       "\n",
       "    ws.close = function() {\n",
       "        comm.close()\n",
       "    };\n",
       "    ws.send = function(m) {\n",
       "        //console.log('sending', m);\n",
       "        comm.send(m);\n",
       "    };\n",
       "    // Register the callback with on_msg.\n",
       "    comm.on_msg(function(msg) {\n",
       "        //console.log('receiving', msg['content']['data'], msg);\n",
       "        // Pass the mpl event to the overriden (by mpl) onmessage function.\n",
       "        ws.onmessage(msg['content']['data'])\n",
       "    });\n",
       "    return ws;\n",
       "}\n",
       "\n",
       "mpl.mpl_figure_comm = function(comm, msg) {\n",
       "    // This is the function which gets called when the mpl process\n",
       "    // starts-up an IPython Comm through the \"matplotlib\" channel.\n",
       "\n",
       "    var id = msg.content.data.id;\n",
       "    // Get hold of the div created by the display call when the Comm\n",
       "    // socket was opened in Python.\n",
       "    var element = $(\"#\" + id);\n",
       "    var ws_proxy = comm_websocket_adapter(comm)\n",
       "\n",
       "    function ondownload(figure, format) {\n",
       "        window.open(figure.imageObj.src);\n",
       "    }\n",
       "\n",
       "    var fig = new mpl.figure(id, ws_proxy,\n",
       "                           ondownload,\n",
       "                           element.get(0));\n",
       "\n",
       "    // Call onopen now - mpl needs it, as it is assuming we've passed it a real\n",
       "    // web socket which is closed, not our websocket->open comm proxy.\n",
       "    ws_proxy.onopen();\n",
       "\n",
       "    fig.parent_element = element.get(0);\n",
       "    fig.cell_info = mpl.find_output_cell(\"<div id='\" + id + \"'></div>\");\n",
       "    if (!fig.cell_info) {\n",
       "        console.error(\"Failed to find cell for figure\", id, fig);\n",
       "        return;\n",
       "    }\n",
       "\n",
       "    var output_index = fig.cell_info[2]\n",
       "    var cell = fig.cell_info[0];\n",
       "\n",
       "};\n",
       "\n",
       "mpl.figure.prototype.handle_close = function(fig, msg) {\n",
       "    var width = fig.canvas.width/mpl.ratio\n",
       "    fig.root.unbind('remove')\n",
       "\n",
       "    // Update the output cell to use the data from the current canvas.\n",
       "    fig.push_to_output();\n",
       "    var dataURL = fig.canvas.toDataURL();\n",
       "    // Re-enable the keyboard manager in IPython - without this line, in FF,\n",
       "    // the notebook keyboard shortcuts fail.\n",
       "    IPython.keyboard_manager.enable()\n",
       "    $(fig.parent_element).html('<img src=\"' + dataURL + '\" width=\"' + width + '\">');\n",
       "    fig.close_ws(fig, msg);\n",
       "}\n",
       "\n",
       "mpl.figure.prototype.close_ws = function(fig, msg){\n",
       "    fig.send_message('closing', msg);\n",
       "    // fig.ws.close()\n",
       "}\n",
       "\n",
       "mpl.figure.prototype.push_to_output = function(remove_interactive) {\n",
       "    // Turn the data on the canvas into data in the output cell.\n",
       "    var width = this.canvas.width/mpl.ratio\n",
       "    var dataURL = this.canvas.toDataURL();\n",
       "    this.cell_info[1]['text/html'] = '<img src=\"' + dataURL + '\" width=\"' + width + '\">';\n",
       "}\n",
       "\n",
       "mpl.figure.prototype.updated_canvas_event = function() {\n",
       "    // Tell IPython that the notebook contents must change.\n",
       "    IPython.notebook.set_dirty(true);\n",
       "    this.send_message(\"ack\", {});\n",
       "    var fig = this;\n",
       "    // Wait a second, then push the new image to the DOM so\n",
       "    // that it is saved nicely (might be nice to debounce this).\n",
       "    setTimeout(function () { fig.push_to_output() }, 1000);\n",
       "}\n",
       "\n",
       "mpl.figure.prototype._init_toolbar = function() {\n",
       "    var fig = this;\n",
       "\n",
       "    var nav_element = $('<div/>')\n",
       "    nav_element.attr('style', 'width: 100%');\n",
       "    this.root.append(nav_element);\n",
       "\n",
       "    // Define a callback function for later on.\n",
       "    function toolbar_event(event) {\n",
       "        return fig.toolbar_button_onclick(event['data']);\n",
       "    }\n",
       "    function toolbar_mouse_event(event) {\n",
       "        return fig.toolbar_button_onmouseover(event['data']);\n",
       "    }\n",
       "\n",
       "    for(var toolbar_ind in mpl.toolbar_items){\n",
       "        var name = mpl.toolbar_items[toolbar_ind][0];\n",
       "        var tooltip = mpl.toolbar_items[toolbar_ind][1];\n",
       "        var image = mpl.toolbar_items[toolbar_ind][2];\n",
       "        var method_name = mpl.toolbar_items[toolbar_ind][3];\n",
       "\n",
       "        if (!name) { continue; };\n",
       "\n",
       "        var button = $('<button class=\"btn btn-default\" href=\"#\" title=\"' + name + '\"><i class=\"fa ' + image + ' fa-lg\"></i></button>');\n",
       "        button.click(method_name, toolbar_event);\n",
       "        button.mouseover(tooltip, toolbar_mouse_event);\n",
       "        nav_element.append(button);\n",
       "    }\n",
       "\n",
       "    // Add the status bar.\n",
       "    var status_bar = $('<span class=\"mpl-message\" style=\"text-align:right; float: right;\"/>');\n",
       "    nav_element.append(status_bar);\n",
       "    this.message = status_bar[0];\n",
       "\n",
       "    // Add the close button to the window.\n",
       "    var buttongrp = $('<div class=\"btn-group inline pull-right\"></div>');\n",
       "    var button = $('<button class=\"btn btn-mini btn-primary\" href=\"#\" title=\"Stop Interaction\"><i class=\"fa fa-power-off icon-remove icon-large\"></i></button>');\n",
       "    button.click(function (evt) { fig.handle_close(fig, {}); } );\n",
       "    button.mouseover('Stop Interaction', toolbar_mouse_event);\n",
       "    buttongrp.append(button);\n",
       "    var titlebar = this.root.find($('.ui-dialog-titlebar'));\n",
       "    titlebar.prepend(buttongrp);\n",
       "}\n",
       "\n",
       "mpl.figure.prototype._root_extra_style = function(el){\n",
       "    var fig = this\n",
       "    el.on(\"remove\", function(){\n",
       "\tfig.close_ws(fig, {});\n",
       "    });\n",
       "}\n",
       "\n",
       "mpl.figure.prototype._canvas_extra_style = function(el){\n",
       "    // this is important to make the div 'focusable\n",
       "    el.attr('tabindex', 0)\n",
       "    // reach out to IPython and tell the keyboard manager to turn it's self\n",
       "    // off when our div gets focus\n",
       "\n",
       "    // location in version 3\n",
       "    if (IPython.notebook.keyboard_manager) {\n",
       "        IPython.notebook.keyboard_manager.register_events(el);\n",
       "    }\n",
       "    else {\n",
       "        // location in version 2\n",
       "        IPython.keyboard_manager.register_events(el);\n",
       "    }\n",
       "\n",
       "}\n",
       "\n",
       "mpl.figure.prototype._key_event_extra = function(event, name) {\n",
       "    var manager = IPython.notebook.keyboard_manager;\n",
       "    if (!manager)\n",
       "        manager = IPython.keyboard_manager;\n",
       "\n",
       "    // Check for shift+enter\n",
       "    if (event.shiftKey && event.which == 13) {\n",
       "        this.canvas_div.blur();\n",
       "        event.shiftKey = false;\n",
       "        // Send a \"J\" for go to next cell\n",
       "        event.which = 74;\n",
       "        event.keyCode = 74;\n",
       "        manager.command_mode();\n",
       "        manager.handle_keydown(event);\n",
       "    }\n",
       "}\n",
       "\n",
       "mpl.figure.prototype.handle_save = function(fig, msg) {\n",
       "    fig.ondownload(fig, null);\n",
       "}\n",
       "\n",
       "\n",
       "mpl.find_output_cell = function(html_output) {\n",
       "    // Return the cell and output element which can be found *uniquely* in the notebook.\n",
       "    // Note - this is a bit hacky, but it is done because the \"notebook_saving.Notebook\"\n",
       "    // IPython event is triggered only after the cells have been serialised, which for\n",
       "    // our purposes (turning an active figure into a static one), is too late.\n",
       "    var cells = IPython.notebook.get_cells();\n",
       "    var ncells = cells.length;\n",
       "    for (var i=0; i<ncells; i++) {\n",
       "        var cell = cells[i];\n",
       "        if (cell.cell_type === 'code'){\n",
       "            for (var j=0; j<cell.output_area.outputs.length; j++) {\n",
       "                var data = cell.output_area.outputs[j];\n",
       "                if (data.data) {\n",
       "                    // IPython >= 3 moved mimebundle to data attribute of output\n",
       "                    data = data.data;\n",
       "                }\n",
       "                if (data['text/html'] == html_output) {\n",
       "                    return [cell, data, j];\n",
       "                }\n",
       "            }\n",
       "        }\n",
       "    }\n",
       "}\n",
       "\n",
       "// Register the function which deals with the matplotlib target/channel.\n",
       "// The kernel may be null if the page has been refreshed.\n",
       "if (IPython.notebook.kernel != null) {\n",
       "    IPython.notebook.kernel.comm_manager.register_target('matplotlib', mpl.mpl_figure_comm);\n",
       "}\n"
      ],
      "text/plain": [
       "<IPython.core.display.Javascript object>"
      ]
     },
     "metadata": {},
     "output_type": "display_data"
    },
    {
     "data": {
      "text/html": [
       "<img src=\"data:image/png;base64,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\" width=\"674.4666666666667\">"
      ],
      "text/plain": [
       "<IPython.core.display.HTML object>"
      ]
     },
     "metadata": {},
     "output_type": "display_data"
    }
   ],
   "source": [
    "setup_frq_sweep(fstart=3e9, fstop=4.5e9, fpts=1501, pwr=-50)\n",
    "mag, phase = take_trace(plot=True)"
   ]
  },
  {
   "cell_type": "markdown",
   "metadata": {
    "ExecuteTime": {
     "end_time": "2018-10-15T13:41:13.770824Z",
     "start_time": "2018-10-15T13:41:13.756811Z"
    }
   },
   "source": [
    "# Take a single VNA trace"
   ]
  },
  {
   "cell_type": "code",
   "execution_count": 84,
   "metadata": {
    "ExecuteTime": {
     "end_time": "2018-10-16T08:36:41.227690Z",
     "start_time": "2018-10-16T08:36:35.285779Z"
    }
   },
   "outputs": [
    {
     "name": "stdout",
     "output_type": "stream",
     "text": [
      "Starting experimental run with id: 30\n"
     ]
    }
   ],
   "source": [
    "sweep_obj = vna_trace(fstart=4.355e9, fstop=4.395e9, fpts=4001, chan='S21')\n",
    "\n",
    "result = do_experiment(f\"VNA/{SAMPLE}\", sweep_obj, live_plot=True)"
   ]
  },
  {
   "cell_type": "code",
   "execution_count": null,
   "metadata": {
    "ExecuteTime": {
     "end_time": "2018-10-16T08:32:50.044909Z",
     "start_time": "2018-10-16T08:32:50.039907Z"
    }
   },
   "outputs": [],
   "source": []
  },
  {
   "cell_type": "markdown",
   "metadata": {},
   "source": [
    "# Power dependence"
   ]
  },
  {
   "cell_type": "code",
   "execution_count": 223,
   "metadata": {
    "ExecuteTime": {
     "end_time": "2018-10-17T12:21:35.279291Z",
     "start_time": "2018-10-17T12:21:35.275309Z"
    },
    "collapsed": true
   },
   "outputs": [],
   "source": [
    "vna.S21.avg(10)"
   ]
  },
  {
   "cell_type": "code",
   "execution_count": 224,
   "metadata": {
    "ExecuteTime": {
     "end_time": "2018-10-17T12:28:54.940307Z",
     "start_time": "2018-10-17T12:21:40.956190Z"
    }
   },
   "outputs": [
    {
     "name": "stdout",
     "output_type": "stream",
     "text": [
      "Starting experimental run with id: 100\n"
     ]
    }
   ],
   "source": [
    "sweep_obj = sweep(vna.S21.power, np.arange(-60., -9., 5.))(\n",
    "    vna_trace(fstart=4.355e9, fstop=4.395e9, fpts=4001, chan='S21', bw=1e3)\n",
    ")\n",
    "\n",
    "result = do_experiment(f\"VNA_powersweep/{SAMPLE}\", sweep_obj, live_plot=True)"
   ]
  },
  {
   "cell_type": "code",
   "execution_count": 225,
   "metadata": {
    "ExecuteTime": {
     "end_time": "2018-10-17T12:50:36.141299Z",
     "start_time": "2018-10-17T12:43:22.436626Z"
    }
   },
   "outputs": [
    {
     "name": "stdout",
     "output_type": "stream",
     "text": [
      "Starting experimental run with id: 101\n"
     ]
    }
   ],
   "source": [
    "sweep_obj = sweep(vna.S21.power, np.arange(-60., -9., 5.))(\n",
    "    vna_trace(fstart=3.7555e9, fstop=3.795e9, fpts=4001, chan='S21', bw=1e3)\n",
    ")\n",
    "\n",
    "result = do_experiment(f\"VNA_powersweep/{SAMPLE}\", sweep_obj, live_plot=True)"
   ]
  },
  {
   "cell_type": "code",
   "execution_count": 226,
   "metadata": {
    "ExecuteTime": {
     "end_time": "2018-10-17T12:50:36.141299Z",
     "start_time": "2018-10-17T12:43:22.436626Z"
    }
   },
   "outputs": [
    {
     "name": "stdout",
     "output_type": "stream",
     "text": [
      "Starting experimental run with id: 102\n"
     ]
    }
   ],
   "source": [
    "sweep_obj = sweep(vna.S21.power, np.arange(-60., -9., 5.))(\n",
    "    vna_trace(fstart=3.543e9, fstop=3.5835e9, fpts=4001, chan='S21', bw=1e3)\n",
    ")\n",
    "\n",
    "result = do_experiment(f\"VNA_powersweep/{SAMPLE}\", sweep_obj, live_plot=True)"
   ]
  },
  {
   "cell_type": "code",
   "execution_count": 227,
   "metadata": {
    "ExecuteTime": {
     "end_time": "2018-10-17T12:50:36.141299Z",
     "start_time": "2018-10-17T12:43:22.436626Z"
    }
   },
   "outputs": [
    {
     "name": "stdout",
     "output_type": "stream",
     "text": [
      "Starting experimental run with id: 103\n"
     ]
    }
   ],
   "source": [
    "sweep_obj = sweep(vna.S21.power, np.arange(-60., -9., 5.))(\n",
    "    vna_trace(fstart=3.159e9, fstop=3.199e9, fpts=4001, chan='S21', bw=1e3)\n",
    ")\n",
    "\n",
    "result = do_experiment(f\"VNA_powersweep/{SAMPLE}\", sweep_obj, live_plot=True)"
   ]
  },
  {
   "cell_type": "code",
   "execution_count": 228,
   "metadata": {
    "ExecuteTime": {
     "end_time": "2018-10-17T12:51:17.445061Z",
     "start_time": "2018-10-17T12:50:36.144302Z"
    }
   },
   "outputs": [
    {
     "name": "stdout",
     "output_type": "stream",
     "text": [
      "Starting experimental run with id: 104\n"
     ]
    }
   ],
   "source": [
    "vna.S21.power(-50.0)\n",
    "sweep_obj = vna_trace(fstart=3.0e9, fstop=5.0e9, fpts=4001, chan='S21', bw=1e3)\n",
    "\n",
    "result = do_experiment(f\"VNA/{SAMPLE}\", sweep_obj, live_plot=True)"
   ]
  },
  {
   "cell_type": "markdown",
   "metadata": {},
   "source": [
    "# TWPA pump tune up"
   ]
  },
  {
   "cell_type": "markdown",
   "metadata": {},
   "source": [
    "## VNA as function of pump power"
   ]
  },
  {
   "cell_type": "code",
   "execution_count": 192,
   "metadata": {
    "ExecuteTime": {
     "end_time": "2018-10-16T17:40:02.864453Z",
     "start_time": "2018-10-16T17:40:02.859475Z"
    }
   },
   "outputs": [],
   "source": [
    "# sweep_obj = sweep(twpa_pump.power, np.arange(2.5, 8.5, .2))(\n",
    "#     vna_trace(fstart=2e9, fstop=7e9, fpts=1001, chan='S21', navgs=1)\n",
    "# )\n",
    "\n",
    "# result = do_experiment(f\"VNA_vs_pump_power/{SAMPLE}\", sweep_obj, live_plot=True)"
   ]
  },
  {
   "cell_type": "markdown",
   "metadata": {},
   "source": [
    "## VNA as function of pump frq"
   ]
  },
  {
   "cell_type": "code",
   "execution_count": 193,
   "metadata": {
    "ExecuteTime": {
     "end_time": "2018-10-16T17:40:05.869577Z",
     "start_time": "2018-10-16T17:40:05.864570Z"
    }
   },
   "outputs": [],
   "source": [
    "# sweep_obj = sweep(twpa_pump.frequency, np.arange(7.7e9, 8.4e9, 10e6))(\n",
    "#     vna_trace(fstart=2e9, fstop=7e9, fpts=1001, chan='S21', navgs=1)\n",
    "# )\n",
    "\n",
    "# result = do_experiment(f\"VNA_vs_pump_frequency/{SAMPLE}\", sweep_obj, live_plot=True)"
   ]
  },
  {
   "cell_type": "markdown",
   "metadata": {},
   "source": [
    "## SNR as function of pump params"
   ]
  },
  {
   "cell_type": "code",
   "execution_count": 197,
   "metadata": {
    "ExecuteTime": {
     "end_time": "2018-10-16T17:55:24.637891Z",
     "start_time": "2018-10-16T17:55:24.614902Z"
    }
   },
   "outputs": [],
   "source": [
    "@getter(('signal', 'dB'), ('noise', 'dB'), ('SNR', 'dB'))\n",
    "def get_SNR():\n",
    "    time.sleep(0.01)\n",
    "    mag, phase = take_trace(plot=False)\n",
    "    sig = np.abs(mag) * np.exp(-1j*phase)\n",
    "#     I, Q = sig.real, sig.imag\n",
    "    lin_mean = np.abs(sig.mean())\n",
    "    lin_std = np.abs(sig.std())\n",
    "#     lin_mean = (I.mean()**2. + Q.mean()**2.)**.5\n",
    "#     lin_std = (I.std()**2. + Q.std()**2.)**.5\n",
    "    return 20*np.log10(lin_mean), 20*np.log10(lin_std), 20*np.log10(lin_mean/lin_std)"
   ]
  },
  {
   "cell_type": "code",
   "execution_count": 211,
   "metadata": {
    "ExecuteTime": {
     "end_time": "2018-10-17T07:47:02.298722Z",
     "start_time": "2018-10-17T07:21:09.655434Z"
    }
   },
   "outputs": [
    {
     "name": "stdout",
     "output_type": "stream",
     "text": [
      "Starting experimental run with id: 91\n"
     ]
    }
   ],
   "source": [
    "twpa_pump.on()\n",
    "vna.S21.avg(1)\n",
    "vna.S21.power(-50)\n",
    "setup_zerospan_trace(4.5e9, 201)\n",
    "\n",
    "\n",
    "sweep_obj = sweep(twpa_pump.frequency, np.arange(7.95e9, 8.05e9, 0.5e6))(\n",
    "    sweep(twpa_pump.power, np.arange(0.0, 12.0, .1)))(\n",
    "        measure(get_SNR)\n",
    ")\n",
    "\n",
    "result = do_experiment(f\"TWPA_SNR/{SAMPLE}\", sweep_obj, live_plot=True)"
   ]
  },
  {
   "cell_type": "code",
   "execution_count": 199,
   "metadata": {
    "ExecuteTime": {
     "end_time": "2018-10-16T18:08:29.574846Z",
     "start_time": "2018-10-16T18:08:14.669439Z"
    }
   },
   "outputs": [
    {
     "name": "stdout",
     "output_type": "stream",
     "text": [
      "Starting experimental run with id: 87\n"
     ]
    }
   ],
   "source": [
    "twpa_pump.off()\n",
    "vna.S21.avg(1)\n",
    "vna.S21.power(-50)\n",
    "setup_zerospan_trace(5e9, 201)\n",
    "\n",
    "\n",
    "sweep_obj = sweep(twpa_pump.frequency, np.arange(7.95e9, 8.05e9, 0.5e6))(\n",
    "#     sweep(twpa_pump.power, np.arange(3.0, 8.0, .1)))(\n",
    "        measure(get_SNR)\n",
    ")\n",
    "\n",
    "result = do_experiment(f\"TWPA_SNR/{SAMPLE}\", sweep_obj, live_plot=True)"
   ]
  },
  {
   "cell_type": "code",
   "execution_count": null,
   "metadata": {
    "collapsed": true
   },
   "outputs": [],
   "source": []
  },
  {
   "cell_type": "code",
   "execution_count": 201,
   "metadata": {
    "ExecuteTime": {
     "end_time": "2018-10-16T18:10:15.954103Z",
     "start_time": "2018-10-16T18:10:15.945098Z"
    }
   },
   "outputs": [],
   "source": [
    "runid = 86\n",
    "data = qc.dataset.data_export.load_by_id(runid)"
   ]
  },
  {
   "cell_type": "code",
   "execution_count": 206,
   "metadata": {
    "ExecuteTime": {
     "end_time": "2018-10-16T18:11:05.084403Z",
     "start_time": "2018-10-16T18:11:04.998343Z"
    }
   },
   "outputs": [],
   "source": [
    "SNR = np.array(data.get_data('SNR'))"
   ]
  },
  {
   "cell_type": "code",
   "execution_count": 207,
   "metadata": {
    "ExecuteTime": {
     "end_time": "2018-10-16T18:11:09.853732Z",
     "start_time": "2018-10-16T18:11:09.847728Z"
    }
   },
   "outputs": [
    {
     "data": {
      "text/plain": [
       "34.877032895881101"
      ]
     },
     "execution_count": 207,
     "metadata": {},
     "output_type": "execute_result"
    }
   ],
   "source": [
    "SNR.max()"
   ]
  },
  {
   "cell_type": "markdown",
   "metadata": {},
   "source": [
    "# VNA vs Magnet Measurements"
   ]
  },
  {
   "cell_type": "code",
   "execution_count": 229,
   "metadata": {
    "ExecuteTime": {
     "end_time": "2018-10-18T10:54:17.132613Z",
     "start_time": "2018-10-18T10:54:17.128638Z"
    },
    "collapsed": true
   },
   "outputs": [],
   "source": []
  },
  {
   "cell_type": "code",
   "execution_count": null,
   "metadata": {
    "collapsed": true
   },
   "outputs": [],
   "source": []
  }
 ],
 "metadata": {
  "kernelspec": {
   "display_name": "Python 3",
   "language": "python",
   "name": "python3"
  },
  "language_info": {
   "codemirror_mode": {
    "name": "ipython",
    "version": 3
   },
   "file_extension": ".py",
   "mimetype": "text/x-python",
   "name": "python",
   "nbconvert_exporter": "python",
   "pygments_lexer": "ipython3",
   "version": "3.6.7"
  },
  "toc": {
   "base_numbering": 1,
   "nav_menu": {},
   "number_sections": true,
   "sideBar": true,
   "skip_h1_title": false,
   "title_cell": "Table of Contents",
   "title_sidebar": "Contents",
   "toc_cell": false,
   "toc_position": {
    "height": "calc(100% - 180px)",
    "left": "10px",
    "top": "150px",
    "width": "315px"
   },
   "toc_section_display": true,
   "toc_window_display": true
  }
 },
 "nbformat": 4,
 "nbformat_minor": 2
}

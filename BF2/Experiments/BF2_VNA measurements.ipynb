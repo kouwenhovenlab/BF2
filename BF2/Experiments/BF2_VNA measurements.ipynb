{
 "cells": [
  {
   "cell_type": "code",
   "execution_count": 3,
   "metadata": {
    "ExecuteTime": {
     "end_time": "2019-01-21T09:48:42.446708Z",
     "start_time": "2019-01-21T09:48:42.432724Z"
    },
    "collapsed": true
   },
   "outputs": [],
   "source": [
    "%matplotlib notebook\n",
    "\n",
    "# %qtconsole\n",
    "\n",
    "import logging\n",
    "import time\n",
    "from importlib import reload\n",
    "\n",
    "from matplotlib import pyplot as plt\n",
    "from matplotlib import colors, cm\n",
    "import numpy as np\n",
    "\n",
    "import qcodes as qc\n",
    "from qcodes.dataset.experiment_container import new_experiment"
   ]
  },
  {
   "cell_type": "code",
   "execution_count": 4,
   "metadata": {
    "ExecuteTime": {
     "end_time": "2019-01-21T09:48:44.231856Z",
     "start_time": "2019-01-21T09:48:44.223851Z"
    },
    "collapsed": true
   },
   "outputs": [],
   "source": [
    "from pytopo.qctools import instruments as instools\n",
    "from pytopo.qctools.instruments import create_inst, add2station\n",
    "\n",
    "from pytopo.sweep.base import Nest, Chain\n",
    "from pytopo.sweep.decorators import getter, setter\n",
    "from pytopo.sweep import sweep, do_experiment, hardsweep, measure"
   ]
  },
  {
   "cell_type": "code",
   "execution_count": null,
   "metadata": {
    "collapsed": true
   },
   "outputs": [],
   "source": []
  },
  {
   "cell_type": "markdown",
   "metadata": {},
   "source": [
    "# Define measurement functions"
   ]
  },
  {
   "cell_type": "code",
   "execution_count": 5,
   "metadata": {
    "ExecuteTime": {
     "end_time": "2019-01-21T09:48:45.938804Z",
     "start_time": "2019-01-21T09:48:45.893611Z"
    },
    "collapsed": true
   },
   "outputs": [],
   "source": [
    "def setup_frq_sweep(fstart, fstop, fpts, chan='S21', bw=None, navgs=None, pwr=None):\n",
    "    \"\"\"\n",
    "    Setup a VNA trace.\n",
    "    \n",
    "    assumes that a channel with name chan is already created.\n",
    "    \"\"\"\n",
    "    vna = qc.Station.default.vna\n",
    "    trace = getattr(vna.channels, chan)\n",
    "    \n",
    "    fvals = np.linspace(fstart, fstop, fpts)\n",
    "    trace.start(fstart)\n",
    "    trace.stop(fstop)\n",
    "    trace.npts(fpts)\n",
    "    if navgs is not None:\n",
    "        trace.avg(navgs)\n",
    "    if bw is not None:\n",
    "        trace.bandwidth(bw)\n",
    "    if pwr is not None:\n",
    "        trace.power(pwr)\n",
    "    trace.autoscale()\n",
    "    \n",
    "    if not vna.rf_power():\n",
    "        vna.rf_on()\n",
    "    \n",
    "    return fvals\n",
    "\n",
    "def take_trace(chan='S21', plot=False):\n",
    "    \"\"\"\n",
    "    Get the data of a currently measured trace.\n",
    "    The trace has to be setup already.\n",
    "    \n",
    "    Returns magnitude (in dB) and phase (in rad).\n",
    "    \n",
    "    If plot is true, make a simple plot of the magnitude vs frequency.\n",
    "    \"\"\"\n",
    "    vna = qc.Station.default.vna\n",
    "    trace = getattr(vna.channels, chan)\n",
    "    \n",
    "    fvals = np.linspace(trace.start(), trace.stop(), trace.npts())\n",
    "    mag, phase = trace.trace_mag_phase()\n",
    "    \n",
    "    if plot:\n",
    "        fig, ax = plt.subplots(1, 1)\n",
    "        ax.plot(fvals*1e-9, 20*np.log10(mag))\n",
    "        ax.grid(dashes=[1,1])\n",
    "        ax.set_xlabel('Frequency (GHz)')\n",
    "        ax.set_ylabel('Magnitude (dBm)')\n",
    "        \n",
    "    return mag, phase\n",
    "\n",
    "\n",
    "@hardsweep(\n",
    "    ind=[('frequency', 'Hz', 'array')], \n",
    "    dep=[('amplitude', '', 'array'), ('phase', 'rad', 'array')]\n",
    ")\n",
    "def vna_frequency_sweep(*arg, **kw):\n",
    "    \"\"\"\n",
    "    Measurement function for a simple VNA trace for pytopo.sweep.\n",
    "    \n",
    "    All arguments will be passed to setup_trace.\n",
    "    Return data is as returned by take_trace.\n",
    "    \"\"\"\n",
    "    fvals = setup_frq_sweep(*arg, **kw)\n",
    "    mag, phase = take_trace(plot=False)\n",
    "    \n",
    "    return fvals, np.vstack((mag, phase))\n",
    "\n",
    "\n",
    "@hardsweep(\n",
    "    ind=[('frequency', 'Hz', 'array')], \n",
    "    dep=[('magnitude', 'dB', 'array'), ('phase', 'rad', 'array')]\n",
    ")\n",
    "def vna_frequency_sweep_dB(*arg, **kw):\n",
    "    \"\"\"\n",
    "    Measurement function for a simple VNA trace for pytopo.sweep.\n",
    "    \n",
    "    All arguments will be passed to setup_trace.\n",
    "    Return data is as returned by take_trace.\n",
    "    \"\"\"\n",
    "    fvals = setup_frq_sweep(*arg, **kw)\n",
    "    mag, phase = take_trace(plot=False)\n",
    "    \n",
    "    return fvals, np.vstack((20*np.log10(mag), phase))\n",
    "\n",
    "\n",
    "def setup_zerospan_trace(frq, npts, chan='S21', span=1.):\n",
    "    \"\"\"\n",
    "    Setup the VNA to measure a trace around <frq> with <npts> samples\n",
    "    in a very narray frequency span.\n",
    "    \"\"\"\n",
    "    vna = qc.Station.default.vna\n",
    "    trace = getattr(vna.channels, chan)\n",
    "    \n",
    "    trace.center(frq)\n",
    "    trace.span(span)\n",
    "    trace.npts(npts)\n",
    "    \n",
    "    trace.autoscale()\n",
    "    \n",
    "    if not vna.rf_power():\n",
    "        vna.rf_on()\n",
    "\n",
    "\n",
    "@hardsweep(\n",
    "    ind=[('iteration', '', 'array')], \n",
    "    dep=[('amplitude', '', 'array'), ('phase', 'rad', 'array')]\n",
    ")\n",
    "def vna_timetrace(*arg, **kw):\n",
    "    \"\"\"\n",
    "    Measure a 'time trace', emulated by a narrow span trace with many points.\n",
    "    \"\"\"\n",
    "    setup_zerospan_trace(*arg, **kw)\n",
    "    mag, phase = take_trace(plot=False)\n",
    "    \n",
    "    return np.arange(mag.size), np.vstack((mag, phase))\n",
    "\n",
    "\n",
    "@hardsweep(\n",
    "    ind=[('iteration', '', 'array')], \n",
    "    dep=[('magnitude', 'dB', 'array'), ('phase', 'rad', 'array')]\n",
    ")\n",
    "def vna_timetrace(*arg, **kw):\n",
    "    \"\"\"\n",
    "    Measure a 'time trace', emulated by a narrow span trace with many points.\n",
    "    \"\"\"\n",
    "    setup_zerospan_trace(*arg, **kw)\n",
    "    mag, phase = take_trace(plot=False)\n",
    "    \n",
    "    return np.arange(mag.size), np.vstack((20*np.log10(mag), phase))"
   ]
  },
  {
   "cell_type": "markdown",
   "metadata": {},
   "source": [
    "# Init station"
   ]
  },
  {
   "cell_type": "markdown",
   "metadata": {},
   "source": [
    "## Global variables"
   ]
  },
  {
   "cell_type": "code",
   "execution_count": 6,
   "metadata": {
    "ExecuteTime": {
     "end_time": "2019-01-21T09:49:01.184365Z",
     "start_time": "2019-01-21T09:49:01.180365Z"
    },
    "collapsed": true
   },
   "outputs": [],
   "source": [
    "SAMPLE = \"181002_67_d2_CD20190121\""
   ]
  },
  {
   "cell_type": "markdown",
   "metadata": {},
   "source": [
    "## Init instruments"
   ]
  },
  {
   "cell_type": "code",
   "execution_count": 7,
   "metadata": {
    "ExecuteTime": {
     "end_time": "2019-01-21T09:49:05.102841Z",
     "start_time": "2019-01-21T09:49:02.773216Z"
    }
   },
   "outputs": [
    {
     "name": "stdout",
     "output_type": "stream",
     "text": [
      "Connected to: Rohde-Schwarz ZNB20-2Port (serial:1311601062101971, firmware:2.90) in 0.73s\n",
      "Initialized IVVI-rack in 0.04s\n"
     ]
    }
   ],
   "source": [
    "%run -i \"D:\\OneDrive\\BF2\\Code\\BF2\\BF2\\init_station_cqedVNA.py\""
   ]
  },
  {
   "cell_type": "code",
   "execution_count": 8,
   "metadata": {
    "ExecuteTime": {
     "end_time": "2019-01-21T09:49:16.720121Z",
     "start_time": "2019-01-21T09:49:16.450933Z"
    }
   },
   "outputs": [
    {
     "ename": "AttributeError",
     "evalue": "'Parameter' object has no attribute 'set_step'",
     "output_type": "error",
     "traceback": [
      "\u001b[1;31m---------------------------------------------------------------------------\u001b[0m",
      "\u001b[1;31mAttributeError\u001b[0m                            Traceback (most recent call last)",
      "\u001b[1;32mD:\\OneDrive\\BF2\\Code\\BF2\\BF2\\init_station_cqedVNA.py\u001b[0m in \u001b[0;36m<module>\u001b[1;34m\u001b[0m\n\u001b[0;32m      1\u001b[0m \u001b[0mnumdacs\u001b[0m \u001b[1;33m=\u001b[0m \u001b[0mint\u001b[0m\u001b[1;33m(\u001b[0m\u001b[0mstation\u001b[0m\u001b[1;33m.\u001b[0m\u001b[0mivvi\u001b[0m\u001b[1;33m.\u001b[0m\u001b[0m_numdacs\u001b[0m\u001b[1;33m)\u001b[0m\u001b[1;33m\u001b[0m\u001b[0m\n\u001b[0;32m      2\u001b[0m \u001b[1;32mfor\u001b[0m \u001b[0mi\u001b[0m \u001b[1;32min\u001b[0m \u001b[0mrange\u001b[0m\u001b[1;33m(\u001b[0m\u001b[1;36m1\u001b[0m\u001b[1;33m,\u001b[0m \u001b[0mnumdacs\u001b[0m\u001b[1;33m+\u001b[0m\u001b[1;36m1\u001b[0m\u001b[1;33m)\u001b[0m\u001b[1;33m:\u001b[0m\u001b[1;33m\u001b[0m\u001b[0m\n\u001b[1;32m----> 3\u001b[1;33m     \u001b[0mstation\u001b[0m\u001b[1;33m.\u001b[0m\u001b[0mivvi\u001b[0m\u001b[1;33m.\u001b[0m\u001b[0mparameters\u001b[0m\u001b[1;33m[\u001b[0m\u001b[1;34m'dac{}'\u001b[0m\u001b[1;33m.\u001b[0m\u001b[0mformat\u001b[0m\u001b[1;33m(\u001b[0m\u001b[0mi\u001b[0m\u001b[1;33m)\u001b[0m\u001b[1;33m]\u001b[0m\u001b[1;33m.\u001b[0m\u001b[0mset_step\u001b[0m\u001b[1;33m(\u001b[0m\u001b[1;36m10\u001b[0m\u001b[1;33m)\u001b[0m\u001b[1;33m\u001b[0m\u001b[0m\n\u001b[0m\u001b[0;32m      4\u001b[0m     \u001b[0mstation\u001b[0m\u001b[1;33m.\u001b[0m\u001b[0mivvi\u001b[0m\u001b[1;33m.\u001b[0m\u001b[0mparameters\u001b[0m\u001b[1;33m[\u001b[0m\u001b[1;34m'dac{}'\u001b[0m\u001b[1;33m.\u001b[0m\u001b[0mformat\u001b[0m\u001b[1;33m(\u001b[0m\u001b[0mi\u001b[0m\u001b[1;33m)\u001b[0m\u001b[1;33m]\u001b[0m\u001b[1;33m.\u001b[0m\u001b[0mset_delay\u001b[0m\u001b[1;33m(\u001b[0m\u001b[1;36m0.001\u001b[0m\u001b[1;33m)\u001b[0m\u001b[1;33m\u001b[0m\u001b[0m\n",
      "\u001b[1;31mAttributeError\u001b[0m: 'Parameter' object has no attribute 'set_step'"
     ]
    }
   ],
   "source": [
    "numdacs = int(station.ivvi._numdacs)\n",
    "for i in range(1, numdacs+1):\n",
    "    station.ivvi.parameters['dac{}'.format(i)].set_step(10)\n",
    "    station.ivvi.parameters['dac{}'.format(i)].set_delay(0.001)"
   ]
  },
  {
   "cell_type": "code",
   "execution_count": null,
   "metadata": {
    "ExecuteTime": {
     "end_time": "2018-11-27T18:15:05.492332Z",
     "start_time": "2018-11-27T18:15:05.351Z"
    },
    "collapsed": true
   },
   "outputs": [],
   "source": [
    "from qcodes.instrument_drivers.Keysight.Keysight_34465A import Keysight_34465A\n",
    "keysight = create_inst(\n",
    "    Keysight_34465A, 'keysight', address='TCPIP::169.254.4.61::inst0::INSTR', force_new_instance=True)\n",
    "add2station(station, keysight)\n"
   ]
  },
  {
   "cell_type": "code",
   "execution_count": 29,
   "metadata": {
    "ExecuteTime": {
     "end_time": "2019-01-21T14:18:16.144681Z",
     "start_time": "2019-01-21T14:18:16.046640Z"
    }
   },
   "outputs": [
    {
     "name": "stdout",
     "output_type": "stream",
     "text": [
      "Connected to: YOKOGAWA GS210 (serial:91T926459, firmware:2.02) in 0.05s\n"
     ]
    },
    {
     "name": "stderr",
     "output_type": "stream",
     "text": [
      "[yoko(GS200)] Snapshot: Could not update parameter: current_range\n",
      "[yoko(GS200)] Snapshot: Could not update parameter: current\n"
     ]
    },
    {
     "data": {
      "text/plain": [
       "<qcodes.station.Station at 0x1e5e66025f8>"
      ]
     },
     "execution_count": 29,
     "metadata": {},
     "output_type": "execute_result"
    }
   ],
   "source": [
    "from qcodes.instrument_drivers.yokogawa.GS200 import GS200\n",
    "yoko = create_inst(\n",
    "    GS200, 'yoko', address='TCPIP::169.254.1.9::inst0::INSTR', force_new_instance=True)\n",
    "add2station(station, yoko)"
   ]
  },
  {
   "cell_type": "code",
   "execution_count": 54,
   "metadata": {
    "ExecuteTime": {
     "end_time": "2019-01-21T17:21:31.608609Z",
     "start_time": "2019-01-21T17:21:31.503536Z"
    }
   },
   "outputs": [
    {
     "name": "stdout",
     "output_type": "stream",
     "text": [
      "Connected to: Rohde&Schwarz SGS100A (serial:1416.0505k02/110531, firmware:3.1.19.15-3.50.124.67) in 0.05s\n"
     ]
    },
    {
     "data": {
      "text/plain": [
       "<qcodes.station.Station at 0x1e5e66025f8>"
      ]
     },
     "execution_count": 54,
     "metadata": {},
     "output_type": "execute_result"
    }
   ],
   "source": [
    "from qcodes.instrument_drivers.rohde_schwarz.SGS100A import RohdeSchwarz_SGS100A\n",
    "TWPA = instools.create_inst(RohdeSchwarz_SGS100A, 'TWPA', address=\"TCPIP0::169.254.167.18\", force_new_instance=True)\n",
    "add2station(station, TWPA)"
   ]
  },
  {
   "cell_type": "markdown",
   "metadata": {
    "ExecuteTime": {
     "end_time": "2018-11-10T17:42:25.845771Z",
     "start_time": "2018-11-10T17:42:25.434487Z"
    }
   },
   "source": [
    "# Setup specific tools"
   ]
  },
  {
   "cell_type": "code",
   "execution_count": 9,
   "metadata": {
    "ExecuteTime": {
     "end_time": "2019-01-21T09:49:22.487560Z",
     "start_time": "2019-01-21T09:49:22.075558Z"
    },
    "collapsed": true
   },
   "outputs": [],
   "source": [
    "station.ivvi.set_dacs_zero()"
   ]
  },
  {
   "cell_type": "code",
   "execution_count": null,
   "metadata": {
    "ExecuteTime": {
     "end_time": "2018-12-29T12:12:25.809649Z",
     "start_time": "2018-12-29T12:12:25.775625Z"
    },
    "collapsed": true
   },
   "outputs": [],
   "source": [
    "station.ivvi.dac14()"
   ]
  },
  {
   "cell_type": "code",
   "execution_count": 10,
   "metadata": {
    "ExecuteTime": {
     "end_time": "2019-01-21T09:49:33.136794Z",
     "start_time": "2019-01-21T09:49:33.116779Z"
    },
    "collapsed": true
   },
   "outputs": [],
   "source": [
    "dac_cutter1 = station.ivvi.dac1\n",
    "dac_cutter14= station.ivvi.dac2\n",
    "dac_plunger3 = station.ivvi.dac7\n",
    "dac_plunger7 = station.ivvi.dac4\n",
    "dac_plunger16 = station.ivvi.dac5\n",
    "dac_plunger20 = station.ivvi.dac6\n",
    "\n",
    "@setter(('cutters', 'mV'),)\n",
    "def set_cutters(val):\n",
    "    \"\"\"\n",
    "    Set both cutters (on all devices) to val (in mV).\n",
    "    \"\"\"\n",
    "    dac_cutter1(val)\n",
    "    dac_cutter14(val)\n",
    "    return val\n",
    "\n",
    "\n",
    "@setter(('plungers_16_20', 'mV'),)\n",
    "def set_plungers_a(val):\n",
    "    \"\"\"\n",
    "    Set all plungers to val (in mV).\n",
    "    \"\"\"\n",
    "    dac_plunger16(val)\n",
    "    dac_plunger20(val)\n",
    "    return val\n",
    "\n",
    "@setter(('plungers_3_20', 'mV'),)\n",
    "def set_plungers_b(val):\n",
    "    \"\"\"\n",
    "    Set all plungers to val (in mV).\n",
    "    \"\"\"\n",
    "    dac_plunger3(val)\n",
    "    dac_plunger20(val)\n",
    "    return val\n",
    "\n",
    "@setter(('plungers_7_3', 'mV'),)\n",
    "def set_plungers_d(val):\n",
    "    \"\"\"\n",
    "    Set all plungers to val (in mV).\n",
    "    \"\"\"\n",
    "    dac_plunger7(val)\n",
    "    dac_plunger3(val)\n",
    "    return val\n",
    "\n",
    "@setter(('plungers_7_16', 'mV'),)\n",
    "def set_plungers_c(val):\n",
    "    \"\"\"\n",
    "    Set all plungers to val (in mV).\n",
    "    \"\"\"\n",
    "    dac_plunger16(val)\n",
    "    dac_plunger7(val)\n",
    "    return val\n",
    "\n",
    "\n",
    "@setter(('flux_A', 'V'),)\n",
    "def set_flux(val):\n",
    "    \"\"\"\n",
    "    Set yoko to val (in V).\n",
    "    \"\"\"\n",
    "    yoko.voltage(val)\n",
    "    return val"
   ]
  },
  {
   "cell_type": "markdown",
   "metadata": {
    "heading_collapsed": true
   },
   "source": [
    "## Using the Oxford power supply with the AMI magnet"
   ]
  },
  {
   "cell_type": "code",
   "execution_count": null,
   "metadata": {
    "ExecuteTime": {
     "end_time": "2018-11-27T18:15:28.130173Z",
     "start_time": "2018-11-27T18:15:28.079135Z"
    },
    "collapsed": true,
    "hidden": true
   },
   "outputs": [],
   "source": [
    "\n",
    "xconvert = 68.3/station.mgnt.GRPX.ATOB()\n",
    "yconvert = 67.7/station.mgnt.GRPY.ATOB()\n",
    "zconvert = 11.96/station.mgnt.GRPZ.ATOB()\n",
    "\n",
    "@setter(('magnet_x', 'T'),) \n",
    "def set_magnet_x(val):\n",
    "    \"\"\"\n",
    "    Set magnet x\n",
    "    \"\"\"\n",
    "    realxval = xconvert*val\n",
    "    station.mgnt.x_target(realxval)\n",
    "    station.mgnt.ramp(mode='safe')\n",
    "    return val\n",
    "\n",
    "@setter(('magnet_y', 'T'),)\n",
    "def set_magnet_y(val):\n",
    "    \"\"\"\n",
    "    Set magnet y\n",
    "    \"\"\"\n",
    "    realyval = yconvert*val\n",
    "    station.mgnt.y_target(realyval)\n",
    "    station.mgnt.ramp(mode='safe')\n",
    "    return val\n",
    "\n",
    "@setter(('magnet_z', 'T'),)\n",
    "def set_magnet_z(val):\n",
    "    \"\"\"\n",
    "    Set magnet z\n",
    "    \"\"\"\n",
    "    realzval = zconvert*val\n",
    "    station.mgnt.z_target(realzval)\n",
    "    station.mgnt.ramp(mode='safe')\n",
    "    return val"
   ]
  },
  {
   "cell_type": "markdown",
   "metadata": {},
   "source": [
    "# VNA measurements"
   ]
  },
  {
   "cell_type": "code",
   "execution_count": 11,
   "metadata": {
    "ExecuteTime": {
     "end_time": "2019-01-21T09:52:26.838830Z",
     "start_time": "2019-01-21T09:52:26.804805Z"
    },
    "collapsed": true
   },
   "outputs": [],
   "source": [
    "# the VNA driver has some weird default settings. \n",
    "# Make sure here that we measure what we want\n",
    "station.vna.clear_channels()\n",
    "station.vna.add_channel('S21')\n",
    "station.vna.rf_off()"
   ]
  },
  {
   "cell_type": "code",
   "execution_count": 82,
   "metadata": {
    "ExecuteTime": {
     "end_time": "2019-01-22T11:36:57.964419Z",
     "start_time": "2019-01-22T11:36:53.362735Z"
    },
    "scrolled": true
   },
   "outputs": [
    {
     "data": {
      "application/javascript": [
       "/* Put everything inside the global mpl namespace */\n",
       "window.mpl = {};\n",
       "\n",
       "\n",
       "mpl.get_websocket_type = function() {\n",
       "    if (typeof(WebSocket) !== 'undefined') {\n",
       "        return WebSocket;\n",
       "    } else if (typeof(MozWebSocket) !== 'undefined') {\n",
       "        return MozWebSocket;\n",
       "    } else {\n",
       "        alert('Your browser does not have WebSocket support.' +\n",
       "              'Please try Chrome, Safari or Firefox ≥ 6. ' +\n",
       "              'Firefox 4 and 5 are also supported but you ' +\n",
       "              'have to enable WebSockets in about:config.');\n",
       "    };\n",
       "}\n",
       "\n",
       "mpl.figure = function(figure_id, websocket, ondownload, parent_element) {\n",
       "    this.id = figure_id;\n",
       "\n",
       "    this.ws = websocket;\n",
       "\n",
       "    this.supports_binary = (this.ws.binaryType != undefined);\n",
       "\n",
       "    if (!this.supports_binary) {\n",
       "        var warnings = document.getElementById(\"mpl-warnings\");\n",
       "        if (warnings) {\n",
       "            warnings.style.display = 'block';\n",
       "            warnings.textContent = (\n",
       "                \"This browser does not support binary websocket messages. \" +\n",
       "                    \"Performance may be slow.\");\n",
       "        }\n",
       "    }\n",
       "\n",
       "    this.imageObj = new Image();\n",
       "\n",
       "    this.context = undefined;\n",
       "    this.message = undefined;\n",
       "    this.canvas = undefined;\n",
       "    this.rubberband_canvas = undefined;\n",
       "    this.rubberband_context = undefined;\n",
       "    this.format_dropdown = undefined;\n",
       "\n",
       "    this.image_mode = 'full';\n",
       "\n",
       "    this.root = $('<div/>');\n",
       "    this._root_extra_style(this.root)\n",
       "    this.root.attr('style', 'display: inline-block');\n",
       "\n",
       "    $(parent_element).append(this.root);\n",
       "\n",
       "    this._init_header(this);\n",
       "    this._init_canvas(this);\n",
       "    this._init_toolbar(this);\n",
       "\n",
       "    var fig = this;\n",
       "\n",
       "    this.waiting = false;\n",
       "\n",
       "    this.ws.onopen =  function () {\n",
       "            fig.send_message(\"supports_binary\", {value: fig.supports_binary});\n",
       "            fig.send_message(\"send_image_mode\", {});\n",
       "            if (mpl.ratio != 1) {\n",
       "                fig.send_message(\"set_dpi_ratio\", {'dpi_ratio': mpl.ratio});\n",
       "            }\n",
       "            fig.send_message(\"refresh\", {});\n",
       "        }\n",
       "\n",
       "    this.imageObj.onload = function() {\n",
       "            if (fig.image_mode == 'full') {\n",
       "                // Full images could contain transparency (where diff images\n",
       "                // almost always do), so we need to clear the canvas so that\n",
       "                // there is no ghosting.\n",
       "                fig.context.clearRect(0, 0, fig.canvas.width, fig.canvas.height);\n",
       "            }\n",
       "            fig.context.drawImage(fig.imageObj, 0, 0);\n",
       "        };\n",
       "\n",
       "    this.imageObj.onunload = function() {\n",
       "        fig.ws.close();\n",
       "    }\n",
       "\n",
       "    this.ws.onmessage = this._make_on_message_function(this);\n",
       "\n",
       "    this.ondownload = ondownload;\n",
       "}\n",
       "\n",
       "mpl.figure.prototype._init_header = function() {\n",
       "    var titlebar = $(\n",
       "        '<div class=\"ui-dialog-titlebar ui-widget-header ui-corner-all ' +\n",
       "        'ui-helper-clearfix\"/>');\n",
       "    var titletext = $(\n",
       "        '<div class=\"ui-dialog-title\" style=\"width: 100%; ' +\n",
       "        'text-align: center; padding: 3px;\"/>');\n",
       "    titlebar.append(titletext)\n",
       "    this.root.append(titlebar);\n",
       "    this.header = titletext[0];\n",
       "}\n",
       "\n",
       "\n",
       "\n",
       "mpl.figure.prototype._canvas_extra_style = function(canvas_div) {\n",
       "\n",
       "}\n",
       "\n",
       "\n",
       "mpl.figure.prototype._root_extra_style = function(canvas_div) {\n",
       "\n",
       "}\n",
       "\n",
       "mpl.figure.prototype._init_canvas = function() {\n",
       "    var fig = this;\n",
       "\n",
       "    var canvas_div = $('<div/>');\n",
       "\n",
       "    canvas_div.attr('style', 'position: relative; clear: both; outline: 0');\n",
       "\n",
       "    function canvas_keyboard_event(event) {\n",
       "        return fig.key_event(event, event['data']);\n",
       "    }\n",
       "\n",
       "    canvas_div.keydown('key_press', canvas_keyboard_event);\n",
       "    canvas_div.keyup('key_release', canvas_keyboard_event);\n",
       "    this.canvas_div = canvas_div\n",
       "    this._canvas_extra_style(canvas_div)\n",
       "    this.root.append(canvas_div);\n",
       "\n",
       "    var canvas = $('<canvas/>');\n",
       "    canvas.addClass('mpl-canvas');\n",
       "    canvas.attr('style', \"left: 0; top: 0; z-index: 0; outline: 0\")\n",
       "\n",
       "    this.canvas = canvas[0];\n",
       "    this.context = canvas[0].getContext(\"2d\");\n",
       "\n",
       "    var backingStore = this.context.backingStorePixelRatio ||\n",
       "\tthis.context.webkitBackingStorePixelRatio ||\n",
       "\tthis.context.mozBackingStorePixelRatio ||\n",
       "\tthis.context.msBackingStorePixelRatio ||\n",
       "\tthis.context.oBackingStorePixelRatio ||\n",
       "\tthis.context.backingStorePixelRatio || 1;\n",
       "\n",
       "    mpl.ratio = (window.devicePixelRatio || 1) / backingStore;\n",
       "\n",
       "    var rubberband = $('<canvas/>');\n",
       "    rubberband.attr('style', \"position: absolute; left: 0; top: 0; z-index: 1;\")\n",
       "\n",
       "    var pass_mouse_events = true;\n",
       "\n",
       "    canvas_div.resizable({\n",
       "        start: function(event, ui) {\n",
       "            pass_mouse_events = false;\n",
       "        },\n",
       "        resize: function(event, ui) {\n",
       "            fig.request_resize(ui.size.width, ui.size.height);\n",
       "        },\n",
       "        stop: function(event, ui) {\n",
       "            pass_mouse_events = true;\n",
       "            fig.request_resize(ui.size.width, ui.size.height);\n",
       "        },\n",
       "    });\n",
       "\n",
       "    function mouse_event_fn(event) {\n",
       "        if (pass_mouse_events)\n",
       "            return fig.mouse_event(event, event['data']);\n",
       "    }\n",
       "\n",
       "    rubberband.mousedown('button_press', mouse_event_fn);\n",
       "    rubberband.mouseup('button_release', mouse_event_fn);\n",
       "    // Throttle sequential mouse events to 1 every 20ms.\n",
       "    rubberband.mousemove('motion_notify', mouse_event_fn);\n",
       "\n",
       "    rubberband.mouseenter('figure_enter', mouse_event_fn);\n",
       "    rubberband.mouseleave('figure_leave', mouse_event_fn);\n",
       "\n",
       "    canvas_div.on(\"wheel\", function (event) {\n",
       "        event = event.originalEvent;\n",
       "        event['data'] = 'scroll'\n",
       "        if (event.deltaY < 0) {\n",
       "            event.step = 1;\n",
       "        } else {\n",
       "            event.step = -1;\n",
       "        }\n",
       "        mouse_event_fn(event);\n",
       "    });\n",
       "\n",
       "    canvas_div.append(canvas);\n",
       "    canvas_div.append(rubberband);\n",
       "\n",
       "    this.rubberband = rubberband;\n",
       "    this.rubberband_canvas = rubberband[0];\n",
       "    this.rubberband_context = rubberband[0].getContext(\"2d\");\n",
       "    this.rubberband_context.strokeStyle = \"#000000\";\n",
       "\n",
       "    this._resize_canvas = function(width, height) {\n",
       "        // Keep the size of the canvas, canvas container, and rubber band\n",
       "        // canvas in synch.\n",
       "        canvas_div.css('width', width)\n",
       "        canvas_div.css('height', height)\n",
       "\n",
       "        canvas.attr('width', width * mpl.ratio);\n",
       "        canvas.attr('height', height * mpl.ratio);\n",
       "        canvas.attr('style', 'width: ' + width + 'px; height: ' + height + 'px;');\n",
       "\n",
       "        rubberband.attr('width', width);\n",
       "        rubberband.attr('height', height);\n",
       "    }\n",
       "\n",
       "    // Set the figure to an initial 600x600px, this will subsequently be updated\n",
       "    // upon first draw.\n",
       "    this._resize_canvas(600, 600);\n",
       "\n",
       "    // Disable right mouse context menu.\n",
       "    $(this.rubberband_canvas).bind(\"contextmenu\",function(e){\n",
       "        return false;\n",
       "    });\n",
       "\n",
       "    function set_focus () {\n",
       "        canvas.focus();\n",
       "        canvas_div.focus();\n",
       "    }\n",
       "\n",
       "    window.setTimeout(set_focus, 100);\n",
       "}\n",
       "\n",
       "mpl.figure.prototype._init_toolbar = function() {\n",
       "    var fig = this;\n",
       "\n",
       "    var nav_element = $('<div/>')\n",
       "    nav_element.attr('style', 'width: 100%');\n",
       "    this.root.append(nav_element);\n",
       "\n",
       "    // Define a callback function for later on.\n",
       "    function toolbar_event(event) {\n",
       "        return fig.toolbar_button_onclick(event['data']);\n",
       "    }\n",
       "    function toolbar_mouse_event(event) {\n",
       "        return fig.toolbar_button_onmouseover(event['data']);\n",
       "    }\n",
       "\n",
       "    for(var toolbar_ind in mpl.toolbar_items) {\n",
       "        var name = mpl.toolbar_items[toolbar_ind][0];\n",
       "        var tooltip = mpl.toolbar_items[toolbar_ind][1];\n",
       "        var image = mpl.toolbar_items[toolbar_ind][2];\n",
       "        var method_name = mpl.toolbar_items[toolbar_ind][3];\n",
       "\n",
       "        if (!name) {\n",
       "            // put a spacer in here.\n",
       "            continue;\n",
       "        }\n",
       "        var button = $('<button/>');\n",
       "        button.addClass('ui-button ui-widget ui-state-default ui-corner-all ' +\n",
       "                        'ui-button-icon-only');\n",
       "        button.attr('role', 'button');\n",
       "        button.attr('aria-disabled', 'false');\n",
       "        button.click(method_name, toolbar_event);\n",
       "        button.mouseover(tooltip, toolbar_mouse_event);\n",
       "\n",
       "        var icon_img = $('<span/>');\n",
       "        icon_img.addClass('ui-button-icon-primary ui-icon');\n",
       "        icon_img.addClass(image);\n",
       "        icon_img.addClass('ui-corner-all');\n",
       "\n",
       "        var tooltip_span = $('<span/>');\n",
       "        tooltip_span.addClass('ui-button-text');\n",
       "        tooltip_span.html(tooltip);\n",
       "\n",
       "        button.append(icon_img);\n",
       "        button.append(tooltip_span);\n",
       "\n",
       "        nav_element.append(button);\n",
       "    }\n",
       "\n",
       "    var fmt_picker_span = $('<span/>');\n",
       "\n",
       "    var fmt_picker = $('<select/>');\n",
       "    fmt_picker.addClass('mpl-toolbar-option ui-widget ui-widget-content');\n",
       "    fmt_picker_span.append(fmt_picker);\n",
       "    nav_element.append(fmt_picker_span);\n",
       "    this.format_dropdown = fmt_picker[0];\n",
       "\n",
       "    for (var ind in mpl.extensions) {\n",
       "        var fmt = mpl.extensions[ind];\n",
       "        var option = $(\n",
       "            '<option/>', {selected: fmt === mpl.default_extension}).html(fmt);\n",
       "        fmt_picker.append(option)\n",
       "    }\n",
       "\n",
       "    // Add hover states to the ui-buttons\n",
       "    $( \".ui-button\" ).hover(\n",
       "        function() { $(this).addClass(\"ui-state-hover\");},\n",
       "        function() { $(this).removeClass(\"ui-state-hover\");}\n",
       "    );\n",
       "\n",
       "    var status_bar = $('<span class=\"mpl-message\"/>');\n",
       "    nav_element.append(status_bar);\n",
       "    this.message = status_bar[0];\n",
       "}\n",
       "\n",
       "mpl.figure.prototype.request_resize = function(x_pixels, y_pixels) {\n",
       "    // Request matplotlib to resize the figure. Matplotlib will then trigger a resize in the client,\n",
       "    // which will in turn request a refresh of the image.\n",
       "    this.send_message('resize', {'width': x_pixels, 'height': y_pixels});\n",
       "}\n",
       "\n",
       "mpl.figure.prototype.send_message = function(type, properties) {\n",
       "    properties['type'] = type;\n",
       "    properties['figure_id'] = this.id;\n",
       "    this.ws.send(JSON.stringify(properties));\n",
       "}\n",
       "\n",
       "mpl.figure.prototype.send_draw_message = function() {\n",
       "    if (!this.waiting) {\n",
       "        this.waiting = true;\n",
       "        this.ws.send(JSON.stringify({type: \"draw\", figure_id: this.id}));\n",
       "    }\n",
       "}\n",
       "\n",
       "\n",
       "mpl.figure.prototype.handle_save = function(fig, msg) {\n",
       "    var format_dropdown = fig.format_dropdown;\n",
       "    var format = format_dropdown.options[format_dropdown.selectedIndex].value;\n",
       "    fig.ondownload(fig, format);\n",
       "}\n",
       "\n",
       "\n",
       "mpl.figure.prototype.handle_resize = function(fig, msg) {\n",
       "    var size = msg['size'];\n",
       "    if (size[0] != fig.canvas.width || size[1] != fig.canvas.height) {\n",
       "        fig._resize_canvas(size[0], size[1]);\n",
       "        fig.send_message(\"refresh\", {});\n",
       "    };\n",
       "}\n",
       "\n",
       "mpl.figure.prototype.handle_rubberband = function(fig, msg) {\n",
       "    var x0 = msg['x0'] / mpl.ratio;\n",
       "    var y0 = (fig.canvas.height - msg['y0']) / mpl.ratio;\n",
       "    var x1 = msg['x1'] / mpl.ratio;\n",
       "    var y1 = (fig.canvas.height - msg['y1']) / mpl.ratio;\n",
       "    x0 = Math.floor(x0) + 0.5;\n",
       "    y0 = Math.floor(y0) + 0.5;\n",
       "    x1 = Math.floor(x1) + 0.5;\n",
       "    y1 = Math.floor(y1) + 0.5;\n",
       "    var min_x = Math.min(x0, x1);\n",
       "    var min_y = Math.min(y0, y1);\n",
       "    var width = Math.abs(x1 - x0);\n",
       "    var height = Math.abs(y1 - y0);\n",
       "\n",
       "    fig.rubberband_context.clearRect(\n",
       "        0, 0, fig.canvas.width, fig.canvas.height);\n",
       "\n",
       "    fig.rubberband_context.strokeRect(min_x, min_y, width, height);\n",
       "}\n",
       "\n",
       "mpl.figure.prototype.handle_figure_label = function(fig, msg) {\n",
       "    // Updates the figure title.\n",
       "    fig.header.textContent = msg['label'];\n",
       "}\n",
       "\n",
       "mpl.figure.prototype.handle_cursor = function(fig, msg) {\n",
       "    var cursor = msg['cursor'];\n",
       "    switch(cursor)\n",
       "    {\n",
       "    case 0:\n",
       "        cursor = 'pointer';\n",
       "        break;\n",
       "    case 1:\n",
       "        cursor = 'default';\n",
       "        break;\n",
       "    case 2:\n",
       "        cursor = 'crosshair';\n",
       "        break;\n",
       "    case 3:\n",
       "        cursor = 'move';\n",
       "        break;\n",
       "    }\n",
       "    fig.rubberband_canvas.style.cursor = cursor;\n",
       "}\n",
       "\n",
       "mpl.figure.prototype.handle_message = function(fig, msg) {\n",
       "    fig.message.textContent = msg['message'];\n",
       "}\n",
       "\n",
       "mpl.figure.prototype.handle_draw = function(fig, msg) {\n",
       "    // Request the server to send over a new figure.\n",
       "    fig.send_draw_message();\n",
       "}\n",
       "\n",
       "mpl.figure.prototype.handle_image_mode = function(fig, msg) {\n",
       "    fig.image_mode = msg['mode'];\n",
       "}\n",
       "\n",
       "mpl.figure.prototype.updated_canvas_event = function() {\n",
       "    // Called whenever the canvas gets updated.\n",
       "    this.send_message(\"ack\", {});\n",
       "}\n",
       "\n",
       "// A function to construct a web socket function for onmessage handling.\n",
       "// Called in the figure constructor.\n",
       "mpl.figure.prototype._make_on_message_function = function(fig) {\n",
       "    return function socket_on_message(evt) {\n",
       "        if (evt.data instanceof Blob) {\n",
       "            /* FIXME: We get \"Resource interpreted as Image but\n",
       "             * transferred with MIME type text/plain:\" errors on\n",
       "             * Chrome.  But how to set the MIME type?  It doesn't seem\n",
       "             * to be part of the websocket stream */\n",
       "            evt.data.type = \"image/png\";\n",
       "\n",
       "            /* Free the memory for the previous frames */\n",
       "            if (fig.imageObj.src) {\n",
       "                (window.URL || window.webkitURL).revokeObjectURL(\n",
       "                    fig.imageObj.src);\n",
       "            }\n",
       "\n",
       "            fig.imageObj.src = (window.URL || window.webkitURL).createObjectURL(\n",
       "                evt.data);\n",
       "            fig.updated_canvas_event();\n",
       "            fig.waiting = false;\n",
       "            return;\n",
       "        }\n",
       "        else if (typeof evt.data === 'string' && evt.data.slice(0, 21) == \"data:image/png;base64\") {\n",
       "            fig.imageObj.src = evt.data;\n",
       "            fig.updated_canvas_event();\n",
       "            fig.waiting = false;\n",
       "            return;\n",
       "        }\n",
       "\n",
       "        var msg = JSON.parse(evt.data);\n",
       "        var msg_type = msg['type'];\n",
       "\n",
       "        // Call the  \"handle_{type}\" callback, which takes\n",
       "        // the figure and JSON message as its only arguments.\n",
       "        try {\n",
       "            var callback = fig[\"handle_\" + msg_type];\n",
       "        } catch (e) {\n",
       "            console.log(\"No handler for the '\" + msg_type + \"' message type: \", msg);\n",
       "            return;\n",
       "        }\n",
       "\n",
       "        if (callback) {\n",
       "            try {\n",
       "                // console.log(\"Handling '\" + msg_type + \"' message: \", msg);\n",
       "                callback(fig, msg);\n",
       "            } catch (e) {\n",
       "                console.log(\"Exception inside the 'handler_\" + msg_type + \"' callback:\", e, e.stack, msg);\n",
       "            }\n",
       "        }\n",
       "    };\n",
       "}\n",
       "\n",
       "// from http://stackoverflow.com/questions/1114465/getting-mouse-location-in-canvas\n",
       "mpl.findpos = function(e) {\n",
       "    //this section is from http://www.quirksmode.org/js/events_properties.html\n",
       "    var targ;\n",
       "    if (!e)\n",
       "        e = window.event;\n",
       "    if (e.target)\n",
       "        targ = e.target;\n",
       "    else if (e.srcElement)\n",
       "        targ = e.srcElement;\n",
       "    if (targ.nodeType == 3) // defeat Safari bug\n",
       "        targ = targ.parentNode;\n",
       "\n",
       "    // jQuery normalizes the pageX and pageY\n",
       "    // pageX,Y are the mouse positions relative to the document\n",
       "    // offset() returns the position of the element relative to the document\n",
       "    var x = e.pageX - $(targ).offset().left;\n",
       "    var y = e.pageY - $(targ).offset().top;\n",
       "\n",
       "    return {\"x\": x, \"y\": y};\n",
       "};\n",
       "\n",
       "/*\n",
       " * return a copy of an object with only non-object keys\n",
       " * we need this to avoid circular references\n",
       " * http://stackoverflow.com/a/24161582/3208463\n",
       " */\n",
       "function simpleKeys (original) {\n",
       "  return Object.keys(original).reduce(function (obj, key) {\n",
       "    if (typeof original[key] !== 'object')\n",
       "        obj[key] = original[key]\n",
       "    return obj;\n",
       "  }, {});\n",
       "}\n",
       "\n",
       "mpl.figure.prototype.mouse_event = function(event, name) {\n",
       "    var canvas_pos = mpl.findpos(event)\n",
       "\n",
       "    if (name === 'button_press')\n",
       "    {\n",
       "        this.canvas.focus();\n",
       "        this.canvas_div.focus();\n",
       "    }\n",
       "\n",
       "    var x = canvas_pos.x * mpl.ratio;\n",
       "    var y = canvas_pos.y * mpl.ratio;\n",
       "\n",
       "    this.send_message(name, {x: x, y: y, button: event.button,\n",
       "                             step: event.step,\n",
       "                             guiEvent: simpleKeys(event)});\n",
       "\n",
       "    /* This prevents the web browser from automatically changing to\n",
       "     * the text insertion cursor when the button is pressed.  We want\n",
       "     * to control all of the cursor setting manually through the\n",
       "     * 'cursor' event from matplotlib */\n",
       "    event.preventDefault();\n",
       "    return false;\n",
       "}\n",
       "\n",
       "mpl.figure.prototype._key_event_extra = function(event, name) {\n",
       "    // Handle any extra behaviour associated with a key event\n",
       "}\n",
       "\n",
       "mpl.figure.prototype.key_event = function(event, name) {\n",
       "\n",
       "    // Prevent repeat events\n",
       "    if (name == 'key_press')\n",
       "    {\n",
       "        if (event.which === this._key)\n",
       "            return;\n",
       "        else\n",
       "            this._key = event.which;\n",
       "    }\n",
       "    if (name == 'key_release')\n",
       "        this._key = null;\n",
       "\n",
       "    var value = '';\n",
       "    if (event.ctrlKey && event.which != 17)\n",
       "        value += \"ctrl+\";\n",
       "    if (event.altKey && event.which != 18)\n",
       "        value += \"alt+\";\n",
       "    if (event.shiftKey && event.which != 16)\n",
       "        value += \"shift+\";\n",
       "\n",
       "    value += 'k';\n",
       "    value += event.which.toString();\n",
       "\n",
       "    this._key_event_extra(event, name);\n",
       "\n",
       "    this.send_message(name, {key: value,\n",
       "                             guiEvent: simpleKeys(event)});\n",
       "    return false;\n",
       "}\n",
       "\n",
       "mpl.figure.prototype.toolbar_button_onclick = function(name) {\n",
       "    if (name == 'download') {\n",
       "        this.handle_save(this, null);\n",
       "    } else {\n",
       "        this.send_message(\"toolbar_button\", {name: name});\n",
       "    }\n",
       "};\n",
       "\n",
       "mpl.figure.prototype.toolbar_button_onmouseover = function(tooltip) {\n",
       "    this.message.textContent = tooltip;\n",
       "};\n",
       "mpl.toolbar_items = [[\"Home\", \"Reset original view\", \"fa fa-home icon-home\", \"home\"], [\"Back\", \"Back to  previous view\", \"fa fa-arrow-left icon-arrow-left\", \"back\"], [\"Forward\", \"Forward to next view\", \"fa fa-arrow-right icon-arrow-right\", \"forward\"], [\"\", \"\", \"\", \"\"], [\"Pan\", \"Pan axes with left mouse, zoom with right\", \"fa fa-arrows icon-move\", \"pan\"], [\"Zoom\", \"Zoom to rectangle\", \"fa fa-square-o icon-check-empty\", \"zoom\"], [\"\", \"\", \"\", \"\"], [\"Download\", \"Download plot\", \"fa fa-floppy-o icon-save\", \"download\"]];\n",
       "\n",
       "mpl.extensions = [\"eps\", \"pdf\", \"png\", \"ps\", \"raw\", \"svg\"];\n",
       "\n",
       "mpl.default_extension = \"png\";var comm_websocket_adapter = function(comm) {\n",
       "    // Create a \"websocket\"-like object which calls the given IPython comm\n",
       "    // object with the appropriate methods. Currently this is a non binary\n",
       "    // socket, so there is still some room for performance tuning.\n",
       "    var ws = {};\n",
       "\n",
       "    ws.close = function() {\n",
       "        comm.close()\n",
       "    };\n",
       "    ws.send = function(m) {\n",
       "        //console.log('sending', m);\n",
       "        comm.send(m);\n",
       "    };\n",
       "    // Register the callback with on_msg.\n",
       "    comm.on_msg(function(msg) {\n",
       "        //console.log('receiving', msg['content']['data'], msg);\n",
       "        // Pass the mpl event to the overriden (by mpl) onmessage function.\n",
       "        ws.onmessage(msg['content']['data'])\n",
       "    });\n",
       "    return ws;\n",
       "}\n",
       "\n",
       "mpl.mpl_figure_comm = function(comm, msg) {\n",
       "    // This is the function which gets called when the mpl process\n",
       "    // starts-up an IPython Comm through the \"matplotlib\" channel.\n",
       "\n",
       "    var id = msg.content.data.id;\n",
       "    // Get hold of the div created by the display call when the Comm\n",
       "    // socket was opened in Python.\n",
       "    var element = $(\"#\" + id);\n",
       "    var ws_proxy = comm_websocket_adapter(comm)\n",
       "\n",
       "    function ondownload(figure, format) {\n",
       "        window.open(figure.imageObj.src);\n",
       "    }\n",
       "\n",
       "    var fig = new mpl.figure(id, ws_proxy,\n",
       "                           ondownload,\n",
       "                           element.get(0));\n",
       "\n",
       "    // Call onopen now - mpl needs it, as it is assuming we've passed it a real\n",
       "    // web socket which is closed, not our websocket->open comm proxy.\n",
       "    ws_proxy.onopen();\n",
       "\n",
       "    fig.parent_element = element.get(0);\n",
       "    fig.cell_info = mpl.find_output_cell(\"<div id='\" + id + \"'></div>\");\n",
       "    if (!fig.cell_info) {\n",
       "        console.error(\"Failed to find cell for figure\", id, fig);\n",
       "        return;\n",
       "    }\n",
       "\n",
       "    var output_index = fig.cell_info[2]\n",
       "    var cell = fig.cell_info[0];\n",
       "\n",
       "};\n",
       "\n",
       "mpl.figure.prototype.handle_close = function(fig, msg) {\n",
       "    var width = fig.canvas.width/mpl.ratio\n",
       "    fig.root.unbind('remove')\n",
       "\n",
       "    // Update the output cell to use the data from the current canvas.\n",
       "    fig.push_to_output();\n",
       "    var dataURL = fig.canvas.toDataURL();\n",
       "    // Re-enable the keyboard manager in IPython - without this line, in FF,\n",
       "    // the notebook keyboard shortcuts fail.\n",
       "    IPython.keyboard_manager.enable()\n",
       "    $(fig.parent_element).html('<img src=\"' + dataURL + '\" width=\"' + width + '\">');\n",
       "    fig.close_ws(fig, msg);\n",
       "}\n",
       "\n",
       "mpl.figure.prototype.close_ws = function(fig, msg){\n",
       "    fig.send_message('closing', msg);\n",
       "    // fig.ws.close()\n",
       "}\n",
       "\n",
       "mpl.figure.prototype.push_to_output = function(remove_interactive) {\n",
       "    // Turn the data on the canvas into data in the output cell.\n",
       "    var width = this.canvas.width/mpl.ratio\n",
       "    var dataURL = this.canvas.toDataURL();\n",
       "    this.cell_info[1]['text/html'] = '<img src=\"' + dataURL + '\" width=\"' + width + '\">';\n",
       "}\n",
       "\n",
       "mpl.figure.prototype.updated_canvas_event = function() {\n",
       "    // Tell IPython that the notebook contents must change.\n",
       "    IPython.notebook.set_dirty(true);\n",
       "    this.send_message(\"ack\", {});\n",
       "    var fig = this;\n",
       "    // Wait a second, then push the new image to the DOM so\n",
       "    // that it is saved nicely (might be nice to debounce this).\n",
       "    setTimeout(function () { fig.push_to_output() }, 1000);\n",
       "}\n",
       "\n",
       "mpl.figure.prototype._init_toolbar = function() {\n",
       "    var fig = this;\n",
       "\n",
       "    var nav_element = $('<div/>')\n",
       "    nav_element.attr('style', 'width: 100%');\n",
       "    this.root.append(nav_element);\n",
       "\n",
       "    // Define a callback function for later on.\n",
       "    function toolbar_event(event) {\n",
       "        return fig.toolbar_button_onclick(event['data']);\n",
       "    }\n",
       "    function toolbar_mouse_event(event) {\n",
       "        return fig.toolbar_button_onmouseover(event['data']);\n",
       "    }\n",
       "\n",
       "    for(var toolbar_ind in mpl.toolbar_items){\n",
       "        var name = mpl.toolbar_items[toolbar_ind][0];\n",
       "        var tooltip = mpl.toolbar_items[toolbar_ind][1];\n",
       "        var image = mpl.toolbar_items[toolbar_ind][2];\n",
       "        var method_name = mpl.toolbar_items[toolbar_ind][3];\n",
       "\n",
       "        if (!name) { continue; };\n",
       "\n",
       "        var button = $('<button class=\"btn btn-default\" href=\"#\" title=\"' + name + '\"><i class=\"fa ' + image + ' fa-lg\"></i></button>');\n",
       "        button.click(method_name, toolbar_event);\n",
       "        button.mouseover(tooltip, toolbar_mouse_event);\n",
       "        nav_element.append(button);\n",
       "    }\n",
       "\n",
       "    // Add the status bar.\n",
       "    var status_bar = $('<span class=\"mpl-message\" style=\"text-align:right; float: right;\"/>');\n",
       "    nav_element.append(status_bar);\n",
       "    this.message = status_bar[0];\n",
       "\n",
       "    // Add the close button to the window.\n",
       "    var buttongrp = $('<div class=\"btn-group inline pull-right\"></div>');\n",
       "    var button = $('<button class=\"btn btn-mini btn-primary\" href=\"#\" title=\"Stop Interaction\"><i class=\"fa fa-power-off icon-remove icon-large\"></i></button>');\n",
       "    button.click(function (evt) { fig.handle_close(fig, {}); } );\n",
       "    button.mouseover('Stop Interaction', toolbar_mouse_event);\n",
       "    buttongrp.append(button);\n",
       "    var titlebar = this.root.find($('.ui-dialog-titlebar'));\n",
       "    titlebar.prepend(buttongrp);\n",
       "}\n",
       "\n",
       "mpl.figure.prototype._root_extra_style = function(el){\n",
       "    var fig = this\n",
       "    el.on(\"remove\", function(){\n",
       "\tfig.close_ws(fig, {});\n",
       "    });\n",
       "}\n",
       "\n",
       "mpl.figure.prototype._canvas_extra_style = function(el){\n",
       "    // this is important to make the div 'focusable\n",
       "    el.attr('tabindex', 0)\n",
       "    // reach out to IPython and tell the keyboard manager to turn it's self\n",
       "    // off when our div gets focus\n",
       "\n",
       "    // location in version 3\n",
       "    if (IPython.notebook.keyboard_manager) {\n",
       "        IPython.notebook.keyboard_manager.register_events(el);\n",
       "    }\n",
       "    else {\n",
       "        // location in version 2\n",
       "        IPython.keyboard_manager.register_events(el);\n",
       "    }\n",
       "\n",
       "}\n",
       "\n",
       "mpl.figure.prototype._key_event_extra = function(event, name) {\n",
       "    var manager = IPython.notebook.keyboard_manager;\n",
       "    if (!manager)\n",
       "        manager = IPython.keyboard_manager;\n",
       "\n",
       "    // Check for shift+enter\n",
       "    if (event.shiftKey && event.which == 13) {\n",
       "        this.canvas_div.blur();\n",
       "        event.shiftKey = false;\n",
       "        // Send a \"J\" for go to next cell\n",
       "        event.which = 74;\n",
       "        event.keyCode = 74;\n",
       "        manager.command_mode();\n",
       "        manager.handle_keydown(event);\n",
       "    }\n",
       "}\n",
       "\n",
       "mpl.figure.prototype.handle_save = function(fig, msg) {\n",
       "    fig.ondownload(fig, null);\n",
       "}\n",
       "\n",
       "\n",
       "mpl.find_output_cell = function(html_output) {\n",
       "    // Return the cell and output element which can be found *uniquely* in the notebook.\n",
       "    // Note - this is a bit hacky, but it is done because the \"notebook_saving.Notebook\"\n",
       "    // IPython event is triggered only after the cells have been serialised, which for\n",
       "    // our purposes (turning an active figure into a static one), is too late.\n",
       "    var cells = IPython.notebook.get_cells();\n",
       "    var ncells = cells.length;\n",
       "    for (var i=0; i<ncells; i++) {\n",
       "        var cell = cells[i];\n",
       "        if (cell.cell_type === 'code'){\n",
       "            for (var j=0; j<cell.output_area.outputs.length; j++) {\n",
       "                var data = cell.output_area.outputs[j];\n",
       "                if (data.data) {\n",
       "                    // IPython >= 3 moved mimebundle to data attribute of output\n",
       "                    data = data.data;\n",
       "                }\n",
       "                if (data['text/html'] == html_output) {\n",
       "                    return [cell, data, j];\n",
       "                }\n",
       "            }\n",
       "        }\n",
       "    }\n",
       "}\n",
       "\n",
       "// Register the function which deals with the matplotlib target/channel.\n",
       "// The kernel may be null if the page has been refreshed.\n",
       "if (IPython.notebook.kernel != null) {\n",
       "    IPython.notebook.kernel.comm_manager.register_target('matplotlib', mpl.mpl_figure_comm);\n",
       "}\n"
      ],
      "text/plain": [
       "<IPython.core.display.Javascript object>"
      ]
     },
     "metadata": {},
     "output_type": "display_data"
    },
    {
     "data": {
      "text/html": [
       "<img src=\"data:image/png;base64,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\" width=\"675\">"
      ],
      "text/plain": [
       "<IPython.core.display.HTML object>"
      ]
     },
     "metadata": {},
     "output_type": "display_data"
    }
   ],
   "source": [
    "#check that we can take the trace correctly\n",
    "setup_frq_sweep(3.5e9, 8.0e9, 4501, bw=1e3, navgs=1, pwr=-55)\n",
    "mag, phase = take_trace(plot=True)"
   ]
  },
  {
   "cell_type": "code",
   "execution_count": null,
   "metadata": {
    "ExecuteTime": {
     "end_time": "2018-12-27T17:30:16.088262Z",
     "start_time": "2018-12-27T17:30:13.688550Z"
    },
    "collapsed": true
   },
   "outputs": [],
   "source": [
    "setup_frq_sweep(3.5e9, 5.5e9, 2301, bw=1e3, navgs=1, pwr=-55)\n",
    "mag, phase = take_trace(plot=True)\n",
    "#plt.xlim(3.95e9,3.97e9)"
   ]
  },
  {
   "cell_type": "code",
   "execution_count": null,
   "metadata": {
    "ExecuteTime": {
     "end_time": "2018-11-13T13:24:07.636737Z",
     "start_time": "2018-11-13T13:24:06.223933Z"
    },
    "collapsed": true
   },
   "outputs": [],
   "source": [
    "dac_cutter14(0)"
   ]
  },
  {
   "cell_type": "code",
   "execution_count": null,
   "metadata": {
    "ExecuteTime": {
     "end_time": "2018-11-13T13:24:08.057418Z",
     "start_time": "2018-11-13T13:24:07.640746Z"
    },
    "collapsed": true
   },
   "outputs": [],
   "source": [
    "keysight.volt()"
   ]
  },
  {
   "cell_type": "markdown",
   "metadata": {},
   "source": [
    "# Testing"
   ]
  },
  {
   "cell_type": "markdown",
   "metadata": {
    "ExecuteTime": {
     "end_time": "2018-10-15T12:31:02.235649Z",
     "start_time": "2018-10-15T12:31:02.213640Z"
    }
   },
   "source": [
    "## Quick manual trace (without saving)"
   ]
  },
  {
   "cell_type": "code",
   "execution_count": null,
   "metadata": {
    "ExecuteTime": {
     "end_time": "2018-12-31T11:08:31.097401Z",
     "start_time": "2018-12-31T11:08:29.897123Z"
    },
    "collapsed": true
   },
   "outputs": [],
   "source": [
    "setup_frq_sweep(fstart=3.9e9, fstop=3.98e9, fpts=801, pwr=-55)\n",
    "mag, phase = take_trace(plot=True)"
   ]
  },
  {
   "cell_type": "markdown",
   "metadata": {
    "ExecuteTime": {
     "end_time": "2018-10-15T13:41:13.770824Z",
     "start_time": "2018-10-15T13:41:13.756811Z"
    }
   },
   "source": [
    "# Take a single VNA trace"
   ]
  },
  {
   "cell_type": "code",
   "execution_count": null,
   "metadata": {
    "ExecuteTime": {
     "end_time": "2018-11-20T14:44:25.194383Z",
     "start_time": "2018-11-20T14:44:25.158355Z"
    },
    "collapsed": true
   },
   "outputs": [],
   "source": [
    "dac_cutter1(), dac_cutter14(), dac_plunger3(), dac_plunger7(), dac_plunger16(), dac_plunger20(), station.ivvi.dac7(), station.ivvi.dac8()"
   ]
  },
  {
   "cell_type": "code",
   "execution_count": 84,
   "metadata": {
    "ExecuteTime": {
     "end_time": "2019-01-22T11:40:21.198483Z",
     "start_time": "2019-01-22T11:40:20.790595Z"
    },
    "collapsed": true
   },
   "outputs": [],
   "source": [
    "station.ivvi.set_dacs_zero()"
   ]
  },
  {
   "cell_type": "code",
   "execution_count": 78,
   "metadata": {
    "ExecuteTime": {
     "end_time": "2019-01-21T20:30:08.790236Z",
     "start_time": "2019-01-21T20:30:01.776869Z"
    }
   },
   "outputs": [
    {
     "name": "stdout",
     "output_type": "stream",
     "text": [
      "Starting experimental run with id: 47\n"
     ]
    }
   ],
   "source": [
    "#station.TWPA.off()\n",
    "sweep_obj = vna_frequency_sweep_dB(fstart=4.0*1e9, fstop=6.0e9, fpts=5001, chan='S21', pwr=-55)\n",
    "\n",
    "result = do_experiment(f\"VNA/{SAMPLE}\", sweep_obj, live_plot=True)"
   ]
  },
  {
   "cell_type": "code",
   "execution_count": null,
   "metadata": {
    "ExecuteTime": {
     "end_time": "2018-11-23T16:19:10.501844Z",
     "start_time": "2018-11-23T16:19:08.472664Z"
    },
    "collapsed": true
   },
   "outputs": [],
   "source": [
    "station.TWPA.on()\n",
    "sweep_obj = vna_frequency_sweep_dB(fstart=4.56*1e9, fstop=4.6*1e9, fpts=201, chan='S21', pwr=-60)\n",
    "\n",
    "result = do_experiment(f\"VNA/{SAMPLE}\", sweep_obj, live_plot=True)"
   ]
  },
  {
   "cell_type": "code",
   "execution_count": 79,
   "metadata": {
    "ExecuteTime": {
     "end_time": "2019-01-21T20:30:15.806720Z",
     "start_time": "2019-01-21T20:30:15.702804Z"
    }
   },
   "outputs": [
    {
     "data": {
      "application/javascript": [
       "/* Put everything inside the global mpl namespace */\n",
       "window.mpl = {};\n",
       "\n",
       "\n",
       "mpl.get_websocket_type = function() {\n",
       "    if (typeof(WebSocket) !== 'undefined') {\n",
       "        return WebSocket;\n",
       "    } else if (typeof(MozWebSocket) !== 'undefined') {\n",
       "        return MozWebSocket;\n",
       "    } else {\n",
       "        alert('Your browser does not have WebSocket support.' +\n",
       "              'Please try Chrome, Safari or Firefox ≥ 6. ' +\n",
       "              'Firefox 4 and 5 are also supported but you ' +\n",
       "              'have to enable WebSockets in about:config.');\n",
       "    };\n",
       "}\n",
       "\n",
       "mpl.figure = function(figure_id, websocket, ondownload, parent_element) {\n",
       "    this.id = figure_id;\n",
       "\n",
       "    this.ws = websocket;\n",
       "\n",
       "    this.supports_binary = (this.ws.binaryType != undefined);\n",
       "\n",
       "    if (!this.supports_binary) {\n",
       "        var warnings = document.getElementById(\"mpl-warnings\");\n",
       "        if (warnings) {\n",
       "            warnings.style.display = 'block';\n",
       "            warnings.textContent = (\n",
       "                \"This browser does not support binary websocket messages. \" +\n",
       "                    \"Performance may be slow.\");\n",
       "        }\n",
       "    }\n",
       "\n",
       "    this.imageObj = new Image();\n",
       "\n",
       "    this.context = undefined;\n",
       "    this.message = undefined;\n",
       "    this.canvas = undefined;\n",
       "    this.rubberband_canvas = undefined;\n",
       "    this.rubberband_context = undefined;\n",
       "    this.format_dropdown = undefined;\n",
       "\n",
       "    this.image_mode = 'full';\n",
       "\n",
       "    this.root = $('<div/>');\n",
       "    this._root_extra_style(this.root)\n",
       "    this.root.attr('style', 'display: inline-block');\n",
       "\n",
       "    $(parent_element).append(this.root);\n",
       "\n",
       "    this._init_header(this);\n",
       "    this._init_canvas(this);\n",
       "    this._init_toolbar(this);\n",
       "\n",
       "    var fig = this;\n",
       "\n",
       "    this.waiting = false;\n",
       "\n",
       "    this.ws.onopen =  function () {\n",
       "            fig.send_message(\"supports_binary\", {value: fig.supports_binary});\n",
       "            fig.send_message(\"send_image_mode\", {});\n",
       "            if (mpl.ratio != 1) {\n",
       "                fig.send_message(\"set_dpi_ratio\", {'dpi_ratio': mpl.ratio});\n",
       "            }\n",
       "            fig.send_message(\"refresh\", {});\n",
       "        }\n",
       "\n",
       "    this.imageObj.onload = function() {\n",
       "            if (fig.image_mode == 'full') {\n",
       "                // Full images could contain transparency (where diff images\n",
       "                // almost always do), so we need to clear the canvas so that\n",
       "                // there is no ghosting.\n",
       "                fig.context.clearRect(0, 0, fig.canvas.width, fig.canvas.height);\n",
       "            }\n",
       "            fig.context.drawImage(fig.imageObj, 0, 0);\n",
       "        };\n",
       "\n",
       "    this.imageObj.onunload = function() {\n",
       "        fig.ws.close();\n",
       "    }\n",
       "\n",
       "    this.ws.onmessage = this._make_on_message_function(this);\n",
       "\n",
       "    this.ondownload = ondownload;\n",
       "}\n",
       "\n",
       "mpl.figure.prototype._init_header = function() {\n",
       "    var titlebar = $(\n",
       "        '<div class=\"ui-dialog-titlebar ui-widget-header ui-corner-all ' +\n",
       "        'ui-helper-clearfix\"/>');\n",
       "    var titletext = $(\n",
       "        '<div class=\"ui-dialog-title\" style=\"width: 100%; ' +\n",
       "        'text-align: center; padding: 3px;\"/>');\n",
       "    titlebar.append(titletext)\n",
       "    this.root.append(titlebar);\n",
       "    this.header = titletext[0];\n",
       "}\n",
       "\n",
       "\n",
       "\n",
       "mpl.figure.prototype._canvas_extra_style = function(canvas_div) {\n",
       "\n",
       "}\n",
       "\n",
       "\n",
       "mpl.figure.prototype._root_extra_style = function(canvas_div) {\n",
       "\n",
       "}\n",
       "\n",
       "mpl.figure.prototype._init_canvas = function() {\n",
       "    var fig = this;\n",
       "\n",
       "    var canvas_div = $('<div/>');\n",
       "\n",
       "    canvas_div.attr('style', 'position: relative; clear: both; outline: 0');\n",
       "\n",
       "    function canvas_keyboard_event(event) {\n",
       "        return fig.key_event(event, event['data']);\n",
       "    }\n",
       "\n",
       "    canvas_div.keydown('key_press', canvas_keyboard_event);\n",
       "    canvas_div.keyup('key_release', canvas_keyboard_event);\n",
       "    this.canvas_div = canvas_div\n",
       "    this._canvas_extra_style(canvas_div)\n",
       "    this.root.append(canvas_div);\n",
       "\n",
       "    var canvas = $('<canvas/>');\n",
       "    canvas.addClass('mpl-canvas');\n",
       "    canvas.attr('style', \"left: 0; top: 0; z-index: 0; outline: 0\")\n",
       "\n",
       "    this.canvas = canvas[0];\n",
       "    this.context = canvas[0].getContext(\"2d\");\n",
       "\n",
       "    var backingStore = this.context.backingStorePixelRatio ||\n",
       "\tthis.context.webkitBackingStorePixelRatio ||\n",
       "\tthis.context.mozBackingStorePixelRatio ||\n",
       "\tthis.context.msBackingStorePixelRatio ||\n",
       "\tthis.context.oBackingStorePixelRatio ||\n",
       "\tthis.context.backingStorePixelRatio || 1;\n",
       "\n",
       "    mpl.ratio = (window.devicePixelRatio || 1) / backingStore;\n",
       "\n",
       "    var rubberband = $('<canvas/>');\n",
       "    rubberband.attr('style', \"position: absolute; left: 0; top: 0; z-index: 1;\")\n",
       "\n",
       "    var pass_mouse_events = true;\n",
       "\n",
       "    canvas_div.resizable({\n",
       "        start: function(event, ui) {\n",
       "            pass_mouse_events = false;\n",
       "        },\n",
       "        resize: function(event, ui) {\n",
       "            fig.request_resize(ui.size.width, ui.size.height);\n",
       "        },\n",
       "        stop: function(event, ui) {\n",
       "            pass_mouse_events = true;\n",
       "            fig.request_resize(ui.size.width, ui.size.height);\n",
       "        },\n",
       "    });\n",
       "\n",
       "    function mouse_event_fn(event) {\n",
       "        if (pass_mouse_events)\n",
       "            return fig.mouse_event(event, event['data']);\n",
       "    }\n",
       "\n",
       "    rubberband.mousedown('button_press', mouse_event_fn);\n",
       "    rubberband.mouseup('button_release', mouse_event_fn);\n",
       "    // Throttle sequential mouse events to 1 every 20ms.\n",
       "    rubberband.mousemove('motion_notify', mouse_event_fn);\n",
       "\n",
       "    rubberband.mouseenter('figure_enter', mouse_event_fn);\n",
       "    rubberband.mouseleave('figure_leave', mouse_event_fn);\n",
       "\n",
       "    canvas_div.on(\"wheel\", function (event) {\n",
       "        event = event.originalEvent;\n",
       "        event['data'] = 'scroll'\n",
       "        if (event.deltaY < 0) {\n",
       "            event.step = 1;\n",
       "        } else {\n",
       "            event.step = -1;\n",
       "        }\n",
       "        mouse_event_fn(event);\n",
       "    });\n",
       "\n",
       "    canvas_div.append(canvas);\n",
       "    canvas_div.append(rubberband);\n",
       "\n",
       "    this.rubberband = rubberband;\n",
       "    this.rubberband_canvas = rubberband[0];\n",
       "    this.rubberband_context = rubberband[0].getContext(\"2d\");\n",
       "    this.rubberband_context.strokeStyle = \"#000000\";\n",
       "\n",
       "    this._resize_canvas = function(width, height) {\n",
       "        // Keep the size of the canvas, canvas container, and rubber band\n",
       "        // canvas in synch.\n",
       "        canvas_div.css('width', width)\n",
       "        canvas_div.css('height', height)\n",
       "\n",
       "        canvas.attr('width', width * mpl.ratio);\n",
       "        canvas.attr('height', height * mpl.ratio);\n",
       "        canvas.attr('style', 'width: ' + width + 'px; height: ' + height + 'px;');\n",
       "\n",
       "        rubberband.attr('width', width);\n",
       "        rubberband.attr('height', height);\n",
       "    }\n",
       "\n",
       "    // Set the figure to an initial 600x600px, this will subsequently be updated\n",
       "    // upon first draw.\n",
       "    this._resize_canvas(600, 600);\n",
       "\n",
       "    // Disable right mouse context menu.\n",
       "    $(this.rubberband_canvas).bind(\"contextmenu\",function(e){\n",
       "        return false;\n",
       "    });\n",
       "\n",
       "    function set_focus () {\n",
       "        canvas.focus();\n",
       "        canvas_div.focus();\n",
       "    }\n",
       "\n",
       "    window.setTimeout(set_focus, 100);\n",
       "}\n",
       "\n",
       "mpl.figure.prototype._init_toolbar = function() {\n",
       "    var fig = this;\n",
       "\n",
       "    var nav_element = $('<div/>')\n",
       "    nav_element.attr('style', 'width: 100%');\n",
       "    this.root.append(nav_element);\n",
       "\n",
       "    // Define a callback function for later on.\n",
       "    function toolbar_event(event) {\n",
       "        return fig.toolbar_button_onclick(event['data']);\n",
       "    }\n",
       "    function toolbar_mouse_event(event) {\n",
       "        return fig.toolbar_button_onmouseover(event['data']);\n",
       "    }\n",
       "\n",
       "    for(var toolbar_ind in mpl.toolbar_items) {\n",
       "        var name = mpl.toolbar_items[toolbar_ind][0];\n",
       "        var tooltip = mpl.toolbar_items[toolbar_ind][1];\n",
       "        var image = mpl.toolbar_items[toolbar_ind][2];\n",
       "        var method_name = mpl.toolbar_items[toolbar_ind][3];\n",
       "\n",
       "        if (!name) {\n",
       "            // put a spacer in here.\n",
       "            continue;\n",
       "        }\n",
       "        var button = $('<button/>');\n",
       "        button.addClass('ui-button ui-widget ui-state-default ui-corner-all ' +\n",
       "                        'ui-button-icon-only');\n",
       "        button.attr('role', 'button');\n",
       "        button.attr('aria-disabled', 'false');\n",
       "        button.click(method_name, toolbar_event);\n",
       "        button.mouseover(tooltip, toolbar_mouse_event);\n",
       "\n",
       "        var icon_img = $('<span/>');\n",
       "        icon_img.addClass('ui-button-icon-primary ui-icon');\n",
       "        icon_img.addClass(image);\n",
       "        icon_img.addClass('ui-corner-all');\n",
       "\n",
       "        var tooltip_span = $('<span/>');\n",
       "        tooltip_span.addClass('ui-button-text');\n",
       "        tooltip_span.html(tooltip);\n",
       "\n",
       "        button.append(icon_img);\n",
       "        button.append(tooltip_span);\n",
       "\n",
       "        nav_element.append(button);\n",
       "    }\n",
       "\n",
       "    var fmt_picker_span = $('<span/>');\n",
       "\n",
       "    var fmt_picker = $('<select/>');\n",
       "    fmt_picker.addClass('mpl-toolbar-option ui-widget ui-widget-content');\n",
       "    fmt_picker_span.append(fmt_picker);\n",
       "    nav_element.append(fmt_picker_span);\n",
       "    this.format_dropdown = fmt_picker[0];\n",
       "\n",
       "    for (var ind in mpl.extensions) {\n",
       "        var fmt = mpl.extensions[ind];\n",
       "        var option = $(\n",
       "            '<option/>', {selected: fmt === mpl.default_extension}).html(fmt);\n",
       "        fmt_picker.append(option)\n",
       "    }\n",
       "\n",
       "    // Add hover states to the ui-buttons\n",
       "    $( \".ui-button\" ).hover(\n",
       "        function() { $(this).addClass(\"ui-state-hover\");},\n",
       "        function() { $(this).removeClass(\"ui-state-hover\");}\n",
       "    );\n",
       "\n",
       "    var status_bar = $('<span class=\"mpl-message\"/>');\n",
       "    nav_element.append(status_bar);\n",
       "    this.message = status_bar[0];\n",
       "}\n",
       "\n",
       "mpl.figure.prototype.request_resize = function(x_pixels, y_pixels) {\n",
       "    // Request matplotlib to resize the figure. Matplotlib will then trigger a resize in the client,\n",
       "    // which will in turn request a refresh of the image.\n",
       "    this.send_message('resize', {'width': x_pixels, 'height': y_pixels});\n",
       "}\n",
       "\n",
       "mpl.figure.prototype.send_message = function(type, properties) {\n",
       "    properties['type'] = type;\n",
       "    properties['figure_id'] = this.id;\n",
       "    this.ws.send(JSON.stringify(properties));\n",
       "}\n",
       "\n",
       "mpl.figure.prototype.send_draw_message = function() {\n",
       "    if (!this.waiting) {\n",
       "        this.waiting = true;\n",
       "        this.ws.send(JSON.stringify({type: \"draw\", figure_id: this.id}));\n",
       "    }\n",
       "}\n",
       "\n",
       "\n",
       "mpl.figure.prototype.handle_save = function(fig, msg) {\n",
       "    var format_dropdown = fig.format_dropdown;\n",
       "    var format = format_dropdown.options[format_dropdown.selectedIndex].value;\n",
       "    fig.ondownload(fig, format);\n",
       "}\n",
       "\n",
       "\n",
       "mpl.figure.prototype.handle_resize = function(fig, msg) {\n",
       "    var size = msg['size'];\n",
       "    if (size[0] != fig.canvas.width || size[1] != fig.canvas.height) {\n",
       "        fig._resize_canvas(size[0], size[1]);\n",
       "        fig.send_message(\"refresh\", {});\n",
       "    };\n",
       "}\n",
       "\n",
       "mpl.figure.prototype.handle_rubberband = function(fig, msg) {\n",
       "    var x0 = msg['x0'] / mpl.ratio;\n",
       "    var y0 = (fig.canvas.height - msg['y0']) / mpl.ratio;\n",
       "    var x1 = msg['x1'] / mpl.ratio;\n",
       "    var y1 = (fig.canvas.height - msg['y1']) / mpl.ratio;\n",
       "    x0 = Math.floor(x0) + 0.5;\n",
       "    y0 = Math.floor(y0) + 0.5;\n",
       "    x1 = Math.floor(x1) + 0.5;\n",
       "    y1 = Math.floor(y1) + 0.5;\n",
       "    var min_x = Math.min(x0, x1);\n",
       "    var min_y = Math.min(y0, y1);\n",
       "    var width = Math.abs(x1 - x0);\n",
       "    var height = Math.abs(y1 - y0);\n",
       "\n",
       "    fig.rubberband_context.clearRect(\n",
       "        0, 0, fig.canvas.width, fig.canvas.height);\n",
       "\n",
       "    fig.rubberband_context.strokeRect(min_x, min_y, width, height);\n",
       "}\n",
       "\n",
       "mpl.figure.prototype.handle_figure_label = function(fig, msg) {\n",
       "    // Updates the figure title.\n",
       "    fig.header.textContent = msg['label'];\n",
       "}\n",
       "\n",
       "mpl.figure.prototype.handle_cursor = function(fig, msg) {\n",
       "    var cursor = msg['cursor'];\n",
       "    switch(cursor)\n",
       "    {\n",
       "    case 0:\n",
       "        cursor = 'pointer';\n",
       "        break;\n",
       "    case 1:\n",
       "        cursor = 'default';\n",
       "        break;\n",
       "    case 2:\n",
       "        cursor = 'crosshair';\n",
       "        break;\n",
       "    case 3:\n",
       "        cursor = 'move';\n",
       "        break;\n",
       "    }\n",
       "    fig.rubberband_canvas.style.cursor = cursor;\n",
       "}\n",
       "\n",
       "mpl.figure.prototype.handle_message = function(fig, msg) {\n",
       "    fig.message.textContent = msg['message'];\n",
       "}\n",
       "\n",
       "mpl.figure.prototype.handle_draw = function(fig, msg) {\n",
       "    // Request the server to send over a new figure.\n",
       "    fig.send_draw_message();\n",
       "}\n",
       "\n",
       "mpl.figure.prototype.handle_image_mode = function(fig, msg) {\n",
       "    fig.image_mode = msg['mode'];\n",
       "}\n",
       "\n",
       "mpl.figure.prototype.updated_canvas_event = function() {\n",
       "    // Called whenever the canvas gets updated.\n",
       "    this.send_message(\"ack\", {});\n",
       "}\n",
       "\n",
       "// A function to construct a web socket function for onmessage handling.\n",
       "// Called in the figure constructor.\n",
       "mpl.figure.prototype._make_on_message_function = function(fig) {\n",
       "    return function socket_on_message(evt) {\n",
       "        if (evt.data instanceof Blob) {\n",
       "            /* FIXME: We get \"Resource interpreted as Image but\n",
       "             * transferred with MIME type text/plain:\" errors on\n",
       "             * Chrome.  But how to set the MIME type?  It doesn't seem\n",
       "             * to be part of the websocket stream */\n",
       "            evt.data.type = \"image/png\";\n",
       "\n",
       "            /* Free the memory for the previous frames */\n",
       "            if (fig.imageObj.src) {\n",
       "                (window.URL || window.webkitURL).revokeObjectURL(\n",
       "                    fig.imageObj.src);\n",
       "            }\n",
       "\n",
       "            fig.imageObj.src = (window.URL || window.webkitURL).createObjectURL(\n",
       "                evt.data);\n",
       "            fig.updated_canvas_event();\n",
       "            fig.waiting = false;\n",
       "            return;\n",
       "        }\n",
       "        else if (typeof evt.data === 'string' && evt.data.slice(0, 21) == \"data:image/png;base64\") {\n",
       "            fig.imageObj.src = evt.data;\n",
       "            fig.updated_canvas_event();\n",
       "            fig.waiting = false;\n",
       "            return;\n",
       "        }\n",
       "\n",
       "        var msg = JSON.parse(evt.data);\n",
       "        var msg_type = msg['type'];\n",
       "\n",
       "        // Call the  \"handle_{type}\" callback, which takes\n",
       "        // the figure and JSON message as its only arguments.\n",
       "        try {\n",
       "            var callback = fig[\"handle_\" + msg_type];\n",
       "        } catch (e) {\n",
       "            console.log(\"No handler for the '\" + msg_type + \"' message type: \", msg);\n",
       "            return;\n",
       "        }\n",
       "\n",
       "        if (callback) {\n",
       "            try {\n",
       "                // console.log(\"Handling '\" + msg_type + \"' message: \", msg);\n",
       "                callback(fig, msg);\n",
       "            } catch (e) {\n",
       "                console.log(\"Exception inside the 'handler_\" + msg_type + \"' callback:\", e, e.stack, msg);\n",
       "            }\n",
       "        }\n",
       "    };\n",
       "}\n",
       "\n",
       "// from http://stackoverflow.com/questions/1114465/getting-mouse-location-in-canvas\n",
       "mpl.findpos = function(e) {\n",
       "    //this section is from http://www.quirksmode.org/js/events_properties.html\n",
       "    var targ;\n",
       "    if (!e)\n",
       "        e = window.event;\n",
       "    if (e.target)\n",
       "        targ = e.target;\n",
       "    else if (e.srcElement)\n",
       "        targ = e.srcElement;\n",
       "    if (targ.nodeType == 3) // defeat Safari bug\n",
       "        targ = targ.parentNode;\n",
       "\n",
       "    // jQuery normalizes the pageX and pageY\n",
       "    // pageX,Y are the mouse positions relative to the document\n",
       "    // offset() returns the position of the element relative to the document\n",
       "    var x = e.pageX - $(targ).offset().left;\n",
       "    var y = e.pageY - $(targ).offset().top;\n",
       "\n",
       "    return {\"x\": x, \"y\": y};\n",
       "};\n",
       "\n",
       "/*\n",
       " * return a copy of an object with only non-object keys\n",
       " * we need this to avoid circular references\n",
       " * http://stackoverflow.com/a/24161582/3208463\n",
       " */\n",
       "function simpleKeys (original) {\n",
       "  return Object.keys(original).reduce(function (obj, key) {\n",
       "    if (typeof original[key] !== 'object')\n",
       "        obj[key] = original[key]\n",
       "    return obj;\n",
       "  }, {});\n",
       "}\n",
       "\n",
       "mpl.figure.prototype.mouse_event = function(event, name) {\n",
       "    var canvas_pos = mpl.findpos(event)\n",
       "\n",
       "    if (name === 'button_press')\n",
       "    {\n",
       "        this.canvas.focus();\n",
       "        this.canvas_div.focus();\n",
       "    }\n",
       "\n",
       "    var x = canvas_pos.x * mpl.ratio;\n",
       "    var y = canvas_pos.y * mpl.ratio;\n",
       "\n",
       "    this.send_message(name, {x: x, y: y, button: event.button,\n",
       "                             step: event.step,\n",
       "                             guiEvent: simpleKeys(event)});\n",
       "\n",
       "    /* This prevents the web browser from automatically changing to\n",
       "     * the text insertion cursor when the button is pressed.  We want\n",
       "     * to control all of the cursor setting manually through the\n",
       "     * 'cursor' event from matplotlib */\n",
       "    event.preventDefault();\n",
       "    return false;\n",
       "}\n",
       "\n",
       "mpl.figure.prototype._key_event_extra = function(event, name) {\n",
       "    // Handle any extra behaviour associated with a key event\n",
       "}\n",
       "\n",
       "mpl.figure.prototype.key_event = function(event, name) {\n",
       "\n",
       "    // Prevent repeat events\n",
       "    if (name == 'key_press')\n",
       "    {\n",
       "        if (event.which === this._key)\n",
       "            return;\n",
       "        else\n",
       "            this._key = event.which;\n",
       "    }\n",
       "    if (name == 'key_release')\n",
       "        this._key = null;\n",
       "\n",
       "    var value = '';\n",
       "    if (event.ctrlKey && event.which != 17)\n",
       "        value += \"ctrl+\";\n",
       "    if (event.altKey && event.which != 18)\n",
       "        value += \"alt+\";\n",
       "    if (event.shiftKey && event.which != 16)\n",
       "        value += \"shift+\";\n",
       "\n",
       "    value += 'k';\n",
       "    value += event.which.toString();\n",
       "\n",
       "    this._key_event_extra(event, name);\n",
       "\n",
       "    this.send_message(name, {key: value,\n",
       "                             guiEvent: simpleKeys(event)});\n",
       "    return false;\n",
       "}\n",
       "\n",
       "mpl.figure.prototype.toolbar_button_onclick = function(name) {\n",
       "    if (name == 'download') {\n",
       "        this.handle_save(this, null);\n",
       "    } else {\n",
       "        this.send_message(\"toolbar_button\", {name: name});\n",
       "    }\n",
       "};\n",
       "\n",
       "mpl.figure.prototype.toolbar_button_onmouseover = function(tooltip) {\n",
       "    this.message.textContent = tooltip;\n",
       "};\n",
       "mpl.toolbar_items = [[\"Home\", \"Reset original view\", \"fa fa-home icon-home\", \"home\"], [\"Back\", \"Back to  previous view\", \"fa fa-arrow-left icon-arrow-left\", \"back\"], [\"Forward\", \"Forward to next view\", \"fa fa-arrow-right icon-arrow-right\", \"forward\"], [\"\", \"\", \"\", \"\"], [\"Pan\", \"Pan axes with left mouse, zoom with right\", \"fa fa-arrows icon-move\", \"pan\"], [\"Zoom\", \"Zoom to rectangle\", \"fa fa-square-o icon-check-empty\", \"zoom\"], [\"\", \"\", \"\", \"\"], [\"Download\", \"Download plot\", \"fa fa-floppy-o icon-save\", \"download\"]];\n",
       "\n",
       "mpl.extensions = [\"eps\", \"pdf\", \"png\", \"ps\", \"raw\", \"svg\"];\n",
       "\n",
       "mpl.default_extension = \"png\";var comm_websocket_adapter = function(comm) {\n",
       "    // Create a \"websocket\"-like object which calls the given IPython comm\n",
       "    // object with the appropriate methods. Currently this is a non binary\n",
       "    // socket, so there is still some room for performance tuning.\n",
       "    var ws = {};\n",
       "\n",
       "    ws.close = function() {\n",
       "        comm.close()\n",
       "    };\n",
       "    ws.send = function(m) {\n",
       "        //console.log('sending', m);\n",
       "        comm.send(m);\n",
       "    };\n",
       "    // Register the callback with on_msg.\n",
       "    comm.on_msg(function(msg) {\n",
       "        //console.log('receiving', msg['content']['data'], msg);\n",
       "        // Pass the mpl event to the overriden (by mpl) onmessage function.\n",
       "        ws.onmessage(msg['content']['data'])\n",
       "    });\n",
       "    return ws;\n",
       "}\n",
       "\n",
       "mpl.mpl_figure_comm = function(comm, msg) {\n",
       "    // This is the function which gets called when the mpl process\n",
       "    // starts-up an IPython Comm through the \"matplotlib\" channel.\n",
       "\n",
       "    var id = msg.content.data.id;\n",
       "    // Get hold of the div created by the display call when the Comm\n",
       "    // socket was opened in Python.\n",
       "    var element = $(\"#\" + id);\n",
       "    var ws_proxy = comm_websocket_adapter(comm)\n",
       "\n",
       "    function ondownload(figure, format) {\n",
       "        window.open(figure.imageObj.src);\n",
       "    }\n",
       "\n",
       "    var fig = new mpl.figure(id, ws_proxy,\n",
       "                           ondownload,\n",
       "                           element.get(0));\n",
       "\n",
       "    // Call onopen now - mpl needs it, as it is assuming we've passed it a real\n",
       "    // web socket which is closed, not our websocket->open comm proxy.\n",
       "    ws_proxy.onopen();\n",
       "\n",
       "    fig.parent_element = element.get(0);\n",
       "    fig.cell_info = mpl.find_output_cell(\"<div id='\" + id + \"'></div>\");\n",
       "    if (!fig.cell_info) {\n",
       "        console.error(\"Failed to find cell for figure\", id, fig);\n",
       "        return;\n",
       "    }\n",
       "\n",
       "    var output_index = fig.cell_info[2]\n",
       "    var cell = fig.cell_info[0];\n",
       "\n",
       "};\n",
       "\n",
       "mpl.figure.prototype.handle_close = function(fig, msg) {\n",
       "    var width = fig.canvas.width/mpl.ratio\n",
       "    fig.root.unbind('remove')\n",
       "\n",
       "    // Update the output cell to use the data from the current canvas.\n",
       "    fig.push_to_output();\n",
       "    var dataURL = fig.canvas.toDataURL();\n",
       "    // Re-enable the keyboard manager in IPython - without this line, in FF,\n",
       "    // the notebook keyboard shortcuts fail.\n",
       "    IPython.keyboard_manager.enable()\n",
       "    $(fig.parent_element).html('<img src=\"' + dataURL + '\" width=\"' + width + '\">');\n",
       "    fig.close_ws(fig, msg);\n",
       "}\n",
       "\n",
       "mpl.figure.prototype.close_ws = function(fig, msg){\n",
       "    fig.send_message('closing', msg);\n",
       "    // fig.ws.close()\n",
       "}\n",
       "\n",
       "mpl.figure.prototype.push_to_output = function(remove_interactive) {\n",
       "    // Turn the data on the canvas into data in the output cell.\n",
       "    var width = this.canvas.width/mpl.ratio\n",
       "    var dataURL = this.canvas.toDataURL();\n",
       "    this.cell_info[1]['text/html'] = '<img src=\"' + dataURL + '\" width=\"' + width + '\">';\n",
       "}\n",
       "\n",
       "mpl.figure.prototype.updated_canvas_event = function() {\n",
       "    // Tell IPython that the notebook contents must change.\n",
       "    IPython.notebook.set_dirty(true);\n",
       "    this.send_message(\"ack\", {});\n",
       "    var fig = this;\n",
       "    // Wait a second, then push the new image to the DOM so\n",
       "    // that it is saved nicely (might be nice to debounce this).\n",
       "    setTimeout(function () { fig.push_to_output() }, 1000);\n",
       "}\n",
       "\n",
       "mpl.figure.prototype._init_toolbar = function() {\n",
       "    var fig = this;\n",
       "\n",
       "    var nav_element = $('<div/>')\n",
       "    nav_element.attr('style', 'width: 100%');\n",
       "    this.root.append(nav_element);\n",
       "\n",
       "    // Define a callback function for later on.\n",
       "    function toolbar_event(event) {\n",
       "        return fig.toolbar_button_onclick(event['data']);\n",
       "    }\n",
       "    function toolbar_mouse_event(event) {\n",
       "        return fig.toolbar_button_onmouseover(event['data']);\n",
       "    }\n",
       "\n",
       "    for(var toolbar_ind in mpl.toolbar_items){\n",
       "        var name = mpl.toolbar_items[toolbar_ind][0];\n",
       "        var tooltip = mpl.toolbar_items[toolbar_ind][1];\n",
       "        var image = mpl.toolbar_items[toolbar_ind][2];\n",
       "        var method_name = mpl.toolbar_items[toolbar_ind][3];\n",
       "\n",
       "        if (!name) { continue; };\n",
       "\n",
       "        var button = $('<button class=\"btn btn-default\" href=\"#\" title=\"' + name + '\"><i class=\"fa ' + image + ' fa-lg\"></i></button>');\n",
       "        button.click(method_name, toolbar_event);\n",
       "        button.mouseover(tooltip, toolbar_mouse_event);\n",
       "        nav_element.append(button);\n",
       "    }\n",
       "\n",
       "    // Add the status bar.\n",
       "    var status_bar = $('<span class=\"mpl-message\" style=\"text-align:right; float: right;\"/>');\n",
       "    nav_element.append(status_bar);\n",
       "    this.message = status_bar[0];\n",
       "\n",
       "    // Add the close button to the window.\n",
       "    var buttongrp = $('<div class=\"btn-group inline pull-right\"></div>');\n",
       "    var button = $('<button class=\"btn btn-mini btn-primary\" href=\"#\" title=\"Stop Interaction\"><i class=\"fa fa-power-off icon-remove icon-large\"></i></button>');\n",
       "    button.click(function (evt) { fig.handle_close(fig, {}); } );\n",
       "    button.mouseover('Stop Interaction', toolbar_mouse_event);\n",
       "    buttongrp.append(button);\n",
       "    var titlebar = this.root.find($('.ui-dialog-titlebar'));\n",
       "    titlebar.prepend(buttongrp);\n",
       "}\n",
       "\n",
       "mpl.figure.prototype._root_extra_style = function(el){\n",
       "    var fig = this\n",
       "    el.on(\"remove\", function(){\n",
       "\tfig.close_ws(fig, {});\n",
       "    });\n",
       "}\n",
       "\n",
       "mpl.figure.prototype._canvas_extra_style = function(el){\n",
       "    // this is important to make the div 'focusable\n",
       "    el.attr('tabindex', 0)\n",
       "    // reach out to IPython and tell the keyboard manager to turn it's self\n",
       "    // off when our div gets focus\n",
       "\n",
       "    // location in version 3\n",
       "    if (IPython.notebook.keyboard_manager) {\n",
       "        IPython.notebook.keyboard_manager.register_events(el);\n",
       "    }\n",
       "    else {\n",
       "        // location in version 2\n",
       "        IPython.keyboard_manager.register_events(el);\n",
       "    }\n",
       "\n",
       "}\n",
       "\n",
       "mpl.figure.prototype._key_event_extra = function(event, name) {\n",
       "    var manager = IPython.notebook.keyboard_manager;\n",
       "    if (!manager)\n",
       "        manager = IPython.keyboard_manager;\n",
       "\n",
       "    // Check for shift+enter\n",
       "    if (event.shiftKey && event.which == 13) {\n",
       "        this.canvas_div.blur();\n",
       "        event.shiftKey = false;\n",
       "        // Send a \"J\" for go to next cell\n",
       "        event.which = 74;\n",
       "        event.keyCode = 74;\n",
       "        manager.command_mode();\n",
       "        manager.handle_keydown(event);\n",
       "    }\n",
       "}\n",
       "\n",
       "mpl.figure.prototype.handle_save = function(fig, msg) {\n",
       "    fig.ondownload(fig, null);\n",
       "}\n",
       "\n",
       "\n",
       "mpl.find_output_cell = function(html_output) {\n",
       "    // Return the cell and output element which can be found *uniquely* in the notebook.\n",
       "    // Note - this is a bit hacky, but it is done because the \"notebook_saving.Notebook\"\n",
       "    // IPython event is triggered only after the cells have been serialised, which for\n",
       "    // our purposes (turning an active figure into a static one), is too late.\n",
       "    var cells = IPython.notebook.get_cells();\n",
       "    var ncells = cells.length;\n",
       "    for (var i=0; i<ncells; i++) {\n",
       "        var cell = cells[i];\n",
       "        if (cell.cell_type === 'code'){\n",
       "            for (var j=0; j<cell.output_area.outputs.length; j++) {\n",
       "                var data = cell.output_area.outputs[j];\n",
       "                if (data.data) {\n",
       "                    // IPython >= 3 moved mimebundle to data attribute of output\n",
       "                    data = data.data;\n",
       "                }\n",
       "                if (data['text/html'] == html_output) {\n",
       "                    return [cell, data, j];\n",
       "                }\n",
       "            }\n",
       "        }\n",
       "    }\n",
       "}\n",
       "\n",
       "// Register the function which deals with the matplotlib target/channel.\n",
       "// The kernel may be null if the page has been refreshed.\n",
       "if (IPython.notebook.kernel != null) {\n",
       "    IPython.notebook.kernel.comm_manager.register_target('matplotlib', mpl.mpl_figure_comm);\n",
       "}\n"
      ],
      "text/plain": [
       "<IPython.core.display.Javascript object>"
      ]
     },
     "metadata": {},
     "output_type": "display_data"
    },
    {
     "data": {
      "text/html": [
       "<img src=\"data:image/png;base64,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\" width=\"675\">"
      ],
      "text/plain": [
       "<IPython.core.display.HTML object>"
      ]
     },
     "metadata": {},
     "output_type": "display_data"
    }
   ],
   "source": [
    "from qcodes import load_by_id\n",
    "ds1 = load_by_id(44)\n",
    "ds2 = load_by_id(47)\n",
    "freqs1 = ds1.get_data('frequency')\n",
    "mags1 = ds1.get_data('magnitude')\n",
    "freqs2 = ds2.get_data('frequency')\n",
    "mags2 = ds2.get_data('magnitude')\n",
    "#mags1=np.reshape(mags1,(np.shape(mags1)[0],np.shape(mags1)[2]))\n",
    "\n",
    "plt.figure(6)\n",
    "for i in range(1):\n",
    "    plt.plot(freqs2[i][0][:],mags2[i][0][:], 'c')\n",
    "    plt.plot(freqs1[i][0][:],mags1[i][0][:], 'b')\n",
    "    plt.grid()\n",
    "#plt.xlim(3e9,7e9)\n",
    "\n",
    "\n",
    "#plt.figure(7)\n",
    "#plt.imshow(np.transpose(mags1)[-1:0:-1],aspect='auto',extent = [-500, 1800., freqs1[0][0][0],freqs1[0][0][-1]])"
   ]
  },
  {
   "cell_type": "code",
   "execution_count": null,
   "metadata": {
    "collapsed": true
   },
   "outputs": [],
   "source": [
    "\n",
    "\n",
    "mags1=np.reshape(mags1,(200,701))\n",
    "np.shape(mags1)"
   ]
  },
  {
   "cell_type": "markdown",
   "metadata": {},
   "source": [
    "# Sweep Gates and monitor with VNA"
   ]
  },
  {
   "cell_type": "code",
   "execution_count": 88,
   "metadata": {
    "ExecuteTime": {
     "end_time": "2019-01-22T12:13:09.627349Z",
     "start_time": "2019-01-22T12:10:39.752963Z"
    }
   },
   "outputs": [
    {
     "name": "stdout",
     "output_type": "stream",
     "text": [
      "Starting experimental run with id: 80\n"
     ]
    },
    {
     "name": "stderr",
     "output_type": "stream",
     "text": [
      "Could not set start to 5148000000.000001 setting it to 5148000000.0\n",
      "Could not set start to 5148000000.000001 setting it to 5148000000.0\n",
      "Could not set start to 5148000000.000001 setting it to 5148000000.0\n",
      "Could not set start to 5148000000.000001 setting it to 5148000000.0\n",
      "Could not set start to 5148000000.000001 setting it to 5148000000.0\n",
      "Could not set start to 5148000000.000001 setting it to 5148000000.0\n",
      "Could not set start to 5148000000.000001 setting it to 5148000000.0\n",
      "Could not set start to 5148000000.000001 setting it to 5148000000.0\n",
      "Could not set start to 5148000000.000001 setting it to 5148000000.0\n",
      "Could not set start to 5148000000.000001 setting it to 5148000000.0\n",
      "Could not set start to 5148000000.000001 setting it to 5148000000.0\n",
      "Could not set start to 5148000000.000001 setting it to 5148000000.0\n",
      "Could not set start to 5148000000.000001 setting it to 5148000000.0\n",
      "Could not set start to 5148000000.000001 setting it to 5148000000.0\n",
      "Could not set start to 5148000000.000001 setting it to 5148000000.0\n",
      "Could not set start to 5148000000.000001 setting it to 5148000000.0\n",
      "Could not set start to 5148000000.000001 setting it to 5148000000.0\n",
      "Could not set start to 5148000000.000001 setting it to 5148000000.0\n",
      "Could not set start to 5148000000.000001 setting it to 5148000000.0\n",
      "Could not set start to 5148000000.000001 setting it to 5148000000.0\n",
      "Could not set start to 5148000000.000001 setting it to 5148000000.0\n",
      "Could not set start to 5148000000.000001 setting it to 5148000000.0\n",
      "Could not set start to 5148000000.000001 setting it to 5148000000.0\n",
      "Could not set start to 5148000000.000001 setting it to 5148000000.0\n",
      "Could not set start to 5148000000.000001 setting it to 5148000000.0\n",
      "Could not set start to 5148000000.000001 setting it to 5148000000.0\n",
      "Could not set start to 5148000000.000001 setting it to 5148000000.0\n",
      "Could not set start to 5148000000.000001 setting it to 5148000000.0\n",
      "Could not set start to 5148000000.000001 setting it to 5148000000.0\n",
      "Could not set start to 5148000000.000001 setting it to 5148000000.0\n",
      "Could not set start to 5148000000.000001 setting it to 5148000000.0\n",
      "Could not set start to 5148000000.000001 setting it to 5148000000.0\n",
      "Could not set start to 5148000000.000001 setting it to 5148000000.0\n",
      "Could not set start to 5148000000.000001 setting it to 5148000000.0\n",
      "Could not set start to 5148000000.000001 setting it to 5148000000.0\n",
      "Could not set start to 5148000000.000001 setting it to 5148000000.0\n",
      "Could not set start to 5148000000.000001 setting it to 5148000000.0\n",
      "Could not set start to 5148000000.000001 setting it to 5148000000.0\n",
      "Could not set start to 5148000000.000001 setting it to 5148000000.0\n",
      "Could not set start to 5148000000.000001 setting it to 5148000000.0\n",
      "Could not set start to 5148000000.000001 setting it to 5148000000.0\n",
      "Could not set start to 5148000000.000001 setting it to 5148000000.0\n",
      "Could not set start to 5148000000.000001 setting it to 5148000000.0\n",
      "Could not set start to 5148000000.000001 setting it to 5148000000.0\n",
      "Could not set start to 5148000000.000001 setting it to 5148000000.0\n",
      "Could not set start to 5148000000.000001 setting it to 5148000000.0\n",
      "Could not set start to 5148000000.000001 setting it to 5148000000.0\n",
      "Could not set start to 5148000000.000001 setting it to 5148000000.0\n",
      "Could not set start to 5148000000.000001 setting it to 5148000000.0\n",
      "Could not set start to 5148000000.000001 setting it to 5148000000.0\n",
      "Could not set start to 5148000000.000001 setting it to 5148000000.0\n",
      "Could not set start to 5148000000.000001 setting it to 5148000000.0\n",
      "Could not set start to 5148000000.000001 setting it to 5148000000.0\n",
      "Could not set start to 5148000000.000001 setting it to 5148000000.0\n",
      "Could not set start to 5148000000.000001 setting it to 5148000000.0\n",
      "Could not set start to 5148000000.000001 setting it to 5148000000.0\n",
      "Could not set start to 5148000000.000001 setting it to 5148000000.0\n",
      "Could not set start to 5148000000.000001 setting it to 5148000000.0\n",
      "Could not set start to 5148000000.000001 setting it to 5148000000.0\n",
      "Could not set start to 5148000000.000001 setting it to 5148000000.0\n",
      "Could not set start to 5148000000.000001 setting it to 5148000000.0\n",
      "Could not set start to 5148000000.000001 setting it to 5148000000.0\n",
      "Could not set start to 5148000000.000001 setting it to 5148000000.0\n",
      "Could not set start to 5148000000.000001 setting it to 5148000000.0\n",
      "Could not set start to 5148000000.000001 setting it to 5148000000.0\n",
      "Could not set start to 5148000000.000001 setting it to 5148000000.0\n",
      "Could not set start to 5148000000.000001 setting it to 5148000000.0\n",
      "Could not set start to 5148000000.000001 setting it to 5148000000.0\n",
      "Could not set start to 5148000000.000001 setting it to 5148000000.0\n",
      "Could not set start to 5148000000.000001 setting it to 5148000000.0\n"
     ]
    }
   ],
   "source": [
    "center_freqs = np.array([5.248])\n",
    "\n",
    "for i,f in enumerate(center_freqs):\n",
    "    cur_cutter = dac_cutter1()\n",
    "    sweep_obj = sweep(dac_cutter1, np.arange(cur_cutter,-580.0,1.0))(\n",
    "        vna_frequency_sweep_dB(fstart=(f-0.1)*1e9, fstop=(f+0.1)*1e9, fpts=2001, chan='S21')\n",
    "    )\n",
    "    result = do_experiment(f\"VNA_gatesweep/{SAMPLE}\", sweep_obj, live_plot=True)\n",
    "    "
   ]
  },
  {
   "cell_type": "code",
   "execution_count": 51,
   "metadata": {
    "ExecuteTime": {
     "end_time": "2019-01-21T17:02:21.407591Z",
     "start_time": "2019-01-21T17:00:53.651205Z"
    }
   },
   "outputs": [
    {
     "name": "stdout",
     "output_type": "stream",
     "text": [
      "Starting experimental run with id: 31\n"
     ]
    }
   ],
   "source": [
    "center_freqs = np.array([4.577])\n",
    "cur_cutter = dac_cutter1()\n",
    "\n",
    "for i,f in enumerate(center_freqs):\n",
    "    sweep_obj = sweep(set_cutters, np.arange(cur_cutter,-2000.0,-5.0))(\n",
    "        vna_frequency_sweep_dB(fstart=5.2e9, fstop=5.3e9, fpts=1001, chan='S21', pwr=-55)\n",
    "    )\n",
    "    result = do_experiment(f\"VNA_gatesweep/{SAMPLE}\", sweep_obj, live_plot=True)\n",
    "    "
   ]
  },
  {
   "cell_type": "code",
   "execution_count": null,
   "metadata": {
    "collapsed": true
   },
   "outputs": [],
   "source": []
  },
  {
   "cell_type": "code",
   "execution_count": null,
   "metadata": {
    "ExecuteTime": {
     "end_time": "2018-12-27T17:30:13.435398Z",
     "start_time": "2018-12-27T16:45:32.949645Z"
    },
    "collapsed": true
   },
   "outputs": [],
   "source": [
    "#station.ivvi.set_dacs_zero()\n",
    "#dac_cutter14(-2000)\n",
    "cur_cutter = dac_cutter14()\n",
    "sweep_obj = sweep(dac_cutter14, np.arange(0.0,1000.0,1.0))(\n",
    "    vna_frequency_sweep_dB(fstart=3.20e9, fstop=5.5e9, fpts=2301, chan='S21', pwr=-55)\n",
    "    )\n",
    "\n",
    "result = do_experiment(f\"VNA_gatesweep/{SAMPLE}\", sweep_obj, live_plot=True)"
   ]
  },
  {
   "cell_type": "code",
   "execution_count": null,
   "metadata": {
    "ExecuteTime": {
     "end_time": "2018-11-21T00:53:41.971171Z",
     "start_time": "2018-11-21T00:53:13.289198Z"
    },
    "collapsed": true
   },
   "outputs": [],
   "source": [
    "dac_cutter14(-500)"
   ]
  },
  {
   "cell_type": "code",
   "execution_count": null,
   "metadata": {
    "ExecuteTime": {
     "end_time": "2018-11-21T07:20:01.485298Z",
     "start_time": "2018-11-21T00:53:41.975173Z"
    },
    "collapsed": true
   },
   "outputs": [],
   "source": [
    "#station.ivvi.set_dacs_zero()\n",
    "#dac_cutter14(-2000)\n",
    "cur_cutter = dac_cutter14()\n",
    "sweep_obj = sweep(dac_cutter14, np.arange(-500.0,1800.,0.2))(\n",
    "    vna_frequency_sweep_dB(fstart=4.51e9, fstop=4.62e9, fpts=1501, chan='S21', pwr=-55)\n",
    "    )\n",
    "\n",
    "result = do_experiment(f\"VNA_gatesweep/{SAMPLE}\", sweep_obj, live_plot=True)"
   ]
  },
  {
   "cell_type": "code",
   "execution_count": null,
   "metadata": {
    "ExecuteTime": {
     "end_time": "2018-11-27T18:15:47.855367Z",
     "start_time": "2018-11-27T18:15:47.820343Z"
    },
    "collapsed": true
   },
   "outputs": [],
   "source": [
    "dac_cutter14()"
   ]
  },
  {
   "cell_type": "code",
   "execution_count": null,
   "metadata": {
    "ExecuteTime": {
     "end_time": "2018-11-21T08:51:19.248922Z",
     "start_time": "2018-11-21T08:17:31.275016Z"
    },
    "collapsed": true
   },
   "outputs": [],
   "source": [
    "#station.ivvi.set_dacs_zero()\n",
    "#dac_cutter14(-2000)\n",
    "cur_cutter = dac_cutter14()\n",
    "sweep_obj = sweep(dac_cutter1, np.arange(-500.0,1800.,1.0))(\n",
    "    vna_frequency_sweep_dB(fstart=4.70e9, fstop=4.77e9, fpts=601, chan='S21', pwr=-55)\n",
    "    )\n",
    "\n",
    "result = do_experiment(f\"VNA_gatesweep/{SAMPLE}\", sweep_obj, live_plot=True)"
   ]
  },
  {
   "cell_type": "code",
   "execution_count": null,
   "metadata": {
    "ExecuteTime": {
     "end_time": "2018-11-21T08:51:42.069744Z",
     "start_time": "2018-11-21T08:51:19.252924Z"
    },
    "collapsed": true
   },
   "outputs": [],
   "source": [
    "station.ivvi.set_dacs_zero()"
   ]
  },
  {
   "cell_type": "markdown",
   "metadata": {},
   "source": [
    "# Power dependence"
   ]
  },
  {
   "cell_type": "code",
   "execution_count": null,
   "metadata": {
    "ExecuteTime": {
     "end_time": "2018-11-15T17:58:13.063061Z",
     "start_time": "2018-11-15T17:57:55.197265Z"
    },
    "collapsed": true
   },
   "outputs": [],
   "source": [
    "station.ivvi.set_dacs_zero()"
   ]
  },
  {
   "cell_type": "code",
   "execution_count": null,
   "metadata": {
    "ExecuteTime": {
     "end_time": "2018-11-20T15:10:08.163243Z",
     "start_time": "2018-11-20T15:08:37.909845Z"
    },
    "collapsed": true
   },
   "outputs": [],
   "source": [
    "center_freqs = np.array([4.579])\n",
    "\n",
    "for i,f in enumerate(center_freqs):\n",
    "    sweep_obj = sweep(station.vna.S21.power, np.arange(-60., -20., 4.))(\n",
    "        vna_frequency_sweep_dB(fstart=(f-0.04)*1e9, fstop=(f+0.025)*1e9, fpts=7001, chan='S21')\n",
    "    )\n",
    "\n",
    "    result = do_experiment(f\"VNA_powersweep/{SAMPLE}\", sweep_obj, live_plot=True)"
   ]
  },
  {
   "cell_type": "markdown",
   "metadata": {},
   "source": [
    "# Flux dependence"
   ]
  },
  {
   "cell_type": "code",
   "execution_count": 32,
   "metadata": {
    "ExecuteTime": {
     "end_time": "2019-01-21T14:18:45.847119Z",
     "start_time": "2019-01-21T14:18:45.842117Z"
    }
   },
   "outputs": [],
   "source": [
    "station.yoko.current_range(0.1)"
   ]
  },
  {
   "cell_type": "code",
   "execution_count": 31,
   "metadata": {
    "ExecuteTime": {
     "end_time": "2019-01-21T14:18:43.165120Z",
     "start_time": "2019-01-21T14:18:43.031018Z"
    },
    "collapsed": true
   },
   "outputs": [],
   "source": [
    "station.yoko.off()\n",
    "station.yoko.source_mode('CURR')"
   ]
  },
  {
   "cell_type": "code",
   "execution_count": 33,
   "metadata": {
    "ExecuteTime": {
     "end_time": "2019-01-21T14:18:50.522818Z",
     "start_time": "2019-01-21T14:18:50.517816Z"
    },
    "collapsed": true
   },
   "outputs": [],
   "source": [
    "station.yoko.current(0.00)\n"
   ]
  },
  {
   "cell_type": "code",
   "execution_count": null,
   "metadata": {
    "ExecuteTime": {
     "end_time": "2018-12-28T11:55:38.595306Z",
     "start_time": "2018-12-28T11:46:33.676935Z"
    },
    "collapsed": true
   },
   "outputs": [],
   "source": [
    "station.yoko.current(0.00)\n",
    "station.yoko.on()\n",
    "\n",
    "sweep_obj = sweep(station.yoko.current, np.arange(5e-3, +10e-3, +0.005e-3))(\n",
    "    vna_frequency_sweep_dB(fstart=3.935e9, fstop=3.945e9, fpts=501, chan='S21', pwr=-55)\n",
    "    )\n",
    "\n",
    "result = do_experiment(f\"VNA_flux_sweep/{SAMPLE}\", sweep_obj, live_plot=True)"
   ]
  },
  {
   "cell_type": "code",
   "execution_count": 89,
   "metadata": {
    "ExecuteTime": {
     "end_time": "2019-01-22T12:19:30.707413Z",
     "start_time": "2019-01-22T12:19:30.699439Z"
    }
   },
   "outputs": [
    {
     "data": {
      "text/plain": [
       "0.015709"
      ]
     },
     "execution_count": 89,
     "metadata": {},
     "output_type": "execute_result"
    }
   ],
   "source": [
    "station.yoko.current()"
   ]
  },
  {
   "cell_type": "code",
   "execution_count": 99,
   "metadata": {
    "ExecuteTime": {
     "end_time": "2019-01-23T09:30:40.878495Z",
     "start_time": "2019-01-23T09:30:40.473207Z"
    },
    "collapsed": true
   },
   "outputs": [],
   "source": [
    "dac_cutter1(550.0)"
   ]
  },
  {
   "cell_type": "markdown",
   "metadata": {},
   "source": [
    "### Flux vs resonator frequency"
   ]
  },
  {
   "cell_type": "code",
   "execution_count": 98,
   "metadata": {
    "ExecuteTime": {
     "end_time": "2019-01-23T04:47:00.271954Z",
     "start_time": "2019-01-22T18:54:10.715677Z"
    }
   },
   "outputs": [
    {
     "name": "stdout",
     "output_type": "stream",
     "text": [
      "Starting experimental run with id: 133\n",
      "Starting experimental run with id: 134\n",
      "Starting experimental run with id: 135\n",
      "Starting experimental run with id: 136\n",
      "Starting experimental run with id: 137\n",
      "Starting experimental run with id: 138\n",
      "Starting experimental run with id: 139\n",
      "Starting experimental run with id: 140\n",
      "Starting experimental run with id: 141\n",
      "Starting experimental run with id: 142\n",
      "Starting experimental run with id: 143\n",
      "Starting experimental run with id: 144\n",
      "Starting experimental run with id: 145\n",
      "Starting experimental run with id: 146\n",
      "Starting experimental run with id: 147\n",
      "Starting experimental run with id: 148\n",
      "Starting experimental run with id: 149\n",
      "Starting experimental run with id: 150\n",
      "Starting experimental run with id: 151\n",
      "Starting experimental run with id: 152\n",
      "Starting experimental run with id: 153\n",
      "Starting experimental run with id: 154\n",
      "Starting experimental run with id: 155\n",
      "Starting experimental run with id: 156\n",
      "Starting experimental run with id: 157\n",
      "Starting experimental run with id: 158\n",
      "Starting experimental run with id: 159\n",
      "Starting experimental run with id: 160\n",
      "Starting experimental run with id: 161\n",
      "Starting experimental run with id: 162\n",
      "Starting experimental run with id: 163\n",
      "Starting experimental run with id: 164\n",
      "Starting experimental run with id: 165\n",
      "Starting experimental run with id: 166\n",
      "Starting experimental run with id: 167\n",
      "Starting experimental run with id: 168\n",
      "Starting experimental run with id: 169\n",
      "Starting experimental run with id: 170\n",
      "Starting experimental run with id: 171\n",
      "Starting experimental run with id: 172\n",
      "Starting experimental run with id: 173\n",
      "Starting experimental run with id: 174\n",
      "Starting experimental run with id: 175\n",
      "Starting experimental run with id: 176\n",
      "Starting experimental run with id: 177\n",
      "Starting experimental run with id: 178\n",
      "Starting experimental run with id: 179\n",
      "Starting experimental run with id: 180\n",
      "Starting experimental run with id: 181\n",
      "Starting experimental run with id: 182\n",
      "Starting experimental run with id: 183\n",
      "Starting experimental run with id: 184\n",
      "Starting experimental run with id: 185\n",
      "Starting experimental run with id: 186\n",
      "Starting experimental run with id: 187\n",
      "Starting experimental run with id: 188\n",
      "Starting experimental run with id: 189\n",
      "Starting experimental run with id: 190\n",
      "Starting experimental run with id: 191\n",
      "Starting experimental run with id: 192\n",
      "Starting experimental run with id: 193\n",
      "Starting experimental run with id: 194\n",
      "Starting experimental run with id: 195\n",
      "Starting experimental run with id: 196\n",
      "Starting experimental run with id: 197\n",
      "Starting experimental run with id: 198\n",
      "Starting experimental run with id: 199\n",
      "Starting experimental run with id: 200\n",
      "Starting experimental run with id: 201\n",
      "Starting experimental run with id: 202\n",
      "Starting experimental run with id: 203\n",
      "Starting experimental run with id: 204\n",
      "Starting experimental run with id: 205\n",
      "Starting experimental run with id: 206\n",
      "Starting experimental run with id: 207\n",
      "Starting experimental run with id: 208\n",
      "Starting experimental run with id: 209\n",
      "Starting experimental run with id: 210\n",
      "Starting experimental run with id: 211\n",
      "Starting experimental run with id: 212\n",
      "Starting experimental run with id: 213\n",
      "Starting experimental run with id: 214\n",
      "Starting experimental run with id: 215\n",
      "Starting experimental run with id: 216\n",
      "Starting experimental run with id: 217\n",
      "Starting experimental run with id: 218\n",
      "Starting experimental run with id: 219\n",
      "Starting experimental run with id: 220\n",
      "Starting experimental run with id: 221\n",
      "Starting experimental run with id: 222\n",
      "Starting experimental run with id: 223\n",
      "Starting experimental run with id: 224\n",
      "Starting experimental run with id: 225\n",
      "Starting experimental run with id: 226\n",
      "Starting experimental run with id: 227\n",
      "Starting experimental run with id: 228\n",
      "Starting experimental run with id: 229\n",
      "Starting experimental run with id: 230\n",
      "Starting experimental run with id: 231\n",
      "Starting experimental run with id: 232\n",
      "Starting experimental run with id: 233\n",
      "Starting experimental run with id: 234\n",
      "Starting experimental run with id: 235\n",
      "Starting experimental run with id: 236\n",
      "Starting experimental run with id: 237\n",
      "Starting experimental run with id: 238\n",
      "Starting experimental run with id: 239\n",
      "Starting experimental run with id: 240\n",
      "Starting experimental run with id: 241\n",
      "Starting experimental run with id: 242\n",
      "Starting experimental run with id: 243\n",
      "Starting experimental run with id: 244\n",
      "Starting experimental run with id: 245\n",
      "Starting experimental run with id: 246\n"
     ]
    }
   ],
   "source": [
    "station.yoko.on()\n",
    "cur_current = station.yoko.current()\n",
    "cur_cutter1 = dac_cutter1()\n",
    "cutters = np.arange(-530.0,600.0,20.0)\n",
    "for i in cutters:\n",
    "    dac_cutter1(i)\n",
    "    sweep_obj = sweep(station.yoko.current, np.arange(0.0, 0.04, 0.002/14.64))(\n",
    "        vna_frequency_sweep_dB(fstart=5.2e9, fstop=5.3e9, fpts=1001, chan='S21', pwr=-55)\n",
    "        )\n",
    "\n",
    "    result = do_experiment(f\"VNA_flux_sweep/{SAMPLE}\", sweep_obj, live_plot=True)\n",
    "    sweep_obj = sweep(station.yoko.current, np.arange(0.04, 0.0, -0.002/14.64))(\n",
    "        vna_frequency_sweep_dB(fstart=5.1e9, fstop=5.2e9, fpts=1001, chan='S21', pwr=-55)\n",
    "        )\n",
    "\n",
    "    result = do_experiment(f\"VNA_flux_sweep/{SAMPLE}\", sweep_obj, live_plot=True)"
   ]
  },
  {
   "cell_type": "code",
   "execution_count": 77,
   "metadata": {
    "ExecuteTime": {
     "end_time": "2019-01-21T20:29:49.224285Z",
     "start_time": "2019-01-21T20:29:40.417931Z"
    }
   },
   "outputs": [
    {
     "name": "stdout",
     "output_type": "stream",
     "text": [
      "Starting experimental run with id: 46\n"
     ]
    }
   ],
   "source": [
    "station.yoko.on()\n",
    "cur_current = station.yoko.current()\n",
    "sweep_obj = sweep(station.yoko.current, np.arange(cur_current, 0.016, 0.005/14.64))(\n",
    "    vna_frequency_sweep_dB(fstart=4.0e9, fstop=5.0e9, fpts=101, chan='S21', pwr=-55)\n",
    "    )\n",
    "\n",
    "result = do_experiment(f\"VNA_flux_sweep/{SAMPLE}\", sweep_obj, live_plot=True)"
   ]
  },
  {
   "cell_type": "markdown",
   "metadata": {},
   "source": [
    "## 2D Cutter and flux"
   ]
  },
  {
   "cell_type": "code",
   "execution_count": null,
   "metadata": {
    "ExecuteTime": {
     "end_time": "2018-11-16T10:35:31.995336Z",
     "start_time": "2018-11-16T08:35:03.640785Z"
    },
    "collapsed": true
   },
   "outputs": [],
   "source": [
    "station.yoko.on()\n",
    "#This is to ramp down the current before starting \n",
    "cur_current = station.yoko.current()\n",
    "sweep_obj = sweep(station.yoko.current, np.linspace(cur_current, 0.0, 50))(\n",
    "    vna_frequency_sweep_dB(fstart=4.565e9-40e6, fstop=4.595e9, fpts=101, chan='S21', pwr=-55)\n",
    "    )\n",
    "result = do_experiment(f\"VNA_flux_sweep/{SAMPLE}\", sweep_obj, live_plot=True)\n",
    "\n",
    "\n",
    "sweep_obj = sweep(station.yoko.current, np.arange(0.0, +9.0e-3, +0.1e-3))(\n",
    "              sweep(dac_cutter14, np.arange(-100.,1700.,10.0))(\n",
    "                vna_frequency_sweep_dB(fstart=4.53e9, fstop=4.57e9, fpts=701, chan='S21', pwr=-55)\n",
    "                )\n",
    "             )\n",
    "\n",
    "result = do_experiment(f\"VNA_flux_sweep/{SAMPLE}\", sweep_obj, live_plot=True)\n",
    "\n",
    "\n",
    "#This is to ramp down after finishing\n",
    "cur_current = station.yoko.current()\n",
    "sweep_obj = sweep(station.yoko.current, np.linspace(cur_current, 0.0, 50))(\n",
    "    vna_frequency_sweep_dB(fstart=4.53e9-40e6, fstop=4.585e9, fpts=101, chan='S21', pwr=-55)\n",
    "    )\n",
    "result = do_experiment(f\"VNA_flux_sweep/{SAMPLE}\", sweep_obj, live_plot=True)"
   ]
  },
  {
   "cell_type": "markdown",
   "metadata": {},
   "source": [
    "# Magnetic Field Sweeps"
   ]
  },
  {
   "cell_type": "code",
   "execution_count": null,
   "metadata": {
    "ExecuteTime": {
     "end_time": "2018-11-28T09:08:28.564568Z",
     "start_time": "2018-11-28T09:08:28.216298Z"
    },
    "collapsed": true
   },
   "outputs": [],
   "source": [
    "station.mgnt.GRPX.field_ramp_rate(1e-3)\n",
    "station.mgnt.GRPY.field_ramp_rate(1e-3)\n",
    "station.mgnt.GRPZ.field_ramp_rate(1e-3)"
   ]
  },
  {
   "cell_type": "code",
   "execution_count": null,
   "metadata": {
    "ExecuteTime": {
     "end_time": "2019-01-02T16:51:32.883279Z",
     "start_time": "2019-01-02T16:51:18.927381Z"
    },
    "collapsed": true
   },
   "outputs": [],
   "source": [
    "station.mgnt.x(0.0)"
   ]
  },
  {
   "cell_type": "code",
   "execution_count": null,
   "metadata": {
    "ExecuteTime": {
     "end_time": "2019-01-02T16:51:43.705872Z",
     "start_time": "2019-01-02T16:51:32.887274Z"
    },
    "collapsed": true
   },
   "outputs": [],
   "source": [
    "station.ivvi.set_dacs_zero()"
   ]
  },
  {
   "cell_type": "code",
   "execution_count": null,
   "metadata": {
    "ExecuteTime": {
     "end_time": "2019-01-02T16:48:56.794714Z",
     "start_time": "2019-01-02T16:24:02.247502Z"
    },
    "collapsed": true
   },
   "outputs": [],
   "source": [
    "curBx = station.mgnt.x()\n",
    "B_x = np.arange(curBx, 0.6*1e-3, 0.005*1e-3)\n",
    "sweep_obj = sweep(station.mgnt.x, B_x)(\n",
    "    vna_frequency_sweep_dB(fstart=3.94e9, fstop=3.98e9, fpts=1601, chan='S21', pwr=-55)\n",
    "    )\n",
    "\n",
    "result = do_experiment(f\"VNA_fieldsweep/{SAMPLE}\", sweep_obj, live_plot=True)"
   ]
  },
  {
   "cell_type": "code",
   "execution_count": null,
   "metadata": {
    "ExecuteTime": {
     "end_time": "2019-01-02T14:01:42.438817Z",
     "start_time": "2019-01-02T13:34:39.328018Z"
    },
    "collapsed": true
   },
   "outputs": [],
   "source": [
    "curBx = station.mgnt.x()\n",
    "B_x = np.arange(curBx, 0.0, -0.005*1e-3)\n",
    "sweep_obj = sweep(station.mgnt.x, B_x)(\n",
    "    vna_frequency_sweep_dB(fstart=3.9e9, fstop=3.98e9, fpts=1601, chan='S21', pwr=-55)\n",
    "    )\n",
    "\n",
    "result = do_experiment(f\"VNA_fieldsweep/{SAMPLE}\", sweep_obj, live_plot=True)"
   ]
  },
  {
   "cell_type": "code",
   "execution_count": null,
   "metadata": {
    "ExecuteTime": {
     "end_time": "2018-12-31T07:21:56.988032Z",
     "start_time": "2018-12-30T16:27:48.258485Z"
    },
    "collapsed": true
   },
   "outputs": [],
   "source": [
    "cut_values = [1700.0,1600.0,1500.0,1400.0,1300.0,1200.0,1100.0,1000.0,800.0,600.0,400.0,200.0]\n",
    "curBx = station.mgnt.x()\n",
    "\n",
    "for i,cutter in enumerate(cut_values):\n",
    "    dac_cutter1(cutter)\n",
    "    \n",
    "    B_x = np.linspace(((-1)**(i))*curBx, ((-1)**(i+1))*curBx, 321)\n",
    "    sweep_obj = sweep(station.mgnt.x, B_x)(\n",
    "        vna_frequency_sweep_dB(fstart=4.22e9, fstop=4.3e9, fpts=1601, chan='S21', pwr=-55)\n",
    "        )\n",
    "\n",
    "    result = do_experiment(f\"VNA_fieldsweep/{SAMPLE}\", sweep_obj, live_plot=True)\n",
    "    #set_magnet_x(0.0)"
   ]
  },
  {
   "cell_type": "code",
   "execution_count": null,
   "metadata": {
    "ExecuteTime": {
     "end_time": "2018-12-30T08:30:30.070795Z",
     "start_time": "2018-12-30T03:32:42.418952Z"
    },
    "collapsed": true
   },
   "outputs": [],
   "source": [
    "cut_values = [900.0,600.0,500.0,400.0]\n",
    "curBx = station.mgnt.x()\n",
    "\n",
    "for i,cutter in enumerate(cut_values):\n",
    "    dac_cutter1(cutter)\n",
    "    B_x = np.linspace(((-1)**(i))*curBx, ((-1)**(i+1))*curBx, 321)\n",
    "    sweep_obj = sweep(station.mgnt.x, B_x)(\n",
    "        vna_frequency_sweep_dB(fstart=3.93e9, fstop=4.01e9, fpts=1601, chan='S21', pwr=-55)\n",
    "        )\n",
    "\n",
    "    result = do_experiment(f\"VNA_fieldsweep/{SAMPLE}\", sweep_obj, live_plot=True)"
   ]
  },
  {
   "cell_type": "markdown",
   "metadata": {},
   "source": [
    "# TWPA pump tune up"
   ]
  },
  {
   "cell_type": "markdown",
   "metadata": {},
   "source": [
    "## VNA as function of pump power"
   ]
  },
  {
   "cell_type": "code",
   "execution_count": 59,
   "metadata": {
    "ExecuteTime": {
     "end_time": "2019-01-21T17:31:42.716643Z",
     "start_time": "2019-01-21T17:31:09.145092Z"
    }
   },
   "outputs": [
    {
     "name": "stdout",
     "output_type": "stream",
     "text": [
      "Starting experimental run with id: 37\n"
     ]
    }
   ],
   "source": [
    "station.TWPA.on()\n",
    "sweep_obj = sweep(station.TWPA.power, np.arange(6, 8, 0.1))(\n",
    "    vna_frequency_sweep_dB(fstart=4e9, fstop=5.5e9, fpts=1501, chan='S21', navgs=1)\n",
    ")\n",
    "\n",
    "result = do_experiment(f\"VNA_vs_pump_power/{SAMPLE}\", sweep_obj, live_plot=True)\n",
    "station.TWPA.off()"
   ]
  },
  {
   "cell_type": "code",
   "execution_count": null,
   "metadata": {
    "ExecuteTime": {
     "end_time": "2018-11-23T15:50:19.803111Z",
     "start_time": "2018-11-23T15:50:19.793105Z"
    },
    "collapsed": true
   },
   "outputs": [],
   "source": [
    "station.TWPA.frequency()"
   ]
  },
  {
   "cell_type": "markdown",
   "metadata": {},
   "source": [
    "## VNA as function of pump frq"
   ]
  },
  {
   "cell_type": "code",
   "execution_count": 63,
   "metadata": {
    "ExecuteTime": {
     "end_time": "2019-01-21T17:38:32.541144Z",
     "start_time": "2019-01-21T17:35:45.311099Z"
    }
   },
   "outputs": [
    {
     "name": "stdout",
     "output_type": "stream",
     "text": [
      "Starting experimental run with id: 39\n"
     ]
    },
    {
     "ename": "KeyboardInterrupt",
     "evalue": "",
     "output_type": "error",
     "traceback": [
      "\u001b[1;31m---------------------------------------------------------------------------\u001b[0m",
      "\u001b[1;31mKeyboardInterrupt\u001b[0m                         Traceback (most recent call last)",
      "\u001b[1;32mD:\\OneDrive\\BF2\\Code\\BF2\\BF2\\init_station_cqedVNA.py\u001b[0m in \u001b[0;36m<module>\u001b[1;34m\u001b[0m\n\u001b[0;32m      5\u001b[0m )\n\u001b[0;32m      6\u001b[0m \u001b[1;33m\u001b[0m\u001b[0m\n\u001b[1;32m----> 7\u001b[1;33m \u001b[0mresult\u001b[0m \u001b[1;33m=\u001b[0m \u001b[0mdo_experiment\u001b[0m\u001b[1;33m(\u001b[0m\u001b[1;34mf\"VNA_vs_pump_frequency/{SAMPLE}\"\u001b[0m\u001b[1;33m,\u001b[0m \u001b[0msweep_obj\u001b[0m\u001b[1;33m,\u001b[0m \u001b[0mlive_plot\u001b[0m\u001b[1;33m=\u001b[0m\u001b[1;32mTrue\u001b[0m\u001b[1;33m)\u001b[0m\u001b[1;33m\u001b[0m\u001b[0m\n\u001b[0m",
      "\u001b[1;32md:\\onedrive\\bf2\\code\\pytopo\\pytopo\\sweep\\do_experiment.py\u001b[0m in \u001b[0;36mdo_experiment\u001b[1;34m(experiment_name, sweep_object, setup, cleanup, station, live_plot)\u001b[0m\n\u001b[0;32m     92\u001b[0m             )\n\u001b[0;32m     93\u001b[0m \u001b[1;33m\u001b[0m\u001b[0m\n\u001b[1;32m---> 94\u001b[1;33m         \u001b[1;32mfor\u001b[0m \u001b[0mdata\u001b[0m \u001b[1;32min\u001b[0m \u001b[0msweep_object\u001b[0m\u001b[1;33m:\u001b[0m\u001b[1;33m\u001b[0m\u001b[0m\n\u001b[0m\u001b[0;32m     95\u001b[0m             \u001b[0mdatasaver\u001b[0m\u001b[1;33m.\u001b[0m\u001b[0madd_result\u001b[0m\u001b[1;33m(\u001b[0m\u001b[1;33m*\u001b[0m\u001b[0mdata\u001b[0m\u001b[1;33m.\u001b[0m\u001b[0mitems\u001b[0m\u001b[1;33m(\u001b[0m\u001b[1;33m)\u001b[0m\u001b[1;33m)\u001b[0m\u001b[1;33m\u001b[0m\u001b[0m\n\u001b[0;32m     96\u001b[0m \u001b[1;33m\u001b[0m\u001b[0m\n",
      "\u001b[1;32md:\\onedrive\\bf2\\code\\pytopo\\pytopo\\sweep\\base.py\u001b[0m in \u001b[0;36m__next__\u001b[1;34m(self)\u001b[0m\n\u001b[0;32m     36\u001b[0m             \u001b[0mself\u001b[0m\u001b[1;33m.\u001b[0m\u001b[0m_start_iter\u001b[0m\u001b[1;33m(\u001b[0m\u001b[1;33m)\u001b[0m\u001b[1;33m\u001b[0m\u001b[0m\n\u001b[0;32m     37\u001b[0m \u001b[1;33m\u001b[0m\u001b[0m\n\u001b[1;32m---> 38\u001b[1;33m         \u001b[1;32mreturn\u001b[0m \u001b[0mnext\u001b[0m\u001b[1;33m(\u001b[0m\u001b[0mself\u001b[0m\u001b[1;33m.\u001b[0m\u001b[0m_generator\u001b[0m\u001b[1;33m)\u001b[0m\u001b[1;33m\u001b[0m\u001b[0m\n\u001b[0m\u001b[0;32m     39\u001b[0m \u001b[1;33m\u001b[0m\u001b[0m\n\u001b[0;32m     40\u001b[0m     \u001b[1;32mdef\u001b[0m \u001b[0m__call__\u001b[0m\u001b[1;33m(\u001b[0m\u001b[0mself\u001b[0m\u001b[1;33m,\u001b[0m \u001b[1;33m*\u001b[0m\u001b[0msweep_objects\u001b[0m\u001b[1;33m)\u001b[0m\u001b[1;33m:\u001b[0m\u001b[1;33m\u001b[0m\u001b[0m\n",
      "\u001b[1;32md:\\onedrive\\bf2\\code\\pytopo\\pytopo\\sweep\\base.py\u001b[0m in \u001b[0;36m__next__\u001b[1;34m(self)\u001b[0m\n\u001b[0;32m     36\u001b[0m             \u001b[0mself\u001b[0m\u001b[1;33m.\u001b[0m\u001b[0m_start_iter\u001b[0m\u001b[1;33m(\u001b[0m\u001b[1;33m)\u001b[0m\u001b[1;33m\u001b[0m\u001b[0m\n\u001b[0;32m     37\u001b[0m \u001b[1;33m\u001b[0m\u001b[0m\n\u001b[1;32m---> 38\u001b[1;33m         \u001b[1;32mreturn\u001b[0m \u001b[0mnext\u001b[0m\u001b[1;33m(\u001b[0m\u001b[0mself\u001b[0m\u001b[1;33m.\u001b[0m\u001b[0m_generator\u001b[0m\u001b[1;33m)\u001b[0m\u001b[1;33m\u001b[0m\u001b[0m\n\u001b[0m\u001b[0;32m     39\u001b[0m \u001b[1;33m\u001b[0m\u001b[0m\n\u001b[0;32m     40\u001b[0m     \u001b[1;32mdef\u001b[0m \u001b[0m__call__\u001b[0m\u001b[1;33m(\u001b[0m\u001b[0mself\u001b[0m\u001b[1;33m,\u001b[0m \u001b[1;33m*\u001b[0m\u001b[0msweep_objects\u001b[0m\u001b[1;33m)\u001b[0m\u001b[1;33m:\u001b[0m\u001b[1;33m\u001b[0m\u001b[0m\n",
      "\u001b[1;32md:\\onedrive\\bf2\\code\\pytopo\\pytopo\\sweep\\base.py\u001b[0m in \u001b[0;36m_generator_factory\u001b[1;34m(self)\u001b[0m\n\u001b[0;32m     79\u001b[0m \u001b[1;33m\u001b[0m\u001b[0m\n\u001b[0;32m     80\u001b[0m     \u001b[1;32mdef\u001b[0m \u001b[0m_generator_factory\u001b[0m\u001b[1;33m(\u001b[0m\u001b[0mself\u001b[0m\u001b[1;33m)\u001b[0m \u001b[1;33m->\u001b[0m\u001b[0mIterator\u001b[0m\u001b[1;33m:\u001b[0m\u001b[1;33m\u001b[0m\u001b[0m\n\u001b[1;32m---> 81\u001b[1;33m         \u001b[1;32mfor\u001b[0m \u001b[0mvalue\u001b[0m \u001b[1;32min\u001b[0m \u001b[0mself\u001b[0m\u001b[1;33m.\u001b[0m\u001b[0m_iterator_function\u001b[0m\u001b[1;33m(\u001b[0m\u001b[1;33m)\u001b[0m\u001b[1;33m:\u001b[0m\u001b[1;33m\u001b[0m\u001b[0m\n\u001b[0m\u001b[0;32m     82\u001b[0m             \u001b[1;32myield\u001b[0m \u001b[0mvalue\u001b[0m\u001b[1;33m\u001b[0m\u001b[0m\n\u001b[0;32m     83\u001b[0m \u001b[1;33m\u001b[0m\u001b[0m\n",
      "\u001b[1;32md:\\onedrive\\bf2\\code\\pytopo\\pytopo\\sweep\\base.py\u001b[0m in \u001b[0;36minner\u001b[1;34m()\u001b[0m\n\u001b[0;32m    122\u001b[0m         \u001b[1;32mdef\u001b[0m \u001b[0minner\u001b[0m\u001b[1;33m(\u001b[0m\u001b[1;33m)\u001b[0m\u001b[1;33m:\u001b[0m\u001b[1;33m\u001b[0m\u001b[0m\n\u001b[0;32m    123\u001b[0m             \u001b[1;32mfor\u001b[0m \u001b[0mresult2\u001b[0m \u001b[1;32min\u001b[0m \u001b[0msweep_object2\u001b[0m\u001b[1;33m:\u001b[0m\u001b[1;33m\u001b[0m\u001b[0m\n\u001b[1;32m--> 124\u001b[1;33m                 \u001b[1;32mfor\u001b[0m \u001b[0mresult1\u001b[0m \u001b[1;32min\u001b[0m \u001b[0msweep_object1\u001b[0m\u001b[1;33m:\u001b[0m\u001b[1;33m\u001b[0m\u001b[0m\n\u001b[0m\u001b[0;32m    125\u001b[0m                     \u001b[0mresult1\u001b[0m\u001b[1;33m.\u001b[0m\u001b[0mupdate\u001b[0m\u001b[1;33m(\u001b[0m\u001b[0mresult2\u001b[0m\u001b[1;33m)\u001b[0m\u001b[1;33m\u001b[0m\u001b[0m\n\u001b[0;32m    126\u001b[0m                     \u001b[1;32myield\u001b[0m \u001b[0mresult1\u001b[0m\u001b[1;33m\u001b[0m\u001b[0m\n",
      "\u001b[1;32md:\\onedrive\\bf2\\code\\pytopo\\pytopo\\sweep\\base.py\u001b[0m in \u001b[0;36m__next__\u001b[1;34m(self)\u001b[0m\n\u001b[0;32m     36\u001b[0m             \u001b[0mself\u001b[0m\u001b[1;33m.\u001b[0m\u001b[0m_start_iter\u001b[0m\u001b[1;33m(\u001b[0m\u001b[1;33m)\u001b[0m\u001b[1;33m\u001b[0m\u001b[0m\n\u001b[0;32m     37\u001b[0m \u001b[1;33m\u001b[0m\u001b[0m\n\u001b[1;32m---> 38\u001b[1;33m         \u001b[1;32mreturn\u001b[0m \u001b[0mnext\u001b[0m\u001b[1;33m(\u001b[0m\u001b[0mself\u001b[0m\u001b[1;33m.\u001b[0m\u001b[0m_generator\u001b[0m\u001b[1;33m)\u001b[0m\u001b[1;33m\u001b[0m\u001b[0m\n\u001b[0m\u001b[0;32m     39\u001b[0m \u001b[1;33m\u001b[0m\u001b[0m\n\u001b[0;32m     40\u001b[0m     \u001b[1;32mdef\u001b[0m \u001b[0m__call__\u001b[0m\u001b[1;33m(\u001b[0m\u001b[0mself\u001b[0m\u001b[1;33m,\u001b[0m \u001b[1;33m*\u001b[0m\u001b[0msweep_objects\u001b[0m\u001b[1;33m)\u001b[0m\u001b[1;33m:\u001b[0m\u001b[1;33m\u001b[0m\u001b[0m\n",
      "\u001b[1;32md:\\onedrive\\bf2\\code\\pytopo\\pytopo\\sweep\\base.py\u001b[0m in \u001b[0;36m_generator_factory\u001b[1;34m(self)\u001b[0m\n\u001b[0;32m    152\u001b[0m     \u001b[1;32mdef\u001b[0m \u001b[0m_generator_factory\u001b[0m\u001b[1;33m(\u001b[0m\u001b[0mself\u001b[0m\u001b[1;33m)\u001b[0m \u001b[1;33m->\u001b[0m\u001b[0mIterator\u001b[0m\u001b[1;33m:\u001b[0m\u001b[1;33m\u001b[0m\u001b[0m\n\u001b[0;32m    153\u001b[0m         \u001b[1;32mfor\u001b[0m \u001b[0mso\u001b[0m \u001b[1;32min\u001b[0m \u001b[0mself\u001b[0m\u001b[1;33m.\u001b[0m\u001b[0m_sweep_objects\u001b[0m\u001b[1;33m:\u001b[0m\u001b[1;33m\u001b[0m\u001b[0m\n\u001b[1;32m--> 154\u001b[1;33m             \u001b[1;32mfor\u001b[0m \u001b[0mresult\u001b[0m \u001b[1;32min\u001b[0m \u001b[0mso\u001b[0m\u001b[1;33m:\u001b[0m\u001b[1;33m\u001b[0m\u001b[0m\n\u001b[0m\u001b[0;32m    155\u001b[0m                 \u001b[1;32myield\u001b[0m \u001b[0mresult\u001b[0m\u001b[1;33m\u001b[0m\u001b[0m\n\u001b[0;32m    156\u001b[0m \u001b[1;33m\u001b[0m\u001b[0m\n",
      "\u001b[1;32md:\\onedrive\\bf2\\code\\pytopo\\pytopo\\sweep\\base.py\u001b[0m in \u001b[0;36m__next__\u001b[1;34m(self)\u001b[0m\n\u001b[0;32m     36\u001b[0m             \u001b[0mself\u001b[0m\u001b[1;33m.\u001b[0m\u001b[0m_start_iter\u001b[0m\u001b[1;33m(\u001b[0m\u001b[1;33m)\u001b[0m\u001b[1;33m\u001b[0m\u001b[0m\n\u001b[0;32m     37\u001b[0m \u001b[1;33m\u001b[0m\u001b[0m\n\u001b[1;32m---> 38\u001b[1;33m         \u001b[1;32mreturn\u001b[0m \u001b[0mnext\u001b[0m\u001b[1;33m(\u001b[0m\u001b[0mself\u001b[0m\u001b[1;33m.\u001b[0m\u001b[0m_generator\u001b[0m\u001b[1;33m)\u001b[0m\u001b[1;33m\u001b[0m\u001b[0m\n\u001b[0m\u001b[0;32m     39\u001b[0m \u001b[1;33m\u001b[0m\u001b[0m\n\u001b[0;32m     40\u001b[0m     \u001b[1;32mdef\u001b[0m \u001b[0m__call__\u001b[0m\u001b[1;33m(\u001b[0m\u001b[0mself\u001b[0m\u001b[1;33m,\u001b[0m \u001b[1;33m*\u001b[0m\u001b[0msweep_objects\u001b[0m\u001b[1;33m)\u001b[0m\u001b[1;33m:\u001b[0m\u001b[1;33m\u001b[0m\u001b[0m\n",
      "\u001b[1;32md:\\onedrive\\bf2\\code\\pytopo\\pytopo\\sweep\\base.py\u001b[0m in \u001b[0;36m_generator_factory\u001b[1;34m(self)\u001b[0m\n\u001b[0;32m     79\u001b[0m \u001b[1;33m\u001b[0m\u001b[0m\n\u001b[0;32m     80\u001b[0m     \u001b[1;32mdef\u001b[0m \u001b[0m_generator_factory\u001b[0m\u001b[1;33m(\u001b[0m\u001b[0mself\u001b[0m\u001b[1;33m)\u001b[0m \u001b[1;33m->\u001b[0m\u001b[0mIterator\u001b[0m\u001b[1;33m:\u001b[0m\u001b[1;33m\u001b[0m\u001b[0m\n\u001b[1;32m---> 81\u001b[1;33m         \u001b[1;32mfor\u001b[0m \u001b[0mvalue\u001b[0m \u001b[1;32min\u001b[0m \u001b[0mself\u001b[0m\u001b[1;33m.\u001b[0m\u001b[0m_iterator_function\u001b[0m\u001b[1;33m(\u001b[0m\u001b[1;33m)\u001b[0m\u001b[1;33m:\u001b[0m\u001b[1;33m\u001b[0m\u001b[0m\n\u001b[0m\u001b[0;32m     82\u001b[0m             \u001b[1;32myield\u001b[0m \u001b[0mvalue\u001b[0m\u001b[1;33m\u001b[0m\u001b[0m\n\u001b[0;32m     83\u001b[0m \u001b[1;33m\u001b[0m\u001b[0m\n",
      "\u001b[1;32md:\\onedrive\\bf2\\code\\pytopo\\pytopo\\sweep\\decorators.py\u001b[0m in \u001b[0;36mwrapper\u001b[1;34m()\u001b[0m\n\u001b[0;32m    185\u001b[0m \u001b[1;33m\u001b[0m\u001b[0m\n\u001b[0;32m    186\u001b[0m             \u001b[1;32mdef\u001b[0m \u001b[0mwrapper\u001b[0m\u001b[1;33m(\u001b[0m\u001b[1;33m)\u001b[0m \u001b[1;33m->\u001b[0m\u001b[0mdict\u001b[0m\u001b[1;33m:\u001b[0m\u001b[1;33m\u001b[0m\u001b[0m\n\u001b[1;32m--> 187\u001b[1;33m                 \u001b[0mspoints\u001b[0m\u001b[1;33m,\u001b[0m \u001b[0mmeasurements\u001b[0m \u001b[1;33m=\u001b[0m \u001b[0mfunc\u001b[0m\u001b[1;33m(\u001b[0m\u001b[1;33m*\u001b[0m\u001b[0margs\u001b[0m\u001b[1;33m,\u001b[0m \u001b[1;33m**\u001b[0m\u001b[0mkwargs\u001b[0m\u001b[1;33m)\u001b[0m\u001b[1;33m\u001b[0m\u001b[0m\n\u001b[0m\u001b[0;32m    188\u001b[0m \u001b[1;33m\u001b[0m\u001b[0m\n\u001b[0;32m    189\u001b[0m                 \u001b[0mspoints\u001b[0m \u001b[1;33m=\u001b[0m \u001b[0mnp\u001b[0m\u001b[1;33m.\u001b[0m\u001b[0matleast_2d\u001b[0m\u001b[1;33m(\u001b[0m\u001b[0mspoints\u001b[0m\u001b[1;33m)\u001b[0m\u001b[1;33m\u001b[0m\u001b[0m\n",
      "\u001b[1;32mD:\\OneDrive\\BF2\\Code\\BF2\\BF2\\init_station_cqedVNA.py\u001b[0m in \u001b[0;36mvna_frequency_sweep_dB\u001b[1;34m(*arg, **kw)\u001b[0m\n\u001b[0;32m     79\u001b[0m     \"\"\"\n\u001b[0;32m     80\u001b[0m     \u001b[0mfvals\u001b[0m \u001b[1;33m=\u001b[0m \u001b[0msetup_frq_sweep\u001b[0m\u001b[1;33m(\u001b[0m\u001b[1;33m*\u001b[0m\u001b[0marg\u001b[0m\u001b[1;33m,\u001b[0m \u001b[1;33m**\u001b[0m\u001b[0mkw\u001b[0m\u001b[1;33m)\u001b[0m\u001b[1;33m\u001b[0m\u001b[0m\n\u001b[1;32m---> 81\u001b[1;33m     \u001b[0mmag\u001b[0m\u001b[1;33m,\u001b[0m \u001b[0mphase\u001b[0m \u001b[1;33m=\u001b[0m \u001b[0mtake_trace\u001b[0m\u001b[1;33m(\u001b[0m\u001b[0mplot\u001b[0m\u001b[1;33m=\u001b[0m\u001b[1;32mFalse\u001b[0m\u001b[1;33m)\u001b[0m\u001b[1;33m\u001b[0m\u001b[0m\n\u001b[0m\u001b[0;32m     82\u001b[0m \u001b[1;33m\u001b[0m\u001b[0m\n\u001b[0;32m     83\u001b[0m     \u001b[1;32mreturn\u001b[0m \u001b[0mfvals\u001b[0m\u001b[1;33m,\u001b[0m \u001b[0mnp\u001b[0m\u001b[1;33m.\u001b[0m\u001b[0mvstack\u001b[0m\u001b[1;33m(\u001b[0m\u001b[1;33m(\u001b[0m\u001b[1;36m20\u001b[0m\u001b[1;33m*\u001b[0m\u001b[0mnp\u001b[0m\u001b[1;33m.\u001b[0m\u001b[0mlog10\u001b[0m\u001b[1;33m(\u001b[0m\u001b[0mmag\u001b[0m\u001b[1;33m)\u001b[0m\u001b[1;33m,\u001b[0m \u001b[0mphase\u001b[0m\u001b[1;33m)\u001b[0m\u001b[1;33m)\u001b[0m\u001b[1;33m\u001b[0m\u001b[0m\n",
      "\u001b[1;32mD:\\OneDrive\\BF2\\Code\\BF2\\BF2\\init_station_cqedVNA.py\u001b[0m in \u001b[0;36mtake_trace\u001b[1;34m(chan, plot)\u001b[0m\n\u001b[0;32m     38\u001b[0m \u001b[1;33m\u001b[0m\u001b[0m\n\u001b[0;32m     39\u001b[0m     \u001b[0mfvals\u001b[0m \u001b[1;33m=\u001b[0m \u001b[0mnp\u001b[0m\u001b[1;33m.\u001b[0m\u001b[0mlinspace\u001b[0m\u001b[1;33m(\u001b[0m\u001b[0mtrace\u001b[0m\u001b[1;33m.\u001b[0m\u001b[0mstart\u001b[0m\u001b[1;33m(\u001b[0m\u001b[1;33m)\u001b[0m\u001b[1;33m,\u001b[0m \u001b[0mtrace\u001b[0m\u001b[1;33m.\u001b[0m\u001b[0mstop\u001b[0m\u001b[1;33m(\u001b[0m\u001b[1;33m)\u001b[0m\u001b[1;33m,\u001b[0m \u001b[0mtrace\u001b[0m\u001b[1;33m.\u001b[0m\u001b[0mnpts\u001b[0m\u001b[1;33m(\u001b[0m\u001b[1;33m)\u001b[0m\u001b[1;33m)\u001b[0m\u001b[1;33m\u001b[0m\u001b[0m\n\u001b[1;32m---> 40\u001b[1;33m     \u001b[0mmag\u001b[0m\u001b[1;33m,\u001b[0m \u001b[0mphase\u001b[0m \u001b[1;33m=\u001b[0m \u001b[0mtrace\u001b[0m\u001b[1;33m.\u001b[0m\u001b[0mtrace_mag_phase\u001b[0m\u001b[1;33m(\u001b[0m\u001b[1;33m)\u001b[0m\u001b[1;33m\u001b[0m\u001b[0m\n\u001b[0m\u001b[0;32m     41\u001b[0m \u001b[1;33m\u001b[0m\u001b[0m\n\u001b[0;32m     42\u001b[0m     \u001b[1;32mif\u001b[0m \u001b[0mplot\u001b[0m\u001b[1;33m:\u001b[0m\u001b[1;33m\u001b[0m\u001b[0m\n",
      "\u001b[1;32md:\\onedrive\\bf2\\code\\qcodes\\qcodes\\instrument\\parameter.py\u001b[0m in \u001b[0;36m__call__\u001b[1;34m(self, *args, **kwargs)\u001b[0m\n\u001b[0;32m    281\u001b[0m         \u001b[1;32mif\u001b[0m \u001b[0mlen\u001b[0m\u001b[1;33m(\u001b[0m\u001b[0margs\u001b[0m\u001b[1;33m)\u001b[0m \u001b[1;33m==\u001b[0m \u001b[1;36m0\u001b[0m\u001b[1;33m:\u001b[0m\u001b[1;33m\u001b[0m\u001b[0m\n\u001b[0;32m    282\u001b[0m             \u001b[1;32mif\u001b[0m \u001b[0mhasattr\u001b[0m\u001b[1;33m(\u001b[0m\u001b[0mself\u001b[0m\u001b[1;33m,\u001b[0m \u001b[1;34m'get'\u001b[0m\u001b[1;33m)\u001b[0m\u001b[1;33m:\u001b[0m\u001b[1;33m\u001b[0m\u001b[0m\n\u001b[1;32m--> 283\u001b[1;33m                 \u001b[1;32mreturn\u001b[0m \u001b[0mself\u001b[0m\u001b[1;33m.\u001b[0m\u001b[0mget\u001b[0m\u001b[1;33m(\u001b[0m\u001b[1;33m)\u001b[0m\u001b[1;33m\u001b[0m\u001b[0m\n\u001b[0m\u001b[0;32m    284\u001b[0m             \u001b[1;32melse\u001b[0m\u001b[1;33m:\u001b[0m\u001b[1;33m\u001b[0m\u001b[0m\n\u001b[0;32m    285\u001b[0m                 raise NotImplementedError('no get cmd found in' +\n",
      "\u001b[1;32md:\\onedrive\\bf2\\code\\qcodes\\qcodes\\instrument\\parameter.py\u001b[0m in \u001b[0;36mget_wrapper\u001b[1;34m(*args, **kwargs)\u001b[0m\n\u001b[0;32m    360\u001b[0m             \u001b[1;32mtry\u001b[0m\u001b[1;33m:\u001b[0m\u001b[1;33m\u001b[0m\u001b[0m\n\u001b[0;32m    361\u001b[0m                 \u001b[1;31m# There might be cases where a .get also has args/kwargs\u001b[0m\u001b[1;33m\u001b[0m\u001b[1;33m\u001b[0m\u001b[0m\n\u001b[1;32m--> 362\u001b[1;33m                 \u001b[0mvalue\u001b[0m \u001b[1;33m=\u001b[0m \u001b[0mget_function\u001b[0m\u001b[1;33m(\u001b[0m\u001b[1;33m*\u001b[0m\u001b[0margs\u001b[0m\u001b[1;33m,\u001b[0m \u001b[1;33m**\u001b[0m\u001b[0mkwargs\u001b[0m\u001b[1;33m)\u001b[0m\u001b[1;33m\u001b[0m\u001b[0m\n\u001b[0m\u001b[0;32m    363\u001b[0m                 \u001b[0mself\u001b[0m\u001b[1;33m.\u001b[0m\u001b[0mraw_value\u001b[0m \u001b[1;33m=\u001b[0m \u001b[0mvalue\u001b[0m\u001b[1;33m\u001b[0m\u001b[0m\n\u001b[0;32m    364\u001b[0m \u001b[1;33m\u001b[0m\u001b[0m\n",
      "\u001b[1;32md:\\onedrive\\bf2\\code\\qcodes\\qcodes\\instrument_drivers\\rohde_schwarz\\ZNB.py\u001b[0m in \u001b[0;36mget_raw\u001b[1;34m(self)\u001b[0m\n\u001b[0;32m     40\u001b[0m         \u001b[0mold_format\u001b[0m \u001b[1;33m=\u001b[0m \u001b[0mself\u001b[0m\u001b[1;33m.\u001b[0m\u001b[0m_instrument\u001b[0m\u001b[1;33m.\u001b[0m\u001b[0mformat\u001b[0m\u001b[1;33m(\u001b[0m\u001b[1;33m)\u001b[0m\u001b[1;33m\u001b[0m\u001b[0m\n\u001b[0;32m     41\u001b[0m         \u001b[0mself\u001b[0m\u001b[1;33m.\u001b[0m\u001b[0m_instrument\u001b[0m\u001b[1;33m.\u001b[0m\u001b[0mformat\u001b[0m\u001b[1;33m(\u001b[0m\u001b[1;34m'Complex'\u001b[0m\u001b[1;33m)\u001b[0m\u001b[1;33m\u001b[0m\u001b[0m\n\u001b[1;32m---> 42\u001b[1;33m         \u001b[0mdata\u001b[0m \u001b[1;33m=\u001b[0m \u001b[0mself\u001b[0m\u001b[1;33m.\u001b[0m\u001b[0m_instrument\u001b[0m\u001b[1;33m.\u001b[0m\u001b[0m_get_sweep_data\u001b[0m\u001b[1;33m(\u001b[0m\u001b[0mforce_polar\u001b[0m \u001b[1;33m=\u001b[0m \u001b[1;32mTrue\u001b[0m\u001b[1;33m)\u001b[0m\u001b[1;33m\u001b[0m\u001b[0m\n\u001b[0m\u001b[0;32m     43\u001b[0m         \u001b[0mself\u001b[0m\u001b[1;33m.\u001b[0m\u001b[0m_instrument\u001b[0m\u001b[1;33m.\u001b[0m\u001b[0mformat\u001b[0m\u001b[1;33m(\u001b[0m\u001b[0mold_format\u001b[0m\u001b[1;33m)\u001b[0m\u001b[1;33m\u001b[0m\u001b[0m\n\u001b[0;32m     44\u001b[0m         \u001b[1;32mreturn\u001b[0m \u001b[0mabs\u001b[0m\u001b[1;33m(\u001b[0m\u001b[0mdata\u001b[0m\u001b[1;33m)\u001b[0m\u001b[1;33m,\u001b[0m \u001b[0mnp\u001b[0m\u001b[1;33m.\u001b[0m\u001b[0mangle\u001b[0m\u001b[1;33m(\u001b[0m\u001b[0mdata\u001b[0m\u001b[1;33m)\u001b[0m\u001b[1;33m\u001b[0m\u001b[0m\n",
      "\u001b[1;32md:\\onedrive\\bf2\\code\\qcodes\\qcodes\\instrument_drivers\\rohde_schwarz\\ZNB.py\u001b[0m in \u001b[0;36m_get_sweep_data\u001b[1;34m(self, force_polar)\u001b[0m\n\u001b[0;32m    351\u001b[0m             data_str = self.ask(\n\u001b[0;32m    352\u001b[0m                 'CALC{}:DATA? {}'.format(self._instrument_channel,\n\u001b[1;32m--> 353\u001b[1;33m                                          data_format_command))\n\u001b[0m\u001b[0;32m    354\u001b[0m             \u001b[0mdata\u001b[0m \u001b[1;33m=\u001b[0m \u001b[0mnp\u001b[0m\u001b[1;33m.\u001b[0m\u001b[0marray\u001b[0m\u001b[1;33m(\u001b[0m\u001b[0mdata_str\u001b[0m\u001b[1;33m.\u001b[0m\u001b[0mrstrip\u001b[0m\u001b[1;33m(\u001b[0m\u001b[1;33m)\u001b[0m\u001b[1;33m.\u001b[0m\u001b[0msplit\u001b[0m\u001b[1;33m(\u001b[0m\u001b[1;34m','\u001b[0m\u001b[1;33m)\u001b[0m\u001b[1;33m)\u001b[0m\u001b[1;33m.\u001b[0m\u001b[0mastype\u001b[0m\u001b[1;33m(\u001b[0m\u001b[1;34m'float64'\u001b[0m\u001b[1;33m)\u001b[0m\u001b[1;33m\u001b[0m\u001b[0m\n\u001b[0;32m    355\u001b[0m             if self.format() in ['Polar', 'Complex',\n",
      "\u001b[1;32md:\\onedrive\\bf2\\code\\qcodes\\qcodes\\instrument\\channel.py\u001b[0m in \u001b[0;36mask\u001b[1;34m(self, cmd)\u001b[0m\n\u001b[0;32m     66\u001b[0m \u001b[1;33m\u001b[0m\u001b[0m\n\u001b[0;32m     67\u001b[0m     \u001b[1;32mdef\u001b[0m \u001b[0mask\u001b[0m\u001b[1;33m(\u001b[0m\u001b[0mself\u001b[0m\u001b[1;33m,\u001b[0m \u001b[0mcmd\u001b[0m\u001b[1;33m)\u001b[0m\u001b[1;33m:\u001b[0m\u001b[1;33m\u001b[0m\u001b[0m\n\u001b[1;32m---> 68\u001b[1;33m         \u001b[1;32mreturn\u001b[0m \u001b[0mself\u001b[0m\u001b[1;33m.\u001b[0m\u001b[0m_parent\u001b[0m\u001b[1;33m.\u001b[0m\u001b[0mask\u001b[0m\u001b[1;33m(\u001b[0m\u001b[0mcmd\u001b[0m\u001b[1;33m)\u001b[0m\u001b[1;33m\u001b[0m\u001b[0m\n\u001b[0m\u001b[0;32m     69\u001b[0m \u001b[1;33m\u001b[0m\u001b[0m\n\u001b[0;32m     70\u001b[0m     \u001b[1;32mdef\u001b[0m \u001b[0mask_raw\u001b[0m\u001b[1;33m(\u001b[0m\u001b[0mself\u001b[0m\u001b[1;33m,\u001b[0m \u001b[0mcmd\u001b[0m\u001b[1;33m)\u001b[0m\u001b[1;33m:\u001b[0m\u001b[1;33m\u001b[0m\u001b[0m\n",
      "\u001b[1;32md:\\onedrive\\bf2\\code\\qcodes\\qcodes\\instrument\\base.py\u001b[0m in \u001b[0;36mask\u001b[1;34m(self, cmd)\u001b[0m\n\u001b[0;32m    737\u001b[0m         \"\"\"\n\u001b[0;32m    738\u001b[0m         \u001b[1;32mtry\u001b[0m\u001b[1;33m:\u001b[0m\u001b[1;33m\u001b[0m\u001b[0m\n\u001b[1;32m--> 739\u001b[1;33m             \u001b[0manswer\u001b[0m \u001b[1;33m=\u001b[0m \u001b[0mself\u001b[0m\u001b[1;33m.\u001b[0m\u001b[0mask_raw\u001b[0m\u001b[1;33m(\u001b[0m\u001b[0mcmd\u001b[0m\u001b[1;33m)\u001b[0m\u001b[1;33m\u001b[0m\u001b[0m\n\u001b[0m\u001b[0;32m    740\u001b[0m \u001b[1;33m\u001b[0m\u001b[0m\n\u001b[0;32m    741\u001b[0m             \u001b[1;32mreturn\u001b[0m \u001b[0manswer\u001b[0m\u001b[1;33m\u001b[0m\u001b[0m\n",
      "\u001b[1;32md:\\onedrive\\bf2\\code\\qcodes\\qcodes\\instrument\\visa.py\u001b[0m in \u001b[0;36mask_raw\u001b[1;34m(self, cmd)\u001b[0m\n\u001b[0;32m    227\u001b[0m         \"\"\"\n\u001b[0;32m    228\u001b[0m         \u001b[0mself\u001b[0m\u001b[1;33m.\u001b[0m\u001b[0mvisa_log\u001b[0m\u001b[1;33m.\u001b[0m\u001b[0mdebug\u001b[0m\u001b[1;33m(\u001b[0m\u001b[1;34mf\"Querying: {cmd}\"\u001b[0m\u001b[1;33m)\u001b[0m\u001b[1;33m\u001b[0m\u001b[0m\n\u001b[1;32m--> 229\u001b[1;33m         \u001b[0mresponse\u001b[0m \u001b[1;33m=\u001b[0m \u001b[0mself\u001b[0m\u001b[1;33m.\u001b[0m\u001b[0mvisa_handle\u001b[0m\u001b[1;33m.\u001b[0m\u001b[0mquery\u001b[0m\u001b[1;33m(\u001b[0m\u001b[0mcmd\u001b[0m\u001b[1;33m)\u001b[0m\u001b[1;33m\u001b[0m\u001b[0m\n\u001b[0m\u001b[0;32m    230\u001b[0m         \u001b[0mself\u001b[0m\u001b[1;33m.\u001b[0m\u001b[0mvisa_log\u001b[0m\u001b[1;33m.\u001b[0m\u001b[0mdebug\u001b[0m\u001b[1;33m(\u001b[0m\u001b[1;34mf\"Response: {response}\"\u001b[0m\u001b[1;33m)\u001b[0m\u001b[1;33m\u001b[0m\u001b[0m\n\u001b[0;32m    231\u001b[0m         \u001b[1;32mreturn\u001b[0m \u001b[0mresponse\u001b[0m\u001b[1;33m\u001b[0m\u001b[0m\n",
      "\u001b[1;32mC:\\ProgramData\\Anaconda3\\lib\\site-packages\\pyvisa\\resources\\messagebased.py\u001b[0m in \u001b[0;36mquery\u001b[1;34m(self, message, delay)\u001b[0m\n\u001b[0;32m    562\u001b[0m         \u001b[1;32mif\u001b[0m \u001b[0mdelay\u001b[0m \u001b[1;33m>\u001b[0m \u001b[1;36m0.0\u001b[0m\u001b[1;33m:\u001b[0m\u001b[1;33m\u001b[0m\u001b[0m\n\u001b[0;32m    563\u001b[0m             \u001b[0mtime\u001b[0m\u001b[1;33m.\u001b[0m\u001b[0msleep\u001b[0m\u001b[1;33m(\u001b[0m\u001b[0mdelay\u001b[0m\u001b[1;33m)\u001b[0m\u001b[1;33m\u001b[0m\u001b[0m\n\u001b[1;32m--> 564\u001b[1;33m         \u001b[1;32mreturn\u001b[0m \u001b[0mself\u001b[0m\u001b[1;33m.\u001b[0m\u001b[0mread\u001b[0m\u001b[1;33m(\u001b[0m\u001b[1;33m)\u001b[0m\u001b[1;33m\u001b[0m\u001b[0m\n\u001b[0m\u001b[0;32m    565\u001b[0m \u001b[1;33m\u001b[0m\u001b[0m\n\u001b[0;32m    566\u001b[0m     \u001b[1;32mdef\u001b[0m \u001b[0mask\u001b[0m\u001b[1;33m(\u001b[0m\u001b[0mself\u001b[0m\u001b[1;33m,\u001b[0m \u001b[0mmessage\u001b[0m\u001b[1;33m,\u001b[0m \u001b[0mdelay\u001b[0m\u001b[1;33m=\u001b[0m\u001b[1;32mNone\u001b[0m\u001b[1;33m)\u001b[0m\u001b[1;33m:\u001b[0m\u001b[1;33m\u001b[0m\u001b[0m\n",
      "\u001b[1;32mC:\\ProgramData\\Anaconda3\\lib\\site-packages\\pyvisa\\resources\\messagebased.py\u001b[0m in \u001b[0;36mread\u001b[1;34m(self, termination, encoding)\u001b[0m\n\u001b[0;32m    411\u001b[0m         \u001b[1;32mif\u001b[0m \u001b[0mtermination\u001b[0m \u001b[1;32mis\u001b[0m \u001b[1;32mNone\u001b[0m\u001b[1;33m:\u001b[0m\u001b[1;33m\u001b[0m\u001b[0m\n\u001b[0;32m    412\u001b[0m             \u001b[0mtermination\u001b[0m \u001b[1;33m=\u001b[0m \u001b[0mself\u001b[0m\u001b[1;33m.\u001b[0m\u001b[0m_read_termination\u001b[0m\u001b[1;33m\u001b[0m\u001b[0m\n\u001b[1;32m--> 413\u001b[1;33m             \u001b[0mmessage\u001b[0m \u001b[1;33m=\u001b[0m \u001b[0mself\u001b[0m\u001b[1;33m.\u001b[0m\u001b[0m_read_raw\u001b[0m\u001b[1;33m(\u001b[0m\u001b[1;33m)\u001b[0m\u001b[1;33m.\u001b[0m\u001b[0mdecode\u001b[0m\u001b[1;33m(\u001b[0m\u001b[0menco\u001b[0m\u001b[1;33m)\u001b[0m\u001b[1;33m\u001b[0m\u001b[0m\n\u001b[0m\u001b[0;32m    414\u001b[0m         \u001b[1;32melse\u001b[0m\u001b[1;33m:\u001b[0m\u001b[1;33m\u001b[0m\u001b[0m\n\u001b[0;32m    415\u001b[0m             \u001b[1;32mwith\u001b[0m \u001b[0mself\u001b[0m\u001b[1;33m.\u001b[0m\u001b[0mread_termination_context\u001b[0m\u001b[1;33m(\u001b[0m\u001b[0mtermination\u001b[0m\u001b[1;33m)\u001b[0m\u001b[1;33m:\u001b[0m\u001b[1;33m\u001b[0m\u001b[0m\n",
      "\u001b[1;32mC:\\ProgramData\\Anaconda3\\lib\\site-packages\\pyvisa\\resources\\messagebased.py\u001b[0m in \u001b[0;36m_read_raw\u001b[1;34m(self, size)\u001b[0m\n\u001b[0;32m    384\u001b[0m                     logger.debug('%s - reading %d bytes (last status %r)',\n\u001b[0;32m    385\u001b[0m                                  self._resource_name, size, status)\n\u001b[1;32m--> 386\u001b[1;33m                     \u001b[0mchunk\u001b[0m\u001b[1;33m,\u001b[0m \u001b[0mstatus\u001b[0m \u001b[1;33m=\u001b[0m \u001b[0mself\u001b[0m\u001b[1;33m.\u001b[0m\u001b[0mvisalib\u001b[0m\u001b[1;33m.\u001b[0m\u001b[0mread\u001b[0m\u001b[1;33m(\u001b[0m\u001b[0mself\u001b[0m\u001b[1;33m.\u001b[0m\u001b[0msession\u001b[0m\u001b[1;33m,\u001b[0m \u001b[0msize\u001b[0m\u001b[1;33m)\u001b[0m\u001b[1;33m\u001b[0m\u001b[0m\n\u001b[0m\u001b[0;32m    387\u001b[0m                     \u001b[0mret\u001b[0m\u001b[1;33m.\u001b[0m\u001b[0mextend\u001b[0m\u001b[1;33m(\u001b[0m\u001b[0mchunk\u001b[0m\u001b[1;33m)\u001b[0m\u001b[1;33m\u001b[0m\u001b[0m\n\u001b[0;32m    388\u001b[0m             \u001b[1;32mexcept\u001b[0m \u001b[0merrors\u001b[0m\u001b[1;33m.\u001b[0m\u001b[0mVisaIOError\u001b[0m \u001b[1;32mas\u001b[0m \u001b[0me\u001b[0m\u001b[1;33m:\u001b[0m\u001b[1;33m\u001b[0m\u001b[0m\n",
      "\u001b[1;32mC:\\ProgramData\\Anaconda3\\lib\\site-packages\\pyvisa\\ctwrapper\\functions.py\u001b[0m in \u001b[0;36mread\u001b[1;34m(library, session, count)\u001b[0m\n\u001b[0;32m   1582\u001b[0m     \u001b[0mbuffer\u001b[0m \u001b[1;33m=\u001b[0m \u001b[0mcreate_string_buffer\u001b[0m\u001b[1;33m(\u001b[0m\u001b[0mcount\u001b[0m\u001b[1;33m)\u001b[0m\u001b[1;33m\u001b[0m\u001b[0m\n\u001b[0;32m   1583\u001b[0m     \u001b[0mreturn_count\u001b[0m \u001b[1;33m=\u001b[0m \u001b[0mViUInt32\u001b[0m\u001b[1;33m(\u001b[0m\u001b[1;33m)\u001b[0m\u001b[1;33m\u001b[0m\u001b[0m\n\u001b[1;32m-> 1584\u001b[1;33m     \u001b[0mret\u001b[0m \u001b[1;33m=\u001b[0m \u001b[0mlibrary\u001b[0m\u001b[1;33m.\u001b[0m\u001b[0mviRead\u001b[0m\u001b[1;33m(\u001b[0m\u001b[0msession\u001b[0m\u001b[1;33m,\u001b[0m \u001b[0mbuffer\u001b[0m\u001b[1;33m,\u001b[0m \u001b[0mcount\u001b[0m\u001b[1;33m,\u001b[0m \u001b[0mbyref\u001b[0m\u001b[1;33m(\u001b[0m\u001b[0mreturn_count\u001b[0m\u001b[1;33m)\u001b[0m\u001b[1;33m)\u001b[0m\u001b[1;33m\u001b[0m\u001b[0m\n\u001b[0m\u001b[0;32m   1585\u001b[0m     \u001b[1;32mreturn\u001b[0m \u001b[0mbuffer\u001b[0m\u001b[1;33m.\u001b[0m\u001b[0mraw\u001b[0m\u001b[1;33m[\u001b[0m\u001b[1;33m:\u001b[0m\u001b[0mreturn_count\u001b[0m\u001b[1;33m.\u001b[0m\u001b[0mvalue\u001b[0m\u001b[1;33m]\u001b[0m\u001b[1;33m,\u001b[0m \u001b[0mret\u001b[0m\u001b[1;33m\u001b[0m\u001b[0m\n\u001b[0;32m   1586\u001b[0m \u001b[1;33m\u001b[0m\u001b[0m\n",
      "\u001b[1;32mC:\\ProgramData\\Anaconda3\\lib\\site-packages\\pyvisa\\ctwrapper\\highlevel.py\u001b[0m in \u001b[0;36m_return_handler\u001b[1;34m(self, ret_value, func, arguments)\u001b[0m\n\u001b[0;32m    147\u001b[0m             \u001b[0msetattr\u001b[0m\u001b[1;33m(\u001b[0m\u001b[0mself\u001b[0m\u001b[1;33m,\u001b[0m \u001b[0mmethod_name\u001b[0m\u001b[1;33m,\u001b[0m \u001b[0mgetattr\u001b[0m\u001b[1;33m(\u001b[0m\u001b[0mself\u001b[0m\u001b[1;33m.\u001b[0m\u001b[0mlib\u001b[0m\u001b[1;33m,\u001b[0m \u001b[0mmethod_name\u001b[0m\u001b[1;33m)\u001b[0m\u001b[1;33m)\u001b[0m\u001b[1;33m\u001b[0m\u001b[0m\n\u001b[0;32m    148\u001b[0m \u001b[1;33m\u001b[0m\u001b[0m\n\u001b[1;32m--> 149\u001b[1;33m     \u001b[1;32mdef\u001b[0m \u001b[0m_return_handler\u001b[0m\u001b[1;33m(\u001b[0m\u001b[0mself\u001b[0m\u001b[1;33m,\u001b[0m \u001b[0mret_value\u001b[0m\u001b[1;33m,\u001b[0m \u001b[0mfunc\u001b[0m\u001b[1;33m,\u001b[0m \u001b[0marguments\u001b[0m\u001b[1;33m)\u001b[0m\u001b[1;33m:\u001b[0m\u001b[1;33m\u001b[0m\u001b[0m\n\u001b[0m\u001b[0;32m    150\u001b[0m         \"\"\"Check return values for errors and warnings.\n\u001b[0;32m    151\u001b[0m         \"\"\"\n",
      "\u001b[1;31mKeyboardInterrupt\u001b[0m: "
     ]
    }
   ],
   "source": [
    "station.TWPA.power(6.7)\n",
    "station.TWPA.on()\n",
    "sweep_obj = sweep(station.TWPA.frequency, np.arange(7.96e9, 8.08e9, 1e6))(\n",
    "    vna_frequency_sweep_dB(fstart=4e9, fstop=5.5e9, fpts=1501, chan='S21', navgs=1)\n",
    ")\n",
    "\n",
    "result = do_experiment(f\"VNA_vs_pump_frequency/{SAMPLE}\", sweep_obj, live_plot=True)"
   ]
  },
  {
   "cell_type": "code",
   "execution_count": null,
   "metadata": {
    "ExecuteTime": {
     "end_time": "2018-11-10T14:17:16.975090Z",
     "start_time": "2018-11-10T14:13:14.658403Z"
    },
    "collapsed": true
   },
   "outputs": [],
   "source": [
    "twpa_pump.power(15)\n",
    "\n",
    "sweep_obj = sweep(twpa_pump.frequency, np.arange(7.96e9, 8.08e9, 1e6))(\n",
    "    vna_frequency_sweep_dB(fstart=4e9, fstop=6e9, fpts=2001, chan='S21', navgs=1)\n",
    ")\n",
    "\n",
    "result = do_experiment(f\"VNA_vs_pump_frequency/{SAMPLE}\", sweep_obj, live_plot=True)"
   ]
  },
  {
   "cell_type": "markdown",
   "metadata": {},
   "source": [
    "## SNR as function of pump params"
   ]
  },
  {
   "cell_type": "code",
   "execution_count": null,
   "metadata": {
    "ExecuteTime": {
     "end_time": "2018-11-23T15:52:15.289586Z",
     "start_time": "2018-11-23T15:52:15.279579Z"
    },
    "collapsed": true
   },
   "outputs": [],
   "source": [
    "@getter(('signal', 'dB'), ('noise', 'dB'), ('SNR', 'dB'))\n",
    "def get_SNR():\n",
    "    time.sleep(0.01)\n",
    "    mag, phase = take_trace(plot=False)\n",
    "    sig = np.abs(mag) * np.exp(-1j*phase)\n",
    "#     I, Q = sig.real, sig.imag\n",
    "    lin_mean = np.abs(sig.mean())\n",
    "    lin_std = np.abs(sig.std())\n",
    "#     lin_mean = (I.mean()**2. + Q.mean()**2.)**.5\n",
    "#     lin_std = (I.std()**2. + Q.std()**2.)**.5\n",
    "    return 20*np.log10(lin_mean), 20*np.log10(lin_std), 20*np.log10(lin_mean/lin_std)"
   ]
  },
  {
   "cell_type": "code",
   "execution_count": null,
   "metadata": {
    "ExecuteTime": {
     "end_time": "2018-11-23T16:14:34.484583Z",
     "start_time": "2018-11-23T16:12:23.559890Z"
    },
    "collapsed": true
   },
   "outputs": [],
   "source": [
    "station.TWPA.on()\n",
    "station.vna.S21.avg(1)\n",
    "station.vna.S21.power(-55)\n",
    "setup_zerospan_trace(4.5e9, 101)\n",
    "\n",
    "\n",
    "sweep_obj = sweep(station.TWPA.frequency, np.arange(7.94e9, 7.99e9, 0.5e6))(\n",
    "     sweep(station.TWPA.power, np.arange(2, 6.0, .2)[::-1]))(\n",
    "        measure(get_SNR)\n",
    ")\n",
    "\n",
    "result = do_experiment(f\"TWPA_SNR/{SAMPLE}\", sweep_obj, live_plot=True)"
   ]
  },
  {
   "cell_type": "code",
   "execution_count": null,
   "metadata": {
    "ExecuteTime": {
     "end_time": "2018-11-10T05:08:38.505211Z",
     "start_time": "2018-11-10T01:55:43.017177Z"
    },
    "collapsed": true
   },
   "outputs": [],
   "source": [
    "twpa_pump.on()\n",
    "vna.S21.avg(1)\n",
    "vna.S21.power(-50)\n",
    "setup_zerospan_trace(5.3136e9, 101)\n",
    "\n",
    "\n",
    "sweep_obj = sweep(twpa_pump.frequency, np.arange(7.70e9, 7.94e9, 0.5e6))(\n",
    "     sweep(twpa_pump.power, np.arange(-5.0, 14.0, .1)[::-1]))(\n",
    "        measure(get_SNR)\n",
    ")\n",
    "\n",
    "result = do_experiment(f\"TWPA_SNR/{SAMPLE}\", sweep_obj, live_plot=True)"
   ]
  },
  {
   "cell_type": "code",
   "execution_count": null,
   "metadata": {
    "collapsed": true
   },
   "outputs": [],
   "source": []
  },
  {
   "cell_type": "code",
   "execution_count": null,
   "metadata": {
    "ExecuteTime": {
     "end_time": "2018-11-10T13:24:09.146236Z",
     "start_time": "2018-11-10T13:24:09.132210Z"
    },
    "collapsed": true
   },
   "outputs": [],
   "source": [
    "runid = 271\n",
    "data = qc.dataset.data_export.load_by_id(runid)"
   ]
  },
  {
   "cell_type": "code",
   "execution_count": null,
   "metadata": {
    "ExecuteTime": {
     "end_time": "2018-11-10T13:24:10.867854Z",
     "start_time": "2018-11-10T13:24:10.538076Z"
    },
    "collapsed": true
   },
   "outputs": [],
   "source": [
    "SNR = np.array(data.get_data('SNR'))"
   ]
  },
  {
   "cell_type": "code",
   "execution_count": null,
   "metadata": {
    "ExecuteTime": {
     "end_time": "2018-11-10T13:25:11.902178Z",
     "start_time": "2018-11-10T13:25:11.898174Z"
    },
    "collapsed": true
   },
   "outputs": [],
   "source": [
    "SNR.max()\n",
    "np.argmax(SNR)"
   ]
  },
  {
   "cell_type": "code",
   "execution_count": null,
   "metadata": {
    "ExecuteTime": {
     "end_time": "2018-11-10T13:25:16.086994Z",
     "start_time": "2018-11-10T13:25:16.082994Z"
    },
    "collapsed": true
   },
   "outputs": [],
   "source": [
    "SNR.shape"
   ]
  },
  {
   "cell_type": "code",
   "execution_count": null,
   "metadata": {
    "ExecuteTime": {
     "end_time": "2018-11-10T13:24:51.181193Z",
     "start_time": "2018-11-10T13:24:51.154192Z"
    },
    "collapsed": true
   },
   "outputs": [],
   "source": [
    "np.max?"
   ]
  }
 ],
 "metadata": {
  "kernelspec": {
   "display_name": "Python 3",
   "language": "python",
   "name": "python3"
  },
  "language_info": {
   "codemirror_mode": {
    "name": "ipython",
    "version": 3
   },
   "file_extension": ".py",
   "mimetype": "text/x-python",
   "name": "python",
   "nbconvert_exporter": "python",
   "pygments_lexer": "ipython3",
   "version": "3.6.3"
  },
  "toc": {
   "base_numbering": 1,
   "nav_menu": {},
   "number_sections": true,
   "sideBar": true,
   "skip_h1_title": false,
   "title_cell": "Table of Contents",
   "title_sidebar": "Contents",
   "toc_cell": false,
   "toc_position": {
    "height": "calc(100% - 180px)",
    "left": "10px",
    "top": "150px",
    "width": "315px"
   },
   "toc_section_display": true,
   "toc_window_display": true
  }
 },
 "nbformat": 4,
 "nbformat_minor": 2
}

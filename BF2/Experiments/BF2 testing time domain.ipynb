{
 "cells": [
  {
   "cell_type": "code",
   "execution_count": 1,
   "metadata": {
    "ExecuteTime": {
     "end_time": "2018-11-28T15:34:53.675911Z",
     "start_time": "2018-11-28T15:34:51.634458Z"
    },
    "collapsed": true
   },
   "outputs": [],
   "source": [
    "import numpy as np\n",
    "import qcodes as qc\n",
    "import broadbean as bb\n",
    "from broadbean.plotting import plotter\n",
    "\n",
    "from pytopo.awg_sequencing import broadbean as bbtools\n",
    "from pytopo.awg_sequencing.broadbean import BluePrints, BroadBeanSequence\n",
    "\n",
    "ramp = bb.PulseAtoms.ramp\n",
    "sine = bb.PulseAtoms.sine\n",
    "sine = bb.PulseAtoms.gaussian"
   ]
  },
  {
   "cell_type": "code",
   "execution_count": 3,
   "metadata": {
    "ExecuteTime": {
     "end_time": "2018-11-29T10:10:50.456131Z",
     "start_time": "2018-11-29T10:10:50.176937Z"
    }
   },
   "outputs": [
    {
     "ename": "NameError",
     "evalue": "name 'station' is not defined",
     "output_type": "error",
     "traceback": [
      "\u001b[1;31m---------------------------------------------------------------------------\u001b[0m",
      "\u001b[1;31mNameError\u001b[0m                                 Traceback (most recent call last)",
      "\u001b[1;32m<ipython-input-3-4d357cb30209>\u001b[0m in \u001b[0;36m<module>\u001b[1;34m\u001b[0m\n\u001b[0;32m     51\u001b[0m }\n\u001b[0;32m     52\u001b[0m \u001b[1;33m\u001b[0m\u001b[0m\n\u001b[1;32m---> 53\u001b[1;33m \u001b[0mrabi_seq\u001b[0m \u001b[1;33m=\u001b[0m \u001b[0mRabiSequence\u001b[0m\u001b[1;33m(\u001b[0m\u001b[0mstation\u001b[0m\u001b[1;33m.\u001b[0m\u001b[0mawg\u001b[0m\u001b[1;33m)\u001b[0m\u001b[1;33m\u001b[0m\u001b[0m\n\u001b[0m\u001b[0;32m     54\u001b[0m \u001b[0mrabi_seq\u001b[0m\u001b[1;33m.\u001b[0m\u001b[0mwait\u001b[0m \u001b[1;33m=\u001b[0m \u001b[1;34m'off'\u001b[0m\u001b[1;33m\u001b[0m\u001b[0m\n\u001b[0;32m     55\u001b[0m \u001b[0mrabi_seq\u001b[0m\u001b[1;33m.\u001b[0m\u001b[0msetup\u001b[0m\u001b[1;33m(\u001b[0m\u001b[0mplot\u001b[0m\u001b[1;33m=\u001b[0m\u001b[1;32mTrue\u001b[0m\u001b[1;33m,\u001b[0m \u001b[0mstart_awg\u001b[0m\u001b[1;33m=\u001b[0m\u001b[1;32mFalse\u001b[0m\u001b[1;33m)\u001b[0m\u001b[1;33m\u001b[0m\u001b[0m\n",
      "\u001b[1;31mNameError\u001b[0m: name 'station' is not defined"
     ]
    }
   ],
   "source": [
    "class RabiSequence(BroadBeanSequence):\n",
    "    \"\"\"\n",
    "    A sequence that consists of a single gaussian pulse followed by a readout pulse.\n",
    "\n",
    "    required channels:\n",
    "        'I' : analog output (qubit drive pulse)\n",
    "        'ats_trigger' : marker for the alazar\n",
    "        'ro_pulse' : readout marker \n",
    "        'qb_pulse' : qubit marker\n",
    "    \"\"\"\n",
    "    name = 'rabi_sequence'\n",
    "\n",
    "    def sequence(self, pre_pulse_time=1e-6, pi_pulse_time=10e-6, after_pulse_time=0.01e-6,\n",
    "                 dur_trigger_alazar = 1e-6, dur_readout = 100e-6, \n",
    "                 n_amplitudes=20, range_amplitudes = 1):\n",
    "        \n",
    "        t_pulse = pre_pulse_time + pi_pulse_time + after_pulse_time\n",
    "        sigma = pi_pulse_time/4.0\n",
    "        \n",
    "        elements = []\n",
    "        for A in np.linspace(-range_amplitudes, range_amplitudes, n_amplitudes):\n",
    "            bps = bbtools.BluePrints(chan_map=self.chan_map, length=cycle_time, sample_rate=self.SR)\n",
    "            \n",
    "            bps['I'].insertSegment(0, ramp, (0, 0), dur=pre_pulse_time)\n",
    "            bps['I'].insertSegment(1, gaussian, (A, sigma, 0, 0), \n",
    "                                   name='gaussian_pulse', dur=pi_pulse_time)\n",
    "            bps['I'].insertSegment(2, ramp, (0, 0), dur=after_pulse_time)\n",
    "            bps['qb_pulse'] = [(pre_pulse_time, pre_pulse_time+pi_pulse_time)]\n",
    "            bps['ats_trigger'] = [(t_pulse, t_pulse + dur_trigger_alazar)]\n",
    "            bps['ro_pulse'] = [(t_pulse, t_pulse+dur_readout)]\n",
    "\n",
    "            elements.append(bbtools.blueprints2element(bps))\n",
    "        \n",
    "        return bbtools.elements2sequence(elements, self.name)\n",
    "    \n",
    "    \n",
    "RabiSequence.chan_map = {\n",
    "    1 : ['I', 'ats_trigger', 'ro_pulse'],\n",
    "    2 : [None, 'qb_pulse', None],   \n",
    "}\n",
    "\n",
    "RabiSequence.chan_settings = {\n",
    "    1 : {\n",
    "        'marker_hi' : [1.5, 1.5],\n",
    "        'marker_lo' : [-0.3, -0.3],\n",
    "        },\n",
    "    2 : {\n",
    "        'marker_hi' : [1.5, 1.5],\n",
    "        'marker_lo' : [-0.3, -0.3],\n",
    "        },\n",
    "}\n",
    "\n",
    "rabi_seq = RabiSequence(station.awg)\n",
    "rabi_seq.wait = 'off'\n",
    "rabi_seq.setup(plot=True, start_awg=False)"
   ]
  },
  {
   "cell_type": "code",
   "execution_count": null,
   "metadata": {
    "collapsed": true
   },
   "outputs": [],
   "source": []
  }
 ],
 "metadata": {
  "kernelspec": {
   "display_name": "Python 3",
   "language": "python",
   "name": "python3"
  },
  "language_info": {
   "codemirror_mode": {
    "name": "ipython",
    "version": 3
   },
   "file_extension": ".py",
   "mimetype": "text/x-python",
   "name": "python",
   "nbconvert_exporter": "python",
   "pygments_lexer": "ipython3",
   "version": "3.6.3"
  },
  "toc": {
   "base_numbering": 1,
   "nav_menu": {},
   "number_sections": true,
   "sideBar": true,
   "skip_h1_title": false,
   "title_cell": "Table of Contents",
   "title_sidebar": "Contents",
   "toc_cell": false,
   "toc_position": {},
   "toc_section_display": true,
   "toc_window_display": false
  }
 },
 "nbformat": 4,
 "nbformat_minor": 2
}

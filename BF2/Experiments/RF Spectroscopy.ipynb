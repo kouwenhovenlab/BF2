{
 "cells": [
  {
   "cell_type": "code",
   "execution_count": 1,
   "metadata": {
    "collapsed": true
   },
   "outputs": [],
   "source": [
    "%matplotlib notebook\n",
    "\n",
    "import sys\n",
    "import os\n",
    "import time\n",
    "from importlib import reload"
   ]
  },
  {
   "cell_type": "code",
   "execution_count": 2,
   "metadata": {
    "collapsed": true
   },
   "outputs": [],
   "source": [
    "import numpy as np\n",
    "import qcodes as qc\n",
    "import broadbean as bb\n",
    "\n",
    "from matplotlib import pyplot as plt\n",
    "from broadbean.plotting import plotter"
   ]
  },
  {
   "cell_type": "code",
   "execution_count": 3,
   "metadata": {
    "collapsed": true
   },
   "outputs": [],
   "source": [
    "from qcodes.dataset.measurements import Measurement\n",
    "from qcodes.dataset.plotting import plot_by_id\n",
    "from qcodes.dataset.data_set import DataSet\n",
    "from qcodes.sweep import sweep, nest, chain, szip, getter, setter\n",
    "from qcodes.sweep.sweep import ParameterSweep, Nest, ParameterWrapper, FunctionWrapper, FunctionSweep, getter"
   ]
  },
  {
   "cell_type": "code",
   "execution_count": 128,
   "metadata": {},
   "outputs": [],
   "source": [
    "from pytopo.qctools import instruments; reload(instruments)\n",
    "from pytopo.qctools.instruments import create_inst, add2station\n",
    "\n",
    "from pytopo.mplplots.init_nb_plotting import *\n",
    "from pytopo.mplplots import plots as mplplots\n",
    "from pytopo.mplplots import tools as mpltools"
   ]
  },
  {
   "cell_type": "code",
   "execution_count": 5,
   "metadata": {
    "collapsed": true
   },
   "outputs": [],
   "source": [
    "import plottr; reload(plottr)\n",
    "\n",
    "from pytopo.qctools.dataset2 import select_experiment\n",
    "from plottr.qcodes_dataset import QcodesDatasetSubscriber"
   ]
  },
  {
   "cell_type": "markdown",
   "metadata": {},
   "source": [
    "# Init"
   ]
  },
  {
   "cell_type": "markdown",
   "metadata": {
    "heading_collapsed": true
   },
   "source": [
    "## load instruments"
   ]
  },
  {
   "cell_type": "code",
   "execution_count": 6,
   "metadata": {
    "hidden": true
   },
   "outputs": [
    {
     "name": "stdout",
     "output_type": "stream",
     "text": [
      "Connected to: TEKTRONIX AWG5014C (serial:B051389, firmware:SCPI:99.0 FW:4.6.0.7) in 0.74s\n",
      "Connected to: Rohde&Schwarz SGS100A (serial:1416.0505k02/110509, firmware:3.1.19.15-3.50.124.67) in 0.03s\n",
      "Connected to: Rohde&Schwarz SGS100A (serial:1416.0505k02/110510, firmware:3.1.19.15-3.50.124.67) in 0.04s\n",
      "Connected to: Rohde&Schwarz SGS100A (serial:1416.0505k02/110531, firmware:3.1.19.15-3.50.124.67) in 0.03s\n",
      "Connected to: YOKOGAWA GS210 (serial:91T926459, firmware:2.02) in 0.03s\n"
     ]
    },
    {
     "name": "stderr",
     "output_type": "stream",
     "text": [
      "Snapshot: Could not update parameter:clock_source\n",
      "Snapshot: Could not update parameter:external_sample_rate\n",
      "Snapshot: Could not update parameter:sample_rate\n",
      "Snapshot: Could not update parameter:clock_edge\n",
      "Snapshot: Could not update parameter:decimation\n",
      "Snapshot: Could not update parameter:coupling1\n",
      "Snapshot: Could not update parameter:channel_range1\n",
      "Snapshot: Could not update parameter:impedance1\n",
      "Snapshot: Could not update parameter:coupling2\n",
      "Snapshot: Could not update parameter:channel_range2\n",
      "Snapshot: Could not update parameter:impedance2\n",
      "Snapshot: Could not update parameter:trigger_operation\n",
      "Snapshot: Could not update parameter:trigger_engine1\n",
      "Snapshot: Could not update parameter:trigger_source1\n",
      "Snapshot: Could not update parameter:trigger_slope1\n",
      "Snapshot: Could not update parameter:trigger_level1\n",
      "Snapshot: Could not update parameter:trigger_engine2\n",
      "Snapshot: Could not update parameter:trigger_source2\n",
      "Snapshot: Could not update parameter:trigger_slope2\n",
      "Snapshot: Could not update parameter:trigger_level2\n",
      "Snapshot: Could not update parameter:external_trigger_coupling\n",
      "Snapshot: Could not update parameter:external_trigger_range\n",
      "Snapshot: Could not update parameter:trigger_delay\n",
      "Snapshot: Could not update parameter:timeout_ticks\n",
      "Snapshot: Could not update parameter:aux_io_mode\n",
      "Snapshot: Could not update parameter:aux_io_param\n",
      "Snapshot: Could not update parameter:mode\n",
      "Snapshot: Could not update parameter:samples_per_record\n",
      "Snapshot: Could not update parameter:records_per_buffer\n",
      "Snapshot: Could not update parameter:buffers_per_acquisition\n",
      "Snapshot: Could not update parameter:channel_selection\n",
      "Snapshot: Could not update parameter:transfer_offset\n",
      "Snapshot: Could not update parameter:external_startcapture\n",
      "Snapshot: Could not update parameter:enable_record_headers\n",
      "Snapshot: Could not update parameter:alloc_buffers\n",
      "Snapshot: Could not update parameter:fifo_only_streaming\n",
      "Snapshot: Could not update parameter:interleave_samples\n",
      "Snapshot: Could not update parameter:get_processed_data\n",
      "Snapshot: Could not update parameter:allocated_buffers\n",
      "Snapshot: Could not update parameter:buffer_timeout\n",
      "Snapshot: Could not update parameter:current_range\n",
      "Snapshot: Could not update parameter:current\n"
     ]
    }
   ],
   "source": [
    "%run init_cQED.py"
   ]
  },
  {
   "cell_type": "markdown",
   "metadata": {},
   "source": [
    "## Default settings"
   ]
  },
  {
   "cell_type": "code",
   "execution_count": 7,
   "metadata": {
    "collapsed": true
   },
   "outputs": [],
   "source": [
    "ats_settings = dict(\n",
    "    clock_source='INTERNAL_CLOCK',\n",
    "    sample_rate=int(2e8),\n",
    "    clock_edge='CLOCK_EDGE_RISING',\n",
    "    decimation=1,\n",
    "    coupling=['DC','DC'],\n",
    "    channel_range=[.4, .4],\n",
    "    impedance=[50, 50],\n",
    "    trigger_operation='TRIG_ENGINE_OP_J',\n",
    "    trigger_engine1='TRIG_ENGINE_J',\n",
    "    trigger_source1='EXTERNAL',\n",
    "    trigger_slope1='TRIG_SLOPE_POSITIVE',\n",
    "    trigger_level1=128+20,\n",
    "    trigger_engine2='TRIG_ENGINE_K',\n",
    "    trigger_source2='DISABLE',\n",
    "    trigger_slope2='TRIG_SLOPE_POSITIVE',\n",
    "    trigger_level2=128+5,\n",
    "    external_trigger_coupling='DC',\n",
    "    external_trigger_range='ETR_2V5',\n",
    "    trigger_delay=0,\n",
    "    timeout_ticks=int(1e7),\n",
    "    aux_io_mode='AUX_IN_AUXILIARY',\n",
    "    aux_io_param='NONE',\n",
    ")\n",
    "\n",
    "station.alazar.config(**ats_settings)\n",
    "\n",
    "yoko.range(10)\n",
    "yoko.voltage(0)\n",
    "yoko.on()"
   ]
  },
  {
   "cell_type": "markdown",
   "metadata": {},
   "source": [
    "## Global settings"
   ]
  },
  {
   "cell_type": "code",
   "execution_count": 8,
   "metadata": {
    "collapsed": true
   },
   "outputs": [],
   "source": [
    "SAMPLE = 'ref_transmon_CD20180510'"
   ]
  },
  {
   "cell_type": "markdown",
   "metadata": {},
   "source": [
    "## Tools"
   ]
  },
  {
   "cell_type": "code",
   "execution_count": null,
   "metadata": {
    "collapsed": true
   },
   "outputs": [],
   "source": [
    "from qcodes.instrument.base import Instrument\n",
    "\n",
    "class IFController(Instrument):\n",
    "    \n",
    "    def __init__(self, name, rf_inst, lo_inst, **kw):\n",
    "        super().__init__(name, **kw)\n",
    "        \n",
    "        self.rf = rf_inst\n",
    "        self.lo = lo_inst\n",
    "        \n",
    "        pass"
   ]
  },
  {
   "cell_type": "code",
   "execution_count": 10,
   "metadata": {},
   "outputs": [],
   "source": [
    "from pytopo.qctools import hard_sweep; reload(hard_sweep)\n",
    "from pytopo.qctools.hard_sweep import HardSweep"
   ]
  },
  {
   "cell_type": "code",
   "execution_count": 142,
   "metadata": {},
   "outputs": [],
   "source": [
    "ramp = bb.PulseAtoms.ramp\n",
    "\n",
    "class BluePrints(object):\n",
    "    \n",
    "    def __init__(self, chan_map, sample_rate=1e9):\n",
    "        self.bps = {}\n",
    "        self.map = {}\n",
    "        \n",
    "        for i, lst in chan_map.items():\n",
    "            self.bps[i] = bb.BluePrint()\n",
    "            self.bps[i].setSR(sample_rate)\n",
    "            for j, name in enumerate(lst):\n",
    "                if name is not None:\n",
    "                    self.map[name] = (i, j)\n",
    "                    \n",
    "    def __getitem__(self, name):\n",
    "        if self.map[name][1] == 0:\n",
    "            return self.bps[self.map[name][0]]\n",
    "        else:\n",
    "            return getattr(self.bps[self.map[name][0]], 'marker{}'.format(self.map[name][1]))\n",
    "        \n",
    "    def __setitem__(self, name, value):\n",
    "        if self.map[name][1] == 0:\n",
    "            self.bps[self.map[name][0]] = value\n",
    "        else:\n",
    "            setattr(self.bps[self.map[name][0]], 'marker{}'.format(self.map[name][1]), value)\n",
    "        \n",
    "    def __call__(self):\n",
    "        return list(self.bps.items())\n",
    "    \n",
    "\n",
    "class BroadBeanSequence(HardSweep):\n",
    "    \n",
    "    chan_map = {}\n",
    "    \n",
    "    def __init__(self, name, awg, chan_map, **kw):\n",
    "        self.awg = awg\n",
    "        self.chan_map = chan_map\n",
    "        \n",
    "        super().__init__(name, **kw)\n",
    "        \n",
    "        self.add_parameter('sample_rate', get_cmd=None, set_cmd=None, \n",
    "                           unit='GS/s', initial_value=1e9)\n",
    "        \n",
    "    def sequence(self):\n",
    "        raise NotImplementedError\n",
    "        \n",
    "        \n",
    "    def setup(self):\n",
    "        self.awg.stop()\n",
    "        self.awg.clock_freq(self.sample_rate())\n",
    "        \n",
    "        seq = self.sequence()\n",
    "        pkg = seq.outputForAWGFile()\n",
    "        self.awg.make_send_and_load_awg_file(*pkg[:])\n",
    "        \n",
    "        for ch_no, ch_desc in self.chan_map.items():\n",
    "            self.awg.set('ch{}_state'.format(ch_no), 1)\n",
    "\n",
    "        self.awg.start()\n",
    "\n",
    "        \n",
    "class SimpleAWGSpec(BroadBeanSequence):\n",
    "\n",
    "    def __init__(self, *arg, **kw):\n",
    "        super().__init__(*arg, **kw)\n",
    "        \n",
    "        self.add_parameter('initial_delay', set_cmd=None,\n",
    "                           unit='s', initial_value=1e-6)\n",
    "        self.add_parameter('alazar_trigger_len', set_cmd=None,\n",
    "                           unit='s', initial_value=1e-7)\n",
    "        self.add_parameter('alazar_trigger_delay', set_cmd=None, \n",
    "                           unit='s', initial_value=1e-6)\n",
    "        self.add_parameter('seq_len', set_cmd=None, \n",
    "                           unit='s', initial_value=1e-5)\n",
    "        self.add_parameter('final_delay', set_cmd=None,\n",
    "                           unit='s', initial_value=1e-6)\n",
    "        \n",
    "    def setup(self):\n",
    "        self.set_sweep_dims(dict(awg_sweep=[0,]))\n",
    "        super().setup()\n",
    "        \n",
    "    def sequence(self):\n",
    "        elem = bb.Element()\n",
    "        \n",
    "        bps = BluePrints(self.chan_map, sample_rate=self.sample_rate())\n",
    "        \n",
    "        bps['ro'].insertSegment(0, ramp, (0, 0), dur=self.seq_len(), name='ro_segment')\n",
    "        bps['alz_mrkr'] = [(self.initial_delay(), self.alazar_trigger_len())]\n",
    "        bps['ro_mrkr'] = [(self.initial_delay() + self.alazar_trigger_delay(), \n",
    "                           self.seq_len() - self.initial_delay() - 2 * self.alazar_trigger_delay() - self.final_delay(), )]\n",
    "        \n",
    "        bps['q'].insertSegment(0, ramp, (0, 0), dur=self.seq_len(), name='q_segment')\n",
    "        bps['q_mrkr'] = [(self.initial_delay() + self.alazar_trigger_delay(), \n",
    "                          self.seq_len() - self.initial_delay() - 2 * self.alazar_trigger_delay() - self.final_delay(), )]\n",
    "        \n",
    "        \n",
    "        for n, bp in bps():\n",
    "            elem.addBluePrint(n, bp)\n",
    "            \n",
    "        seq = bb.Sequence()\n",
    "        seq.name = 'spec'\n",
    "        seq.addElement(1, elem)\n",
    "        seq.setSR(self.sample_rate())\n",
    "        \n",
    "        seq.setChannelAmplitude(1, 1)\n",
    "        seq.setChannelOffset(1, 0)\n",
    "        seq.setChannelAmplitude(2, 1)\n",
    "        seq.setChannelOffset(2, 0)\n",
    "\n",
    "        seq.setSequencingTriggerWait(1, 0)\n",
    "        seq.setSequencingGoto(1, 1)\n",
    "        \n",
    "        return seq"
   ]
  },
  {
   "cell_type": "code",
   "execution_count": 144,
   "metadata": {},
   "outputs": [
    {
     "name": "stdout",
     "output_type": "stream",
     "text": [
      "Instrument awg_spec already exists.\n"
     ]
    }
   ],
   "source": [
    "awg_chan_map = {\n",
    "        1 : ['ro', 'alz_mrkr', 'ro_mrkr'],\n",
    "        2 : ['q', 'q_mrkr', None],\n",
    "    }\n",
    "\n",
    "awg_spec = create_inst(SimpleAWGSpec, 'awg_spec', awg=awg5014, chan_map=awg_chan_map, force_new_instance=True)\n",
    "station = add2station(station, awg_spec)\n",
    "\n",
    "awg_spec.sample_rate(1e9)\n",
    "awg_spec.setup()"
   ]
  },
  {
   "cell_type": "code",
   "execution_count": null,
   "metadata": {},
   "outputs": [],
   "source": []
  },
  {
   "cell_type": "code",
   "execution_count": null,
   "metadata": {
    "collapsed": true
   },
   "outputs": [],
   "source": []
  },
  {
   "cell_type": "code",
   "execution_count": null,
   "metadata": {
    "collapsed": true
   },
   "outputs": [],
   "source": []
  },
  {
   "cell_type": "markdown",
   "metadata": {},
   "source": [
    "# CW spec"
   ]
  },
  {
   "cell_type": "markdown",
   "metadata": {},
   "source": [
    "## AWG sequence (to trigger Alazar)"
   ]
  },
  {
   "cell_type": "code",
   "execution_count": null,
   "metadata": {},
   "outputs": [],
   "source": []
  },
  {
   "cell_type": "code",
   "execution_count": null,
   "metadata": {
    "collapsed": true
   },
   "outputs": [],
   "source": []
  },
  {
   "cell_type": "markdown",
   "metadata": {},
   "source": [
    "## Test Alazar signal"
   ]
  },
  {
   "cell_type": "code",
   "execution_count": null,
   "metadata": {},
   "outputs": [],
   "source": [
    "demodrel_acq.acq_time = 98e-6\n",
    "demodrel_acq.demod_frq = 20e6\n",
    "demodrel_acq.update_acquisitionkwargs(records_per_buffer=100, \n",
    "                                      buffers_per_acquisition=1,\n",
    "                                      buffer_timeout=10000,\n",
    "                                      allocated_buffers=1)\n",
    "data = demodrel_acq.do_acquisition()\n",
    "avg_data = np.squeeze(data).mean(axis=0)\n",
    "\n",
    "fig, ax = plt.subplots(1, 1)\n",
    "ax.plot(demodrel_acq.demod_tvals * 1e6, avg_data.real, label='Re')\n",
    "ax.plot(demodrel_acq.demod_tvals * 1e6, avg_data.imag, label='Im')\n",
    "ax.plot(demodrel_acq.demod_tvals * 1e6, np.abs(avg_data), label='Abs')\n",
    "ax.legend()\n",
    "\n",
    "ax.set_ylabel('Signal')\n",
    "ax.set_xlabel('Time (us)')\n",
    "\n",
    "fig.tight_layout()"
   ]
  },
  {
   "cell_type": "markdown",
   "metadata": {},
   "source": [
    "## RO spec"
   ]
  },
  {
   "cell_type": "code",
   "execution_count": null,
   "metadata": {
    "collapsed": true
   },
   "outputs": [],
   "source": [
    "exp = select_experiment('readout_spec', SAMPLE)\n",
    "\n",
    "### measurement params\n",
    "\n",
    "\n",
    "# ctl = iq_acq\n",
    "ctl = iqrel_acq\n",
    "ctl.acq_time = 98e-6\n",
    "ctl.demod_frq = 20e6\n",
    "ctl.update_acquisitionkwargs(\n",
    "    records_per_buffer=100, \n",
    "    buffers_per_acquisition=10,\n",
    "    buffer_timeout=10000,\n",
    "    allocated_buffers=1\n",
    ")"
   ]
  },
  {
   "cell_type": "code",
   "execution_count": null,
   "metadata": {},
   "outputs": [],
   "source": [
    "yoko.on()\n",
    "yoko.ramp_voltage(0.0, 1e-3, 0.01)\n",
    "\n",
    "rf_frqs = np.linspace(7.148e9, 7.152e9, 81)\n",
    "IF = 20e6\n",
    "\n",
    "### set up expt\n",
    "meas = Measurement(exp=exp)\n",
    "meas.write_period = 5.0\n",
    "\n",
    "meas.register_parameter(RF.frequency)\n",
    "meas.register_custom_parameter('signal_real', setpoints=[RF.frequency, ])\n",
    "meas.register_custom_parameter('signal_imag', setpoints=[RF.frequency, ])\n",
    "meas.register_custom_parameter('signal_abs', setpoints=[RF.frequency, ])\n",
    "\n",
    "with meas.run() as datasaver:\n",
    "    datasaver.dataset.subscribe(QcodesDatasetSubscriber(datasaver.dataset), state=[],\n",
    "                                min_wait=0, min_count=1)\n",
    "    \n",
    "    for f in rf_frqs:\n",
    "        RF.frequency(f)\n",
    "        LO.frequency(f + IF)\n",
    "        time.sleep(0.2)\n",
    "        \n",
    "        data = ctl.do_acquisition()\n",
    "        if ctl == iq_acq:\n",
    "            sig = data[...,1].mean()\n",
    "            ref = data[...,0].mean()\n",
    "        elif ctl == iqrel_acq:\n",
    "            sig = data.mean()\n",
    "\n",
    "        datasaver.add_result((RF.frequency, f), \n",
    "                             ('signal_real', sig.real.astype(float)),\n",
    "                             ('signal_imag', sig.imag.astype(float)), \n",
    "                             ('signal_abs', np.abs(sig).astype(float)))"
   ]
  },
  {
   "cell_type": "code",
   "execution_count": null,
   "metadata": {},
   "outputs": [],
   "source": []
  },
  {
   "cell_type": "code",
   "execution_count": null,
   "metadata": {},
   "outputs": [],
   "source": [
    "exp = select_experiment('readout_spec_flux', SAMPLE)\n",
    "\n",
    "### set up expt\n",
    "meas = Measurement(exp=exp)\n",
    "meas.write_period = 5.0\n",
    "\n",
    "flux_vs = np.linspace(-5, 5, 21)\n",
    "rf_frqs = np.linspace(7.149e9, 7.152e9, 61)\n",
    "IF = 20e6\n",
    "\n",
    "meas.register_parameter(yoko.voltage)\n",
    "meas.register_parameter(RF.frequency)\n",
    "meas.register_custom_parameter('signal_real', setpoints=[yoko.voltage, RF.frequency, ])\n",
    "meas.register_custom_parameter('signal_imag', setpoints=[yoko.voltage, RF.frequency, ])\n",
    "meas.register_custom_parameter('signal_abs', setpoints=[yoko.voltage, RF.frequency, ])\n",
    "\n",
    "with meas.run() as datasaver:\n",
    "    datasaver.dataset.subscribe(QcodesDatasetSubscriber(datasaver.dataset), state=[],\n",
    "                                min_wait=0, min_count=1)\n",
    "    \n",
    "    \n",
    "    for v in flux_vs:\n",
    "        yoko.voltage(v)\n",
    "    \n",
    "        for f in rf_frqs:\n",
    "            RF.frequency(f)\n",
    "            LO.frequency(f + IF)\n",
    "            time.sleep(0.2)\n",
    "\n",
    "            data = ctl.do_acquisition()\n",
    "            if ctl == iq_acq:\n",
    "                sig = data[...,1].mean()\n",
    "                ref = data[...,0].mean()\n",
    "            elif ctl == iqrel_acq:\n",
    "                sig = data.mean()\n",
    "\n",
    "            datasaver.add_result(\n",
    "                (yoko.voltage, v), \n",
    "                (RF.frequency, f), \n",
    "                ('signal_real', sig.real.astype(float)),\n",
    "                ('signal_imag', sig.imag.astype(float)), \n",
    "                ('signal_abs', np.abs(sig).astype(float)))"
   ]
  },
  {
   "cell_type": "code",
   "execution_count": null,
   "metadata": {
    "collapsed": true
   },
   "outputs": [],
   "source": []
  },
  {
   "cell_type": "markdown",
   "metadata": {},
   "source": [
    "## Qubit spec"
   ]
  },
  {
   "cell_type": "code",
   "execution_count": null,
   "metadata": {},
   "outputs": [],
   "source": [
    "exp = select_experiment('qubit_spec', SAMPLE)\n",
    "\n",
    "### measurement params\n",
    "\n",
    "# ctl = iq_acq\n",
    "ctl = iqrel_acq\n",
    "ctl.acq_time = 98e-6\n",
    "ctl.demod_frq = 20e6\n",
    "ctl.update_acquisitionkwargs(\n",
    "    records_per_buffer=100, \n",
    "    buffers_per_acquisition=10,\n",
    "    buffer_timeout=10000,\n",
    "    allocated_buffers=1\n",
    ")\n",
    "\n",
    "RF.frequency(7.1507e9)\n",
    "LO.frequency(RF.frequency() + IF)"
   ]
  },
  {
   "cell_type": "code",
   "execution_count": null,
   "metadata": {},
   "outputs": [],
   "source": [
    "### set up expt\n",
    "meas = Measurement(exp=exp)\n",
    "meas.write_period = 5.0\n",
    "\n",
    "meas.register_parameter(qubit_gen.frequency)\n",
    "meas.register_custom_parameter('signal_real', setpoints=[qubit_gen.frequency, ])\n",
    "meas.register_custom_parameter('signal_imag', setpoints=[qubit_gen.frequency, ])\n",
    "meas.register_custom_parameter('signal_abs', setpoints=[qubit_gen.frequency, ])\n",
    "\n",
    "q_frqs = np.linspace(5.1e9, 5.4e9, 301)\n",
    "\n",
    "yoko.voltage(0)\n",
    "\n",
    "with meas.run() as datasaver:\n",
    "    datasaver.dataset.subscribe(QcodesDatasetSubscriber(datasaver.dataset), state=[],\n",
    "                                min_wait=0, min_count=1)\n",
    "    \n",
    "    for f in q_frqs:\n",
    "        qubit_gen.frequency(f)\n",
    "        time.sleep(0.2)\n",
    "        \n",
    "        data = ctl.do_acquisition()\n",
    "        if ctl == iq_acq:\n",
    "            sig = data[...,1].mean()\n",
    "            ref = data[...,0].mean()\n",
    "        elif ctl == iqrel_acq:\n",
    "            sig = data.mean()\n",
    "\n",
    "        datasaver.add_result((qubit_gen.frequency, f), \n",
    "                             ('signal_real', sig.real.astype(float)),\n",
    "                             ('signal_imag', sig.imag.astype(float)), \n",
    "                             ('signal_abs', np.abs(sig).astype(float)))"
   ]
  },
  {
   "cell_type": "code",
   "execution_count": null,
   "metadata": {
    "collapsed": true
   },
   "outputs": [],
   "source": []
  },
  {
   "cell_type": "code",
   "execution_count": null,
   "metadata": {},
   "outputs": [],
   "source": [
    "exp = select_experiment('qubit_spec_flux', SAMPLE)\n",
    "### set up expt\n",
    "meas = Measurement(exp=exp)\n",
    "meas.write_period = 5.0\n",
    "\n",
    "meas.register_parameter(yoko.voltage)\n",
    "meas.register_parameter(qubit_gen.frequency)\n",
    "meas.register_custom_parameter('signal_real', setpoints=[yoko.voltage, qubit_gen.frequency, ])\n",
    "meas.register_custom_parameter('signal_imag', setpoints=[yoko.voltage, qubit_gen.frequency, ])\n",
    "meas.register_custom_parameter('signal_abs', setpoints=[yoko.voltage, qubit_gen.frequency, ])\n",
    "\n",
    "q_frqs = np.linspace(5.1e9, 5.4e9, 151)\n",
    "flux_vs = np.linspace(-4, 4, 21)\n",
    "yoko.on()\n",
    "\n",
    "with meas.run() as datasaver:\n",
    "    datasaver.dataset.subscribe(QcodesDatasetSubscriber(datasaver.dataset), state=[],\n",
    "                                min_wait=0, min_count=1)\n",
    "    \n",
    "    for v in flux_vs:\n",
    "        yoko.voltage(v)\n",
    "        \n",
    "        for f in q_frqs:\n",
    "            qubit_gen.frequency(f)\n",
    "            time.sleep(0.1)\n",
    "            \n",
    "            data = ctl.do_acquisition()\n",
    "            if ctl == iq_acq:\n",
    "                sig = data[...,1].mean()\n",
    "                ref = data[...,0].mean()\n",
    "            elif ctl == iqrel_acq:\n",
    "                sig = data.mean()\n",
    "\n",
    "            datasaver.add_result(\n",
    "                (yoko.voltage, v),\n",
    "                (qubit_gen.frequency, f), \n",
    "                ('signal_real', sig.real.astype(float)),\n",
    "                ('signal_imag', sig.imag.astype(float)), \n",
    "                ('signal_abs', np.abs(sig).astype(float)))"
   ]
  },
  {
   "cell_type": "code",
   "execution_count": null,
   "metadata": {
    "collapsed": true
   },
   "outputs": [],
   "source": []
  },
  {
   "cell_type": "code",
   "execution_count": null,
   "metadata": {
    "collapsed": true
   },
   "outputs": [],
   "source": []
  },
  {
   "cell_type": "code",
   "execution_count": null,
   "metadata": {
    "collapsed": true
   },
   "outputs": [],
   "source": []
  },
  {
   "cell_type": "code",
   "execution_count": null,
   "metadata": {
    "collapsed": true
   },
   "outputs": [],
   "source": []
  },
  {
   "cell_type": "code",
   "execution_count": null,
   "metadata": {
    "collapsed": true
   },
   "outputs": [],
   "source": []
  },
  {
   "cell_type": "code",
   "execution_count": null,
   "metadata": {},
   "outputs": [],
   "source": [
    "ds = qc.load_by_id(77)\n",
    "ds"
   ]
  },
  {
   "cell_type": "code",
   "execution_count": null,
   "metadata": {
    "collapsed": true
   },
   "outputs": [],
   "source": [
    "f = np.array(ds.get_values('RF_frequency')).reshape(-1)"
   ]
  },
  {
   "cell_type": "code",
   "execution_count": null,
   "metadata": {
    "collapsed": true
   },
   "outputs": [],
   "source": []
  }
 ],
 "metadata": {
  "kernelspec": {
   "display_name": "Python 3",
   "language": "python",
   "name": "python3"
  },
  "language_info": {
   "codemirror_mode": {
    "name": "ipython",
    "version": 3
   },
   "file_extension": ".py",
   "mimetype": "text/x-python",
   "name": "python",
   "nbconvert_exporter": "python",
   "pygments_lexer": "ipython3",
   "version": "3.6.3"
  },
  "toc": {
   "base_numbering": 1,
   "nav_menu": {},
   "number_sections": true,
   "sideBar": true,
   "skip_h1_title": false,
   "title_cell": "Table of Contents",
   "title_sidebar": "Contents",
   "toc_cell": false,
   "toc_position": {
    "height": "calc(100% - 180px)",
    "left": "10px",
    "top": "150px",
    "width": "305px"
   },
   "toc_section_display": true,
   "toc_window_display": true
  }
 },
 "nbformat": 4,
 "nbformat_minor": 2
}

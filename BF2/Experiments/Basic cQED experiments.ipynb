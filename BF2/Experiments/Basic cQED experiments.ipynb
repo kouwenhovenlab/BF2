{
 "cells": [
  {
   "cell_type": "code",
   "execution_count": 2,
   "metadata": {
    "collapsed": true
   },
   "outputs": [],
   "source": [
    "%matplotlib notebook\n",
    "\n",
    "import sys\n",
    "import os\n",
    "import time\n",
    "from importlib import reload"
   ]
  },
  {
   "cell_type": "code",
   "execution_count": 3,
   "metadata": {
    "collapsed": true
   },
   "outputs": [],
   "source": [
    "import numpy as np\n",
    "import qcodes as qc\n",
    "import broadbean as bb\n",
    "\n",
    "from matplotlib import pyplot as plt\n",
    "from broadbean.plotting import plotter"
   ]
  },
  {
   "cell_type": "code",
   "execution_count": 4,
   "metadata": {
    "collapsed": true
   },
   "outputs": [],
   "source": [
    "from qcodes.instrument.base import Instrument\n",
    "from qcodes.dataset.measurements import Measurement\n",
    "from qcodes.dataset.plotting import plot_by_id\n",
    "from qcodes.dataset.data_set import DataSet\n",
    "from qcodes.sweep import sweep, nest, chain, szip, getter, setter\n",
    "from qcodes.sweep.sweep import ParameterSweep, Nest, ParameterWrapper, FunctionWrapper, FunctionSweep, getter"
   ]
  },
  {
   "cell_type": "code",
   "execution_count": 5,
   "metadata": {
    "collapsed": true
   },
   "outputs": [],
   "source": [
    "from pytopo.qctools import instruments as instools; reload(instools)\n",
    "from pytopo.qctools.instruments import create_inst, add2station\n",
    "\n",
    "from pytopo.qctools import measurement; reload(measurement)\n",
    "from pytopo.qctools.measurement import MeasurementExt\n",
    "\n",
    "from pytopo.mplplots.init_nb_plotting import *\n",
    "from pytopo.mplplots import plots as mplplots\n",
    "from pytopo.mplplots import tools as mpltools"
   ]
  },
  {
   "cell_type": "code",
   "execution_count": 6,
   "metadata": {
    "collapsed": true
   },
   "outputs": [],
   "source": [
    "import plottr; reload(plottr)\n",
    "\n",
    "from pytopo.qctools.dataset2 import select_experiment\n",
    "from plottr.qcodes_dataset import QcodesDatasetSubscriber"
   ]
  },
  {
   "cell_type": "markdown",
   "metadata": {},
   "source": [
    "# Init"
   ]
  },
  {
   "cell_type": "markdown",
   "metadata": {},
   "source": [
    "## Tools"
   ]
  },
  {
   "cell_type": "code",
   "execution_count": 7,
   "metadata": {
    "collapsed": true
   },
   "outputs": [],
   "source": [
    "from pytopo.qctools import hard_sweep; reload(hard_sweep)\n",
    "from pytopo.qctools.hard_sweep import HardSweep, HardSweepDetector"
   ]
  },
  {
   "cell_type": "code",
   "execution_count": 8,
   "metadata": {
    "collapsed": true
   },
   "outputs": [],
   "source": [
    "# from qcodes.instrument.base import Instrument\n",
    "\n",
    "# class IFController(Instrument):\n",
    "    \n",
    "#     def __init__(self, name, rf_inst, lo_inst, **kw):\n",
    "#         super().__init__(name, **kw)\n",
    "        \n",
    "#         self.rf = rf_inst\n",
    "#         self.lo = lo_inst\n",
    "        \n",
    "#         pass"
   ]
  },
  {
   "cell_type": "markdown",
   "metadata": {},
   "source": [
    "### Pulse sequencer"
   ]
  },
  {
   "cell_type": "code",
   "execution_count": 9,
   "metadata": {
    "collapsed": true
   },
   "outputs": [],
   "source": [
    "ramp = bb.PulseAtoms.ramp\n",
    "\n",
    "class BluePrints(object):\n",
    "    \n",
    "    def __init__(self, chan_map, sample_rate=1e9):\n",
    "        self.bps = {}\n",
    "        self.map = {}\n",
    "        \n",
    "        for i, lst in chan_map.items():\n",
    "            self.bps[i] = bb.BluePrint()\n",
    "            self.bps[i].setSR(sample_rate)\n",
    "            for j, name in enumerate(lst):\n",
    "                if name is not None:\n",
    "                    self.map[name] = (i, j)\n",
    "                    \n",
    "    def __getitem__(self, name):\n",
    "        if self.map[name][1] == 0:\n",
    "            return self.bps[self.map[name][0]]\n",
    "        else:\n",
    "            return getattr(self.bps[self.map[name][0]], 'marker{}'.format(self.map[name][1]))\n",
    "        \n",
    "    def __setitem__(self, name, value):\n",
    "        if self.map[name][1] == 0:\n",
    "            self.bps[self.map[name][0]] = value\n",
    "        else:\n",
    "            setattr(self.bps[self.map[name][0]], 'marker{}'.format(self.map[name][1]), value)\n",
    "        \n",
    "    def __call__(self):\n",
    "        return list(self.bps.items())\n",
    "    \n",
    "\n",
    "class BroadBeanSequence(HardSweep):\n",
    "    \n",
    "    chan_map = {}\n",
    "    \n",
    "    def __init__(self, name, awg, chan_map, **kw):\n",
    "        self.awg = awg\n",
    "        self.chan_map = chan_map\n",
    "        \n",
    "        super().__init__(name, **kw)\n",
    "        \n",
    "        self.add_parameter('sample_rate', get_cmd=None, set_cmd=None, \n",
    "                           unit='GS/s', initial_value=1e9)\n",
    "        \n",
    "    def sequence(self):\n",
    "        raise NotImplementedError\n",
    "        \n",
    "        \n",
    "    def setup(self, program_awg=True, start_awg=True):\n",
    "        super().setup()\n",
    "        \n",
    "        self.awg.stop()\n",
    "        \n",
    "        if program_awg:\n",
    "            self.awg.clock_freq(self.sample_rate())\n",
    "            seq = self.sequence()\n",
    "            pkg = seq.outputForAWGFile()\n",
    "            self.awg.make_send_and_load_awg_file(*pkg[:])\n",
    "        \n",
    "            for ch_no, ch_desc in self.chan_map.items():\n",
    "                self.awg.set('ch{}_state'.format(ch_no), 1)\n",
    "\n",
    "        if start_awg:\n",
    "            self.awg.start()\n",
    "\n",
    "        \n",
    "class SimpleAWGSpec(BroadBeanSequence):\n",
    "\n",
    "    def __init__(self, *arg, **kw):\n",
    "        \n",
    "        kw['sweep_dims'] = ['awg_sweep_idx', ]\n",
    "        \n",
    "        super().__init__(*arg, **kw)\n",
    "        \n",
    "        self.add_parameter('initial_delay', set_cmd=None,\n",
    "                           unit='s', initial_value=1e-6)\n",
    "        self.add_parameter('alazar_trigger_len', set_cmd=None,\n",
    "                           unit='s', initial_value=1e-7)\n",
    "        self.add_parameter('alazar_trigger_delay', set_cmd=None, \n",
    "                           unit='s', initial_value=1e-6)\n",
    "        self.add_parameter('seq_len', set_cmd=None, \n",
    "                           unit='s', initial_value=1e-5)\n",
    "        self.add_parameter('final_delay', set_cmd=None,\n",
    "                           unit='s', initial_value=1e-6)\n",
    "\n",
    "    def setup(self, **kw):\n",
    "        self.awg_sweep_idx([1,])\n",
    "        super().setup(**kw)\n",
    "        \n",
    "    def sequence(self):\n",
    "        elem = bb.Element()\n",
    "        \n",
    "        bps = BluePrints(self.chan_map, sample_rate=self.sample_rate())\n",
    "        \n",
    "        bps['ro'].insertSegment(0, ramp, (0, 0), dur=self.seq_len(), name='ro_segment')\n",
    "        bps['alz_mrkr'] = [(self.initial_delay(), self.alazar_trigger_len())]\n",
    "        bps['ro_mrkr'] = [(self.initial_delay() + self.alazar_trigger_delay(), \n",
    "                           self.seq_len() - self.initial_delay() - 2 * self.alazar_trigger_delay() - self.final_delay(), )]\n",
    "        \n",
    "        bps['q'].insertSegment(0, ramp, (0, 0), dur=self.seq_len(), name='q_segment')\n",
    "        bps['q_mrkr'] = [(self.initial_delay() + self.alazar_trigger_delay(), \n",
    "                          self.seq_len() - self.initial_delay() - 2 * self.alazar_trigger_delay() - self.final_delay(), )]\n",
    "        \n",
    "        \n",
    "        for n, bp in bps():\n",
    "            elem.addBluePrint(n, bp)\n",
    "            \n",
    "        seq = bb.Sequence()\n",
    "        seq.name = 'spec'\n",
    "        seq.addElement(1, elem)\n",
    "        seq.setSR(self.sample_rate())\n",
    "        \n",
    "        seq.setChannelAmplitude(1, 1)\n",
    "        seq.setChannelOffset(1, 0)\n",
    "        seq.setChannelAmplitude(2, 1)\n",
    "        seq.setChannelOffset(2, 0)\n",
    "\n",
    "        seq.setSequencingTriggerWait(1, 0)\n",
    "        seq.setSequencingGoto(1, 1)\n",
    "        \n",
    "        return seq"
   ]
  },
  {
   "cell_type": "markdown",
   "metadata": {},
   "source": [
    "### Alazar Detector"
   ]
  },
  {
   "cell_type": "code",
   "execution_count": 10,
   "metadata": {
    "collapsed": true
   },
   "outputs": [],
   "source": [
    "class AlazarBaseDetector(HardSweepDetector):\n",
    "    \n",
    "    def __init__(self, name, acqctl, sweep_params=['buffers', 'records'], **kwargs):\n",
    "        self.acqctl = acqctl        \n",
    "        self._time = None\n",
    "        self._signal_real = None\n",
    "        self._signal_imag = None\n",
    "        self._signal_abs = None\n",
    "\n",
    "        inner_dims = []\n",
    "        for d in self.acqctl.data_dims():\n",
    "            if d not in sweep_params:\n",
    "                inner_dims.append(d)\n",
    "        \n",
    "        super().__init__(name, inner_dims=inner_dims, **kwargs)\n",
    "        \n",
    "        self.add_parameter('acquisition', get_cmd=self.do_acquisition, unit='V', snapshot_value=False)\n",
    "        self.add_parameter('signal_real', get_cmd=lambda: self._signal_real, unit='V', snapshot_value=False)\n",
    "        self.add_parameter('signal_imag', get_cmd=lambda: self._signal_imag, unit='V', snapshot_value=False)\n",
    "        self.add_parameter('signal_abs', get_cmd=lambda: self._signal_abs, unit='V', snapshot_value=False)\n",
    "        self.data_params = [self.signal_real, self.signal_imag, self.signal_abs]\n",
    "        \n",
    "        if 'samples' in self.inner_dims or 'IF_periods' in self.inner_dims:\n",
    "            self.add_parameter('time', unit='s', snapshot_value=False, \n",
    "                               get_cmd=lambda: self._time)\n",
    "\n",
    "    def setup(self):\n",
    "        ### TODO:\n",
    "        # We should have an option that it's possible to not specify all dimensions,\n",
    "        # and basically set the shape to (-1, xxx), i.e., set the first one automatic.\n",
    "        # that might then be an implicit averaging dimension, for example.\n",
    "        # then sweepers can be used for both avering over buffers, or single-shot        \n",
    "        for d in self.inner_dims:\n",
    "            idx = self.acqctl.data_dims().index(d)\n",
    "            try:\n",
    "                npts = self.acqctl.data_shape()[idx]\n",
    "            except:\n",
    "                npts = 1\n",
    "            self.set(d, np.arange(npts))\n",
    "            \n",
    "        super().setup()\n",
    "    \n",
    "    \n",
    "    def do_acquisition(self):\n",
    "        data = self.acqctl.acquisition()\n",
    "        self.setup()\n",
    "        \n",
    "        if 'samples' in self.inner_dims:\n",
    "            self._time = self.acqctl.tvals\n",
    "        elif 'IF_periods' in self.inner_dims:\n",
    "            self._time = self.acqctl.demod_tvals\n",
    "            \n",
    "        self._signal_real = np.real(data)\n",
    "        self._signal_imag = np.imag(data)\n",
    "        self._signal_abs = np.abs(data)\n",
    "        \n",
    "        return data\n",
    "\n",
    "    \n",
    "class AlazarDetector(AlazarBaseDetector):\n",
    "    \n",
    "    def __init__(self, name, acqctl, **kwargs):\n",
    "        kwargs['sweep_params'] = ['buffers', 'records']\n",
    "        \n",
    "        super().__init__(name, acqctl, **kwargs)\n",
    "        \n",
    "        self.add_parameter('avg_buffers', set_cmd=None, initial_value=True)\n",
    "        self.add_parameter('acq_time', \n",
    "                           get_cmd=lambda: self.acqctl.acq_time(), \n",
    "                           set_cmd=lambda x: self.acqctl.acq_time(x))\n",
    "        \n",
    "        if hasattr(self.acqctl, 'demod_frq'):\n",
    "            self.add_parameter('demod_frq', \n",
    "                               get_cmd=lambda: self.acqctl.demod_frq(), \n",
    "                               set_cmd=lambda x: self.acqctl.demod_frq(x))\n",
    "        \n",
    "    def configure_alazar(self, **kwargs):\n",
    "        defaults = dict(\n",
    "            buffer_timeout = 10000,\n",
    "            allocated_buffers = 1,\n",
    "        )\n",
    "        defaults.update(kwargs)\n",
    "        self.acqctl.update_acquisitionkwargs(**defaults)\n",
    "        \n",
    "    def do_acquisition(self):\n",
    "        data = super().do_acquisition()\n",
    "        \n",
    "        if self.avg_buffers():\n",
    "            bidx = self.acqctl.data_dims().index('buffers')\n",
    "            data = data.mean(axis=bidx)\n",
    "            \n",
    "            self._signal_real = np.real(data)\n",
    "            self._signal_imag = np.imag(data)\n",
    "            self._signal_abs = np.abs(data)\n",
    "            \n",
    "        return data"
   ]
  },
  {
   "cell_type": "markdown",
   "metadata": {},
   "source": [
    "### Heterodyne source"
   ]
  },
  {
   "cell_type": "code",
   "execution_count": 11,
   "metadata": {
    "collapsed": true
   },
   "outputs": [],
   "source": [
    "class HeterodyneSource(Instrument):\n",
    "    \n",
    "    def __init__(self, name, RF, LO, *arg, **kw):\n",
    "        super().__init__(name, *arg, **kw)\n",
    "        \n",
    "        self.RF = RF\n",
    "        self.LO = LO\n",
    "        \n",
    "        self.add_parameter('IF', set_cmd=None, initial_value=20e6)\n",
    "        self.add_parameter('frequency', unit='Hz',\n",
    "                           get_cmd=self.RF.frequency, \n",
    "                           set_cmd=self._set_freq)\n",
    "        \n",
    "        self.frequency(self.frequency())\n",
    "    \n",
    "    def _set_freq(self, frq):\n",
    "        self.RF.frequency(frq)\n",
    "        self.LO.frequency(frq-self.IF())\n",
    "        "
   ]
  },
  {
   "cell_type": "markdown",
   "metadata": {},
   "source": [
    "## load instruments"
   ]
  },
  {
   "cell_type": "code",
   "execution_count": 12,
   "metadata": {
    "collapsed": true
   },
   "outputs": [],
   "source": [
    "# %run init_cQED.py"
   ]
  },
  {
   "cell_type": "code",
   "execution_count": 13,
   "metadata": {},
   "outputs": [
    {
     "name": "stdout",
     "output_type": "stream",
     "text": [
      "Connected to: TEKTRONIX AWG5014C (serial:B051389, firmware:SCPI:99.0 FW:4.6.0.7) in 0.68s\n",
      "Connected to: Rohde&Schwarz SGS100A (serial:1416.0505k02/110509, firmware:3.1.19.15-3.50.124.67) in 0.03s\n",
      "Connected to: Rohde&Schwarz SGS100A (serial:1416.0505k02/110510, firmware:3.1.19.15-3.50.124.67) in 0.03s\n",
      "Connected to: Rohde&Schwarz SGS100A (serial:1416.0505k02/110531, firmware:3.1.19.15-3.50.124.67) in 0.03s\n"
     ]
    }
   ],
   "source": [
    "### Init instruments\n",
    "from pytopo.rf import alazar_acquisition; reload(alazar_acquisition)\n",
    "from pytopo.rf.alazar_acquisition import RawAcqCtl, AvgBufCtl, AvgDemodCtl, AvgIQCtl, DemodAcqCtl, IQAcqCtl\n",
    "# , DemodRelAcqCtl, IQRelAcqCtl, IQAcqCtl\n",
    "\n",
    "inst_list = []\n",
    "\n",
    "from qcodes.instrument_drivers.AlazarTech.ATS9360 import AlazarTech_ATS9360\n",
    "alazar = instools.create_inst(AlazarTech_ATS9360, 'alazar')\n",
    "inst_list.append(alazar)\n",
    "\n",
    "raw_acq = instools.create_inst(RawAcqCtl, 'raw_acq', 'alazar', force_new_instance=True)\n",
    "inst_list.append(raw_acq)\n",
    "\n",
    "avg_acq = instools.create_inst(AvgBufCtl, 'avg_acq', 'alazar', force_new_instance=True)\n",
    "inst_list.append(avg_acq)\n",
    "\n",
    "avgdemod_acq = instools.create_inst(AvgDemodCtl, 'avgdemod_acq', 'alazar', force_new_instance=True)\n",
    "inst_list.append(avgdemod_acq)\n",
    "\n",
    "avgiq_acq = instools.create_inst(AvgIQCtl, 'avgiq_acq', 'alazar', force_new_instance=True)\n",
    "inst_list.append(avgiq_acq)\n",
    "\n",
    "demod_acq = instools.create_inst(DemodAcqCtl, 'demod_acq', 'alazar', force_new_instance=True)\n",
    "inst_list.append(demod_acq)\n",
    "\n",
    "# demodrel_acq = instools.create_inst(DemodRelAcqCtl, 'rel_acq', 'alazar', force_new_instance=True)\n",
    "# inst_list.append(demodrel_acq)\n",
    "\n",
    "# iqrel_acq = instools.create_inst(IQRelAcqCtl, 'iqrel_acq', 'alazar', force_new_instance=True)\n",
    "# inst_list.append(iqrel_acq)\n",
    "\n",
    "iq_acq = instools.create_inst(IQAcqCtl, 'iq_acq', 'alazar', force_new_instance=True)\n",
    "inst_list.append(iq_acq)\n",
    "\n",
    "from qcodes.instrument_drivers.tektronix.AWG5014 import Tektronix_AWG5014\n",
    "awg5014 = instools.create_inst(Tektronix_AWG5014, 'awg5014', address=\"TCPIP0::169.254.220.147::inst0::INSTR\")\n",
    "inst_list.append(awg5014)\n",
    "\n",
    "from qcodes.instrument_drivers.rohde_schwarz.SGS100A import RohdeSchwarz_SGS100A\n",
    "LO = instools.create_inst(RohdeSchwarz_SGS100A, 'LO', address=\"TCPIP0::169.254.2.20\")\n",
    "inst_list.append(LO)\n",
    "\n",
    "RF = instools.create_inst(RohdeSchwarz_SGS100A, 'RF', address=\"TCPIP0::169.254.231.38\")\n",
    "inst_list.append(RF)\n",
    "\n",
    "qubit_gen = instools.create_inst(RohdeSchwarz_SGS100A, 'qubit_gen', address=\"TCPIP0::169.254.167.18\")\n",
    "inst_list.append(qubit_gen)\n",
    "\n",
    "het_src = instools.create_inst(HeterodyneSource, 'het_src', LO=LO, RF=RF)\n",
    "inst_list.append(het_src)\n",
    "\n",
    "# from qcodes.instrument_drivers.yokogawa.GS200 import GS200\n",
    "# yoko = instools.create_inst(GS200, 'yoko', address=\"TCPIP0::169.254.1.9::inst0::INSTR\")\n",
    "# inst_list.append(yoko)\n"
   ]
  },
  {
   "cell_type": "code",
   "execution_count": 14,
   "metadata": {},
   "outputs": [
    {
     "name": "stdout",
     "output_type": "stream",
     "text": [
      "Connected to: Mini-Circuits MN=RUDAT-13G-90 (serial:SN=11704210052, firmware:C9-2) in 0.61s\n"
     ]
    }
   ],
   "source": [
    "from qcodes.instrument_drivers.Minicircuits.RUDAT_13G_90 import RUDAT_13G_90_USB\n",
    "ro_attenuator = instools.create_inst(RUDAT_13G_90_USB, 'ro_attenuator')\n",
    "inst_list.append(ro_attenuator)"
   ]
  },
  {
   "cell_type": "code",
   "execution_count": 15,
   "metadata": {},
   "outputs": [
    {
     "name": "stderr",
     "output_type": "stream",
     "text": [
      "Snapshot: Could not update parameter:clock_source\n",
      "Snapshot: Could not update parameter:external_sample_rate\n",
      "Snapshot: Could not update parameter:sample_rate\n",
      "Snapshot: Could not update parameter:clock_edge\n",
      "Snapshot: Could not update parameter:decimation\n",
      "Snapshot: Could not update parameter:coupling1\n",
      "Snapshot: Could not update parameter:channel_range1\n",
      "Snapshot: Could not update parameter:impedance1\n",
      "Snapshot: Could not update parameter:coupling2\n",
      "Snapshot: Could not update parameter:channel_range2\n",
      "Snapshot: Could not update parameter:impedance2\n",
      "Snapshot: Could not update parameter:trigger_operation\n",
      "Snapshot: Could not update parameter:trigger_engine1\n",
      "Snapshot: Could not update parameter:trigger_source1\n",
      "Snapshot: Could not update parameter:trigger_slope1\n",
      "Snapshot: Could not update parameter:trigger_level1\n",
      "Snapshot: Could not update parameter:trigger_engine2\n",
      "Snapshot: Could not update parameter:trigger_source2\n",
      "Snapshot: Could not update parameter:trigger_slope2\n",
      "Snapshot: Could not update parameter:trigger_level2\n",
      "Snapshot: Could not update parameter:external_trigger_coupling\n",
      "Snapshot: Could not update parameter:external_trigger_range\n",
      "Snapshot: Could not update parameter:trigger_delay\n",
      "Snapshot: Could not update parameter:timeout_ticks\n",
      "Snapshot: Could not update parameter:aux_io_mode\n",
      "Snapshot: Could not update parameter:aux_io_param\n",
      "Snapshot: Could not update parameter:mode\n",
      "Snapshot: Could not update parameter:samples_per_record\n",
      "Snapshot: Could not update parameter:records_per_buffer\n",
      "Snapshot: Could not update parameter:buffers_per_acquisition\n",
      "Snapshot: Could not update parameter:channel_selection\n",
      "Snapshot: Could not update parameter:transfer_offset\n",
      "Snapshot: Could not update parameter:external_startcapture\n",
      "Snapshot: Could not update parameter:enable_record_headers\n",
      "Snapshot: Could not update parameter:alloc_buffers\n",
      "Snapshot: Could not update parameter:fifo_only_streaming\n",
      "Snapshot: Could not update parameter:interleave_samples\n",
      "Snapshot: Could not update parameter:get_processed_data\n",
      "Snapshot: Could not update parameter:allocated_buffers\n",
      "Snapshot: Could not update parameter:buffer_timeout\n",
      "Snapshot: Could not update parameter:sample_rate\n",
      "Snapshot: Could not update parameter:samples_per_record\n",
      "Snapshot: Could not update parameter:records_per_buffer\n",
      "Snapshot: Could not update parameter:buffers_per_acquisition\n",
      "Snapshot: Could not update parameter:sample_rate\n",
      "Snapshot: Could not update parameter:samples_per_record\n",
      "Snapshot: Could not update parameter:records_per_buffer\n",
      "Snapshot: Could not update parameter:buffers_per_acquisition\n",
      "Snapshot: Could not update parameter:sample_rate\n",
      "Snapshot: Could not update parameter:samples_per_record\n",
      "Snapshot: Could not update parameter:records_per_buffer\n",
      "Snapshot: Could not update parameter:buffers_per_acquisition\n",
      "Snapshot: Could not update parameter:sample_rate\n",
      "Snapshot: Could not update parameter:samples_per_record\n",
      "Snapshot: Could not update parameter:records_per_buffer\n",
      "Snapshot: Could not update parameter:buffers_per_acquisition\n",
      "Snapshot: Could not update parameter:sample_rate\n",
      "Snapshot: Could not update parameter:samples_per_record\n",
      "Snapshot: Could not update parameter:records_per_buffer\n",
      "Snapshot: Could not update parameter:buffers_per_acquisition\n",
      "Snapshot: Could not update parameter:sample_rate\n",
      "Snapshot: Could not update parameter:samples_per_record\n",
      "Snapshot: Could not update parameter:records_per_buffer\n",
      "Snapshot: Could not update parameter:buffers_per_acquisition\n"
     ]
    }
   ],
   "source": [
    "station = qc.Station(*inst_list)"
   ]
  },
  {
   "cell_type": "markdown",
   "metadata": {},
   "source": [
    "## Global settings"
   ]
  },
  {
   "cell_type": "code",
   "execution_count": 16,
   "metadata": {
    "collapsed": true
   },
   "outputs": [],
   "source": [
    "SAMPLE = 'ref_transmon_CD20180510'\n",
    "AWG_CHANS = {\n",
    "        1 : ['ro', 'alz_mrkr', 'ro_mrkr'],\n",
    "        2 : ['q', 'q_mrkr', None],\n",
    "    }\n",
    "\n",
    "IF = 20e6\n",
    "\n",
    "het_src.IF(IF)\n",
    "het_src.frequency(het_src.frequency())\n",
    "\n",
    "LO.power(13)\n",
    "RF.power(10)"
   ]
  },
  {
   "cell_type": "markdown",
   "metadata": {},
   "source": [
    "## Meta instruments for sweeping"
   ]
  },
  {
   "cell_type": "code",
   "execution_count": 17,
   "metadata": {},
   "outputs": [],
   "source": [
    "# create the meta-instrument for the sequence, add to the qcodes station.\n",
    "awg_spec_sweep = create_inst(SimpleAWGSpec, 'awg_spec_sweep', awg=awg5014, chan_map=AWG_CHANS, force_new_instance=True)\n",
    "station = add2station(station, awg_spec_sweep)\n",
    "\n",
    "# meta-instrument for the detector (i.e., alazar acquisition)\n",
    "# iqrel_detector = create_inst(AlazarDetector, name='iqrel_detector', acqctl=iqrel_acq, force_new_instance=True)\n",
    "# station = add2station(station, iqrel_detector)\n",
    "\n",
    "# demodrel_detector = create_inst(AlazarDetector, name='demodrel_detector', acqctl=demodrel_acq, force_new_instance=True)\n",
    "# station = add2station(station, demodrel_detector)\n",
    "\n",
    "avg_detector = create_inst(AlazarDetector, name='avg_detector', \n",
    "                           acqctl=avg_acq, force_new_instance=True)\n",
    "station = add2station(station, avg_detector)\n",
    "\n",
    "avgdemod_detector = create_inst(AlazarDetector, name='avgdemod_detector', \n",
    "                                acqctl=avgdemod_acq, force_new_instance=True)\n",
    "station = add2station(station, avgdemod_detector)\n",
    "\n",
    "avgiq_detector = create_inst(AlazarDetector, name='avgiq_detector', \n",
    "                             acqctl=avgiq_acq, force_new_instance=True)\n",
    "station = add2station(station, avgiq_detector)\n",
    "\n",
    "iq_detector = create_inst(AlazarDetector, name='iq_detector', acqctl=iq_acq, force_new_instance=True)\n",
    "station = add2station(station, iq_detector)"
   ]
  },
  {
   "cell_type": "markdown",
   "metadata": {},
   "source": [
    "## Default acquisition settings"
   ]
  },
  {
   "cell_type": "code",
   "execution_count": 18,
   "metadata": {},
   "outputs": [],
   "source": [
    "### Configure ATS settings\n",
    "\n",
    "ats_settings = dict(\n",
    "    clock_source='INTERNAL_CLOCK',\n",
    "    sample_rate=int(2e8),\n",
    "    clock_edge='CLOCK_EDGE_RISING',\n",
    "    decimation=1,\n",
    "    coupling=['DC','DC'],\n",
    "    channel_range=[.4, .4],\n",
    "    impedance=[50, 50],\n",
    "    trigger_operation='TRIG_ENGINE_OP_J',\n",
    "    trigger_engine1='TRIG_ENGINE_J',\n",
    "    trigger_source1='EXTERNAL',\n",
    "    trigger_slope1='TRIG_SLOPE_POSITIVE',\n",
    "    trigger_level1=128+20,\n",
    "    trigger_engine2='TRIG_ENGINE_K',\n",
    "    trigger_source2='DISABLE',\n",
    "    trigger_slope2='TRIG_SLOPE_POSITIVE',\n",
    "    trigger_level2=128+5,\n",
    "    external_trigger_coupling='DC',\n",
    "    external_trigger_range='ETR_2V5',\n",
    "    trigger_delay=0,\n",
    "    timeout_ticks=int(1e7),\n",
    "    aux_io_mode='AUX_IN_AUXILIARY',\n",
    "    aux_io_param='NONE',\n",
    ")\n",
    "\n",
    "station.alazar.config(**ats_settings)\n",
    "\n",
    "\n",
    "### Trigger the acquisition controllers\n",
    "\n",
    "def trigger_func(do_start):\n",
    "    if do_start:\n",
    "        station.awg5014.start()\n",
    "    else:\n",
    "        station.awg5014.stop()\n",
    "\n",
    "for ctl in [iq_acq, avgdemod_acq, avgiq_acq]:\n",
    "    ctl.trigger_func = trigger_func\n",
    "    ctl.demod_frq(IF)\n",
    "    \n",
    "for det in [iq_detector, avgdemod_detector, avgiq_detector]:\n",
    "    det.demod_frq(IF)"
   ]
  },
  {
   "cell_type": "markdown",
   "metadata": {},
   "source": [
    "# Signal testing"
   ]
  },
  {
   "cell_type": "markdown",
   "metadata": {},
   "source": [
    "## Transmission (time-signal)"
   ]
  },
  {
   "cell_type": "code",
   "execution_count": 19,
   "metadata": {
    "collapsed": true
   },
   "outputs": [],
   "source": [
    "awg_spec_sweep.sample_rate(1e9)\n",
    "# sequence length (in s). Up to buffers at the edges this is the integration time per AWG sweep.\n",
    "awg_spec_sweep.seq_len(10e-6)\n",
    "# and setup the sequence (will program the awg)\n",
    "awg_spec_sweep.setup()"
   ]
  },
  {
   "cell_type": "code",
   "execution_count": 20,
   "metadata": {},
   "outputs": [
    {
     "name": "stdout",
     "output_type": "stream",
     "text": [
      "['awg_sweep_idx', 'IF_periods', 'channels'] (1, 1, 1)\n"
     ]
    }
   ],
   "source": [
    "### Set up the detector\n",
    "\n",
    "# set the sweeper\n",
    "det = avgdemod_detector\n",
    "det.avg_buffers(False)\n",
    "\n",
    "det.set_sweeper(awg_spec_sweep)\n",
    "# acquisition time\n",
    "det.acq_time(awg_spec_sweep.seq_len() - 1e-6)\n",
    "# demod frequency\n",
    "det.demod_frq(IF)\n",
    "# HW config, and how data is shaped.\n",
    "det.configure_alazar(\n",
    "    records_per_buffer=1,\n",
    "    buffers_per_acquisition=100,\n",
    ")\n",
    "det.setup()\n",
    "\n",
    "print(det.sweep_dims, det.sweep_shape)"
   ]
  },
  {
   "cell_type": "code",
   "execution_count": 23,
   "metadata": {},
   "outputs": [
    {
     "data": {
      "text/plain": [
       "((1, 192, 2), (1, 192, 2))"
      ]
     },
     "execution_count": 23,
     "metadata": {},
     "output_type": "execute_result"
    }
   ],
   "source": [
    "ro_attenuator.attenuation(0)\n",
    "data = det.acquisition()\n",
    "data.shape, det.sweep_shape"
   ]
  },
  {
   "cell_type": "code",
   "execution_count": 24,
   "metadata": {},
   "outputs": [
    {
     "data": {
      "application/javascript": [
       "/* Put everything inside the global mpl namespace */\n",
       "window.mpl = {};\n",
       "\n",
       "\n",
       "mpl.get_websocket_type = function() {\n",
       "    if (typeof(WebSocket) !== 'undefined') {\n",
       "        return WebSocket;\n",
       "    } else if (typeof(MozWebSocket) !== 'undefined') {\n",
       "        return MozWebSocket;\n",
       "    } else {\n",
       "        alert('Your browser does not have WebSocket support.' +\n",
       "              'Please try Chrome, Safari or Firefox ≥ 6. ' +\n",
       "              'Firefox 4 and 5 are also supported but you ' +\n",
       "              'have to enable WebSockets in about:config.');\n",
       "    };\n",
       "}\n",
       "\n",
       "mpl.figure = function(figure_id, websocket, ondownload, parent_element) {\n",
       "    this.id = figure_id;\n",
       "\n",
       "    this.ws = websocket;\n",
       "\n",
       "    this.supports_binary = (this.ws.binaryType != undefined);\n",
       "\n",
       "    if (!this.supports_binary) {\n",
       "        var warnings = document.getElementById(\"mpl-warnings\");\n",
       "        if (warnings) {\n",
       "            warnings.style.display = 'block';\n",
       "            warnings.textContent = (\n",
       "                \"This browser does not support binary websocket messages. \" +\n",
       "                    \"Performance may be slow.\");\n",
       "        }\n",
       "    }\n",
       "\n",
       "    this.imageObj = new Image();\n",
       "\n",
       "    this.context = undefined;\n",
       "    this.message = undefined;\n",
       "    this.canvas = undefined;\n",
       "    this.rubberband_canvas = undefined;\n",
       "    this.rubberband_context = undefined;\n",
       "    this.format_dropdown = undefined;\n",
       "\n",
       "    this.image_mode = 'full';\n",
       "\n",
       "    this.root = $('<div/>');\n",
       "    this._root_extra_style(this.root)\n",
       "    this.root.attr('style', 'display: inline-block');\n",
       "\n",
       "    $(parent_element).append(this.root);\n",
       "\n",
       "    this._init_header(this);\n",
       "    this._init_canvas(this);\n",
       "    this._init_toolbar(this);\n",
       "\n",
       "    var fig = this;\n",
       "\n",
       "    this.waiting = false;\n",
       "\n",
       "    this.ws.onopen =  function () {\n",
       "            fig.send_message(\"supports_binary\", {value: fig.supports_binary});\n",
       "            fig.send_message(\"send_image_mode\", {});\n",
       "            if (mpl.ratio != 1) {\n",
       "                fig.send_message(\"set_dpi_ratio\", {'dpi_ratio': mpl.ratio});\n",
       "            }\n",
       "            fig.send_message(\"refresh\", {});\n",
       "        }\n",
       "\n",
       "    this.imageObj.onload = function() {\n",
       "            if (fig.image_mode == 'full') {\n",
       "                // Full images could contain transparency (where diff images\n",
       "                // almost always do), so we need to clear the canvas so that\n",
       "                // there is no ghosting.\n",
       "                fig.context.clearRect(0, 0, fig.canvas.width, fig.canvas.height);\n",
       "            }\n",
       "            fig.context.drawImage(fig.imageObj, 0, 0);\n",
       "        };\n",
       "\n",
       "    this.imageObj.onunload = function() {\n",
       "        fig.ws.close();\n",
       "    }\n",
       "\n",
       "    this.ws.onmessage = this._make_on_message_function(this);\n",
       "\n",
       "    this.ondownload = ondownload;\n",
       "}\n",
       "\n",
       "mpl.figure.prototype._init_header = function() {\n",
       "    var titlebar = $(\n",
       "        '<div class=\"ui-dialog-titlebar ui-widget-header ui-corner-all ' +\n",
       "        'ui-helper-clearfix\"/>');\n",
       "    var titletext = $(\n",
       "        '<div class=\"ui-dialog-title\" style=\"width: 100%; ' +\n",
       "        'text-align: center; padding: 3px;\"/>');\n",
       "    titlebar.append(titletext)\n",
       "    this.root.append(titlebar);\n",
       "    this.header = titletext[0];\n",
       "}\n",
       "\n",
       "\n",
       "\n",
       "mpl.figure.prototype._canvas_extra_style = function(canvas_div) {\n",
       "\n",
       "}\n",
       "\n",
       "\n",
       "mpl.figure.prototype._root_extra_style = function(canvas_div) {\n",
       "\n",
       "}\n",
       "\n",
       "mpl.figure.prototype._init_canvas = function() {\n",
       "    var fig = this;\n",
       "\n",
       "    var canvas_div = $('<div/>');\n",
       "\n",
       "    canvas_div.attr('style', 'position: relative; clear: both; outline: 0');\n",
       "\n",
       "    function canvas_keyboard_event(event) {\n",
       "        return fig.key_event(event, event['data']);\n",
       "    }\n",
       "\n",
       "    canvas_div.keydown('key_press', canvas_keyboard_event);\n",
       "    canvas_div.keyup('key_release', canvas_keyboard_event);\n",
       "    this.canvas_div = canvas_div\n",
       "    this._canvas_extra_style(canvas_div)\n",
       "    this.root.append(canvas_div);\n",
       "\n",
       "    var canvas = $('<canvas/>');\n",
       "    canvas.addClass('mpl-canvas');\n",
       "    canvas.attr('style', \"left: 0; top: 0; z-index: 0; outline: 0\")\n",
       "\n",
       "    this.canvas = canvas[0];\n",
       "    this.context = canvas[0].getContext(\"2d\");\n",
       "\n",
       "    var backingStore = this.context.backingStorePixelRatio ||\n",
       "\tthis.context.webkitBackingStorePixelRatio ||\n",
       "\tthis.context.mozBackingStorePixelRatio ||\n",
       "\tthis.context.msBackingStorePixelRatio ||\n",
       "\tthis.context.oBackingStorePixelRatio ||\n",
       "\tthis.context.backingStorePixelRatio || 1;\n",
       "\n",
       "    mpl.ratio = (window.devicePixelRatio || 1) / backingStore;\n",
       "\n",
       "    var rubberband = $('<canvas/>');\n",
       "    rubberband.attr('style', \"position: absolute; left: 0; top: 0; z-index: 1;\")\n",
       "\n",
       "    var pass_mouse_events = true;\n",
       "\n",
       "    canvas_div.resizable({\n",
       "        start: function(event, ui) {\n",
       "            pass_mouse_events = false;\n",
       "        },\n",
       "        resize: function(event, ui) {\n",
       "            fig.request_resize(ui.size.width, ui.size.height);\n",
       "        },\n",
       "        stop: function(event, ui) {\n",
       "            pass_mouse_events = true;\n",
       "            fig.request_resize(ui.size.width, ui.size.height);\n",
       "        },\n",
       "    });\n",
       "\n",
       "    function mouse_event_fn(event) {\n",
       "        if (pass_mouse_events)\n",
       "            return fig.mouse_event(event, event['data']);\n",
       "    }\n",
       "\n",
       "    rubberband.mousedown('button_press', mouse_event_fn);\n",
       "    rubberband.mouseup('button_release', mouse_event_fn);\n",
       "    // Throttle sequential mouse events to 1 every 20ms.\n",
       "    rubberband.mousemove('motion_notify', mouse_event_fn);\n",
       "\n",
       "    rubberband.mouseenter('figure_enter', mouse_event_fn);\n",
       "    rubberband.mouseleave('figure_leave', mouse_event_fn);\n",
       "\n",
       "    canvas_div.on(\"wheel\", function (event) {\n",
       "        event = event.originalEvent;\n",
       "        event['data'] = 'scroll'\n",
       "        if (event.deltaY < 0) {\n",
       "            event.step = 1;\n",
       "        } else {\n",
       "            event.step = -1;\n",
       "        }\n",
       "        mouse_event_fn(event);\n",
       "    });\n",
       "\n",
       "    canvas_div.append(canvas);\n",
       "    canvas_div.append(rubberband);\n",
       "\n",
       "    this.rubberband = rubberband;\n",
       "    this.rubberband_canvas = rubberband[0];\n",
       "    this.rubberband_context = rubberband[0].getContext(\"2d\");\n",
       "    this.rubberband_context.strokeStyle = \"#000000\";\n",
       "\n",
       "    this._resize_canvas = function(width, height) {\n",
       "        // Keep the size of the canvas, canvas container, and rubber band\n",
       "        // canvas in synch.\n",
       "        canvas_div.css('width', width)\n",
       "        canvas_div.css('height', height)\n",
       "\n",
       "        canvas.attr('width', width * mpl.ratio);\n",
       "        canvas.attr('height', height * mpl.ratio);\n",
       "        canvas.attr('style', 'width: ' + width + 'px; height: ' + height + 'px;');\n",
       "\n",
       "        rubberband.attr('width', width);\n",
       "        rubberband.attr('height', height);\n",
       "    }\n",
       "\n",
       "    // Set the figure to an initial 600x600px, this will subsequently be updated\n",
       "    // upon first draw.\n",
       "    this._resize_canvas(600, 600);\n",
       "\n",
       "    // Disable right mouse context menu.\n",
       "    $(this.rubberband_canvas).bind(\"contextmenu\",function(e){\n",
       "        return false;\n",
       "    });\n",
       "\n",
       "    function set_focus () {\n",
       "        canvas.focus();\n",
       "        canvas_div.focus();\n",
       "    }\n",
       "\n",
       "    window.setTimeout(set_focus, 100);\n",
       "}\n",
       "\n",
       "mpl.figure.prototype._init_toolbar = function() {\n",
       "    var fig = this;\n",
       "\n",
       "    var nav_element = $('<div/>')\n",
       "    nav_element.attr('style', 'width: 100%');\n",
       "    this.root.append(nav_element);\n",
       "\n",
       "    // Define a callback function for later on.\n",
       "    function toolbar_event(event) {\n",
       "        return fig.toolbar_button_onclick(event['data']);\n",
       "    }\n",
       "    function toolbar_mouse_event(event) {\n",
       "        return fig.toolbar_button_onmouseover(event['data']);\n",
       "    }\n",
       "\n",
       "    for(var toolbar_ind in mpl.toolbar_items) {\n",
       "        var name = mpl.toolbar_items[toolbar_ind][0];\n",
       "        var tooltip = mpl.toolbar_items[toolbar_ind][1];\n",
       "        var image = mpl.toolbar_items[toolbar_ind][2];\n",
       "        var method_name = mpl.toolbar_items[toolbar_ind][3];\n",
       "\n",
       "        if (!name) {\n",
       "            // put a spacer in here.\n",
       "            continue;\n",
       "        }\n",
       "        var button = $('<button/>');\n",
       "        button.addClass('ui-button ui-widget ui-state-default ui-corner-all ' +\n",
       "                        'ui-button-icon-only');\n",
       "        button.attr('role', 'button');\n",
       "        button.attr('aria-disabled', 'false');\n",
       "        button.click(method_name, toolbar_event);\n",
       "        button.mouseover(tooltip, toolbar_mouse_event);\n",
       "\n",
       "        var icon_img = $('<span/>');\n",
       "        icon_img.addClass('ui-button-icon-primary ui-icon');\n",
       "        icon_img.addClass(image);\n",
       "        icon_img.addClass('ui-corner-all');\n",
       "\n",
       "        var tooltip_span = $('<span/>');\n",
       "        tooltip_span.addClass('ui-button-text');\n",
       "        tooltip_span.html(tooltip);\n",
       "\n",
       "        button.append(icon_img);\n",
       "        button.append(tooltip_span);\n",
       "\n",
       "        nav_element.append(button);\n",
       "    }\n",
       "\n",
       "    var fmt_picker_span = $('<span/>');\n",
       "\n",
       "    var fmt_picker = $('<select/>');\n",
       "    fmt_picker.addClass('mpl-toolbar-option ui-widget ui-widget-content');\n",
       "    fmt_picker_span.append(fmt_picker);\n",
       "    nav_element.append(fmt_picker_span);\n",
       "    this.format_dropdown = fmt_picker[0];\n",
       "\n",
       "    for (var ind in mpl.extensions) {\n",
       "        var fmt = mpl.extensions[ind];\n",
       "        var option = $(\n",
       "            '<option/>', {selected: fmt === mpl.default_extension}).html(fmt);\n",
       "        fmt_picker.append(option)\n",
       "    }\n",
       "\n",
       "    // Add hover states to the ui-buttons\n",
       "    $( \".ui-button\" ).hover(\n",
       "        function() { $(this).addClass(\"ui-state-hover\");},\n",
       "        function() { $(this).removeClass(\"ui-state-hover\");}\n",
       "    );\n",
       "\n",
       "    var status_bar = $('<span class=\"mpl-message\"/>');\n",
       "    nav_element.append(status_bar);\n",
       "    this.message = status_bar[0];\n",
       "}\n",
       "\n",
       "mpl.figure.prototype.request_resize = function(x_pixels, y_pixels) {\n",
       "    // Request matplotlib to resize the figure. Matplotlib will then trigger a resize in the client,\n",
       "    // which will in turn request a refresh of the image.\n",
       "    this.send_message('resize', {'width': x_pixels, 'height': y_pixels});\n",
       "}\n",
       "\n",
       "mpl.figure.prototype.send_message = function(type, properties) {\n",
       "    properties['type'] = type;\n",
       "    properties['figure_id'] = this.id;\n",
       "    this.ws.send(JSON.stringify(properties));\n",
       "}\n",
       "\n",
       "mpl.figure.prototype.send_draw_message = function() {\n",
       "    if (!this.waiting) {\n",
       "        this.waiting = true;\n",
       "        this.ws.send(JSON.stringify({type: \"draw\", figure_id: this.id}));\n",
       "    }\n",
       "}\n",
       "\n",
       "\n",
       "mpl.figure.prototype.handle_save = function(fig, msg) {\n",
       "    var format_dropdown = fig.format_dropdown;\n",
       "    var format = format_dropdown.options[format_dropdown.selectedIndex].value;\n",
       "    fig.ondownload(fig, format);\n",
       "}\n",
       "\n",
       "\n",
       "mpl.figure.prototype.handle_resize = function(fig, msg) {\n",
       "    var size = msg['size'];\n",
       "    if (size[0] != fig.canvas.width || size[1] != fig.canvas.height) {\n",
       "        fig._resize_canvas(size[0], size[1]);\n",
       "        fig.send_message(\"refresh\", {});\n",
       "    };\n",
       "}\n",
       "\n",
       "mpl.figure.prototype.handle_rubberband = function(fig, msg) {\n",
       "    var x0 = msg['x0'] / mpl.ratio;\n",
       "    var y0 = (fig.canvas.height - msg['y0']) / mpl.ratio;\n",
       "    var x1 = msg['x1'] / mpl.ratio;\n",
       "    var y1 = (fig.canvas.height - msg['y1']) / mpl.ratio;\n",
       "    x0 = Math.floor(x0) + 0.5;\n",
       "    y0 = Math.floor(y0) + 0.5;\n",
       "    x1 = Math.floor(x1) + 0.5;\n",
       "    y1 = Math.floor(y1) + 0.5;\n",
       "    var min_x = Math.min(x0, x1);\n",
       "    var min_y = Math.min(y0, y1);\n",
       "    var width = Math.abs(x1 - x0);\n",
       "    var height = Math.abs(y1 - y0);\n",
       "\n",
       "    fig.rubberband_context.clearRect(\n",
       "        0, 0, fig.canvas.width, fig.canvas.height);\n",
       "\n",
       "    fig.rubberband_context.strokeRect(min_x, min_y, width, height);\n",
       "}\n",
       "\n",
       "mpl.figure.prototype.handle_figure_label = function(fig, msg) {\n",
       "    // Updates the figure title.\n",
       "    fig.header.textContent = msg['label'];\n",
       "}\n",
       "\n",
       "mpl.figure.prototype.handle_cursor = function(fig, msg) {\n",
       "    var cursor = msg['cursor'];\n",
       "    switch(cursor)\n",
       "    {\n",
       "    case 0:\n",
       "        cursor = 'pointer';\n",
       "        break;\n",
       "    case 1:\n",
       "        cursor = 'default';\n",
       "        break;\n",
       "    case 2:\n",
       "        cursor = 'crosshair';\n",
       "        break;\n",
       "    case 3:\n",
       "        cursor = 'move';\n",
       "        break;\n",
       "    }\n",
       "    fig.rubberband_canvas.style.cursor = cursor;\n",
       "}\n",
       "\n",
       "mpl.figure.prototype.handle_message = function(fig, msg) {\n",
       "    fig.message.textContent = msg['message'];\n",
       "}\n",
       "\n",
       "mpl.figure.prototype.handle_draw = function(fig, msg) {\n",
       "    // Request the server to send over a new figure.\n",
       "    fig.send_draw_message();\n",
       "}\n",
       "\n",
       "mpl.figure.prototype.handle_image_mode = function(fig, msg) {\n",
       "    fig.image_mode = msg['mode'];\n",
       "}\n",
       "\n",
       "mpl.figure.prototype.updated_canvas_event = function() {\n",
       "    // Called whenever the canvas gets updated.\n",
       "    this.send_message(\"ack\", {});\n",
       "}\n",
       "\n",
       "// A function to construct a web socket function for onmessage handling.\n",
       "// Called in the figure constructor.\n",
       "mpl.figure.prototype._make_on_message_function = function(fig) {\n",
       "    return function socket_on_message(evt) {\n",
       "        if (evt.data instanceof Blob) {\n",
       "            /* FIXME: We get \"Resource interpreted as Image but\n",
       "             * transferred with MIME type text/plain:\" errors on\n",
       "             * Chrome.  But how to set the MIME type?  It doesn't seem\n",
       "             * to be part of the websocket stream */\n",
       "            evt.data.type = \"image/png\";\n",
       "\n",
       "            /* Free the memory for the previous frames */\n",
       "            if (fig.imageObj.src) {\n",
       "                (window.URL || window.webkitURL).revokeObjectURL(\n",
       "                    fig.imageObj.src);\n",
       "            }\n",
       "\n",
       "            fig.imageObj.src = (window.URL || window.webkitURL).createObjectURL(\n",
       "                evt.data);\n",
       "            fig.updated_canvas_event();\n",
       "            fig.waiting = false;\n",
       "            return;\n",
       "        }\n",
       "        else if (typeof evt.data === 'string' && evt.data.slice(0, 21) == \"data:image/png;base64\") {\n",
       "            fig.imageObj.src = evt.data;\n",
       "            fig.updated_canvas_event();\n",
       "            fig.waiting = false;\n",
       "            return;\n",
       "        }\n",
       "\n",
       "        var msg = JSON.parse(evt.data);\n",
       "        var msg_type = msg['type'];\n",
       "\n",
       "        // Call the  \"handle_{type}\" callback, which takes\n",
       "        // the figure and JSON message as its only arguments.\n",
       "        try {\n",
       "            var callback = fig[\"handle_\" + msg_type];\n",
       "        } catch (e) {\n",
       "            console.log(\"No handler for the '\" + msg_type + \"' message type: \", msg);\n",
       "            return;\n",
       "        }\n",
       "\n",
       "        if (callback) {\n",
       "            try {\n",
       "                // console.log(\"Handling '\" + msg_type + \"' message: \", msg);\n",
       "                callback(fig, msg);\n",
       "            } catch (e) {\n",
       "                console.log(\"Exception inside the 'handler_\" + msg_type + \"' callback:\", e, e.stack, msg);\n",
       "            }\n",
       "        }\n",
       "    };\n",
       "}\n",
       "\n",
       "// from http://stackoverflow.com/questions/1114465/getting-mouse-location-in-canvas\n",
       "mpl.findpos = function(e) {\n",
       "    //this section is from http://www.quirksmode.org/js/events_properties.html\n",
       "    var targ;\n",
       "    if (!e)\n",
       "        e = window.event;\n",
       "    if (e.target)\n",
       "        targ = e.target;\n",
       "    else if (e.srcElement)\n",
       "        targ = e.srcElement;\n",
       "    if (targ.nodeType == 3) // defeat Safari bug\n",
       "        targ = targ.parentNode;\n",
       "\n",
       "    // jQuery normalizes the pageX and pageY\n",
       "    // pageX,Y are the mouse positions relative to the document\n",
       "    // offset() returns the position of the element relative to the document\n",
       "    var x = e.pageX - $(targ).offset().left;\n",
       "    var y = e.pageY - $(targ).offset().top;\n",
       "\n",
       "    return {\"x\": x, \"y\": y};\n",
       "};\n",
       "\n",
       "/*\n",
       " * return a copy of an object with only non-object keys\n",
       " * we need this to avoid circular references\n",
       " * http://stackoverflow.com/a/24161582/3208463\n",
       " */\n",
       "function simpleKeys (original) {\n",
       "  return Object.keys(original).reduce(function (obj, key) {\n",
       "    if (typeof original[key] !== 'object')\n",
       "        obj[key] = original[key]\n",
       "    return obj;\n",
       "  }, {});\n",
       "}\n",
       "\n",
       "mpl.figure.prototype.mouse_event = function(event, name) {\n",
       "    var canvas_pos = mpl.findpos(event)\n",
       "\n",
       "    if (name === 'button_press')\n",
       "    {\n",
       "        this.canvas.focus();\n",
       "        this.canvas_div.focus();\n",
       "    }\n",
       "\n",
       "    var x = canvas_pos.x * mpl.ratio;\n",
       "    var y = canvas_pos.y * mpl.ratio;\n",
       "\n",
       "    this.send_message(name, {x: x, y: y, button: event.button,\n",
       "                             step: event.step,\n",
       "                             guiEvent: simpleKeys(event)});\n",
       "\n",
       "    /* This prevents the web browser from automatically changing to\n",
       "     * the text insertion cursor when the button is pressed.  We want\n",
       "     * to control all of the cursor setting manually through the\n",
       "     * 'cursor' event from matplotlib */\n",
       "    event.preventDefault();\n",
       "    return false;\n",
       "}\n",
       "\n",
       "mpl.figure.prototype._key_event_extra = function(event, name) {\n",
       "    // Handle any extra behaviour associated with a key event\n",
       "}\n",
       "\n",
       "mpl.figure.prototype.key_event = function(event, name) {\n",
       "\n",
       "    // Prevent repeat events\n",
       "    if (name == 'key_press')\n",
       "    {\n",
       "        if (event.which === this._key)\n",
       "            return;\n",
       "        else\n",
       "            this._key = event.which;\n",
       "    }\n",
       "    if (name == 'key_release')\n",
       "        this._key = null;\n",
       "\n",
       "    var value = '';\n",
       "    if (event.ctrlKey && event.which != 17)\n",
       "        value += \"ctrl+\";\n",
       "    if (event.altKey && event.which != 18)\n",
       "        value += \"alt+\";\n",
       "    if (event.shiftKey && event.which != 16)\n",
       "        value += \"shift+\";\n",
       "\n",
       "    value += 'k';\n",
       "    value += event.which.toString();\n",
       "\n",
       "    this._key_event_extra(event, name);\n",
       "\n",
       "    this.send_message(name, {key: value,\n",
       "                             guiEvent: simpleKeys(event)});\n",
       "    return false;\n",
       "}\n",
       "\n",
       "mpl.figure.prototype.toolbar_button_onclick = function(name) {\n",
       "    if (name == 'download') {\n",
       "        this.handle_save(this, null);\n",
       "    } else {\n",
       "        this.send_message(\"toolbar_button\", {name: name});\n",
       "    }\n",
       "};\n",
       "\n",
       "mpl.figure.prototype.toolbar_button_onmouseover = function(tooltip) {\n",
       "    this.message.textContent = tooltip;\n",
       "};\n",
       "mpl.toolbar_items = [[\"Home\", \"Reset original view\", \"fa fa-home icon-home\", \"home\"], [\"Back\", \"Back to  previous view\", \"fa fa-arrow-left icon-arrow-left\", \"back\"], [\"Forward\", \"Forward to next view\", \"fa fa-arrow-right icon-arrow-right\", \"forward\"], [\"\", \"\", \"\", \"\"], [\"Pan\", \"Pan axes with left mouse, zoom with right\", \"fa fa-arrows icon-move\", \"pan\"], [\"Zoom\", \"Zoom to rectangle\", \"fa fa-square-o icon-check-empty\", \"zoom\"], [\"\", \"\", \"\", \"\"], [\"Download\", \"Download plot\", \"fa fa-floppy-o icon-save\", \"download\"]];\n",
       "\n",
       "mpl.extensions = [\"eps\", \"pdf\", \"png\", \"ps\", \"raw\", \"svg\"];\n",
       "\n",
       "mpl.default_extension = \"png\";var comm_websocket_adapter = function(comm) {\n",
       "    // Create a \"websocket\"-like object which calls the given IPython comm\n",
       "    // object with the appropriate methods. Currently this is a non binary\n",
       "    // socket, so there is still some room for performance tuning.\n",
       "    var ws = {};\n",
       "\n",
       "    ws.close = function() {\n",
       "        comm.close()\n",
       "    };\n",
       "    ws.send = function(m) {\n",
       "        //console.log('sending', m);\n",
       "        comm.send(m);\n",
       "    };\n",
       "    // Register the callback with on_msg.\n",
       "    comm.on_msg(function(msg) {\n",
       "        //console.log('receiving', msg['content']['data'], msg);\n",
       "        // Pass the mpl event to the overriden (by mpl) onmessage function.\n",
       "        ws.onmessage(msg['content']['data'])\n",
       "    });\n",
       "    return ws;\n",
       "}\n",
       "\n",
       "mpl.mpl_figure_comm = function(comm, msg) {\n",
       "    // This is the function which gets called when the mpl process\n",
       "    // starts-up an IPython Comm through the \"matplotlib\" channel.\n",
       "\n",
       "    var id = msg.content.data.id;\n",
       "    // Get hold of the div created by the display call when the Comm\n",
       "    // socket was opened in Python.\n",
       "    var element = $(\"#\" + id);\n",
       "    var ws_proxy = comm_websocket_adapter(comm)\n",
       "\n",
       "    function ondownload(figure, format) {\n",
       "        window.open(figure.imageObj.src);\n",
       "    }\n",
       "\n",
       "    var fig = new mpl.figure(id, ws_proxy,\n",
       "                           ondownload,\n",
       "                           element.get(0));\n",
       "\n",
       "    // Call onopen now - mpl needs it, as it is assuming we've passed it a real\n",
       "    // web socket which is closed, not our websocket->open comm proxy.\n",
       "    ws_proxy.onopen();\n",
       "\n",
       "    fig.parent_element = element.get(0);\n",
       "    fig.cell_info = mpl.find_output_cell(\"<div id='\" + id + \"'></div>\");\n",
       "    if (!fig.cell_info) {\n",
       "        console.error(\"Failed to find cell for figure\", id, fig);\n",
       "        return;\n",
       "    }\n",
       "\n",
       "    var output_index = fig.cell_info[2]\n",
       "    var cell = fig.cell_info[0];\n",
       "\n",
       "};\n",
       "\n",
       "mpl.figure.prototype.handle_close = function(fig, msg) {\n",
       "    var width = fig.canvas.width/mpl.ratio\n",
       "    fig.root.unbind('remove')\n",
       "\n",
       "    // Update the output cell to use the data from the current canvas.\n",
       "    fig.push_to_output();\n",
       "    var dataURL = fig.canvas.toDataURL();\n",
       "    // Re-enable the keyboard manager in IPython - without this line, in FF,\n",
       "    // the notebook keyboard shortcuts fail.\n",
       "    IPython.keyboard_manager.enable()\n",
       "    $(fig.parent_element).html('<img src=\"' + dataURL + '\" width=\"' + width + '\">');\n",
       "    fig.close_ws(fig, msg);\n",
       "}\n",
       "\n",
       "mpl.figure.prototype.close_ws = function(fig, msg){\n",
       "    fig.send_message('closing', msg);\n",
       "    // fig.ws.close()\n",
       "}\n",
       "\n",
       "mpl.figure.prototype.push_to_output = function(remove_interactive) {\n",
       "    // Turn the data on the canvas into data in the output cell.\n",
       "    var width = this.canvas.width/mpl.ratio\n",
       "    var dataURL = this.canvas.toDataURL();\n",
       "    this.cell_info[1]['text/html'] = '<img src=\"' + dataURL + '\" width=\"' + width + '\">';\n",
       "}\n",
       "\n",
       "mpl.figure.prototype.updated_canvas_event = function() {\n",
       "    // Tell IPython that the notebook contents must change.\n",
       "    IPython.notebook.set_dirty(true);\n",
       "    this.send_message(\"ack\", {});\n",
       "    var fig = this;\n",
       "    // Wait a second, then push the new image to the DOM so\n",
       "    // that it is saved nicely (might be nice to debounce this).\n",
       "    setTimeout(function () { fig.push_to_output() }, 1000);\n",
       "}\n",
       "\n",
       "mpl.figure.prototype._init_toolbar = function() {\n",
       "    var fig = this;\n",
       "\n",
       "    var nav_element = $('<div/>')\n",
       "    nav_element.attr('style', 'width: 100%');\n",
       "    this.root.append(nav_element);\n",
       "\n",
       "    // Define a callback function for later on.\n",
       "    function toolbar_event(event) {\n",
       "        return fig.toolbar_button_onclick(event['data']);\n",
       "    }\n",
       "    function toolbar_mouse_event(event) {\n",
       "        return fig.toolbar_button_onmouseover(event['data']);\n",
       "    }\n",
       "\n",
       "    for(var toolbar_ind in mpl.toolbar_items){\n",
       "        var name = mpl.toolbar_items[toolbar_ind][0];\n",
       "        var tooltip = mpl.toolbar_items[toolbar_ind][1];\n",
       "        var image = mpl.toolbar_items[toolbar_ind][2];\n",
       "        var method_name = mpl.toolbar_items[toolbar_ind][3];\n",
       "\n",
       "        if (!name) { continue; };\n",
       "\n",
       "        var button = $('<button class=\"btn btn-default\" href=\"#\" title=\"' + name + '\"><i class=\"fa ' + image + ' fa-lg\"></i></button>');\n",
       "        button.click(method_name, toolbar_event);\n",
       "        button.mouseover(tooltip, toolbar_mouse_event);\n",
       "        nav_element.append(button);\n",
       "    }\n",
       "\n",
       "    // Add the status bar.\n",
       "    var status_bar = $('<span class=\"mpl-message\" style=\"text-align:right; float: right;\"/>');\n",
       "    nav_element.append(status_bar);\n",
       "    this.message = status_bar[0];\n",
       "\n",
       "    // Add the close button to the window.\n",
       "    var buttongrp = $('<div class=\"btn-group inline pull-right\"></div>');\n",
       "    var button = $('<button class=\"btn btn-mini btn-primary\" href=\"#\" title=\"Stop Interaction\"><i class=\"fa fa-power-off icon-remove icon-large\"></i></button>');\n",
       "    button.click(function (evt) { fig.handle_close(fig, {}); } );\n",
       "    button.mouseover('Stop Interaction', toolbar_mouse_event);\n",
       "    buttongrp.append(button);\n",
       "    var titlebar = this.root.find($('.ui-dialog-titlebar'));\n",
       "    titlebar.prepend(buttongrp);\n",
       "}\n",
       "\n",
       "mpl.figure.prototype._root_extra_style = function(el){\n",
       "    var fig = this\n",
       "    el.on(\"remove\", function(){\n",
       "\tfig.close_ws(fig, {});\n",
       "    });\n",
       "}\n",
       "\n",
       "mpl.figure.prototype._canvas_extra_style = function(el){\n",
       "    // this is important to make the div 'focusable\n",
       "    el.attr('tabindex', 0)\n",
       "    // reach out to IPython and tell the keyboard manager to turn it's self\n",
       "    // off when our div gets focus\n",
       "\n",
       "    // location in version 3\n",
       "    if (IPython.notebook.keyboard_manager) {\n",
       "        IPython.notebook.keyboard_manager.register_events(el);\n",
       "    }\n",
       "    else {\n",
       "        // location in version 2\n",
       "        IPython.keyboard_manager.register_events(el);\n",
       "    }\n",
       "\n",
       "}\n",
       "\n",
       "mpl.figure.prototype._key_event_extra = function(event, name) {\n",
       "    var manager = IPython.notebook.keyboard_manager;\n",
       "    if (!manager)\n",
       "        manager = IPython.keyboard_manager;\n",
       "\n",
       "    // Check for shift+enter\n",
       "    if (event.shiftKey && event.which == 13) {\n",
       "        this.canvas_div.blur();\n",
       "        event.shiftKey = false;\n",
       "        // Send a \"J\" for go to next cell\n",
       "        event.which = 74;\n",
       "        event.keyCode = 74;\n",
       "        manager.command_mode();\n",
       "        manager.handle_keydown(event);\n",
       "    }\n",
       "}\n",
       "\n",
       "mpl.figure.prototype.handle_save = function(fig, msg) {\n",
       "    fig.ondownload(fig, null);\n",
       "}\n",
       "\n",
       "\n",
       "mpl.find_output_cell = function(html_output) {\n",
       "    // Return the cell and output element which can be found *uniquely* in the notebook.\n",
       "    // Note - this is a bit hacky, but it is done because the \"notebook_saving.Notebook\"\n",
       "    // IPython event is triggered only after the cells have been serialised, which for\n",
       "    // our purposes (turning an active figure into a static one), is too late.\n",
       "    var cells = IPython.notebook.get_cells();\n",
       "    var ncells = cells.length;\n",
       "    for (var i=0; i<ncells; i++) {\n",
       "        var cell = cells[i];\n",
       "        if (cell.cell_type === 'code'){\n",
       "            for (var j=0; j<cell.output_area.outputs.length; j++) {\n",
       "                var data = cell.output_area.outputs[j];\n",
       "                if (data.data) {\n",
       "                    // IPython >= 3 moved mimebundle to data attribute of output\n",
       "                    data = data.data;\n",
       "                }\n",
       "                if (data['text/html'] == html_output) {\n",
       "                    return [cell, data, j];\n",
       "                }\n",
       "            }\n",
       "        }\n",
       "    }\n",
       "}\n",
       "\n",
       "// Register the function which deals with the matplotlib target/channel.\n",
       "// The kernel may be null if the page has been refreshed.\n",
       "if (IPython.notebook.kernel != null) {\n",
       "    IPython.notebook.kernel.comm_manager.register_target('matplotlib', mpl.mpl_figure_comm);\n",
       "}\n"
      ],
      "text/plain": [
       "<IPython.core.display.Javascript object>"
      ]
     },
     "metadata": {},
     "output_type": "display_data"
    },
    {
     "data": {
      "text/html": [
       "<img src=\"data:image/png;base64,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\" width=\"675\">"
      ],
      "text/plain": [
       "<IPython.core.display.HTML object>"
      ]
     },
     "metadata": {},
     "output_type": "display_data"
    },
    {
     "data": {
      "text/plain": [
       "[<matplotlib.lines.Line2D at 0x1f53b3a2400>]"
      ]
     },
     "execution_count": 24,
     "metadata": {},
     "output_type": "execute_result"
    }
   ],
   "source": [
    "fig, axes = plt.subplots(2, 1)\n",
    "\n",
    "ax = axes[0]\n",
    "ax.plot(data[0, :, 0].real)\n",
    "ax.plot(data[0, :, 0].imag)\n",
    "\n",
    "ax = axes[1]\n",
    "ax.plot(data[0, :, 1].real)\n",
    "ax.plot(data[0, :, 1].imag)\n",
    "ax.plot(np.abs(data[0, :, 1]))"
   ]
  },
  {
   "cell_type": "markdown",
   "metadata": {
    "heading_collapsed": true
   },
   "source": [
    "## Noise level and spectrum"
   ]
  },
  {
   "cell_type": "code",
   "execution_count": null,
   "metadata": {
    "collapsed": true,
    "hidden": true
   },
   "outputs": [],
   "source": [
    "ro_attenuator.attenuation(40)\n",
    "het_src.frequency(7.14e9)"
   ]
  },
  {
   "cell_type": "code",
   "execution_count": null,
   "metadata": {
    "collapsed": true,
    "hidden": true
   },
   "outputs": [],
   "source": [
    "awg_spec_sweep.sample_rate(1e7)\n",
    "# sequence length (in s). Up to buffers at the edges this is the integration time per AWG sweep.\n",
    "awg_spec_sweep.seq_len(500e-3)\n",
    "# and setup the sequence (will program the awg)\n",
    "awg_spec_sweep.setup()"
   ]
  },
  {
   "cell_type": "code",
   "execution_count": null,
   "metadata": {
    "hidden": true
   },
   "outputs": [],
   "source": [
    "### Set up the detector\n",
    "\n",
    "# set the sweeper\n",
    "# det = avgdemod_detector\n",
    "det = avg_detector\n",
    "det.avg_buffers(False)\n",
    "\n",
    "det.set_sweeper(awg_spec_sweep)\n",
    "# acquisition time\n",
    "det.acq_time(100e-3)\n",
    "# demod frequency\n",
    "# det.demod_frq(IF)\n",
    "# HW config, and how data is shaped.\n",
    "det.configure_alazar(\n",
    "    records_per_buffer=1,\n",
    "    buffers_per_acquisition=1,\n",
    ")\n",
    "det.setup()\n",
    "\n",
    "print(det.sweep_dims, det.sweep_shape)"
   ]
  },
  {
   "cell_type": "code",
   "execution_count": null,
   "metadata": {
    "hidden": true
   },
   "outputs": [],
   "source": [
    "data = det.acquisition()\n",
    "data.shape, det.sweep_shape"
   ]
  },
  {
   "cell_type": "code",
   "execution_count": null,
   "metadata": {
    "hidden": true
   },
   "outputs": [],
   "source": [
    "fig, axes = plt.subplots(1, 1)\n",
    "\n",
    "ax = axes\n",
    "ax.plot(det.time()[:10000]*1e6, data[0, :10000, 1])\n",
    "# ax.plot(data[0, :, 1].imag)\n",
    "# ax.plot(np.abs(data[0, :, 1]))"
   ]
  },
  {
   "cell_type": "code",
   "execution_count": null,
   "metadata": {
    "hidden": true
   },
   "outputs": [],
   "source": [
    "ffty = np.fft.rfft(data[0, :, 1].real)\n",
    "fftx = np.fft.rfftfreq(data[0, :, 1].size, d=5e-9)\n",
    "\n",
    "PSD = abs(ffty) / (data[0, :, 1].size)**.5 / (10.)**.5\n",
    "\n",
    "fig, ax = plt.subplots(1, 1)\n",
    "ax.plot(fftx[10:] * 1e-6, PSD[10:])\n",
    "ax.set_xlabel('frequency (MHz)')\n",
    "ax.set_ylabel('FFT')"
   ]
  },
  {
   "cell_type": "code",
   "execution_count": null,
   "metadata": {
    "collapsed": true,
    "hidden": true
   },
   "outputs": [],
   "source": []
  },
  {
   "cell_type": "code",
   "execution_count": null,
   "metadata": {
    "collapsed": true,
    "hidden": true
   },
   "outputs": [],
   "source": []
  },
  {
   "cell_type": "markdown",
   "metadata": {},
   "source": [
    "# CW spec"
   ]
  },
  {
   "cell_type": "markdown",
   "metadata": {},
   "source": [
    "## RO spec"
   ]
  },
  {
   "cell_type": "markdown",
   "metadata": {},
   "source": [
    "### Experiment settings"
   ]
  },
  {
   "cell_type": "code",
   "execution_count": 29,
   "metadata": {
    "collapsed": true
   },
   "outputs": [],
   "source": [
    "# demod frequency\n",
    "IF = 20e6\n",
    "\n",
    "# experiment name\n",
    "exp = select_experiment('readout_spec', SAMPLE)\n",
    "\n",
    "# averaging\n",
    "navgs = 1\n",
    "\n",
    "# Spectroscopy frequencies\n",
    "rf_frqs = np.linspace(7.145e9, 7.155e9, 201)[:]\n",
    "\n",
    "# power\n",
    "ro_attenuator.attenuation(0)\n",
    "\n",
    "# Flux\n",
    "# yoko.on()\n",
    "# yoko.ramp_voltage(0.0, 1e-3, 0.01)"
   ]
  },
  {
   "cell_type": "code",
   "execution_count": 30,
   "metadata": {
    "collapsed": true
   },
   "outputs": [],
   "source": [
    "### Set up the Sweeper\n",
    "\n",
    "# AWG sampling rate (in Hz)\n",
    "awg_spec_sweep.sample_rate(1e9)\n",
    "# sequence length (in s). Up to buffers at the edges this is the integration time per AWG sweep.\n",
    "awg_spec_sweep.seq_len(500e-6)\n",
    "# and setup the sequence (will program the awg)\n",
    "awg_spec_sweep.setup()"
   ]
  },
  {
   "cell_type": "code",
   "execution_count": 31,
   "metadata": {},
   "outputs": [
    {
     "name": "stdout",
     "output_type": "stream",
     "text": [
      "['awg_sweep_idx', 'channels'] (1, 2)\n"
     ]
    }
   ],
   "source": [
    "### Set up the detector\n",
    "\n",
    "# det = iq_detector\n",
    "# det = iqrel_detector\n",
    "det = avgiq_detector\n",
    "det.avg_buffers(False)\n",
    "\n",
    "# set the sweeper\n",
    "det.set_sweeper(awg_spec_sweep)\n",
    "# acquisition time\n",
    "det.acq_time(awg_spec_sweep.seq_len() - 2e-6)\n",
    "# demod frequency\n",
    "det.demod_frq(IF)\n",
    "# HW config, and how data is shaped.\n",
    "det.configure_alazar(\n",
    "    records_per_buffer=1,\n",
    "    buffers_per_acquisition=navgs,\n",
    ")\n",
    "det.setup()\n",
    "\n",
    "print(det.sweep_dims, det.sweep_shape)"
   ]
  },
  {
   "cell_type": "markdown",
   "metadata": {},
   "source": [
    "### Run"
   ]
  },
  {
   "cell_type": "code",
   "execution_count": 32,
   "metadata": {},
   "outputs": [
    {
     "name": "stdout",
     "output_type": "stream",
     "text": [
      "Starting experimental run with id: 286\n"
     ]
    }
   ],
   "source": [
    "# after setting up, we can create the measurement object.\n",
    "# Note: we need to tell it ALL parameters and how they are related. \n",
    "# For simple cases, this wrapper does it.\n",
    "\n",
    "\n",
    "meas = MeasurementExt(station, exp=exp, \n",
    "                      hard_sweep_detector=det,\n",
    "                      soft_sweep_params=[\n",
    "                          het_src.frequency,\n",
    "#                           ro_attenuator.attenuation,\n",
    "                      ])\n",
    "\n",
    "# the measurement loop\n",
    "meas.write_period = 1\n",
    "with meas.run() as datasaver:\n",
    "    \n",
    "    datasaver.dataset.subscribe(\n",
    "        QcodesDatasetSubscriber(datasaver.dataset), \n",
    "        state=[], min_wait=0, min_count=1,\n",
    "    )\n",
    "    \n",
    "#     for att in np.arange(50, 80, 5):\n",
    "#         ro_attenuator.attenuation(att)\n",
    "    \n",
    "    for f in rf_frqs:\n",
    "        het_src.frequency(f)\n",
    "        time.sleep(0.01)\n",
    "\n",
    "        det.acquisition()\n",
    "        datasaver.add_result(*meas.get_result())"
   ]
  },
  {
   "cell_type": "markdown",
   "metadata": {},
   "source": [
    "## Qubit Spec"
   ]
  },
  {
   "cell_type": "markdown",
   "metadata": {
    "heading_collapsed": true
   },
   "source": [
    "### Basic config"
   ]
  },
  {
   "cell_type": "code",
   "execution_count": null,
   "metadata": {
    "collapsed": true,
    "hidden": true
   },
   "outputs": [],
   "source": [
    "# demod frequency\n",
    "IF = 20e6\n",
    "# Readout frq\n",
    "het_src.frequency(7.1508e9)\n",
    "het_src.IF(20e6)\n",
    "# experiment name\n",
    "exp = select_experiment('qubit_spec', SAMPLE)\n",
    "# averages\n",
    "navgs = 1000\n",
    "# spec frqs\n",
    "q_frqs = np.linspace(5.2e9, 5.5e9, 151)\n",
    "# ro power\n",
    "ro_attenuator.attenuation(50)"
   ]
  },
  {
   "cell_type": "markdown",
   "metadata": {
    "heading_collapsed": true
   },
   "source": [
    "### Sweeper and detector"
   ]
  },
  {
   "cell_type": "code",
   "execution_count": null,
   "metadata": {
    "hidden": true
   },
   "outputs": [],
   "source": [
    "### SWEEPER\n",
    "# AWG sampling rate (in Hz)\n",
    "awg_spec_sweep.sample_rate(1e9)\n",
    "# sequence length (in s). Up to buffers at the edges this is the integration time per AWG sweep.\n",
    "awg_spec_sweep.seq_len(100e-6)\n",
    "# and setup the sequence (will program the awg)\n",
    "awg_spec_sweep.setup()\n",
    "\n",
    "\n",
    "### DETECTOR\n",
    "# det = iqrel_detector\n",
    "det = avgiq_detector\n",
    "det.avg_buffers(False)\n",
    "\n",
    "# set the sweeper\n",
    "det.set_sweeper(awg_spec_sweep)\n",
    "# acquisition time\n",
    "det.acq_time(awg_spec_sweep.seq_len() - 2e-6)\n",
    "# demod frequency\n",
    "det.demod_frq(IF)\n",
    "# HW config, and how data is shaped.\n",
    "det.configure_alazar(\n",
    "    records_per_buffer=1,\n",
    "    buffers_per_acquisition=navgs,\n",
    ")\n",
    "det.setup()\n",
    "\n",
    "print(det.sweep_dims, det.sweep_shape)"
   ]
  },
  {
   "cell_type": "markdown",
   "metadata": {
    "heading_collapsed": true
   },
   "source": [
    "### Run"
   ]
  },
  {
   "cell_type": "code",
   "execution_count": null,
   "metadata": {
    "hidden": true
   },
   "outputs": [],
   "source": [
    "meas = MeasurementExt(station, exp=exp, \n",
    "                      hard_sweep_detector=det,\n",
    "                      soft_sweep_params=[\n",
    "                          qubit_gen.frequency,\n",
    "                          ro_attenuator.attenuation,\n",
    "                      ])\n",
    "\n",
    "# the measurement loop\n",
    "meas.write_period = 1\n",
    "with meas.run() as datasaver:\n",
    "    \n",
    "    datasaver.dataset.subscribe(\n",
    "        QcodesDatasetSubscriber(datasaver.dataset), \n",
    "        state=[], min_wait=0, min_count=1,\n",
    "    )\n",
    "    \n",
    "    for att in 10 * np.log10(np.linspace(1e5, 1e6, 11)):\n",
    "        ro_attenuator.attenuation(att)\n",
    "    \n",
    "        for f in q_frqs:\n",
    "            qubit_gen.frequency(f)\n",
    "            time.sleep(0.01)\n",
    "\n",
    "            det.acquisition()\n",
    "            datasaver.add_result(*meas.get_result())"
   ]
  },
  {
   "cell_type": "code",
   "execution_count": null,
   "metadata": {
    "collapsed": true,
    "hidden": true
   },
   "outputs": [],
   "source": []
  },
  {
   "cell_type": "code",
   "execution_count": null,
   "metadata": {
    "hidden": true
   },
   "outputs": [],
   "source": []
  },
  {
   "cell_type": "markdown",
   "metadata": {
    "heading_collapsed": true
   },
   "source": [
    "# TD Experiments"
   ]
  },
  {
   "cell_type": "markdown",
   "metadata": {
    "heading_collapsed": true,
    "hidden": true
   },
   "source": [
    "## Some Testing"
   ]
  },
  {
   "cell_type": "markdown",
   "metadata": {
    "heading_collapsed": true,
    "hidden": true
   },
   "source": [
    "### Define tools"
   ]
  },
  {
   "cell_type": "code",
   "execution_count": null,
   "metadata": {
    "collapsed": true,
    "hidden": true
   },
   "outputs": [],
   "source": [
    "class TDTestSequence(BroadBeanSequence):\n",
    "\n",
    "    def __init__(self, *arg, **kw):\n",
    "        \n",
    "        kw['sweep_dims'] = ['averages', 'ro_length', ]\n",
    "        kw['sweep_units'] = ['', 's', ]\n",
    "        \n",
    "        super().__init__(*arg, **kw)\n",
    "        \n",
    "        self.add_parameter('initial_delay', set_cmd=None,\n",
    "                           unit='s', initial_value=1e-6)\n",
    "        self.add_parameter('alazar_trigger_len', set_cmd=None,\n",
    "                           unit='s', initial_value=1e-7)\n",
    "        self.add_parameter('alazar_trigger_delay', set_cmd=None, \n",
    "                           unit='s', initial_value=1e-6)\n",
    "        self.add_parameter('seq_len', set_cmd=None, \n",
    "                           unit='s', initial_value=1e-5)\n",
    "        \n",
    "        self.add_parameter('start_len', set_cmd=None, unit='s', initial_value=1e-6)\n",
    "        self.add_parameter('stop_len', set_cmd=None, unit='s', initial_value=5e-6)\n",
    "        self.add_parameter('len_pts', set_cmd=None, initial_value=5)\n",
    "        self.add_parameter('n_averages', set_cmd=None, initial_value=1)\n",
    "\n",
    "    def setup(self, **kw):\n",
    "        self.averages(np.arange(self.n_averages()))\n",
    "        self.ro_length(np.linspace(self.start_len(), self.stop_len(), self.len_pts()))\n",
    "        super().setup(**kw)\n",
    "        \n",
    "    def sequence(self):\n",
    "        elem = bb.Element()\n",
    "        seq = bb.Sequence()\n",
    "        seq.name = 'td_test'\n",
    "        \n",
    "        for i, length in enumerate(self.ro_length()):\n",
    "            bps = BluePrints(self.chan_map, sample_rate=self.sample_rate())\n",
    "            bps['ro'].insertSegment(0, ramp, (0, 0), dur=self.seq_len(), name='ro_segment'.format(i))\n",
    "            bps['alz_mrkr'] = [(self.initial_delay(), self.alazar_trigger_len())]\n",
    "            bps['ro_mrkr'] = [(self.initial_delay() + self.alazar_trigger_delay(), length, )]\n",
    "            bps['q'].insertSegment(0, ramp, (0, 0), dur=self.seq_len(), name='q_segment'.format(i))\n",
    "\n",
    "            for n, bp in bps():\n",
    "                elem.addBluePrint(n, bp)\n",
    "        \n",
    "            seq.addElement(i+1, elem)\n",
    "            \n",
    "            seq.setSequencingTriggerWait(i+1, 0)\n",
    "            seq.setSequencingGoto(i+1, (i+2)%self.len_pts())\n",
    "        \n",
    "        \n",
    "        seq.setSR(self.sample_rate())\n",
    "        \n",
    "        seq.setChannelAmplitude(1, 1)\n",
    "        seq.setChannelOffset(1, 0)\n",
    "        seq.setChannelAmplitude(2, 1)\n",
    "        seq.setChannelOffset(2, 0)\n",
    "\n",
    "        return seq\n",
    "    \n",
    "\n",
    "# channel map. note that at this moment the analog channels are required, even if we don't do anything with them.\n",
    "awg_chan_map = {\n",
    "        1 : ['ro', 'alz_mrkr', 'ro_mrkr'],\n",
    "        2 : ['q', 'q_mrkr', None],\n",
    "    }\n",
    "\n",
    "# create the meta-instrument for the sequence, add to the qcodes station.\n",
    "td_test_sweep = create_inst(TDTestSequence, 'td_test_sweep', awg=awg5014, chan_map=awg_chan_map, force_new_instance=True)\n",
    "station = add2station(station, td_test_sweep)\n",
    "\n",
    "# create the detector instrument\n",
    "# ctl = demodrel_acq\n",
    "ctl = iqrel_acq\n",
    "td_test_detector = create_inst(AlazarDetector, name='td_test_detector', acqctl=ctl, \n",
    "                               sweep_params=['buffers', 'records',], force_new_instance=True)\n",
    "\n",
    "station = add2station(station, td_test_detector)"
   ]
  },
  {
   "cell_type": "markdown",
   "metadata": {
    "heading_collapsed": true,
    "hidden": true
   },
   "source": [
    "### Configure experiments"
   ]
  },
  {
   "cell_type": "code",
   "execution_count": null,
   "metadata": {
    "collapsed": true,
    "hidden": true
   },
   "outputs": [],
   "source": [
    "exp = select_experiment('TD_test', SAMPLE)\n",
    "\n",
    "# set generators to RF frq\n",
    "IF = 20e6\n",
    "RF.frequency(7.15e9)\n",
    "LO.frequency(RF.frequency() + IF)\n",
    "awg5014.stop()\n",
    "\n",
    "### Configure the AWG sweep\n",
    "\n",
    "# AWG sampling rate (in Hz)\n",
    "td_test_sweep.sample_rate(1e9)\n",
    "\n",
    "# sequence length (in s). Up to buffers at the edges this is the integration time per AWG sweep.\n",
    "td_test_sweep.seq_len(100e-6)\n",
    "td_test_sweep.start_len(10e-6)\n",
    "td_test_sweep.stop_len(50e-6)\n",
    "td_test_sweep.len_pts(6)\n",
    "td_test_sweep.n_averages(10)\n",
    "\n",
    "# and setup the sequence (will program the awg)\n",
    "td_test_sweep.setup(start_awg=False, program_awg=True)\n",
    "\n",
    "\n",
    "### Configure the detector\n",
    "td_test_detector.set_sweeper(td_test_sweep)\n",
    "\n",
    "# setup acquisition controller and detector\n",
    "def trigger_func(do_start):\n",
    "    if do_start:\n",
    "        station.awg5014.start()\n",
    "    else:\n",
    "        pass\n",
    "\n",
    "ctl.trigger_func = trigger_func\n",
    "\n",
    "# Configure Alazar acquisition controller\n",
    "# acquisition time\n",
    "ctl.acq_time(80e-6)\n",
    "\n",
    "# demod frequency\n",
    "ctl.demod_frq(IF)\n",
    "\n",
    "# HW config, and how data is shaped.\n",
    "ctl.update_acquisitionkwargs(\n",
    "    # the sweep is now encoded in the records\n",
    "    records_per_buffer=td_test_sweep.len_pts(), \n",
    "    \n",
    "    # this is for averaging by repeating the sequence; ie, number of averages per 'shot'.\n",
    "    buffers_per_acquisition=td_test_sweep.n_averages(),\n",
    "    \n",
    "    # leave as is for now.\n",
    "    buffer_timeout=10000,\n",
    "    allocated_buffers=1\n",
    ")\n",
    "\n",
    "# setup the detector\n",
    "td_test_detector.setup()"
   ]
  },
  {
   "cell_type": "code",
   "execution_count": null,
   "metadata": {
    "collapsed": true,
    "hidden": true
   },
   "outputs": [],
   "source": [
    "print(td_test_detector.sweep_dims, td_test_detector.sweep_shape)"
   ]
  },
  {
   "cell_type": "code",
   "execution_count": null,
   "metadata": {
    "collapsed": true,
    "hidden": true
   },
   "outputs": [],
   "source": [
    "# after setting up, we can create the measurement object.\n",
    "meas = hard_sweep.make_measurement('results', exp=exp, \n",
    "                                   hard_sweep_detector=td_test_detector,)\n",
    "\n",
    "# the measurement loop\n",
    "with meas.run() as datasaver:\n",
    "    td_test_detector.acquisition()\n",
    "        \n",
    "    # add to dataset\n",
    "    result = td_test_detector.get_sweep_coords()\n",
    "\n",
    "    # and add the data\n",
    "    result += [(td_test_detector.signal_real, td_test_detector.signal_real().reshape(-1).astype(float))]\n",
    "    result += [(td_test_detector.signal_imag, td_test_detector.signal_imag().reshape(-1).astype(float))]\n",
    "\n",
    "    datasaver.add_result(*result)"
   ]
  },
  {
   "cell_type": "code",
   "execution_count": null,
   "metadata": {
    "collapsed": true,
    "hidden": true
   },
   "outputs": [],
   "source": [
    "shape = td_test_detector.sweep_shape\n",
    "print(shape)\n",
    "ds = datasaver.dataset\n",
    "print(ds)\n",
    "\n",
    "sigr = np.array(ds.get_values('td_test_detector_signal_real')).reshape(shape)\n",
    "sigi = np.array(ds.get_values('td_test_detector_signal_imag')).reshape(shape)\n",
    "\n",
    "fig, ax = plt.subplots(1, 1)\n",
    "ax.imshow(((sigr**2 + sigi**2)**.5), aspect='auto')"
   ]
  },
  {
   "cell_type": "code",
   "execution_count": null,
   "metadata": {
    "collapsed": true,
    "hidden": true
   },
   "outputs": [],
   "source": []
  },
  {
   "cell_type": "markdown",
   "metadata": {
    "hidden": true
   },
   "source": [
    "## Pulsed qubit spec"
   ]
  },
  {
   "cell_type": "markdown",
   "metadata": {
    "heading_collapsed": true,
    "hidden": true
   },
   "source": [
    "### Measurement classes"
   ]
  },
  {
   "cell_type": "code",
   "execution_count": null,
   "metadata": {
    "collapsed": true,
    "hidden": true
   },
   "outputs": [],
   "source": [
    "class PulsedQubitSpec(BroadBeanSequence):\n",
    "    \n",
    "    initial_delay = 1e-6\n",
    "    alz_trigger_len = 100e-9\n",
    "    alz_trigger_delay = 0\n",
    "\n",
    "    def __init__(self, *arg, **kw):\n",
    "        \n",
    "        kw['sweep_dims'] = ['awg_sweep_idx', ]\n",
    "        \n",
    "        super().__init__(*arg, **kw)\n",
    "\n",
    "        self.add_parameter('seq_len', set_cmd=None, unit='s',\n",
    "                           initial_value=1e-5)\n",
    "        self.add_parameter('readout_len', set_cmd=None, unit='s',\n",
    "                           initial_value=2e-6)\n",
    "        self.add_parameter('qubit_pulse_len', set_cmd=None, unit='s',\n",
    "                           initial_value=1e-6)\n",
    "        self.add_parameter('readout_delay', set_cmd=None, unit='s', initial_value=0)\n",
    "\n",
    "    def setup(self, **kw):\n",
    "        self.awg_sweep_idx([1,])\n",
    "        super().setup(**kw)\n",
    "        \n",
    "    def sequence(self):\n",
    "        elem = bb.Element()\n",
    "        \n",
    "        bps = BluePrints(self.chan_map, sample_rate=self.sample_rate())\n",
    "        \n",
    "        bps['ro'].insertSegment(0, ramp, (0, 0), dur=self.seq_len(), name='ro_segment')\n",
    "        bps['alz_mrkr'] = [(self.initial_delay + self.qubit_pulse_len() + self.readout_delay(), \n",
    "                            self.alz_trigger_len)]\n",
    "        bps['ro_mrkr'] = [(self.initial_delay + self.qubit_pulse_len() + \\\n",
    "                               self.readout_delay() + self.alz_trigger_len + self.alz_trigger_delay, \n",
    "                           self.readout_len())]\n",
    "        \n",
    "        bps['q'].insertSegment(0, ramp, (0, 0), dur=self.seq_len(), name='q_segment')\n",
    "        bps['q_mrkr'] = [(self.initial_delay, self.qubit_pulse_len())]\n",
    "        \n",
    "        for n, bp in bps():\n",
    "            elem.addBluePrint(n, bp)\n",
    "            \n",
    "        seq = bb.Sequence()\n",
    "        seq.name = 'spec'\n",
    "        seq.addElement(1, elem)\n",
    "        seq.setSR(self.sample_rate())\n",
    "        \n",
    "        seq.setChannelAmplitude(1, 1)\n",
    "        seq.setChannelOffset(1, 0)\n",
    "        seq.setChannelAmplitude(2, 1)\n",
    "        seq.setChannelOffset(2, 0)\n",
    "\n",
    "        seq.setSequencingTriggerWait(1, 0)\n",
    "        seq.setSequencingGoto(1, 1)\n",
    "        \n",
    "        return seq"
   ]
  },
  {
   "cell_type": "markdown",
   "metadata": {
    "heading_collapsed": true,
    "hidden": true
   },
   "source": [
    "### Basic config"
   ]
  },
  {
   "cell_type": "code",
   "execution_count": null,
   "metadata": {
    "collapsed": true,
    "hidden": true
   },
   "outputs": [],
   "source": [
    "# demod frequency\n",
    "IF = 20e6\n",
    "\n",
    "# Readout frq\n",
    "RF.frequency(7.1508e9)\n",
    "LO.frequency(RF.frequency() + IF)\n",
    "\n",
    "# experiment name\n",
    "exp = select_experiment('qubit_spec_pulsed', SAMPLE)\n",
    "# averages\n",
    "navgs = 10000\n",
    "\n",
    "# qubit frequency list\n",
    "q_frqs = np.linspace(5.37e9, 5.42e9, 101)\n",
    "\n",
    "# ro power\n",
    "ro_attenuator.attenuation(32)\n",
    "\n",
    "# qubit power\n",
    "qubit_gen.power(-10)"
   ]
  },
  {
   "cell_type": "markdown",
   "metadata": {
    "heading_collapsed": true,
    "hidden": true
   },
   "source": [
    "### Sweeper / detector"
   ]
  },
  {
   "cell_type": "code",
   "execution_count": null,
   "metadata": {
    "collapsed": true,
    "hidden": true
   },
   "outputs": [],
   "source": [
    "### SWEEPER\n",
    "\n",
    "# create the meta-instrument for the sequence, add to the qcodes station.\n",
    "qspec_sweep = create_inst(PulsedQubitSpec, 'qspec_sweep', awg=awg5014, chan_map=AWG_CHANS, force_new_instance=True)\n",
    "station = add2station(station, qspec_sweep)\n",
    "\n",
    "# AWG sampling rate (in Hz)\n",
    "qspec_sweep.sample_rate(1e9)\n",
    "\n",
    "# sequence length (in s). Up to buffers at the edges this is the integration time per AWG sweep.\n",
    "qspec_sweep.seq_len(25e-6)\n",
    "qspec_sweep.readout_len(8e-6)\n",
    "qspec_sweep.qubit_pulse_len(2e-6)\n",
    "qspec_sweep.readout_delay(-.1e-6)\n",
    "\n",
    "# Quasi-CW\n",
    "# qspec_sweep.seq_len(100e-6)\n",
    "# qspec_sweep.readout_len(98e-6)\n",
    "# qspec_sweep.qubit_pulse_len(98e-6)\n",
    "# qspec_sweep.readout_delay(-98.1e-6)\n",
    "\n",
    "# and setup the sequence (will program the awg)\n",
    "qspec_sweep.setup(start_awg=True)"
   ]
  },
  {
   "cell_type": "code",
   "execution_count": null,
   "metadata": {
    "collapsed": true,
    "hidden": true
   },
   "outputs": [],
   "source": [
    "### DETECTOR\n",
    "det = iqrel_detector\n",
    "# det = demodrel_detector\n",
    "\n",
    "# set the sweeper\n",
    "det.set_sweeper(qspec_sweep)\n",
    "\n",
    "# acquisition time\n",
    "det.acq_time(qspec_sweep.readout_len() + 1e-6)\n",
    "\n",
    "# demod frequency\n",
    "det.demod_frq(IF)\n",
    "\n",
    "# HW config, and how data is shaped.\n",
    "det.configure_alazar(\n",
    "    records_per_buffer=1,\n",
    "    buffers_per_acquisition=navgs,\n",
    "    allocated_buffers=1,\n",
    ")\n",
    "det.setup()\n",
    "\n",
    "print(det.sweep_dims, det.sweep_shape)"
   ]
  },
  {
   "cell_type": "code",
   "execution_count": null,
   "metadata": {
    "collapsed": true,
    "hidden": true,
    "scrolled": false
   },
   "outputs": [],
   "source": [
    "meas = MeasurementExt(station, exp=exp, \n",
    "                      hard_sweep_detector=det,\n",
    "                      soft_sweep_params=[\n",
    "                          qubit_gen.power,\n",
    "                          qubit_gen.frequency, \n",
    "                      ])\n",
    "\n",
    "# how often we write to the database\n",
    "meas.write_period = 1\n",
    "\n",
    "# the measurement loop\n",
    "with meas.run() as datasaver:\n",
    "    \n",
    "    # notify live plotter\n",
    "    datasaver.dataset.subscribe(\n",
    "        QcodesDatasetSubscriber(datasaver.dataset),\n",
    "        state=[], min_wait=0, min_count=1,\n",
    "    )\n",
    "    \n",
    "    # software sweep of RF power\n",
    "    for p in np.linspace(-10, 20, 7):\n",
    "        qubit_gen.power(p)\n",
    " \n",
    "        # software sweep of the RF frequency\n",
    "        for f in q_frqs:\n",
    "            qubit_gen.frequency(f)\n",
    "            time.sleep(0.2)\n",
    "\n",
    "            # this runs the Alazar, and returns demodulated data.\n",
    "            det.acquisition()\n",
    "            datasaver.add_result(*meas.get_result())"
   ]
  },
  {
   "cell_type": "code",
   "execution_count": null,
   "metadata": {
    "collapsed": true,
    "hidden": true
   },
   "outputs": [],
   "source": []
  },
  {
   "cell_type": "markdown",
   "metadata": {
    "heading_collapsed": true,
    "hidden": true
   },
   "source": [
    "## Pulsed qubit spec with time dependence"
   ]
  },
  {
   "cell_type": "markdown",
   "metadata": {
    "hidden": true
   },
   "source": [
    "### Basic config"
   ]
  },
  {
   "cell_type": "code",
   "execution_count": null,
   "metadata": {
    "collapsed": true,
    "hidden": true
   },
   "outputs": [],
   "source": [
    "# demod frequency\n",
    "IF = 20e6\n",
    "# Readout frq\n",
    "RF.frequency(7.151e9)\n",
    "LO.frequency(RF.frequency() + IF)\n",
    "# experiment name\n",
    "exp = select_experiment('qubit_spec_pulsed_timetrace', SAMPLE)\n",
    "# averages\n",
    "navgs = 100000\n",
    "# qubit frequency list\n",
    "q_frqs = np.linspace(5.25e9, 5.35e9, 26)"
   ]
  },
  {
   "cell_type": "markdown",
   "metadata": {
    "hidden": true
   },
   "source": [
    "### Sweeper / detector"
   ]
  },
  {
   "cell_type": "code",
   "execution_count": null,
   "metadata": {
    "collapsed": true,
    "hidden": true
   },
   "outputs": [],
   "source": [
    "### SWEEPER\n",
    "\n",
    "# create the meta-instrument for the sequence, add to the qcodes station.\n",
    "qspec_sweep = create_inst(PulsedQubitSpec, 'qspec_sweep', awg=awg5014, chan_map=AWG_CHANS, force_new_instance=True)\n",
    "station = add2station(station, qspec_sweep)\n",
    "\n",
    "# AWG sampling rate (in Hz)\n",
    "qspec_sweep.sample_rate(1e9)\n",
    "\n",
    "# sequence length (in s). Up to buffers at the edges this is the integration time per AWG sweep.\n",
    "qspec_sweep.alz_trigger_delay = -1.1e-6\n",
    "qspec_sweep.initial_delay = 2e-6\n",
    "# qspec_sweep.seq_len(100e-6)\n",
    "# qspec_sweep.readout_len(100e-6)\n",
    "# qspec_sweep.qubit_pulse_len(20e-6)\n",
    "# qspec_sweep.readout_delay(-21e-6)\n",
    "\n",
    "# Quasi-CW\n",
    "qspec_sweep.alz_trigger_delay = 0\n",
    "qspec_sweep.initial_delay = 1e-6\n",
    "qspec_sweep.seq_len(100e-6)\n",
    "qspec_sweep.readout_len(98e-6)\n",
    "qspec_sweep.qubit_pulse_len(98e-6)\n",
    "qspec_sweep.readout_delay(-98e-6)\n",
    "\n",
    "# and setup the sequence (will program the awg)\n",
    "qspec_sweep.setup(start_awg=True)"
   ]
  },
  {
   "cell_type": "code",
   "execution_count": null,
   "metadata": {
    "collapsed": true,
    "hidden": true
   },
   "outputs": [],
   "source": [
    "### DETECTOR\n",
    "# det = iqrel_detector\n",
    "det = demodrel_detector\n",
    "\n",
    "# set the sweeper\n",
    "det.set_sweeper(qspec_sweep)\n",
    "# acquisition time\n",
    "det.acq_time(qspec_sweep.readout_len() + 3e-6)\n",
    "# demod frequency\n",
    "det.demod_frq(IF)\n",
    "# HW config, and how data is shaped.\n",
    "det.configure_alazar(\n",
    "    records_per_buffer=1,\n",
    "    buffers_per_acquisition=navgs,\n",
    "    allocated_buffers=1,\n",
    ")\n",
    "det.setup()\n",
    "\n",
    "print(det.sweep_dims, det.sweep_shape)"
   ]
  },
  {
   "cell_type": "code",
   "execution_count": null,
   "metadata": {
    "collapsed": true,
    "hidden": true
   },
   "outputs": [],
   "source": [
    "# det.add_parameter('soft_avg', get_cmd=None, set_cmd=None, initial_value=0)"
   ]
  },
  {
   "cell_type": "code",
   "execution_count": null,
   "metadata": {
    "collapsed": true,
    "hidden": true,
    "scrolled": false
   },
   "outputs": [],
   "source": [
    "meas = hard_sweep.make_measurement('results', exp=exp, \n",
    "                                   hard_sweep_detector=det,\n",
    "                                   soft_sweep_params=[qubit_gen.frequency, ])\n",
    "\n",
    "# how often we write to the database\n",
    "meas.write_period = 1\n",
    "\n",
    "# the measurement loop\n",
    "with meas.run() as datasaver:\n",
    "    # this enables live plotting with the plottr\n",
    "    datasaver.dataset.subscribe(\n",
    "        QcodesDatasetSubscriber(datasaver.dataset), \n",
    "        state=[], min_wait=0, min_count=1,\n",
    "    )\n",
    "    \n",
    "#     qubit_gen.on()\n",
    "        \n",
    "    # software sweep of the RF frequency\n",
    "    for f in q_frqs:\n",
    "        qubit_gen.frequency(f)\n",
    "        time.sleep(0.2)\n",
    "\n",
    "        # this runs the Alazar, and returns demodulated data.\n",
    "        det.acquisition()\n",
    "\n",
    "        # now that the data is here, we can pass the data to the dataset\n",
    "        # get all sweep params in the right format (depends on the acquisition controller we use)\n",
    "        # this is important so we know how to get data back in the right shape\n",
    "        result = det.get_sweep_coords()\n",
    "\n",
    "        # add also the soft sweep params...\n",
    "        result += [(qubit_gen.frequency, f)]\n",
    "\n",
    "        # and add the data\n",
    "        result += [(det.signal_real, det.signal_real().reshape(-1).astype(float))]\n",
    "        result += [(det.signal_imag, det.signal_imag().reshape(-1).astype(float))]\n",
    "        result += [(det.signal_abs, det.signal_abs().reshape(-1).astype(float))]\n",
    "\n",
    "        datasaver.add_result(*result)"
   ]
  },
  {
   "cell_type": "markdown",
   "metadata": {
    "hidden": true
   },
   "source": [
    "## Qubit Rabi"
   ]
  },
  {
   "cell_type": "markdown",
   "metadata": {
    "heading_collapsed": true,
    "hidden": true
   },
   "source": [
    "### Measurement classes"
   ]
  },
  {
   "cell_type": "code",
   "execution_count": null,
   "metadata": {
    "collapsed": true,
    "hidden": true
   },
   "outputs": [],
   "source": [
    "class RabiSequence(BroadBeanSequence):\n",
    "    \n",
    "    initial_delay = 1e-6\n",
    "    alz_trigger_len = 100e-9\n",
    "    alz_trigger_delay = 0\n",
    "\n",
    "    def __init__(self, *arg, **kw):\n",
    "        \n",
    "        kw['sweep_dims'] = ['pulse_length', ]\n",
    "        kw['sweep_units'] = ['s', ]\n",
    "        \n",
    "        super().__init__(*arg, **kw)\n",
    "        self.add_parameter('seq_len', set_cmd=None, \n",
    "                           unit='s', initial_value=1e-5)\n",
    "        \n",
    "        self.add_parameter('start_len', set_cmd=None, unit='s', initial_value=0)\n",
    "        self.add_parameter('stop_len', set_cmd=None, unit='s', initial_value=200e-9)\n",
    "        self.add_parameter('len_pts', set_cmd=None, initial_value=21)\n",
    "        self.add_parameter('readout_len', set_cmd=None, initial_value=2e-6)\n",
    "\n",
    "    def setup(self, **kw):\n",
    "        self.pulse_length(np.linspace(self.start_len(), self.stop_len(), self.len_pts()))\n",
    "        super().setup(**kw)\n",
    "        \n",
    "    def sequence(self):\n",
    "        elem = bb.Element()\n",
    "        seq = bb.Sequence()\n",
    "        seq.name = 'rabi'\n",
    "        \n",
    "        for i, length in enumerate(self.pulse_length()):\n",
    "            bps = BluePrints(self.chan_map, sample_rate=self.sample_rate())            \n",
    "            bps['q'].insertSegment(0, ramp, (0, 0), dur=self.seq_len(), name='q_segment')\n",
    "            bps['q_mrkr'] = [(self.initial_delay, length)]            \n",
    "            bps['ro'].insertSegment(0, ramp, (0, 0), dur=self.seq_len(), name='ro_segment')\n",
    "            bps['alz_mrkr'] = [(self.initial_delay+length, \n",
    "                                self.alz_trigger_len)]\n",
    "            bps['ro_mrkr'] = [(self.initial_delay+length+self.alz_trigger_len+self.alz_trigger_delay, \n",
    "                               self.readout_len())]\n",
    "\n",
    "            for n, bp in bps():\n",
    "                elem.addBluePrint(n, bp)\n",
    "        \n",
    "            seq.addElement(i+1, elem)\n",
    "            \n",
    "            seq.setSequencingTriggerWait(i+1, 0)\n",
    "            seq.setSequencingGoto(i+1, (i+2)%self.len_pts())\n",
    "        \n",
    "        \n",
    "        seq.setSR(self.sample_rate())\n",
    "        \n",
    "        seq.setChannelAmplitude(1, 1)\n",
    "        seq.setChannelOffset(1, 0)\n",
    "        seq.setChannelAmplitude(2, 1)\n",
    "        seq.setChannelOffset(2, 0)\n",
    "\n",
    "        return seq"
   ]
  },
  {
   "cell_type": "markdown",
   "metadata": {
    "hidden": true
   },
   "source": [
    "### Basic config "
   ]
  },
  {
   "cell_type": "code",
   "execution_count": null,
   "metadata": {
    "collapsed": true,
    "hidden": true
   },
   "outputs": [],
   "source": [
    "# demod frequency\n",
    "IF = 20e6\n",
    "# Readout frq\n",
    "RF.frequency(7.1507e9)\n",
    "LO.frequency(RF.frequency() + IF)\n",
    "# qubit frq\n",
    "qubit_gen.frequency(5.395e9)\n",
    "qubit_gen.power(2)\n",
    "# experiment name\n",
    "exp = select_experiment('qubit_rabi', SAMPLE)\n",
    "# averages\n",
    "navgs = 10000"
   ]
  },
  {
   "cell_type": "markdown",
   "metadata": {
    "hidden": true
   },
   "source": [
    "### Sweeper / detector"
   ]
  },
  {
   "cell_type": "code",
   "execution_count": null,
   "metadata": {
    "collapsed": true,
    "hidden": true
   },
   "outputs": [],
   "source": [
    "### SWEEPER\n",
    "\n",
    "# create the meta-instrument for the sequence, add to the qcodes station.\n",
    "rabi_sweep = create_inst(RabiSequence, 'rabi_sweep', awg=awg5014, chan_map=AWG_CHANS, force_new_instance=True)\n",
    "station = add2station(station, rabi_sweep)\n",
    "\n",
    "# AWG sampling rate (in Hz)\n",
    "rabi_sweep.sample_rate(1e9)\n",
    "\n",
    "# sequence length (in s). Up to buffers at the edges this is the integration time per AWG sweep.\n",
    "rabi_sweep.seq_len(50e-6)\n",
    "rabi_sweep.start_len(0)\n",
    "rabi_sweep.stop_len(400e-9)\n",
    "rabi_sweep.len_pts(101)\n",
    "rabi_sweep.readout_len(8e-6)\n",
    "\n",
    "# and setup the sequence (will program the awg)\n",
    "rabi_sweep.setup(start_awg=False)"
   ]
  },
  {
   "cell_type": "code",
   "execution_count": null,
   "metadata": {
    "collapsed": true,
    "hidden": true
   },
   "outputs": [],
   "source": [
    "### DETECTOR\n",
    "\n",
    "# meta-instrument for the detector (i.e., alazar acquisition)\n",
    "det = iqrel_detector\n",
    "det.set_sweeper(rabi_sweep)\n",
    "\n",
    "# Configure Alazar acquisition controller\n",
    "# acquisition time\n",
    "det.acq_time(rabi_sweep.readout_len() + 0.2e-6)\n",
    "# demod frequency\n",
    "det.demod_frq(IF)\n",
    "\n",
    "def trigger_func(do_start):\n",
    "    if do_start:\n",
    "        station.awg5014.start()\n",
    "    else:\n",
    "        pass\n",
    "\n",
    "det.acqctl.trigger_func = trigger_func\n",
    "\n",
    "# HW config, and how data is shaped.\n",
    "det.configure_alazar(\n",
    "    records_per_buffer=rabi_sweep.len_pts(),\n",
    "    buffers_per_acquisition=navgs,\n",
    ")\n",
    "det.setup()"
   ]
  },
  {
   "cell_type": "code",
   "execution_count": null,
   "metadata": {
    "collapsed": true,
    "hidden": true
   },
   "outputs": [],
   "source": [
    "meas = MeasurementExt(station, exp=exp, \n",
    "                      hard_sweep_detector=det,\n",
    "                      soft_sweep_params=[\n",
    "                          # qubit_gen.power,\n",
    "                          # qubit_gen.frequency, \n",
    "                      ])\n",
    "\n",
    "# the measurement loop\n",
    "with meas.run() as datasaver:\n",
    "    \n",
    "    datasaver.dataset.subscribe(\n",
    "        QcodesDatasetSubscriber(datasaver.dataset), \n",
    "        state=[], min_wait=0, min_count=1,\n",
    "    )\n",
    "    \n",
    "    det.acquisition()\n",
    "    datasaver.add_result(*meas.get_result())"
   ]
  },
  {
   "cell_type": "markdown",
   "metadata": {
    "hidden": true
   },
   "source": [
    "## Qubit T1"
   ]
  },
  {
   "cell_type": "markdown",
   "metadata": {
    "hidden": true
   },
   "source": [
    "### Sweeper class"
   ]
  },
  {
   "cell_type": "code",
   "execution_count": null,
   "metadata": {
    "collapsed": true,
    "hidden": true
   },
   "outputs": [],
   "source": [
    "class T1Sequence(BroadBeanSequence):\n",
    "    \n",
    "    initial_delay = 1e-6\n",
    "    alz_trigger_len = 100e-9\n",
    "    alz_trigger_delay = 0\n",
    "\n",
    "    def __init__(self, *arg, **kw):\n",
    "        \n",
    "        kw['sweep_dims'] = ['delay', ]\n",
    "        kw['sweep_units'] = ['us', ]\n",
    "        \n",
    "        super().__init__(*arg, **kw)\n",
    "        self.add_parameter('seq_len', set_cmd=None, \n",
    "                           unit='s', initial_value=1e-5)\n",
    "        \n",
    "        self.add_parameter('qubit_pulse_len', set_cmd=None, unit='s', initial_value=100e-9)\n",
    "        self.add_parameter('start_len', set_cmd=None, unit='s', initial_value=0)\n",
    "        self.add_parameter('stop_len', set_cmd=None, unit='s', initial_value=200e-9)\n",
    "        self.add_parameter('len_pts', set_cmd=None, initial_value=21)\n",
    "        self.add_parameter('readout_len', set_cmd=None, initial_value=2e-6)\n",
    "\n",
    "    def setup(self, **kw):\n",
    "        self.delay(np.linspace(self.start_len(), self.stop_len(), self.len_pts()))\n",
    "        super().setup(**kw)\n",
    "        \n",
    "    def sequence(self):\n",
    "        elem = bb.Element()\n",
    "        seq = bb.Sequence()\n",
    "        seq.name = 'rabi'\n",
    "        \n",
    "        for i, length in enumerate(self.delay()*1e-6):\n",
    "            bps = BluePrints(self.chan_map, sample_rate=self.sample_rate())            \n",
    "            bps['q'].insertSegment(0, ramp, (0, 0), dur=self.seq_len(), name='q_segment')\n",
    "            bps['q_mrkr'] = [(self.initial_delay, self.qubit_pulse_len())]            \n",
    "            bps['ro'].insertSegment(0, ramp, (0, 0), dur=self.seq_len(), name='ro_segment')\n",
    "            bps['alz_mrkr'] = [(self.initial_delay+self.qubit_pulse_len()+length, \n",
    "                                self.alz_trigger_len)]\n",
    "            bps['ro_mrkr'] = [(self.initial_delay+self.qubit_pulse_len()+length+\\\n",
    "                                   self.alz_trigger_len+self.alz_trigger_delay, \n",
    "                               self.readout_len())]\n",
    "\n",
    "            for n, bp in bps():\n",
    "                elem.addBluePrint(n, bp)\n",
    "        \n",
    "            seq.addElement(i+1, elem)\n",
    "            \n",
    "            seq.setSequencingTriggerWait(i+1, 0)\n",
    "            seq.setSequencingGoto(i+1, (i+2)%self.len_pts())\n",
    "        \n",
    "        \n",
    "        seq.setSR(self.sample_rate())\n",
    "        \n",
    "        seq.setChannelAmplitude(1, 1)\n",
    "        seq.setChannelOffset(1, 0)\n",
    "        seq.setChannelAmplitude(2, 1)\n",
    "        seq.setChannelOffset(2, 0)\n",
    "\n",
    "        return seq"
   ]
  },
  {
   "cell_type": "markdown",
   "metadata": {
    "hidden": true
   },
   "source": [
    "### Configure and run"
   ]
  },
  {
   "cell_type": "code",
   "execution_count": null,
   "metadata": {
    "collapsed": true,
    "hidden": true,
    "scrolled": true
   },
   "outputs": [],
   "source": [
    "### General settings\n",
    "\n",
    "# Readout frq\n",
    "RF.frequency(7.1508e9)\n",
    "LO.frequency(RF.frequency() + IF)\n",
    "\n",
    "# qubit ctrl\n",
    "qubit_gen.frequency(5.3955e9)\n",
    "qubit_gen.power(2)\n",
    "\n",
    "# experiment name\n",
    "exp = select_experiment('qubit_t1', SAMPLE)\n",
    "# averages\n",
    "navgs = 1000\n",
    "\n",
    "### SWEEPER\n",
    "\n",
    "# create the meta-instrument for the sequence, add to the qcodes station.\n",
    "t1_sweep = create_inst(T1Sequence, 't1_sweep', awg=awg5014, chan_map=AWG_CHANS, force_new_instance=True)\n",
    "station = add2station(station, t1_sweep)\n",
    "\n",
    "# AWG sampling rate (in Hz)\n",
    "t1_sweep.sample_rate(1e9)\n",
    "\n",
    "# qubit pulse\n",
    "t1_sweep.qubit_pulse_len(60e-9)\n",
    "\n",
    "# sequence length (in s). Up to buffers at the edges this is the integration time per AWG sweep.\n",
    "t1_sweep.seq_len(100e-6)\n",
    "t1_sweep.start_len(0.1)\n",
    "t1_sweep.stop_len(50.1)\n",
    "t1_sweep.len_pts(101)\n",
    "t1_sweep.readout_len(8e-6)\n",
    "\n",
    "# and setup the sequence (will program the awg)\n",
    "t1_sweep.setup(\n",
    "    start_awg=False,\n",
    "    program_awg=True,\n",
    ")\n",
    "\n",
    "### DETECTOR\n",
    "\n",
    "# meta-instrument for the detector (i.e., alazar acquisition)\n",
    "det = iqrel_detector\n",
    "det.set_sweeper(t1_sweep)\n",
    "\n",
    "# acquisition time\n",
    "det.acq_time(t1_sweep.readout_len() + 0.2e-6)\n",
    "\n",
    "# HW config, and how data is shaped.\n",
    "det.configure_alazar(\n",
    "    records_per_buffer=t1_sweep.len_pts(),\n",
    "    buffers_per_acquisition=navgs,\n",
    ")\n",
    "det.setup()\n",
    "\n",
    "### Setup measurement and run\n",
    "\n",
    "meas = MeasurementExt(station, exp=exp, \n",
    "                      hard_sweep_detector=det,\n",
    "                      soft_sweep_params=[\n",
    "                          det.soft_average,\n",
    "                      ])\n",
    "\n",
    "with meas.run() as datasaver:\n",
    "    \n",
    "    datasaver.dataset.subscribe(\n",
    "        QcodesDatasetSubscriber(datasaver.dataset), \n",
    "        state=[], min_wait=0, min_count=1,\n",
    "    )\n",
    "    \n",
    "    for i in range(100):\n",
    "        det.soft_average(i)\n",
    "        det.acquisition()\n",
    "        datasaver.add_result(*meas.get_result())\n",
    "        time.sleep(1)"
   ]
  },
  {
   "cell_type": "markdown",
   "metadata": {
    "hidden": true
   },
   "source": [
    "## Calibrate pi pulses"
   ]
  },
  {
   "cell_type": "markdown",
   "metadata": {
    "hidden": true
   },
   "source": [
    "### Sweeper class"
   ]
  },
  {
   "cell_type": "code",
   "execution_count": null,
   "metadata": {
    "collapsed": true,
    "hidden": true
   },
   "outputs": [],
   "source": [
    "class PiCalSequence(BroadBeanSequence):\n",
    "    \n",
    "    initial_delay = 1e-6\n",
    "    alz_trigger_len = 100e-9\n",
    "    alz_trigger_delay = 0\n",
    "\n",
    "    def __init__(self, *arg, **kw):\n",
    "        \n",
    "        kw['sweep_dims'] = ['delay', ]\n",
    "        kw['sweep_units'] = ['s', ]\n",
    "        \n",
    "        super().__init__(*arg, **kw)\n",
    "        self.add_parameter('seq_len', set_cmd=None, \n",
    "                           unit='s', initial_value=1e-5)\n",
    "        \n",
    "        self.add_parameter('start_len', set_cmd=None, unit='s', initial_value=0)\n",
    "        self.add_parameter('stop_len', set_cmd=None, unit='s', initial_value=200e-9)\n",
    "        self.add_parameter('len_pts', set_cmd=None, initial_value=21)\n",
    "        self.add_parameter('readout_len', set_cmd=None, initial_value=2e-6)\n",
    "        self.add_parameter('n_reps', set_cmd=None, initial_value=5)\n",
    "        self.add_parameter('pulse_delay', set_cmd=None, initial_value=20e-9)\n",
    "\n",
    "    def setup(self, **kw):\n",
    "        self.delay(np.linspace(self.start_len(), self.stop_len(), self.len_pts()))\n",
    "        super().setup(**kw)\n",
    "        \n",
    "    def sequence(self):\n",
    "        elem = bb.Element()\n",
    "        seq = bb.Sequence()\n",
    "        seq.name = 'rabi'\n",
    "        \n",
    "        for i, length in enumerate(self.delay()):\n",
    "            bps = BluePrints(self.chan_map, sample_rate=self.sample_rate())            \n",
    "            bps['q'].insertSegment(0, ramp, (0, 0), dur=self.seq_len(), name='q_segment')\n",
    "            \n",
    "            cur_delay = self.initial_delay\n",
    "            bps['q_mrkr'] = []\n",
    "            for j in range(self.n_reps()):\n",
    "                bps['q_mrkr'] += [(cur_delay, length)]\n",
    "                cur_delay += length + self.pulse_delay()\n",
    "         \n",
    "            bps['ro'].insertSegment(0, ramp, (0, 0), dur=self.seq_len(), name='ro_segment')\n",
    "            bps['alz_mrkr'] = [(cur_delay, self.alz_trigger_len)]\n",
    "            bps['ro_mrkr'] = [(cur_delay + self.alz_trigger_len + self.alz_trigger_delay, \n",
    "                               self.readout_len())]\n",
    "\n",
    "            for n, bp in bps():\n",
    "                elem.addBluePrint(n, bp)\n",
    "        \n",
    "            seq.addElement(i+1, elem)\n",
    "            \n",
    "            seq.setSequencingTriggerWait(i+1, 0)\n",
    "            seq.setSequencingGoto(i+1, (i+2)%self.len_pts())\n",
    "        \n",
    "        \n",
    "        seq.setSR(self.sample_rate())\n",
    "        \n",
    "        seq.setChannelAmplitude(1, 1)\n",
    "        seq.setChannelOffset(1, 0)\n",
    "        seq.setChannelAmplitude(2, 1)\n",
    "        seq.setChannelOffset(2, 0)\n",
    "\n",
    "        return seq"
   ]
  },
  {
   "cell_type": "markdown",
   "metadata": {
    "hidden": true
   },
   "source": [
    "### Configure and run"
   ]
  },
  {
   "cell_type": "code",
   "execution_count": null,
   "metadata": {
    "collapsed": true,
    "hidden": true
   },
   "outputs": [],
   "source": [
    "# Readout frq\n",
    "RF.frequency(7.1508e9)\n",
    "LO.frequency(RF.frequency() + IF)\n",
    "\n",
    "# qubit ctrl\n",
    "qubit_gen.frequency(5.3955e9)\n",
    "qubit_gen.power(2)\n",
    "\n",
    "# experiment name\n",
    "exp = select_experiment('qubit_pi_cal', SAMPLE)\n",
    "# averages\n",
    "navgs = 1000\n",
    "\n",
    "### SWEEPER\n",
    "\n",
    "# create the meta-instrument for the sequence, add to the qcodes station.\n",
    "pical_sweep = create_inst(PiCalSequence, 'pical_sweep', awg=awg5014, chan_map=AWG_CHANS, force_new_instance=True)\n",
    "station = add2station(station, pical_sweep)\n",
    "\n",
    "# AWG sampling rate (in Hz)\n",
    "pical_sweep.sample_rate(1e9)\n",
    "pical_sweep.seq_len(100e-6)\n",
    "\n",
    "pical_sweep.start_len(20e-9)\n",
    "pical_sweep.stop_len(100e-9)\n",
    "pical_sweep.len_pts(21)\n",
    "pical_sweep.n_reps(5)\n",
    "pical_sweep.pulse_delay(20e-9)\n",
    "pical_sweep.readout_len(8e-6)\n",
    "\n",
    "# and setup the sequence (will program the awg)\n",
    "pical_sweep.setup(\n",
    "    start_awg=False,\n",
    "    program_awg=True,\n",
    ")\n"
   ]
  },
  {
   "cell_type": "code",
   "execution_count": null,
   "metadata": {
    "collapsed": true,
    "hidden": true
   },
   "outputs": [],
   "source": []
  },
  {
   "cell_type": "markdown",
   "metadata": {
    "hidden": true
   },
   "source": [
    "## Qubit Ramsey"
   ]
  },
  {
   "cell_type": "markdown",
   "metadata": {
    "hidden": true
   },
   "source": [
    "### Sweeper class"
   ]
  },
  {
   "cell_type": "code",
   "execution_count": null,
   "metadata": {
    "collapsed": true,
    "hidden": true
   },
   "outputs": [],
   "source": [
    "class RamseySequence(BroadBeanSequence):\n",
    "    \n",
    "    initial_delay = 1e-6\n",
    "    alz_trigger_len = 100e-9\n",
    "    alz_trigger_delay = 0\n",
    "\n",
    "    def __init__(self, *arg, **kw):\n",
    "        \n",
    "        kw['sweep_dims'] = ['delay', ]\n",
    "        kw['sweep_units'] = ['s', ]\n",
    "        \n",
    "        super().__init__(*arg, **kw)\n",
    "        self.add_parameter('seq_len', set_cmd=None, \n",
    "                           unit='s', initial_value=1e-5)\n",
    "        \n",
    "        self.add_parameter('qubit_pulse_len', set_cmd=None, unit='s', initial_value=100e-9)\n",
    "        self.add_parameter('start_len', set_cmd=None, unit='s', initial_value=0)\n",
    "        self.add_parameter('stop_len', set_cmd=None, unit='s', initial_value=200e-9)\n",
    "        self.add_parameter('len_pts', set_cmd=None, initial_value=21)\n",
    "        self.add_parameter('readout_len', set_cmd=None, initial_value=2e-6)\n",
    "        self.add_parameter('readout_delay', set_cmd=None, initial_value=100e-9)\n",
    "\n",
    "    def setup(self, **kw):\n",
    "        self.delay(np.linspace(self.start_len(), self.stop_len(), self.len_pts()))\n",
    "        super().setup(**kw)\n",
    "        \n",
    "    def sequence(self):\n",
    "        elem = bb.Element()\n",
    "        seq = bb.Sequence()\n",
    "        seq.name = 'ramsey'\n",
    "        \n",
    "        for i, length in enumerate(self.delay()):\n",
    "            bps = BluePrints(self.chan_map, sample_rate=self.sample_rate())            \n",
    "            bps['q'].insertSegment(0, ramp, (0, 0), dur=self.seq_len(), name='q_segment')\n",
    "            bps['q_mrkr'] = [(self.initial_delay, self.qubit_pulse_len()),\n",
    "                             (self.initial_delay + self.qubit_pulse_len() + length, self.qubit_pulse_len())]            \n",
    "            bps['ro'].insertSegment(0, ramp, (0, 0), dur=self.seq_len(), name='ro_segment')\n",
    "            bps['alz_mrkr'] = [(self.initial_delay + 2*self.qubit_pulse_len() + length + self.readout_delay(), \n",
    "                                self.alz_trigger_len)]\n",
    "            bps['ro_mrkr'] = [(self.initial_delay+2*self.qubit_pulse_len()+length+\\\n",
    "                                   self.alz_trigger_len+self.alz_trigger_delay+self.readout_delay(), \n",
    "                               self.readout_len())]\n",
    "\n",
    "            for n, bp in bps():\n",
    "                elem.addBluePrint(n, bp)\n",
    "        \n",
    "            seq.addElement(i+1, elem)\n",
    "            \n",
    "            seq.setSequencingTriggerWait(i+1, 0)\n",
    "            seq.setSequencingGoto(i+1, (i+2)%self.len_pts())\n",
    "        \n",
    "        \n",
    "        seq.setSR(self.sample_rate())\n",
    "        \n",
    "        seq.setChannelAmplitude(1, 1)\n",
    "        seq.setChannelOffset(1, 0)\n",
    "        seq.setChannelAmplitude(2, 1)\n",
    "        seq.setChannelOffset(2, 0)\n",
    "\n",
    "        return seq"
   ]
  },
  {
   "cell_type": "markdown",
   "metadata": {
    "hidden": true
   },
   "source": [
    "### Configure and run"
   ]
  },
  {
   "cell_type": "code",
   "execution_count": null,
   "metadata": {
    "collapsed": true,
    "hidden": true,
    "scrolled": true
   },
   "outputs": [],
   "source": [
    "### General settings\n",
    "\n",
    "# demod frequency\n",
    "IF = 20e6\n",
    "# Readout frq\n",
    "RF.frequency(7.1508e9)\n",
    "LO.frequency(RF.frequency() + IF)\n",
    "# qubit frq\n",
    "qubit_gen.frequency(5.395e9 - 0.5e6 + 0.1e6) # detune to get fringes\n",
    "qubit_gen.power(2)\n",
    "# experiment name\n",
    "exp = select_experiment('qubit_ramsey', SAMPLE)\n",
    "# averages\n",
    "navgs = 1000\n",
    "\n",
    "### SWEEPER\n",
    "\n",
    "# create the meta-instrument for the sequence, add to the qcodes station.\n",
    "ramsey_sweep = create_inst(RamseySequence, 'ramsey_sweep', awg=awg5014, \n",
    "                           chan_map=AWG_CHANS, force_new_instance=True)\n",
    "station = add2station(station, ramsey_sweep)\n",
    "\n",
    "# AWG sampling rate (in Hz)\n",
    "ramsey_sweep.sample_rate(1e9)\n",
    "\n",
    "# qubit pulse\n",
    "ramsey_sweep.qubit_pulse_len(30e-9)\n",
    "ramsey_sweep.readout_delay(100e-9)\n",
    "\n",
    "# sequence length (in s). Up to buffers at the edges this is the integration time per AWG sweep.\n",
    "ramsey_sweep.seq_len(100e-6)\n",
    "ramsey_sweep.start_len(0.1e-6)\n",
    "ramsey_sweep.stop_len(10.1e-6)\n",
    "ramsey_sweep.len_pts(201)\n",
    "ramsey_sweep.readout_len(8e-6)\n",
    "\n",
    "# and setup the sequence (will program the awg)\n",
    "ramsey_sweep.setup(\n",
    "    start_awg=False,\n",
    "    program_awg=True,\n",
    ")\n",
    "\n",
    "if True:\n",
    "    ### DETECTOR\n",
    "\n",
    "    # meta-instrument for the detector (i.e., alazar acquisition)\n",
    "    det = iqrel_detector\n",
    "    det.set_sweeper(ramsey_sweep)\n",
    "\n",
    "    # acquisition time\n",
    "    det.acq_time(ramsey_sweep.readout_len() + 0.2e-6)\n",
    "    # demod frequency\n",
    "    det.demod_frq(IF)\n",
    "\n",
    "    def trigger_func(do_start):\n",
    "        if do_start:\n",
    "            station.awg5014.start()\n",
    "        else:\n",
    "            station.awg5014.stop()\n",
    "\n",
    "    det.acqctl.trigger_func = trigger_func\n",
    "\n",
    "    # HW config, and how data is shaped.\n",
    "    det.configure_alazar(\n",
    "        records_per_buffer=ramsey_sweep.len_pts(),\n",
    "        buffers_per_acquisition=navgs,\n",
    "    )\n",
    "    det.setup()\n",
    "\n",
    "    ### Setup measurement and run\n",
    "\n",
    "    meas = MeasurementExt(station, exp=exp, \n",
    "                          hard_sweep_detector=det,\n",
    "                          soft_sweep_params=[\n",
    "                              det.soft_average,\n",
    "                          ])\n",
    "\n",
    "    with meas.run() as datasaver:\n",
    "\n",
    "        datasaver.dataset.subscribe(\n",
    "            QcodesDatasetSubscriber(datasaver.dataset), \n",
    "            state=[], min_wait=0, min_count=1,\n",
    "        )\n",
    "\n",
    "        for i in range(10000):\n",
    "            det.soft_average(i)\n",
    "            det.acquisition()\n",
    "            datasaver.add_result(*meas.get_result())\n",
    "            time.sleep(1)\n",
    "            "
   ]
  },
  {
   "cell_type": "code",
   "execution_count": null,
   "metadata": {
    "collapsed": true,
    "hidden": true
   },
   "outputs": [],
   "source": []
  },
  {
   "cell_type": "code",
   "execution_count": null,
   "metadata": {
    "collapsed": true,
    "hidden": true
   },
   "outputs": [],
   "source": []
  },
  {
   "cell_type": "code",
   "execution_count": null,
   "metadata": {
    "collapsed": true,
    "hidden": true
   },
   "outputs": [],
   "source": []
  },
  {
   "cell_type": "code",
   "execution_count": null,
   "metadata": {
    "collapsed": true,
    "hidden": true
   },
   "outputs": [],
   "source": []
  },
  {
   "cell_type": "code",
   "execution_count": null,
   "metadata": {
    "collapsed": true,
    "hidden": true
   },
   "outputs": [],
   "source": []
  },
  {
   "cell_type": "code",
   "execution_count": null,
   "metadata": {
    "collapsed": true,
    "hidden": true
   },
   "outputs": [],
   "source": [
    "import time\n",
    "time.localtime()"
   ]
  },
  {
   "cell_type": "markdown",
   "metadata": {
    "heading_collapsed": true
   },
   "source": [
    "# Backups / old code"
   ]
  },
  {
   "cell_type": "markdown",
   "metadata": {
    "hidden": true
   },
   "source": [
    "## Qubit spec"
   ]
  },
  {
   "cell_type": "code",
   "execution_count": null,
   "metadata": {
    "collapsed": true,
    "hidden": true
   },
   "outputs": [],
   "source": [
    "exp = select_experiment('qubit_spec', SAMPLE)\n",
    "\n",
    "### measurement params\n",
    "\n",
    "# ctl = iq_acq\n",
    "ctl = iqrel_acq\n",
    "ctl.acq_time = 98e-6\n",
    "ctl.demod_frq = 20e6\n",
    "ctl.update_acquisitionkwargs(\n",
    "    records_per_buffer=100, \n",
    "    buffers_per_acquisition=10,\n",
    "    buffer_timeout=10000,\n",
    "    allocated_buffers=1\n",
    ")\n",
    "\n",
    "RF.frequency(7.1507e9)\n",
    "LO.frequency(RF.frequency() + IF)"
   ]
  },
  {
   "cell_type": "code",
   "execution_count": null,
   "metadata": {
    "collapsed": true,
    "hidden": true
   },
   "outputs": [],
   "source": [
    "### set up expt\n",
    "meas = Measurement(exp=exp)\n",
    "meas.write_period = 5.0\n",
    "\n",
    "meas.register_parameter(qubit_gen.frequency)\n",
    "meas.register_custom_parameter('signal_real', setpoints=[qubit_gen.frequency, ])\n",
    "meas.register_custom_parameter('signal_imag', setpoints=[qubit_gen.frequency, ])\n",
    "meas.register_custom_parameter('signal_abs', setpoints=[qubit_gen.frequency, ])\n",
    "\n",
    "q_frqs = np.linspace(5.1e9, 5.4e9, 301)\n",
    "\n",
    "yoko.voltage(0)\n",
    "\n",
    "with meas.run() as datasaver:\n",
    "    datasaver.dataset.subscribe(QcodesDatasetSubscriber(datasaver.dataset), state=[],\n",
    "                                min_wait=0, min_count=1)\n",
    "    \n",
    "    for f in q_frqs:\n",
    "        qubit_gen.frequency(f)\n",
    "        time.sleep(0.2)\n",
    "        \n",
    "        data = ctl.do_acquisition()\n",
    "        if ctl == iq_acq:\n",
    "            sig = data[...,1].mean()\n",
    "            ref = data[...,0].mean()\n",
    "        elif ctl == iqrel_acq:\n",
    "            sig = data.mean()\n",
    "\n",
    "        datasaver.add_result((qubit_gen.frequency, f), \n",
    "                             ('signal_real', sig.real.astype(float)),\n",
    "                             ('signal_imag', sig.imag.astype(float)), \n",
    "                             ('signal_abs', np.abs(sig).astype(float)))"
   ]
  },
  {
   "cell_type": "code",
   "execution_count": null,
   "metadata": {
    "collapsed": true,
    "hidden": true
   },
   "outputs": [],
   "source": []
  },
  {
   "cell_type": "code",
   "execution_count": null,
   "metadata": {
    "collapsed": true,
    "hidden": true
   },
   "outputs": [],
   "source": [
    "exp = select_experiment('qubit_spec_flux', SAMPLE)\n",
    "### set up expt\n",
    "meas = Measurement(exp=exp)\n",
    "meas.write_period = 5.0\n",
    "\n",
    "meas.register_parameter(yoko.voltage)\n",
    "meas.register_parameter(qubit_gen.frequency)\n",
    "meas.register_custom_parameter('signal_real', setpoints=[yoko.voltage, qubit_gen.frequency, ])\n",
    "meas.register_custom_parameter('signal_imag', setpoints=[yoko.voltage, qubit_gen.frequency, ])\n",
    "meas.register_custom_parameter('signal_abs', setpoints=[yoko.voltage, qubit_gen.frequency, ])\n",
    "\n",
    "q_frqs = np.linspace(5.1e9, 5.4e9, 151)\n",
    "flux_vs = np.linspace(-4, 4, 21)\n",
    "yoko.on()\n",
    "\n",
    "with meas.run() as datasaver:\n",
    "    datasaver.dataset.subscribe(QcodesDatasetSubscriber(datasaver.dataset), state=[],\n",
    "                                min_wait=0, min_count=1)\n",
    "    \n",
    "    for v in flux_vs:\n",
    "        yoko.voltage(v)\n",
    "        \n",
    "        for f in q_frqs:\n",
    "            qubit_gen.frequency(f)\n",
    "            time.sleep(0.1)\n",
    "            \n",
    "            data = ctl.do_acquisition()\n",
    "            if ctl == iq_acq:\n",
    "                sig = data[...,1].mean()\n",
    "                ref = data[...,0].mean()\n",
    "            elif ctl == iqrel_acq:\n",
    "                sig = data.mean()\n",
    "\n",
    "            datasaver.add_result(\n",
    "                (yoko.voltage, v),\n",
    "                (qubit_gen.frequency, f), \n",
    "                ('signal_real', sig.real.astype(float)),\n",
    "                ('signal_imag', sig.imag.astype(float)), \n",
    "                ('signal_abs', np.abs(sig).astype(float)))"
   ]
  },
  {
   "cell_type": "code",
   "execution_count": null,
   "metadata": {
    "collapsed": true,
    "hidden": true
   },
   "outputs": [],
   "source": []
  },
  {
   "cell_type": "code",
   "execution_count": null,
   "metadata": {
    "collapsed": true,
    "hidden": true
   },
   "outputs": [],
   "source": []
  },
  {
   "cell_type": "code",
   "execution_count": null,
   "metadata": {
    "collapsed": true,
    "hidden": true
   },
   "outputs": [],
   "source": []
  },
  {
   "cell_type": "code",
   "execution_count": null,
   "metadata": {
    "collapsed": true,
    "hidden": true
   },
   "outputs": [],
   "source": []
  },
  {
   "cell_type": "code",
   "execution_count": null,
   "metadata": {
    "collapsed": true,
    "hidden": true
   },
   "outputs": [],
   "source": []
  },
  {
   "cell_type": "code",
   "execution_count": null,
   "metadata": {
    "collapsed": true,
    "hidden": true
   },
   "outputs": [],
   "source": [
    "ds = qc.load_by_id(77)\n",
    "ds"
   ]
  },
  {
   "cell_type": "code",
   "execution_count": null,
   "metadata": {
    "collapsed": true,
    "hidden": true
   },
   "outputs": [],
   "source": [
    "f = np.array(ds.get_values('RF_frequency')).reshape(-1)"
   ]
  },
  {
   "cell_type": "code",
   "execution_count": null,
   "metadata": {
    "collapsed": true,
    "hidden": true
   },
   "outputs": [],
   "source": []
  },
  {
   "cell_type": "markdown",
   "metadata": {
    "collapsed": true,
    "hidden": true
   },
   "source": []
  },
  {
   "cell_type": "code",
   "execution_count": null,
   "metadata": {
    "collapsed": true,
    "hidden": true
   },
   "outputs": [],
   "source": [
    "# exp = select_experiment('readout_spec_flux', SAMPLE)\n",
    "\n",
    "# ### set up expt\n",
    "# meas = Measurement(exp=exp)\n",
    "# meas.write_period = 5.0\n",
    "\n",
    "# flux_vs = np.linspace(-5, 5, 21)\n",
    "# rf_frqs = np.linspace(7.149e9, 7.152e9, 61)\n",
    "# IF = 20e6\n",
    "\n",
    "# meas.register_parameter(yoko.voltage)\n",
    "# meas.register_parameter(RF.frequency)\n",
    "# meas.register_custom_parameter('signal_real', setpoints=[yoko.voltage, RF.frequency, ])\n",
    "# meas.register_custom_parameter('signal_imag', setpoints=[yoko.voltage, RF.frequency, ])\n",
    "# meas.register_custom_parameter('signal_abs', setpoints=[yoko.voltage, RF.frequency, ])\n",
    "\n",
    "# with meas.run() as datasaver:\n",
    "#     datasaver.dataset.subscribe(QcodesDatasetSubscriber(datasaver.dataset), state=[],\n",
    "#                                 min_wait=0, min_count=1)\n",
    "    \n",
    "    \n",
    "#     for v in flux_vs:\n",
    "#         yoko.voltage(v)\n",
    "    \n",
    "#         for f in rf_frqs:\n",
    "#             RF.frequency(f)\n",
    "#             LO.frequency(f + IF)\n",
    "#             time.sleep(0.2)\n",
    "\n",
    "#             data = ctl.do_acquisition()\n",
    "#             if ctl == iq_acq:\n",
    "#                 sig = data[...,1].mean()\n",
    "#                 ref = data[...,0].mean()\n",
    "#             elif ctl == iqrel_acq:\n",
    "#                 sig = data.mean()\n",
    "\n",
    "#             datasaver.add_result(\n",
    "#                 (yoko.voltage, v), \n",
    "#                 (RF.frequency, f), \n",
    "#                 ('signal_real', sig.real.astype(float)),\n",
    "#                 ('signal_imag', sig.imag.astype(float)), \n",
    "#                 ('signal_abs', np.abs(sig).astype(float)))"
   ]
  },
  {
   "cell_type": "markdown",
   "metadata": {
    "heading_collapsed": true,
    "hidden": true
   },
   "source": [
    "## Test Alazar signal"
   ]
  },
  {
   "cell_type": "code",
   "execution_count": null,
   "metadata": {
    "collapsed": true,
    "hidden": true
   },
   "outputs": [],
   "source": [
    "generic_detector = create_inst(AlazarDetector, name='generic_detector', acqctl=demodrel_acq, \n",
    "                               sweep_params=[], force_new_instance=True)\n",
    "station = add2station(station, generic_detector)"
   ]
  },
  {
   "cell_type": "code",
   "execution_count": null,
   "metadata": {
    "collapsed": true,
    "hidden": true
   },
   "outputs": [],
   "source": [
    "demodrel_acq.acq_time(100e-6)\n",
    "demodrel_acq.demod_frq(20e6)\n",
    "demodrel_acq.update_acquisitionkwargs(records_per_buffer=10, \n",
    "                                      buffers_per_acquisition=1,\n",
    "                                      buffer_timeout=10000,\n",
    "                                      allocated_buffers=1)\n",
    "\n",
    "rawdata = generic_detector.acquisition()\n",
    "data = np.squeeze(rawdata).mean(axis=0).reshape(-1)\n",
    "\n",
    "\n",
    "fig, ax = plt.subplots(1, 1)\n",
    "ax.plot(generic_detector.time() * 1e6, data.real, label='Re')\n",
    "ax.plot(generic_detector.time() * 1e6, data.imag, label='Im')\n",
    "ax.plot(generic_detector.time() * 1e6, np.abs(data), label='Abs')\n",
    "ax.legend()\n",
    "\n",
    "ax.set_ylabel('Signal')\n",
    "ax.set_xlabel('Time (us)')\n",
    "\n",
    "fig.tight_layout()"
   ]
  }
 ],
 "metadata": {
  "kernelspec": {
   "display_name": "Python 3",
   "language": "python",
   "name": "python3"
  },
  "language_info": {
   "codemirror_mode": {
    "name": "ipython",
    "version": 3
   },
   "file_extension": ".py",
   "mimetype": "text/x-python",
   "name": "python",
   "nbconvert_exporter": "python",
   "pygments_lexer": "ipython3",
   "version": "3.6.3"
  },
  "toc": {
   "base_numbering": 1,
   "nav_menu": {},
   "number_sections": true,
   "sideBar": true,
   "skip_h1_title": false,
   "title_cell": "Table of Contents",
   "title_sidebar": "Contents",
   "toc_cell": false,
   "toc_position": {
    "height": "1074px",
    "left": "99px",
    "top": "156.717px",
    "width": "277px"
   },
   "toc_section_display": true,
   "toc_window_display": true
  }
 },
 "nbformat": 4,
 "nbformat_minor": 2
}

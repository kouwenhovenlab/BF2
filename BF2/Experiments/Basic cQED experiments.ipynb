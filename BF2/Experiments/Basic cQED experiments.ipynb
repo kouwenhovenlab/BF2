{
 "cells": [
  {
   "cell_type": "code",
   "execution_count": 1,
   "metadata": {
    "collapsed": true
   },
   "outputs": [],
   "source": [
    "%matplotlib notebook\n",
    "\n",
    "import sys\n",
    "import os\n",
    "import time\n",
    "from importlib import reload"
   ]
  },
  {
   "cell_type": "code",
   "execution_count": 2,
   "metadata": {
    "collapsed": true
   },
   "outputs": [],
   "source": [
    "import numpy as np\n",
    "import qcodes as qc\n",
    "import broadbean as bb\n",
    "\n",
    "from matplotlib import pyplot as plt\n",
    "from broadbean.plotting import plotter"
   ]
  },
  {
   "cell_type": "code",
   "execution_count": 3,
   "metadata": {
    "collapsed": true
   },
   "outputs": [],
   "source": [
    "from qcodes.dataset.measurements import Measurement\n",
    "from qcodes.dataset.plotting import plot_by_id\n",
    "from qcodes.dataset.data_set import DataSet\n",
    "from qcodes.sweep import sweep, nest, chain, szip, getter, setter\n",
    "from qcodes.sweep.sweep import ParameterSweep, Nest, ParameterWrapper, FunctionWrapper, FunctionSweep, getter"
   ]
  },
  {
   "cell_type": "code",
   "execution_count": 4,
   "metadata": {},
   "outputs": [],
   "source": [
    "from pytopo.qctools import instruments as instools; reload(instools)\n",
    "from pytopo.qctools.instruments import create_inst, add2station\n",
    "\n",
    "from pytopo.mplplots.init_nb_plotting import *\n",
    "from pytopo.mplplots import plots as mplplots\n",
    "from pytopo.mplplots import tools as mpltools"
   ]
  },
  {
   "cell_type": "code",
   "execution_count": 5,
   "metadata": {
    "collapsed": true
   },
   "outputs": [],
   "source": [
    "import plottr; reload(plottr)\n",
    "\n",
    "from pytopo.qctools.dataset2 import select_experiment\n",
    "from plottr.qcodes_dataset import QcodesDatasetSubscriber"
   ]
  },
  {
   "cell_type": "markdown",
   "metadata": {},
   "source": [
    "# Init"
   ]
  },
  {
   "cell_type": "markdown",
   "metadata": {},
   "source": [
    "## load instruments"
   ]
  },
  {
   "cell_type": "code",
   "execution_count": null,
   "metadata": {},
   "outputs": [],
   "source": [
    "# %run init_cQED.py"
   ]
  },
  {
   "cell_type": "code",
   "execution_count": 6,
   "metadata": {},
   "outputs": [
    {
     "name": "stdout",
     "output_type": "stream",
     "text": [
      "Connected to: TEKTRONIX AWG5014C (serial:B051389, firmware:SCPI:99.0 FW:4.6.0.7) in 0.77s\n",
      "Connected to: Rohde&Schwarz SGS100A (serial:1416.0505k02/110509, firmware:3.1.19.15-3.50.124.67) in 0.03s\n",
      "Connected to: Rohde&Schwarz SGS100A (serial:1416.0505k02/110510, firmware:3.1.19.15-3.50.124.67) in 0.03s\n",
      "Connected to: Rohde&Schwarz SGS100A (serial:1416.0505k02/110531, firmware:3.1.19.15-3.50.124.67) in 0.02s\n"
     ]
    },
    {
     "name": "stderr",
     "output_type": "stream",
     "text": [
      "Snapshot: Could not update parameter:clock_source\n",
      "Snapshot: Could not update parameter:external_sample_rate\n",
      "Snapshot: Could not update parameter:sample_rate\n",
      "Snapshot: Could not update parameter:clock_edge\n",
      "Snapshot: Could not update parameter:decimation\n",
      "Snapshot: Could not update parameter:coupling1\n",
      "Snapshot: Could not update parameter:channel_range1\n",
      "Snapshot: Could not update parameter:impedance1\n",
      "Snapshot: Could not update parameter:coupling2\n",
      "Snapshot: Could not update parameter:channel_range2\n",
      "Snapshot: Could not update parameter:impedance2\n",
      "Snapshot: Could not update parameter:trigger_operation\n",
      "Snapshot: Could not update parameter:trigger_engine1\n",
      "Snapshot: Could not update parameter:trigger_source1\n",
      "Snapshot: Could not update parameter:trigger_slope1\n",
      "Snapshot: Could not update parameter:trigger_level1\n",
      "Snapshot: Could not update parameter:trigger_engine2\n",
      "Snapshot: Could not update parameter:trigger_source2\n",
      "Snapshot: Could not update parameter:trigger_slope2\n",
      "Snapshot: Could not update parameter:trigger_level2\n",
      "Snapshot: Could not update parameter:external_trigger_coupling\n",
      "Snapshot: Could not update parameter:external_trigger_range\n",
      "Snapshot: Could not update parameter:trigger_delay\n",
      "Snapshot: Could not update parameter:timeout_ticks\n",
      "Snapshot: Could not update parameter:aux_io_mode\n",
      "Snapshot: Could not update parameter:aux_io_param\n",
      "Snapshot: Could not update parameter:mode\n",
      "Snapshot: Could not update parameter:samples_per_record\n",
      "Snapshot: Could not update parameter:records_per_buffer\n",
      "Snapshot: Could not update parameter:buffers_per_acquisition\n",
      "Snapshot: Could not update parameter:channel_selection\n",
      "Snapshot: Could not update parameter:transfer_offset\n",
      "Snapshot: Could not update parameter:external_startcapture\n",
      "Snapshot: Could not update parameter:enable_record_headers\n",
      "Snapshot: Could not update parameter:alloc_buffers\n",
      "Snapshot: Could not update parameter:fifo_only_streaming\n",
      "Snapshot: Could not update parameter:interleave_samples\n",
      "Snapshot: Could not update parameter:get_processed_data\n",
      "Snapshot: Could not update parameter:allocated_buffers\n",
      "Snapshot: Could not update parameter:buffer_timeout\n",
      "Snapshot: Could not update parameter:sample_rate\n",
      "Snapshot: Could not update parameter:samples_per_record\n",
      "Snapshot: Could not update parameter:records_per_buffer\n",
      "Snapshot: Could not update parameter:buffers_per_acquisition\n",
      "Snapshot: Could not update parameter:sample_rate\n",
      "Snapshot: Could not update parameter:samples_per_record\n",
      "Snapshot: Could not update parameter:records_per_buffer\n",
      "Snapshot: Could not update parameter:buffers_per_acquisition\n",
      "Snapshot: Could not update parameter:sample_rate\n",
      "Snapshot: Could not update parameter:samples_per_record\n",
      "Snapshot: Could not update parameter:records_per_buffer\n",
      "Snapshot: Could not update parameter:buffers_per_acquisition\n",
      "Snapshot: Could not update parameter:sample_rate\n",
      "Snapshot: Could not update parameter:samples_per_record\n",
      "Snapshot: Could not update parameter:records_per_buffer\n",
      "Snapshot: Could not update parameter:buffers_per_acquisition\n",
      "Snapshot: Could not update parameter:sample_rate\n",
      "Snapshot: Could not update parameter:samples_per_record\n",
      "Snapshot: Could not update parameter:records_per_buffer\n",
      "Snapshot: Could not update parameter:buffers_per_acquisition\n"
     ]
    }
   ],
   "source": [
    "### Init instruments\n",
    "from pytopo.rf import alazar_acquisition; reload(alazar_acquisition)\n",
    "from pytopo.rf.alazar_acquisition import RawAcqCtl, DemodAcqCtl, DemodRelAcqCtl, IQRelAcqCtl, IQAcqCtl\n",
    "\n",
    "inst_list = []\n",
    "\n",
    "from qcodes.instrument_drivers.AlazarTech.ATS9360 import AlazarTech_ATS9360\n",
    "alazar = instools.create_inst(AlazarTech_ATS9360, 'alazar')\n",
    "inst_list.append(alazar)\n",
    "\n",
    "raw_acq = instools.create_inst(RawAcqCtl, 'raw_acq', 'alazar', force_new_instance=True)\n",
    "inst_list.append(raw_acq)\n",
    "\n",
    "demod_acq = instools.create_inst(DemodAcqCtl, 'demod_acq', 'alazar', force_new_instance=True)\n",
    "inst_list.append(demod_acq)\n",
    "\n",
    "demodrel_acq = instools.create_inst(DemodRelAcqCtl, 'rel_acq', 'alazar', force_new_instance=True)\n",
    "inst_list.append(demodrel_acq)\n",
    "\n",
    "iqrel_acq = instools.create_inst(IQRelAcqCtl, 'iqrel_acq', 'alazar', force_new_instance=True)\n",
    "inst_list.append(iqrel_acq)\n",
    "\n",
    "iq_acq = instools.create_inst(IQAcqCtl, 'iq_acq', 'alazar', force_new_instance=True)\n",
    "inst_list.append(iq_acq)\n",
    "\n",
    "from qcodes.instrument_drivers.tektronix.AWG5014 import Tektronix_AWG5014\n",
    "awg5014 = instools.create_inst(Tektronix_AWG5014, 'awg5014', address=\"TCPIP0::169.254.220.147::inst0::INSTR\")\n",
    "inst_list.append(awg5014)\n",
    "\n",
    "from qcodes.instrument_drivers.rohde_schwarz.SGS100A import RohdeSchwarz_SGS100A\n",
    "LO = instools.create_inst(RohdeSchwarz_SGS100A, 'LO', address=\"TCPIP0::169.254.2.20\")\n",
    "inst_list.append(LO)\n",
    "RF = instools.create_inst(RohdeSchwarz_SGS100A, 'RF', address=\"TCPIP0::169.254.231.38\")\n",
    "inst_list.append(RF)\n",
    "qubit_gen = instools.create_inst(RohdeSchwarz_SGS100A, 'qubit_gen', address=\"TCPIP0::169.254.167.18\")\n",
    "inst_list.append(qubit_gen)\n",
    "\n",
    "# from qcodes.instrument_drivers.yokogawa.GS200 import GS200\n",
    "# yoko = instools.create_inst(GS200, 'yoko', address=\"TCPIP0::169.254.1.9::inst0::INSTR\")\n",
    "# inst_list.append(yoko)\n",
    "\n",
    "station = qc.Station(*inst_list)"
   ]
  },
  {
   "cell_type": "markdown",
   "metadata": {},
   "source": [
    "## Default settings"
   ]
  },
  {
   "cell_type": "code",
   "execution_count": 7,
   "metadata": {},
   "outputs": [],
   "source": [
    "ats_settings = dict(\n",
    "    clock_source='INTERNAL_CLOCK',\n",
    "    sample_rate=int(2e8),\n",
    "    clock_edge='CLOCK_EDGE_RISING',\n",
    "    decimation=1,\n",
    "    coupling=['DC','DC'],\n",
    "    channel_range=[.4, .4],\n",
    "    impedance=[50, 50],\n",
    "    trigger_operation='TRIG_ENGINE_OP_J',\n",
    "    trigger_engine1='TRIG_ENGINE_J',\n",
    "    trigger_source1='EXTERNAL',\n",
    "    trigger_slope1='TRIG_SLOPE_POSITIVE',\n",
    "    trigger_level1=128+20,\n",
    "    trigger_engine2='TRIG_ENGINE_K',\n",
    "    trigger_source2='DISABLE',\n",
    "    trigger_slope2='TRIG_SLOPE_POSITIVE',\n",
    "    trigger_level2=128+5,\n",
    "    external_trigger_coupling='DC',\n",
    "    external_trigger_range='ETR_2V5',\n",
    "    trigger_delay=0,\n",
    "    timeout_ticks=int(1e7),\n",
    "    aux_io_mode='AUX_IN_AUXILIARY',\n",
    "    aux_io_param='NONE',\n",
    ")\n",
    "\n",
    "station.alazar.config(**ats_settings)\n",
    "\n",
    "# yoko.range(10)\n",
    "# yoko.voltage(0)\n",
    "# yoko.on()"
   ]
  },
  {
   "cell_type": "markdown",
   "metadata": {},
   "source": [
    "## Global settings"
   ]
  },
  {
   "cell_type": "code",
   "execution_count": 112,
   "metadata": {
    "collapsed": true
   },
   "outputs": [],
   "source": [
    "SAMPLE = 'ref_transmon_CD20180510'\n",
    "AWG_CHANS = {\n",
    "        1 : ['ro', 'alz_mrkr', 'ro_mrkr'],\n",
    "        2 : ['q', 'q_mrkr', None],\n",
    "    }"
   ]
  },
  {
   "cell_type": "markdown",
   "metadata": {},
   "source": [
    "## Tools"
   ]
  },
  {
   "cell_type": "code",
   "execution_count": 9,
   "metadata": {
    "collapsed": true
   },
   "outputs": [],
   "source": [
    "from pytopo.qctools import hard_sweep; reload(hard_sweep)\n",
    "from pytopo.qctools.hard_sweep import HardSweep, HardSweepDetector"
   ]
  },
  {
   "cell_type": "code",
   "execution_count": 441,
   "metadata": {
    "collapsed": true
   },
   "outputs": [],
   "source": [
    "# from qcodes.instrument.base import Instrument\n",
    "\n",
    "# class IFController(Instrument):\n",
    "    \n",
    "#     def __init__(self, name, rf_inst, lo_inst, **kw):\n",
    "#         super().__init__(name, **kw)\n",
    "        \n",
    "#         self.rf = rf_inst\n",
    "#         self.lo = lo_inst\n",
    "        \n",
    "#         pass"
   ]
  },
  {
   "cell_type": "markdown",
   "metadata": {},
   "source": [
    "### Pulse sequencer"
   ]
  },
  {
   "cell_type": "code",
   "execution_count": 14,
   "metadata": {},
   "outputs": [],
   "source": [
    "ramp = bb.PulseAtoms.ramp\n",
    "\n",
    "class BluePrints(object):\n",
    "    \n",
    "    def __init__(self, chan_map, sample_rate=1e9):\n",
    "        self.bps = {}\n",
    "        self.map = {}\n",
    "        \n",
    "        for i, lst in chan_map.items():\n",
    "            self.bps[i] = bb.BluePrint()\n",
    "            self.bps[i].setSR(sample_rate)\n",
    "            for j, name in enumerate(lst):\n",
    "                if name is not None:\n",
    "                    self.map[name] = (i, j)\n",
    "                    \n",
    "    def __getitem__(self, name):\n",
    "        if self.map[name][1] == 0:\n",
    "            return self.bps[self.map[name][0]]\n",
    "        else:\n",
    "            return getattr(self.bps[self.map[name][0]], 'marker{}'.format(self.map[name][1]))\n",
    "        \n",
    "    def __setitem__(self, name, value):\n",
    "        if self.map[name][1] == 0:\n",
    "            self.bps[self.map[name][0]] = value\n",
    "        else:\n",
    "            setattr(self.bps[self.map[name][0]], 'marker{}'.format(self.map[name][1]), value)\n",
    "        \n",
    "    def __call__(self):\n",
    "        return list(self.bps.items())\n",
    "    \n",
    "\n",
    "class BroadBeanSequence(HardSweep):\n",
    "    \n",
    "    chan_map = {}\n",
    "    \n",
    "    def __init__(self, name, awg, chan_map, **kw):\n",
    "        self.awg = awg\n",
    "        self.chan_map = chan_map\n",
    "        \n",
    "        super().__init__(name, **kw)\n",
    "        \n",
    "        self.add_parameter('sample_rate', get_cmd=None, set_cmd=None, \n",
    "                           unit='GS/s', initial_value=1e9)\n",
    "        \n",
    "    def sequence(self):\n",
    "        raise NotImplementedError\n",
    "        \n",
    "        \n",
    "    def setup(self, program_awg=True, start_awg=True):\n",
    "        super().setup()\n",
    "        \n",
    "        self.awg.stop()\n",
    "        \n",
    "        if program_awg:\n",
    "            self.awg.clock_freq(self.sample_rate())\n",
    "            seq = self.sequence()\n",
    "            pkg = seq.outputForAWGFile()\n",
    "            self.awg.make_send_and_load_awg_file(*pkg[:])\n",
    "        \n",
    "            for ch_no, ch_desc in self.chan_map.items():\n",
    "                self.awg.set('ch{}_state'.format(ch_no), 1)\n",
    "\n",
    "        if start_awg:\n",
    "            self.awg.start()\n",
    "\n",
    "        \n",
    "class SimpleAWGSpec(BroadBeanSequence):\n",
    "\n",
    "    def __init__(self, *arg, **kw):\n",
    "        \n",
    "        kw['sweep_dims'] = ['awg_sweep_idx', ]\n",
    "        \n",
    "        super().__init__(*arg, **kw)\n",
    "        \n",
    "        self.add_parameter('initial_delay', set_cmd=None,\n",
    "                           unit='s', initial_value=1e-6)\n",
    "        self.add_parameter('alazar_trigger_len', set_cmd=None,\n",
    "                           unit='s', initial_value=1e-7)\n",
    "        self.add_parameter('alazar_trigger_delay', set_cmd=None, \n",
    "                           unit='s', initial_value=1e-6)\n",
    "        self.add_parameter('seq_len', set_cmd=None, \n",
    "                           unit='s', initial_value=1e-5)\n",
    "        self.add_parameter('final_delay', set_cmd=None,\n",
    "                           unit='s', initial_value=1e-6)\n",
    "\n",
    "    def setup(self, **kw):\n",
    "        self.awg_sweep_idx([1,])\n",
    "        super().setup(**kw)\n",
    "        \n",
    "    def sequence(self):\n",
    "        elem = bb.Element()\n",
    "        \n",
    "        bps = BluePrints(self.chan_map, sample_rate=self.sample_rate())\n",
    "        \n",
    "        bps['ro'].insertSegment(0, ramp, (0, 0), dur=self.seq_len(), name='ro_segment')\n",
    "        bps['alz_mrkr'] = [(self.initial_delay(), self.alazar_trigger_len())]\n",
    "        bps['ro_mrkr'] = [(self.initial_delay() + self.alazar_trigger_delay(), \n",
    "                           self.seq_len() - self.initial_delay() - 2 * self.alazar_trigger_delay() - self.final_delay(), )]\n",
    "        \n",
    "        bps['q'].insertSegment(0, ramp, (0, 0), dur=self.seq_len(), name='q_segment')\n",
    "        bps['q_mrkr'] = [(self.initial_delay() + self.alazar_trigger_delay(), \n",
    "                          self.seq_len() - self.initial_delay() - 2 * self.alazar_trigger_delay() - self.final_delay(), )]\n",
    "        \n",
    "        \n",
    "        for n, bp in bps():\n",
    "            elem.addBluePrint(n, bp)\n",
    "            \n",
    "        seq = bb.Sequence()\n",
    "        seq.name = 'spec'\n",
    "        seq.addElement(1, elem)\n",
    "        seq.setSR(self.sample_rate())\n",
    "        \n",
    "        seq.setChannelAmplitude(1, 1)\n",
    "        seq.setChannelOffset(1, 0)\n",
    "        seq.setChannelAmplitude(2, 1)\n",
    "        seq.setChannelOffset(2, 0)\n",
    "\n",
    "        seq.setSequencingTriggerWait(1, 0)\n",
    "        seq.setSequencingGoto(1, 1)\n",
    "        \n",
    "        return seq"
   ]
  },
  {
   "cell_type": "markdown",
   "metadata": {},
   "source": [
    "### Alazar Detector"
   ]
  },
  {
   "cell_type": "code",
   "execution_count": 131,
   "metadata": {},
   "outputs": [],
   "source": [
    "class AlazarBaseDetector(HardSweepDetector):\n",
    "    \n",
    "    def __init__(self, name, acqctl, sweep_params=['buffers', 'records'], **kwargs):\n",
    "        self.acqctl = acqctl        \n",
    "        self._time = None\n",
    "        self._signal_real = None\n",
    "        self._signal_imag = None\n",
    "        self._signal_abs = None\n",
    "\n",
    "        inner_dims = []\n",
    "        for d in self.acqctl.data_dims():\n",
    "            if d not in sweep_params:\n",
    "                inner_dims.append(d)\n",
    "        \n",
    "        super().__init__(name, inner_dims=inner_dims, **kwargs)\n",
    "        \n",
    "        self.add_parameter('acquisition', get_cmd=self.do_acquisition, unit='V', snapshot_value=False)\n",
    "        self.add_parameter('signal_real', get_cmd=lambda: self._signal_real, unit='V', snapshot_value=False)\n",
    "        self.add_parameter('signal_imag', get_cmd=lambda: self._signal_imag, unit='V', snapshot_value=False)\n",
    "        self.add_parameter('signal_abs', get_cmd=lambda: self._signal_abs, unit='V', snapshot_value=False)\n",
    "        self.data_params = [self.signal_real, self.signal_imag, self.signal_abs]\n",
    "        \n",
    "        if 'samples' in self.inner_dims or 'IF_periods' in self.inner_dims:\n",
    "            self.add_parameter('time', unit='s', snapshot_value=False, \n",
    "                               get_cmd=lambda: self._time)\n",
    "\n",
    "    def setup(self):\n",
    "        ### TODO:\n",
    "        # We should have an option that it's possible to not specify all dimensions,\n",
    "        # and basically set the shape to (-1, xxx), i.e., set the first one automatic.\n",
    "        # that might then be an implicit averaging dimension, for example.\n",
    "        # then sweepers can be used for both avering over buffers, or single-shot        \n",
    "        for d in self.inner_dims:\n",
    "            idx = self.acqctl.data_dims().index(d)\n",
    "            try:\n",
    "                npts = self.acqctl.data_shape()[idx]\n",
    "            except:\n",
    "                npts = 1\n",
    "            self.set(d, np.arange(npts))\n",
    "            \n",
    "        super().setup()\n",
    "    \n",
    "    \n",
    "    def do_acquisition(self):\n",
    "        data = self.acqctl.acquisition()\n",
    "        self.setup()\n",
    "        \n",
    "        if 'samples' in self.inner_dims:\n",
    "            self._time = self.acqctl.tvals\n",
    "        elif 'IF_periods' in self.inner_dims:\n",
    "            self._time = self.acqctl.demod_tvals\n",
    "            \n",
    "        self._signal_real = np.real(data)\n",
    "        self._signal_imag = np.imag(data)\n",
    "        self._signal_abs = np.abs(data)\n",
    "        \n",
    "        return data\n",
    "\n",
    "    \n",
    "class AlazarDetector(AlazarBaseDetector):\n",
    "    \n",
    "    def __init__(self, name, acqctl, **kwargs):\n",
    "        kwargs['sweep_params'] = ['buffers', 'records']\n",
    "        \n",
    "        super().__init__(name, acqctl, **kwargs)\n",
    "        \n",
    "        self.add_parameter('avg_buffers', set_cmd=None, initial_value=True)\n",
    "        self.add_parameter('acq_time', \n",
    "                           get_cmd=lambda: self.acqctl.acq_time(), \n",
    "                           set_cmd=lambda x: self.acqctl.acq_time(x))\n",
    "        \n",
    "        if hasattr(self.acqctl, 'demod_frq'):\n",
    "            self.add_parameter('demod_frq', \n",
    "                               get_cmd=lambda: self.acqctl.demod_frq(), \n",
    "                               set_cmd=lambda x: self.acqctl.demod_frq(x))\n",
    "        \n",
    "    def configure_alazar(self, **kwargs):\n",
    "        defaults = dict(\n",
    "            buffer_timeout = 10000,\n",
    "            allocated_buffers = 1,\n",
    "        )\n",
    "        defaults.update(kwargs)\n",
    "        self.acqctl.update_acquisitionkwargs(**defaults)\n",
    "        \n",
    "    def do_acquisition(self):\n",
    "        data = super().do_acquisition()\n",
    "        \n",
    "        if self.avg_buffers():\n",
    "            bidx = self.acqctl.data_dims().index('buffers')\n",
    "            data = data.mean(axis=bidx)\n",
    "            \n",
    "            self._signal_real = np.real(data)\n",
    "            self._signal_imag = np.imag(data)\n",
    "            self._signal_abs = np.abs(data)\n",
    "            \n",
    "        return data"
   ]
  },
  {
   "cell_type": "code",
   "execution_count": null,
   "metadata": {
    "collapsed": true
   },
   "outputs": [],
   "source": []
  },
  {
   "cell_type": "code",
   "execution_count": null,
   "metadata": {},
   "outputs": [],
   "source": []
  },
  {
   "cell_type": "markdown",
   "metadata": {},
   "source": []
  },
  {
   "cell_type": "code",
   "execution_count": null,
   "metadata": {
    "collapsed": true
   },
   "outputs": [],
   "source": []
  },
  {
   "cell_type": "markdown",
   "metadata": {
    "heading_collapsed": true
   },
   "source": [
    "# CW spec"
   ]
  },
  {
   "cell_type": "markdown",
   "metadata": {
    "heading_collapsed": true,
    "hidden": true
   },
   "source": [
    "## set up sweeps/detectors"
   ]
  },
  {
   "cell_type": "code",
   "execution_count": 399,
   "metadata": {
    "hidden": true
   },
   "outputs": [
    {
     "name": "stdout",
     "output_type": "stream",
     "text": [
      "Instrument awg_spec_sweep already exists.\n",
      "Instrument iqrel_detector already exists.\n"
     ]
    }
   ],
   "source": [
    "# create the meta-instrument for the sequence, add to the qcodes station.\n",
    "awg_spec_sweep = create_inst(SimpleAWGSpec, 'awg_spec_sweep', awg=awg5014, chan_map=AWG_CHANS, force_new_instance=True)\n",
    "station = add2station(station, awg_spec_sweep)\n",
    "\n",
    "# meta-instrument for the detector (i.e., alazar acquisition)\n",
    "iqrel_detector = create_inst(AlazarDetector, name='iqrel_detector', acqctl=iqrel_acq, force_new_instance=True)\n",
    "station = add2station(station, iqrel_detector)\n",
    "\n",
    "demodrel_detector = create_inst(AlazarDetector, name='demodrel_detector', acqctl=demodrel_acq, force_new_instance=True)\n",
    "station = add2station(station, demodrel_detector)"
   ]
  },
  {
   "cell_type": "markdown",
   "metadata": {
    "heading_collapsed": true,
    "hidden": true
   },
   "source": [
    "## RO spec"
   ]
  },
  {
   "cell_type": "markdown",
   "metadata": {
    "hidden": true
   },
   "source": [
    "### Experiment settings"
   ]
  },
  {
   "cell_type": "code",
   "execution_count": 106,
   "metadata": {
    "collapsed": true,
    "hidden": true
   },
   "outputs": [],
   "source": [
    "# demod frequency\n",
    "IF = 20e6\n",
    "# experiment name\n",
    "exp = select_experiment('readout_spec', SAMPLE)\n",
    "# averaging\n",
    "navgs = 100\n",
    "# Spectroscopy frequencies\n",
    "rf_frqs = np.linspace(7.148e9, 7.152e9, 81)[:]\n",
    "\n",
    "# Flux\n",
    "# yoko.on()\n",
    "# yoko.ramp_voltage(0.0, 1e-3, 0.01)"
   ]
  },
  {
   "cell_type": "code",
   "execution_count": 104,
   "metadata": {
    "collapsed": true,
    "hidden": true
   },
   "outputs": [],
   "source": [
    "### Set up the Sweeper\n",
    "\n",
    "# AWG sampling rate (in Hz)\n",
    "awg_spec_sweep.sample_rate(1e9)\n",
    "# sequence length (in s). Up to buffers at the edges this is the integration time per AWG sweep.\n",
    "awg_spec_sweep.seq_len(100e-6)\n",
    "# and setup the sequence (will program the awg)\n",
    "awg_spec_sweep.setup()"
   ]
  },
  {
   "cell_type": "code",
   "execution_count": 109,
   "metadata": {
    "hidden": true
   },
   "outputs": [
    {
     "name": "stdout",
     "output_type": "stream",
     "text": [
      "['awg_sweep_idx'] (1,) (10000, 51)\n"
     ]
    }
   ],
   "source": [
    "### Set up the detector\n",
    "\n",
    "# set the sweeper\n",
    "iqrel_detector.set_sweeper(awg_spec_sweep)\n",
    "# acquisition time\n",
    "iqrel_detector.acq_time(awg_spec_sweep.seq_len() - 2e-6)\n",
    "# demod frequency\n",
    "iqrel_detector.demod_frq(IF)\n",
    "# HW config, and how data is shaped.\n",
    "iqrel_detector.configure_alazar(\n",
    "    records_per_buffer=1,\n",
    "    buffers_per_acquisition=navgs,\n",
    ")\n",
    "iqrel_detector.setup()\n",
    "\n",
    "print(iqrel_detector.sweep_dims, iqrel_detector.sweep_shape)"
   ]
  },
  {
   "cell_type": "markdown",
   "metadata": {
    "hidden": true
   },
   "source": [
    "### Run"
   ]
  },
  {
   "cell_type": "code",
   "execution_count": 110,
   "metadata": {
    "hidden": true
   },
   "outputs": [
    {
     "name": "stdout",
     "output_type": "stream",
     "text": [
      "Starting experimental run with id: 128\n"
     ]
    }
   ],
   "source": [
    "# after setting up, we can create the measurement object.\n",
    "# Note: we need to tell it ALL parameters and how they are related. \n",
    "# For simple cases, this wrapper does it.\n",
    "meas = hard_sweep.make_measurement('results', exp=exp, \n",
    "                                   hard_sweep_detector=iqrel_detector,\n",
    "                                   soft_sweep_params=[RF.frequency, ])\n",
    "\n",
    "# how often we write to the database\n",
    "meas.write_period = 1\n",
    "\n",
    "# the measurement loop\n",
    "with meas.run() as datasaver:\n",
    "    # this enables live plotting with the plottr\n",
    "    datasaver.dataset.subscribe(\n",
    "        QcodesDatasetSubscriber(datasaver.dataset), \n",
    "        state=[], min_wait=0, min_count=1,\n",
    "    )\n",
    "    \n",
    "    # software sweep of the RF frequency\n",
    "    for f in rf_frqs:\n",
    "        RF.frequency(f)\n",
    "        LO.frequency(f + IF)\n",
    "        time.sleep(0.2)\n",
    "        \n",
    "        # this runs the Alazar, and returns demodulated data.\n",
    "        iqrel_detector.acquisition()\n",
    "        \n",
    "        # now that the data is here, we can pass the data to the dataset\n",
    "        # get all sweep params in the right format (depends on the acquisition controller we use)\n",
    "        # this is important so we know how to get data back in the right shape\n",
    "        result = iqrel_detector.get_sweep_coords()\n",
    "        \n",
    "        # add also the soft sweep params...\n",
    "        result += [(RF.frequency, f)]\n",
    "        \n",
    "        # and add the data\n",
    "        result += [(iqrel_detector.signal_real, iqrel_detector.signal_real().reshape(-1).astype(float))]\n",
    "        result += [(iqrel_detector.signal_imag, iqrel_detector.signal_imag().reshape(-1).astype(float))]\n",
    "        result += [(iqrel_detector.signal_abs, iqrel_detector.signal_abs().reshape(-1).astype(float))]\n",
    "        \n",
    "        datasaver.add_result(*result)"
   ]
  },
  {
   "cell_type": "markdown",
   "metadata": {
    "heading_collapsed": true,
    "hidden": true
   },
   "source": [
    "## Qubit Spec"
   ]
  },
  {
   "cell_type": "markdown",
   "metadata": {
    "heading_collapsed": true,
    "hidden": true
   },
   "source": [
    "### Basic config"
   ]
  },
  {
   "cell_type": "code",
   "execution_count": 244,
   "metadata": {
    "collapsed": true,
    "hidden": true
   },
   "outputs": [],
   "source": [
    "# demod frequency\n",
    "IF = 20e6\n",
    "# Readout frq\n",
    "RF.frequency(7.151e9)\n",
    "LO.frequency(RF.frequency() + IF)\n",
    "# experiment name\n",
    "exp = select_experiment('qubit_spec', SAMPLE)\n",
    "# averages\n",
    "navgs = 1000\n",
    "# spec frqs\n",
    "q_frqs = np.linspace(5.1e9, 5.6e9, 251)"
   ]
  },
  {
   "cell_type": "markdown",
   "metadata": {
    "heading_collapsed": true,
    "hidden": true
   },
   "source": [
    "### Sweeper and detector"
   ]
  },
  {
   "cell_type": "code",
   "execution_count": 245,
   "metadata": {
    "hidden": true
   },
   "outputs": [
    {
     "name": "stdout",
     "output_type": "stream",
     "text": [
      "['awg_sweep_idx'] (1,)\n"
     ]
    }
   ],
   "source": [
    "### SWEEPER\n",
    "# AWG sampling rate (in Hz)\n",
    "awg_spec_sweep.sample_rate(1e9)\n",
    "# sequence length (in s). Up to buffers at the edges this is the integration time per AWG sweep.\n",
    "awg_spec_sweep.seq_len(100e-6)\n",
    "# and setup the sequence (will program the awg)\n",
    "awg_spec_sweep.setup()\n",
    "\n",
    "\n",
    "### DETECTOR\n",
    "det = iqrel_detector\n",
    "\n",
    "# set the sweeper\n",
    "det.set_sweeper(awg_spec_sweep)\n",
    "# acquisition time\n",
    "det.acq_time(awg_spec_sweep.seq_len() - 2e-6)\n",
    "# demod frequency\n",
    "det.demod_frq(IF)\n",
    "# HW config, and how data is shaped.\n",
    "det.configure_alazar(\n",
    "    records_per_buffer=1,\n",
    "    buffers_per_acquisition=navgs,\n",
    ")\n",
    "det.setup()\n",
    "\n",
    "print(det.sweep_dims, det.sweep_shape)"
   ]
  },
  {
   "cell_type": "markdown",
   "metadata": {
    "heading_collapsed": true,
    "hidden": true
   },
   "source": [
    "### Run"
   ]
  },
  {
   "cell_type": "code",
   "execution_count": 246,
   "metadata": {
    "hidden": true
   },
   "outputs": [
    {
     "name": "stdout",
     "output_type": "stream",
     "text": [
      "Starting experimental run with id: 168\n"
     ]
    },
    {
     "ename": "KeyboardInterrupt",
     "evalue": "",
     "output_type": "error",
     "traceback": [
      "\u001b[1;31m---------------------------------------------------------------------------\u001b[0m",
      "\u001b[1;31mKeyboardInterrupt\u001b[0m                         Traceback (most recent call last)",
      "\u001b[1;32m<ipython-input-246-7cf059e8481b>\u001b[0m in \u001b[0;36m<module>\u001b[1;34m()\u001b[0m\n\u001b[0;32m     22\u001b[0m \u001b[1;33m\u001b[0m\u001b[0m\n\u001b[0;32m     23\u001b[0m         \u001b[1;31m# this runs the Alazar, and returns demodulated data.\u001b[0m\u001b[1;33m\u001b[0m\u001b[1;33m\u001b[0m\u001b[0m\n\u001b[1;32m---> 24\u001b[1;33m         \u001b[0mdet\u001b[0m\u001b[1;33m.\u001b[0m\u001b[0macquisition\u001b[0m\u001b[1;33m(\u001b[0m\u001b[1;33m)\u001b[0m\u001b[1;33m\u001b[0m\u001b[0m\n\u001b[0m\u001b[0;32m     25\u001b[0m \u001b[1;33m\u001b[0m\u001b[0m\n\u001b[0;32m     26\u001b[0m         \u001b[1;31m# now that the data is here, we can pass the data to the dataset\u001b[0m\u001b[1;33m\u001b[0m\u001b[1;33m\u001b[0m\u001b[0m\n",
      "\u001b[1;32mD:\\Code\\Qcodes\\qcodes\\instrument\\parameter.py\u001b[0m in \u001b[0;36m__call__\u001b[1;34m(self, *args, **kwargs)\u001b[0m\n\u001b[0;32m    242\u001b[0m         \u001b[1;32mif\u001b[0m \u001b[0mlen\u001b[0m\u001b[1;33m(\u001b[0m\u001b[0margs\u001b[0m\u001b[1;33m)\u001b[0m \u001b[1;33m==\u001b[0m \u001b[1;36m0\u001b[0m\u001b[1;33m:\u001b[0m\u001b[1;33m\u001b[0m\u001b[0m\n\u001b[0;32m    243\u001b[0m             \u001b[1;32mif\u001b[0m \u001b[0mhasattr\u001b[0m\u001b[1;33m(\u001b[0m\u001b[0mself\u001b[0m\u001b[1;33m,\u001b[0m \u001b[1;34m'get'\u001b[0m\u001b[1;33m)\u001b[0m\u001b[1;33m:\u001b[0m\u001b[1;33m\u001b[0m\u001b[0m\n\u001b[1;32m--> 244\u001b[1;33m                 \u001b[1;32mreturn\u001b[0m \u001b[0mself\u001b[0m\u001b[1;33m.\u001b[0m\u001b[0mget\u001b[0m\u001b[1;33m(\u001b[0m\u001b[1;33m)\u001b[0m\u001b[1;33m\u001b[0m\u001b[0m\n\u001b[0m\u001b[0;32m    245\u001b[0m             \u001b[1;32melse\u001b[0m\u001b[1;33m:\u001b[0m\u001b[1;33m\u001b[0m\u001b[0m\n\u001b[0;32m    246\u001b[0m                 raise NotImplementedError('no get cmd found in' +\n",
      "\u001b[1;32mD:\\Code\\Qcodes\\qcodes\\instrument\\parameter.py\u001b[0m in \u001b[0;36mget_wrapper\u001b[1;34m(*args, **kwargs)\u001b[0m\n\u001b[0;32m    319\u001b[0m             \u001b[1;32mtry\u001b[0m\u001b[1;33m:\u001b[0m\u001b[1;33m\u001b[0m\u001b[0m\n\u001b[0;32m    320\u001b[0m                 \u001b[1;31m# There might be cases where a .get also has args/kwargs\u001b[0m\u001b[1;33m\u001b[0m\u001b[1;33m\u001b[0m\u001b[0m\n\u001b[1;32m--> 321\u001b[1;33m                 \u001b[0mvalue\u001b[0m \u001b[1;33m=\u001b[0m \u001b[0mget_function\u001b[0m\u001b[1;33m(\u001b[0m\u001b[1;33m*\u001b[0m\u001b[0margs\u001b[0m\u001b[1;33m,\u001b[0m \u001b[1;33m**\u001b[0m\u001b[0mkwargs\u001b[0m\u001b[1;33m)\u001b[0m\u001b[1;33m\u001b[0m\u001b[0m\n\u001b[0m\u001b[0;32m    322\u001b[0m                 \u001b[0mself\u001b[0m\u001b[1;33m.\u001b[0m\u001b[0mraw_value\u001b[0m \u001b[1;33m=\u001b[0m \u001b[0mvalue\u001b[0m\u001b[1;33m\u001b[0m\u001b[0m\n\u001b[0;32m    323\u001b[0m \u001b[1;33m\u001b[0m\u001b[0m\n",
      "\u001b[1;32mD:\\Code\\Qcodes\\qcodes\\utils\\command.py\u001b[0m in \u001b[0;36m__call__\u001b[1;34m(self, *args)\u001b[0m\n\u001b[0;32m    175\u001b[0m             raise TypeError(\n\u001b[0;32m    176\u001b[0m                 'command takes exactly {} args'.format(self.arg_count))\n\u001b[1;32m--> 177\u001b[1;33m         \u001b[1;32mreturn\u001b[0m \u001b[0mself\u001b[0m\u001b[1;33m.\u001b[0m\u001b[0mexec_function\u001b[0m\u001b[1;33m(\u001b[0m\u001b[1;33m*\u001b[0m\u001b[0margs\u001b[0m\u001b[1;33m)\u001b[0m\u001b[1;33m\u001b[0m\u001b[0m\n\u001b[0m",
      "\u001b[1;32m<ipython-input-131-cfe1b05bcc82>\u001b[0m in \u001b[0;36mdo_acquisition\u001b[1;34m(self)\u001b[0m\n\u001b[0;32m     84\u001b[0m \u001b[1;33m\u001b[0m\u001b[0m\n\u001b[0;32m     85\u001b[0m     \u001b[1;32mdef\u001b[0m \u001b[0mdo_acquisition\u001b[0m\u001b[1;33m(\u001b[0m\u001b[0mself\u001b[0m\u001b[1;33m)\u001b[0m\u001b[1;33m:\u001b[0m\u001b[1;33m\u001b[0m\u001b[0m\n\u001b[1;32m---> 86\u001b[1;33m         \u001b[0mdata\u001b[0m \u001b[1;33m=\u001b[0m \u001b[0msuper\u001b[0m\u001b[1;33m(\u001b[0m\u001b[1;33m)\u001b[0m\u001b[1;33m.\u001b[0m\u001b[0mdo_acquisition\u001b[0m\u001b[1;33m(\u001b[0m\u001b[1;33m)\u001b[0m\u001b[1;33m\u001b[0m\u001b[0m\n\u001b[0m\u001b[0;32m     87\u001b[0m \u001b[1;33m\u001b[0m\u001b[0m\n\u001b[0;32m     88\u001b[0m         \u001b[1;32mif\u001b[0m \u001b[0mself\u001b[0m\u001b[1;33m.\u001b[0m\u001b[0mavg_buffers\u001b[0m\u001b[1;33m(\u001b[0m\u001b[1;33m)\u001b[0m\u001b[1;33m:\u001b[0m\u001b[1;33m\u001b[0m\u001b[0m\n",
      "\u001b[1;32m<ipython-input-131-cfe1b05bcc82>\u001b[0m in \u001b[0;36mdo_acquisition\u001b[1;34m(self)\u001b[0m\n\u001b[0;32m     43\u001b[0m \u001b[1;33m\u001b[0m\u001b[0m\n\u001b[0;32m     44\u001b[0m     \u001b[1;32mdef\u001b[0m \u001b[0mdo_acquisition\u001b[0m\u001b[1;33m(\u001b[0m\u001b[0mself\u001b[0m\u001b[1;33m)\u001b[0m\u001b[1;33m:\u001b[0m\u001b[1;33m\u001b[0m\u001b[0m\n\u001b[1;32m---> 45\u001b[1;33m         \u001b[0mdata\u001b[0m \u001b[1;33m=\u001b[0m \u001b[0mself\u001b[0m\u001b[1;33m.\u001b[0m\u001b[0macqctl\u001b[0m\u001b[1;33m.\u001b[0m\u001b[0macquisition\u001b[0m\u001b[1;33m(\u001b[0m\u001b[1;33m)\u001b[0m\u001b[1;33m\u001b[0m\u001b[0m\n\u001b[0m\u001b[0;32m     46\u001b[0m         \u001b[0mself\u001b[0m\u001b[1;33m.\u001b[0m\u001b[0msetup\u001b[0m\u001b[1;33m(\u001b[0m\u001b[1;33m)\u001b[0m\u001b[1;33m\u001b[0m\u001b[0m\n\u001b[0;32m     47\u001b[0m \u001b[1;33m\u001b[0m\u001b[0m\n",
      "\u001b[1;32mD:\\Code\\Qcodes\\qcodes\\instrument\\parameter.py\u001b[0m in \u001b[0;36m__call__\u001b[1;34m(self, *args, **kwargs)\u001b[0m\n\u001b[0;32m    242\u001b[0m         \u001b[1;32mif\u001b[0m \u001b[0mlen\u001b[0m\u001b[1;33m(\u001b[0m\u001b[0margs\u001b[0m\u001b[1;33m)\u001b[0m \u001b[1;33m==\u001b[0m \u001b[1;36m0\u001b[0m\u001b[1;33m:\u001b[0m\u001b[1;33m\u001b[0m\u001b[0m\n\u001b[0;32m    243\u001b[0m             \u001b[1;32mif\u001b[0m \u001b[0mhasattr\u001b[0m\u001b[1;33m(\u001b[0m\u001b[0mself\u001b[0m\u001b[1;33m,\u001b[0m \u001b[1;34m'get'\u001b[0m\u001b[1;33m)\u001b[0m\u001b[1;33m:\u001b[0m\u001b[1;33m\u001b[0m\u001b[0m\n\u001b[1;32m--> 244\u001b[1;33m                 \u001b[1;32mreturn\u001b[0m \u001b[0mself\u001b[0m\u001b[1;33m.\u001b[0m\u001b[0mget\u001b[0m\u001b[1;33m(\u001b[0m\u001b[1;33m)\u001b[0m\u001b[1;33m\u001b[0m\u001b[0m\n\u001b[0m\u001b[0;32m    245\u001b[0m             \u001b[1;32melse\u001b[0m\u001b[1;33m:\u001b[0m\u001b[1;33m\u001b[0m\u001b[0m\n\u001b[0;32m    246\u001b[0m                 raise NotImplementedError('no get cmd found in' +\n",
      "\u001b[1;32mD:\\Code\\Qcodes\\qcodes\\instrument\\parameter.py\u001b[0m in \u001b[0;36mget_wrapper\u001b[1;34m(*args, **kwargs)\u001b[0m\n\u001b[0;32m    319\u001b[0m             \u001b[1;32mtry\u001b[0m\u001b[1;33m:\u001b[0m\u001b[1;33m\u001b[0m\u001b[0m\n\u001b[0;32m    320\u001b[0m                 \u001b[1;31m# There might be cases where a .get also has args/kwargs\u001b[0m\u001b[1;33m\u001b[0m\u001b[1;33m\u001b[0m\u001b[0m\n\u001b[1;32m--> 321\u001b[1;33m                 \u001b[0mvalue\u001b[0m \u001b[1;33m=\u001b[0m \u001b[0mget_function\u001b[0m\u001b[1;33m(\u001b[0m\u001b[1;33m*\u001b[0m\u001b[0margs\u001b[0m\u001b[1;33m,\u001b[0m \u001b[1;33m**\u001b[0m\u001b[0mkwargs\u001b[0m\u001b[1;33m)\u001b[0m\u001b[1;33m\u001b[0m\u001b[0m\n\u001b[0m\u001b[0;32m    322\u001b[0m                 \u001b[0mself\u001b[0m\u001b[1;33m.\u001b[0m\u001b[0mraw_value\u001b[0m \u001b[1;33m=\u001b[0m \u001b[0mvalue\u001b[0m\u001b[1;33m\u001b[0m\u001b[0m\n\u001b[0;32m    323\u001b[0m \u001b[1;33m\u001b[0m\u001b[0m\n",
      "\u001b[1;32mD:\\Code\\Qcodes\\qcodes\\utils\\command.py\u001b[0m in \u001b[0;36m__call__\u001b[1;34m(self, *args)\u001b[0m\n\u001b[0;32m    175\u001b[0m             raise TypeError(\n\u001b[0;32m    176\u001b[0m                 'command takes exactly {} args'.format(self.arg_count))\n\u001b[1;32m--> 177\u001b[1;33m         \u001b[1;32mreturn\u001b[0m \u001b[0mself\u001b[0m\u001b[1;33m.\u001b[0m\u001b[0mexec_function\u001b[0m\u001b[1;33m(\u001b[0m\u001b[1;33m*\u001b[0m\u001b[0margs\u001b[0m\u001b[1;33m)\u001b[0m\u001b[1;33m\u001b[0m\u001b[0m\n\u001b[0m",
      "\u001b[1;32md:\\Code\\pytopo\\pytopo\\rf\\alazar_acquisition.py\u001b[0m in \u001b[0;36mdo_acquisition\u001b[1;34m(self)\u001b[0m\n\u001b[0;32m    109\u001b[0m         \u001b[1;33m:\u001b[0m\u001b[1;32mreturn\u001b[0m\u001b[1;33m:\u001b[0m\u001b[1;33m\u001b[0m\u001b[0m\n\u001b[0;32m    110\u001b[0m         \"\"\"\n\u001b[1;32m--> 111\u001b[1;33m         \u001b[0mvalue\u001b[0m \u001b[1;33m=\u001b[0m \u001b[0mself\u001b[0m\u001b[1;33m.\u001b[0m\u001b[0m_get_alazar\u001b[0m\u001b[1;33m(\u001b[0m\u001b[1;33m)\u001b[0m\u001b[1;33m.\u001b[0m\u001b[0macquire\u001b[0m\u001b[1;33m(\u001b[0m\u001b[0macquisition_controller\u001b[0m\u001b[1;33m=\u001b[0m\u001b[0mself\u001b[0m\u001b[1;33m,\u001b[0m \u001b[1;33m**\u001b[0m\u001b[0mself\u001b[0m\u001b[1;33m.\u001b[0m\u001b[0macquisitionkwargs\u001b[0m\u001b[1;33m)\u001b[0m\u001b[1;33m\u001b[0m\u001b[0m\n\u001b[0m\u001b[0;32m    112\u001b[0m         \u001b[1;32mreturn\u001b[0m \u001b[0mvalue\u001b[0m\u001b[1;33m\u001b[0m\u001b[0m\n\u001b[0;32m    113\u001b[0m \u001b[1;33m\u001b[0m\u001b[0m\n",
      "\u001b[1;32mD:\\Code\\Qcodes\\qcodes\\instrument_drivers\\AlazarTech\\ATS.py\u001b[0m in \u001b[0;36macquire\u001b[1;34m(self, mode, samples_per_record, records_per_buffer, buffers_per_acquisition, channel_selection, transfer_offset, external_startcapture, enable_record_headers, alloc_buffers, fifo_only_streaming, interleave_samples, get_processed_data, allocated_buffers, buffer_timeout, acquisition_controller)\u001b[0m\n\u001b[0;32m    717\u001b[0m                     \u001b[0macquisition_controller\u001b[0m\u001b[1;33m.\u001b[0m\u001b[0mhandle_buffer\u001b[0m\u001b[1;33m(\u001b[0m\u001b[0mbuf\u001b[0m\u001b[1;33m.\u001b[0m\u001b[0mbuffer\u001b[0m\u001b[1;33m,\u001b[0m \u001b[0mbuffers_completed\u001b[0m\u001b[1;33m)\u001b[0m\u001b[1;33m\u001b[0m\u001b[0m\n\u001b[0;32m    718\u001b[0m                     self._call_dll('AlazarPostAsyncBuffer',\n\u001b[1;32m--> 719\u001b[1;33m                                    self._handle, ctypes.cast(buf.addr, ctypes.c_void_p), buf.size_bytes)\n\u001b[0m\u001b[0;32m    720\u001b[0m                 \u001b[0mbuffers_completed\u001b[0m \u001b[1;33m+=\u001b[0m \u001b[1;36m1\u001b[0m\u001b[1;33m\u001b[0m\u001b[0m\n\u001b[0;32m    721\u001b[0m                 \u001b[0mbytes_transferred\u001b[0m \u001b[1;33m+=\u001b[0m \u001b[0mbuf\u001b[0m\u001b[1;33m.\u001b[0m\u001b[0msize_bytes\u001b[0m\u001b[1;33m\u001b[0m\u001b[0m\n",
      "\u001b[1;32mD:\\Code\\Qcodes\\qcodes\\instrument_drivers\\AlazarTech\\ATS.py\u001b[0m in \u001b[0;36m_call_dll\u001b[1;34m(self, func_name, *args)\u001b[0m\n\u001b[0;32m    806\u001b[0m         \u001b[0mfunc\u001b[0m \u001b[1;33m=\u001b[0m \u001b[0mgetattr\u001b[0m\u001b[1;33m(\u001b[0m\u001b[0mself\u001b[0m\u001b[1;33m.\u001b[0m\u001b[0m_ATS_dll\u001b[0m\u001b[1;33m,\u001b[0m \u001b[0mfunc_name\u001b[0m\u001b[1;33m)\u001b[0m\u001b[1;33m\u001b[0m\u001b[0m\n\u001b[0;32m    807\u001b[0m         \u001b[1;32mtry\u001b[0m\u001b[1;33m:\u001b[0m\u001b[1;33m\u001b[0m\u001b[0m\n\u001b[1;32m--> 808\u001b[1;33m             \u001b[0mreturn_code\u001b[0m \u001b[1;33m=\u001b[0m \u001b[0mfunc\u001b[0m\u001b[1;33m(\u001b[0m\u001b[1;33m*\u001b[0m\u001b[0margs_out\u001b[0m\u001b[1;33m)\u001b[0m\u001b[1;33m\u001b[0m\u001b[0m\n\u001b[0m\u001b[0;32m    809\u001b[0m         \u001b[1;32mexcept\u001b[0m \u001b[0mException\u001b[0m \u001b[1;32mas\u001b[0m \u001b[0me\u001b[0m\u001b[1;33m:\u001b[0m\u001b[1;33m\u001b[0m\u001b[0m\n\u001b[0;32m    810\u001b[0m             \u001b[0mlogger\u001b[0m\u001b[1;33m.\u001b[0m\u001b[0merror\u001b[0m\u001b[1;33m(\u001b[0m\u001b[0me\u001b[0m\u001b[1;33m)\u001b[0m\u001b[1;33m\u001b[0m\u001b[0m\n",
      "\u001b[1;31mKeyboardInterrupt\u001b[0m: "
     ]
    }
   ],
   "source": [
    "meas = hard_sweep.make_measurement('results', exp=exp, \n",
    "                                   hard_sweep_detector=det,\n",
    "                                   soft_sweep_params=[qubit_gen.frequency, ])\n",
    "\n",
    "# how often we write to the database\n",
    "meas.write_period = 1\n",
    "\n",
    "# the measurement loop\n",
    "with meas.run() as datasaver:\n",
    "    # this enables live plotting with the plottr\n",
    "    datasaver.dataset.subscribe(\n",
    "        QcodesDatasetSubscriber(datasaver.dataset), \n",
    "        state=[], min_wait=0, min_count=1,\n",
    "    )\n",
    "    \n",
    "    qubit_gen.on()\n",
    "    \n",
    "    # software sweep of the RF frequency\n",
    "    for f in q_frqs:\n",
    "        qubit_gen.frequency(f)\n",
    "        time.sleep(0.2)\n",
    "        \n",
    "        # this runs the Alazar, and returns demodulated data.\n",
    "        det.acquisition()\n",
    "        \n",
    "        # now that the data is here, we can pass the data to the dataset\n",
    "        # get all sweep params in the right format (depends on the acquisition controller we use)\n",
    "        # this is important so we know how to get data back in the right shape\n",
    "        result = det.get_sweep_coords()\n",
    "        \n",
    "        # add also the soft sweep params...\n",
    "        result += [(qubit_gen.frequency, f)]\n",
    "        \n",
    "        # and add the data\n",
    "        result += [(det.signal_real, det.signal_real().reshape(-1).astype(float))]\n",
    "        result += [(det.signal_imag, det.signal_imag().reshape(-1).astype(float))]\n",
    "        result += [(det.signal_abs, det.signal_abs().reshape(-1).astype(float))]\n",
    "        \n",
    "        datasaver.add_result(*result)"
   ]
  },
  {
   "cell_type": "code",
   "execution_count": null,
   "metadata": {
    "collapsed": true,
    "hidden": true
   },
   "outputs": [],
   "source": []
  },
  {
   "cell_type": "code",
   "execution_count": null,
   "metadata": {
    "collapsed": true,
    "hidden": true
   },
   "outputs": [],
   "source": []
  },
  {
   "cell_type": "code",
   "execution_count": null,
   "metadata": {
    "collapsed": true,
    "hidden": true
   },
   "outputs": [],
   "source": []
  },
  {
   "cell_type": "markdown",
   "metadata": {},
   "source": [
    "# TD Experiments"
   ]
  },
  {
   "cell_type": "markdown",
   "metadata": {
    "heading_collapsed": true
   },
   "source": [
    "## Some Testing"
   ]
  },
  {
   "cell_type": "markdown",
   "metadata": {
    "heading_collapsed": true,
    "hidden": true
   },
   "source": [
    "### Define tools"
   ]
  },
  {
   "cell_type": "code",
   "execution_count": null,
   "metadata": {
    "hidden": true
   },
   "outputs": [],
   "source": [
    "class TDTestSequence(BroadBeanSequence):\n",
    "\n",
    "    def __init__(self, *arg, **kw):\n",
    "        \n",
    "        kw['sweep_dims'] = ['averages', 'ro_length', ]\n",
    "        kw['sweep_units'] = ['', 's', ]\n",
    "        \n",
    "        super().__init__(*arg, **kw)\n",
    "        \n",
    "        self.add_parameter('initial_delay', set_cmd=None,\n",
    "                           unit='s', initial_value=1e-6)\n",
    "        self.add_parameter('alazar_trigger_len', set_cmd=None,\n",
    "                           unit='s', initial_value=1e-7)\n",
    "        self.add_parameter('alazar_trigger_delay', set_cmd=None, \n",
    "                           unit='s', initial_value=1e-6)\n",
    "        self.add_parameter('seq_len', set_cmd=None, \n",
    "                           unit='s', initial_value=1e-5)\n",
    "        \n",
    "        self.add_parameter('start_len', set_cmd=None, unit='s', initial_value=1e-6)\n",
    "        self.add_parameter('stop_len', set_cmd=None, unit='s', initial_value=5e-6)\n",
    "        self.add_parameter('len_pts', set_cmd=None, initial_value=5)\n",
    "        self.add_parameter('n_averages', set_cmd=None, initial_value=1)\n",
    "\n",
    "    def setup(self, **kw):\n",
    "        self.averages(np.arange(self.n_averages()))\n",
    "        self.ro_length(np.linspace(self.start_len(), self.stop_len(), self.len_pts()))\n",
    "        super().setup(**kw)\n",
    "        \n",
    "    def sequence(self):\n",
    "        elem = bb.Element()\n",
    "        seq = bb.Sequence()\n",
    "        seq.name = 'td_test'\n",
    "        \n",
    "        for i, length in enumerate(self.ro_length()):\n",
    "            bps = BluePrints(self.chan_map, sample_rate=self.sample_rate())\n",
    "            bps['ro'].insertSegment(0, ramp, (0, 0), dur=self.seq_len(), name='ro_segment'.format(i))\n",
    "            bps['alz_mrkr'] = [(self.initial_delay(), self.alazar_trigger_len())]\n",
    "            bps['ro_mrkr'] = [(self.initial_delay() + self.alazar_trigger_delay(), length, )]\n",
    "            bps['q'].insertSegment(0, ramp, (0, 0), dur=self.seq_len(), name='q_segment'.format(i))\n",
    "\n",
    "            for n, bp in bps():\n",
    "                elem.addBluePrint(n, bp)\n",
    "        \n",
    "            seq.addElement(i+1, elem)\n",
    "            \n",
    "            seq.setSequencingTriggerWait(i+1, 0)\n",
    "            seq.setSequencingGoto(i+1, (i+2)%self.len_pts())\n",
    "        \n",
    "        \n",
    "        seq.setSR(self.sample_rate())\n",
    "        \n",
    "        seq.setChannelAmplitude(1, 1)\n",
    "        seq.setChannelOffset(1, 0)\n",
    "        seq.setChannelAmplitude(2, 1)\n",
    "        seq.setChannelOffset(2, 0)\n",
    "\n",
    "        return seq\n",
    "    \n",
    "\n",
    "# channel map. note that at this moment the analog channels are required, even if we don't do anything with them.\n",
    "awg_chan_map = {\n",
    "        1 : ['ro', 'alz_mrkr', 'ro_mrkr'],\n",
    "        2 : ['q', 'q_mrkr', None],\n",
    "    }\n",
    "\n",
    "# create the meta-instrument for the sequence, add to the qcodes station.\n",
    "td_test_sweep = create_inst(TDTestSequence, 'td_test_sweep', awg=awg5014, chan_map=awg_chan_map, force_new_instance=True)\n",
    "station = add2station(station, td_test_sweep)\n",
    "\n",
    "# create the detector instrument\n",
    "# ctl = demodrel_acq\n",
    "ctl = iqrel_acq\n",
    "td_test_detector = create_inst(AlazarDetector, name='td_test_detector', acqctl=ctl, \n",
    "                               sweep_params=['buffers', 'records',], force_new_instance=True)\n",
    "\n",
    "station = add2station(station, td_test_detector)"
   ]
  },
  {
   "cell_type": "markdown",
   "metadata": {
    "heading_collapsed": true,
    "hidden": true
   },
   "source": [
    "### Configure experiments"
   ]
  },
  {
   "cell_type": "code",
   "execution_count": null,
   "metadata": {
    "hidden": true
   },
   "outputs": [],
   "source": [
    "exp = select_experiment('TD_test', SAMPLE)\n",
    "\n",
    "# set generators to RF frq\n",
    "IF = 20e6\n",
    "RF.frequency(7.15e9)\n",
    "LO.frequency(RF.frequency() + IF)\n",
    "awg5014.stop()\n",
    "\n",
    "### Configure the AWG sweep\n",
    "\n",
    "# AWG sampling rate (in Hz)\n",
    "td_test_sweep.sample_rate(1e9)\n",
    "\n",
    "# sequence length (in s). Up to buffers at the edges this is the integration time per AWG sweep.\n",
    "td_test_sweep.seq_len(100e-6)\n",
    "td_test_sweep.start_len(10e-6)\n",
    "td_test_sweep.stop_len(50e-6)\n",
    "td_test_sweep.len_pts(6)\n",
    "td_test_sweep.n_averages(10)\n",
    "\n",
    "# and setup the sequence (will program the awg)\n",
    "td_test_sweep.setup(start_awg=False, program_awg=True)\n",
    "\n",
    "\n",
    "### Configure the detector\n",
    "td_test_detector.set_sweeper(td_test_sweep)\n",
    "\n",
    "# setup acquisition controller and detector\n",
    "def trigger_func(do_start):\n",
    "    if do_start:\n",
    "        station.awg5014.start()\n",
    "    else:\n",
    "        pass\n",
    "\n",
    "ctl.trigger_func = trigger_func\n",
    "\n",
    "# Configure Alazar acquisition controller\n",
    "# acquisition time\n",
    "ctl.acq_time(80e-6)\n",
    "\n",
    "# demod frequency\n",
    "ctl.demod_frq(IF)\n",
    "\n",
    "# HW config, and how data is shaped.\n",
    "ctl.update_acquisitionkwargs(\n",
    "    # the sweep is now encoded in the records\n",
    "    records_per_buffer=td_test_sweep.len_pts(), \n",
    "    \n",
    "    # this is for averaging by repeating the sequence; ie, number of averages per 'shot'.\n",
    "    buffers_per_acquisition=td_test_sweep.n_averages(),\n",
    "    \n",
    "    # leave as is for now.\n",
    "    buffer_timeout=10000,\n",
    "    allocated_buffers=1\n",
    ")\n",
    "\n",
    "# setup the detector\n",
    "td_test_detector.setup()"
   ]
  },
  {
   "cell_type": "code",
   "execution_count": null,
   "metadata": {
    "hidden": true
   },
   "outputs": [],
   "source": [
    "print(td_test_detector.sweep_dims, td_test_detector.sweep_shape)"
   ]
  },
  {
   "cell_type": "code",
   "execution_count": null,
   "metadata": {
    "hidden": true
   },
   "outputs": [],
   "source": [
    "# after setting up, we can create the measurement object.\n",
    "meas = hard_sweep.make_measurement('results', exp=exp, \n",
    "                                   hard_sweep_detector=td_test_detector,)\n",
    "\n",
    "# the measurement loop\n",
    "with meas.run() as datasaver:\n",
    "    td_test_detector.acquisition()\n",
    "        \n",
    "    # add to dataset\n",
    "    result = td_test_detector.get_sweep_coords()\n",
    "\n",
    "    # and add the data\n",
    "    result += [(td_test_detector.signal_real, td_test_detector.signal_real().reshape(-1).astype(float))]\n",
    "    result += [(td_test_detector.signal_imag, td_test_detector.signal_imag().reshape(-1).astype(float))]\n",
    "\n",
    "    datasaver.add_result(*result)"
   ]
  },
  {
   "cell_type": "code",
   "execution_count": null,
   "metadata": {
    "hidden": true
   },
   "outputs": [],
   "source": [
    "shape = td_test_detector.sweep_shape\n",
    "print(shape)\n",
    "ds = datasaver.dataset\n",
    "print(ds)\n",
    "\n",
    "sigr = np.array(ds.get_values('td_test_detector_signal_real')).reshape(shape)\n",
    "sigi = np.array(ds.get_values('td_test_detector_signal_imag')).reshape(shape)\n",
    "\n",
    "fig, ax = plt.subplots(1, 1)\n",
    "ax.imshow(((sigr**2 + sigi**2)**.5), aspect='auto')"
   ]
  },
  {
   "cell_type": "code",
   "execution_count": null,
   "metadata": {
    "collapsed": true,
    "hidden": true
   },
   "outputs": [],
   "source": []
  },
  {
   "cell_type": "markdown",
   "metadata": {},
   "source": [
    "## Pulsed qubit spec"
   ]
  },
  {
   "cell_type": "markdown",
   "metadata": {
    "heading_collapsed": true
   },
   "source": [
    "### Measurement classes"
   ]
  },
  {
   "cell_type": "code",
   "execution_count": 195,
   "metadata": {
    "collapsed": true,
    "hidden": true
   },
   "outputs": [],
   "source": [
    "class PulsedQubitSpec(BroadBeanSequence):\n",
    "    \n",
    "    initial_delay = 1e-6\n",
    "    alz_trigger_len = 100e-9\n",
    "    alz_trigger_delay = 0\n",
    "\n",
    "    def __init__(self, *arg, **kw):\n",
    "        \n",
    "        kw['sweep_dims'] = ['awg_sweep_idx', ]\n",
    "        \n",
    "        super().__init__(*arg, **kw)\n",
    "\n",
    "        self.add_parameter('seq_len', set_cmd=None, unit='s',\n",
    "                           initial_value=1e-5)\n",
    "        self.add_parameter('readout_len', set_cmd=None, unit='s',\n",
    "                           initial_value=2e-6)\n",
    "        self.add_parameter('qubit_pulse_len', set_cmd=None, unit='s',\n",
    "                           initial_value=1e-6)\n",
    "        self.add_parameter('readout_delay', set_cmd=None, unit='s', initial_value=0)\n",
    "\n",
    "    def setup(self, **kw):\n",
    "        self.awg_sweep_idx([1,])\n",
    "        super().setup(**kw)\n",
    "        \n",
    "    def sequence(self):\n",
    "        elem = bb.Element()\n",
    "        \n",
    "        bps = BluePrints(self.chan_map, sample_rate=self.sample_rate())\n",
    "        \n",
    "        bps['ro'].insertSegment(0, ramp, (0, 0), dur=self.seq_len(), name='ro_segment')\n",
    "        bps['alz_mrkr'] = [(self.initial_delay + self.qubit_pulse_len() + self.readout_delay(), \n",
    "                            self.alz_trigger_len)]\n",
    "        bps['ro_mrkr'] = [(self.initial_delay + self.qubit_pulse_len() + \\\n",
    "                               self.readout_delay() + self.alz_trigger_len + self.alz_trigger_delay, \n",
    "                           self.readout_len())]\n",
    "        \n",
    "        bps['q'].insertSegment(0, ramp, (0, 0), dur=self.seq_len(), name='q_segment')\n",
    "        bps['q_mrkr'] = [(self.initial_delay, self.qubit_pulse_len())]\n",
    "        \n",
    "        for n, bp in bps():\n",
    "            elem.addBluePrint(n, bp)\n",
    "            \n",
    "        seq = bb.Sequence()\n",
    "        seq.name = 'spec'\n",
    "        seq.addElement(1, elem)\n",
    "        seq.setSR(self.sample_rate())\n",
    "        \n",
    "        seq.setChannelAmplitude(1, 1)\n",
    "        seq.setChannelOffset(1, 0)\n",
    "        seq.setChannelAmplitude(2, 1)\n",
    "        seq.setChannelOffset(2, 0)\n",
    "\n",
    "        seq.setSequencingTriggerWait(1, 0)\n",
    "        seq.setSequencingGoto(1, 1)\n",
    "        \n",
    "        return seq"
   ]
  },
  {
   "cell_type": "markdown",
   "metadata": {},
   "source": [
    "### Basic config"
   ]
  },
  {
   "cell_type": "code",
   "execution_count": 451,
   "metadata": {
    "collapsed": true
   },
   "outputs": [],
   "source": [
    "# demod frequency\n",
    "IF = 20e6\n",
    "# Readout frq\n",
    "RF.frequency(7.151e9)\n",
    "LO.frequency(RF.frequency() + IF)\n",
    "# experiment name\n",
    "exp = select_experiment('qubit_spec_pulsed', SAMPLE)\n",
    "# averages\n",
    "navgs = 1000\n",
    "# qubit frequency list\n",
    "q_frqs = np.linspace(5.24e9, 5.40e9, 81)\n",
    "# qubit power list\n",
    "q_pwrs = np.linspace(-10, 20, 7)"
   ]
  },
  {
   "cell_type": "markdown",
   "metadata": {},
   "source": [
    "### Sweeper / detector"
   ]
  },
  {
   "cell_type": "code",
   "execution_count": 387,
   "metadata": {},
   "outputs": [
    {
     "name": "stdout",
     "output_type": "stream",
     "text": [
      "Instrument qspec_sweep already exists.\n"
     ]
    }
   ],
   "source": [
    "### SWEEPER\n",
    "\n",
    "# create the meta-instrument for the sequence, add to the qcodes station.\n",
    "qspec_sweep = create_inst(PulsedQubitSpec, 'qspec_sweep', awg=awg5014, chan_map=AWG_CHANS, force_new_instance=True)\n",
    "station = add2station(station, qspec_sweep)\n",
    "\n",
    "# AWG sampling rate (in Hz)\n",
    "qspec_sweep.sample_rate(1e9)\n",
    "\n",
    "# sequence length (in s). Up to buffers at the edges this is the integration time per AWG sweep.\n",
    "qspec_sweep.seq_len(25e-6)\n",
    "qspec_sweep.readout_len(9e-6)\n",
    "qspec_sweep.qubit_pulse_len(9e-6)\n",
    "qspec_sweep.readout_delay(-.1e-6)\n",
    "\n",
    "# Quasi-CW\n",
    "# qspec_sweep.seq_len(100e-6)\n",
    "# qspec_sweep.readout_len(98e-6)\n",
    "# qspec_sweep.qubit_pulse_len(98e-6)\n",
    "# qspec_sweep.readout_delay(-98.1e-6)\n",
    "\n",
    "# and setup the sequence (will program the awg)\n",
    "qspec_sweep.setup(start_awg=True)"
   ]
  },
  {
   "cell_type": "code",
   "execution_count": 452,
   "metadata": {},
   "outputs": [
    {
     "name": "stdout",
     "output_type": "stream",
     "text": [
      "['awg_sweep_idx'] (1,)\n"
     ]
    }
   ],
   "source": [
    "### DETECTOR\n",
    "det = iqrel_detector\n",
    "\n",
    "# set the sweeper\n",
    "det.set_sweeper(qspec_sweep)\n",
    "# acquisition time\n",
    "det.acq_time(qspec_sweep.readout_len() + 200e-9)\n",
    "# demod frequency\n",
    "det.demod_frq(IF)\n",
    "# HW config, and how data is shaped.\n",
    "det.configure_alazar(\n",
    "    records_per_buffer=1,\n",
    "    buffers_per_acquisition=navgs,\n",
    "    allocated_buffers=1,\n",
    ")\n",
    "det.setup()\n",
    "\n",
    "print(det.sweep_dims, det.sweep_shape)"
   ]
  },
  {
   "cell_type": "code",
   "execution_count": 347,
   "metadata": {
    "collapsed": true
   },
   "outputs": [],
   "source": [
    "# det.add_parameter('soft_avg', get_cmd=None, set_cmd=None, initial_value=0)"
   ]
  },
  {
   "cell_type": "code",
   "execution_count": 453,
   "metadata": {
    "scrolled": false
   },
   "outputs": [
    {
     "name": "stdout",
     "output_type": "stream",
     "text": [
      "Starting experimental run with id: 217\n"
     ]
    }
   ],
   "source": [
    "meas = hard_sweep.make_measurement('results', exp=exp, \n",
    "                                   hard_sweep_detector=det,\n",
    "                                   soft_sweep_params=[qubit_gen.frequency, ])\n",
    "\n",
    "# how often we write to the database\n",
    "meas.write_period = 1\n",
    "\n",
    "# the measurement loop\n",
    "with meas.run() as datasaver:\n",
    "    # this enables live plotting with the plottr\n",
    "    datasaver.dataset.subscribe(\n",
    "        QcodesDatasetSubscriber(datasaver.dataset), \n",
    "        state=[], min_wait=0, min_count=1,\n",
    "    )\n",
    "    \n",
    "#     qubit_gen.on()\n",
    "    \n",
    "    \n",
    "#     for p in q_pwrs:\n",
    "        \n",
    "    # software sweep of the RF frequency\n",
    "    for f in q_frqs:\n",
    "        qubit_gen.frequency(f)\n",
    "        time.sleep(0.2)\n",
    "\n",
    "        # this runs the Alazar, and returns demodulated data.\n",
    "        det.acquisition()\n",
    "\n",
    "        # now that the data is here, we can pass the data to the dataset\n",
    "        # get all sweep params in the right format (depends on the acquisition controller we use)\n",
    "        # this is important so we know how to get data back in the right shape\n",
    "        result = det.get_sweep_coords()\n",
    "\n",
    "        # add also the soft sweep params...\n",
    "        result += [(qubit_gen.frequency, f)]\n",
    "#         result += [(qubit_gen.power, p)]\n",
    "#         result += [(det.soft_avg, i)]\n",
    "\n",
    "        # and add the data\n",
    "        result += [(det.signal_real, det.signal_real().reshape(-1).astype(float))]\n",
    "        result += [(det.signal_imag, det.signal_imag().reshape(-1).astype(float))]\n",
    "        result += [(det.signal_abs, det.signal_abs().reshape(-1).astype(float))]\n",
    "\n",
    "        datasaver.add_result(*result)"
   ]
  },
  {
   "cell_type": "code",
   "execution_count": null,
   "metadata": {
    "collapsed": true
   },
   "outputs": [],
   "source": []
  },
  {
   "cell_type": "markdown",
   "metadata": {},
   "source": [
    "## Pulsed qubit spec with time dependence"
   ]
  },
  {
   "cell_type": "markdown",
   "metadata": {},
   "source": [
    "### Basic config"
   ]
  },
  {
   "cell_type": "code",
   "execution_count": 442,
   "metadata": {
    "collapsed": true
   },
   "outputs": [],
   "source": [
    "# demod frequency\n",
    "IF = 20e6\n",
    "# Readout frq\n",
    "RF.frequency(7.151e9)\n",
    "LO.frequency(RF.frequency() + IF)\n",
    "# experiment name\n",
    "exp = select_experiment('qubit_spec_pulsed_timetrace', SAMPLE)\n",
    "# averages\n",
    "navgs = 100000\n",
    "# qubit frequency list\n",
    "q_frqs = np.linspace(5.25e9, 5.35e9, 26)"
   ]
  },
  {
   "cell_type": "markdown",
   "metadata": {},
   "source": [
    "### Sweeper / detector"
   ]
  },
  {
   "cell_type": "code",
   "execution_count": 448,
   "metadata": {},
   "outputs": [
    {
     "name": "stdout",
     "output_type": "stream",
     "text": [
      "Instrument qspec_sweep already exists.\n"
     ]
    }
   ],
   "source": [
    "### SWEEPER\n",
    "\n",
    "# create the meta-instrument for the sequence, add to the qcodes station.\n",
    "qspec_sweep = create_inst(PulsedQubitSpec, 'qspec_sweep', awg=awg5014, chan_map=AWG_CHANS, force_new_instance=True)\n",
    "station = add2station(station, qspec_sweep)\n",
    "\n",
    "# AWG sampling rate (in Hz)\n",
    "qspec_sweep.sample_rate(1e9)\n",
    "\n",
    "# sequence length (in s). Up to buffers at the edges this is the integration time per AWG sweep.\n",
    "qspec_sweep.alz_trigger_delay = -1.1e-6\n",
    "qspec_sweep.initial_delay = 2e-6\n",
    "# qspec_sweep.seq_len(100e-6)\n",
    "# qspec_sweep.readout_len(100e-6)\n",
    "# qspec_sweep.qubit_pulse_len(20e-6)\n",
    "# qspec_sweep.readout_delay(-21e-6)\n",
    "\n",
    "# Quasi-CW\n",
    "qspec_sweep.alz_trigger_delay = 0\n",
    "qspec_sweep.initial_delay = 1e-6\n",
    "qspec_sweep.seq_len(100e-6)\n",
    "qspec_sweep.readout_len(98e-6)\n",
    "qspec_sweep.qubit_pulse_len(98e-6)\n",
    "qspec_sweep.readout_delay(-98e-6)\n",
    "\n",
    "# and setup the sequence (will program the awg)\n",
    "qspec_sweep.setup(start_awg=True)"
   ]
  },
  {
   "cell_type": "code",
   "execution_count": 439,
   "metadata": {},
   "outputs": [
    {
     "name": "stdout",
     "output_type": "stream",
     "text": [
      "['awg_sweep_idx', 'IF_periods'] (1, 1062)\n"
     ]
    }
   ],
   "source": [
    "### DETECTOR\n",
    "# det = iqrel_detector\n",
    "det = demodrel_detector\n",
    "\n",
    "# set the sweeper\n",
    "det.set_sweeper(qspec_sweep)\n",
    "# acquisition time\n",
    "det.acq_time(qspec_sweep.readout_len() + 3e-6)\n",
    "# demod frequency\n",
    "det.demod_frq(IF)\n",
    "# HW config, and how data is shaped.\n",
    "det.configure_alazar(\n",
    "    records_per_buffer=1,\n",
    "    buffers_per_acquisition=navgs,\n",
    "    allocated_buffers=1,\n",
    ")\n",
    "det.setup()\n",
    "\n",
    "print(det.sweep_dims, det.sweep_shape)"
   ]
  },
  {
   "cell_type": "code",
   "execution_count": 347,
   "metadata": {
    "collapsed": true
   },
   "outputs": [],
   "source": [
    "# det.add_parameter('soft_avg', get_cmd=None, set_cmd=None, initial_value=0)"
   ]
  },
  {
   "cell_type": "code",
   "execution_count": 440,
   "metadata": {
    "scrolled": false
   },
   "outputs": [
    {
     "name": "stdout",
     "output_type": "stream",
     "text": [
      "Starting experimental run with id: 215\n"
     ]
    }
   ],
   "source": [
    "meas = hard_sweep.make_measurement('results', exp=exp, \n",
    "                                   hard_sweep_detector=det,\n",
    "                                   soft_sweep_params=[qubit_gen.frequency, ])\n",
    "\n",
    "# how often we write to the database\n",
    "meas.write_period = 1\n",
    "\n",
    "# the measurement loop\n",
    "with meas.run() as datasaver:\n",
    "    # this enables live plotting with the plottr\n",
    "    datasaver.dataset.subscribe(\n",
    "        QcodesDatasetSubscriber(datasaver.dataset), \n",
    "        state=[], min_wait=0, min_count=1,\n",
    "    )\n",
    "    \n",
    "#     qubit_gen.on()\n",
    "        \n",
    "    # software sweep of the RF frequency\n",
    "    for f in q_frqs:\n",
    "        qubit_gen.frequency(f)\n",
    "        time.sleep(0.2)\n",
    "\n",
    "        # this runs the Alazar, and returns demodulated data.\n",
    "        det.acquisition()\n",
    "\n",
    "        # now that the data is here, we can pass the data to the dataset\n",
    "        # get all sweep params in the right format (depends on the acquisition controller we use)\n",
    "        # this is important so we know how to get data back in the right shape\n",
    "        result = det.get_sweep_coords()\n",
    "\n",
    "        # add also the soft sweep params...\n",
    "        result += [(qubit_gen.frequency, f)]\n",
    "\n",
    "        # and add the data\n",
    "        result += [(det.signal_real, det.signal_real().reshape(-1).astype(float))]\n",
    "        result += [(det.signal_imag, det.signal_imag().reshape(-1).astype(float))]\n",
    "        result += [(det.signal_abs, det.signal_abs().reshape(-1).astype(float))]\n",
    "\n",
    "        datasaver.add_result(*result)"
   ]
  },
  {
   "cell_type": "markdown",
   "metadata": {},
   "source": [
    "## Qubit Rabi"
   ]
  },
  {
   "cell_type": "markdown",
   "metadata": {},
   "source": [
    "### Measurement classes"
   ]
  },
  {
   "cell_type": "code",
   "execution_count": 133,
   "metadata": {
    "collapsed": true
   },
   "outputs": [],
   "source": [
    "class RabiSequence(BroadBeanSequence):\n",
    "    \n",
    "    initial_delay = 1e-6\n",
    "    alz_trigger_len = 100e-9\n",
    "    alz_trigger_delay = 0\n",
    "\n",
    "    def __init__(self, *arg, **kw):\n",
    "        \n",
    "        kw['sweep_dims'] = ['pulse_length', ]\n",
    "        kw['sweep_units'] = ['s', ]\n",
    "        \n",
    "        super().__init__(*arg, **kw)\n",
    "        self.add_parameter('seq_len', set_cmd=None, \n",
    "                           unit='s', initial_value=1e-5)\n",
    "        \n",
    "        self.add_parameter('start_len', set_cmd=None, unit='s', initial_value=0)\n",
    "        self.add_parameter('stop_len', set_cmd=None, unit='s', initial_value=200e-9)\n",
    "        self.add_parameter('len_pts', set_cmd=None, initial_value=21)\n",
    "        self.add_parameter('readout_len', set_cmd=None, initial_value=2e-6)\n",
    "\n",
    "    def setup(self, **kw):\n",
    "        self.pulse_length(np.linspace(self.start_len(), self.stop_len(), self.len_pts()))\n",
    "        super().setup(**kw)\n",
    "        \n",
    "    def sequence(self):\n",
    "        elem = bb.Element()\n",
    "        seq = bb.Sequence()\n",
    "        seq.name = 'rabi'\n",
    "        \n",
    "        for i, length in enumerate(self.pulse_length()):\n",
    "            bps = BluePrints(self.chan_map, sample_rate=self.sample_rate())            \n",
    "            bps['q'].insertSegment(0, ramp, (0, 0), dur=self.seq_len(), name='q_segment')\n",
    "            bps['q_mrkr'] = [(self.initial_delay, length)]            \n",
    "            bps['ro'].insertSegment(0, ramp, (0, 0), dur=self.seq_len(), name='ro_segment')\n",
    "            bps['alz_mrkr'] = [(self.initial_delay+length, \n",
    "                                self.alz_trigger_len)]\n",
    "            bps['ro_mrkr'] = [(self.initial_delay+length+self.alz_trigger_len+self.alz_trigger_delay, \n",
    "                               self.readout_len())]\n",
    "\n",
    "            for n, bp in bps():\n",
    "                elem.addBluePrint(n, bp)\n",
    "        \n",
    "            seq.addElement(i+1, elem)\n",
    "            \n",
    "            seq.setSequencingTriggerWait(i+1, 0)\n",
    "            seq.setSequencingGoto(i+1, (i+2)%self.len_pts())\n",
    "        \n",
    "        \n",
    "        seq.setSR(self.sample_rate())\n",
    "        \n",
    "        seq.setChannelAmplitude(1, 1)\n",
    "        seq.setChannelOffset(1, 0)\n",
    "        seq.setChannelAmplitude(2, 1)\n",
    "        seq.setChannelOffset(2, 0)\n",
    "\n",
    "        return seq"
   ]
  },
  {
   "cell_type": "markdown",
   "metadata": {},
   "source": [
    "### Basic config "
   ]
  },
  {
   "cell_type": "code",
   "execution_count": 149,
   "metadata": {
    "collapsed": true
   },
   "outputs": [],
   "source": [
    "# demod frequency\n",
    "IF = 20e6\n",
    "# Readout frq\n",
    "RF.frequency(7.1507e9)\n",
    "LO.frequency(RF.frequency() + IF)\n",
    "# qubit frq\n",
    "qubit_gen.frequency(5.32e9)\n",
    "# experiment name\n",
    "exp = select_experiment('qubit_rabi', SAMPLE)\n",
    "# averages\n",
    "navgs = 100\n",
    "# soft averages\n",
    "nsoftavgs = 1000"
   ]
  },
  {
   "cell_type": "markdown",
   "metadata": {},
   "source": [
    "### Sweeper / detector"
   ]
  },
  {
   "cell_type": "code",
   "execution_count": 150,
   "metadata": {},
   "outputs": [
    {
     "name": "stdout",
     "output_type": "stream",
     "text": [
      "Instrument rabi_sweep already exists.\n"
     ]
    }
   ],
   "source": [
    "### SWEEPER\n",
    "\n",
    "# create the meta-instrument for the sequence, add to the qcodes station.\n",
    "rabi_sweep = create_inst(RabiSequence, 'rabi_sweep', awg=awg5014, chan_map=AWG_CHANS, force_new_instance=True)\n",
    "station = add2station(station, rabi_sweep)\n",
    "\n",
    "# AWG sampling rate (in Hz)\n",
    "rabi_sweep.sample_rate(1e9)\n",
    "\n",
    "# sequence length (in s). Up to buffers at the edges this is the integration time per AWG sweep.\n",
    "rabi_sweep.seq_len(50e-6)\n",
    "rabi_sweep.start_len(0)\n",
    "rabi_sweep.stop_len(1e-6)\n",
    "rabi_sweep.len_pts(201)\n",
    "rabi_sweep.readout_len(2e-6)\n",
    "\n",
    "# and setup the sequence (will program the awg)\n",
    "rabi_sweep.setup(start_awg=False)"
   ]
  },
  {
   "cell_type": "code",
   "execution_count": 151,
   "metadata": {},
   "outputs": [],
   "source": [
    "### DETECTOR\n",
    "\n",
    "# meta-instrument for the detector (i.e., alazar acquisition)\n",
    "det = iqrel_detector\n",
    "det.set_sweeper(rabi_sweep)\n",
    "\n",
    "# Configure Alazar acquisition controller\n",
    "# acquisition time\n",
    "det.acq_time(rabi_sweep.readout_len() + 0.2e-6)\n",
    "# demod frequency\n",
    "det.demod_frq(IF)\n",
    "\n",
    "def trigger_func(do_start):\n",
    "    if do_start:\n",
    "        station.awg5014.start()\n",
    "    else:\n",
    "        pass\n",
    "\n",
    "det.acqctl.trigger_func = trigger_func\n",
    "\n",
    "# HW config, and how data is shaped.\n",
    "det.configure_alazar(\n",
    "    records_per_buffer=rabi_sweep.len_pts(),\n",
    "    buffers_per_acquisition=navgs,\n",
    ")\n",
    "det.setup()"
   ]
  },
  {
   "cell_type": "code",
   "execution_count": 145,
   "metadata": {},
   "outputs": [
    {
     "data": {
      "text/plain": [
       "(['pulse_length'], (201,))"
      ]
     },
     "execution_count": 145,
     "metadata": {},
     "output_type": "execute_result"
    }
   ],
   "source": [
    "det.sweep_dims, det.sweep_shape"
   ]
  },
  {
   "cell_type": "code",
   "execution_count": 159,
   "metadata": {},
   "outputs": [
    {
     "name": "stdout",
     "output_type": "stream",
     "text": [
      "Starting experimental run with id: 141\n"
     ]
    },
    {
     "ename": "KeyboardInterrupt",
     "evalue": "",
     "output_type": "error",
     "traceback": [
      "\u001b[1;31m---------------------------------------------------------------------------\u001b[0m",
      "\u001b[1;31mKeyboardInterrupt\u001b[0m                         Traceback (most recent call last)",
      "\u001b[1;32m<ipython-input-159-b578d296dffa>\u001b[0m in \u001b[0;36m<module>\u001b[1;34m()\u001b[0m\n\u001b[0;32m     32\u001b[0m \u001b[1;33m\u001b[0m\u001b[0m\n\u001b[0;32m     33\u001b[0m         \u001b[0mstation\u001b[0m\u001b[1;33m.\u001b[0m\u001b[0mawg5014\u001b[0m\u001b[1;33m.\u001b[0m\u001b[0mstop\u001b[0m\u001b[1;33m(\u001b[0m\u001b[1;33m)\u001b[0m\u001b[1;33m\u001b[0m\u001b[0m\n\u001b[1;32m---> 34\u001b[1;33m         \u001b[0mtime\u001b[0m\u001b[1;33m.\u001b[0m\u001b[0msleep\u001b[0m\u001b[1;33m(\u001b[0m\u001b[1;36m1\u001b[0m\u001b[1;33m)\u001b[0m\u001b[1;33m\u001b[0m\u001b[0m\n\u001b[0m",
      "\u001b[1;31mKeyboardInterrupt\u001b[0m: "
     ]
    }
   ],
   "source": [
    "# after setting up, we can create the measurement object.\n",
    "# det.add_parameter('soft_avg', get_cmd=None, set_cmd=None, initial_value=0)\n",
    "\n",
    "meas = hard_sweep.make_measurement('results', exp=exp, \n",
    "                                   hard_sweep_detector=det,\n",
    "                                   soft_sweep_params=[det.soft_avg,],\n",
    "                                   )\n",
    "\n",
    "# the measurement loop\n",
    "with meas.run() as datasaver:\n",
    "    \n",
    "    datasaver.dataset.subscribe(\n",
    "        QcodesDatasetSubscriber(datasaver.dataset), \n",
    "        state=[], min_wait=0, min_count=1,\n",
    "    )\n",
    "    \n",
    "    for i in range(nsoftavgs):\n",
    "        \n",
    "#         rabi_sweep.setup(start_awg=False)\n",
    "        station.awg5014.start()\n",
    "        det.acquisition()\n",
    "\n",
    "        # add to dataset\n",
    "        result = det.get_sweep_coords()\n",
    "        result += [(det.soft_avg, i)]\n",
    "        # and add the data\n",
    "        result += [(det.signal_real, det.signal_real().reshape(-1).astype(float))]\n",
    "        result += [(det.signal_imag, det.signal_imag().reshape(-1).astype(float))]\n",
    "        result += [(det.signal_abs, det.signal_abs().reshape(-1).astype(float))]\n",
    "\n",
    "        datasaver.add_result(*result)\n",
    "        \n",
    "        station.awg5014.stop()\n",
    "        time.sleep(1)"
   ]
  },
  {
   "cell_type": "code",
   "execution_count": null,
   "metadata": {
    "collapsed": true
   },
   "outputs": [],
   "source": []
  },
  {
   "cell_type": "code",
   "execution_count": 138,
   "metadata": {},
   "outputs": [
    {
     "data": {
      "text/plain": [
       "results #132@d:/data/qcodes2/experiments.db\n",
       "-------------------------------------------\n",
       "rabi_sweep_pulse_length - numeric\n",
       "iqrel_detector_signal_real - numeric\n",
       "iqrel_detector_signal_imag - numeric\n",
       "iqrel_detector_signal_abs - numeric"
      ]
     },
     "execution_count": 138,
     "metadata": {},
     "output_type": "execute_result"
    }
   ],
   "source": [
    "ds = datasaver.dataset\n",
    "ds"
   ]
  },
  {
   "cell_type": "code",
   "execution_count": 142,
   "metadata": {},
   "outputs": [
    {
     "data": {
      "text/plain": [
       "[(<qcodes.instrument.parameter.Parameter: pulse_length at 1482712582352>,\n",
       "  array([  0.00000000e+00,   4.00000000e-09,   8.00000000e-09,\n",
       "           1.20000000e-08,   1.60000000e-08,   2.00000000e-08,\n",
       "           2.40000000e-08,   2.80000000e-08,   3.20000000e-08,\n",
       "           3.60000000e-08,   4.00000000e-08,   4.40000000e-08,\n",
       "           4.80000000e-08,   5.20000000e-08,   5.60000000e-08,\n",
       "           6.00000000e-08,   6.40000000e-08,   6.80000000e-08,\n",
       "           7.20000000e-08,   7.60000000e-08,   8.00000000e-08,\n",
       "           8.40000000e-08,   8.80000000e-08,   9.20000000e-08,\n",
       "           9.60000000e-08,   1.00000000e-07,   1.04000000e-07,\n",
       "           1.08000000e-07,   1.12000000e-07,   1.16000000e-07,\n",
       "           1.20000000e-07,   1.24000000e-07,   1.28000000e-07,\n",
       "           1.32000000e-07,   1.36000000e-07,   1.40000000e-07,\n",
       "           1.44000000e-07,   1.48000000e-07,   1.52000000e-07,\n",
       "           1.56000000e-07,   1.60000000e-07,   1.64000000e-07,\n",
       "           1.68000000e-07,   1.72000000e-07,   1.76000000e-07,\n",
       "           1.80000000e-07,   1.84000000e-07,   1.88000000e-07,\n",
       "           1.92000000e-07,   1.96000000e-07,   2.00000000e-07])),\n",
       " (<qcodes.instrument.parameter.Parameter: signal_real at 1482668528304>,\n",
       "  array([  2.21491482e-05,   2.56106694e-04,   1.31865600e-04,\n",
       "          -1.44285965e-04,   1.98841648e-04,   1.49193365e-04,\n",
       "          -4.65518300e-04,   2.44689640e-04,  -1.22749087e-04,\n",
       "          -2.28555233e-04,   4.00479330e-04,  -3.68540146e-04,\n",
       "           3.20318918e-06,  -1.25452680e-05,   9.14524062e-05,\n",
       "          -5.08581521e-04,   9.27185829e-05,   8.80116495e-05,\n",
       "          -3.91529815e-04,  -1.53958012e-04,  -2.22110451e-04,\n",
       "           1.37398456e-04,   2.66052462e-04,   2.50207959e-04,\n",
       "          -1.73534514e-04,  -7.52526976e-05,   2.94150494e-04,\n",
       "          -2.12686518e-06,  -2.42821567e-04,   2.50354118e-04,\n",
       "           1.30048385e-04,  -1.28565051e-04,   7.22426194e-06,\n",
       "          -1.36643401e-04,  -3.07243063e-05,   3.58951598e-04,\n",
       "          -1.18216907e-04,  -1.99459435e-04,   4.49528452e-04,\n",
       "          -2.04553275e-04,   2.12871470e-04,  -4.18085925e-04,\n",
       "           3.25588277e-04,   3.94940056e-04,   3.90276633e-04,\n",
       "           3.20877385e-04,  -2.42556562e-04,   2.07758218e-04,\n",
       "           4.87618992e-04,  -1.56351511e-04,   6.29990769e-04])),\n",
       " (<qcodes.instrument.parameter.Parameter: signal_imag at 1482218240880>,\n",
       "  array([ -2.27373806e-04,  -3.43119609e-04,  -5.78155683e-04,\n",
       "          -1.84570541e-04,  -6.57700584e-04,   6.22608932e-05,\n",
       "          -5.73245925e-04,  -6.70176407e-04,   7.71554710e-07,\n",
       "          -5.07398392e-04,  -1.82576405e-04,  -4.43135359e-04,\n",
       "          -2.79046770e-04,  -3.50837508e-04,  -3.19528539e-04,\n",
       "          -3.72934213e-04,  -3.60043603e-04,  -4.27450548e-04,\n",
       "          -5.41068963e-04,  -6.20618172e-04,  -1.56118491e-04,\n",
       "          -1.81877389e-04,  -6.31734845e-04,  -4.09426430e-04,\n",
       "          -3.35545687e-04,  -5.81263332e-04,  -2.73181126e-04,\n",
       "          -2.19546331e-04,  -3.88748595e-04,   8.64094618e-05,\n",
       "          -4.25436767e-04,  -1.52420325e-04,  -6.53513242e-04,\n",
       "          -2.67278810e-04,  -2.87759234e-04,  -4.52142122e-04,\n",
       "          -3.90716217e-04,  -1.30625413e-04,  -2.12350526e-04,\n",
       "           4.73200635e-05,  -9.59414407e-04,  -3.23085493e-04,\n",
       "          -5.23409573e-04,  -4.45908052e-04,  -2.19962691e-04,\n",
       "          -5.69195778e-04,  -4.51638101e-04,  -5.69524709e-04,\n",
       "          -3.49203357e-04,  -1.78963965e-04,   5.04142263e-05])),\n",
       " (<qcodes.instrument.parameter.Parameter: signal_abs at 1482218239088>,\n",
       "  array([ 0.00022845,  0.00042816,  0.000593  ,  0.00023427,  0.0006871 ,\n",
       "          0.00016166,  0.00073846,  0.00071345,  0.00012275,  0.0005565 ,\n",
       "          0.00044013,  0.00057636,  0.00027907,  0.00035106,  0.00033236,\n",
       "          0.00063066,  0.00037179,  0.00043642,  0.00066787,  0.00063943,\n",
       "          0.00027149,  0.00022794,  0.00068547,  0.00047983,  0.00037776,\n",
       "          0.00058611,  0.00040144,  0.00021956,  0.00045835,  0.00026485,\n",
       "          0.00044487,  0.0001994 ,  0.00065355,  0.00030018,  0.00028939,\n",
       "          0.0005773 ,  0.00040821,  0.00023843,  0.00049716,  0.00020996,\n",
       "          0.00098275,  0.00052837,  0.00061641,  0.00059566,  0.00044799,\n",
       "          0.00065341,  0.00051265,  0.00060624,  0.00059976,  0.00023764,\n",
       "          0.000632  ]))]"
      ]
     },
     "execution_count": 142,
     "metadata": {},
     "output_type": "execute_result"
    }
   ],
   "source": [
    "result"
   ]
  },
  {
   "cell_type": "code",
   "execution_count": null,
   "metadata": {
    "collapsed": true
   },
   "outputs": [],
   "source": []
  },
  {
   "cell_type": "code",
   "execution_count": null,
   "metadata": {
    "collapsed": true
   },
   "outputs": [],
   "source": []
  },
  {
   "cell_type": "code",
   "execution_count": null,
   "metadata": {
    "collapsed": true
   },
   "outputs": [],
   "source": []
  },
  {
   "cell_type": "markdown",
   "metadata": {},
   "source": [
    "# Backups / old code"
   ]
  },
  {
   "cell_type": "markdown",
   "metadata": {},
   "source": [
    "## Qubit spec"
   ]
  },
  {
   "cell_type": "code",
   "execution_count": null,
   "metadata": {},
   "outputs": [],
   "source": [
    "exp = select_experiment('qubit_spec', SAMPLE)\n",
    "\n",
    "### measurement params\n",
    "\n",
    "# ctl = iq_acq\n",
    "ctl = iqrel_acq\n",
    "ctl.acq_time = 98e-6\n",
    "ctl.demod_frq = 20e6\n",
    "ctl.update_acquisitionkwargs(\n",
    "    records_per_buffer=100, \n",
    "    buffers_per_acquisition=10,\n",
    "    buffer_timeout=10000,\n",
    "    allocated_buffers=1\n",
    ")\n",
    "\n",
    "RF.frequency(7.1507e9)\n",
    "LO.frequency(RF.frequency() + IF)"
   ]
  },
  {
   "cell_type": "code",
   "execution_count": null,
   "metadata": {},
   "outputs": [],
   "source": [
    "### set up expt\n",
    "meas = Measurement(exp=exp)\n",
    "meas.write_period = 5.0\n",
    "\n",
    "meas.register_parameter(qubit_gen.frequency)\n",
    "meas.register_custom_parameter('signal_real', setpoints=[qubit_gen.frequency, ])\n",
    "meas.register_custom_parameter('signal_imag', setpoints=[qubit_gen.frequency, ])\n",
    "meas.register_custom_parameter('signal_abs', setpoints=[qubit_gen.frequency, ])\n",
    "\n",
    "q_frqs = np.linspace(5.1e9, 5.4e9, 301)\n",
    "\n",
    "yoko.voltage(0)\n",
    "\n",
    "with meas.run() as datasaver:\n",
    "    datasaver.dataset.subscribe(QcodesDatasetSubscriber(datasaver.dataset), state=[],\n",
    "                                min_wait=0, min_count=1)\n",
    "    \n",
    "    for f in q_frqs:\n",
    "        qubit_gen.frequency(f)\n",
    "        time.sleep(0.2)\n",
    "        \n",
    "        data = ctl.do_acquisition()\n",
    "        if ctl == iq_acq:\n",
    "            sig = data[...,1].mean()\n",
    "            ref = data[...,0].mean()\n",
    "        elif ctl == iqrel_acq:\n",
    "            sig = data.mean()\n",
    "\n",
    "        datasaver.add_result((qubit_gen.frequency, f), \n",
    "                             ('signal_real', sig.real.astype(float)),\n",
    "                             ('signal_imag', sig.imag.astype(float)), \n",
    "                             ('signal_abs', np.abs(sig).astype(float)))"
   ]
  },
  {
   "cell_type": "code",
   "execution_count": null,
   "metadata": {
    "collapsed": true
   },
   "outputs": [],
   "source": []
  },
  {
   "cell_type": "code",
   "execution_count": null,
   "metadata": {},
   "outputs": [],
   "source": [
    "exp = select_experiment('qubit_spec_flux', SAMPLE)\n",
    "### set up expt\n",
    "meas = Measurement(exp=exp)\n",
    "meas.write_period = 5.0\n",
    "\n",
    "meas.register_parameter(yoko.voltage)\n",
    "meas.register_parameter(qubit_gen.frequency)\n",
    "meas.register_custom_parameter('signal_real', setpoints=[yoko.voltage, qubit_gen.frequency, ])\n",
    "meas.register_custom_parameter('signal_imag', setpoints=[yoko.voltage, qubit_gen.frequency, ])\n",
    "meas.register_custom_parameter('signal_abs', setpoints=[yoko.voltage, qubit_gen.frequency, ])\n",
    "\n",
    "q_frqs = np.linspace(5.1e9, 5.4e9, 151)\n",
    "flux_vs = np.linspace(-4, 4, 21)\n",
    "yoko.on()\n",
    "\n",
    "with meas.run() as datasaver:\n",
    "    datasaver.dataset.subscribe(QcodesDatasetSubscriber(datasaver.dataset), state=[],\n",
    "                                min_wait=0, min_count=1)\n",
    "    \n",
    "    for v in flux_vs:\n",
    "        yoko.voltage(v)\n",
    "        \n",
    "        for f in q_frqs:\n",
    "            qubit_gen.frequency(f)\n",
    "            time.sleep(0.1)\n",
    "            \n",
    "            data = ctl.do_acquisition()\n",
    "            if ctl == iq_acq:\n",
    "                sig = data[...,1].mean()\n",
    "                ref = data[...,0].mean()\n",
    "            elif ctl == iqrel_acq:\n",
    "                sig = data.mean()\n",
    "\n",
    "            datasaver.add_result(\n",
    "                (yoko.voltage, v),\n",
    "                (qubit_gen.frequency, f), \n",
    "                ('signal_real', sig.real.astype(float)),\n",
    "                ('signal_imag', sig.imag.astype(float)), \n",
    "                ('signal_abs', np.abs(sig).astype(float)))"
   ]
  },
  {
   "cell_type": "code",
   "execution_count": null,
   "metadata": {
    "collapsed": true
   },
   "outputs": [],
   "source": []
  },
  {
   "cell_type": "code",
   "execution_count": null,
   "metadata": {
    "collapsed": true
   },
   "outputs": [],
   "source": []
  },
  {
   "cell_type": "code",
   "execution_count": null,
   "metadata": {
    "collapsed": true
   },
   "outputs": [],
   "source": []
  },
  {
   "cell_type": "code",
   "execution_count": null,
   "metadata": {
    "collapsed": true
   },
   "outputs": [],
   "source": []
  },
  {
   "cell_type": "code",
   "execution_count": null,
   "metadata": {
    "collapsed": true
   },
   "outputs": [],
   "source": []
  },
  {
   "cell_type": "code",
   "execution_count": null,
   "metadata": {},
   "outputs": [],
   "source": [
    "ds = qc.load_by_id(77)\n",
    "ds"
   ]
  },
  {
   "cell_type": "code",
   "execution_count": null,
   "metadata": {
    "collapsed": true
   },
   "outputs": [],
   "source": [
    "f = np.array(ds.get_values('RF_frequency')).reshape(-1)"
   ]
  },
  {
   "cell_type": "code",
   "execution_count": null,
   "metadata": {
    "collapsed": true
   },
   "outputs": [],
   "source": []
  },
  {
   "cell_type": "markdown",
   "metadata": {
    "collapsed": true
   },
   "source": []
  },
  {
   "cell_type": "code",
   "execution_count": null,
   "metadata": {
    "collapsed": true
   },
   "outputs": [],
   "source": [
    "# exp = select_experiment('readout_spec_flux', SAMPLE)\n",
    "\n",
    "# ### set up expt\n",
    "# meas = Measurement(exp=exp)\n",
    "# meas.write_period = 5.0\n",
    "\n",
    "# flux_vs = np.linspace(-5, 5, 21)\n",
    "# rf_frqs = np.linspace(7.149e9, 7.152e9, 61)\n",
    "# IF = 20e6\n",
    "\n",
    "# meas.register_parameter(yoko.voltage)\n",
    "# meas.register_parameter(RF.frequency)\n",
    "# meas.register_custom_parameter('signal_real', setpoints=[yoko.voltage, RF.frequency, ])\n",
    "# meas.register_custom_parameter('signal_imag', setpoints=[yoko.voltage, RF.frequency, ])\n",
    "# meas.register_custom_parameter('signal_abs', setpoints=[yoko.voltage, RF.frequency, ])\n",
    "\n",
    "# with meas.run() as datasaver:\n",
    "#     datasaver.dataset.subscribe(QcodesDatasetSubscriber(datasaver.dataset), state=[],\n",
    "#                                 min_wait=0, min_count=1)\n",
    "    \n",
    "    \n",
    "#     for v in flux_vs:\n",
    "#         yoko.voltage(v)\n",
    "    \n",
    "#         for f in rf_frqs:\n",
    "#             RF.frequency(f)\n",
    "#             LO.frequency(f + IF)\n",
    "#             time.sleep(0.2)\n",
    "\n",
    "#             data = ctl.do_acquisition()\n",
    "#             if ctl == iq_acq:\n",
    "#                 sig = data[...,1].mean()\n",
    "#                 ref = data[...,0].mean()\n",
    "#             elif ctl == iqrel_acq:\n",
    "#                 sig = data.mean()\n",
    "\n",
    "#             datasaver.add_result(\n",
    "#                 (yoko.voltage, v), \n",
    "#                 (RF.frequency, f), \n",
    "#                 ('signal_real', sig.real.astype(float)),\n",
    "#                 ('signal_imag', sig.imag.astype(float)), \n",
    "#                 ('signal_abs', np.abs(sig).astype(float)))"
   ]
  },
  {
   "cell_type": "markdown",
   "metadata": {
    "heading_collapsed": true
   },
   "source": [
    "## Test Alazar signal"
   ]
  },
  {
   "cell_type": "code",
   "execution_count": null,
   "metadata": {
    "collapsed": true,
    "hidden": true
   },
   "outputs": [],
   "source": [
    "generic_detector = create_inst(AlazarDetector, name='generic_detector', acqctl=demodrel_acq, \n",
    "                               sweep_params=[], force_new_instance=True)\n",
    "station = add2station(station, generic_detector)"
   ]
  },
  {
   "cell_type": "code",
   "execution_count": null,
   "metadata": {
    "collapsed": true,
    "hidden": true
   },
   "outputs": [],
   "source": [
    "demodrel_acq.acq_time(100e-6)\n",
    "demodrel_acq.demod_frq(20e6)\n",
    "demodrel_acq.update_acquisitionkwargs(records_per_buffer=10, \n",
    "                                      buffers_per_acquisition=1,\n",
    "                                      buffer_timeout=10000,\n",
    "                                      allocated_buffers=1)\n",
    "\n",
    "rawdata = generic_detector.acquisition()\n",
    "data = np.squeeze(rawdata).mean(axis=0).reshape(-1)\n",
    "\n",
    "\n",
    "fig, ax = plt.subplots(1, 1)\n",
    "ax.plot(generic_detector.time() * 1e6, data.real, label='Re')\n",
    "ax.plot(generic_detector.time() * 1e6, data.imag, label='Im')\n",
    "ax.plot(generic_detector.time() * 1e6, np.abs(data), label='Abs')\n",
    "ax.legend()\n",
    "\n",
    "ax.set_ylabel('Signal')\n",
    "ax.set_xlabel('Time (us)')\n",
    "\n",
    "fig.tight_layout()"
   ]
  }
 ],
 "metadata": {
  "kernelspec": {
   "display_name": "Python 3",
   "language": "python",
   "name": "python3"
  },
  "language_info": {
   "codemirror_mode": {
    "name": "ipython",
    "version": 3
   },
   "file_extension": ".py",
   "mimetype": "text/x-python",
   "name": "python",
   "nbconvert_exporter": "python",
   "pygments_lexer": "ipython3",
   "version": "3.6.3"
  },
  "toc": {
   "base_numbering": 1,
   "nav_menu": {},
   "number_sections": true,
   "sideBar": true,
   "skip_h1_title": false,
   "title_cell": "Table of Contents",
   "title_sidebar": "Contents",
   "toc_cell": false,
   "toc_position": {
    "height": "calc(100% - 180px)",
    "left": "10px",
    "top": "150px",
    "width": "277px"
   },
   "toc_section_display": true,
   "toc_window_display": true
  }
 },
 "nbformat": 4,
 "nbformat_minor": 2
}

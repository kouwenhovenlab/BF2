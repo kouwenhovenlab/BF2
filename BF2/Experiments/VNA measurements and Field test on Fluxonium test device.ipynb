{
 "cells": [
  {
   "cell_type": "code",
   "execution_count": 47,
   "metadata": {
    "ExecuteTime": {
     "end_time": "2018-11-06T14:40:07.255979Z",
     "start_time": "2018-11-06T14:40:07.228931Z"
    },
    "collapsed": true
   },
   "outputs": [],
   "source": [
    "import ptvsd\n",
    "ptvsd.enable_attach(('0.0.0.0', 3000))"
   ]
  },
  {
   "cell_type": "markdown",
   "metadata": {},
   "source": [
    "# Preamble"
   ]
  },
  {
   "cell_type": "markdown",
   "metadata": {},
   "source": [
    "## AsyncIO"
   ]
  },
  {
   "cell_type": "code",
   "execution_count": 1,
   "metadata": {
    "ExecuteTime": {
     "end_time": "2018-11-06T15:36:35.315096Z",
     "start_time": "2018-11-06T15:36:35.295109Z"
    }
   },
   "outputs": [
    {
     "name": "stdout",
     "output_type": "stream",
     "text": [
      "IPython autoawait is `off`, and set to use `asyncio`\n"
     ]
    }
   ],
   "source": [
    "from distutils.version import StrictVersion\n",
    "import IPython\n",
    "import ipykernel\n",
    "if StrictVersion(IPython.__version__) <= StrictVersion('7.0.0'):\n",
    "    pass\n",
    "elif StrictVersion(ipykernel.__version__) <= StrictVersion('5.0.0'):\n",
    "    pass\n",
    "else:\n",
    "    %autoawait off\n",
    "    %autoawait"
   ]
  },
  {
   "cell_type": "code",
   "execution_count": 2,
   "metadata": {
    "ExecuteTime": {
     "end_time": "2018-11-06T15:36:35.340114Z",
     "start_time": "2018-11-06T15:36:35.319126Z"
    },
    "collapsed": true
   },
   "outputs": [],
   "source": [
    "import asyncio"
   ]
  },
  {
   "cell_type": "code",
   "execution_count": 3,
   "metadata": {
    "ExecuteTime": {
     "end_time": "2018-11-06T15:36:35.362157Z",
     "start_time": "2018-11-06T15:36:35.343144Z"
    },
    "collapsed": true
   },
   "outputs": [],
   "source": [
    "loop = asyncio.get_event_loop()"
   ]
  },
  {
   "cell_type": "code",
   "execution_count": 4,
   "metadata": {
    "ExecuteTime": {
     "end_time": "2018-11-06T15:36:35.526243Z",
     "start_time": "2018-11-06T15:36:35.507257Z"
    }
   },
   "outputs": [
    {
     "data": {
      "text/plain": [
       "False"
      ]
     },
     "execution_count": 4,
     "metadata": {},
     "output_type": "execute_result"
    }
   ],
   "source": [
    "loop.is_running()"
   ]
  },
  {
   "cell_type": "code",
   "execution_count": 5,
   "metadata": {
    "ExecuteTime": {
     "end_time": "2018-11-06T15:36:35.765410Z",
     "start_time": "2018-11-06T15:36:35.761409Z"
    },
    "collapsed": true
   },
   "outputs": [],
   "source": [
    "async def sleepy_print(msg):\n",
    "    await asyncio.sleep(2)\n",
    "    print(msg)"
   ]
  },
  {
   "cell_type": "markdown",
   "metadata": {},
   "source": [
    "Use `ensure_future` to schedule a task for execution in the notebook."
   ]
  },
  {
   "cell_type": "code",
   "execution_count": 6,
   "metadata": {
    "ExecuteTime": {
     "end_time": "2018-11-06T15:36:36.263756Z",
     "start_time": "2018-11-06T15:36:36.258781Z"
    }
   },
   "outputs": [
    {
     "data": {
      "text/plain": [
       "<Task pending coro=<sleepy_print() running at <ipython-input-5-34b39703b84d>:1>>"
      ]
     },
     "execution_count": 6,
     "metadata": {},
     "output_type": "execute_result"
    }
   ],
   "source": [
    "asyncio.ensure_future(sleepy_print(\"Hello!\"))"
   ]
  },
  {
   "cell_type": "code",
   "execution_count": 7,
   "metadata": {
    "ExecuteTime": {
     "end_time": "2018-11-06T15:36:41.491430Z",
     "start_time": "2018-11-06T15:36:36.485941Z"
    }
   },
   "outputs": [
    {
     "name": "stdout",
     "output_type": "stream",
     "text": [
      "Hello!\n"
     ]
    }
   ],
   "source": [
    "async def task():\n",
    "    await asyncio.sleep(5)\n",
    "asyncio.get_event_loop().run_until_complete(task())"
   ]
  },
  {
   "cell_type": "code",
   "execution_count": 8,
   "metadata": {
    "ExecuteTime": {
     "end_time": "2018-11-06T15:36:43.370711Z",
     "start_time": "2018-11-06T15:36:41.495402Z"
    },
    "collapsed": true
   },
   "outputs": [],
   "source": [
    "%matplotlib notebook\n",
    "\n",
    "# %qtconsole\n",
    "\n",
    "import logging\n",
    "import time\n",
    "from importlib import reload\n",
    "\n",
    "from matplotlib import pyplot as plt\n",
    "from matplotlib import colors, cm\n",
    "import numpy as np\n",
    "\n",
    "import qcodes as qc\n",
    "from qcodes.instrument.parameter import Parameter\n",
    "from qcodes.math.field_vector import FieldVector\n",
    "from qcodes.dataset.experiment_container import new_experiment\n",
    "from qcodes.utils.async_utils import sync, cancelling"
   ]
  },
  {
   "cell_type": "code",
   "execution_count": 9,
   "metadata": {
    "ExecuteTime": {
     "end_time": "2018-11-06T15:36:43.406735Z",
     "start_time": "2018-11-06T15:36:43.374745Z"
    },
    "collapsed": true
   },
   "outputs": [],
   "source": [
    "from pytopo.field_optimization.movement import FieldOptimizationProblem"
   ]
  },
  {
   "cell_type": "code",
   "execution_count": 10,
   "metadata": {
    "ExecuteTime": {
     "end_time": "2018-11-06T15:36:43.413740Z",
     "start_time": "2018-11-06T15:36:43.410738Z"
    },
    "collapsed": true
   },
   "outputs": [],
   "source": [
    "# from typing import Callable, Optional, TypeVar, Union\n",
    "# TODO: Define a type hint for callables that act like QCoDeS parameters,\n",
    "#       that is as objects which support both Callable[None, T] and\n",
    "#       Callable[T, None]."
   ]
  },
  {
   "cell_type": "code",
   "execution_count": 11,
   "metadata": {
    "ExecuteTime": {
     "end_time": "2018-11-06T15:36:55.329079Z",
     "start_time": "2018-11-06T15:36:55.302059Z"
    },
    "collapsed": true
   },
   "outputs": [],
   "source": [
    "from pytopo.qctools import instruments as instools\n",
    "from pytopo.qctools.instruments import create_inst, add2station\n",
    "\n",
    "from pytopo.sweep.base import Nest, Chain\n",
    "from pytopo.sweep.decorators import getter, setter\n",
    "from pytopo.sweep import sweep, do_experiment, hardsweep, measure\n",
    "\n",
    "from pytopo.field_optimization.transform import TransformedController"
   ]
  },
  {
   "cell_type": "code",
   "execution_count": 12,
   "metadata": {
    "ExecuteTime": {
     "end_time": "2018-11-06T15:36:55.404102Z",
     "start_time": "2018-11-06T15:36:55.401126Z"
    },
    "collapsed": true
   },
   "outputs": [],
   "source": [
    "# from contextlib import contextmanager"
   ]
  },
  {
   "cell_type": "markdown",
   "metadata": {},
   "source": [
    "# Define measurement functions"
   ]
  },
  {
   "cell_type": "code",
   "execution_count": 13,
   "metadata": {
    "ExecuteTime": {
     "end_time": "2018-11-06T15:37:01.338237Z",
     "start_time": "2018-11-06T15:37:01.315252Z"
    },
    "collapsed": true
   },
   "outputs": [],
   "source": [
    "def setup_frq_sweep(fstart, fstop, fpts, chan='S21', bw=None, navgs=None, pwr=None):\n",
    "    \"\"\"\n",
    "    Setup a VNA trace.\n",
    "    \n",
    "    assumes that a channel with name chan is already created.\n",
    "    \"\"\"\n",
    "    vna = qc.Station.default.vna\n",
    "    trace = getattr(vna.channels, chan)\n",
    "    \n",
    "    fvals = np.linspace(fstart, fstop, fpts)\n",
    "    trace.start(fstart)\n",
    "    trace.stop(fstop)\n",
    "    trace.npts(fpts)\n",
    "    if navgs is not None:\n",
    "        trace.avg(navgs)\n",
    "    if bw is not None:\n",
    "        trace.bandwidth(bw)\n",
    "    if pwr is not None:\n",
    "        trace.power(pwr)\n",
    "    trace.autoscale()\n",
    "    \n",
    "    if not vna.rf_power():\n",
    "        vna.rf_on()\n",
    "    \n",
    "    return fvals\n",
    "\n",
    "def take_trace(chan='S21', plot=False):\n",
    "    \"\"\"\n",
    "    Get the data of a currently measured trace.\n",
    "    The trace has to be setup already.\n",
    "    \n",
    "    Returns magnitude (in dB) and phase (in rad).\n",
    "    \n",
    "    If plot is true, make a simple plot of the magnitude vs frequency.\n",
    "    \"\"\"\n",
    "    vna = qc.Station.default.vna\n",
    "    trace = getattr(vna.channels, chan)\n",
    "    \n",
    "    fvals = np.linspace(trace.start(), trace.stop(), trace.npts())\n",
    "    mag, phase = trace.trace_mag_phase()\n",
    "    \n",
    "    if plot:\n",
    "        fig, ax = plt.subplots(1, 1)\n",
    "        ax.plot(fvals*1e-9, 20*np.log10(mag))\n",
    "        ax.grid(dashes=[1,1])\n",
    "        ax.set_xlabel('Frequency (GHz)')\n",
    "        ax.set_ylabel('Magnitude (dBm)')\n",
    "        \n",
    "    return mag, phase\n",
    "\n",
    "\n",
    "def setup_zerospan_trace(frq, npts, chan='S21', span=1.):\n",
    "    \"\"\"\n",
    "    Setup the VNA to measure a trace around <frq> with <npts> samples\n",
    "    in a very narray frequency span.\n",
    "    \"\"\"\n",
    "    vna = qc.Station.default.vna\n",
    "    trace = getattr(vna.channels, chan)\n",
    "    \n",
    "    trace.center(frq)\n",
    "    trace.span(span)\n",
    "    trace.npts(npts)\n",
    "    \n",
    "    trace.autoscale()\n",
    "    \n",
    "    if not vna.rf_power():\n",
    "        vna.rf_on()\n",
    "\n",
    "        \n",
    "### pytopo.sweep measurement functions\n",
    "\n",
    "@hardsweep(\n",
    "    ind=[('frequency', 'Hz', 'array')], \n",
    "    dep=[('amplitude', '', 'array'), ('phase', 'rad', 'array')]\n",
    ")\n",
    "def vna_frequency_sweep(*arg, **kw):\n",
    "    \"\"\"\n",
    "    Measurement function for a simple VNA trace for pytopo.sweep.\n",
    "    \n",
    "    All arguments will be passed to setup_trace.\n",
    "    Return data is as returned by take_trace.\n",
    "    \"\"\"\n",
    "    fvals = setup_frq_sweep(*arg, **kw)\n",
    "    mag, phase = take_trace(plot=False)\n",
    "    \n",
    "    return fvals, np.vstack((mag, phase))\n",
    "\n",
    "@hardsweep(\n",
    "    ind=[('frequency', 'Hz', 'array')], \n",
    "    dep=[('magnitude', 'dB', 'array'), ('phase', 'rad', 'array')]\n",
    ")\n",
    "def vna_frequency_sweep_dB(*arg, **kw):\n",
    "    \"\"\"\n",
    "    Measurement function for a simple VNA trace for pytopo.sweep.\n",
    "    t\n",
    "    All arguments will be passed to setup_trace.\n",
    "    Return data is as returned by take_trace.\n",
    "    \"\"\"\n",
    "    fvals = setup_frq_sweep(*arg, **kw)\n",
    "    mag, phase = take_trace(plot=False)\n",
    "    time.sleep(1)\n",
    "    \n",
    "    return fvals, np.vstack((20*np.log10(mag), phase))\n",
    "\n",
    "@hardsweep(\n",
    "    ind=[('iteration', '', 'array')], \n",
    "    dep=[('amplitude', '', 'array'), ('phase', 'rad', 'array')]\n",
    ")\n",
    "def vna_timetrace(*arg, **kw):\n",
    "    \"\"\"\n",
    "    Measure a 'time trace', emulated by a narrow span trace with many points.\n",
    "    \"\"\"\n",
    "    setup_zerospan_trace(*arg, **kw)\n",
    "    mag, phase = take_trace(plot=False)\n",
    "    \n",
    "    return np.arange(mag.size), np.vstack((mag, phase))\n",
    "\n",
    "\n",
    "@hardsweep(\n",
    "    ind=[('iteration', '', 'array')], \n",
    "    dep=[('magnitude', 'dB', 'array'), ('phase', 'rad', 'array')]\n",
    ")\n",
    "def vna_timetrace(*arg, **kw):\n",
    "    \"\"\"\n",
    "    Measure a 'time trace', emulated by a narrow span trace with many points.\n",
    "    \"\"\"\n",
    "    setup_zerospan_trace(*arg, **kw)\n",
    "    mag, phase = take_trace(plot=False)\n",
    "    \n",
    "    return np.arange(mag.size), np.vstack((20*np.log10(mag), phase))\n",
    "\n",
    "\n",
    "@getter(('signal', 'dB'), ('noise', 'dB'), ('SNR', 'dB'))\n",
    "def get_SNR():\n",
    "    \"\"\"\n",
    "    extract SNR from a trace: take sig=mean(trace) and noise=std(trace),\n",
    "    where trace is the complex linear amplitude.\n",
    "    return signal, noise, and snr in dB(!).\n",
    "    \n",
    "    does not setup the VNA. you should do that manually before calling this method.\n",
    "    \"\"\"\n",
    "    time.sleep(0.01)\n",
    "    mag, phase = take_trace(plot=False)\n",
    "    sig = np.abs(mag) * np.exp(-1j*phase)\n",
    "    lin_mean = np.abs(sig.mean())\n",
    "    lin_std = np.abs(sig.std())\n",
    "    return 20*np.log10(lin_mean), 20*np.log10(lin_std), 20*np.log10(lin_mean/lin_std)\n",
    "\n"
   ]
  },
  {
   "cell_type": "code",
   "execution_count": 14,
   "metadata": {
    "ExecuteTime": {
     "end_time": "2018-11-06T15:37:01.844616Z",
     "start_time": "2018-11-06T15:37:01.840585Z"
    },
    "collapsed": true
   },
   "outputs": [],
   "source": [
    "it = Parameter('iteration', set_cmd=None, initial_value=1)"
   ]
  },
  {
   "cell_type": "markdown",
   "metadata": {},
   "source": [
    "# Init station"
   ]
  },
  {
   "cell_type": "markdown",
   "metadata": {},
   "source": [
    "## Global variables"
   ]
  },
  {
   "cell_type": "code",
   "execution_count": 15,
   "metadata": {
    "ExecuteTime": {
     "end_time": "2018-11-06T15:37:05.302030Z",
     "start_time": "2018-11-06T15:37:05.299028Z"
    },
    "collapsed": true
   },
   "outputs": [],
   "source": [
    "SAMPLE = \"FluxoniumTest_CD20181015\""
   ]
  },
  {
   "cell_type": "markdown",
   "metadata": {},
   "source": [
    "## Init instruments"
   ]
  },
  {
   "cell_type": "code",
   "execution_count": 16,
   "metadata": {
    "ExecuteTime": {
     "end_time": "2018-11-06T15:37:06.398791Z",
     "start_time": "2018-11-06T15:37:06.290689Z"
    },
    "collapsed": true
   },
   "outputs": [],
   "source": [
    "%run -i D:/OneDrive/BF2/Code/BF2/BF2/init_station.py"
   ]
  },
  {
   "cell_type": "code",
   "execution_count": 17,
   "metadata": {
    "ExecuteTime": {
     "end_time": "2018-11-06T15:37:07.131300Z",
     "start_time": "2018-11-06T15:37:06.643959Z"
    }
   },
   "outputs": [
    {
     "name": "stdout",
     "output_type": "stream",
     "text": [
      "Connected to: Rohde-Schwarz ZNB20-2Port (serial:1311601062101971, firmware:2.90) in 0.25s\n"
     ]
    }
   ],
   "source": [
    "from qcodes.instrument_drivers.rohde_schwarz.ZNB import ZNB\n",
    "vna = create_inst(ZNB, 'vna', address='TCPIP::169.254.62.18::inst0::INSTR', force_new_instance=True)\n",
    "station = qc.Station(vna)\n",
    "\n",
    "# the VNA driver has some weird default settings. \n",
    "# Make sure here that we measure what we want\n",
    "vna.clear_channels()\n",
    "vna.add_channel('S21')\n",
    "vna.S21.power(-50)\n",
    "vna.rf_off()"
   ]
  },
  {
   "cell_type": "code",
   "execution_count": 18,
   "metadata": {
    "ExecuteTime": {
     "end_time": "2018-11-06T15:37:08.725387Z",
     "start_time": "2018-11-06T15:37:07.217359Z"
    }
   },
   "outputs": [
    {
     "name": "stdout",
     "output_type": "stream",
     "text": [
      "Connected to: OXFORD INSTRUMENTS MERCURY IPS (serial:123550029, firmware:2.6.04.000) in 0.24s\n",
      "PS A/T: 58.312 58.433 18.12\n",
      "Deviation: 0.8537628111273792 0.8631166912850812 1.5150501672240801\n"
     ]
    }
   ],
   "source": [
    "from qcodes.instrument_drivers.oxford.MercuryiPS_VISA import MercuryiPS\n",
    "mgnt = create_inst(MercuryiPS, 'mgnt', address='TCPIP0::169.254.111.111::7020::SOCKET', force_new_instance=True)\n",
    "\n",
    "station = add2station(station, mgnt)\n",
    "\n",
    "# Current/field conversion for QT2:\n",
    "# This only seems to work in engineering mode, though.\n",
    "# mgnt.GRPX.ATOB(68.3)\n",
    "# mgnt.GRPY.ATOB(67.7) \n",
    "# mgnt.GRPZ.ATOB(11.96)\n",
    "\n",
    "print(\"PS A/T:\", mgnt.GRPX.ATOB(), mgnt.GRPY.ATOB(), mgnt.GRPZ.ATOB())\n",
    "print(\"Deviation:\", mgnt.GRPX.ATOB()/68.3, mgnt.GRPY.ATOB()/67.7, mgnt.GRPZ.ATOB()/11.96)"
   ]
  },
  {
   "cell_type": "code",
   "execution_count": 19,
   "metadata": {
    "ExecuteTime": {
     "end_time": "2018-11-06T15:37:08.969586Z",
     "start_time": "2018-11-06T15:37:08.728390Z"
    },
    "collapsed": true
   },
   "outputs": [],
   "source": [
    "field_controller = (\n",
    "    TransformedController(mgnt)\n",
    "        .rescale(\n",
    "            68.3  / mgnt.GRPX.ATOB(),\n",
    "            67.7  / mgnt.GRPY.ATOB(),\n",
    "            11.96 / mgnt.GRPZ.ATOB()\n",
    "        )\n",
    "        .rotate_y_deg(180)\n",
    "#         .shift(FieldVector(0, 0, 0.1))\n",
    ")"
   ]
  },
  {
   "cell_type": "code",
   "execution_count": 20,
   "metadata": {
    "ExecuteTime": {
     "end_time": "2018-11-06T15:37:09.239775Z",
     "start_time": "2018-11-06T15:37:08.973590Z"
    }
   },
   "outputs": [
    {
     "name": "stdout",
     "output_type": "stream",
     "text": [
      "FieldVector(r=0.31722309184547076, phi=179.58869493677142, theta=153.9513310466426)\n",
      "FieldVector(r=0.24901585204157137, phi=2.5153429615791434, theta=6.085663776349101)\n"
     ]
    }
   ],
   "source": [
    "print(mgnt.field_measured().repr_spherical())\n",
    "print(field_controller.field_measured().repr_spherical())"
   ]
  },
  {
   "cell_type": "code",
   "execution_count": 21,
   "metadata": {
    "ExecuteTime": {
     "end_time": "2018-11-06T15:37:09.324811Z",
     "start_time": "2018-11-06T15:37:09.243778Z"
    }
   },
   "outputs": [
    {
     "name": "stdout",
     "output_type": "stream",
     "text": [
      "Connected to: Rohde&Schwarz SGS100A (serial:1416.0505k02/110531, firmware:3.1.19.15-3.50.124.67) in 0.03s\n"
     ]
    }
   ],
   "source": [
    "from qcodes.instrument_drivers.rohde_schwarz.SGS100A import RohdeSchwarz_SGS100A\n",
    "twpa_pump = create_inst(RohdeSchwarz_SGS100A, 'twpa_pump', address=\"TCPIP::169.254.167.18::inst0::INSTR\")\n",
    "station = add2station(station, twpa_pump)"
   ]
  },
  {
   "cell_type": "markdown",
   "metadata": {},
   "source": [
    "# Testing"
   ]
  },
  {
   "cell_type": "markdown",
   "metadata": {
    "ExecuteTime": {
     "end_time": "2018-10-15T12:31:02.235649Z",
     "start_time": "2018-10-15T12:31:02.213640Z"
    }
   },
   "source": [
    "## Quick manual trace (without saving)"
   ]
  },
  {
   "cell_type": "code",
   "execution_count": 27,
   "metadata": {
    "ExecuteTime": {
     "end_time": "2018-11-06T14:46:59.926923Z",
     "start_time": "2018-11-06T14:46:57.833572Z"
    }
   },
   "outputs": [
    {
     "data": {
      "application/javascript": [
       "/* Put everything inside the global mpl namespace */\n",
       "window.mpl = {};\n",
       "\n",
       "\n",
       "mpl.get_websocket_type = function() {\n",
       "    if (typeof(WebSocket) !== 'undefined') {\n",
       "        return WebSocket;\n",
       "    } else if (typeof(MozWebSocket) !== 'undefined') {\n",
       "        return MozWebSocket;\n",
       "    } else {\n",
       "        alert('Your browser does not have WebSocket support.' +\n",
       "              'Please try Chrome, Safari or Firefox ≥ 6. ' +\n",
       "              'Firefox 4 and 5 are also supported but you ' +\n",
       "              'have to enable WebSockets in about:config.');\n",
       "    };\n",
       "}\n",
       "\n",
       "mpl.figure = function(figure_id, websocket, ondownload, parent_element) {\n",
       "    this.id = figure_id;\n",
       "\n",
       "    this.ws = websocket;\n",
       "\n",
       "    this.supports_binary = (this.ws.binaryType != undefined);\n",
       "\n",
       "    if (!this.supports_binary) {\n",
       "        var warnings = document.getElementById(\"mpl-warnings\");\n",
       "        if (warnings) {\n",
       "            warnings.style.display = 'block';\n",
       "            warnings.textContent = (\n",
       "                \"This browser does not support binary websocket messages. \" +\n",
       "                    \"Performance may be slow.\");\n",
       "        }\n",
       "    }\n",
       "\n",
       "    this.imageObj = new Image();\n",
       "\n",
       "    this.context = undefined;\n",
       "    this.message = undefined;\n",
       "    this.canvas = undefined;\n",
       "    this.rubberband_canvas = undefined;\n",
       "    this.rubberband_context = undefined;\n",
       "    this.format_dropdown = undefined;\n",
       "\n",
       "    this.image_mode = 'full';\n",
       "\n",
       "    this.root = $('<div/>');\n",
       "    this._root_extra_style(this.root)\n",
       "    this.root.attr('style', 'display: inline-block');\n",
       "\n",
       "    $(parent_element).append(this.root);\n",
       "\n",
       "    this._init_header(this);\n",
       "    this._init_canvas(this);\n",
       "    this._init_toolbar(this);\n",
       "\n",
       "    var fig = this;\n",
       "\n",
       "    this.waiting = false;\n",
       "\n",
       "    this.ws.onopen =  function () {\n",
       "            fig.send_message(\"supports_binary\", {value: fig.supports_binary});\n",
       "            fig.send_message(\"send_image_mode\", {});\n",
       "            if (mpl.ratio != 1) {\n",
       "                fig.send_message(\"set_dpi_ratio\", {'dpi_ratio': mpl.ratio});\n",
       "            }\n",
       "            fig.send_message(\"refresh\", {});\n",
       "        }\n",
       "\n",
       "    this.imageObj.onload = function() {\n",
       "            if (fig.image_mode == 'full') {\n",
       "                // Full images could contain transparency (where diff images\n",
       "                // almost always do), so we need to clear the canvas so that\n",
       "                // there is no ghosting.\n",
       "                fig.context.clearRect(0, 0, fig.canvas.width, fig.canvas.height);\n",
       "            }\n",
       "            fig.context.drawImage(fig.imageObj, 0, 0);\n",
       "        };\n",
       "\n",
       "    this.imageObj.onunload = function() {\n",
       "        fig.ws.close();\n",
       "    }\n",
       "\n",
       "    this.ws.onmessage = this._make_on_message_function(this);\n",
       "\n",
       "    this.ondownload = ondownload;\n",
       "}\n",
       "\n",
       "mpl.figure.prototype._init_header = function() {\n",
       "    var titlebar = $(\n",
       "        '<div class=\"ui-dialog-titlebar ui-widget-header ui-corner-all ' +\n",
       "        'ui-helper-clearfix\"/>');\n",
       "    var titletext = $(\n",
       "        '<div class=\"ui-dialog-title\" style=\"width: 100%; ' +\n",
       "        'text-align: center; padding: 3px;\"/>');\n",
       "    titlebar.append(titletext)\n",
       "    this.root.append(titlebar);\n",
       "    this.header = titletext[0];\n",
       "}\n",
       "\n",
       "\n",
       "\n",
       "mpl.figure.prototype._canvas_extra_style = function(canvas_div) {\n",
       "\n",
       "}\n",
       "\n",
       "\n",
       "mpl.figure.prototype._root_extra_style = function(canvas_div) {\n",
       "\n",
       "}\n",
       "\n",
       "mpl.figure.prototype._init_canvas = function() {\n",
       "    var fig = this;\n",
       "\n",
       "    var canvas_div = $('<div/>');\n",
       "\n",
       "    canvas_div.attr('style', 'position: relative; clear: both; outline: 0');\n",
       "\n",
       "    function canvas_keyboard_event(event) {\n",
       "        return fig.key_event(event, event['data']);\n",
       "    }\n",
       "\n",
       "    canvas_div.keydown('key_press', canvas_keyboard_event);\n",
       "    canvas_div.keyup('key_release', canvas_keyboard_event);\n",
       "    this.canvas_div = canvas_div\n",
       "    this._canvas_extra_style(canvas_div)\n",
       "    this.root.append(canvas_div);\n",
       "\n",
       "    var canvas = $('<canvas/>');\n",
       "    canvas.addClass('mpl-canvas');\n",
       "    canvas.attr('style', \"left: 0; top: 0; z-index: 0; outline: 0\")\n",
       "\n",
       "    this.canvas = canvas[0];\n",
       "    this.context = canvas[0].getContext(\"2d\");\n",
       "\n",
       "    var backingStore = this.context.backingStorePixelRatio ||\n",
       "\tthis.context.webkitBackingStorePixelRatio ||\n",
       "\tthis.context.mozBackingStorePixelRatio ||\n",
       "\tthis.context.msBackingStorePixelRatio ||\n",
       "\tthis.context.oBackingStorePixelRatio ||\n",
       "\tthis.context.backingStorePixelRatio || 1;\n",
       "\n",
       "    mpl.ratio = (window.devicePixelRatio || 1) / backingStore;\n",
       "\n",
       "    var rubberband = $('<canvas/>');\n",
       "    rubberband.attr('style', \"position: absolute; left: 0; top: 0; z-index: 1;\")\n",
       "\n",
       "    var pass_mouse_events = true;\n",
       "\n",
       "    canvas_div.resizable({\n",
       "        start: function(event, ui) {\n",
       "            pass_mouse_events = false;\n",
       "        },\n",
       "        resize: function(event, ui) {\n",
       "            fig.request_resize(ui.size.width, ui.size.height);\n",
       "        },\n",
       "        stop: function(event, ui) {\n",
       "            pass_mouse_events = true;\n",
       "            fig.request_resize(ui.size.width, ui.size.height);\n",
       "        },\n",
       "    });\n",
       "\n",
       "    function mouse_event_fn(event) {\n",
       "        if (pass_mouse_events)\n",
       "            return fig.mouse_event(event, event['data']);\n",
       "    }\n",
       "\n",
       "    rubberband.mousedown('button_press', mouse_event_fn);\n",
       "    rubberband.mouseup('button_release', mouse_event_fn);\n",
       "    // Throttle sequential mouse events to 1 every 20ms.\n",
       "    rubberband.mousemove('motion_notify', mouse_event_fn);\n",
       "\n",
       "    rubberband.mouseenter('figure_enter', mouse_event_fn);\n",
       "    rubberband.mouseleave('figure_leave', mouse_event_fn);\n",
       "\n",
       "    canvas_div.on(\"wheel\", function (event) {\n",
       "        event = event.originalEvent;\n",
       "        event['data'] = 'scroll'\n",
       "        if (event.deltaY < 0) {\n",
       "            event.step = 1;\n",
       "        } else {\n",
       "            event.step = -1;\n",
       "        }\n",
       "        mouse_event_fn(event);\n",
       "    });\n",
       "\n",
       "    canvas_div.append(canvas);\n",
       "    canvas_div.append(rubberband);\n",
       "\n",
       "    this.rubberband = rubberband;\n",
       "    this.rubberband_canvas = rubberband[0];\n",
       "    this.rubberband_context = rubberband[0].getContext(\"2d\");\n",
       "    this.rubberband_context.strokeStyle = \"#000000\";\n",
       "\n",
       "    this._resize_canvas = function(width, height) {\n",
       "        // Keep the size of the canvas, canvas container, and rubber band\n",
       "        // canvas in synch.\n",
       "        canvas_div.css('width', width)\n",
       "        canvas_div.css('height', height)\n",
       "\n",
       "        canvas.attr('width', width * mpl.ratio);\n",
       "        canvas.attr('height', height * mpl.ratio);\n",
       "        canvas.attr('style', 'width: ' + width + 'px; height: ' + height + 'px;');\n",
       "\n",
       "        rubberband.attr('width', width);\n",
       "        rubberband.attr('height', height);\n",
       "    }\n",
       "\n",
       "    // Set the figure to an initial 600x600px, this will subsequently be updated\n",
       "    // upon first draw.\n",
       "    this._resize_canvas(600, 600);\n",
       "\n",
       "    // Disable right mouse context menu.\n",
       "    $(this.rubberband_canvas).bind(\"contextmenu\",function(e){\n",
       "        return false;\n",
       "    });\n",
       "\n",
       "    function set_focus () {\n",
       "        canvas.focus();\n",
       "        canvas_div.focus();\n",
       "    }\n",
       "\n",
       "    window.setTimeout(set_focus, 100);\n",
       "}\n",
       "\n",
       "mpl.figure.prototype._init_toolbar = function() {\n",
       "    var fig = this;\n",
       "\n",
       "    var nav_element = $('<div/>')\n",
       "    nav_element.attr('style', 'width: 100%');\n",
       "    this.root.append(nav_element);\n",
       "\n",
       "    // Define a callback function for later on.\n",
       "    function toolbar_event(event) {\n",
       "        return fig.toolbar_button_onclick(event['data']);\n",
       "    }\n",
       "    function toolbar_mouse_event(event) {\n",
       "        return fig.toolbar_button_onmouseover(event['data']);\n",
       "    }\n",
       "\n",
       "    for(var toolbar_ind in mpl.toolbar_items) {\n",
       "        var name = mpl.toolbar_items[toolbar_ind][0];\n",
       "        var tooltip = mpl.toolbar_items[toolbar_ind][1];\n",
       "        var image = mpl.toolbar_items[toolbar_ind][2];\n",
       "        var method_name = mpl.toolbar_items[toolbar_ind][3];\n",
       "\n",
       "        if (!name) {\n",
       "            // put a spacer in here.\n",
       "            continue;\n",
       "        }\n",
       "        var button = $('<button/>');\n",
       "        button.addClass('ui-button ui-widget ui-state-default ui-corner-all ' +\n",
       "                        'ui-button-icon-only');\n",
       "        button.attr('role', 'button');\n",
       "        button.attr('aria-disabled', 'false');\n",
       "        button.click(method_name, toolbar_event);\n",
       "        button.mouseover(tooltip, toolbar_mouse_event);\n",
       "\n",
       "        var icon_img = $('<span/>');\n",
       "        icon_img.addClass('ui-button-icon-primary ui-icon');\n",
       "        icon_img.addClass(image);\n",
       "        icon_img.addClass('ui-corner-all');\n",
       "\n",
       "        var tooltip_span = $('<span/>');\n",
       "        tooltip_span.addClass('ui-button-text');\n",
       "        tooltip_span.html(tooltip);\n",
       "\n",
       "        button.append(icon_img);\n",
       "        button.append(tooltip_span);\n",
       "\n",
       "        nav_element.append(button);\n",
       "    }\n",
       "\n",
       "    var fmt_picker_span = $('<span/>');\n",
       "\n",
       "    var fmt_picker = $('<select/>');\n",
       "    fmt_picker.addClass('mpl-toolbar-option ui-widget ui-widget-content');\n",
       "    fmt_picker_span.append(fmt_picker);\n",
       "    nav_element.append(fmt_picker_span);\n",
       "    this.format_dropdown = fmt_picker[0];\n",
       "\n",
       "    for (var ind in mpl.extensions) {\n",
       "        var fmt = mpl.extensions[ind];\n",
       "        var option = $(\n",
       "            '<option/>', {selected: fmt === mpl.default_extension}).html(fmt);\n",
       "        fmt_picker.append(option)\n",
       "    }\n",
       "\n",
       "    // Add hover states to the ui-buttons\n",
       "    $( \".ui-button\" ).hover(\n",
       "        function() { $(this).addClass(\"ui-state-hover\");},\n",
       "        function() { $(this).removeClass(\"ui-state-hover\");}\n",
       "    );\n",
       "\n",
       "    var status_bar = $('<span class=\"mpl-message\"/>');\n",
       "    nav_element.append(status_bar);\n",
       "    this.message = status_bar[0];\n",
       "}\n",
       "\n",
       "mpl.figure.prototype.request_resize = function(x_pixels, y_pixels) {\n",
       "    // Request matplotlib to resize the figure. Matplotlib will then trigger a resize in the client,\n",
       "    // which will in turn request a refresh of the image.\n",
       "    this.send_message('resize', {'width': x_pixels, 'height': y_pixels});\n",
       "}\n",
       "\n",
       "mpl.figure.prototype.send_message = function(type, properties) {\n",
       "    properties['type'] = type;\n",
       "    properties['figure_id'] = this.id;\n",
       "    this.ws.send(JSON.stringify(properties));\n",
       "}\n",
       "\n",
       "mpl.figure.prototype.send_draw_message = function() {\n",
       "    if (!this.waiting) {\n",
       "        this.waiting = true;\n",
       "        this.ws.send(JSON.stringify({type: \"draw\", figure_id: this.id}));\n",
       "    }\n",
       "}\n",
       "\n",
       "\n",
       "mpl.figure.prototype.handle_save = function(fig, msg) {\n",
       "    var format_dropdown = fig.format_dropdown;\n",
       "    var format = format_dropdown.options[format_dropdown.selectedIndex].value;\n",
       "    fig.ondownload(fig, format);\n",
       "}\n",
       "\n",
       "\n",
       "mpl.figure.prototype.handle_resize = function(fig, msg) {\n",
       "    var size = msg['size'];\n",
       "    if (size[0] != fig.canvas.width || size[1] != fig.canvas.height) {\n",
       "        fig._resize_canvas(size[0], size[1]);\n",
       "        fig.send_message(\"refresh\", {});\n",
       "    };\n",
       "}\n",
       "\n",
       "mpl.figure.prototype.handle_rubberband = function(fig, msg) {\n",
       "    var x0 = msg['x0'] / mpl.ratio;\n",
       "    var y0 = (fig.canvas.height - msg['y0']) / mpl.ratio;\n",
       "    var x1 = msg['x1'] / mpl.ratio;\n",
       "    var y1 = (fig.canvas.height - msg['y1']) / mpl.ratio;\n",
       "    x0 = Math.floor(x0) + 0.5;\n",
       "    y0 = Math.floor(y0) + 0.5;\n",
       "    x1 = Math.floor(x1) + 0.5;\n",
       "    y1 = Math.floor(y1) + 0.5;\n",
       "    var min_x = Math.min(x0, x1);\n",
       "    var min_y = Math.min(y0, y1);\n",
       "    var width = Math.abs(x1 - x0);\n",
       "    var height = Math.abs(y1 - y0);\n",
       "\n",
       "    fig.rubberband_context.clearRect(\n",
       "        0, 0, fig.canvas.width, fig.canvas.height);\n",
       "\n",
       "    fig.rubberband_context.strokeRect(min_x, min_y, width, height);\n",
       "}\n",
       "\n",
       "mpl.figure.prototype.handle_figure_label = function(fig, msg) {\n",
       "    // Updates the figure title.\n",
       "    fig.header.textContent = msg['label'];\n",
       "}\n",
       "\n",
       "mpl.figure.prototype.handle_cursor = function(fig, msg) {\n",
       "    var cursor = msg['cursor'];\n",
       "    switch(cursor)\n",
       "    {\n",
       "    case 0:\n",
       "        cursor = 'pointer';\n",
       "        break;\n",
       "    case 1:\n",
       "        cursor = 'default';\n",
       "        break;\n",
       "    case 2:\n",
       "        cursor = 'crosshair';\n",
       "        break;\n",
       "    case 3:\n",
       "        cursor = 'move';\n",
       "        break;\n",
       "    }\n",
       "    fig.rubberband_canvas.style.cursor = cursor;\n",
       "}\n",
       "\n",
       "mpl.figure.prototype.handle_message = function(fig, msg) {\n",
       "    fig.message.textContent = msg['message'];\n",
       "}\n",
       "\n",
       "mpl.figure.prototype.handle_draw = function(fig, msg) {\n",
       "    // Request the server to send over a new figure.\n",
       "    fig.send_draw_message();\n",
       "}\n",
       "\n",
       "mpl.figure.prototype.handle_image_mode = function(fig, msg) {\n",
       "    fig.image_mode = msg['mode'];\n",
       "}\n",
       "\n",
       "mpl.figure.prototype.updated_canvas_event = function() {\n",
       "    // Called whenever the canvas gets updated.\n",
       "    this.send_message(\"ack\", {});\n",
       "}\n",
       "\n",
       "// A function to construct a web socket function for onmessage handling.\n",
       "// Called in the figure constructor.\n",
       "mpl.figure.prototype._make_on_message_function = function(fig) {\n",
       "    return function socket_on_message(evt) {\n",
       "        if (evt.data instanceof Blob) {\n",
       "            /* FIXME: We get \"Resource interpreted as Image but\n",
       "             * transferred with MIME type text/plain:\" errors on\n",
       "             * Chrome.  But how to set the MIME type?  It doesn't seem\n",
       "             * to be part of the websocket stream */\n",
       "            evt.data.type = \"image/png\";\n",
       "\n",
       "            /* Free the memory for the previous frames */\n",
       "            if (fig.imageObj.src) {\n",
       "                (window.URL || window.webkitURL).revokeObjectURL(\n",
       "                    fig.imageObj.src);\n",
       "            }\n",
       "\n",
       "            fig.imageObj.src = (window.URL || window.webkitURL).createObjectURL(\n",
       "                evt.data);\n",
       "            fig.updated_canvas_event();\n",
       "            fig.waiting = false;\n",
       "            return;\n",
       "        }\n",
       "        else if (typeof evt.data === 'string' && evt.data.slice(0, 21) == \"data:image/png;base64\") {\n",
       "            fig.imageObj.src = evt.data;\n",
       "            fig.updated_canvas_event();\n",
       "            fig.waiting = false;\n",
       "            return;\n",
       "        }\n",
       "\n",
       "        var msg = JSON.parse(evt.data);\n",
       "        var msg_type = msg['type'];\n",
       "\n",
       "        // Call the  \"handle_{type}\" callback, which takes\n",
       "        // the figure and JSON message as its only arguments.\n",
       "        try {\n",
       "            var callback = fig[\"handle_\" + msg_type];\n",
       "        } catch (e) {\n",
       "            console.log(\"No handler for the '\" + msg_type + \"' message type: \", msg);\n",
       "            return;\n",
       "        }\n",
       "\n",
       "        if (callback) {\n",
       "            try {\n",
       "                // console.log(\"Handling '\" + msg_type + \"' message: \", msg);\n",
       "                callback(fig, msg);\n",
       "            } catch (e) {\n",
       "                console.log(\"Exception inside the 'handler_\" + msg_type + \"' callback:\", e, e.stack, msg);\n",
       "            }\n",
       "        }\n",
       "    };\n",
       "}\n",
       "\n",
       "// from http://stackoverflow.com/questions/1114465/getting-mouse-location-in-canvas\n",
       "mpl.findpos = function(e) {\n",
       "    //this section is from http://www.quirksmode.org/js/events_properties.html\n",
       "    var targ;\n",
       "    if (!e)\n",
       "        e = window.event;\n",
       "    if (e.target)\n",
       "        targ = e.target;\n",
       "    else if (e.srcElement)\n",
       "        targ = e.srcElement;\n",
       "    if (targ.nodeType == 3) // defeat Safari bug\n",
       "        targ = targ.parentNode;\n",
       "\n",
       "    // jQuery normalizes the pageX and pageY\n",
       "    // pageX,Y are the mouse positions relative to the document\n",
       "    // offset() returns the position of the element relative to the document\n",
       "    var x = e.pageX - $(targ).offset().left;\n",
       "    var y = e.pageY - $(targ).offset().top;\n",
       "\n",
       "    return {\"x\": x, \"y\": y};\n",
       "};\n",
       "\n",
       "/*\n",
       " * return a copy of an object with only non-object keys\n",
       " * we need this to avoid circular references\n",
       " * http://stackoverflow.com/a/24161582/3208463\n",
       " */\n",
       "function simpleKeys (original) {\n",
       "  return Object.keys(original).reduce(function (obj, key) {\n",
       "    if (typeof original[key] !== 'object')\n",
       "        obj[key] = original[key]\n",
       "    return obj;\n",
       "  }, {});\n",
       "}\n",
       "\n",
       "mpl.figure.prototype.mouse_event = function(event, name) {\n",
       "    var canvas_pos = mpl.findpos(event)\n",
       "\n",
       "    if (name === 'button_press')\n",
       "    {\n",
       "        this.canvas.focus();\n",
       "        this.canvas_div.focus();\n",
       "    }\n",
       "\n",
       "    var x = canvas_pos.x * mpl.ratio;\n",
       "    var y = canvas_pos.y * mpl.ratio;\n",
       "\n",
       "    this.send_message(name, {x: x, y: y, button: event.button,\n",
       "                             step: event.step,\n",
       "                             guiEvent: simpleKeys(event)});\n",
       "\n",
       "    /* This prevents the web browser from automatically changing to\n",
       "     * the text insertion cursor when the button is pressed.  We want\n",
       "     * to control all of the cursor setting manually through the\n",
       "     * 'cursor' event from matplotlib */\n",
       "    event.preventDefault();\n",
       "    return false;\n",
       "}\n",
       "\n",
       "mpl.figure.prototype._key_event_extra = function(event, name) {\n",
       "    // Handle any extra behaviour associated with a key event\n",
       "}\n",
       "\n",
       "mpl.figure.prototype.key_event = function(event, name) {\n",
       "\n",
       "    // Prevent repeat events\n",
       "    if (name == 'key_press')\n",
       "    {\n",
       "        if (event.which === this._key)\n",
       "            return;\n",
       "        else\n",
       "            this._key = event.which;\n",
       "    }\n",
       "    if (name == 'key_release')\n",
       "        this._key = null;\n",
       "\n",
       "    var value = '';\n",
       "    if (event.ctrlKey && event.which != 17)\n",
       "        value += \"ctrl+\";\n",
       "    if (event.altKey && event.which != 18)\n",
       "        value += \"alt+\";\n",
       "    if (event.shiftKey && event.which != 16)\n",
       "        value += \"shift+\";\n",
       "\n",
       "    value += 'k';\n",
       "    value += event.which.toString();\n",
       "\n",
       "    this._key_event_extra(event, name);\n",
       "\n",
       "    this.send_message(name, {key: value,\n",
       "                             guiEvent: simpleKeys(event)});\n",
       "    return false;\n",
       "}\n",
       "\n",
       "mpl.figure.prototype.toolbar_button_onclick = function(name) {\n",
       "    if (name == 'download') {\n",
       "        this.handle_save(this, null);\n",
       "    } else {\n",
       "        this.send_message(\"toolbar_button\", {name: name});\n",
       "    }\n",
       "};\n",
       "\n",
       "mpl.figure.prototype.toolbar_button_onmouseover = function(tooltip) {\n",
       "    this.message.textContent = tooltip;\n",
       "};\n",
       "mpl.toolbar_items = [[\"Home\", \"Reset original view\", \"fa fa-home icon-home\", \"home\"], [\"Back\", \"Back to  previous view\", \"fa fa-arrow-left icon-arrow-left\", \"back\"], [\"Forward\", \"Forward to next view\", \"fa fa-arrow-right icon-arrow-right\", \"forward\"], [\"\", \"\", \"\", \"\"], [\"Pan\", \"Pan axes with left mouse, zoom with right\", \"fa fa-arrows icon-move\", \"pan\"], [\"Zoom\", \"Zoom to rectangle\", \"fa fa-square-o icon-check-empty\", \"zoom\"], [\"\", \"\", \"\", \"\"], [\"Download\", \"Download plot\", \"fa fa-floppy-o icon-save\", \"download\"]];\n",
       "\n",
       "mpl.extensions = [\"eps\", \"pdf\", \"png\", \"ps\", \"raw\", \"svg\"];\n",
       "\n",
       "mpl.default_extension = \"png\";var comm_websocket_adapter = function(comm) {\n",
       "    // Create a \"websocket\"-like object which calls the given IPython comm\n",
       "    // object with the appropriate methods. Currently this is a non binary\n",
       "    // socket, so there is still some room for performance tuning.\n",
       "    var ws = {};\n",
       "\n",
       "    ws.close = function() {\n",
       "        comm.close()\n",
       "    };\n",
       "    ws.send = function(m) {\n",
       "        //console.log('sending', m);\n",
       "        comm.send(m);\n",
       "    };\n",
       "    // Register the callback with on_msg.\n",
       "    comm.on_msg(function(msg) {\n",
       "        //console.log('receiving', msg['content']['data'], msg);\n",
       "        // Pass the mpl event to the overriden (by mpl) onmessage function.\n",
       "        ws.onmessage(msg['content']['data'])\n",
       "    });\n",
       "    return ws;\n",
       "}\n",
       "\n",
       "mpl.mpl_figure_comm = function(comm, msg) {\n",
       "    // This is the function which gets called when the mpl process\n",
       "    // starts-up an IPython Comm through the \"matplotlib\" channel.\n",
       "\n",
       "    var id = msg.content.data.id;\n",
       "    // Get hold of the div created by the display call when the Comm\n",
       "    // socket was opened in Python.\n",
       "    var element = $(\"#\" + id);\n",
       "    var ws_proxy = comm_websocket_adapter(comm)\n",
       "\n",
       "    function ondownload(figure, format) {\n",
       "        window.open(figure.imageObj.src);\n",
       "    }\n",
       "\n",
       "    var fig = new mpl.figure(id, ws_proxy,\n",
       "                           ondownload,\n",
       "                           element.get(0));\n",
       "\n",
       "    // Call onopen now - mpl needs it, as it is assuming we've passed it a real\n",
       "    // web socket which is closed, not our websocket->open comm proxy.\n",
       "    ws_proxy.onopen();\n",
       "\n",
       "    fig.parent_element = element.get(0);\n",
       "    fig.cell_info = mpl.find_output_cell(\"<div id='\" + id + \"'></div>\");\n",
       "    if (!fig.cell_info) {\n",
       "        console.error(\"Failed to find cell for figure\", id, fig);\n",
       "        return;\n",
       "    }\n",
       "\n",
       "    var output_index = fig.cell_info[2]\n",
       "    var cell = fig.cell_info[0];\n",
       "\n",
       "};\n",
       "\n",
       "mpl.figure.prototype.handle_close = function(fig, msg) {\n",
       "    var width = fig.canvas.width/mpl.ratio\n",
       "    fig.root.unbind('remove')\n",
       "\n",
       "    // Update the output cell to use the data from the current canvas.\n",
       "    fig.push_to_output();\n",
       "    var dataURL = fig.canvas.toDataURL();\n",
       "    // Re-enable the keyboard manager in IPython - without this line, in FF,\n",
       "    // the notebook keyboard shortcuts fail.\n",
       "    IPython.keyboard_manager.enable()\n",
       "    $(fig.parent_element).html('<img src=\"' + dataURL + '\" width=\"' + width + '\">');\n",
       "    fig.close_ws(fig, msg);\n",
       "}\n",
       "\n",
       "mpl.figure.prototype.close_ws = function(fig, msg){\n",
       "    fig.send_message('closing', msg);\n",
       "    // fig.ws.close()\n",
       "}\n",
       "\n",
       "mpl.figure.prototype.push_to_output = function(remove_interactive) {\n",
       "    // Turn the data on the canvas into data in the output cell.\n",
       "    var width = this.canvas.width/mpl.ratio\n",
       "    var dataURL = this.canvas.toDataURL();\n",
       "    this.cell_info[1]['text/html'] = '<img src=\"' + dataURL + '\" width=\"' + width + '\">';\n",
       "}\n",
       "\n",
       "mpl.figure.prototype.updated_canvas_event = function() {\n",
       "    // Tell IPython that the notebook contents must change.\n",
       "    IPython.notebook.set_dirty(true);\n",
       "    this.send_message(\"ack\", {});\n",
       "    var fig = this;\n",
       "    // Wait a second, then push the new image to the DOM so\n",
       "    // that it is saved nicely (might be nice to debounce this).\n",
       "    setTimeout(function () { fig.push_to_output() }, 1000);\n",
       "}\n",
       "\n",
       "mpl.figure.prototype._init_toolbar = function() {\n",
       "    var fig = this;\n",
       "\n",
       "    var nav_element = $('<div/>')\n",
       "    nav_element.attr('style', 'width: 100%');\n",
       "    this.root.append(nav_element);\n",
       "\n",
       "    // Define a callback function for later on.\n",
       "    function toolbar_event(event) {\n",
       "        return fig.toolbar_button_onclick(event['data']);\n",
       "    }\n",
       "    function toolbar_mouse_event(event) {\n",
       "        return fig.toolbar_button_onmouseover(event['data']);\n",
       "    }\n",
       "\n",
       "    for(var toolbar_ind in mpl.toolbar_items){\n",
       "        var name = mpl.toolbar_items[toolbar_ind][0];\n",
       "        var tooltip = mpl.toolbar_items[toolbar_ind][1];\n",
       "        var image = mpl.toolbar_items[toolbar_ind][2];\n",
       "        var method_name = mpl.toolbar_items[toolbar_ind][3];\n",
       "\n",
       "        if (!name) { continue; };\n",
       "\n",
       "        var button = $('<button class=\"btn btn-default\" href=\"#\" title=\"' + name + '\"><i class=\"fa ' + image + ' fa-lg\"></i></button>');\n",
       "        button.click(method_name, toolbar_event);\n",
       "        button.mouseover(tooltip, toolbar_mouse_event);\n",
       "        nav_element.append(button);\n",
       "    }\n",
       "\n",
       "    // Add the status bar.\n",
       "    var status_bar = $('<span class=\"mpl-message\" style=\"text-align:right; float: right;\"/>');\n",
       "    nav_element.append(status_bar);\n",
       "    this.message = status_bar[0];\n",
       "\n",
       "    // Add the close button to the window.\n",
       "    var buttongrp = $('<div class=\"btn-group inline pull-right\"></div>');\n",
       "    var button = $('<button class=\"btn btn-mini btn-primary\" href=\"#\" title=\"Stop Interaction\"><i class=\"fa fa-power-off icon-remove icon-large\"></i></button>');\n",
       "    button.click(function (evt) { fig.handle_close(fig, {}); } );\n",
       "    button.mouseover('Stop Interaction', toolbar_mouse_event);\n",
       "    buttongrp.append(button);\n",
       "    var titlebar = this.root.find($('.ui-dialog-titlebar'));\n",
       "    titlebar.prepend(buttongrp);\n",
       "}\n",
       "\n",
       "mpl.figure.prototype._root_extra_style = function(el){\n",
       "    var fig = this\n",
       "    el.on(\"remove\", function(){\n",
       "\tfig.close_ws(fig, {});\n",
       "    });\n",
       "}\n",
       "\n",
       "mpl.figure.prototype._canvas_extra_style = function(el){\n",
       "    // this is important to make the div 'focusable\n",
       "    el.attr('tabindex', 0)\n",
       "    // reach out to IPython and tell the keyboard manager to turn it's self\n",
       "    // off when our div gets focus\n",
       "\n",
       "    // location in version 3\n",
       "    if (IPython.notebook.keyboard_manager) {\n",
       "        IPython.notebook.keyboard_manager.register_events(el);\n",
       "    }\n",
       "    else {\n",
       "        // location in version 2\n",
       "        IPython.keyboard_manager.register_events(el);\n",
       "    }\n",
       "\n",
       "}\n",
       "\n",
       "mpl.figure.prototype._key_event_extra = function(event, name) {\n",
       "    var manager = IPython.notebook.keyboard_manager;\n",
       "    if (!manager)\n",
       "        manager = IPython.keyboard_manager;\n",
       "\n",
       "    // Check for shift+enter\n",
       "    if (event.shiftKey && event.which == 13) {\n",
       "        this.canvas_div.blur();\n",
       "        event.shiftKey = false;\n",
       "        // Send a \"J\" for go to next cell\n",
       "        event.which = 74;\n",
       "        event.keyCode = 74;\n",
       "        manager.command_mode();\n",
       "        manager.handle_keydown(event);\n",
       "    }\n",
       "}\n",
       "\n",
       "mpl.figure.prototype.handle_save = function(fig, msg) {\n",
       "    fig.ondownload(fig, null);\n",
       "}\n",
       "\n",
       "\n",
       "mpl.find_output_cell = function(html_output) {\n",
       "    // Return the cell and output element which can be found *uniquely* in the notebook.\n",
       "    // Note - this is a bit hacky, but it is done because the \"notebook_saving.Notebook\"\n",
       "    // IPython event is triggered only after the cells have been serialised, which for\n",
       "    // our purposes (turning an active figure into a static one), is too late.\n",
       "    var cells = IPython.notebook.get_cells();\n",
       "    var ncells = cells.length;\n",
       "    for (var i=0; i<ncells; i++) {\n",
       "        var cell = cells[i];\n",
       "        if (cell.cell_type === 'code'){\n",
       "            for (var j=0; j<cell.output_area.outputs.length; j++) {\n",
       "                var data = cell.output_area.outputs[j];\n",
       "                if (data.data) {\n",
       "                    // IPython >= 3 moved mimebundle to data attribute of output\n",
       "                    data = data.data;\n",
       "                }\n",
       "                if (data['text/html'] == html_output) {\n",
       "                    return [cell, data, j];\n",
       "                }\n",
       "            }\n",
       "        }\n",
       "    }\n",
       "}\n",
       "\n",
       "// Register the function which deals with the matplotlib target/channel.\n",
       "// The kernel may be null if the page has been refreshed.\n",
       "if (IPython.notebook.kernel != null) {\n",
       "    IPython.notebook.kernel.comm_manager.register_target('matplotlib', mpl.mpl_figure_comm);\n",
       "}\n"
      ],
      "text/plain": [
       "<IPython.core.display.Javascript object>"
      ]
     },
     "metadata": {},
     "output_type": "display_data"
    },
    {
     "data": {
      "text/html": [
       "<img src=\"data:image/png;base64,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\" width=\"675\">"
      ],
      "text/plain": [
       "<IPython.core.display.HTML object>"
      ]
     },
     "metadata": {},
     "output_type": "display_data"
    }
   ],
   "source": [
    "setup_frq_sweep(fstart=(4.37-0.01)*1e9, fstop=(4.37+0.01)*1e9, fpts=1501, pwr=-50)\n",
    "mag, phase = take_trace(plot=True)"
   ]
  },
  {
   "cell_type": "code",
   "execution_count": 28,
   "metadata": {
    "ExecuteTime": {
     "end_time": "2018-11-06T14:46:59.935954Z",
     "start_time": "2018-11-06T14:46:59.930954Z"
    },
    "collapsed": true
   },
   "outputs": [],
   "source": [
    "vna.S21.autoscale()"
   ]
  },
  {
   "cell_type": "markdown",
   "metadata": {
    "ExecuteTime": {
     "end_time": "2018-10-15T13:41:13.770824Z",
     "start_time": "2018-10-15T13:41:13.756811Z"
    },
    "heading_collapsed": true
   },
   "source": [
    "# Take a single VNA trace"
   ]
  },
  {
   "cell_type": "code",
   "execution_count": 22,
   "metadata": {
    "ExecuteTime": {
     "end_time": "2018-11-06T13:18:44.941035Z",
     "start_time": "2018-11-06T13:18:39.145989Z"
    },
    "hidden": true
   },
   "outputs": [
    {
     "name": "stderr",
     "output_type": "stream",
     "text": [
      "Upgrading database: 100%|████████████████████████████████████████████████████████| 127/127 [00:01<00:00, 85.12it/s]\n"
     ]
    },
    {
     "ename": "NameError",
     "evalue": "name 'o' is not defined",
     "output_type": "error",
     "traceback": [
      "\u001b[1;31m---------------------------------------------------------------------------\u001b[0m",
      "\u001b[1;31mTypeError\u001b[0m                                 Traceback (most recent call last)",
      "\u001b[1;32md:\\onedrive\\bf2\\code\\qcodes\\qcodes\\utils\\helpers.py\u001b[0m in \u001b[0;36mdefault\u001b[1;34m(self, obj)\u001b[0m\n\u001b[0;32m     70\u001b[0m             \u001b[1;32mtry\u001b[0m\u001b[1;33m:\u001b[0m\u001b[1;33m\u001b[0m\u001b[0m\n\u001b[1;32m---> 71\u001b[1;33m                 \u001b[0ms\u001b[0m \u001b[1;33m=\u001b[0m \u001b[0msuper\u001b[0m\u001b[1;33m(\u001b[0m\u001b[0mNumpyJSONEncoder\u001b[0m\u001b[1;33m,\u001b[0m \u001b[0mself\u001b[0m\u001b[1;33m)\u001b[0m\u001b[1;33m.\u001b[0m\u001b[0mdefault\u001b[0m\u001b[1;33m(\u001b[0m\u001b[0mobj\u001b[0m\u001b[1;33m)\u001b[0m\u001b[1;33m\u001b[0m\u001b[0m\n\u001b[0m\u001b[0;32m     72\u001b[0m             \u001b[1;32mexcept\u001b[0m \u001b[0mTypeError\u001b[0m\u001b[1;33m:\u001b[0m\u001b[1;33m\u001b[0m\u001b[0m\n",
      "\u001b[1;32mC:\\ProgramData\\Anaconda3\\lib\\json\\encoder.py\u001b[0m in \u001b[0;36mdefault\u001b[1;34m(self, o)\u001b[0m\n\u001b[0;32m    179\u001b[0m         raise TypeError(\"Object of type '%s' is not JSON serializable\" %\n\u001b[1;32m--> 180\u001b[1;33m                         o.__class__.__name__)\n\u001b[0m\u001b[0;32m    181\u001b[0m \u001b[1;33m\u001b[0m\u001b[0m\n",
      "\u001b[1;31mTypeError\u001b[0m: Object of type 'FieldVector' is not JSON serializable",
      "\nDuring handling of the above exception, another exception occurred:\n",
      "\u001b[1;31mNameError\u001b[0m                                 Traceback (most recent call last)",
      "\u001b[1;32mD:/OneDrive/BF2/Code/BF2/BF2/init_station.py\u001b[0m in \u001b[0;36m<module>\u001b[1;34m\u001b[0m\n\u001b[0;32m      1\u001b[0m \u001b[0msweep_obj\u001b[0m \u001b[1;33m=\u001b[0m \u001b[0mvna_frequency_sweep_dB\u001b[0m\u001b[1;33m(\u001b[0m\u001b[0mfstart\u001b[0m\u001b[1;33m=\u001b[0m\u001b[1;36m4.365e9\u001b[0m\u001b[1;33m,\u001b[0m \u001b[0mfstop\u001b[0m\u001b[1;33m=\u001b[0m\u001b[1;36m4.375e9\u001b[0m\u001b[1;33m,\u001b[0m \u001b[0mfpts\u001b[0m\u001b[1;33m=\u001b[0m\u001b[1;36m10001\u001b[0m\u001b[1;33m,\u001b[0m \u001b[0mchan\u001b[0m\u001b[1;33m=\u001b[0m\u001b[1;34m'S21'\u001b[0m\u001b[1;33m)\u001b[0m\u001b[1;33m\u001b[0m\u001b[0m\n\u001b[1;32m----> 2\u001b[1;33m \u001b[0mresult\u001b[0m \u001b[1;33m=\u001b[0m \u001b[0mdo_experiment\u001b[0m\u001b[1;33m(\u001b[0m\u001b[1;34mf\"VNA/{SAMPLE}\"\u001b[0m\u001b[1;33m,\u001b[0m \u001b[0msweep_obj\u001b[0m\u001b[1;33m,\u001b[0m \u001b[0mlive_plot\u001b[0m\u001b[1;33m=\u001b[0m\u001b[1;32mTrue\u001b[0m\u001b[1;33m)\u001b[0m\u001b[1;33m\u001b[0m\u001b[0m\n\u001b[0m",
      "\u001b[1;32md:\\onedrive\\bf2\\code\\pytopo\\pytopo\\sweep\\do_experiment.py\u001b[0m in \u001b[0;36mdo_experiment\u001b[1;34m(experiment_name, sweep_object, setup, cleanup, station, live_plot)\u001b[0m\n\u001b[0;32m     90\u001b[0m     \u001b[0madd_actions\u001b[0m\u001b[1;33m(\u001b[0m\u001b[0mmeas\u001b[0m\u001b[1;33m.\u001b[0m\u001b[0madd_after_run\u001b[0m\u001b[1;33m,\u001b[0m \u001b[0mcleanup\u001b[0m\u001b[1;33m)\u001b[0m\u001b[1;33m\u001b[0m\u001b[0m\n\u001b[0;32m     91\u001b[0m \u001b[1;33m\u001b[0m\u001b[0m\n\u001b[1;32m---> 92\u001b[1;33m     \u001b[1;32mwith\u001b[0m \u001b[0mmeas\u001b[0m\u001b[1;33m.\u001b[0m\u001b[0mrun\u001b[0m\u001b[1;33m(\u001b[0m\u001b[1;33m)\u001b[0m \u001b[1;32mas\u001b[0m \u001b[0mdatasaver\u001b[0m\u001b[1;33m:\u001b[0m\u001b[1;33m\u001b[0m\u001b[0m\n\u001b[0m\u001b[0;32m     93\u001b[0m \u001b[1;33m\u001b[0m\u001b[0m\n\u001b[0;32m     94\u001b[0m         \u001b[1;32mif\u001b[0m \u001b[0mlive_plot\u001b[0m\u001b[1;33m:\u001b[0m\u001b[1;33m\u001b[0m\u001b[0m\n",
      "\u001b[1;32md:\\onedrive\\bf2\\code\\qcodes\\qcodes\\dataset\\measurements.py\u001b[0m in \u001b[0;36m__enter__\u001b[1;34m(self)\u001b[0m\n\u001b[0;32m    464\u001b[0m             self.ds.add_metadata('snapshot',\n\u001b[0;32m    465\u001b[0m                                  json.dumps({'station': station.snapshot()},\n\u001b[1;32m--> 466\u001b[1;33m                                             cls=NumpyJSONEncoder)\n\u001b[0m\u001b[0;32m    467\u001b[0m                                  )\n\u001b[0;32m    468\u001b[0m \u001b[1;33m\u001b[0m\u001b[0m\n",
      "\u001b[1;32mC:\\ProgramData\\Anaconda3\\lib\\json\\__init__.py\u001b[0m in \u001b[0;36mdumps\u001b[1;34m(obj, skipkeys, ensure_ascii, check_circular, allow_nan, cls, indent, separators, default, sort_keys, **kw)\u001b[0m\n\u001b[0;32m    236\u001b[0m         \u001b[0mcheck_circular\u001b[0m\u001b[1;33m=\u001b[0m\u001b[0mcheck_circular\u001b[0m\u001b[1;33m,\u001b[0m \u001b[0mallow_nan\u001b[0m\u001b[1;33m=\u001b[0m\u001b[0mallow_nan\u001b[0m\u001b[1;33m,\u001b[0m \u001b[0mindent\u001b[0m\u001b[1;33m=\u001b[0m\u001b[0mindent\u001b[0m\u001b[1;33m,\u001b[0m\u001b[1;33m\u001b[0m\u001b[0m\n\u001b[0;32m    237\u001b[0m         \u001b[0mseparators\u001b[0m\u001b[1;33m=\u001b[0m\u001b[0mseparators\u001b[0m\u001b[1;33m,\u001b[0m \u001b[0mdefault\u001b[0m\u001b[1;33m=\u001b[0m\u001b[0mdefault\u001b[0m\u001b[1;33m,\u001b[0m \u001b[0msort_keys\u001b[0m\u001b[1;33m=\u001b[0m\u001b[0msort_keys\u001b[0m\u001b[1;33m,\u001b[0m\u001b[1;33m\u001b[0m\u001b[0m\n\u001b[1;32m--> 238\u001b[1;33m         **kw).encode(obj)\n\u001b[0m\u001b[0;32m    239\u001b[0m \u001b[1;33m\u001b[0m\u001b[0m\n\u001b[0;32m    240\u001b[0m \u001b[1;33m\u001b[0m\u001b[0m\n",
      "\u001b[1;32mC:\\ProgramData\\Anaconda3\\lib\\json\\encoder.py\u001b[0m in \u001b[0;36mencode\u001b[1;34m(self, o)\u001b[0m\n\u001b[0;32m    197\u001b[0m         \u001b[1;31m# exceptions aren't as detailed.  The list call should be roughly\u001b[0m\u001b[1;33m\u001b[0m\u001b[1;33m\u001b[0m\u001b[0m\n\u001b[0;32m    198\u001b[0m         \u001b[1;31m# equivalent to the PySequence_Fast that ''.join() would do.\u001b[0m\u001b[1;33m\u001b[0m\u001b[1;33m\u001b[0m\u001b[0m\n\u001b[1;32m--> 199\u001b[1;33m         \u001b[0mchunks\u001b[0m \u001b[1;33m=\u001b[0m \u001b[0mself\u001b[0m\u001b[1;33m.\u001b[0m\u001b[0miterencode\u001b[0m\u001b[1;33m(\u001b[0m\u001b[0mo\u001b[0m\u001b[1;33m,\u001b[0m \u001b[0m_one_shot\u001b[0m\u001b[1;33m=\u001b[0m\u001b[1;32mTrue\u001b[0m\u001b[1;33m)\u001b[0m\u001b[1;33m\u001b[0m\u001b[0m\n\u001b[0m\u001b[0;32m    200\u001b[0m         \u001b[1;32mif\u001b[0m \u001b[1;32mnot\u001b[0m \u001b[0misinstance\u001b[0m\u001b[1;33m(\u001b[0m\u001b[0mchunks\u001b[0m\u001b[1;33m,\u001b[0m \u001b[1;33m(\u001b[0m\u001b[0mlist\u001b[0m\u001b[1;33m,\u001b[0m \u001b[0mtuple\u001b[0m\u001b[1;33m)\u001b[0m\u001b[1;33m)\u001b[0m\u001b[1;33m:\u001b[0m\u001b[1;33m\u001b[0m\u001b[0m\n\u001b[0;32m    201\u001b[0m             \u001b[0mchunks\u001b[0m \u001b[1;33m=\u001b[0m \u001b[0mlist\u001b[0m\u001b[1;33m(\u001b[0m\u001b[0mchunks\u001b[0m\u001b[1;33m)\u001b[0m\u001b[1;33m\u001b[0m\u001b[0m\n",
      "\u001b[1;32mC:\\ProgramData\\Anaconda3\\lib\\json\\encoder.py\u001b[0m in \u001b[0;36miterencode\u001b[1;34m(self, o, _one_shot)\u001b[0m\n\u001b[0;32m    255\u001b[0m                 \u001b[0mself\u001b[0m\u001b[1;33m.\u001b[0m\u001b[0mkey_separator\u001b[0m\u001b[1;33m,\u001b[0m \u001b[0mself\u001b[0m\u001b[1;33m.\u001b[0m\u001b[0mitem_separator\u001b[0m\u001b[1;33m,\u001b[0m \u001b[0mself\u001b[0m\u001b[1;33m.\u001b[0m\u001b[0msort_keys\u001b[0m\u001b[1;33m,\u001b[0m\u001b[1;33m\u001b[0m\u001b[0m\n\u001b[0;32m    256\u001b[0m                 self.skipkeys, _one_shot)\n\u001b[1;32m--> 257\u001b[1;33m         \u001b[1;32mreturn\u001b[0m \u001b[0m_iterencode\u001b[0m\u001b[1;33m(\u001b[0m\u001b[0mo\u001b[0m\u001b[1;33m,\u001b[0m \u001b[1;36m0\u001b[0m\u001b[1;33m)\u001b[0m\u001b[1;33m\u001b[0m\u001b[0m\n\u001b[0m\u001b[0;32m    258\u001b[0m \u001b[1;33m\u001b[0m\u001b[0m\n\u001b[0;32m    259\u001b[0m def _make_iterencode(markers, _default, _encoder, _indent, _floatstr,\n",
      "\u001b[1;32md:\\onedrive\\bf2\\code\\qcodes\\qcodes\\utils\\helpers.py\u001b[0m in \u001b[0;36mdefault\u001b[1;34m(self, obj)\u001b[0m\n\u001b[0;32m     73\u001b[0m                 \u001b[1;31m# See if the object supports the pickle protocol.\u001b[0m\u001b[1;33m\u001b[0m\u001b[1;33m\u001b[0m\u001b[0m\n\u001b[0;32m     74\u001b[0m                 \u001b[1;31m# If so, we should be able to use that to serialize.\u001b[0m\u001b[1;33m\u001b[0m\u001b[1;33m\u001b[0m\u001b[0m\n\u001b[1;32m---> 75\u001b[1;33m                 \u001b[1;32mif\u001b[0m \u001b[0mhasattr\u001b[0m\u001b[1;33m(\u001b[0m\u001b[0mo\u001b[0m\u001b[1;33m,\u001b[0m \u001b[1;34m'__getnewargs__'\u001b[0m\u001b[1;33m)\u001b[0m\u001b[1;33m:\u001b[0m\u001b[1;33m\u001b[0m\u001b[0m\n\u001b[0m\u001b[0;32m     76\u001b[0m                     return {\n\u001b[0;32m     77\u001b[0m                         \u001b[1;34m'__class__'\u001b[0m\u001b[1;33m:\u001b[0m \u001b[0mtype\u001b[0m\u001b[1;33m(\u001b[0m\u001b[0mo\u001b[0m\u001b[1;33m)\u001b[0m\u001b[1;33m.\u001b[0m\u001b[0m__class__\u001b[0m\u001b[1;33m.\u001b[0m\u001b[0m__name__\u001b[0m\u001b[1;33m,\u001b[0m\u001b[1;33m\u001b[0m\u001b[0m\n",
      "\u001b[1;31mNameError\u001b[0m: name 'o' is not defined"
     ]
    }
   ],
   "source": [
    "sweep_obj = vna_frequency_sweep_dB(fstart=4.365e9, fstop=4.375e9, fpts=10001, chan='S21')\n",
    "result = do_experiment(f\"VNA/{SAMPLE}\", sweep_obj, live_plot=True)"
   ]
  },
  {
   "cell_type": "raw",
   "metadata": {
    "ExecuteTime": {
     "end_time": "2018-10-22T14:12:22.823989Z",
     "start_time": "2018-10-22T14:08:11.008132Z"
    },
    "hidden": true
   },
   "source": [
    "sweep_obj = sweep(it,range(100))(vna_frequency_sweep_dB(fstart=4.368e9, fstop=4.372e9, fpts=10001, chan='S21'))\n",
    "result = do_experiment(f\"VNA_timesweep/{SAMPLE}\", sweep_obj, live_plot=True)"
   ]
  },
  {
   "cell_type": "markdown",
   "metadata": {
    "heading_collapsed": true
   },
   "source": [
    "# Power dependence"
   ]
  },
  {
   "cell_type": "code",
   "execution_count": null,
   "metadata": {
    "ExecuteTime": {
     "end_time": "2018-11-06T13:18:44.950012Z",
     "start_time": "2018-11-06T13:18:26.926Z"
    },
    "collapsed": true,
    "hidden": true
   },
   "outputs": [],
   "source": [
    "vna.S21.avg(10)"
   ]
  },
  {
   "cell_type": "code",
   "execution_count": null,
   "metadata": {
    "ExecuteTime": {
     "end_time": "2018-11-06T13:18:44.952038Z",
     "start_time": "2018-11-06T13:18:26.934Z"
    },
    "collapsed": true,
    "hidden": true
   },
   "outputs": [],
   "source": [
    "starts = [4.355e9, 3.7555e9, 3.543e9, 3.159e9, 3.0e9]\n",
    "spans = 4 * [40e6] + [2e9]\n",
    "\n",
    "for f0, fspan in zip(starts, spans):\n",
    "    sweep_obj = sweep(vna.S21.power, np.arange(-60., -9., 5.))(\n",
    "        vna_trace(fstart=f0, fstop=f0+fspan, fpts=4001, chan='S21', bw=1e3)\n",
    "    )\n",
    "    result = do_experiment(f\"VNA_powersweep/{SAMPLE}\", sweep_obj, live_plot=True)"
   ]
  },
  {
   "cell_type": "markdown",
   "metadata": {
    "heading_collapsed": true
   },
   "source": [
    "# TWPA pump tune up"
   ]
  },
  {
   "cell_type": "markdown",
   "metadata": {
    "hidden": true
   },
   "source": [
    "## VNA as function of pump power"
   ]
  },
  {
   "cell_type": "code",
   "execution_count": null,
   "metadata": {
    "ExecuteTime": {
     "end_time": "2018-11-06T13:18:44.954040Z",
     "start_time": "2018-11-06T13:18:26.940Z"
    },
    "collapsed": true,
    "hidden": true
   },
   "outputs": [],
   "source": [
    "sweep_obj = sweep(twpa_pump.power, np.arange(2.5, 8.5, .2))(\n",
    "    vna_trace(fstart=2e9, fstop=7e9, fpts=1001, chan='S21', navgs=1)\n",
    ")\n",
    "\n",
    "result = do_experiment(f\"VNA_vs_pump_power/{SAMPLE}\", sweep_obj, live_plot=True)"
   ]
  },
  {
   "cell_type": "markdown",
   "metadata": {
    "hidden": true
   },
   "source": [
    "## VNA as function of pump frq"
   ]
  },
  {
   "cell_type": "code",
   "execution_count": null,
   "metadata": {
    "ExecuteTime": {
     "end_time": "2018-11-06T13:18:44.956040Z",
     "start_time": "2018-11-06T13:18:26.945Z"
    },
    "collapsed": true,
    "hidden": true
   },
   "outputs": [],
   "source": [
    "sweep_obj = sweep(twpa_pump.frequency, np.arange(7.7e9, 8.4e9, 10e6))(\n",
    "    vna_trace(fstart=2e9, fstop=7e9, fpts=1001, chan='S21', navgs=1)\n",
    ")\n",
    "\n",
    "result = do_experiment(f\"VNA_vs_pump_frequency/{SAMPLE}\", sweep_obj, live_plot=True)"
   ]
  },
  {
   "cell_type": "markdown",
   "metadata": {
    "hidden": true
   },
   "source": [
    "## SNR as function of pump params"
   ]
  },
  {
   "cell_type": "code",
   "execution_count": null,
   "metadata": {
    "ExecuteTime": {
     "end_time": "2018-11-06T13:18:44.958042Z",
     "start_time": "2018-11-06T13:18:26.950Z"
    },
    "collapsed": true,
    "hidden": true
   },
   "outputs": [],
   "source": [
    "twpa_pump.on()\n",
    "vna.S21.avg(1)\n",
    "vna.S21.power(-50)\n",
    "setup_zerospan_trace(4.5e9, 201)\n",
    "\n",
    "\n",
    "sweep_obj = sweep(twpa_pump.frequency, np.arange(7.95e9, 8.05e9, 0.5e6))(\n",
    "    sweep(twpa_pump.power, np.arange(0.0, 12.0, .1)))(\n",
    "        measure(get_SNR)\n",
    ")\n",
    "\n",
    "result = do_experiment(f\"TWPA_SNR/{SAMPLE}\", sweep_obj, live_plot=True)"
   ]
  },
  {
   "cell_type": "code",
   "execution_count": null,
   "metadata": {
    "collapsed": true,
    "hidden": true
   },
   "outputs": [],
   "source": []
  },
  {
   "cell_type": "markdown",
   "metadata": {},
   "source": [
    "# VNA vs Magnet Measurements"
   ]
  },
  {
   "cell_type": "markdown",
   "metadata": {
    "ExecuteTime": {
     "end_time": "2018-10-18T14:48:41.930611Z",
     "start_time": "2018-10-18T14:48:41.917623Z"
    }
   },
   "source": [
    "## Step 1: play with magnet"
   ]
  },
  {
   "cell_type": "code",
   "execution_count": 22,
   "metadata": {
    "ExecuteTime": {
     "end_time": "2018-11-06T15:37:15.015388Z",
     "start_time": "2018-11-06T15:37:14.994371Z"
    }
   },
   "outputs": [
    {
     "data": {
      "text/plain": [
       "{'model': 'MERCURY IPS',\n",
       " 'vendor': 'OXFORD INSTRUMENTS',\n",
       " 'serial': '123550029',\n",
       " 'firmware': '2.6.04.000'}"
      ]
     },
     "execution_count": 22,
     "metadata": {},
     "output_type": "execute_result"
    }
   ],
   "source": [
    "mgnt.IDN()"
   ]
  },
  {
   "cell_type": "code",
   "execution_count": 23,
   "metadata": {
    "ExecuteTime": {
     "end_time": "2018-11-06T15:37:16.241469Z",
     "start_time": "2018-11-06T15:37:16.018311Z"
    }
   },
   "outputs": [
    {
     "data": {
      "text/plain": [
       "FieldVector(x=0.026374047130527767, y=0.0011585918915681208, z=0.2476125236549542)"
      ]
     },
     "execution_count": 23,
     "metadata": {},
     "output_type": "execute_result"
    }
   ],
   "source": [
    "field_controller.field_measured()"
   ]
  },
  {
   "cell_type": "code",
   "execution_count": 24,
   "metadata": {
    "ExecuteTime": {
     "end_time": "2018-11-06T15:37:20.221187Z",
     "start_time": "2018-11-06T15:37:20.098073Z"
    }
   },
   "outputs": [
    {
     "name": "stdout",
     "output_type": "stream",
     "text": [
      "Magnet reached FieldVector(r=0.24901585204157137, phi=2.5153429615791434, theta=6.085663776349101)\r"
     ]
    }
   ],
   "source": [
    "print(f'Magnet reached {field_controller.field_measured().repr_spherical()}', end='\\r')"
   ]
  },
  {
   "cell_type": "code",
   "execution_count": 45,
   "metadata": {
    "ExecuteTime": {
     "end_time": "2018-11-06T15:55:58.694595Z",
     "start_time": "2018-11-06T15:55:58.689632Z"
    },
    "collapsed": true
   },
   "outputs": [],
   "source": [
    "from ipywidgets import Label\n",
    "from IPython.display import display"
   ]
  },
  {
   "cell_type": "code",
   "execution_count": 53,
   "metadata": {
    "ExecuteTime": {
     "end_time": "2018-11-06T15:58:44.662709Z",
     "start_time": "2018-11-06T15:58:44.656733Z"
    },
    "collapsed": true
   },
   "outputs": [],
   "source": [
    "async def report_field():\n",
    "    while True:\n",
    "        print(f'Magnet reached {field_controller.field_measured().repr_spherical()}', end='\\r')\n",
    "        await asyncio.sleep(1)\n",
    "  \n",
    "# This isn't quite working yet.\n",
    "# async def report_field():\n",
    "#     try:\n",
    "#         widget = Label()\n",
    "#         display(widget)\n",
    "#         while True:\n",
    "#             widget.label = f'Magnet reached {field_controller.field_measured().repr_spherical()}'\n",
    "#             await asyncio.sleep(1)\n",
    "#     except asyncio.CancelledError:\n",
    "#         widget.close()"
   ]
  },
  {
   "cell_type": "code",
   "execution_count": 33,
   "metadata": {
    "ExecuteTime": {
     "end_time": "2018-11-06T14:47:18.126883Z",
     "start_time": "2018-11-06T14:47:18.122882Z"
    },
    "collapsed": true
   },
   "outputs": [],
   "source": [
    "# %autoawait seems a bit unstable still...\n",
    "# mgnt.field_target(FieldVector(0.1, 0, 0))\n",
    "# asyncio.ensure_future(report_field())a\n",
    "\n",
    "# await mgnt.ramp_async()"
   ]
  },
  {
   "cell_type": "code",
   "execution_count": 25,
   "metadata": {
    "ExecuteTime": {
     "end_time": "2018-11-06T15:37:27.302397Z",
     "start_time": "2018-11-06T15:37:27.266362Z"
    }
   },
   "outputs": [
    {
     "data": {
      "text/plain": [
       "0.001"
      ]
     },
     "execution_count": 25,
     "metadata": {},
     "output_type": "execute_result"
    }
   ],
   "source": [
    "mgnt.GRPY.field()"
   ]
  },
  {
   "cell_type": "code",
   "execution_count": 26,
   "metadata": {
    "ExecuteTime": {
     "end_time": "2018-11-06T15:38:10.005280Z",
     "start_time": "2018-11-06T15:38:09.890201Z"
    }
   },
   "outputs": [
    {
     "data": {
      "text/plain": [
       "FieldVector(x=-0.1393, y=0.001, z=-0.285)"
      ]
     },
     "execution_count": 26,
     "metadata": {},
     "output_type": "execute_result"
    }
   ],
   "source": [
    "mgnt.field_measured()"
   ]
  },
  {
   "cell_type": "code",
   "execution_count": 52,
   "metadata": {
    "ExecuteTime": {
     "end_time": "2018-11-06T15:57:58.868365Z",
     "start_time": "2018-11-06T15:57:46.114092Z"
    }
   },
   "outputs": [
    {
     "data": {
      "application/vnd.jupyter.widget-view+json": {
       "model_id": "74f2db4794084411beb898e15c51ef2a",
       "version_major": 2,
       "version_minor": 0
      },
      "text/plain": [
       "A Jupyter Widget"
      ]
     },
     "metadata": {},
     "output_type": "display_data"
    },
    {
     "ename": "KeyboardInterrupt",
     "evalue": "",
     "output_type": "error",
     "traceback": [
      "\u001b[1;31m---------------------------------------------------------------------------\u001b[0m",
      "\u001b[1;31mKeyboardInterrupt\u001b[0m                         Traceback (most recent call last)",
      "\u001b[1;32mD:/OneDrive/BF2/Code/BF2/BF2/init_station.py\u001b[0m in \u001b[0;36m<module>\u001b[1;34m\u001b[0m\n\u001b[0;32m      4\u001b[0m     \u001b[1;32mwith\u001b[0m \u001b[0mcancelling\u001b[0m\u001b[1;33m(\u001b[0m\u001b[0masyncio\u001b[0m\u001b[1;33m.\u001b[0m\u001b[0mensure_future\u001b[0m\u001b[1;33m(\u001b[0m\u001b[0mreport_field\u001b[0m\u001b[1;33m(\u001b[0m\u001b[1;33m)\u001b[0m\u001b[1;33m)\u001b[0m\u001b[1;33m)\u001b[0m\u001b[1;33m:\u001b[0m\u001b[1;33m\u001b[0m\u001b[0m\n\u001b[0;32m      5\u001b[0m         \u001b[0mawait\u001b[0m \u001b[0mmgnt\u001b[0m\u001b[1;33m.\u001b[0m\u001b[0mramp_async\u001b[0m\u001b[1;33m(\u001b[0m\u001b[1;33m)\u001b[0m\u001b[1;33m\u001b[0m\u001b[0m\n\u001b[1;32m----> 6\u001b[1;33m \u001b[0masyncio\u001b[0m\u001b[1;33m.\u001b[0m\u001b[0mget_event_loop\u001b[0m\u001b[1;33m(\u001b[0m\u001b[1;33m)\u001b[0m\u001b[1;33m.\u001b[0m\u001b[0mrun_until_complete\u001b[0m\u001b[1;33m(\u001b[0m\u001b[0mtask\u001b[0m\u001b[1;33m(\u001b[0m\u001b[1;33m)\u001b[0m\u001b[1;33m)\u001b[0m\u001b[1;33m\u001b[0m\u001b[0m\n\u001b[0m",
      "\u001b[1;32mC:\\ProgramData\\Anaconda3\\lib\\asyncio\\base_events.py\u001b[0m in \u001b[0;36mrun_until_complete\u001b[1;34m(self, future)\u001b[0m\n\u001b[0;32m    452\u001b[0m         \u001b[0mfuture\u001b[0m\u001b[1;33m.\u001b[0m\u001b[0madd_done_callback\u001b[0m\u001b[1;33m(\u001b[0m\u001b[0m_run_until_complete_cb\u001b[0m\u001b[1;33m)\u001b[0m\u001b[1;33m\u001b[0m\u001b[0m\n\u001b[0;32m    453\u001b[0m         \u001b[1;32mtry\u001b[0m\u001b[1;33m:\u001b[0m\u001b[1;33m\u001b[0m\u001b[0m\n\u001b[1;32m--> 454\u001b[1;33m             \u001b[0mself\u001b[0m\u001b[1;33m.\u001b[0m\u001b[0mrun_forever\u001b[0m\u001b[1;33m(\u001b[0m\u001b[1;33m)\u001b[0m\u001b[1;33m\u001b[0m\u001b[0m\n\u001b[0m\u001b[0;32m    455\u001b[0m         \u001b[1;32mexcept\u001b[0m\u001b[1;33m:\u001b[0m\u001b[1;33m\u001b[0m\u001b[0m\n\u001b[0;32m    456\u001b[0m             \u001b[1;32mif\u001b[0m \u001b[0mnew_task\u001b[0m \u001b[1;32mand\u001b[0m \u001b[0mfuture\u001b[0m\u001b[1;33m.\u001b[0m\u001b[0mdone\u001b[0m\u001b[1;33m(\u001b[0m\u001b[1;33m)\u001b[0m \u001b[1;32mand\u001b[0m \u001b[1;32mnot\u001b[0m \u001b[0mfuture\u001b[0m\u001b[1;33m.\u001b[0m\u001b[0mcancelled\u001b[0m\u001b[1;33m(\u001b[0m\u001b[1;33m)\u001b[0m\u001b[1;33m:\u001b[0m\u001b[1;33m\u001b[0m\u001b[0m\n",
      "\u001b[1;32mC:\\ProgramData\\Anaconda3\\lib\\asyncio\\base_events.py\u001b[0m in \u001b[0;36mrun_forever\u001b[1;34m(self)\u001b[0m\n\u001b[0;32m    419\u001b[0m             \u001b[0mevents\u001b[0m\u001b[1;33m.\u001b[0m\u001b[0m_set_running_loop\u001b[0m\u001b[1;33m(\u001b[0m\u001b[0mself\u001b[0m\u001b[1;33m)\u001b[0m\u001b[1;33m\u001b[0m\u001b[0m\n\u001b[0;32m    420\u001b[0m             \u001b[1;32mwhile\u001b[0m \u001b[1;32mTrue\u001b[0m\u001b[1;33m:\u001b[0m\u001b[1;33m\u001b[0m\u001b[0m\n\u001b[1;32m--> 421\u001b[1;33m                 \u001b[0mself\u001b[0m\u001b[1;33m.\u001b[0m\u001b[0m_run_once\u001b[0m\u001b[1;33m(\u001b[0m\u001b[1;33m)\u001b[0m\u001b[1;33m\u001b[0m\u001b[0m\n\u001b[0m\u001b[0;32m    422\u001b[0m                 \u001b[1;32mif\u001b[0m \u001b[0mself\u001b[0m\u001b[1;33m.\u001b[0m\u001b[0m_stopping\u001b[0m\u001b[1;33m:\u001b[0m\u001b[1;33m\u001b[0m\u001b[0m\n\u001b[0;32m    423\u001b[0m                     \u001b[1;32mbreak\u001b[0m\u001b[1;33m\u001b[0m\u001b[0m\n",
      "\u001b[1;32mC:\\ProgramData\\Anaconda3\\lib\\asyncio\\base_events.py\u001b[0m in \u001b[0;36m_run_once\u001b[1;34m(self)\u001b[0m\n\u001b[0;32m   1388\u001b[0m                            timeout * 1e3, dt * 1e3)\n\u001b[0;32m   1389\u001b[0m         \u001b[1;32melse\u001b[0m\u001b[1;33m:\u001b[0m\u001b[1;33m\u001b[0m\u001b[0m\n\u001b[1;32m-> 1390\u001b[1;33m             \u001b[0mevent_list\u001b[0m \u001b[1;33m=\u001b[0m \u001b[0mself\u001b[0m\u001b[1;33m.\u001b[0m\u001b[0m_selector\u001b[0m\u001b[1;33m.\u001b[0m\u001b[0mselect\u001b[0m\u001b[1;33m(\u001b[0m\u001b[0mtimeout\u001b[0m\u001b[1;33m)\u001b[0m\u001b[1;33m\u001b[0m\u001b[0m\n\u001b[0m\u001b[0;32m   1391\u001b[0m         \u001b[0mself\u001b[0m\u001b[1;33m.\u001b[0m\u001b[0m_process_events\u001b[0m\u001b[1;33m(\u001b[0m\u001b[0mevent_list\u001b[0m\u001b[1;33m)\u001b[0m\u001b[1;33m\u001b[0m\u001b[0m\n\u001b[0;32m   1392\u001b[0m \u001b[1;33m\u001b[0m\u001b[0m\n",
      "\u001b[1;32mC:\\ProgramData\\Anaconda3\\lib\\selectors.py\u001b[0m in \u001b[0;36mselect\u001b[1;34m(self, timeout)\u001b[0m\n\u001b[0;32m    321\u001b[0m         \u001b[0mready\u001b[0m \u001b[1;33m=\u001b[0m \u001b[1;33m[\u001b[0m\u001b[1;33m]\u001b[0m\u001b[1;33m\u001b[0m\u001b[0m\n\u001b[0;32m    322\u001b[0m         \u001b[1;32mtry\u001b[0m\u001b[1;33m:\u001b[0m\u001b[1;33m\u001b[0m\u001b[0m\n\u001b[1;32m--> 323\u001b[1;33m             \u001b[0mr\u001b[0m\u001b[1;33m,\u001b[0m \u001b[0mw\u001b[0m\u001b[1;33m,\u001b[0m \u001b[0m_\u001b[0m \u001b[1;33m=\u001b[0m \u001b[0mself\u001b[0m\u001b[1;33m.\u001b[0m\u001b[0m_select\u001b[0m\u001b[1;33m(\u001b[0m\u001b[0mself\u001b[0m\u001b[1;33m.\u001b[0m\u001b[0m_readers\u001b[0m\u001b[1;33m,\u001b[0m \u001b[0mself\u001b[0m\u001b[1;33m.\u001b[0m\u001b[0m_writers\u001b[0m\u001b[1;33m,\u001b[0m \u001b[1;33m[\u001b[0m\u001b[1;33m]\u001b[0m\u001b[1;33m,\u001b[0m \u001b[0mtimeout\u001b[0m\u001b[1;33m)\u001b[0m\u001b[1;33m\u001b[0m\u001b[0m\n\u001b[0m\u001b[0;32m    324\u001b[0m         \u001b[1;32mexcept\u001b[0m \u001b[0mInterruptedError\u001b[0m\u001b[1;33m:\u001b[0m\u001b[1;33m\u001b[0m\u001b[0m\n\u001b[0;32m    325\u001b[0m             \u001b[1;32mreturn\u001b[0m \u001b[0mready\u001b[0m\u001b[1;33m\u001b[0m\u001b[0m\n",
      "\u001b[1;32mC:\\ProgramData\\Anaconda3\\lib\\selectors.py\u001b[0m in \u001b[0;36m_select\u001b[1;34m(self, r, w, _, timeout)\u001b[0m\n\u001b[0;32m    312\u001b[0m     \u001b[1;32mif\u001b[0m \u001b[0msys\u001b[0m\u001b[1;33m.\u001b[0m\u001b[0mplatform\u001b[0m \u001b[1;33m==\u001b[0m \u001b[1;34m'win32'\u001b[0m\u001b[1;33m:\u001b[0m\u001b[1;33m\u001b[0m\u001b[0m\n\u001b[0;32m    313\u001b[0m         \u001b[1;32mdef\u001b[0m \u001b[0m_select\u001b[0m\u001b[1;33m(\u001b[0m\u001b[0mself\u001b[0m\u001b[1;33m,\u001b[0m \u001b[0mr\u001b[0m\u001b[1;33m,\u001b[0m \u001b[0mw\u001b[0m\u001b[1;33m,\u001b[0m \u001b[0m_\u001b[0m\u001b[1;33m,\u001b[0m \u001b[0mtimeout\u001b[0m\u001b[1;33m=\u001b[0m\u001b[1;32mNone\u001b[0m\u001b[1;33m)\u001b[0m\u001b[1;33m:\u001b[0m\u001b[1;33m\u001b[0m\u001b[0m\n\u001b[1;32m--> 314\u001b[1;33m             \u001b[0mr\u001b[0m\u001b[1;33m,\u001b[0m \u001b[0mw\u001b[0m\u001b[1;33m,\u001b[0m \u001b[0mx\u001b[0m \u001b[1;33m=\u001b[0m \u001b[0mselect\u001b[0m\u001b[1;33m.\u001b[0m\u001b[0mselect\u001b[0m\u001b[1;33m(\u001b[0m\u001b[0mr\u001b[0m\u001b[1;33m,\u001b[0m \u001b[0mw\u001b[0m\u001b[1;33m,\u001b[0m \u001b[0mw\u001b[0m\u001b[1;33m,\u001b[0m \u001b[0mtimeout\u001b[0m\u001b[1;33m)\u001b[0m\u001b[1;33m\u001b[0m\u001b[0m\n\u001b[0m\u001b[0;32m    315\u001b[0m             \u001b[1;32mreturn\u001b[0m \u001b[0mr\u001b[0m\u001b[1;33m,\u001b[0m \u001b[0mw\u001b[0m \u001b[1;33m+\u001b[0m \u001b[0mx\u001b[0m\u001b[1;33m,\u001b[0m \u001b[1;33m[\u001b[0m\u001b[1;33m]\u001b[0m\u001b[1;33m\u001b[0m\u001b[0m\n\u001b[0;32m    316\u001b[0m     \u001b[1;32melse\u001b[0m\u001b[1;33m:\u001b[0m\u001b[1;33m\u001b[0m\u001b[0m\n",
      "\u001b[1;31mKeyboardInterrupt\u001b[0m: "
     ]
    }
   ],
   "source": [
    "# w/o %autoawait\n",
    "async def task():\n",
    "    mgnt.field_target(FieldVector(0.15, 0, 0.2))\n",
    "    with cancelling(asyncio.ensure_future(report_field())):\n",
    "        await mgnt.ramp_async()\n",
    "asyncio.get_event_loop().run_until_complete(task())"
   ]
  },
  {
   "cell_type": "markdown",
   "metadata": {
    "ExecuteTime": {
     "end_time": "2018-10-18T15:40:06.033247Z",
     "start_time": "2018-10-18T15:40:06.028244Z"
    }
   },
   "source": [
    "## Optimizing the field orientation"
   ]
  },
  {
   "cell_type": "markdown",
   "metadata": {},
   "source": [
    "### tool functions"
   ]
  },
  {
   "cell_type": "code",
   "execution_count": 30,
   "metadata": {
    "ExecuteTime": {
     "end_time": "2018-11-06T15:43:33.239472Z",
     "start_time": "2018-11-06T15:43:33.231434Z"
    },
    "collapsed": true
   },
   "outputs": [],
   "source": [
    "def get_trace_min(frqvals, trace):\n",
    "    return frqvals[np.argmin(trace)], trace[np.argmin(trace)]\n",
    "\n",
    "def find_frequency(frqvals, trace, method=get_trace_min, plot=False):\n",
    "    f0, y0 = method(frqvals, trace)\n",
    "    \n",
    "    if plot:\n",
    "        fig, ax = plt.subplots(1,1)\n",
    "        ax.plot(frqvals, trace, 'o-', mfc='None', mew=0.5, lw=0.5)\n",
    "        ax.grid(dashes=[1,1])\n",
    "        ax.set_xlabel('Frequency')\n",
    "        ax.set_ylabel('S21 (dBm)')\n",
    "        r, phi, theta = mgnt.r_measured(), mgnt.phi_measured(), mgnt.theta_measured()\n",
    "        ax.set_title('B = %.3f, phi = %.1f, theta = %.1f' %(r, phi, theta))\n",
    "        \n",
    "        ax.plot([f0], [y0], '*', ms=10, mew=1, mfc='None')\n",
    "        \n",
    "    return f0\n",
    "\n",
    "# def step_field_spherical(dr, dphi, dtheta, nsteps):\n",
    "#     pass"
   ]
  },
  {
   "cell_type": "code",
   "execution_count": 31,
   "metadata": {
    "ExecuteTime": {
     "end_time": "2018-11-06T15:43:33.600724Z",
     "start_time": "2018-11-06T15:43:33.594689Z"
    },
    "collapsed": true
   },
   "outputs": [],
   "source": [
    "def frequency_parameter():\n",
    "    fstart = 4.375e9 - 80e6\n",
    "    fstop = fstart + 160e6\n",
    "    fvals = setup_frq_sweep(fstart, fstop, 2001)\n",
    "    trace = 20*np.log10(take_trace()[0])\n",
    "    return find_frequency(fvals, trace)"
   ]
  },
  {
   "cell_type": "code",
   "execution_count": 32,
   "metadata": {
    "ExecuteTime": {
     "end_time": "2018-11-06T15:43:34.117054Z",
     "start_time": "2018-11-06T15:43:33.899902Z"
    },
    "collapsed": true
   },
   "outputs": [],
   "source": [
    "from scipy.optimize import curve_fit\n",
    "from functools import partial"
   ]
  },
  {
   "cell_type": "code",
   "execution_count": 33,
   "metadata": {
    "ExecuteTime": {
     "end_time": "2018-11-06T15:43:35.851288Z",
     "start_time": "2018-11-06T15:43:35.842281Z"
    },
    "collapsed": true
   },
   "outputs": [],
   "source": [
    "def cauchy_model(freq, amplitude, offset, location, scale):\n",
    "    return amplitude / (np.pi * scale * (1 + ((freq - location) / scale) ** 2)) + offset\n",
    "\n",
    "def meas_cauchy_trace(center_freq, freq_window, n_freqs=1001, freq_est_method=get_trace_min):\n",
    "    f_start = center_freq - freq_window / 2\n",
    "    f_stop = f_start + freq_window\n",
    "    freqs = setup_frq_sweep(f_start, f_stop, n_freqs)\n",
    "    \n",
    "    trace = take_trace()[0]\n",
    "    \n",
    "    center_freq, center_amplitude = freq_est_method(freqs, trace)\n",
    "    \n",
    "    # Guess the amplitude, offset, and location.\n",
    "    amp_guess = -4e6\n",
    "    offset_guess = trace[0]\n",
    "    location_guess = center_freq\n",
    "    guess = np.array([amp_guess, offset_guess, location_guess, 1e6])\n",
    "    \n",
    "    # Fit a Cauchy, using the guess above as a starting point.\n",
    "    model = cauchy_model\n",
    "    p_opt, p_cov = curve_fit(\n",
    "        model, freqs, trace,\n",
    "        guess\n",
    "    )\n",
    "    \n",
    "    return trace, p_opt"
   ]
  },
  {
   "cell_type": "code",
   "execution_count": 34,
   "metadata": {
    "ExecuteTime": {
     "end_time": "2018-11-06T15:43:38.142860Z",
     "start_time": "2018-11-06T15:43:38.138854Z"
    },
    "collapsed": true
   },
   "outputs": [],
   "source": [
    "def frequency_uncertianty_parameter():\n",
    "    center = frequency_parameter()\n",
    "    trace, p_opt = meas_cauchy_trace(center, 40e6)\n",
    "    return p_opt[3]"
   ]
  },
  {
   "cell_type": "code",
   "execution_count": 35,
   "metadata": {
    "ExecuteTime": {
     "end_time": "2018-11-06T15:43:49.390718Z",
     "start_time": "2018-11-06T15:43:49.386695Z"
    },
    "collapsed": true
   },
   "outputs": [],
   "source": [
    "field_opt = FieldOptimizationProblem(field_controller, frequency_parameter, frequency_uncertianty_parameter)"
   ]
  },
  {
   "cell_type": "code",
   "execution_count": 36,
   "metadata": {
    "ExecuteTime": {
     "end_time": "2018-11-06T15:51:54.250797Z",
     "start_time": "2018-11-06T15:44:05.868185Z"
    }
   },
   "outputs": [
    {
     "name": "stdout",
     "output_type": "stream",
     "text": [
      "Setting field target to FieldVector(r=0.17357095414675172, phi=180.0, theta=160.6199635656091)\n",
      "Setting field target to FieldVector(r=0.09077570060106055, phi=180.0, theta=155.53786238867062)\n",
      "Setting field target to FieldVector(r=0.019951958804820338, phi=180.0, theta=42.81664151296816)\n",
      "Setting field target to FieldVector(r=0.10569753023993281, phi=0.0, theta=4.786987783269095)\n",
      "Setting field target to FieldVector(r=0.17527590509579444, phi=0.0, theta=8.411437829176476)\n",
      "Setting field target to FieldVector(r=0.21716628191822654, phi=0.0, theta=9.473330033031761)\n",
      "Setting field target to FieldVector(r=0.2367058912211265, phi=0.0, theta=9.845616166441001)\n",
      "Setting field target to FieldVector(r=0.24328311112944928, phi=0.0, theta=9.98694538523375)\n",
      "Setting field target to FieldVector(r=0.24480560388380435, phi=0.0, theta=10.005158831509334)\n",
      "Setting field target to FieldVector(r=0.245, phi=0.0, theta=10.000000000000012)3)43)\n",
      "Move complete. FieldVector(r=0.2449115318024542, phi=0.0, theta=10.006196303361302)\n"
     ]
    }
   ],
   "source": [
    "# w/o %autoawait\n",
    "async def task():\n",
    "    mgnt.field_target(FieldVector(0.15, 0, 0.2))\n",
    "    with cancelling(asyncio.ensure_future(report_field())):\n",
    "        await field_opt.set_field_async(FieldVector(r=0.245, phi=0, theta=10), absolute=True, ramp_rate=3e-3, verbose=True)\n",
    "asyncio.get_event_loop().run_until_complete(task())"
   ]
  },
  {
   "cell_type": "code",
   "execution_count": 37,
   "metadata": {
    "ExecuteTime": {
     "end_time": "2018-11-06T15:51:54.724124Z",
     "start_time": "2018-11-06T15:51:54.254795Z"
    }
   },
   "outputs": [
    {
     "name": "stdout",
     "output_type": "stream",
     "text": [
      "Physical:    FieldVector(r=0.3015381402078351, phi=-180.0, theta=150.71470066058774)\n",
      "Transformed: FieldVector(r=0.2449115318024542, phi=0.0, theta=10.006196303361302)\n"
     ]
    }
   ],
   "source": [
    "print(f\"Physical:    {mgnt.field_measured().repr_spherical()}\")\n",
    "print(f\"Transformed: {field_controller.field_measured().repr_spherical()}\")"
   ]
  },
  {
   "cell_type": "code",
   "execution_count": 42,
   "metadata": {
    "ExecuteTime": {
     "end_time": "2018-11-06T15:52:13.476115Z",
     "start_time": "2018-11-06T15:52:12.116173Z"
    }
   },
   "outputs": [
    {
     "data": {
      "application/javascript": [
       "/* Put everything inside the global mpl namespace */\n",
       "window.mpl = {};\n",
       "\n",
       "\n",
       "mpl.get_websocket_type = function() {\n",
       "    if (typeof(WebSocket) !== 'undefined') {\n",
       "        return WebSocket;\n",
       "    } else if (typeof(MozWebSocket) !== 'undefined') {\n",
       "        return MozWebSocket;\n",
       "    } else {\n",
       "        alert('Your browser does not have WebSocket support.' +\n",
       "              'Please try Chrome, Safari or Firefox ≥ 6. ' +\n",
       "              'Firefox 4 and 5 are also supported but you ' +\n",
       "              'have to enable WebSockets in about:config.');\n",
       "    };\n",
       "}\n",
       "\n",
       "mpl.figure = function(figure_id, websocket, ondownload, parent_element) {\n",
       "    this.id = figure_id;\n",
       "\n",
       "    this.ws = websocket;\n",
       "\n",
       "    this.supports_binary = (this.ws.binaryType != undefined);\n",
       "\n",
       "    if (!this.supports_binary) {\n",
       "        var warnings = document.getElementById(\"mpl-warnings\");\n",
       "        if (warnings) {\n",
       "            warnings.style.display = 'block';\n",
       "            warnings.textContent = (\n",
       "                \"This browser does not support binary websocket messages. \" +\n",
       "                    \"Performance may be slow.\");\n",
       "        }\n",
       "    }\n",
       "\n",
       "    this.imageObj = new Image();\n",
       "\n",
       "    this.context = undefined;\n",
       "    this.message = undefined;\n",
       "    this.canvas = undefined;\n",
       "    this.rubberband_canvas = undefined;\n",
       "    this.rubberband_context = undefined;\n",
       "    this.format_dropdown = undefined;\n",
       "\n",
       "    this.image_mode = 'full';\n",
       "\n",
       "    this.root = $('<div/>');\n",
       "    this._root_extra_style(this.root)\n",
       "    this.root.attr('style', 'display: inline-block');\n",
       "\n",
       "    $(parent_element).append(this.root);\n",
       "\n",
       "    this._init_header(this);\n",
       "    this._init_canvas(this);\n",
       "    this._init_toolbar(this);\n",
       "\n",
       "    var fig = this;\n",
       "\n",
       "    this.waiting = false;\n",
       "\n",
       "    this.ws.onopen =  function () {\n",
       "            fig.send_message(\"supports_binary\", {value: fig.supports_binary});\n",
       "            fig.send_message(\"send_image_mode\", {});\n",
       "            if (mpl.ratio != 1) {\n",
       "                fig.send_message(\"set_dpi_ratio\", {'dpi_ratio': mpl.ratio});\n",
       "            }\n",
       "            fig.send_message(\"refresh\", {});\n",
       "        }\n",
       "\n",
       "    this.imageObj.onload = function() {\n",
       "            if (fig.image_mode == 'full') {\n",
       "                // Full images could contain transparency (where diff images\n",
       "                // almost always do), so we need to clear the canvas so that\n",
       "                // there is no ghosting.\n",
       "                fig.context.clearRect(0, 0, fig.canvas.width, fig.canvas.height);\n",
       "            }\n",
       "            fig.context.drawImage(fig.imageObj, 0, 0);\n",
       "        };\n",
       "\n",
       "    this.imageObj.onunload = function() {\n",
       "        fig.ws.close();\n",
       "    }\n",
       "\n",
       "    this.ws.onmessage = this._make_on_message_function(this);\n",
       "\n",
       "    this.ondownload = ondownload;\n",
       "}\n",
       "\n",
       "mpl.figure.prototype._init_header = function() {\n",
       "    var titlebar = $(\n",
       "        '<div class=\"ui-dialog-titlebar ui-widget-header ui-corner-all ' +\n",
       "        'ui-helper-clearfix\"/>');\n",
       "    var titletext = $(\n",
       "        '<div class=\"ui-dialog-title\" style=\"width: 100%; ' +\n",
       "        'text-align: center; padding: 3px;\"/>');\n",
       "    titlebar.append(titletext)\n",
       "    this.root.append(titlebar);\n",
       "    this.header = titletext[0];\n",
       "}\n",
       "\n",
       "\n",
       "\n",
       "mpl.figure.prototype._canvas_extra_style = function(canvas_div) {\n",
       "\n",
       "}\n",
       "\n",
       "\n",
       "mpl.figure.prototype._root_extra_style = function(canvas_div) {\n",
       "\n",
       "}\n",
       "\n",
       "mpl.figure.prototype._init_canvas = function() {\n",
       "    var fig = this;\n",
       "\n",
       "    var canvas_div = $('<div/>');\n",
       "\n",
       "    canvas_div.attr('style', 'position: relative; clear: both; outline: 0');\n",
       "\n",
       "    function canvas_keyboard_event(event) {\n",
       "        return fig.key_event(event, event['data']);\n",
       "    }\n",
       "\n",
       "    canvas_div.keydown('key_press', canvas_keyboard_event);\n",
       "    canvas_div.keyup('key_release', canvas_keyboard_event);\n",
       "    this.canvas_div = canvas_div\n",
       "    this._canvas_extra_style(canvas_div)\n",
       "    this.root.append(canvas_div);\n",
       "\n",
       "    var canvas = $('<canvas/>');\n",
       "    canvas.addClass('mpl-canvas');\n",
       "    canvas.attr('style', \"left: 0; top: 0; z-index: 0; outline: 0\")\n",
       "\n",
       "    this.canvas = canvas[0];\n",
       "    this.context = canvas[0].getContext(\"2d\");\n",
       "\n",
       "    var backingStore = this.context.backingStorePixelRatio ||\n",
       "\tthis.context.webkitBackingStorePixelRatio ||\n",
       "\tthis.context.mozBackingStorePixelRatio ||\n",
       "\tthis.context.msBackingStorePixelRatio ||\n",
       "\tthis.context.oBackingStorePixelRatio ||\n",
       "\tthis.context.backingStorePixelRatio || 1;\n",
       "\n",
       "    mpl.ratio = (window.devicePixelRatio || 1) / backingStore;\n",
       "\n",
       "    var rubberband = $('<canvas/>');\n",
       "    rubberband.attr('style', \"position: absolute; left: 0; top: 0; z-index: 1;\")\n",
       "\n",
       "    var pass_mouse_events = true;\n",
       "\n",
       "    canvas_div.resizable({\n",
       "        start: function(event, ui) {\n",
       "            pass_mouse_events = false;\n",
       "        },\n",
       "        resize: function(event, ui) {\n",
       "            fig.request_resize(ui.size.width, ui.size.height);\n",
       "        },\n",
       "        stop: function(event, ui) {\n",
       "            pass_mouse_events = true;\n",
       "            fig.request_resize(ui.size.width, ui.size.height);\n",
       "        },\n",
       "    });\n",
       "\n",
       "    function mouse_event_fn(event) {\n",
       "        if (pass_mouse_events)\n",
       "            return fig.mouse_event(event, event['data']);\n",
       "    }\n",
       "\n",
       "    rubberband.mousedown('button_press', mouse_event_fn);\n",
       "    rubberband.mouseup('button_release', mouse_event_fn);\n",
       "    // Throttle sequential mouse events to 1 every 20ms.\n",
       "    rubberband.mousemove('motion_notify', mouse_event_fn);\n",
       "\n",
       "    rubberband.mouseenter('figure_enter', mouse_event_fn);\n",
       "    rubberband.mouseleave('figure_leave', mouse_event_fn);\n",
       "\n",
       "    canvas_div.on(\"wheel\", function (event) {\n",
       "        event = event.originalEvent;\n",
       "        event['data'] = 'scroll'\n",
       "        if (event.deltaY < 0) {\n",
       "            event.step = 1;\n",
       "        } else {\n",
       "            event.step = -1;\n",
       "        }\n",
       "        mouse_event_fn(event);\n",
       "    });\n",
       "\n",
       "    canvas_div.append(canvas);\n",
       "    canvas_div.append(rubberband);\n",
       "\n",
       "    this.rubberband = rubberband;\n",
       "    this.rubberband_canvas = rubberband[0];\n",
       "    this.rubberband_context = rubberband[0].getContext(\"2d\");\n",
       "    this.rubberband_context.strokeStyle = \"#000000\";\n",
       "\n",
       "    this._resize_canvas = function(width, height) {\n",
       "        // Keep the size of the canvas, canvas container, and rubber band\n",
       "        // canvas in synch.\n",
       "        canvas_div.css('width', width)\n",
       "        canvas_div.css('height', height)\n",
       "\n",
       "        canvas.attr('width', width * mpl.ratio);\n",
       "        canvas.attr('height', height * mpl.ratio);\n",
       "        canvas.attr('style', 'width: ' + width + 'px; height: ' + height + 'px;');\n",
       "\n",
       "        rubberband.attr('width', width);\n",
       "        rubberband.attr('height', height);\n",
       "    }\n",
       "\n",
       "    // Set the figure to an initial 600x600px, this will subsequently be updated\n",
       "    // upon first draw.\n",
       "    this._resize_canvas(600, 600);\n",
       "\n",
       "    // Disable right mouse context menu.\n",
       "    $(this.rubberband_canvas).bind(\"contextmenu\",function(e){\n",
       "        return false;\n",
       "    });\n",
       "\n",
       "    function set_focus () {\n",
       "        canvas.focus();\n",
       "        canvas_div.focus();\n",
       "    }\n",
       "\n",
       "    window.setTimeout(set_focus, 100);\n",
       "}\n",
       "\n",
       "mpl.figure.prototype._init_toolbar = function() {\n",
       "    var fig = this;\n",
       "\n",
       "    var nav_element = $('<div/>')\n",
       "    nav_element.attr('style', 'width: 100%');\n",
       "    this.root.append(nav_element);\n",
       "\n",
       "    // Define a callback function for later on.\n",
       "    function toolbar_event(event) {\n",
       "        return fig.toolbar_button_onclick(event['data']);\n",
       "    }\n",
       "    function toolbar_mouse_event(event) {\n",
       "        return fig.toolbar_button_onmouseover(event['data']);\n",
       "    }\n",
       "\n",
       "    for(var toolbar_ind in mpl.toolbar_items) {\n",
       "        var name = mpl.toolbar_items[toolbar_ind][0];\n",
       "        var tooltip = mpl.toolbar_items[toolbar_ind][1];\n",
       "        var image = mpl.toolbar_items[toolbar_ind][2];\n",
       "        var method_name = mpl.toolbar_items[toolbar_ind][3];\n",
       "\n",
       "        if (!name) {\n",
       "            // put a spacer in here.\n",
       "            continue;\n",
       "        }\n",
       "        var button = $('<button/>');\n",
       "        button.addClass('ui-button ui-widget ui-state-default ui-corner-all ' +\n",
       "                        'ui-button-icon-only');\n",
       "        button.attr('role', 'button');\n",
       "        button.attr('aria-disabled', 'false');\n",
       "        button.click(method_name, toolbar_event);\n",
       "        button.mouseover(tooltip, toolbar_mouse_event);\n",
       "\n",
       "        var icon_img = $('<span/>');\n",
       "        icon_img.addClass('ui-button-icon-primary ui-icon');\n",
       "        icon_img.addClass(image);\n",
       "        icon_img.addClass('ui-corner-all');\n",
       "\n",
       "        var tooltip_span = $('<span/>');\n",
       "        tooltip_span.addClass('ui-button-text');\n",
       "        tooltip_span.html(tooltip);\n",
       "\n",
       "        button.append(icon_img);\n",
       "        button.append(tooltip_span);\n",
       "\n",
       "        nav_element.append(button);\n",
       "    }\n",
       "\n",
       "    var fmt_picker_span = $('<span/>');\n",
       "\n",
       "    var fmt_picker = $('<select/>');\n",
       "    fmt_picker.addClass('mpl-toolbar-option ui-widget ui-widget-content');\n",
       "    fmt_picker_span.append(fmt_picker);\n",
       "    nav_element.append(fmt_picker_span);\n",
       "    this.format_dropdown = fmt_picker[0];\n",
       "\n",
       "    for (var ind in mpl.extensions) {\n",
       "        var fmt = mpl.extensions[ind];\n",
       "        var option = $(\n",
       "            '<option/>', {selected: fmt === mpl.default_extension}).html(fmt);\n",
       "        fmt_picker.append(option)\n",
       "    }\n",
       "\n",
       "    // Add hover states to the ui-buttons\n",
       "    $( \".ui-button\" ).hover(\n",
       "        function() { $(this).addClass(\"ui-state-hover\");},\n",
       "        function() { $(this).removeClass(\"ui-state-hover\");}\n",
       "    );\n",
       "\n",
       "    var status_bar = $('<span class=\"mpl-message\"/>');\n",
       "    nav_element.append(status_bar);\n",
       "    this.message = status_bar[0];\n",
       "}\n",
       "\n",
       "mpl.figure.prototype.request_resize = function(x_pixels, y_pixels) {\n",
       "    // Request matplotlib to resize the figure. Matplotlib will then trigger a resize in the client,\n",
       "    // which will in turn request a refresh of the image.\n",
       "    this.send_message('resize', {'width': x_pixels, 'height': y_pixels});\n",
       "}\n",
       "\n",
       "mpl.figure.prototype.send_message = function(type, properties) {\n",
       "    properties['type'] = type;\n",
       "    properties['figure_id'] = this.id;\n",
       "    this.ws.send(JSON.stringify(properties));\n",
       "}\n",
       "\n",
       "mpl.figure.prototype.send_draw_message = function() {\n",
       "    if (!this.waiting) {\n",
       "        this.waiting = true;\n",
       "        this.ws.send(JSON.stringify({type: \"draw\", figure_id: this.id}));\n",
       "    }\n",
       "}\n",
       "\n",
       "\n",
       "mpl.figure.prototype.handle_save = function(fig, msg) {\n",
       "    var format_dropdown = fig.format_dropdown;\n",
       "    var format = format_dropdown.options[format_dropdown.selectedIndex].value;\n",
       "    fig.ondownload(fig, format);\n",
       "}\n",
       "\n",
       "\n",
       "mpl.figure.prototype.handle_resize = function(fig, msg) {\n",
       "    var size = msg['size'];\n",
       "    if (size[0] != fig.canvas.width || size[1] != fig.canvas.height) {\n",
       "        fig._resize_canvas(size[0], size[1]);\n",
       "        fig.send_message(\"refresh\", {});\n",
       "    };\n",
       "}\n",
       "\n",
       "mpl.figure.prototype.handle_rubberband = function(fig, msg) {\n",
       "    var x0 = msg['x0'] / mpl.ratio;\n",
       "    var y0 = (fig.canvas.height - msg['y0']) / mpl.ratio;\n",
       "    var x1 = msg['x1'] / mpl.ratio;\n",
       "    var y1 = (fig.canvas.height - msg['y1']) / mpl.ratio;\n",
       "    x0 = Math.floor(x0) + 0.5;\n",
       "    y0 = Math.floor(y0) + 0.5;\n",
       "    x1 = Math.floor(x1) + 0.5;\n",
       "    y1 = Math.floor(y1) + 0.5;\n",
       "    var min_x = Math.min(x0, x1);\n",
       "    var min_y = Math.min(y0, y1);\n",
       "    var width = Math.abs(x1 - x0);\n",
       "    var height = Math.abs(y1 - y0);\n",
       "\n",
       "    fig.rubberband_context.clearRect(\n",
       "        0, 0, fig.canvas.width, fig.canvas.height);\n",
       "\n",
       "    fig.rubberband_context.strokeRect(min_x, min_y, width, height);\n",
       "}\n",
       "\n",
       "mpl.figure.prototype.handle_figure_label = function(fig, msg) {\n",
       "    // Updates the figure title.\n",
       "    fig.header.textContent = msg['label'];\n",
       "}\n",
       "\n",
       "mpl.figure.prototype.handle_cursor = function(fig, msg) {\n",
       "    var cursor = msg['cursor'];\n",
       "    switch(cursor)\n",
       "    {\n",
       "    case 0:\n",
       "        cursor = 'pointer';\n",
       "        break;\n",
       "    case 1:\n",
       "        cursor = 'default';\n",
       "        break;\n",
       "    case 2:\n",
       "        cursor = 'crosshair';\n",
       "        break;\n",
       "    case 3:\n",
       "        cursor = 'move';\n",
       "        break;\n",
       "    }\n",
       "    fig.rubberband_canvas.style.cursor = cursor;\n",
       "}\n",
       "\n",
       "mpl.figure.prototype.handle_message = function(fig, msg) {\n",
       "    fig.message.textContent = msg['message'];\n",
       "}\n",
       "\n",
       "mpl.figure.prototype.handle_draw = function(fig, msg) {\n",
       "    // Request the server to send over a new figure.\n",
       "    fig.send_draw_message();\n",
       "}\n",
       "\n",
       "mpl.figure.prototype.handle_image_mode = function(fig, msg) {\n",
       "    fig.image_mode = msg['mode'];\n",
       "}\n",
       "\n",
       "mpl.figure.prototype.updated_canvas_event = function() {\n",
       "    // Called whenever the canvas gets updated.\n",
       "    this.send_message(\"ack\", {});\n",
       "}\n",
       "\n",
       "// A function to construct a web socket function for onmessage handling.\n",
       "// Called in the figure constructor.\n",
       "mpl.figure.prototype._make_on_message_function = function(fig) {\n",
       "    return function socket_on_message(evt) {\n",
       "        if (evt.data instanceof Blob) {\n",
       "            /* FIXME: We get \"Resource interpreted as Image but\n",
       "             * transferred with MIME type text/plain:\" errors on\n",
       "             * Chrome.  But how to set the MIME type?  It doesn't seem\n",
       "             * to be part of the websocket stream */\n",
       "            evt.data.type = \"image/png\";\n",
       "\n",
       "            /* Free the memory for the previous frames */\n",
       "            if (fig.imageObj.src) {\n",
       "                (window.URL || window.webkitURL).revokeObjectURL(\n",
       "                    fig.imageObj.src);\n",
       "            }\n",
       "\n",
       "            fig.imageObj.src = (window.URL || window.webkitURL).createObjectURL(\n",
       "                evt.data);\n",
       "            fig.updated_canvas_event();\n",
       "            fig.waiting = false;\n",
       "            return;\n",
       "        }\n",
       "        else if (typeof evt.data === 'string' && evt.data.slice(0, 21) == \"data:image/png;base64\") {\n",
       "            fig.imageObj.src = evt.data;\n",
       "            fig.updated_canvas_event();\n",
       "            fig.waiting = false;\n",
       "            return;\n",
       "        }\n",
       "\n",
       "        var msg = JSON.parse(evt.data);\n",
       "        var msg_type = msg['type'];\n",
       "\n",
       "        // Call the  \"handle_{type}\" callback, which takes\n",
       "        // the figure and JSON message as its only arguments.\n",
       "        try {\n",
       "            var callback = fig[\"handle_\" + msg_type];\n",
       "        } catch (e) {\n",
       "            console.log(\"No handler for the '\" + msg_type + \"' message type: \", msg);\n",
       "            return;\n",
       "        }\n",
       "\n",
       "        if (callback) {\n",
       "            try {\n",
       "                // console.log(\"Handling '\" + msg_type + \"' message: \", msg);\n",
       "                callback(fig, msg);\n",
       "            } catch (e) {\n",
       "                console.log(\"Exception inside the 'handler_\" + msg_type + \"' callback:\", e, e.stack, msg);\n",
       "            }\n",
       "        }\n",
       "    };\n",
       "}\n",
       "\n",
       "// from http://stackoverflow.com/questions/1114465/getting-mouse-location-in-canvas\n",
       "mpl.findpos = function(e) {\n",
       "    //this section is from http://www.quirksmode.org/js/events_properties.html\n",
       "    var targ;\n",
       "    if (!e)\n",
       "        e = window.event;\n",
       "    if (e.target)\n",
       "        targ = e.target;\n",
       "    else if (e.srcElement)\n",
       "        targ = e.srcElement;\n",
       "    if (targ.nodeType == 3) // defeat Safari bug\n",
       "        targ = targ.parentNode;\n",
       "\n",
       "    // jQuery normalizes the pageX and pageY\n",
       "    // pageX,Y are the mouse positions relative to the document\n",
       "    // offset() returns the position of the element relative to the document\n",
       "    var x = e.pageX - $(targ).offset().left;\n",
       "    var y = e.pageY - $(targ).offset().top;\n",
       "\n",
       "    return {\"x\": x, \"y\": y};\n",
       "};\n",
       "\n",
       "/*\n",
       " * return a copy of an object with only non-object keys\n",
       " * we need this to avoid circular references\n",
       " * http://stackoverflow.com/a/24161582/3208463\n",
       " */\n",
       "function simpleKeys (original) {\n",
       "  return Object.keys(original).reduce(function (obj, key) {\n",
       "    if (typeof original[key] !== 'object')\n",
       "        obj[key] = original[key]\n",
       "    return obj;\n",
       "  }, {});\n",
       "}\n",
       "\n",
       "mpl.figure.prototype.mouse_event = function(event, name) {\n",
       "    var canvas_pos = mpl.findpos(event)\n",
       "\n",
       "    if (name === 'button_press')\n",
       "    {\n",
       "        this.canvas.focus();\n",
       "        this.canvas_div.focus();\n",
       "    }\n",
       "\n",
       "    var x = canvas_pos.x * mpl.ratio;\n",
       "    var y = canvas_pos.y * mpl.ratio;\n",
       "\n",
       "    this.send_message(name, {x: x, y: y, button: event.button,\n",
       "                             step: event.step,\n",
       "                             guiEvent: simpleKeys(event)});\n",
       "\n",
       "    /* This prevents the web browser from automatically changing to\n",
       "     * the text insertion cursor when the button is pressed.  We want\n",
       "     * to control all of the cursor setting manually through the\n",
       "     * 'cursor' event from matplotlib */\n",
       "    event.preventDefault();\n",
       "    return false;\n",
       "}\n",
       "\n",
       "mpl.figure.prototype._key_event_extra = function(event, name) {\n",
       "    // Handle any extra behaviour associated with a key event\n",
       "}\n",
       "\n",
       "mpl.figure.prototype.key_event = function(event, name) {\n",
       "\n",
       "    // Prevent repeat events\n",
       "    if (name == 'key_press')\n",
       "    {\n",
       "        if (event.which === this._key)\n",
       "            return;\n",
       "        else\n",
       "            this._key = event.which;\n",
       "    }\n",
       "    if (name == 'key_release')\n",
       "        this._key = null;\n",
       "\n",
       "    var value = '';\n",
       "    if (event.ctrlKey && event.which != 17)\n",
       "        value += \"ctrl+\";\n",
       "    if (event.altKey && event.which != 18)\n",
       "        value += \"alt+\";\n",
       "    if (event.shiftKey && event.which != 16)\n",
       "        value += \"shift+\";\n",
       "\n",
       "    value += 'k';\n",
       "    value += event.which.toString();\n",
       "\n",
       "    this._key_event_extra(event, name);\n",
       "\n",
       "    this.send_message(name, {key: value,\n",
       "                             guiEvent: simpleKeys(event)});\n",
       "    return false;\n",
       "}\n",
       "\n",
       "mpl.figure.prototype.toolbar_button_onclick = function(name) {\n",
       "    if (name == 'download') {\n",
       "        this.handle_save(this, null);\n",
       "    } else {\n",
       "        this.send_message(\"toolbar_button\", {name: name});\n",
       "    }\n",
       "};\n",
       "\n",
       "mpl.figure.prototype.toolbar_button_onmouseover = function(tooltip) {\n",
       "    this.message.textContent = tooltip;\n",
       "};\n",
       "mpl.toolbar_items = [[\"Home\", \"Reset original view\", \"fa fa-home icon-home\", \"home\"], [\"Back\", \"Back to  previous view\", \"fa fa-arrow-left icon-arrow-left\", \"back\"], [\"Forward\", \"Forward to next view\", \"fa fa-arrow-right icon-arrow-right\", \"forward\"], [\"\", \"\", \"\", \"\"], [\"Pan\", \"Pan axes with left mouse, zoom with right\", \"fa fa-arrows icon-move\", \"pan\"], [\"Zoom\", \"Zoom to rectangle\", \"fa fa-square-o icon-check-empty\", \"zoom\"], [\"\", \"\", \"\", \"\"], [\"Download\", \"Download plot\", \"fa fa-floppy-o icon-save\", \"download\"]];\n",
       "\n",
       "mpl.extensions = [\"eps\", \"pdf\", \"png\", \"ps\", \"raw\", \"svg\"];\n",
       "\n",
       "mpl.default_extension = \"png\";var comm_websocket_adapter = function(comm) {\n",
       "    // Create a \"websocket\"-like object which calls the given IPython comm\n",
       "    // object with the appropriate methods. Currently this is a non binary\n",
       "    // socket, so there is still some room for performance tuning.\n",
       "    var ws = {};\n",
       "\n",
       "    ws.close = function() {\n",
       "        comm.close()\n",
       "    };\n",
       "    ws.send = function(m) {\n",
       "        //console.log('sending', m);\n",
       "        comm.send(m);\n",
       "    };\n",
       "    // Register the callback with on_msg.\n",
       "    comm.on_msg(function(msg) {\n",
       "        //console.log('receiving', msg['content']['data'], msg);\n",
       "        // Pass the mpl event to the overriden (by mpl) onmessage function.\n",
       "        ws.onmessage(msg['content']['data'])\n",
       "    });\n",
       "    return ws;\n",
       "}\n",
       "\n",
       "mpl.mpl_figure_comm = function(comm, msg) {\n",
       "    // This is the function which gets called when the mpl process\n",
       "    // starts-up an IPython Comm through the \"matplotlib\" channel.\n",
       "\n",
       "    var id = msg.content.data.id;\n",
       "    // Get hold of the div created by the display call when the Comm\n",
       "    // socket was opened in Python.\n",
       "    var element = $(\"#\" + id);\n",
       "    var ws_proxy = comm_websocket_adapter(comm)\n",
       "\n",
       "    function ondownload(figure, format) {\n",
       "        window.open(figure.imageObj.src);\n",
       "    }\n",
       "\n",
       "    var fig = new mpl.figure(id, ws_proxy,\n",
       "                           ondownload,\n",
       "                           element.get(0));\n",
       "\n",
       "    // Call onopen now - mpl needs it, as it is assuming we've passed it a real\n",
       "    // web socket which is closed, not our websocket->open comm proxy.\n",
       "    ws_proxy.onopen();\n",
       "\n",
       "    fig.parent_element = element.get(0);\n",
       "    fig.cell_info = mpl.find_output_cell(\"<div id='\" + id + \"'></div>\");\n",
       "    if (!fig.cell_info) {\n",
       "        console.error(\"Failed to find cell for figure\", id, fig);\n",
       "        return;\n",
       "    }\n",
       "\n",
       "    var output_index = fig.cell_info[2]\n",
       "    var cell = fig.cell_info[0];\n",
       "\n",
       "};\n",
       "\n",
       "mpl.figure.prototype.handle_close = function(fig, msg) {\n",
       "    var width = fig.canvas.width/mpl.ratio\n",
       "    fig.root.unbind('remove')\n",
       "\n",
       "    // Update the output cell to use the data from the current canvas.\n",
       "    fig.push_to_output();\n",
       "    var dataURL = fig.canvas.toDataURL();\n",
       "    // Re-enable the keyboard manager in IPython - without this line, in FF,\n",
       "    // the notebook keyboard shortcuts fail.\n",
       "    IPython.keyboard_manager.enable()\n",
       "    $(fig.parent_element).html('<img src=\"' + dataURL + '\" width=\"' + width + '\">');\n",
       "    fig.close_ws(fig, msg);\n",
       "}\n",
       "\n",
       "mpl.figure.prototype.close_ws = function(fig, msg){\n",
       "    fig.send_message('closing', msg);\n",
       "    // fig.ws.close()\n",
       "}\n",
       "\n",
       "mpl.figure.prototype.push_to_output = function(remove_interactive) {\n",
       "    // Turn the data on the canvas into data in the output cell.\n",
       "    var width = this.canvas.width/mpl.ratio\n",
       "    var dataURL = this.canvas.toDataURL();\n",
       "    this.cell_info[1]['text/html'] = '<img src=\"' + dataURL + '\" width=\"' + width + '\">';\n",
       "}\n",
       "\n",
       "mpl.figure.prototype.updated_canvas_event = function() {\n",
       "    // Tell IPython that the notebook contents must change.\n",
       "    IPython.notebook.set_dirty(true);\n",
       "    this.send_message(\"ack\", {});\n",
       "    var fig = this;\n",
       "    // Wait a second, then push the new image to the DOM so\n",
       "    // that it is saved nicely (might be nice to debounce this).\n",
       "    setTimeout(function () { fig.push_to_output() }, 1000);\n",
       "}\n",
       "\n",
       "mpl.figure.prototype._init_toolbar = function() {\n",
       "    var fig = this;\n",
       "\n",
       "    var nav_element = $('<div/>')\n",
       "    nav_element.attr('style', 'width: 100%');\n",
       "    this.root.append(nav_element);\n",
       "\n",
       "    // Define a callback function for later on.\n",
       "    function toolbar_event(event) {\n",
       "        return fig.toolbar_button_onclick(event['data']);\n",
       "    }\n",
       "    function toolbar_mouse_event(event) {\n",
       "        return fig.toolbar_button_onmouseover(event['data']);\n",
       "    }\n",
       "\n",
       "    for(var toolbar_ind in mpl.toolbar_items){\n",
       "        var name = mpl.toolbar_items[toolbar_ind][0];\n",
       "        var tooltip = mpl.toolbar_items[toolbar_ind][1];\n",
       "        var image = mpl.toolbar_items[toolbar_ind][2];\n",
       "        var method_name = mpl.toolbar_items[toolbar_ind][3];\n",
       "\n",
       "        if (!name) { continue; };\n",
       "\n",
       "        var button = $('<button class=\"btn btn-default\" href=\"#\" title=\"' + name + '\"><i class=\"fa ' + image + ' fa-lg\"></i></button>');\n",
       "        button.click(method_name, toolbar_event);\n",
       "        button.mouseover(tooltip, toolbar_mouse_event);\n",
       "        nav_element.append(button);\n",
       "    }\n",
       "\n",
       "    // Add the status bar.\n",
       "    var status_bar = $('<span class=\"mpl-message\" style=\"text-align:right; float: right;\"/>');\n",
       "    nav_element.append(status_bar);\n",
       "    this.message = status_bar[0];\n",
       "\n",
       "    // Add the close button to the window.\n",
       "    var buttongrp = $('<div class=\"btn-group inline pull-right\"></div>');\n",
       "    var button = $('<button class=\"btn btn-mini btn-primary\" href=\"#\" title=\"Stop Interaction\"><i class=\"fa fa-power-off icon-remove icon-large\"></i></button>');\n",
       "    button.click(function (evt) { fig.handle_close(fig, {}); } );\n",
       "    button.mouseover('Stop Interaction', toolbar_mouse_event);\n",
       "    buttongrp.append(button);\n",
       "    var titlebar = this.root.find($('.ui-dialog-titlebar'));\n",
       "    titlebar.prepend(buttongrp);\n",
       "}\n",
       "\n",
       "mpl.figure.prototype._root_extra_style = function(el){\n",
       "    var fig = this\n",
       "    el.on(\"remove\", function(){\n",
       "\tfig.close_ws(fig, {});\n",
       "    });\n",
       "}\n",
       "\n",
       "mpl.figure.prototype._canvas_extra_style = function(el){\n",
       "    // this is important to make the div 'focusable\n",
       "    el.attr('tabindex', 0)\n",
       "    // reach out to IPython and tell the keyboard manager to turn it's self\n",
       "    // off when our div gets focus\n",
       "\n",
       "    // location in version 3\n",
       "    if (IPython.notebook.keyboard_manager) {\n",
       "        IPython.notebook.keyboard_manager.register_events(el);\n",
       "    }\n",
       "    else {\n",
       "        // location in version 2\n",
       "        IPython.keyboard_manager.register_events(el);\n",
       "    }\n",
       "\n",
       "}\n",
       "\n",
       "mpl.figure.prototype._key_event_extra = function(event, name) {\n",
       "    var manager = IPython.notebook.keyboard_manager;\n",
       "    if (!manager)\n",
       "        manager = IPython.keyboard_manager;\n",
       "\n",
       "    // Check for shift+enter\n",
       "    if (event.shiftKey && event.which == 13) {\n",
       "        this.canvas_div.blur();\n",
       "        event.shiftKey = false;\n",
       "        // Send a \"J\" for go to next cell\n",
       "        event.which = 74;\n",
       "        event.keyCode = 74;\n",
       "        manager.command_mode();\n",
       "        manager.handle_keydown(event);\n",
       "    }\n",
       "}\n",
       "\n",
       "mpl.figure.prototype.handle_save = function(fig, msg) {\n",
       "    fig.ondownload(fig, null);\n",
       "}\n",
       "\n",
       "\n",
       "mpl.find_output_cell = function(html_output) {\n",
       "    // Return the cell and output element which can be found *uniquely* in the notebook.\n",
       "    // Note - this is a bit hacky, but it is done because the \"notebook_saving.Notebook\"\n",
       "    // IPython event is triggered only after the cells have been serialised, which for\n",
       "    // our purposes (turning an active figure into a static one), is too late.\n",
       "    var cells = IPython.notebook.get_cells();\n",
       "    var ncells = cells.length;\n",
       "    for (var i=0; i<ncells; i++) {\n",
       "        var cell = cells[i];\n",
       "        if (cell.cell_type === 'code'){\n",
       "            for (var j=0; j<cell.output_area.outputs.length; j++) {\n",
       "                var data = cell.output_area.outputs[j];\n",
       "                if (data.data) {\n",
       "                    // IPython >= 3 moved mimebundle to data attribute of output\n",
       "                    data = data.data;\n",
       "                }\n",
       "                if (data['text/html'] == html_output) {\n",
       "                    return [cell, data, j];\n",
       "                }\n",
       "            }\n",
       "        }\n",
       "    }\n",
       "}\n",
       "\n",
       "// Register the function which deals with the matplotlib target/channel.\n",
       "// The kernel may be null if the page has been refreshed.\n",
       "if (IPython.notebook.kernel != null) {\n",
       "    IPython.notebook.kernel.comm_manager.register_target('matplotlib', mpl.mpl_figure_comm);\n",
       "}\n"
      ],
      "text/plain": [
       "<IPython.core.display.Javascript object>"
      ]
     },
     "metadata": {},
     "output_type": "display_data"
    },
    {
     "data": {
      "text/html": [
       "<img src=\"data:image/png;base64,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\" width=\"675\">"
      ],
      "text/plain": [
       "<IPython.core.display.HTML object>"
      ]
     },
     "metadata": {},
     "output_type": "display_data"
    },
    {
     "data": {
      "text/plain": [
       "[<matplotlib.lines.Line2D at 0x252fd4d0668>]"
      ]
     },
     "execution_count": 42,
     "metadata": {},
     "output_type": "execute_result"
    }
   ],
   "source": [
    "fstart = 4.375e9 - 80e6\n",
    "fstop = fstart + 160e6\n",
    "fvals = setup_frq_sweep(fstart, fstop, 1001)\n",
    "\n",
    "plt.figure()\n",
    "trace, fit = meas_cauchy_trace(4.375e9, 160e6)\n",
    "plt.plot(fvals, cauchy_model(fvals, *fit))\n",
    "\n",
    "f0 = find_frequency(fvals, 20 * np.log10(trace), plot=False)\n",
    "plt.plot(fvals, trace)\n"
   ]
  },
  {
   "cell_type": "code",
   "execution_count": 39,
   "metadata": {
    "ExecuteTime": {
     "end_time": "2018-11-06T15:51:56.248180Z",
     "start_time": "2018-11-06T15:51:56.115085Z"
    }
   },
   "outputs": [
    {
     "name": "stdout",
     "output_type": "stream",
     "text": [
      "Magnet reached (r, phi, theta) = FieldVector(r=0.3014509246958782, phi=180.0, theta=150.70540338333205)\r"
     ]
    }
   ],
   "source": [
    "print(f'Magnet reached (r, phi, theta) = {mgnt.field_measured().repr_spherical()}', end='\\r')"
   ]
  },
  {
   "cell_type": "code",
   "execution_count": 40,
   "metadata": {
    "ExecuteTime": {
     "end_time": "2018-11-06T15:51:56.485345Z",
     "start_time": "2018-11-06T15:51:56.251178Z"
    }
   },
   "outputs": [
    {
     "name": "stdout",
     "output_type": "stream",
     "text": [
      "Magnet reached (r, phi, theta) = FieldVector(r=0.2448647527531767, phi=0.0, theta=10.01709099390037)\r"
     ]
    }
   ],
   "source": [
    "print(f'Magnet reached (r, phi, theta) = {field_controller.field_measured().repr_spherical()}', end='\\r')"
   ]
  },
  {
   "cell_type": "code",
   "execution_count": 41,
   "metadata": {
    "ExecuteTime": {
     "end_time": "2018-11-06T15:51:56.495351Z",
     "start_time": "2018-11-06T15:51:56.489344Z"
    }
   },
   "outputs": [
    {
     "data": {
      "text/plain": [
       "array([[-0.96113469,  0.        ,  0.37723514,  0.        ],\n",
       "       [ 0.        ,  1.15859189,  0.        ,  0.        ],\n",
       "       [-0.66942499,  0.        , -0.54161973,  0.        ],\n",
       "       [ 0.        ,  0.        ,  0.        ,  1.        ]])"
      ]
     },
     "execution_count": 41,
     "metadata": {},
     "output_type": "execute_result"
    }
   ],
   "source": [
    "field_controller.field_target._transform"
   ]
  },
  {
   "cell_type": "code",
   "execution_count": 40,
   "metadata": {
    "ExecuteTime": {
     "end_time": "2018-11-06T15:34:05.608580Z",
     "start_time": "2018-11-06T15:19:28.162200Z"
    }
   },
   "outputs": [
    {
     "name": "stdout",
     "output_type": "stream",
     "text": [
      "Evaluating at phi = 0.0, theta = 10.0\n",
      "Move complete. (r, phi, theta) = (0.24895299668599813, 0.0, 9.993264717186664)\n",
      "Evaluating at phi = -2.0, theta = 10.0\n",
      "Move complete. (r, phi, theta) = (0.24895755281850343, -1.9967451876414002, 9.999213739497197)\n",
      "Evaluating at phi = 2.0, theta = 10.0\n",
      "Move complete. (r, phi, theta) = (0.24895755281850343, 1.9967451876414002, 9.999213739497197)\n",
      "Evaluating at phi = 2.0, theta = 6.000000000000001\n",
      "Move complete. (r, phi, theta) = (0.24936878723515732, 2.511412177537524, 6.086559525201429))\n",
      "Evaluating at phi = 0.0, theta = 6.000000000000001\n",
      "Move complete. (r, phi, theta) = (0.24900943973026532, 0.0, 6.00927205360341).009330968351448)\n",
      "Evaluating at phi = -2.0, theta = 6.000000000000001\n",
      "Move complete. (r, phi, theta) = (0.24901076044824755, -1.7819379045192298, 6.0121581773302255)\n",
      "Evaluating at phi = -2.0, theta = 14.0\n",
      "Move complete. (r, phi, theta) = (0.24830838097893132, -2.002323680679576, 13.908643753340323))\n",
      "Evaluating at phi = 0.0, theta = 14.0\n",
      "Move complete. (r, phi, theta) = (0.2482986404783178, 0.0, 13.859757897781618).85978317812484))\n",
      "Evaluating at phi = 2.0, theta = 14.0\n",
      "Move complete. (r, phi, theta) = (0.2484816375612729, 1.7793792448911894, 13.90184119474697))3)\n",
      "Found optimum for |B| = 0.249 at (2.511412177537524, 6.086559525201429).\n",
      "Move complete. (r, phi, theta) = (0.24901585204157137, 2.5153429615791434, 6.085663776349101)\n"
     ]
    },
    {
     "data": {
      "application/javascript": [
       "/* Put everything inside the global mpl namespace */\n",
       "window.mpl = {};\n",
       "\n",
       "\n",
       "mpl.get_websocket_type = function() {\n",
       "    if (typeof(WebSocket) !== 'undefined') {\n",
       "        return WebSocket;\n",
       "    } else if (typeof(MozWebSocket) !== 'undefined') {\n",
       "        return MozWebSocket;\n",
       "    } else {\n",
       "        alert('Your browser does not have WebSocket support.' +\n",
       "              'Please try Chrome, Safari or Firefox ≥ 6. ' +\n",
       "              'Firefox 4 and 5 are also supported but you ' +\n",
       "              'have to enable WebSockets in about:config.');\n",
       "    };\n",
       "}\n",
       "\n",
       "mpl.figure = function(figure_id, websocket, ondownload, parent_element) {\n",
       "    this.id = figure_id;\n",
       "\n",
       "    this.ws = websocket;\n",
       "\n",
       "    this.supports_binary = (this.ws.binaryType != undefined);\n",
       "\n",
       "    if (!this.supports_binary) {\n",
       "        var warnings = document.getElementById(\"mpl-warnings\");\n",
       "        if (warnings) {\n",
       "            warnings.style.display = 'block';\n",
       "            warnings.textContent = (\n",
       "                \"This browser does not support binary websocket messages. \" +\n",
       "                    \"Performance may be slow.\");\n",
       "        }\n",
       "    }\n",
       "\n",
       "    this.imageObj = new Image();\n",
       "\n",
       "    this.context = undefined;\n",
       "    this.message = undefined;\n",
       "    this.canvas = undefined;\n",
       "    this.rubberband_canvas = undefined;\n",
       "    this.rubberband_context = undefined;\n",
       "    this.format_dropdown = undefined;\n",
       "\n",
       "    this.image_mode = 'full';\n",
       "\n",
       "    this.root = $('<div/>');\n",
       "    this._root_extra_style(this.root)\n",
       "    this.root.attr('style', 'display: inline-block');\n",
       "\n",
       "    $(parent_element).append(this.root);\n",
       "\n",
       "    this._init_header(this);\n",
       "    this._init_canvas(this);\n",
       "    this._init_toolbar(this);\n",
       "\n",
       "    var fig = this;\n",
       "\n",
       "    this.waiting = false;\n",
       "\n",
       "    this.ws.onopen =  function () {\n",
       "            fig.send_message(\"supports_binary\", {value: fig.supports_binary});\n",
       "            fig.send_message(\"send_image_mode\", {});\n",
       "            if (mpl.ratio != 1) {\n",
       "                fig.send_message(\"set_dpi_ratio\", {'dpi_ratio': mpl.ratio});\n",
       "            }\n",
       "            fig.send_message(\"refresh\", {});\n",
       "        }\n",
       "\n",
       "    this.imageObj.onload = function() {\n",
       "            if (fig.image_mode == 'full') {\n",
       "                // Full images could contain transparency (where diff images\n",
       "                // almost always do), so we need to clear the canvas so that\n",
       "                // there is no ghosting.\n",
       "                fig.context.clearRect(0, 0, fig.canvas.width, fig.canvas.height);\n",
       "            }\n",
       "            fig.context.drawImage(fig.imageObj, 0, 0);\n",
       "        };\n",
       "\n",
       "    this.imageObj.onunload = function() {\n",
       "        fig.ws.close();\n",
       "    }\n",
       "\n",
       "    this.ws.onmessage = this._make_on_message_function(this);\n",
       "\n",
       "    this.ondownload = ondownload;\n",
       "}\n",
       "\n",
       "mpl.figure.prototype._init_header = function() {\n",
       "    var titlebar = $(\n",
       "        '<div class=\"ui-dialog-titlebar ui-widget-header ui-corner-all ' +\n",
       "        'ui-helper-clearfix\"/>');\n",
       "    var titletext = $(\n",
       "        '<div class=\"ui-dialog-title\" style=\"width: 100%; ' +\n",
       "        'text-align: center; padding: 3px;\"/>');\n",
       "    titlebar.append(titletext)\n",
       "    this.root.append(titlebar);\n",
       "    this.header = titletext[0];\n",
       "}\n",
       "\n",
       "\n",
       "\n",
       "mpl.figure.prototype._canvas_extra_style = function(canvas_div) {\n",
       "\n",
       "}\n",
       "\n",
       "\n",
       "mpl.figure.prototype._root_extra_style = function(canvas_div) {\n",
       "\n",
       "}\n",
       "\n",
       "mpl.figure.prototype._init_canvas = function() {\n",
       "    var fig = this;\n",
       "\n",
       "    var canvas_div = $('<div/>');\n",
       "\n",
       "    canvas_div.attr('style', 'position: relative; clear: both; outline: 0');\n",
       "\n",
       "    function canvas_keyboard_event(event) {\n",
       "        return fig.key_event(event, event['data']);\n",
       "    }\n",
       "\n",
       "    canvas_div.keydown('key_press', canvas_keyboard_event);\n",
       "    canvas_div.keyup('key_release', canvas_keyboard_event);\n",
       "    this.canvas_div = canvas_div\n",
       "    this._canvas_extra_style(canvas_div)\n",
       "    this.root.append(canvas_div);\n",
       "\n",
       "    var canvas = $('<canvas/>');\n",
       "    canvas.addClass('mpl-canvas');\n",
       "    canvas.attr('style', \"left: 0; top: 0; z-index: 0; outline: 0\")\n",
       "\n",
       "    this.canvas = canvas[0];\n",
       "    this.context = canvas[0].getContext(\"2d\");\n",
       "\n",
       "    var backingStore = this.context.backingStorePixelRatio ||\n",
       "\tthis.context.webkitBackingStorePixelRatio ||\n",
       "\tthis.context.mozBackingStorePixelRatio ||\n",
       "\tthis.context.msBackingStorePixelRatio ||\n",
       "\tthis.context.oBackingStorePixelRatio ||\n",
       "\tthis.context.backingStorePixelRatio || 1;\n",
       "\n",
       "    mpl.ratio = (window.devicePixelRatio || 1) / backingStore;\n",
       "\n",
       "    var rubberband = $('<canvas/>');\n",
       "    rubberband.attr('style', \"position: absolute; left: 0; top: 0; z-index: 1;\")\n",
       "\n",
       "    var pass_mouse_events = true;\n",
       "\n",
       "    canvas_div.resizable({\n",
       "        start: function(event, ui) {\n",
       "            pass_mouse_events = false;\n",
       "        },\n",
       "        resize: function(event, ui) {\n",
       "            fig.request_resize(ui.size.width, ui.size.height);\n",
       "        },\n",
       "        stop: function(event, ui) {\n",
       "            pass_mouse_events = true;\n",
       "            fig.request_resize(ui.size.width, ui.size.height);\n",
       "        },\n",
       "    });\n",
       "\n",
       "    function mouse_event_fn(event) {\n",
       "        if (pass_mouse_events)\n",
       "            return fig.mouse_event(event, event['data']);\n",
       "    }\n",
       "\n",
       "    rubberband.mousedown('button_press', mouse_event_fn);\n",
       "    rubberband.mouseup('button_release', mouse_event_fn);\n",
       "    // Throttle sequential mouse events to 1 every 20ms.\n",
       "    rubberband.mousemove('motion_notify', mouse_event_fn);\n",
       "\n",
       "    rubberband.mouseenter('figure_enter', mouse_event_fn);\n",
       "    rubberband.mouseleave('figure_leave', mouse_event_fn);\n",
       "\n",
       "    canvas_div.on(\"wheel\", function (event) {\n",
       "        event = event.originalEvent;\n",
       "        event['data'] = 'scroll'\n",
       "        if (event.deltaY < 0) {\n",
       "            event.step = 1;\n",
       "        } else {\n",
       "            event.step = -1;\n",
       "        }\n",
       "        mouse_event_fn(event);\n",
       "    });\n",
       "\n",
       "    canvas_div.append(canvas);\n",
       "    canvas_div.append(rubberband);\n",
       "\n",
       "    this.rubberband = rubberband;\n",
       "    this.rubberband_canvas = rubberband[0];\n",
       "    this.rubberband_context = rubberband[0].getContext(\"2d\");\n",
       "    this.rubberband_context.strokeStyle = \"#000000\";\n",
       "\n",
       "    this._resize_canvas = function(width, height) {\n",
       "        // Keep the size of the canvas, canvas container, and rubber band\n",
       "        // canvas in synch.\n",
       "        canvas_div.css('width', width)\n",
       "        canvas_div.css('height', height)\n",
       "\n",
       "        canvas.attr('width', width * mpl.ratio);\n",
       "        canvas.attr('height', height * mpl.ratio);\n",
       "        canvas.attr('style', 'width: ' + width + 'px; height: ' + height + 'px;');\n",
       "\n",
       "        rubberband.attr('width', width);\n",
       "        rubberband.attr('height', height);\n",
       "    }\n",
       "\n",
       "    // Set the figure to an initial 600x600px, this will subsequently be updated\n",
       "    // upon first draw.\n",
       "    this._resize_canvas(600, 600);\n",
       "\n",
       "    // Disable right mouse context menu.\n",
       "    $(this.rubberband_canvas).bind(\"contextmenu\",function(e){\n",
       "        return false;\n",
       "    });\n",
       "\n",
       "    function set_focus () {\n",
       "        canvas.focus();\n",
       "        canvas_div.focus();\n",
       "    }\n",
       "\n",
       "    window.setTimeout(set_focus, 100);\n",
       "}\n",
       "\n",
       "mpl.figure.prototype._init_toolbar = function() {\n",
       "    var fig = this;\n",
       "\n",
       "    var nav_element = $('<div/>')\n",
       "    nav_element.attr('style', 'width: 100%');\n",
       "    this.root.append(nav_element);\n",
       "\n",
       "    // Define a callback function for later on.\n",
       "    function toolbar_event(event) {\n",
       "        return fig.toolbar_button_onclick(event['data']);\n",
       "    }\n",
       "    function toolbar_mouse_event(event) {\n",
       "        return fig.toolbar_button_onmouseover(event['data']);\n",
       "    }\n",
       "\n",
       "    for(var toolbar_ind in mpl.toolbar_items) {\n",
       "        var name = mpl.toolbar_items[toolbar_ind][0];\n",
       "        var tooltip = mpl.toolbar_items[toolbar_ind][1];\n",
       "        var image = mpl.toolbar_items[toolbar_ind][2];\n",
       "        var method_name = mpl.toolbar_items[toolbar_ind][3];\n",
       "\n",
       "        if (!name) {\n",
       "            // put a spacer in here.\n",
       "            continue;\n",
       "        }\n",
       "        var button = $('<button/>');\n",
       "        button.addClass('ui-button ui-widget ui-state-default ui-corner-all ' +\n",
       "                        'ui-button-icon-only');\n",
       "        button.attr('role', 'button');\n",
       "        button.attr('aria-disabled', 'false');\n",
       "        button.click(method_name, toolbar_event);\n",
       "        button.mouseover(tooltip, toolbar_mouse_event);\n",
       "\n",
       "        var icon_img = $('<span/>');\n",
       "        icon_img.addClass('ui-button-icon-primary ui-icon');\n",
       "        icon_img.addClass(image);\n",
       "        icon_img.addClass('ui-corner-all');\n",
       "\n",
       "        var tooltip_span = $('<span/>');\n",
       "        tooltip_span.addClass('ui-button-text');\n",
       "        tooltip_span.html(tooltip);\n",
       "\n",
       "        button.append(icon_img);\n",
       "        button.append(tooltip_span);\n",
       "\n",
       "        nav_element.append(button);\n",
       "    }\n",
       "\n",
       "    var fmt_picker_span = $('<span/>');\n",
       "\n",
       "    var fmt_picker = $('<select/>');\n",
       "    fmt_picker.addClass('mpl-toolbar-option ui-widget ui-widget-content');\n",
       "    fmt_picker_span.append(fmt_picker);\n",
       "    nav_element.append(fmt_picker_span);\n",
       "    this.format_dropdown = fmt_picker[0];\n",
       "\n",
       "    for (var ind in mpl.extensions) {\n",
       "        var fmt = mpl.extensions[ind];\n",
       "        var option = $(\n",
       "            '<option/>', {selected: fmt === mpl.default_extension}).html(fmt);\n",
       "        fmt_picker.append(option)\n",
       "    }\n",
       "\n",
       "    // Add hover states to the ui-buttons\n",
       "    $( \".ui-button\" ).hover(\n",
       "        function() { $(this).addClass(\"ui-state-hover\");},\n",
       "        function() { $(this).removeClass(\"ui-state-hover\");}\n",
       "    );\n",
       "\n",
       "    var status_bar = $('<span class=\"mpl-message\"/>');\n",
       "    nav_element.append(status_bar);\n",
       "    this.message = status_bar[0];\n",
       "}\n",
       "\n",
       "mpl.figure.prototype.request_resize = function(x_pixels, y_pixels) {\n",
       "    // Request matplotlib to resize the figure. Matplotlib will then trigger a resize in the client,\n",
       "    // which will in turn request a refresh of the image.\n",
       "    this.send_message('resize', {'width': x_pixels, 'height': y_pixels});\n",
       "}\n",
       "\n",
       "mpl.figure.prototype.send_message = function(type, properties) {\n",
       "    properties['type'] = type;\n",
       "    properties['figure_id'] = this.id;\n",
       "    this.ws.send(JSON.stringify(properties));\n",
       "}\n",
       "\n",
       "mpl.figure.prototype.send_draw_message = function() {\n",
       "    if (!this.waiting) {\n",
       "        this.waiting = true;\n",
       "        this.ws.send(JSON.stringify({type: \"draw\", figure_id: this.id}));\n",
       "    }\n",
       "}\n",
       "\n",
       "\n",
       "mpl.figure.prototype.handle_save = function(fig, msg) {\n",
       "    var format_dropdown = fig.format_dropdown;\n",
       "    var format = format_dropdown.options[format_dropdown.selectedIndex].value;\n",
       "    fig.ondownload(fig, format);\n",
       "}\n",
       "\n",
       "\n",
       "mpl.figure.prototype.handle_resize = function(fig, msg) {\n",
       "    var size = msg['size'];\n",
       "    if (size[0] != fig.canvas.width || size[1] != fig.canvas.height) {\n",
       "        fig._resize_canvas(size[0], size[1]);\n",
       "        fig.send_message(\"refresh\", {});\n",
       "    };\n",
       "}\n",
       "\n",
       "mpl.figure.prototype.handle_rubberband = function(fig, msg) {\n",
       "    var x0 = msg['x0'] / mpl.ratio;\n",
       "    var y0 = (fig.canvas.height - msg['y0']) / mpl.ratio;\n",
       "    var x1 = msg['x1'] / mpl.ratio;\n",
       "    var y1 = (fig.canvas.height - msg['y1']) / mpl.ratio;\n",
       "    x0 = Math.floor(x0) + 0.5;\n",
       "    y0 = Math.floor(y0) + 0.5;\n",
       "    x1 = Math.floor(x1) + 0.5;\n",
       "    y1 = Math.floor(y1) + 0.5;\n",
       "    var min_x = Math.min(x0, x1);\n",
       "    var min_y = Math.min(y0, y1);\n",
       "    var width = Math.abs(x1 - x0);\n",
       "    var height = Math.abs(y1 - y0);\n",
       "\n",
       "    fig.rubberband_context.clearRect(\n",
       "        0, 0, fig.canvas.width, fig.canvas.height);\n",
       "\n",
       "    fig.rubberband_context.strokeRect(min_x, min_y, width, height);\n",
       "}\n",
       "\n",
       "mpl.figure.prototype.handle_figure_label = function(fig, msg) {\n",
       "    // Updates the figure title.\n",
       "    fig.header.textContent = msg['label'];\n",
       "}\n",
       "\n",
       "mpl.figure.prototype.handle_cursor = function(fig, msg) {\n",
       "    var cursor = msg['cursor'];\n",
       "    switch(cursor)\n",
       "    {\n",
       "    case 0:\n",
       "        cursor = 'pointer';\n",
       "        break;\n",
       "    case 1:\n",
       "        cursor = 'default';\n",
       "        break;\n",
       "    case 2:\n",
       "        cursor = 'crosshair';\n",
       "        break;\n",
       "    case 3:\n",
       "        cursor = 'move';\n",
       "        break;\n",
       "    }\n",
       "    fig.rubberband_canvas.style.cursor = cursor;\n",
       "}\n",
       "\n",
       "mpl.figure.prototype.handle_message = function(fig, msg) {\n",
       "    fig.message.textContent = msg['message'];\n",
       "}\n",
       "\n",
       "mpl.figure.prototype.handle_draw = function(fig, msg) {\n",
       "    // Request the server to send over a new figure.\n",
       "    fig.send_draw_message();\n",
       "}\n",
       "\n",
       "mpl.figure.prototype.handle_image_mode = function(fig, msg) {\n",
       "    fig.image_mode = msg['mode'];\n",
       "}\n",
       "\n",
       "mpl.figure.prototype.updated_canvas_event = function() {\n",
       "    // Called whenever the canvas gets updated.\n",
       "    this.send_message(\"ack\", {});\n",
       "}\n",
       "\n",
       "// A function to construct a web socket function for onmessage handling.\n",
       "// Called in the figure constructor.\n",
       "mpl.figure.prototype._make_on_message_function = function(fig) {\n",
       "    return function socket_on_message(evt) {\n",
       "        if (evt.data instanceof Blob) {\n",
       "            /* FIXME: We get \"Resource interpreted as Image but\n",
       "             * transferred with MIME type text/plain:\" errors on\n",
       "             * Chrome.  But how to set the MIME type?  It doesn't seem\n",
       "             * to be part of the websocket stream */\n",
       "            evt.data.type = \"image/png\";\n",
       "\n",
       "            /* Free the memory for the previous frames */\n",
       "            if (fig.imageObj.src) {\n",
       "                (window.URL || window.webkitURL).revokeObjectURL(\n",
       "                    fig.imageObj.src);\n",
       "            }\n",
       "\n",
       "            fig.imageObj.src = (window.URL || window.webkitURL).createObjectURL(\n",
       "                evt.data);\n",
       "            fig.updated_canvas_event();\n",
       "            fig.waiting = false;\n",
       "            return;\n",
       "        }\n",
       "        else if (typeof evt.data === 'string' && evt.data.slice(0, 21) == \"data:image/png;base64\") {\n",
       "            fig.imageObj.src = evt.data;\n",
       "            fig.updated_canvas_event();\n",
       "            fig.waiting = false;\n",
       "            return;\n",
       "        }\n",
       "\n",
       "        var msg = JSON.parse(evt.data);\n",
       "        var msg_type = msg['type'];\n",
       "\n",
       "        // Call the  \"handle_{type}\" callback, which takes\n",
       "        // the figure and JSON message as its only arguments.\n",
       "        try {\n",
       "            var callback = fig[\"handle_\" + msg_type];\n",
       "        } catch (e) {\n",
       "            console.log(\"No handler for the '\" + msg_type + \"' message type: \", msg);\n",
       "            return;\n",
       "        }\n",
       "\n",
       "        if (callback) {\n",
       "            try {\n",
       "                // console.log(\"Handling '\" + msg_type + \"' message: \", msg);\n",
       "                callback(fig, msg);\n",
       "            } catch (e) {\n",
       "                console.log(\"Exception inside the 'handler_\" + msg_type + \"' callback:\", e, e.stack, msg);\n",
       "            }\n",
       "        }\n",
       "    };\n",
       "}\n",
       "\n",
       "// from http://stackoverflow.com/questions/1114465/getting-mouse-location-in-canvas\n",
       "mpl.findpos = function(e) {\n",
       "    //this section is from http://www.quirksmode.org/js/events_properties.html\n",
       "    var targ;\n",
       "    if (!e)\n",
       "        e = window.event;\n",
       "    if (e.target)\n",
       "        targ = e.target;\n",
       "    else if (e.srcElement)\n",
       "        targ = e.srcElement;\n",
       "    if (targ.nodeType == 3) // defeat Safari bug\n",
       "        targ = targ.parentNode;\n",
       "\n",
       "    // jQuery normalizes the pageX and pageY\n",
       "    // pageX,Y are the mouse positions relative to the document\n",
       "    // offset() returns the position of the element relative to the document\n",
       "    var x = e.pageX - $(targ).offset().left;\n",
       "    var y = e.pageY - $(targ).offset().top;\n",
       "\n",
       "    return {\"x\": x, \"y\": y};\n",
       "};\n",
       "\n",
       "/*\n",
       " * return a copy of an object with only non-object keys\n",
       " * we need this to avoid circular references\n",
       " * http://stackoverflow.com/a/24161582/3208463\n",
       " */\n",
       "function simpleKeys (original) {\n",
       "  return Object.keys(original).reduce(function (obj, key) {\n",
       "    if (typeof original[key] !== 'object')\n",
       "        obj[key] = original[key]\n",
       "    return obj;\n",
       "  }, {});\n",
       "}\n",
       "\n",
       "mpl.figure.prototype.mouse_event = function(event, name) {\n",
       "    var canvas_pos = mpl.findpos(event)\n",
       "\n",
       "    if (name === 'button_press')\n",
       "    {\n",
       "        this.canvas.focus();\n",
       "        this.canvas_div.focus();\n",
       "    }\n",
       "\n",
       "    var x = canvas_pos.x * mpl.ratio;\n",
       "    var y = canvas_pos.y * mpl.ratio;\n",
       "\n",
       "    this.send_message(name, {x: x, y: y, button: event.button,\n",
       "                             step: event.step,\n",
       "                             guiEvent: simpleKeys(event)});\n",
       "\n",
       "    /* This prevents the web browser from automatically changing to\n",
       "     * the text insertion cursor when the button is pressed.  We want\n",
       "     * to control all of the cursor setting manually through the\n",
       "     * 'cursor' event from matplotlib */\n",
       "    event.preventDefault();\n",
       "    return false;\n",
       "}\n",
       "\n",
       "mpl.figure.prototype._key_event_extra = function(event, name) {\n",
       "    // Handle any extra behaviour associated with a key event\n",
       "}\n",
       "\n",
       "mpl.figure.prototype.key_event = function(event, name) {\n",
       "\n",
       "    // Prevent repeat events\n",
       "    if (name == 'key_press')\n",
       "    {\n",
       "        if (event.which === this._key)\n",
       "            return;\n",
       "        else\n",
       "            this._key = event.which;\n",
       "    }\n",
       "    if (name == 'key_release')\n",
       "        this._key = null;\n",
       "\n",
       "    var value = '';\n",
       "    if (event.ctrlKey && event.which != 17)\n",
       "        value += \"ctrl+\";\n",
       "    if (event.altKey && event.which != 18)\n",
       "        value += \"alt+\";\n",
       "    if (event.shiftKey && event.which != 16)\n",
       "        value += \"shift+\";\n",
       "\n",
       "    value += 'k';\n",
       "    value += event.which.toString();\n",
       "\n",
       "    this._key_event_extra(event, name);\n",
       "\n",
       "    this.send_message(name, {key: value,\n",
       "                             guiEvent: simpleKeys(event)});\n",
       "    return false;\n",
       "}\n",
       "\n",
       "mpl.figure.prototype.toolbar_button_onclick = function(name) {\n",
       "    if (name == 'download') {\n",
       "        this.handle_save(this, null);\n",
       "    } else {\n",
       "        this.send_message(\"toolbar_button\", {name: name});\n",
       "    }\n",
       "};\n",
       "\n",
       "mpl.figure.prototype.toolbar_button_onmouseover = function(tooltip) {\n",
       "    this.message.textContent = tooltip;\n",
       "};\n",
       "mpl.toolbar_items = [[\"Home\", \"Reset original view\", \"fa fa-home icon-home\", \"home\"], [\"Back\", \"Back to  previous view\", \"fa fa-arrow-left icon-arrow-left\", \"back\"], [\"Forward\", \"Forward to next view\", \"fa fa-arrow-right icon-arrow-right\", \"forward\"], [\"\", \"\", \"\", \"\"], [\"Pan\", \"Pan axes with left mouse, zoom with right\", \"fa fa-arrows icon-move\", \"pan\"], [\"Zoom\", \"Zoom to rectangle\", \"fa fa-square-o icon-check-empty\", \"zoom\"], [\"\", \"\", \"\", \"\"], [\"Download\", \"Download plot\", \"fa fa-floppy-o icon-save\", \"download\"]];\n",
       "\n",
       "mpl.extensions = [\"eps\", \"pdf\", \"png\", \"ps\", \"raw\", \"svg\"];\n",
       "\n",
       "mpl.default_extension = \"png\";var comm_websocket_adapter = function(comm) {\n",
       "    // Create a \"websocket\"-like object which calls the given IPython comm\n",
       "    // object with the appropriate methods. Currently this is a non binary\n",
       "    // socket, so there is still some room for performance tuning.\n",
       "    var ws = {};\n",
       "\n",
       "    ws.close = function() {\n",
       "        comm.close()\n",
       "    };\n",
       "    ws.send = function(m) {\n",
       "        //console.log('sending', m);\n",
       "        comm.send(m);\n",
       "    };\n",
       "    // Register the callback with on_msg.\n",
       "    comm.on_msg(function(msg) {\n",
       "        //console.log('receiving', msg['content']['data'], msg);\n",
       "        // Pass the mpl event to the overriden (by mpl) onmessage function.\n",
       "        ws.onmessage(msg['content']['data'])\n",
       "    });\n",
       "    return ws;\n",
       "}\n",
       "\n",
       "mpl.mpl_figure_comm = function(comm, msg) {\n",
       "    // This is the function which gets called when the mpl process\n",
       "    // starts-up an IPython Comm through the \"matplotlib\" channel.\n",
       "\n",
       "    var id = msg.content.data.id;\n",
       "    // Get hold of the div created by the display call when the Comm\n",
       "    // socket was opened in Python.\n",
       "    var element = $(\"#\" + id);\n",
       "    var ws_proxy = comm_websocket_adapter(comm)\n",
       "\n",
       "    function ondownload(figure, format) {\n",
       "        window.open(figure.imageObj.src);\n",
       "    }\n",
       "\n",
       "    var fig = new mpl.figure(id, ws_proxy,\n",
       "                           ondownload,\n",
       "                           element.get(0));\n",
       "\n",
       "    // Call onopen now - mpl needs it, as it is assuming we've passed it a real\n",
       "    // web socket which is closed, not our websocket->open comm proxy.\n",
       "    ws_proxy.onopen();\n",
       "\n",
       "    fig.parent_element = element.get(0);\n",
       "    fig.cell_info = mpl.find_output_cell(\"<div id='\" + id + \"'></div>\");\n",
       "    if (!fig.cell_info) {\n",
       "        console.error(\"Failed to find cell for figure\", id, fig);\n",
       "        return;\n",
       "    }\n",
       "\n",
       "    var output_index = fig.cell_info[2]\n",
       "    var cell = fig.cell_info[0];\n",
       "\n",
       "};\n",
       "\n",
       "mpl.figure.prototype.handle_close = function(fig, msg) {\n",
       "    var width = fig.canvas.width/mpl.ratio\n",
       "    fig.root.unbind('remove')\n",
       "\n",
       "    // Update the output cell to use the data from the current canvas.\n",
       "    fig.push_to_output();\n",
       "    var dataURL = fig.canvas.toDataURL();\n",
       "    // Re-enable the keyboard manager in IPython - without this line, in FF,\n",
       "    // the notebook keyboard shortcuts fail.\n",
       "    IPython.keyboard_manager.enable()\n",
       "    $(fig.parent_element).html('<img src=\"' + dataURL + '\" width=\"' + width + '\">');\n",
       "    fig.close_ws(fig, msg);\n",
       "}\n",
       "\n",
       "mpl.figure.prototype.close_ws = function(fig, msg){\n",
       "    fig.send_message('closing', msg);\n",
       "    // fig.ws.close()\n",
       "}\n",
       "\n",
       "mpl.figure.prototype.push_to_output = function(remove_interactive) {\n",
       "    // Turn the data on the canvas into data in the output cell.\n",
       "    var width = this.canvas.width/mpl.ratio\n",
       "    var dataURL = this.canvas.toDataURL();\n",
       "    this.cell_info[1]['text/html'] = '<img src=\"' + dataURL + '\" width=\"' + width + '\">';\n",
       "}\n",
       "\n",
       "mpl.figure.prototype.updated_canvas_event = function() {\n",
       "    // Tell IPython that the notebook contents must change.\n",
       "    IPython.notebook.set_dirty(true);\n",
       "    this.send_message(\"ack\", {});\n",
       "    var fig = this;\n",
       "    // Wait a second, then push the new image to the DOM so\n",
       "    // that it is saved nicely (might be nice to debounce this).\n",
       "    setTimeout(function () { fig.push_to_output() }, 1000);\n",
       "}\n",
       "\n",
       "mpl.figure.prototype._init_toolbar = function() {\n",
       "    var fig = this;\n",
       "\n",
       "    var nav_element = $('<div/>')\n",
       "    nav_element.attr('style', 'width: 100%');\n",
       "    this.root.append(nav_element);\n",
       "\n",
       "    // Define a callback function for later on.\n",
       "    function toolbar_event(event) {\n",
       "        return fig.toolbar_button_onclick(event['data']);\n",
       "    }\n",
       "    function toolbar_mouse_event(event) {\n",
       "        return fig.toolbar_button_onmouseover(event['data']);\n",
       "    }\n",
       "\n",
       "    for(var toolbar_ind in mpl.toolbar_items){\n",
       "        var name = mpl.toolbar_items[toolbar_ind][0];\n",
       "        var tooltip = mpl.toolbar_items[toolbar_ind][1];\n",
       "        var image = mpl.toolbar_items[toolbar_ind][2];\n",
       "        var method_name = mpl.toolbar_items[toolbar_ind][3];\n",
       "\n",
       "        if (!name) { continue; };\n",
       "\n",
       "        var button = $('<button class=\"btn btn-default\" href=\"#\" title=\"' + name + '\"><i class=\"fa ' + image + ' fa-lg\"></i></button>');\n",
       "        button.click(method_name, toolbar_event);\n",
       "        button.mouseover(tooltip, toolbar_mouse_event);\n",
       "        nav_element.append(button);\n",
       "    }\n",
       "\n",
       "    // Add the status bar.\n",
       "    var status_bar = $('<span class=\"mpl-message\" style=\"text-align:right; float: right;\"/>');\n",
       "    nav_element.append(status_bar);\n",
       "    this.message = status_bar[0];\n",
       "\n",
       "    // Add the close button to the window.\n",
       "    var buttongrp = $('<div class=\"btn-group inline pull-right\"></div>');\n",
       "    var button = $('<button class=\"btn btn-mini btn-primary\" href=\"#\" title=\"Stop Interaction\"><i class=\"fa fa-power-off icon-remove icon-large\"></i></button>');\n",
       "    button.click(function (evt) { fig.handle_close(fig, {}); } );\n",
       "    button.mouseover('Stop Interaction', toolbar_mouse_event);\n",
       "    buttongrp.append(button);\n",
       "    var titlebar = this.root.find($('.ui-dialog-titlebar'));\n",
       "    titlebar.prepend(buttongrp);\n",
       "}\n",
       "\n",
       "mpl.figure.prototype._root_extra_style = function(el){\n",
       "    var fig = this\n",
       "    el.on(\"remove\", function(){\n",
       "\tfig.close_ws(fig, {});\n",
       "    });\n",
       "}\n",
       "\n",
       "mpl.figure.prototype._canvas_extra_style = function(el){\n",
       "    // this is important to make the div 'focusable\n",
       "    el.attr('tabindex', 0)\n",
       "    // reach out to IPython and tell the keyboard manager to turn it's self\n",
       "    // off when our div gets focus\n",
       "\n",
       "    // location in version 3\n",
       "    if (IPython.notebook.keyboard_manager) {\n",
       "        IPython.notebook.keyboard_manager.register_events(el);\n",
       "    }\n",
       "    else {\n",
       "        // location in version 2\n",
       "        IPython.keyboard_manager.register_events(el);\n",
       "    }\n",
       "\n",
       "}\n",
       "\n",
       "mpl.figure.prototype._key_event_extra = function(event, name) {\n",
       "    var manager = IPython.notebook.keyboard_manager;\n",
       "    if (!manager)\n",
       "        manager = IPython.keyboard_manager;\n",
       "\n",
       "    // Check for shift+enter\n",
       "    if (event.shiftKey && event.which == 13) {\n",
       "        this.canvas_div.blur();\n",
       "        event.shiftKey = false;\n",
       "        // Send a \"J\" for go to next cell\n",
       "        event.which = 74;\n",
       "        event.keyCode = 74;\n",
       "        manager.command_mode();\n",
       "        manager.handle_keydown(event);\n",
       "    }\n",
       "}\n",
       "\n",
       "mpl.figure.prototype.handle_save = function(fig, msg) {\n",
       "    fig.ondownload(fig, null);\n",
       "}\n",
       "\n",
       "\n",
       "mpl.find_output_cell = function(html_output) {\n",
       "    // Return the cell and output element which can be found *uniquely* in the notebook.\n",
       "    // Note - this is a bit hacky, but it is done because the \"notebook_saving.Notebook\"\n",
       "    // IPython event is triggered only after the cells have been serialised, which for\n",
       "    // our purposes (turning an active figure into a static one), is too late.\n",
       "    var cells = IPython.notebook.get_cells();\n",
       "    var ncells = cells.length;\n",
       "    for (var i=0; i<ncells; i++) {\n",
       "        var cell = cells[i];\n",
       "        if (cell.cell_type === 'code'){\n",
       "            for (var j=0; j<cell.output_area.outputs.length; j++) {\n",
       "                var data = cell.output_area.outputs[j];\n",
       "                if (data.data) {\n",
       "                    // IPython >= 3 moved mimebundle to data attribute of output\n",
       "                    data = data.data;\n",
       "                }\n",
       "                if (data['text/html'] == html_output) {\n",
       "                    return [cell, data, j];\n",
       "                }\n",
       "            }\n",
       "        }\n",
       "    }\n",
       "}\n",
       "\n",
       "// Register the function which deals with the matplotlib target/channel.\n",
       "// The kernel may be null if the page has been refreshed.\n",
       "if (IPython.notebook.kernel != null) {\n",
       "    IPython.notebook.kernel.comm_manager.register_target('matplotlib', mpl.mpl_figure_comm);\n",
       "}\n"
      ],
      "text/plain": [
       "<IPython.core.display.Javascript object>"
      ]
     },
     "metadata": {},
     "output_type": "display_data"
    },
    {
     "data": {
      "text/html": [
       "<img src=\"data:image/png;base64,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\" width=\"675\">"
      ],
      "text/plain": [
       "<IPython.core.display.HTML object>"
      ]
     },
     "metadata": {},
     "output_type": "display_data"
    }
   ],
   "source": [
    "opt, extra = sync(field_opt.optimize_at_fixed_magnitude(\n",
    "    0.249, (-2, +2), 3,(6, 14), 3,\n",
    "    plot=True, return_extra=True\n",
    "))"
   ]
  },
  {
   "cell_type": "code",
   "execution_count": null,
   "metadata": {
    "ExecuteTime": {
     "end_time": "2018-11-06T14:25:51.197343Z",
     "start_time": "2018-11-06T14:22:16.499Z"
    },
    "collapsed": true
   },
   "outputs": [],
   "source": [
    "optimum, extra = sync(field_opt.optimize_and_ramp_magnitude(\n",
    "    0.249, 0.4, 10,\n",
    "    0, 5, 3,\n",
    "    10, 8, 3,\n",
    "    reoptimization_threshold=0.5,\n",
    "    ramp_rate=3e-3,\n",
    "    return_extra=True\n",
    "))"
   ]
  },
  {
   "cell_type": "code",
   "execution_count": null,
   "metadata": {
    "ExecuteTime": {
     "end_time": "2018-11-06T14:25:51.208321Z",
     "start_time": "2018-11-06T14:22:18.662Z"
    },
    "collapsed": true
   },
   "outputs": [],
   "source": [
    "plt.figure()\n",
    "plt.plot(\n",
    "    [field.phi for field in extra['history']['optima']],\n",
    "    [field.theta for field in extra['history']['optima']],\n",
    "    zorder=-10\n",
    ")\n",
    "plt.scatter(\n",
    "    [field.phi for field in extra['history']['optima']],\n",
    "    [field.theta for field in extra['history']['optima']],\n",
    "    c=[field.r for field in extra['history']['optima']]\n",
    ")\n",
    "plt.colorbar()"
   ]
  },
  {
   "cell_type": "code",
   "execution_count": null,
   "metadata": {
    "ExecuteTime": {
     "end_time": "2018-11-06T14:25:51.213323Z",
     "start_time": "2018-11-06T14:22:22.700Z"
    },
    "collapsed": true
   },
   "outputs": [],
   "source": [
    "extra"
   ]
  },
  {
   "cell_type": "code",
   "execution_count": null,
   "metadata": {
    "ExecuteTime": {
     "end_time": "2018-11-06T14:25:51.224360Z",
     "start_time": "2018-11-06T14:22:22.995Z"
    },
    "collapsed": true
   },
   "outputs": [],
   "source": [
    "plt.figure()\n",
    "plt.plot(extra['history']['objectives'])"
   ]
  },
  {
   "cell_type": "code",
   "execution_count": null,
   "metadata": {
    "ExecuteTime": {
     "end_time": "2018-11-06T14:25:51.229363Z",
     "start_time": "2018-11-06T14:22:23.468Z"
    },
    "collapsed": true
   },
   "outputs": [],
   "source": [
    "fstart = 3e9 \n",
    "fstop = 5e9\n",
    "fvals = setup_frq_sweep(fstart, fstop, 10001, navgs=1, pwr=-50)\n",
    "mgnt.GRPX.field_ramp_rate(4e-3)\n",
    "mgnt.GRPY.field_ramp_rate(4e-3)\n",
    "mgnt.GRPZ.field_ramp_rate(4e-3)\n",
    "dr, dphi, dtheta = -0.001, +0.0, 0.0\n",
    "fig, ax = plt.subplots(1,1)\n",
    "mgnt.ramp(mode='safe')\n",
    "print(f'Magnet reached {mgnt.field_measured().repr_spherical()}', end='\\r')\n",
    "for i in range(1):\n",
    "    print(i)\n",
    "    r, phi, theta = mgnt.r_measured(), mgnt.phi_measured(), mgnt.theta_measured()\n",
    "    r1, phi1, theta1 = r+dr, phi+dphi, theta+dtheta\n",
    "    mgnt.r_target(r1)\n",
    "    mgnt.phi_target(phi1)\n",
    "    mgnt.theta_target(theta1)\n",
    "    mgnt.ramp(mode='safe')\n",
    "    \n",
    "    time.sleep(0.1)\n",
    "    trace = 20*np.log10(take_trace()[0])\n",
    "    ax.plot(fvals, trace, '-', mfc='None', mew=0.5, lw=0.5, color = (1,0,1-0.1*i), label='B = %.3f, phi = %.1f, theta = %.1f' %(r1, phi1, theta1))\n",
    "    r, phi, theta = mgnt.r_measured(), mgnt.phi_measured(), mgnt.theta_measured()\n",
    "    time.sleep(0.1)\n",
    "    \n",
    "ax.grid(dashes=[1,1])\n",
    "ax.set_ylabel('S21 (dBm)')\n",
    "ax.set_xlabel('Frequency (GHz)')\n",
    "ax.legend()"
   ]
  },
  {
   "cell_type": "code",
   "execution_count": null,
   "metadata": {
    "ExecuteTime": {
     "end_time": "2018-11-06T14:25:51.234369Z",
     "start_time": "2018-11-06T14:22:24.655Z"
    },
    "collapsed": true
   },
   "outputs": [],
   "source": [
    "mgnt.theta_measured()"
   ]
  },
  {
   "cell_type": "code",
   "execution_count": null,
   "metadata": {
    "ExecuteTime": {
     "end_time": "2018-11-06T14:25:51.239372Z",
     "start_time": "2018-11-06T14:22:25.243Z"
    },
    "collapsed": true
   },
   "outputs": [],
   "source": [
    "r2, phi2, theta2 = r1, phi1, theta1"
   ]
  },
  {
   "cell_type": "code",
   "execution_count": null,
   "metadata": {
    "ExecuteTime": {
     "end_time": "2018-11-06T14:25:51.245346Z",
     "start_time": "2018-11-06T14:22:25.803Z"
    },
    "collapsed": true
   },
   "outputs": [],
   "source": [
    "fvals2 = fvals\n",
    "trace2 = trace"
   ]
  },
  {
   "cell_type": "code",
   "execution_count": null,
   "metadata": {
    "ExecuteTime": {
     "end_time": "2018-11-06T14:25:51.250380Z",
     "start_time": "2018-11-06T14:22:26.971Z"
    },
    "collapsed": true
   },
   "outputs": [],
   "source": [
    "fig, ax = plt.subplots(1,1)\n",
    "ax.plot(fvals2, trace2, '-', mfc='None', mew=0.5, lw=0.5, color='b', label='B = %.3f, phi = %.1f, theta = %.1f' %(r2, phi2, theta2))\n",
    "ax.plot(fvals, trace, '-', mfc='None', mew=0.5, lw=0.5, color='r', label='B = %.3f, phi = %.1f, theta = %.1f' %(r1, phi1, theta1))\n",
    "\n",
    "ax.grid(dashes=[1,1])\n",
    "ax.set_ylabel('S21 (dBm)')\n",
    "ax.set_xlabel('Frequency (GHz)')\n",
    "ax.legend()    "
   ]
  },
  {
   "cell_type": "code",
   "execution_count": null,
   "metadata": {
    "ExecuteTime": {
     "end_time": "2018-11-06T14:25:51.255392Z",
     "start_time": "2018-11-06T14:22:28.011Z"
    },
    "collapsed": true
   },
   "outputs": [],
   "source": [
    "mgnt.r_measured()"
   ]
  },
  {
   "cell_type": "code",
   "execution_count": null,
   "metadata": {
    "collapsed": true
   },
   "outputs": [],
   "source": []
  },
  {
   "cell_type": "markdown",
   "metadata": {},
   "source": [
    "### New heading"
   ]
  }
 ],
 "metadata": {
  "kernelspec": {
   "display_name": "Python 3",
   "language": "python",
   "name": "python3"
  },
  "language_info": {
   "codemirror_mode": {
    "name": "ipython",
    "version": 3
   },
   "file_extension": ".py",
   "mimetype": "text/x-python",
   "name": "python",
   "nbconvert_exporter": "python",
   "pygments_lexer": "ipython3",
   "version": "3.6.3"
  },
  "toc": {
   "base_numbering": 1,
   "nav_menu": {},
   "number_sections": true,
   "sideBar": true,
   "skip_h1_title": false,
   "title_cell": "Table of Contents",
   "title_sidebar": "Contents",
   "toc_cell": false,
   "toc_position": {
    "height": "calc(100% - 180px)",
    "left": "10px",
    "top": "150px",
    "width": "259px"
   },
   "toc_section_display": true,
   "toc_window_display": true
  }
 },
 "nbformat": 4,
 "nbformat_minor": 2
}

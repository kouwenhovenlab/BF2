{
 "cells": [
  {
   "cell_type": "code",
   "execution_count": 1,
   "metadata": {
    "ExecuteTime": {
     "end_time": "2019-02-05T11:39:14.042973Z",
     "start_time": "2019-02-05T11:39:11.262036Z"
    },
    "init_cell": true
   },
   "outputs": [],
   "source": [
    "%matplotlib notebook\n",
    "\n",
    "import logging\n",
    "import time\n",
    "from importlib import reload\n",
    "\n",
    "from matplotlib import pyplot as plt\n",
    "from matplotlib import colors, cm\n",
    "import numpy as np\n",
    "\n",
    "import qcodes\n",
    "import qcodes as qc\n",
    "from qcodes.instrument.parameter import Parameter\n",
    "from qcodes.dataset.measurements import Measurement\n",
    "from qcodes.dataset.experiment_container import new_experiment"
   ]
  },
  {
   "cell_type": "code",
   "execution_count": 2,
   "metadata": {
    "ExecuteTime": {
     "end_time": "2019-02-05T11:39:14.051980Z",
     "start_time": "2019-02-05T11:39:14.047975Z"
    },
    "init_cell": true
   },
   "outputs": [],
   "source": [
    "# %qtconsole"
   ]
  },
  {
   "cell_type": "markdown",
   "metadata": {},
   "source": [
    "# Custom imports"
   ]
  },
  {
   "cell_type": "code",
   "execution_count": 3,
   "metadata": {
    "ExecuteTime": {
     "end_time": "2019-02-05T11:39:14.552327Z",
     "start_time": "2019-02-05T11:39:14.054982Z"
    },
    "init_cell": true
   },
   "outputs": [
    {
     "ename": "AttributeError",
     "evalue": "module 'numba' has no attribute 'jit'",
     "output_type": "error",
     "traceback": [
      "\u001b[1;31m---------------------------------------------------------------------------\u001b[0m",
      "\u001b[1;31mAttributeError\u001b[0m                            Traceback (most recent call last)",
      "\u001b[1;32m<ipython-input-3-c34a65b0dcad>\u001b[0m in \u001b[0;36m<module>\u001b[1;34m\u001b[0m\n\u001b[0;32m      3\u001b[0m \u001b[1;32mfrom\u001b[0m \u001b[0mpytopo\u001b[0m\u001b[1;33m.\u001b[0m\u001b[0mrf\u001b[0m\u001b[1;33m.\u001b[0m\u001b[0malazar\u001b[0m \u001b[1;32mimport\u001b[0m \u001b[0macquisition_tools\u001b[0m\u001b[1;33m\u001b[0m\u001b[1;33m\u001b[0m\u001b[0m\n\u001b[0;32m      4\u001b[0m \u001b[1;32mfrom\u001b[0m \u001b[0mpytopo\u001b[0m\u001b[1;33m.\u001b[0m\u001b[0mrf\u001b[0m\u001b[1;33m.\u001b[0m\u001b[0malazar\u001b[0m \u001b[1;32mimport\u001b[0m \u001b[0mawg_sequences\u001b[0m\u001b[1;33m\u001b[0m\u001b[1;33m\u001b[0m\u001b[0m\n\u001b[1;32m----> 5\u001b[1;33m \u001b[1;32mfrom\u001b[0m \u001b[0mpytopo\u001b[0m\u001b[1;33m.\u001b[0m\u001b[0mrf\u001b[0m\u001b[1;33m.\u001b[0m\u001b[0malazar\u001b[0m \u001b[1;32mimport\u001b[0m \u001b[0macquisition_controllers\u001b[0m\u001b[1;33m\u001b[0m\u001b[1;33m\u001b[0m\u001b[0m\n\u001b[0m\u001b[0;32m      6\u001b[0m \u001b[1;33m\u001b[0m\u001b[0m\n\u001b[0;32m      7\u001b[0m \u001b[1;32mfrom\u001b[0m \u001b[0mplottr\u001b[0m \u001b[1;32mimport\u001b[0m \u001b[0mqcodes_dataset\u001b[0m\u001b[1;33m\u001b[0m\u001b[1;33m\u001b[0m\u001b[0m\n",
      "\u001b[1;32md:\\onedrive\\bf2\\code\\pytopo\\pytopo\\rf\\alazar\\acquisition_controllers.py\u001b[0m in \u001b[0;36m<module>\u001b[1;34m\u001b[0m\n\u001b[0;32m     11\u001b[0m     \u001b[0m_rescale\u001b[0m\u001b[1;33m(\u001b[0m\u001b[0mout\u001b[0m\u001b[1;33m.\u001b[0m\u001b[0mravel\u001b[0m\u001b[1;33m(\u001b[0m\u001b[1;33m)\u001b[0m\u001b[1;33m,\u001b[0m \u001b[0mdata\u001b[0m\u001b[1;33m.\u001b[0m\u001b[0mravel\u001b[0m\u001b[1;33m(\u001b[0m\u001b[1;33m)\u001b[0m\u001b[1;33m,\u001b[0m \u001b[0mn_bits\u001b[0m\u001b[1;33m,\u001b[0m \u001b[0mscale0\u001b[0m\u001b[1;33m,\u001b[0m \u001b[0mscale1\u001b[0m\u001b[1;33m)\u001b[0m\u001b[1;33m\u001b[0m\u001b[1;33m\u001b[0m\u001b[0m\n\u001b[0;32m     12\u001b[0m \u001b[1;33m\u001b[0m\u001b[0m\n\u001b[1;32m---> 13\u001b[1;33m \u001b[1;33m@\u001b[0m\u001b[0mnb\u001b[0m\u001b[1;33m.\u001b[0m\u001b[0mjit\u001b[0m\u001b[1;33m(\u001b[0m\u001b[0mnb\u001b[0m\u001b[1;33m.\u001b[0m\u001b[0mvoid\u001b[0m\u001b[1;33m(\u001b[0m\u001b[0mnb\u001b[0m\u001b[1;33m.\u001b[0m\u001b[0mfloat32\u001b[0m\u001b[1;33m[\u001b[0m\u001b[1;33m:\u001b[0m\u001b[1;33m]\u001b[0m\u001b[1;33m,\u001b[0m \u001b[0mnb\u001b[0m\u001b[1;33m.\u001b[0m\u001b[0muint16\u001b[0m\u001b[1;33m[\u001b[0m\u001b[1;33m:\u001b[0m\u001b[1;33m]\u001b[0m\u001b[1;33m,\u001b[0m \u001b[0mnb\u001b[0m\u001b[1;33m.\u001b[0m\u001b[0mint64\u001b[0m\u001b[1;33m,\u001b[0m \u001b[0mnb\u001b[0m\u001b[1;33m.\u001b[0m\u001b[0mfloat32\u001b[0m\u001b[1;33m,\u001b[0m \u001b[0mnb\u001b[0m\u001b[1;33m.\u001b[0m\u001b[0mfloat32\u001b[0m\u001b[1;33m)\u001b[0m\u001b[1;33m,\u001b[0m \u001b[0mnopython\u001b[0m\u001b[1;33m=\u001b[0m\u001b[1;32mTrue\u001b[0m\u001b[1;33m,\u001b[0m \u001b[0mcache\u001b[0m\u001b[1;33m=\u001b[0m\u001b[1;32mTrue\u001b[0m\u001b[1;33m)\u001b[0m\u001b[1;33m\u001b[0m\u001b[1;33m\u001b[0m\u001b[0m\n\u001b[0m\u001b[0;32m     14\u001b[0m \u001b[1;32mdef\u001b[0m \u001b[0m_rescale\u001b[0m\u001b[1;33m(\u001b[0m\u001b[0mout\u001b[0m\u001b[1;33m,\u001b[0m \u001b[0mdata\u001b[0m\u001b[1;33m,\u001b[0m \u001b[0mn_bits\u001b[0m\u001b[1;33m,\u001b[0m \u001b[0mscale0\u001b[0m\u001b[1;33m,\u001b[0m \u001b[0mscale1\u001b[0m\u001b[1;33m)\u001b[0m\u001b[1;33m:\u001b[0m\u001b[1;33m\u001b[0m\u001b[1;33m\u001b[0m\u001b[0m\n\u001b[0;32m     15\u001b[0m     \u001b[0mshift_by\u001b[0m \u001b[1;33m=\u001b[0m \u001b[1;36m16\u001b[0m \u001b[1;33m-\u001b[0m \u001b[0mn_bits\u001b[0m\u001b[1;33m\u001b[0m\u001b[1;33m\u001b[0m\u001b[0m\n",
      "\u001b[1;31mAttributeError\u001b[0m: module 'numba' has no attribute 'jit'"
     ]
    }
   ],
   "source": [
    "from pytopo.awg_sequencing import broadbean as bbtools\n",
    "from pytopo.awg_sequencing import awg_tools\n",
    "from pytopo.rf.alazar import acquisition_tools\n",
    "from pytopo.rf.alazar import awg_sequences\n",
    "from pytopo.rf.alazar import acquisition_controllers\n",
    "\n",
    "from plottr import qcodes_dataset\n",
    "from plottr.qcodes_dataset import QcodesDatasetSubscriber"
   ]
  },
  {
   "cell_type": "code",
   "execution_count": null,
   "metadata": {
    "ExecuteTime": {
     "end_time": "2019-02-05T11:39:14.558330Z",
     "start_time": "2019-02-05T11:39:11.283Z"
    },
    "init_cell": true
   },
   "outputs": [],
   "source": [
    "from qcodes.instrument.parameter import Parameter\n",
    "from qcodes.dataset.plotting import plot_by_id\n",
    "from qcodes.dataset.data_export import get_data_by_id\n",
    "\n",
    "from pytopo.sweep.base import Nest, Chain \n",
    "from pytopo.sweep.decorators import getter, setter\n",
    "from pytopo.sweep import sweep, do_experiment, hardsweep, measure\n",
    "\n",
    "from qcodes.math.field_vector import FieldVector\n",
    "from pytopo.field_optimization.movement import FieldOptimizationProblem \n",
    "from pytopo.cQED import softwarespec as ss; reload(ss)"
   ]
  },
  {
   "cell_type": "markdown",
   "metadata": {},
   "source": [
    "# Measurement functions"
   ]
  },
  {
   "cell_type": "markdown",
   "metadata": {},
   "source": [
    "## Qubit measurements"
   ]
  },
  {
   "cell_type": "code",
   "execution_count": null,
   "metadata": {
    "ExecuteTime": {
     "end_time": "2019-02-05T11:39:14.560333Z",
     "start_time": "2019-02-05T11:39:11.296Z"
    },
    "init_cell": true
   },
   "outputs": [],
   "source": [
    "\n",
    "\n",
    "\n",
    "# xtest=np.arange(-100,100.,1)\n",
    "# ytest=1.0/np.pi*(2.0/((xtest-3)**2+2.0**2))\n",
    "\n",
    "# plt.plot(xtest,ytest,'.')\n",
    "# output=fit_lorentzian(xtest,ytest)\n",
    "# output.plot_fit()\n",
    "# output.best_values['sigma']\n",
    "# output.best_values['center']\n",
    "\n"
   ]
  },
  {
   "cell_type": "markdown",
   "metadata": {},
   "source": [
    "## Get resonator trace and plot"
   ]
  },
  {
   "cell_type": "code",
   "execution_count": null,
   "metadata": {
    "ExecuteTime": {
     "end_time": "2019-02-05T11:39:14.562335Z",
     "start_time": "2019-02-05T11:39:11.308Z"
    },
    "init_cell": true
   },
   "outputs": [],
   "source": [
    "from functools import partial\n",
    "from qcodes.math.field_vector import FieldVector\n",
    "\n",
    "def get_resonator_freq(): #helper function to pass variables into resonator spec\n",
    "    global xvals\n",
    "    return get_resonator_spec_and_fit(xvals)\n",
    "\n",
    "def get_resonator_FWHM(): #helper function to pass variables into resonator spec\n",
    "    global xvals\n",
    "    _,_,fitout=get_resonator_spec_and_fit(xvals)\n",
    "    return 2*fitout.params['sigma'].value\n",
    "\n",
    "def measure_and_plot_resonator(ax, line): #plots the trace\n",
    "    liney, phasey, fitout = get_resonator_freq()\n",
    "    time.sleep(0.5)\n",
    "    \n",
    "    line.set_ydata(liney)\n",
    "    ax.relim()\n",
    "    ax.autoscale_view(True, True, True)\n",
    "    ax.get_figure().canvas.draw()\n",
    "    \n",
    "    return fitout.params['center'].value"
   ]
  },
  {
   "cell_type": "markdown",
   "metadata": {},
   "source": [
    "# Init"
   ]
  },
  {
   "cell_type": "markdown",
   "metadata": {},
   "source": [
    "## Configurables"
   ]
  },
  {
   "cell_type": "code",
   "execution_count": null,
   "metadata": {
    "ExecuteTime": {
     "end_time": "2019-02-05T11:39:14.564336Z",
     "start_time": "2019-02-05T11:39:11.324Z"
    },
    "init_cell": true
   },
   "outputs": [],
   "source": [
    "SAMPLE = \"181002_67_d1_CD20190121\""
   ]
  },
  {
   "cell_type": "markdown",
   "metadata": {},
   "source": [
    "## Initialize instruments"
   ]
  },
  {
   "cell_type": "code",
   "execution_count": null,
   "metadata": {
    "ExecuteTime": {
     "end_time": "2019-02-05T11:39:14.566311Z",
     "start_time": "2019-02-05T11:39:11.334Z"
    },
    "init_cell": true,
    "scrolled": false
   },
   "outputs": [],
   "source": [
    "%run -i \"D:\\OneDrive\\BF2\\Code\\BF2\\BF2\\init_station_cqed.py\""
   ]
  },
  {
   "cell_type": "code",
   "execution_count": null,
   "metadata": {
    "ExecuteTime": {
     "end_time": "2019-02-05T11:39:14.568313Z",
     "start_time": "2019-02-05T11:39:11.343Z"
    },
    "init_cell": true
   },
   "outputs": [],
   "source": [
    "numdacs = int(station.ivvi._numdacs)\n",
    "for i in range(1, numdacs+1):\n",
    "    station.ivvi.parameters['dac{}'.format(i)].step = 10\n",
    "    station.ivvi.parameters['dac{}'.format(i)].post_delay = 0.001"
   ]
  },
  {
   "cell_type": "code",
   "execution_count": null,
   "metadata": {
    "ExecuteTime": {
     "end_time": "2019-02-05T11:39:14.570314Z",
     "start_time": "2019-02-05T11:39:11.356Z"
    },
    "init_cell": true
   },
   "outputs": [],
   "source": [
    "with station.alazar.syncing():\n",
    "    station.alazar.clock_source('EXTERNAL_CLOCK_10MHz_REF')\n",
    "    station.alazar.external_sample_rate(int(500e6))\n",
    "    station.alazar.channel_range1(0.4)\n",
    "    station.alazar.channel_range2(0.4)\n",
    "    station.alazar.sample_rate(int(5e8))\n",
    "    \n",
    "station.hetsrc.RF.power(-55)\n",
    "station.LO.power(13.0)\n",
    "station.hetsrc.IF(25e6)\n",
    "#station.hetsrc.frequency(4.577e9)\n",
    "\n",
    "#station.TWPA.power(8.5)\n",
    "#station.TWPA.frequency(8.0123e9)\n",
    "\n",
    "station.LO.frequency(), station.RF.frequency(), station.TWPA.frequency()"
   ]
  },
  {
   "cell_type": "markdown",
   "metadata": {},
   "source": [
    "## Setting up Alazar acquisition controllers"
   ]
  },
  {
   "cell_type": "code",
   "execution_count": null,
   "metadata": {
    "ExecuteTime": {
     "end_time": "2019-02-05T11:39:14.572316Z",
     "start_time": "2019-02-05T11:39:11.369Z"
    },
    "init_cell": true
   },
   "outputs": [],
   "source": [
    "# controller for raw acquisition\n",
    "raw_acq = instools.create_inst(acquisition_controllers.RawAcqCtl, \n",
    "                               'raw_acq', 'alazar',\n",
    "                               allocate_samples=5e8, \n",
    "                               force_new_instance=True)\n",
    "add2station(station, raw_acq)\n",
    "\n",
    "# regular post-measurement IQ demod controller\n",
    "post_iq_acq = instools.create_inst(acquisition_controllers.PostIQCtl, \n",
    "                                   'post_iq_acq', 'alazar',\n",
    "                                   allocate_samples=5e8, \n",
    "                                   force_new_instance=True)\n",
    "add2station(station, post_iq_acq)\n",
    "post_iq_acq.demod_frq(25e6)\n",
    "\n",
    "# controller that demodulates after the measurement, but does NOT integrate in time.\n",
    "post_demod_acq = instools.create_inst(acquisition_controllers.PostDemodCtl, \n",
    "                                      'post_demod_acq', 'alazar',\n",
    "                                      allocate_samples=5e8, \n",
    "                                      force_new_instance=True)\n",
    "add2station(station, post_demod_acq)\n",
    "post_demod_acq.demod_frq(25e6)\n",
    "\n",
    "# controller that can step frequencies during acquisition.\n",
    "softsweep_ctl = instools.create_inst(ss.SoftSweepCtl,\n",
    "                                     'softsweep_ctl', 'alazar',\n",
    "                                     allocate_samples=5e8, \n",
    "                                     force_new_instance=True)\n",
    "add2station(station, softsweep_ctl)\n",
    "softsweep_ctl.demod_frq(25e6)"
   ]
  },
  {
   "cell_type": "markdown",
   "metadata": {},
   "source": [
    "## Essential AWG Sequences"
   ]
  },
  {
   "cell_type": "code",
   "execution_count": null,
   "metadata": {
    "ExecuteTime": {
     "end_time": "2019-02-05T11:39:14.574315Z",
     "start_time": "2019-02-05T11:39:11.382Z"
    },
    "init_cell": true
   },
   "outputs": [],
   "source": [
    "from pytopo.rf.alazar.awg_sequences import TriggerSequence\n",
    "\n",
    "TriggerSequence.chan_map = {\n",
    "    1 : ['pulse', 'ats_trigger', 'ro_trigger'],\n",
    "    2 : [None, 'qb_trigger', None],\n",
    "}\n",
    "TriggerSequence.chan_settings = {\n",
    "    1 : {\n",
    "        'marker_hi' : [1.5, 1.5],\n",
    "        'marker_lo' : [-0.3, -0.3],\n",
    "        },\n",
    "    2 : {\n",
    "        'marker_hi' : [1.5, 1.5],\n",
    "        'marker_lo' : [-0.3, -0.3],\n",
    "        },\n",
    "}"
   ]
  },
  {
   "cell_type": "markdown",
   "metadata": {},
   "source": [
    "# Setup and expt. specific tools"
   ]
  },
  {
   "cell_type": "markdown",
   "metadata": {},
   "source": [
    "## Helper functions for dac assignments"
   ]
  },
  {
   "cell_type": "code",
   "execution_count": null,
   "metadata": {
    "ExecuteTime": {
     "end_time": "2019-02-05T11:39:14.576316Z",
     "start_time": "2019-02-05T11:39:11.393Z"
    },
    "init_cell": true
   },
   "outputs": [],
   "source": [
    "dac_cutter1 = station.ivvi.dac1\n",
    "dac_cutter14= station.ivvi.dac2\n",
    "dac_plunger3 = station.ivvi.dac7\n",
    "dac_plunger7 = station.ivvi.dac4\n",
    "dac_plunger16 = station.ivvi.dac5\n",
    "dac_plunger20 = station.ivvi.dac6\n",
    "\n",
    "@setter(('plungers', 'mV'),)\n",
    "def set_plungers_all(val):\n",
    "    \"\"\"\n",
    "    Set both plungers (left and right) to val (in mV).\n",
    "    \"\"\"\n",
    "    dac_plunger20(val)\n",
    "    dac_plunger3(val)\n",
    "    dac_plunger16(val)\n",
    "    dac_plunger20(val)\n",
    "    \n",
    "    return val"
   ]
  },
  {
   "cell_type": "code",
   "execution_count": null,
   "metadata": {
    "ExecuteTime": {
     "end_time": "2018-12-04T11:45:30.513625Z",
     "start_time": "2018-12-04T11:45:30.494619Z"
    },
    "init_cell": true
   },
   "outputs": [],
   "source": []
  },
  {
   "cell_type": "markdown",
   "metadata": {
    "heading_collapsed": true
   },
   "source": [
    "## Helper functions to sweep magnetic field in cartesian (for using Oxford magnet)"
   ]
  },
  {
   "cell_type": "code",
   "execution_count": null,
   "metadata": {
    "ExecuteTime": {
     "end_time": "2018-12-31T11:28:03.547762Z",
     "start_time": "2018-12-31T11:27:54.971Z"
    },
    "collapsed": true,
    "hidden": true
   },
   "outputs": [],
   "source": [
    "xconvert = 68.3/station.mgnt.GRPX.ATOB()\n",
    "yconvert = 67.7/station.mgnt.GRPY.ATOB()\n",
    "zconvert = 11.96/station.mgnt.GRPZ.ATOB()\n",
    "\n",
    "def get_real_field_x():\n",
    "    return station.mgnt.GRPX.field()/xconvert\n",
    "\n",
    "def get_real_field_y():\n",
    "    return station.mgnt.GRPY.field()/yconvert\n",
    "\n",
    "def get_real_field_z():\n",
    "    return station.mgnt.GRPZ.field()/zconvert\n",
    "\n",
    "@setter(('magnet_x', 'T'),) \n",
    "def set_magnet_x(val):\n",
    "    \"\"\"\n",
    "    Set magnet x\n",
    "    \"\"\"\n",
    "    realxval = xconvert*val\n",
    "    station.mgnt.x_target(realxval)\n",
    "    station.mgnt.ramp(mode='safe')\n",
    "    return val\n",
    "\n",
    "@setter(('magnet_y', 'T'),)\n",
    "def set_magnet_y(val):\n",
    "    \"\"\"\n",
    "    Set magnet y\n",
    "    \"\"\"\n",
    "    realyval = yconvert*val\n",
    "    station.mgnt.y_target(realyval)\n",
    "    station.mgnt.ramp(mode='safe')\n",
    "    return val\n",
    "\n",
    "@setter(('magnet_z', 'T'),)\n",
    "def set_magnet_z(val):\n",
    "    \"\"\"\n",
    "    Set magnet z\n",
    "    \"\"\"\n",
    "    realzval = zconvert*val\n",
    "    station.mgnt.z_target(realzval)\n",
    "    station.mgnt.ramp(mode='safe')\n",
    "    return val\n",
    "\n",
    "@setter(('magnet_z_aligned', 'T'),)\n",
    "def set_magnet_z_aligned(val):\n",
    "    \"\"\"\n",
    "    Set magnet z to val and magnet x to val/50\n",
    "    \"\"\"\n",
    "    realzval = zconvert*val\n",
    "    station.mgnt.z_target(realzval)\n",
    "    realxval = xconvert*val/50\n",
    "    station.mgnt.x_target(realxval)\n",
    "    station.mgnt.ramp(mode='safe')\n",
    "    return val"
   ]
  },
  {
   "cell_type": "markdown",
   "metadata": {},
   "source": [
    "# EVERYTHING ABOVE HERE SHOULD BE RUN FOR INITIALIZATION"
   ]
  },
  {
   "cell_type": "markdown",
   "metadata": {},
   "source": [
    "# Resonator spec"
   ]
  },
  {
   "cell_type": "code",
   "execution_count": null,
   "metadata": {
    "ExecuteTime": {
     "end_time": "2018-11-26T11:39:59.644601Z",
     "start_time": "2018-11-26T11:39:59.637597Z"
    },
    "collapsed": true
   },
   "outputs": [],
   "source": [
    "station.alazar.sample_rate()"
   ]
  },
  {
   "cell_type": "code",
   "execution_count": null,
   "metadata": {
    "ExecuteTime": {
     "end_time": "2019-01-04T15:50:36.474734Z",
     "start_time": "2019-01-04T15:50:36.465729Z"
    },
    "collapsed": true
   },
   "outputs": [],
   "source": [
    "station.RF.status()"
   ]
  },
  {
   "cell_type": "code",
   "execution_count": null,
   "metadata": {
    "ExecuteTime": {
     "end_time": "2018-12-31T12:56:06.083344Z",
     "start_time": "2018-12-31T12:53:53.025754Z"
    },
    "collapsed": true
   },
   "outputs": [],
   "source": [
    "station.RF.on()\n",
    "station.LO.on()\n",
    "station.hetsrc.RF.power(-55)\n",
    "station.hetsrc.IF(25e6)\n",
    "ss.setup_single_averaged_IQpoint(0.5e-3, 1e-3, setup_awg=True, \n",
    "                                 post_integration_delay=0.1e-3, \n",
    "                                 allocated_buffers=10)\n",
    "\n",
    "# station.TWPA.on() #we don't have a BNC T at the moment, we can remove this once we split the marker for the cavity\n",
    "\n",
    "so = sweep(station.hetsrc.frequency, np.arange(3.9e9, 4.0e9, 0.1e6))(\n",
    "    measure(ss.get_single_averaged_IQpoint_chanA),\n",
    ")\n",
    "\n",
    "result = do_experiment(f\"resonator_spec/{SAMPLE}\", so, live_plot=True)\n",
    "\n",
    "# station.TWPA.off()"
   ]
  },
  {
   "cell_type": "code",
   "execution_count": null,
   "metadata": {
    "ExecuteTime": {
     "end_time": "2018-12-31T12:50:03.742260Z",
     "start_time": "2018-12-31T12:49:47.127188Z"
    },
    "collapsed": true
   },
   "outputs": [],
   "source": [
    "station.ivvi.set_dacs_zero()"
   ]
  },
  {
   "cell_type": "code",
   "execution_count": null,
   "metadata": {
    "ExecuteTime": {
     "end_time": "2018-12-31T12:50:21.152246Z",
     "start_time": "2018-12-31T12:50:06.822772Z"
    },
    "collapsed": true
   },
   "outputs": [],
   "source": [
    "station.mgnt.x(0.0)"
   ]
  },
  {
   "cell_type": "markdown",
   "metadata": {
    "ExecuteTime": {
     "end_time": "2018-10-26T17:29:17.806944Z",
     "start_time": "2018-10-26T17:29:17.803943Z"
    }
   },
   "source": [
    "## Standard resonator spec"
   ]
  },
  {
   "cell_type": "code",
   "execution_count": null,
   "metadata": {
    "ExecuteTime": {
     "end_time": "2018-11-23T17:04:12.434585Z",
     "start_time": "2018-11-23T17:04:11.727079Z"
    },
    "collapsed": true
   },
   "outputs": [],
   "source": [
    "from pytopo.rf.alazar import acquisition_tools\n",
    "    \n",
    "station.alazar.clear_buffers()\n",
    "acquisition_tools.simple_alazar_setup_ext_trigger(256, 1, 1)"
   ]
  },
  {
   "cell_type": "code",
   "execution_count": null,
   "metadata": {
    "ExecuteTime": {
     "end_time": "2018-12-08T11:11:51.416616Z",
     "start_time": "2018-12-08T11:09:50.850Z"
    },
    "collapsed": true
   },
   "outputs": [],
   "source": [
    "dac_cutter14()"
   ]
  },
  {
   "cell_type": "code",
   "execution_count": null,
   "metadata": {
    "ExecuteTime": {
     "end_time": "2018-12-06T17:21:39.070417Z",
     "start_time": "2018-12-06T17:21:39.064410Z"
    },
    "collapsed": true
   },
   "outputs": [],
   "source": [
    "station.qubsrc.output_rf('OFF')"
   ]
  },
  {
   "cell_type": "code",
   "execution_count": null,
   "metadata": {
    "ExecuteTime": {
     "end_time": "2019-01-28T13:24:12.173692Z",
     "start_time": "2019-01-28T13:24:12.167690Z"
    }
   },
   "outputs": [],
   "source": [
    "station.fg.ch1.state('off')"
   ]
  },
  {
   "cell_type": "code",
   "execution_count": null,
   "metadata": {
    "ExecuteTime": {
     "end_time": "2019-01-04T15:56:49.593423Z",
     "start_time": "2019-01-04T15:56:49.589394Z"
    },
    "collapsed": true
   },
   "outputs": [],
   "source": [
    "station.RF.off()"
   ]
  },
  {
   "cell_type": "code",
   "execution_count": null,
   "metadata": {
    "ExecuteTime": {
     "end_time": "2019-01-30T16:07:38.716959Z",
     "start_time": "2019-01-30T16:07:25.601808Z"
    }
   },
   "outputs": [],
   "source": [
    "# Standard resonator spec\n",
    "station.qubsrc.off()\n",
    "station = qcodes.Station.default \n",
    "station.hetsrc.RF.power(-55)\n",
    "station.RF.on()\n",
    "\n",
    "station.TWPA.off()\n",
    "so = ss.measure_soft_time_avg_spec(np.arange(4.81e9, 4.83e9, 0.5e6), station.hetsrc, time_bin=0.5e-3,                                   integration_time = 30e-3,\n",
    "                                   setup_awg=True, verbose=True)\n",
    "\n",
    "\n",
    "result = do_experiment(f'resonator_spec/{SAMPLE}', so, live_plot=True)\n",
    "#station.TWPA.off()"
   ]
  },
  {
   "cell_type": "code",
   "execution_count": null,
   "metadata": {
    "ExecuteTime": {
     "end_time": "2018-11-26T10:22:53.182160Z",
     "start_time": "2018-11-26T10:22:53.177129Z"
    },
    "collapsed": true
   },
   "outputs": [],
   "source": [
    "station.awg.ch1_m1_high(1.4)"
   ]
  },
  {
   "cell_type": "code",
   "execution_count": null,
   "metadata": {
    "ExecuteTime": {
     "end_time": "2018-11-09T17:00:41.364364Z",
     "start_time": "2018-11-09T17:00:21.274968Z"
    },
    "collapsed": true
   },
   "outputs": [],
   "source": [
    "station.hetsrc.RF.power(-65)\n",
    "hetfreqs = np.linspace(5.29e9, 5.32e9, 101)\n",
    "#station.TWPA.on()\n",
    "ctl = ss.setup_soft_sweep(hetfreqs, station.hetsrc.frequency, integration_time=30e-3)\n",
    "testout = get_resonator_spec_and_fit(hetfreqs)\n",
    "#station.TWPA.off()\n",
    "\n",
    "plt.figure()\n",
    "plt.plot(hetfreqs,testout[0]**2,'o')\n",
    "plt.plot(hetfreqs,testout[2].best_fit)\n",
    "plt.xlabel('Frequency [GHz]')\n",
    "plt.ylabel('Magnitude**2 [a.u.]')\n",
    "plt.title('Center = %.4f GHz, FWHM = %.2f MHz, Q = %.2f' % (testout[2].params['center'].value*1e-9, 2*testout[2].params['sigma'].value*1e-6, testout[2].params['center'].value/(2*testout[2].params['sigma'].value)))"
   ]
  },
  {
   "cell_type": "markdown",
   "metadata": {
    "heading_collapsed": true
   },
   "source": [
    "### Plots"
   ]
  },
  {
   "cell_type": "code",
   "execution_count": null,
   "metadata": {
    "ExecuteTime": {
     "end_time": "2018-11-22T16:59:59.806317Z",
     "start_time": "2018-11-22T16:59:59.689263Z"
    },
    "collapsed": true,
    "hidden": true
   },
   "outputs": [],
   "source": [
    "from qcodes import load_by_id\n",
    "#ds1 = load_by_id(142)\n",
    "ds1 = load_by_id(541)\n",
    "ds2 = load_by_id(542)  # TWPA off\n",
    "freqs1 = ds1.get_data('frequency')\n",
    "mags1 = ds1.get_data('signal_magnitude')\n",
    "freqs2 = ds2.get_data('frequency')\n",
    "mags2 = ds2.get_data('signal_magnitude')\n",
    "#freqs2 = ds2.get_data('frequency')\n",
    "#mags2 = ds2.get_data('magnitude')\n",
    "mags1=np.reshape(mags1,(np.shape(mags1)[0],np.shape(mags1)[2]))\n",
    "mags2=np.reshape(mags2,(np.shape(mags2)[0],np.shape(mags2)[2]))\n",
    "\n",
    "plt.figure(6)\n",
    "for i in range(1):\n",
    "    plt.plot(freqs2[i][0][:],mags2[i][:], 'c', label='twpa off')\n",
    "    plt.plot(freqs1[i][0][:],mags1[i][:], 'b')\n",
    "    plt.grid()\n",
    "    plt.legend()"
   ]
  },
  {
   "cell_type": "markdown",
   "metadata": {
    "heading_collapsed": true
   },
   "source": [
    "## Live-monitor of resonator spec"
   ]
  },
  {
   "cell_type": "code",
   "execution_count": null,
   "metadata": {
    "ExecuteTime": {
     "end_time": "2018-10-31T09:12:05.625664Z",
     "start_time": "2018-10-31T09:12:05.607651Z"
    },
    "collapsed": true,
    "hidden": true,
    "scrolled": false
   },
   "outputs": [],
   "source": [
    "fvals = np.linspace(5.29e9, 5.33e9, 51)\n",
    "ctl = ss.setup_soft_sweep(fvals, station.hetsrc.frequency, integration_time=30e-3)\n",
    "\n",
    "def monitor_resonator_spec(ax, fvals, data_line=None):\n",
    "    mag, phase, fitout = get_resonator_spec_and_fit(fvals)\n",
    "    \n",
    "    if data_line is None:\n",
    "        data_line = ax.plot(fvals, mag**2)[0]\n",
    "    else:\n",
    "        data_line.set_ydata(mag**2)\n",
    "    \n",
    "    ax.relim()\n",
    "    ax.autoscale_view(True, True, True)\n",
    "    ax.get_figure().canvas.draw()\n",
    "    \n",
    "    return data_line\n",
    "    \n",
    "\n",
    "fig, ax = plt.subplots(1,1)\n",
    "\n",
    "data_line = None\n",
    "ax.set_xlabel('Frequency')\n",
    "ax.set_ylabel('Magnitude')\n",
    "\n",
    "for i in range(10):\n",
    "    data_line = monitor_resonator_spec(ax, fvals, data_line=data_line)"
   ]
  },
  {
   "cell_type": "code",
   "execution_count": null,
   "metadata": {
    "collapsed": true,
    "hidden": true
   },
   "outputs": [],
   "source": []
  },
  {
   "cell_type": "markdown",
   "metadata": {},
   "source": [
    "## Resonator spec vs power"
   ]
  },
  {
   "cell_type": "code",
   "execution_count": null,
   "metadata": {
    "ExecuteTime": {
     "end_time": "2018-12-31T13:08:50.169989Z",
     "start_time": "2018-12-31T13:03:30.585483Z"
    },
    "collapsed": true
   },
   "outputs": [],
   "source": [
    "station = qcodes.Station.default #resonator spec vs power\n",
    "spec_frequencies=np.arange(3.94e9, 4.0e9, 0.5e6)\n",
    "spec_src=station.hetsrc.frequency\n",
    "spec_powers=np.arange(-70,-30,2)\n",
    "\n",
    "ctl = ss.setup_soft_sweep(spec_frequencies, spec_src, \n",
    "                          time_bin=0.5e-3, integration_time=30e-3)\n",
    "\n",
    "#station.TWPA.on()\n",
    "#station.TWPA.off()\n",
    "so = sweep(station.hetsrc.RF.power,spec_powers)(\n",
    "    ss.measure_soft_time_avg_spec(spec_frequencies, station.hetsrc, setup_awg=False, time_bin=0.5e-3,\n",
    "                                   integration_time = 30e-3))\n",
    "\n",
    "result = do_experiment(f'resonator_specvspower/{SAMPLE}', so, live_plot=True)\n"
   ]
  },
  {
   "cell_type": "code",
   "execution_count": null,
   "metadata": {
    "ExecuteTime": {
     "end_time": "2018-11-07T10:28:56.585682Z",
     "start_time": "2018-11-07T10:28:56.522637Z"
    },
    "collapsed": true
   },
   "outputs": [],
   "source": [
    "from matplotlib.colors import LogNorm\n",
    "data = qc.dataset.data_export.load_by_id(151)\n",
    "freqs = data.get_data('frequency')\n",
    "powers = data.get_data('RF_power')\n",
    "signal = data.get_data('signal_magnitude')\n",
    "\n",
    "x = freqs[0][0]\n",
    "y = np.array(powers)[:,0].T\n",
    "X,Y = np.meshgrid(x,y)\n",
    "Z = np.array(signal)[:,0,:]\n",
    "\n",
    "Znorm = Z\n",
    "for i in range(len(X[:,0])):\n",
    "    Znorm[i,:] = Z[i,:]/np.mean(Z[i,-15:-1])\n",
    "\n",
    "plt.figure(figsize=(3, 3))\n",
    "plt.pcolor(X,Y,Z,cmap='viridis', norm=LogNorm(vmin=Z.min(), vmax=Z.max()))\n",
    "plt.xlabel('Frequency (GHz)')\n",
    "plt.ylabel('Power (dBm)')\n",
    "#plt.axis([x.min(),x.max(),y.min(), y.max()])\n",
    "\n"
   ]
  },
  {
   "cell_type": "code",
   "execution_count": null,
   "metadata": {
    "ExecuteTime": {
     "end_time": "2018-11-05T17:48:38.486621Z",
     "start_time": "2018-11-05T17:48:38.482619Z"
    },
    "collapsed": true
   },
   "outputs": [],
   "source": []
  },
  {
   "cell_type": "markdown",
   "metadata": {},
   "source": [
    "# TWPA tuning"
   ]
  },
  {
   "cell_type": "code",
   "execution_count": null,
   "metadata": {
    "ExecuteTime": {
     "end_time": "2018-11-22T17:13:21.485112Z",
     "start_time": "2018-11-22T17:13:21.468070Z"
    },
    "collapsed": true
   },
   "outputs": [],
   "source": [
    "station.TWPA.power(5.5)\n",
    "station.TWPA.frequency(8.012e9)"
   ]
  },
  {
   "cell_type": "code",
   "execution_count": null,
   "metadata": {
    "collapsed": true
   },
   "outputs": [],
   "source": [
    "# station.hetsrc.RF.power(-60)\n",
    "# so = sweep(station.TWPA.power, np.arange(9, 11, 0.1))(\n",
    "#     softspec(np.linspace(5.3e9, 5.326e9, 27), station.hetsrc, navgs=10, setup_awg=False)\n",
    "# )\n",
    "\n",
    "# result = do_experiment(f'TWPA_resonator_spec/{SAMPLE}', so, live_plot=True)"
   ]
  },
  {
   "cell_type": "code",
   "execution_count": null,
   "metadata": {
    "ExecuteTime": {
     "end_time": "2018-11-22T15:50:47.771392Z",
     "start_time": "2018-11-22T15:50:47.616281Z"
    },
    "collapsed": true
   },
   "outputs": [],
   "source": [
    "dac_cutter14(698)"
   ]
  },
  {
   "cell_type": "code",
   "execution_count": null,
   "metadata": {
    "ExecuteTime": {
     "end_time": "2018-11-23T17:17:02.131902Z",
     "start_time": "2018-11-23T17:04:15.636793Z"
    },
    "collapsed": true
   },
   "outputs": [],
   "source": [
    "def get_snr_from_max(trace, background_range=(0, 20)):\n",
    "    idx0, idx1 = background_range\n",
    "    S = np.abs(np.mean(trace[idx0:idx1])-trace.min())\n",
    "    N = np.abs(np.std(trace[idx0:idx1]))\n",
    "    return S, N\n",
    "\n",
    "@getter(('SNR', ''))\n",
    "def SNR():\n",
    "    mag, phase = ss.get_soft_sweep_trace()\n",
    "    trace = mag * np.exp(-1j*phase)\n",
    "    s, n = get_snr_from_max(trace)\n",
    "    return s/n\n",
    "\n",
    "\n",
    "station.qubsrc.output_rf('OFF')\n",
    "spec_frequencies = np.arange(4.4e9, 4.6e9, 1e6)\n",
    "spec_src = station.hetsrc\n",
    "integration_time = 20e-3\n",
    "\n",
    "#pump_amps = np.linspace(4.5, 6.0, 16)\n",
    "pump_frqs = np.arange(7.95e9, 7.98e9, 1e6)\n",
    "\n",
    "ctl = ss.setup_soft_sweep(spec_frequencies, spec_src.frequency, time_bin=0.5e-3, integration_time=30e-3,\n",
    "                         verbose=True, allocated_buffers=100)\n",
    "\n",
    "station.TWPA.on()\n",
    "so = sweep(station.TWPA.frequency, pump_frqs)(\n",
    "         ss.measure_soft_time_avg_spec(spec_frequencies, spec_src,time_bin=0.5e-3, integration_time=30e-3,\n",
    "                                       setup_awg=False),\n",
    "        #measure(SNR),\n",
    "    )\n",
    "\n",
    "result = do_experiment(f'tune_TWPA_resonator_spec/{SAMPLE}', so, live_plot=True)\n",
    "station.TWPA.off() #the TWPA power seems to warm up the fridge so let's turn it off when we are not measuring"
   ]
  },
  {
   "cell_type": "code",
   "execution_count": null,
   "metadata": {
    "ExecuteTime": {
     "end_time": "2018-11-05T10:42:28.352598Z",
     "start_time": "2018-11-05T10:42:28.317571Z"
    },
    "collapsed": true
   },
   "outputs": [],
   "source": [
    "station.RF.power()"
   ]
  },
  {
   "cell_type": "markdown",
   "metadata": {},
   "source": [
    "# Resonator vs Gate Response"
   ]
  },
  {
   "cell_type": "markdown",
   "metadata": {},
   "source": [
    "## Measure at a single frequency"
   ]
  },
  {
   "cell_type": "markdown",
   "metadata": {},
   "source": [
    "### Vs cutter"
   ]
  },
  {
   "cell_type": "code",
   "execution_count": null,
   "metadata": {
    "ExecuteTime": {
     "end_time": "2018-11-05T13:49:45.697679Z",
     "start_time": "2018-11-05T13:47:45.066900Z"
    },
    "collapsed": true
   },
   "outputs": [],
   "source": [
    "#setup_single_averaged_IQpoint(0.1e-3, 10e-3, setup_awg=True)\n",
    "\n",
    "cur_cutter14 = dac_cutter14()\n",
    "#station.hetsrc.frequency(5.31347e9)\n",
    "#station.TWPA.on() #we don't have a BNC T at the moment, we can remove this once we split the marker for the cavity\n",
    "so = sweep(dac_cutter14, np.arange(cur_cutter14, 1800., 1.))(\n",
    "    measure(ss.get_single_averaged_IQpoint_chanA),\n",
    ")\n",
    "\n",
    "result = do_experiment(f\"resonator_gate_response/{SAMPLE}\", so, live_plot=True)\n",
    "station.TWPA.off()"
   ]
  },
  {
   "cell_type": "code",
   "execution_count": null,
   "metadata": {
    "collapsed": true
   },
   "outputs": [],
   "source": [
    "station.hetsrc.frequency(5.310e9)\n",
    "station.hetsrc.RF.power(-55)\n",
    "\n",
    "cur_cutter = dac_cutter1()\n",
    "\n",
    "so = ss.measure_soft_gate_sweep(\n",
    "    np.arange(cur_cutter, cur_cutter+5, 0.1), dac_cutter,\n",
    "    integration_time=10e-3, setup=True,\n",
    ")\n",
    "\n",
    "station.TWPA.on()\n",
    "result = do_experiment(f\"soft_sweep_gate/{SAMPLE}\", so, live_plot=True)\n",
    "station.TWPA.off()"
   ]
  },
  {
   "cell_type": "markdown",
   "metadata": {},
   "source": [
    "### Vs plungers"
   ]
  },
  {
   "cell_type": "code",
   "execution_count": null,
   "metadata": {
    "ExecuteTime": {
     "end_time": "2018-11-05T13:47:21.688610Z",
     "start_time": "2018-11-05T13:33:13.133256Z"
    },
    "collapsed": true
   },
   "outputs": [],
   "source": [
    "station.hetsrc.frequency(5.305e9)\n",
    "cur_plunger = dac_leftplunger()\n",
    "\n",
    "ss.setup_single_averaged_IQpoint(0.1e-3, 30e-3, setup_awg=True)\n",
    "so = sweep(set_plungers, np.arange(cur_plunger,-400,1))(\n",
    "    measure(ss.get_single_averaged_IQpoint_chanA),\n",
    ")\n",
    "\n",
    "#station.TWPA.on()\n",
    "result = do_experiment(f\"resonator_gate_response/{SAMPLE}\", so, live_plot=True)\n",
    "#station.TWPA.off()"
   ]
  },
  {
   "cell_type": "code",
   "execution_count": null,
   "metadata": {
    "ExecuteTime": {
     "end_time": "2018-10-26T12:42:10.481249Z",
     "start_time": "2018-10-26T12:42:01.141109Z"
    },
    "collapsed": true
   },
   "outputs": [],
   "source": [
    "# station.hetsrc.frequency(5.305e9)\n",
    "# station.hetsrc.RF.power(-70)\n",
    "\n",
    "# cur_plunger = dac_leftplunger()\n",
    "\n",
    "# so = ss.measure_soft_gate_sweep(\n",
    "#     np.arange(cur_plunger, cur_plunger+5, 0.1), dac_cutter,\n",
    "#     integration_time=10e-3, setup=True,\n",
    "# )\n",
    "\n",
    "# station.TWPA.on()\n",
    "# result = do_experiment(f\"soft_sweep_gate/{SAMPLE}\", so, live_plot=True)\n",
    "# station.TWPA.off()"
   ]
  },
  {
   "cell_type": "markdown",
   "metadata": {},
   "source": [
    "### Fixed frequency scans (view each point)"
   ]
  },
  {
   "cell_type": "code",
   "execution_count": null,
   "metadata": {
    "ExecuteTime": {
     "end_time": "2018-11-01T17:03:05.689118Z",
     "start_time": "2018-11-01T17:03:05.684131Z"
    },
    "collapsed": true
   },
   "outputs": [],
   "source": [
    "station.TWPA.frequency()"
   ]
  },
  {
   "cell_type": "code",
   "execution_count": null,
   "metadata": {
    "ExecuteTime": {
     "end_time": "2018-11-01T20:26:31.313637Z",
     "start_time": "2018-11-01T20:26:31.277627Z"
    },
    "collapsed": true
   },
   "outputs": [],
   "source": [
    "%%time\n",
    "#Fixed frequency scan if you want to see each point individually\n",
    "\n",
    "station.hetsrc.frequency(5.31347e9+4e6)\n",
    "cur_plunger = dac_leftplunger()\n",
    "cur_cutter = dac_cutter()\n",
    "cutter_vals = np.arange(300,1500.,5)\n",
    "plunger_vals = np.arange(-300,100.,10)\n",
    "\n",
    "\n",
    "setup_single_averaged_IQpoint(0.1e-3, 30e-3, setup_awg=True)\n",
    "so = sweep(dac_cutter, cutter_vals)(sweep(set_plungers, plunger_vals)(\n",
    "    measure(get_single_averaged_IQpoint_chanA),\n",
    "))\n",
    "\n",
    "station.TWPA.on()\n",
    "result = do_experiment(f\"fixed_frequency_slow/{SAMPLE}\", so, live_plot=True)\n",
    "station.TWPA.off()"
   ]
  },
  {
   "cell_type": "markdown",
   "metadata": {},
   "source": [
    "### Fixed frequency scan (only see 1d, faster)"
   ]
  },
  {
   "cell_type": "code",
   "execution_count": null,
   "metadata": {
    "ExecuteTime": {
     "end_time": "2019-01-31T05:23:42.378010Z",
     "start_time": "2019-01-30T21:22:41.795316Z"
    }
   },
   "outputs": [],
   "source": [
    "%%time\n",
    "#Fast Fixed frequency scan if not seeing each 1d line is ok with you\n",
    "\n",
    "station.hetsrc.frequency(4.816e9)\n",
    "cur_plunger = dac_plunger16()\n",
    "cur_cutter = dac_cutter1()\n",
    "cutter_vals = np.arange(300,600.0,2)[::-1]\n",
    "plunger_vals = np.arange(-1000,1000.,5)\n",
    "\n",
    "\n",
    "ctl = ss.setup_soft_sweep(plunger_vals, set_plungers_all,\n",
    "                          time_bin=0.5e-3, integration_time=30e-3, verbose=True, \n",
    "                          allocated_buffers=100, post_integration_delay=100e-6)\n",
    "\n",
    "so = sweep(dac_cutter1, cutter_vals)(ss.measure_soft_gate_sweep(\n",
    "    plunger_vals, set_plungers_all,time_bin=0.5e-3,post_integration_delay = 100e-6,\n",
    "    integration_time=30e-3, setup_awg=False))\n",
    "\n",
    "#station.TWPA.on()\n",
    "result = do_experiment(f\"fixed_frequency_fast/{SAMPLE}\", so, live_plot=True)\n",
    "#station.TWPA.off()"
   ]
  },
  {
   "cell_type": "code",
   "execution_count": null,
   "metadata": {
    "ExecuteTime": {
     "end_time": "2019-01-29T22:48:21.538466Z",
     "start_time": "2019-01-29T22:48:21.533432Z"
    },
    "collapsed": true
   },
   "outputs": [],
   "source": [
    "station.TWPA.off()"
   ]
  },
  {
   "cell_type": "markdown",
   "metadata": {},
   "source": []
  },
  {
   "cell_type": "markdown",
   "metadata": {},
   "source": [
    "## Take full resonator scan vs gate"
   ]
  },
  {
   "cell_type": "markdown",
   "metadata": {},
   "source": [
    "### Vs cutter"
   ]
  },
  {
   "cell_type": "code",
   "execution_count": null,
   "metadata": {
    "ExecuteTime": {
     "end_time": "2019-01-30T09:44:21.643775Z",
     "start_time": "2019-01-30T09:43:06.781168Z"
    }
   },
   "outputs": [],
   "source": [
    "set_plungers_all(-1000)"
   ]
  },
  {
   "cell_type": "code",
   "execution_count": null,
   "metadata": {
    "ExecuteTime": {
     "end_time": "2019-02-01T10:26:02.021455Z",
     "start_time": "2019-02-01T10:24:49.973542Z"
    },
    "scrolled": true
   },
   "outputs": [],
   "source": [
    "cur_cutter1 = dac_cutter1()\n",
    "station.hetsrc.RF.power(-55)\n",
    "spec_frequencies=np.arange(4.8e9, 4.83e9, 1e6)\n",
    "spec_src=station.hetsrc\n",
    "\n",
    "station.qubsrc.off()\n",
    "\n",
    "ctl = ss.setup_soft_sweep(spec_frequencies, spec_src.frequency,\n",
    "                          time_bin=0.5e-3, integration_time=30e-3, verbose=True, \n",
    "                          allocated_buffers=100, post_integration_delay=100e-6)\n",
    "\n",
    "station.TWPA.off()\n",
    "\n",
    "so = sweep(dac_cutter1, np.arange(cur_cutter1, 493, -1.))(\n",
    "    ss.measure_soft_time_avg_spec(spec_frequencies, spec_src, time_bin=0.5e-3, integration_time=30e-3,\n",
    "                                  setup_awg=False, verbose=False, allocated_buffers=100,\n",
    "                                  post_integration_delay=100e-6)\n",
    ")\n",
    "\n",
    "result = do_experiment(f\"resonator_cutter_response/{SAMPLE}\", so, live_plot=True)\n",
    "station.TWPA.off()"
   ]
  },
  {
   "cell_type": "markdown",
   "metadata": {},
   "source": [
    "### Vs plungers"
   ]
  },
  {
   "cell_type": "code",
   "execution_count": null,
   "metadata": {
    "ExecuteTime": {
     "end_time": "2019-02-01T10:41:45.918120Z",
     "start_time": "2019-02-01T10:27:18.618665Z"
    }
   },
   "outputs": [],
   "source": [
    "cur_plunger = dac_plunger16()\n",
    "station.hetsrc.RF.power(-55)\n",
    "spec_frequencies=np.arange(4.80e9, 4.84e9, 0.2e6)\n",
    "spec_src=station.hetsrc\n",
    "\n",
    "ctl = ss.setup_soft_sweep(spec_frequencies, spec_src.frequency,\n",
    "                          time_bin=0.5e-3, integration_time=10e-3, verbose=True, \n",
    "                          allocated_buffers=100, post_integration_delay=100e-6)\n",
    "\n",
    "station.TWPA.off()\n",
    "\n",
    "so = sweep(set_plungers_all, np.arange(cur_plunger,-900.0,-4))(\n",
    "    ss.measure_soft_time_avg_spec(spec_frequencies, spec_src, time_bin=0.5e-3, integration_time=10e-3,\n",
    "                                  setup_awg=False, verbose=False, allocated_buffers=100,\n",
    "                                  post_integration_delay=100e-6)\n",
    ")\n",
    "result = do_experiment(f\"resonator_plunger_response/{SAMPLE}\", so, live_plot=True)\n",
    "\n",
    "station.TWPA.off()"
   ]
  },
  {
   "cell_type": "code",
   "execution_count": null,
   "metadata": {
    "collapsed": true
   },
   "outputs": [],
   "source": [
    "#Use this code to take slices of full resonator vs plunger at multiple different cutter voltages\n",
    "\n",
    "cur_plunger = dac_plunger16()\n",
    "station.hetsrc.RF.power(-55)\n",
    "spec_frequencies=np.arange(4.80e9, 4.84e9, 0.2e6)\n",
    "cur_cutter = dac_cutter1()\n",
    "cutter_voltages = np.arange(cur_cutter,600.0,10)\n",
    "spec_src=station.hetsrc\n",
    "\n",
    "ctl = ss.setup_soft_sweep(spec_frequencies, spec_src.frequency,\n",
    "                          time_bin=0.5e-3, integration_time=10e-3, verbose=True, \n",
    "                          allocated_buffers=100, post_integration_delay=100e-6)\n",
    "\n",
    "station.TWPA.off()\n",
    "for i in np.arange(0,28,2):\n",
    "    dac_cutter1(cutter_voltages[i])\n",
    "    so = sweep(set_plungers_all, np.arange(-1000.0,500.0,5))(\n",
    "        ss.measure_soft_time_avg_spec(spec_frequencies, spec_src, time_bin=0.5e-3, integration_time=10e-3,\n",
    "                                      setup_awg=False, verbose=False, allocated_buffers=100,\n",
    "                                      post_integration_delay=100e-6)\n",
    "    )\n",
    "    result = do_experiment(f\"resonator_plunger_response/{SAMPLE}\", so, live_plot=True)\n",
    "    dac_cutter1(cutter_voltages[i+1])\n",
    "    so = sweep(set_plungers_all, np.arange(500.0,-1000.0,-5))(\n",
    "        ss.measure_soft_time_avg_spec(spec_frequencies, spec_src, time_bin=0.5e-3, integration_time=10e-3,\n",
    "                                      setup_awg=False, verbose=False, allocated_buffers=100,\n",
    "                                      post_integration_delay=100e-6)\n",
    "    )\n",
    "    result = do_experiment(f\"resonator_plunger_response/{SAMPLE}\", so, live_plot=True)\n",
    "\n",
    "station.TWPA.off()"
   ]
  },
  {
   "cell_type": "code",
   "execution_count": null,
   "metadata": {
    "ExecuteTime": {
     "end_time": "2019-01-31T19:38:30.482204Z",
     "start_time": "2019-01-31T19:38:12.346647Z"
    }
   },
   "outputs": [],
   "source": [
    "set_plungers_all(-500)"
   ]
  },
  {
   "cell_type": "code",
   "execution_count": null,
   "metadata": {
    "ExecuteTime": {
     "end_time": "2019-01-30T13:54:05.494560Z",
     "start_time": "2019-01-30T13:42:18.170765Z"
    }
   },
   "outputs": [],
   "source": [
    "cur_plunger = dac_plunger16()\n",
    "station.hetsrc.RF.power(-55)\n",
    "spec_frequencies=np.arange(5.23e9, 5.27e9, 1.0e6)\n",
    "spec_src=station.hetsrc\n",
    "\n",
    "ctl = ss.setup_soft_sweep(spec_frequencies, spec_src.frequency,\n",
    "                          time_bin=0.5e-3, integration_time=30e-3, verbose=True, \n",
    "                          allocated_buffers=100, post_integration_delay=100e-6)\n",
    "\n",
    "station.TWPA.off()\n",
    "so = sweep(dac_plunger7, np.arange(cur_plunger,1000,20))(\n",
    "    ss.measure_soft_time_avg_spec(spec_frequencies, spec_src, time_bin=0.5e-3, integration_time=30e-3,\n",
    "                                  setup_awg=False, verbose=False, allocated_buffers=100,\n",
    "                                  post_integration_delay=100e-6)\n",
    ")\n",
    "\n",
    "result = do_experiment(f\"resonator_gate_response/{SAMPLE}\", so, live_plot=True)\n",
    "station.TWPA.off()"
   ]
  },
  {
   "cell_type": "code",
   "execution_count": null,
   "metadata": {
    "ExecuteTime": {
     "end_time": "2019-01-30T13:54:30.337245Z",
     "start_time": "2019-01-30T13:54:05.498594Z"
    },
    "collapsed": true
   },
   "outputs": [],
   "source": [
    "dac_plunger7(-1000)"
   ]
  },
  {
   "cell_type": "code",
   "execution_count": null,
   "metadata": {
    "ExecuteTime": {
     "end_time": "2019-01-30T16:04:28.503083Z",
     "start_time": "2019-01-30T15:47:00.163616Z"
    }
   },
   "outputs": [],
   "source": [
    "cur_plunger = dac_plunger16()\n",
    "station.hetsrc.RF.power(-55)\n",
    "spec_frequencies=np.arange(5.23e9, 5.27e9, 1.0e6)\n",
    "spec_src=station.hetsrc\n",
    "\n",
    "ctl = ss.setup_soft_sweep(spec_frequencies, spec_src.frequency,\n",
    "                          time_bin=0.5e-3, integration_time=30e-3, verbose=True, \n",
    "                          allocated_buffers=100, post_integration_delay=100e-6)\n",
    "\n",
    "station.TWPA.off()\n",
    "so = sweep(dac_plunger16, np.arange(cur_plunger,2000,20))(\n",
    "    ss.measure_soft_time_avg_spec(spec_frequencies, spec_src, time_bin=0.5e-3, integration_time=30e-3,\n",
    "                                  setup_awg=False, verbose=False, allocated_buffers=100,\n",
    "                                  post_integration_delay=100e-6)\n",
    ")\n",
    "\n",
    "result = do_experiment(f\"resonator_gate_response/{SAMPLE}\", so, live_plot=True)\n",
    "station.TWPA.off()\n",
    "dac_plunger16(-1000)"
   ]
  },
  {
   "cell_type": "code",
   "execution_count": null,
   "metadata": {
    "ExecuteTime": {
     "end_time": "2019-01-30T14:17:45.853822Z",
     "start_time": "2019-01-30T14:06:05.913207Z"
    }
   },
   "outputs": [],
   "source": [
    "cur_plunger = dac_plunger16()\n",
    "station.hetsrc.RF.power(-55)\n",
    "spec_frequencies=np.arange(5.23e9, 5.27e9, 1.0e6)\n",
    "spec_src=station.hetsrc\n",
    "\n",
    "ctl = ss.setup_soft_sweep(spec_frequencies, spec_src.frequency,\n",
    "                          time_bin=0.5e-3, integration_time=30e-3, verbose=True, \n",
    "                          allocated_buffers=100, post_integration_delay=100e-6)\n",
    "\n",
    "station.TWPA.off()\n",
    "so = sweep(dac_plunger20, np.arange(cur_plunger,1000,20))(\n",
    "    ss.measure_soft_time_avg_spec(spec_frequencies, spec_src, time_bin=0.5e-3, integration_time=30e-3,\n",
    "                                  setup_awg=False, verbose=False, allocated_buffers=100,\n",
    "                                  post_integration_delay=100e-6)\n",
    ")\n",
    "\n",
    "result = do_experiment(f\"resonator_gate_response/{SAMPLE}\", so, live_plot=True)\n",
    "station.TWPA.off()\n",
    "dac_plunger20(-1000)"
   ]
  },
  {
   "cell_type": "code",
   "execution_count": null,
   "metadata": {
    "ExecuteTime": {
     "end_time": "2019-01-30T16:05:57.598337Z",
     "start_time": "2019-01-30T16:05:36.172379Z"
    }
   },
   "outputs": [],
   "source": [
    "station.ivvi.set_dacs_zero()"
   ]
  },
  {
   "cell_type": "markdown",
   "metadata": {
    "collapsed": true
   },
   "source": [
    "### Plots"
   ]
  },
  {
   "cell_type": "code",
   "execution_count": null,
   "metadata": {
    "ExecuteTime": {
     "end_time": "2018-11-22T09:42:32.145890Z",
     "start_time": "2018-11-22T09:42:32.044820Z"
    },
    "collapsed": true
   },
   "outputs": [],
   "source": [
    "from qcodes import load_by_id\n",
    "ds1 = load_by_id(485)\n",
    "freqs1 = ds1.get_data('frequency')\n",
    "mags1 = ds1.get_data('signal_magnitude')\n",
    "ds2 = load_by_id(382)\n",
    "freqs2 = ds2.get_data('frequency')\n",
    "mags2 = ds2.get_data('magnitude')\n",
    "mags1=np.reshape(mags1,(np.shape(mags1)[0],np.shape(mags1)[2]))\n",
    "mags2=np.reshape(mags2,(np.shape(mags2)[0],np.shape(mags2)[2]))\n",
    "\n",
    "plt.figure(6)\n",
    "for i in range(1):\n",
    "    plt.plot(freqs2[i][0][:],mags2[i][:], 'c')\n",
    "    plt.plot(freqs1[i][0][:],160+20*np.log(mags1[i][:]), 'b')\n",
    "    plt.grid()\n",
    "#plt.xlim(3e9,8e9)\n",
    "\n",
    "\n",
    "#plt.figure(7)\n",
    "#plt.imshow(np.transpose(mags1)[-1:0:-1],aspect='auto',extent = [-500, 1800., freqs1[0][0][0],freqs1[0][0][-1]])"
   ]
  },
  {
   "cell_type": "markdown",
   "metadata": {
    "collapsed": true
   },
   "source": [
    "# Resonator vs Flux (with Yoko)"
   ]
  },
  {
   "cell_type": "code",
   "execution_count": null,
   "metadata": {
    "ExecuteTime": {
     "end_time": "2019-01-28T13:27:07.314147Z",
     "start_time": "2019-01-28T13:27:07.277124Z"
    }
   },
   "outputs": [],
   "source": [
    "#station.yoko.off()\n",
    "station.yoko.source_mode('CURR')\n",
    "station.yoko.current_range(0.1)\n",
    "#station.yoko.current(0.00)\n",
    "station.yoko.on()"
   ]
  },
  {
   "cell_type": "code",
   "execution_count": null,
   "metadata": {
    "ExecuteTime": {
     "end_time": "2019-01-08T19:14:02.241378Z",
     "start_time": "2019-01-08T19:14:02.211358Z"
    },
    "collapsed": true
   },
   "outputs": [],
   "source": [
    "dac_cutter14(167)"
   ]
  },
  {
   "cell_type": "code",
   "execution_count": null,
   "metadata": {
    "ExecuteTime": {
     "end_time": "2019-02-01T10:42:39.642454Z",
     "start_time": "2019-02-01T10:42:39.634909Z"
    }
   },
   "outputs": [],
   "source": [
    "station.yoko.current()"
   ]
  },
  {
   "cell_type": "code",
   "execution_count": null,
   "metadata": {
    "collapsed": true
   },
   "outputs": [],
   "source": []
  },
  {
   "cell_type": "code",
   "execution_count": null,
   "metadata": {
    "ExecuteTime": {
     "end_time": "2019-02-02T21:57:28.989341Z",
     "start_time": "2019-02-02T17:56:13.966193Z"
    }
   },
   "outputs": [],
   "source": [
    "\n",
    "station.hetsrc.RF.power(-55)\n",
    "spec_frequencies=np.arange(4.795e9, 4.86e9, 0.1e6)\n",
    "spec_src=station.hetsrc\n",
    "#14.64 mT/Amp is the field to current ratio\n",
    "applied_currents = np.arange(station.yoko.current(),0.1,0.005/14.64)\n",
    "station.RF.on()\n",
    "station.LO.on()\n",
    "\n",
    "station.qubsrc.frequency(3.406e9)\n",
    "station.qubsrc.on()\n",
    "\n",
    "ctl = ss.setup_soft_sweep(spec_frequencies, spec_src.frequency,\n",
    "                          time_bin=0.5e-3, integration_time=15e-3, verbose=True, \n",
    "                          allocated_buffers=100, post_integration_delay=100e-6)\n",
    "\n",
    "\n",
    "so = sweep(station.yoko.current, applied_currents)(\n",
    "    ss.measure_soft_time_avg_spec(spec_frequencies, spec_src, time_bin=0.5e-3, integration_time=15e-3,\n",
    "                                  setup_awg=False, verbose=False, allocated_buffers=100,\n",
    "                                  post_integration_delay=100e-6)\n",
    ")\n",
    "\n",
    "result = do_experiment(f\"resonator_flux_response/{SAMPLE}\", so, live_plot=True)\n",
    "station.qubsrc.on()"
   ]
  },
  {
   "cell_type": "markdown",
   "metadata": {},
   "source": [
    "# Qubit spec"
   ]
  },
  {
   "cell_type": "markdown",
   "metadata": {},
   "source": [
    "## Spec vs power"
   ]
  },
  {
   "cell_type": "code",
   "execution_count": null,
   "metadata": {
    "ExecuteTime": {
     "end_time": "2019-01-28T14:51:13.602722Z",
     "start_time": "2019-01-28T14:50:54.087064Z"
    },
    "scrolled": true
   },
   "outputs": [],
   "source": [
    "station = qcodes.Station.default ##spec vs power\n",
    "station.hetsrc.RF.power(-55)\n",
    "station.hetsrc.frequency(5.226e9)\n",
    "station.qubsrc.power(-35)\n",
    "qubit_frequencies = np.arange(7.0e9, 7.5e9, 5e6)\n",
    "spec_src=station.qubsrc\n",
    "station.fg.ch1.state('OFF')\n",
    "\n",
    "ctl = ss.setup_soft_sweep(qubit_frequencies, spec_src.frequency, time_bin=0.5e-3, integration_time=30e-3)\n",
    "\n",
    "spec_src.on()\n",
    "so = ss.measure_soft_time_avg_spec(qubit_frequencies, spec_src, time_bin=0.5e-3, \n",
    "                                   integration_time=30e-3, setup_awg=False, allocated_buffers=100,\n",
    "                                   post_integration_delay=100e-6)\n",
    "\n",
    "result = do_experiment(f'qubit_spec/{SAMPLE}', so, live_plot=True)\n",
    "spec_src.off()\n"
   ]
  },
  {
   "cell_type": "code",
   "execution_count": null,
   "metadata": {
    "ExecuteTime": {
     "end_time": "2019-01-01T12:25:25.262388Z",
     "start_time": "2019-01-01T12:25:25.256384Z"
    },
    "collapsed": true
   },
   "outputs": [],
   "source": [
    "station.fg.ch1.state('OFF')"
   ]
  },
  {
   "cell_type": "code",
   "execution_count": null,
   "metadata": {
    "ExecuteTime": {
     "end_time": "2018-12-31T18:47:46.927590Z",
     "start_time": "2018-12-31T18:47:42.698244Z"
    },
    "collapsed": true
   },
   "outputs": [],
   "source": []
  },
  {
   "cell_type": "code",
   "execution_count": null,
   "metadata": {
    "ExecuteTime": {
     "end_time": "2019-01-24T17:00:53.455491Z",
     "start_time": "2019-01-24T17:00:15.937639Z"
    }
   },
   "outputs": [],
   "source": [
    "station = qcodes.Station.default ##qubit spec vs power\n",
    "station.hetsrc.RF.power(-60)\n",
    "station.hetsrc.frequency(5.225e9)\n",
    "qubit_frequencies = np.arange(7.0e9, 7.5e9, 1e6)\n",
    "qubit_powers = np.linspace(-50,-50,1)\n",
    "spec_src=station.qubsrc\n",
    "\n",
    "\n",
    "ctl = ss.setup_soft_sweep(qubit_frequencies, spec_src.frequency, integration_time=30e-3)\n",
    "\n",
    "station.TWPA.off()\n",
    "spec_src.on()\n",
    "so = sweep(station.qubsrc.power,qubit_powers)(\n",
    "    ss.measure_soft_time_avg_spec(qubit_frequencies, spec_src, integration_time=30e-3))\n",
    "\n",
    "result = do_experiment(f'qubit_spec_vs_power/{SAMPLE}', so, live_plot=True)\n",
    "station.TWPA.off()"
   ]
  },
  {
   "cell_type": "code",
   "execution_count": null,
   "metadata": {
    "ExecuteTime": {
     "end_time": "2019-01-01T12:46:51.008148Z",
     "start_time": "2019-01-01T12:36:38.166585Z"
    },
    "collapsed": true
   },
   "outputs": [],
   "source": [
    "station = qcodes.Station.default ##spec vs power\n",
    "station.hetsrc.RF.power(-55)\n",
    "station.hetsrc.frequency(3.967e9)\n",
    "qubit_frequencies = np.arange(4.5e9, 8.5e9, 5e6)\n",
    "qubit_powers = np.linspace(-25,-15,6)\n",
    "spec_src=station.qubsrc\n",
    "\n",
    "ctl = ss.setup_soft_sweep(qubit_frequencies, spec_src.frequency, integration_time=30e-3)\n",
    "\n",
    "station.TWPA.off()\n",
    "spec_src.output_rf('ON')\n",
    "so = sweep(station.qubsrc.power,qubit_powers)(\n",
    "    ss.measure_soft_time_avg_spec(qubit_frequencies, spec_src, integration_time=30e-3))\n",
    "\n",
    "result = do_experiment(f'qubit_spec_vs_power/{SAMPLE}', so, live_plot=True)"
   ]
  },
  {
   "cell_type": "code",
   "execution_count": null,
   "metadata": {
    "ExecuteTime": {
     "end_time": "2019-01-01T12:52:17.805024Z",
     "start_time": "2019-01-01T12:46:51.012152Z"
    },
    "collapsed": true
   },
   "outputs": [],
   "source": [
    "station = qcodes.Station.default ##spec vs power\n",
    "station.hetsrc.RF.power(-55)\n",
    "station.hetsrc.frequency(3.967e9)\n",
    "qubit_frequencies = np.arange(8.5e9, 10.5e9, 5e6)\n",
    "qubit_powers = np.linspace(-25,-15,6)\n",
    "spec_src=station.qubsrc\n",
    "\n",
    "ctl = ss.setup_soft_sweep(qubit_frequencies, spec_src.frequency, integration_time=30e-3)\n",
    "\n",
    "station.TWPA.off()\n",
    "spec_src.output_rf('ON')\n",
    "so = sweep(station.qubsrc.power,qubit_powers)(\n",
    "    ss.measure_soft_time_avg_spec(qubit_frequencies, spec_src, integration_time=30e-3))\n",
    "\n",
    "result = do_experiment(f'qubit_spec_vs_power/{SAMPLE}', so, live_plot=True)"
   ]
  },
  {
   "cell_type": "code",
   "execution_count": null,
   "metadata": {
    "ExecuteTime": {
     "end_time": "2018-12-12T10:14:51.968739Z",
     "start_time": "2018-12-12T10:03:45.372110Z"
    },
    "collapsed": true
   },
   "outputs": [],
   "source": [
    "station = qcodes.Station.default ##spec vs RESONATOR power\n",
    "RF_powers = np.arange(-70,-40,2)\n",
    "station.hetsrc.frequency(4.542e9)\n",
    "qubit_frequencies = np.arange(6.5e9, 9e9, 10e6)\n",
    "station.qubsrc.power(-20)\n",
    "spec_src=station.qubsrc\n",
    "\n",
    "ctl = ss.setup_soft_sweep(qubit_frequencies, spec_src.frequency, integration_time=30e-3)\n",
    "\n",
    "station.TWPA.off()\n",
    "spec_src.output_rf('ON')\n",
    "so = sweep(station.hetsrc.RF.power,RF_powers)(\n",
    "    ss.measure_soft_time_avg_spec(qubit_frequencies, spec_src, integration_time=30e-3))\n",
    "\n",
    "result = do_experiment(f'qubit_spec_vs_Respower/{SAMPLE}', so, live_plot=True)\n",
    "#station.TWPA.off()"
   ]
  },
  {
   "cell_type": "code",
   "execution_count": null,
   "metadata": {
    "ExecuteTime": {
     "end_time": "2018-11-21T20:18:20.660535Z",
     "start_time": "2018-11-21T18:13:46.396560Z"
    },
    "collapsed": true
   },
   "outputs": [],
   "source": [
    "for f in np.arange(0., 6.0, 0.25):\n",
    "    station = qcodes.Station.default ##spec vs power\n",
    "    station.hetsrc.RF.power(-65)\n",
    "    station.hetsrc.frequency(4.526e9)\n",
    "    station.qubsrc.power(-15)\n",
    "    qubit_frequencies = np.arange((4+f)*1e9, (4+f+0.25)*1e9, 1e6)\n",
    "    qubit_powers = np.arange(-45,-10,4)\n",
    "    spec_src=station.qubsrc\n",
    "\n",
    "    ctl = ss.setup_soft_sweep(qubit_frequencies, spec_src.frequency, time_bin=0.5e-3, integration_time=30e-3)\n",
    "\n",
    "    #station.TWPA.on()\n",
    "    spec_src.on()\n",
    "    so = sweep(station.qubsrc.power,qubit_powers)(\n",
    "        ss.measure_soft_time_avg_spec(qubit_frequencies, spec_src, integration_time=30e-3, setup=False))\n",
    "\n",
    "    result = do_experiment(f'qubit_spec_vs_power/{SAMPLE}', so, live_plot=True)\n",
    "    #station.TWPA.off()"
   ]
  },
  {
   "cell_type": "markdown",
   "metadata": {},
   "source": [
    "### Plot"
   ]
  },
  {
   "cell_type": "code",
   "execution_count": null,
   "metadata": {
    "ExecuteTime": {
     "end_time": "2018-11-22T12:51:28.877816Z",
     "start_time": "2018-11-22T12:51:28.370461Z"
    },
    "collapsed": true
   },
   "outputs": [],
   "source": [
    "from qcodes import load_by_id\n",
    "i=0\n",
    "for f in np.arange(0., 6.0, 0.25):\n",
    "    ds1 = load_by_id(458+i)\n",
    "    #freqs1 = ds1.get_data('frequency')\n",
    "    mags1 = ds1.get_data('signal_magnitude')\n",
    "    #freqs2 = ds2.get_data('frequency')\n",
    "    #mags2 = ds2.get_data('magnitude')\n",
    "    mags1=np.reshape(mags1,(np.shape(mags1)[0],np.shape(mags1)[2]))\n",
    "    if i== 0:\n",
    "        mags = mags1\n",
    "    else:\n",
    "        mags = np.append(mags, mags1, axis=1)\n",
    "    i += 1\n",
    "    \n",
    "plt.figure(8)\n",
    "plt.imshow((mags)[-1:0:-1],aspect='auto',extent = [4.0, 10.0,-65,-15], vmax = 0.00014)\n",
    "plt.colorbar()\n",
    "plt.xlabel('qubit drive frequency (GHz)')\n",
    "plt.ylabel('qubit drive power (dBm)')"
   ]
  },
  {
   "cell_type": "code",
   "execution_count": null,
   "metadata": {
    "ExecuteTime": {
     "end_time": "2018-11-28T14:08:01.224357Z",
     "start_time": "2018-11-28T14:08:01.036220Z"
    },
    "collapsed": true
   },
   "outputs": [],
   "source": [
    "from qcodes import load_by_id\n",
    "\n",
    "ds1 = load_by_id(852)\n",
    "#freqs1 = ds1.get_data('frequency')\n",
    "mags1 = ds1.get_data('signal_magnitude')\n",
    "#freqs2 = ds2.get_data('frequency')\n",
    "#mags2 = ds2.get_data('magnitude')\n",
    "mags1=np.reshape(mags1,(np.shape(mags1)[0],np.shape(mags1)[2]))\n",
    "    \n",
    "plt.figure()\n",
    "plt.imshow((mags1)[-1:0:-1],aspect='auto',extent = [5.0, 9.5,-20,-10], vmax = 0.0045, vmin = 0.001)\n",
    "plt.colorbar()\n",
    "plt.xlabel('qubit drive frequency (GHz)')\n",
    "plt.ylabel('qubit drive power (dBm)')"
   ]
  },
  {
   "cell_type": "markdown",
   "metadata": {},
   "source": [
    "## Spec vs gates"
   ]
  },
  {
   "cell_type": "markdown",
   "metadata": {},
   "source": [
    "### Coarse scans (requiring resonator frequency change)"
   ]
  },
  {
   "cell_type": "code",
   "execution_count": null,
   "metadata": {
    "ExecuteTime": {
     "end_time": "2018-11-23T13:22:58.375768Z",
     "start_time": "2018-11-23T13:22:57.661718Z"
    },
    "collapsed": true
   },
   "outputs": [],
   "source": [
    "from pytopo.rf.alazar import acquisition_tools\n",
    "    \n",
    "station.alazar.clear_buffers()\n",
    "acquisition_tools.simple_alazar_setup_ext_trigger(256, 1, 1)"
   ]
  },
  {
   "cell_type": "code",
   "execution_count": null,
   "metadata": {
    "ExecuteTime": {
     "end_time": "2019-01-28T14:17:41.909779Z",
     "start_time": "2019-01-28T14:17:41.878751Z"
    }
   },
   "outputs": [],
   "source": [
    "dac_cutter1()"
   ]
  },
  {
   "cell_type": "code",
   "execution_count": null,
   "metadata": {
    "ExecuteTime": {
     "end_time": "2019-01-28T14:45:38.036781Z",
     "start_time": "2019-01-28T14:40:43.403203Z"
    },
    "scrolled": true
   },
   "outputs": [],
   "source": [
    "# COARSE SCAN VS CUTTER - Use this if you want to look at Ej vs gate\n",
    "station = qcodes.Station.default\n",
    "station.hetsrc.RF.power(-55)\n",
    "het_freqs = np.arange(5.195e9, 5.235e9, 1e6)\n",
    "station.qubsrc.power(-30)\n",
    "qubit_frequencies = np.arange(6.5e9, 8.0e9, 5e6)\n",
    "cur_cutter1 = dac_cutter1()\n",
    "cutter1_voltages = np.arange(cur_cutter1, 205, 2)\n",
    "\n",
    "station.qubsrc.on()\n",
    "\n",
    "#station.TWPA.on()\n",
    "\n",
    "ctl = ss.setup_soft_sweep(het_freqs, station.hetsrc.frequency, time_bin=0.5e-3, integration_time=30e-3)\n",
    "\n",
    "so = sweep(dac_cutter1, cutter1_voltages)(\n",
    "    ss.measure_qubit_spec_optimize_resonator(het_freqs, station.hetsrc, \n",
    "                                             qubit_frequencies, station.qubsrc, \n",
    "                                             time_bin=0.5e-3, integration_time=30e-3, \n",
    "                                             hanger=True, verbose=False, allocated_buffers=100,\n",
    "                                             post_integration_delay=100e-6)\n",
    ") \n",
    "\n",
    "#note that the two integration times must match!!\n",
    "\n",
    "result = do_experiment(f'optimizedqubit_spec/{SAMPLE}', so, live_plot=True)\n",
    "\n",
    "station.TWPA.off()"
   ]
  },
  {
   "cell_type": "code",
   "execution_count": null,
   "metadata": {
    "ExecuteTime": {
     "end_time": "2019-01-07T03:48:55.400561Z",
     "start_time": "2019-01-07T00:37:50.279843Z"
    },
    "collapsed": true
   },
   "outputs": [],
   "source": [
    "station = qcodes.Station.default\n",
    "station.hetsrc.RF.power(-55)\n",
    "het_freqs = np.arange(4.53e9,4.58e9,1e6)\n",
    "station.qubsrc.power(-15)\n",
    "qubit_frequencies = np.arange(5.5e9, 7.5e9, 5e6)\n",
    "cur_cutter14 = dac_cutter14()\n",
    "cutter14_voltages = np.arange(cur_cutter14, 0.0, -2.0)\n",
    "\n",
    "station.qubsrc.output_rf('ON')\n",
    "\n",
    "#station.TWPA.on()\n",
    "\n",
    "ctl = ss.setup_soft_sweep(het_freqs, station.hetsrc.frequency, time_bin=0.5e-3, integration_time=30e-3)\n",
    "\n",
    "so = sweep(dac_cutter14, cutter14_voltages)(\n",
    "    ss.measure_qubit_spec_optimize_resonator(het_freqs, station.hetsrc, \n",
    "                                             qubit_frequencies, station.qubsrc, \n",
    "                                             time_bin=0.5e-3, integration_time=30e-3, \n",
    "                                             hanger=True, verbose=False, allocated_buffers=100,\n",
    "                                             post_integration_delay=100e-6)\n",
    ") \n",
    "\n",
    "#note that the two integration times must match!!\n",
    "\n",
    "result = do_experiment(f'optimizedqubit_spec/{SAMPLE}', so, live_plot=True)\n",
    "\n",
    "station.TWPA.off()"
   ]
  },
  {
   "cell_type": "code",
   "execution_count": null,
   "metadata": {
    "ExecuteTime": {
     "end_time": "2018-11-22T17:51:24.033382Z",
     "start_time": "2018-11-22T17:51:24.027391Z"
    },
    "collapsed": true
   },
   "outputs": [],
   "source": [
    "station.TWPA.off()"
   ]
  },
  {
   "cell_type": "code",
   "execution_count": null,
   "metadata": {
    "ExecuteTime": {
     "end_time": "2018-11-26T17:06:50.215869Z",
     "start_time": "2018-11-26T17:06:50.185873Z"
    },
    "collapsed": true
   },
   "outputs": [],
   "source": [
    "station = qcodes.Station.default\n",
    "station.hetsrc.RF.power(-65)\n",
    "station.qubsrc.power(-15)\n",
    "het_freqs = np.arange(4.520e9,4.535e9,0.5e6)\n",
    "qubit_frequencies = np.arange(8.5e9, 8.8e9, 1e6)\n",
    "cur_plunger = dac_leftplunger()\n",
    "plunger_voltages = np.arange(cur_plunger, cur_plunger+160, 0.2)\n",
    "\n",
    "ctl = ss.setup_soft_sweep(het_freqs, station.hetsrc.frequency, integration_time=30e-3)\n",
    "so = sweep(set_plungers, plunger_voltages)(\n",
    "    measure_qubit_spec_optimize_resonator(het_freqs, station.hetsrc, \n",
    "                                           qub_freqs, station.qubsrc, integration_time=30e-3)) \n",
    "\n",
    "#note that the two integration times must match!!\n",
    "\n",
    "result = do_experiment(f'optimizedqubit_spec/{SAMPLE}', so, live_plot=True)"
   ]
  },
  {
   "cell_type": "markdown",
   "metadata": {},
   "source": [
    "#### Plots"
   ]
  },
  {
   "cell_type": "code",
   "execution_count": null,
   "metadata": {
    "ExecuteTime": {
     "end_time": "2018-11-27T07:30:35.417869Z",
     "start_time": "2018-11-27T07:30:35.063622Z"
    },
    "collapsed": true
   },
   "outputs": [],
   "source": [
    "from qcodes import load_by_id\n",
    "ds1 = load_by_id(519)\n",
    "freqs1 = ds1.get_data('frequency')\n",
    "mags1 = ds1.get_data('signal_magnitude')\n",
    "#ds2 = load_by_id(382)\n",
    "#freqs2 = ds2.get_data('frequency')\n",
    "#mags2 = ds2.get_data('magnitude')\n",
    "mags1=np.reshape(mags1,(np.shape(mags1)[0],np.shape(mags1)[2]))\n",
    "#mags2=np.reshape(mags2,(np.shape(mags2)[0],np.shape(mags2)[2]))\n",
    "\n",
    "#plt.figure()\n",
    "#for i in range(1):\n",
    "#    #plt.plot(freqs2[i][0][:],mags2[i][:], 'c')\n",
    "#    plt.plot(freqs1[i][0][:],160+20*np.log(mags1[i][:]), 'b')\n",
    "#    plt.grid()\n",
    "#plt.xlim(3e9,8e9)\n",
    "\n",
    "\n",
    "plt.figure()\n",
    "plt.imshow(np.transpose(mags1)[-1:0:-1],aspect='auto',extent = [687, 715, 7.9, 9.2], vmax = 0.019, vmin = 0.010)\n",
    "plt.colorbar()\n",
    "plt.xlabel('cutter14 (mV)')\n",
    "plt.ylabel('qubit drive frequency (GHz)')"
   ]
  },
  {
   "cell_type": "markdown",
   "metadata": {},
   "source": [
    "### Fine scans (resonator does not change)"
   ]
  },
  {
   "cell_type": "code",
   "execution_count": null,
   "metadata": {
    "ExecuteTime": {
     "end_time": "2018-12-12T11:39:54.022606Z",
     "start_time": "2018-12-12T10:32:54.208590Z"
    },
    "collapsed": true
   },
   "outputs": [],
   "source": [
    "station = qcodes.Station.default #charge dispersions\n",
    "station.hetsrc.RF.power(-50)\n",
    "station.hetsrc.frequency(4.542e9)\n",
    "station.qubsrc.power(-20)\n",
    "qubit_frequencies = np.arange(5.5e9, 11e9, 15e6)\n",
    "cur_cutter14 = dac_cutter14()\n",
    "cutter14_voltages = np.arange(500, 521, +1.0/5)\n",
    "spec_src=station.qubsrc\n",
    "\n",
    "ctl = ss.setup_soft_sweep(qubit_frequencies, spec_src.frequency, time_bin=0.5e-3, integration_time=30e-3)\n",
    "\n",
    "station.TWPA.off()\n",
    "spec_src.output_rf('ON')\n",
    "so = sweep(dac_cutter14, cutter14_voltages)(\n",
    "    ss.measure_soft_time_avg_spec(qubit_frequencies, spec_src, \n",
    "                                  time_bin=0.5e-3, integration_time=30e-3, \n",
    "                                  verbose=True, allocated_buffers=100,\n",
    "                                  post_integration_delay=50e-6))\n",
    "\n",
    "result = do_experiment(f'two-tone-vs-cutter/{SAMPLE}', so, live_plot=True)\n",
    "#station.TWPA.off()"
   ]
  },
  {
   "cell_type": "code",
   "execution_count": null,
   "metadata": {
    "ExecuteTime": {
     "end_time": "2018-11-22T10:24:20.357025Z",
     "start_time": "2018-11-22T09:43:22.223617Z"
    },
    "collapsed": true
   },
   "outputs": [],
   "source": [
    "## Fine cutter sweep without updating the resonator position.\n",
    "\n",
    "for f in np.arange(0., 4.5, 0.25):\n",
    "    station = qcodes.Station.default\n",
    "    station.hetsrc.RF.power(-65)\n",
    "    station.hetsrc.frequency(4.526e9)\n",
    "    station.qubsrc.power(-15)\n",
    "    qubit_frequencies = np.arange((5.5+f)*1e9, (5.5+f+0.25)*1e9, 1e6)\n",
    "    cutter14_voltages = np.arange(698,700,0.5)\n",
    "    spec_src=station.qubsrc\n",
    "\n",
    "    ctl = ss.setup_soft_sweep(qubit_frequencies, spec_src.frequency, time_bin=0.5e-3, integration_time=30e-3)\n",
    "\n",
    "    #station.TWPA.on()\n",
    "    spec_src.on()\n",
    "    so = sweep(dac_cutter14,cutter14_voltages)(\n",
    "        ss.measure_soft_time_avg_spec(qubit_frequencies, spec_src, integration_time=30e-3, setup_awg=False))\n",
    "\n",
    "    result = do_experiment(f'qubit_spec_vs_power/{SAMPLE}', so, live_plot=True)\n",
    "    #station.TWPA.off()"
   ]
  },
  {
   "cell_type": "code",
   "execution_count": null,
   "metadata": {
    "ExecuteTime": {
     "end_time": "2018-12-10T10:08:41.858255Z",
     "start_time": "2018-12-10T10:05:22.387369Z"
    },
    "collapsed": true
   },
   "outputs": [],
   "source": [
    "# Fine cutter14 dependence without updating resonator\n",
    "\n",
    "station = qcodes.Station.default\n",
    "station.hetsrc.RF.power(-55)\n",
    "station.hetsrc.frequency(4.55e9)\n",
    "station.qubsrc.power(-25)\n",
    "qubit_frequencies = np.arange(6.5e9, 8e9, 15e6)\n",
    "cur_cutter14 = dac_cutter14()\n",
    "cutter14_voltages = np.arange(cur_cutter14, 1230, -2)\n",
    "spec_src=station.qubsrc\n",
    "\n",
    "\n",
    "ctl = ss.setup_soft_sweep(qubit_frequencies, spec_src.frequency, time_bin=0.5e-3, integration_time=30e-3)\n",
    "\n",
    "station.TWPA.off()\n",
    "spec_src.output_rf('ON')\n",
    "so = sweep(dac_cutter14,cutter14_voltages)(\n",
    "    ss.measure_soft_time_avg_spec(qubit_frequencies, spec_src, time_bin=0.5e-3,  integration_time=30e-3,\n",
    "                                  setup_awg=False, verbose=True, allocated_buffers=100,\n",
    "                                  post_integration_delay=50e-6))\n",
    "\n",
    "result = do_experiment(f'qubit_spec_vs_power/{SAMPLE}', so, live_plot=True)\n",
    "#station.TWPA.off()"
   ]
  },
  {
   "cell_type": "code",
   "execution_count": null,
   "metadata": {
    "ExecuteTime": {
     "end_time": "2018-11-07T11:50:02.560902Z",
     "start_time": "2018-11-07T11:23:16.520048Z"
    },
    "collapsed": true
   },
   "outputs": [],
   "source": [
    "station = qcodes.Station.default #charge dispersions with phase information\n",
    "station.hetsrc.RF.power(-60)\n",
    "station.hetsrc.frequency(5.2992e9)\n",
    "station.qubsrc.power(-15)\n",
    "qubit_frequencies = np.arange(6.0e9, 7.0e9, 5e6)\n",
    "cur_plunger = dac_leftplunger_fine()\n",
    "plunger_voltages = np.arange(0., 60., 2)\n",
    "spec_src=station.qubsrc\n",
    "\n",
    "ctl = ss.setup_single_averaged_IQpoint(0.2e-3, 30e-3, setup_awg=True)\n",
    "\n",
    "station.TWPA.off()\n",
    "spec_src.output_rf('ON')\n",
    "so = sweep(dac_leftplunger_fine, plunger_voltages)(sweep(station.qubsrc.frequency, qubit_frequencies)(\n",
    "    measure(ss.get_single_averaged_IQpoint_chanA),\n",
    "))\n",
    "    \n",
    "result = do_experiment(f'charge_dispersions/{SAMPLE}', so, live_plot=True)"
   ]
  },
  {
   "cell_type": "code",
   "execution_count": null,
   "metadata": {
    "ExecuteTime": {
     "end_time": "2018-11-05T19:01:16.729281Z",
     "start_time": "2018-11-05T18:54:05.337837Z"
    },
    "collapsed": true
   },
   "outputs": [],
   "source": [
    "res_powers = np.arange(-70,-45,5)\n",
    "spec_powers = np.arange(-30,-15,5)\n",
    "\n",
    "for res_power in res_powers:\n",
    "    for spec_power in spec_powers:\n",
    "        station = qcodes.Station.default ##spec vs cutter\n",
    "        station.hetsrc.RF.power(res_power)\n",
    "        station.hetsrc.frequency(5.30e9)\n",
    "        station.qubsrc.power(spec_power)\n",
    "        qubit_frequencies = np.arange(6.0e9, 7.2e9, 10e6)\n",
    "        cur_plunger = dac_leftplunger_fine()\n",
    "        plunger_voltages = np.arange(cur_plunger, cur_plunger+60, 2)\n",
    "        spec_src=station.qubsrc\n",
    "\n",
    "        ctl = ss.setup_soft_sweep(qubit_frequencies, spec_src.frequency, integration_time=30e-3)\n",
    "\n",
    "        station.TWPA.off()\n",
    "        spec_src.output_rf('ON')\n",
    "        so = sweep(dac_leftplunger_fine, plunger_voltages)(\n",
    "            ss.measure_soft_time_avg_spec(qubit_frequencies, spec_src, setup=False))\n",
    "\n",
    "        result = do_experiment(f'charge_dispersions/{SAMPLE}', so, live_plot=True)\n",
    "        #station.TWPA.off()"
   ]
  },
  {
   "cell_type": "markdown",
   "metadata": {
    "ExecuteTime": {
     "end_time": "2018-10-26T17:27:17.490434Z",
     "start_time": "2018-10-26T17:26:33.149232Z"
    },
    "collapsed": true
   },
   "source": [
    "#### Plot\n"
   ]
  },
  {
   "cell_type": "code",
   "execution_count": null,
   "metadata": {
    "ExecuteTime": {
     "end_time": "2018-11-22T11:36:17.380956Z",
     "start_time": "2018-11-22T11:36:17.024709Z"
    },
    "collapsed": true
   },
   "outputs": [],
   "source": [
    "from qcodes import load_by_id\n",
    "i=0\n",
    "for f in np.arange(0., 4.5, 0.25):\n",
    "    ds1 = load_by_id(486+i)\n",
    "    #freqs1 = ds1.get_data('frequency')\n",
    "    mags1 = ds1.get_data('signal_magnitude')\n",
    "    #freqs2 = ds2.get_data('frequency')\n",
    "    #mags2 = ds2.get_data('magnitude')\n",
    "    mags1=np.reshape(mags1,(np.shape(mags1)[0],np.shape(mags1)[2]))\n",
    "    if i== 0:\n",
    "        mags = mags1\n",
    "    else:\n",
    "        mags = np.append(mags, mags1, axis=1)\n",
    "    i += 1\n",
    "    \n",
    "plt.figure(9)\n",
    "plt.imshow((mags)[-1:0:-1],aspect='auto',extent = [4, 8.7,730,735], vmax = 0.007)\n",
    "plt.colorbar()\n",
    "plt.xlabel('qubit drive frequency (GHz)')\n",
    "plt.ylabel('cutter14 (mV)')"
   ]
  },
  {
   "cell_type": "code",
   "execution_count": null,
   "metadata": {
    "ExecuteTime": {
     "end_time": "2018-11-28T10:39:26.028425Z",
     "start_time": "2018-11-28T10:39:25.844326Z"
    },
    "collapsed": true
   },
   "outputs": [],
   "source": [
    "from qcodes import load_by_id\n",
    "\n",
    "ds1 = load_by_id(828)\n",
    "#freqs1 = ds1.get_data('frequency')\n",
    "mags1 = ds1.get_data('signal_magnitude')\n",
    "#freqs2 = ds2.get_data('frequency')\n",
    "#mags2 = ds2.get_data('magnitude')\n",
    "mags1=np.reshape(mags1,(np.shape(mags1)[0],np.shape(mags1)[2]))\n",
    "\n",
    "plt.figure()\n",
    "plt.imshow((mags1)[-1:0:-1],aspect='auto',extent = [4, 8.7, 730,732], vmax = 0.007, vmin = 0.002)\n",
    "plt.colorbar()\n",
    "plt.xlabel('qubit drive frequency (GHz)')\n",
    "plt.ylabel('cutter14 (mV)')"
   ]
  },
  {
   "cell_type": "markdown",
   "metadata": {},
   "source": [
    "## Spec vs flux"
   ]
  },
  {
   "cell_type": "code",
   "execution_count": null,
   "metadata": {
    "ExecuteTime": {
     "end_time": "2019-01-06T13:59:27.504861Z",
     "start_time": "2019-01-06T13:59:27.491850Z"
    },
    "collapsed": true
   },
   "outputs": [],
   "source": [
    "station.yoko.off()\n",
    "station.yoko.source_mode('CURR')\n",
    "station.yoko.current_range(0.1)\n",
    "station.yoko.current(0.00)\n",
    "station.yoko.on()"
   ]
  },
  {
   "cell_type": "markdown",
   "metadata": {},
   "source": [
    "### Coarse scan (updating heterodyne frequency)"
   ]
  },
  {
   "cell_type": "code",
   "execution_count": null,
   "metadata": {
    "ExecuteTime": {
     "end_time": "2019-01-14T12:21:44.114062Z",
     "start_time": "2019-01-14T12:21:44.105054Z"
    }
   },
   "outputs": [],
   "source": [
    "station.yoko.current()"
   ]
  },
  {
   "cell_type": "code",
   "execution_count": null,
   "metadata": {
    "ExecuteTime": {
     "end_time": "2018-11-27T07:43:14.017422Z",
     "start_time": "2018-11-27T07:43:14.012419Z"
    },
    "collapsed": true
   },
   "outputs": [],
   "source": [
    "station.TWPA.off()"
   ]
  },
  {
   "cell_type": "code",
   "execution_count": null,
   "metadata": {
    "ExecuteTime": {
     "end_time": "2018-12-01T16:51:06.373961Z",
     "start_time": "2018-12-01T16:51:06.340937Z"
    },
    "collapsed": true
   },
   "outputs": [],
   "source": [
    "dac_cutter14()"
   ]
  },
  {
   "cell_type": "code",
   "execution_count": null,
   "metadata": {
    "ExecuteTime": {
     "end_time": "2019-01-07T20:06:08.367925Z",
     "start_time": "2019-01-07T20:06:08.341901Z"
    },
    "collapsed": true
   },
   "outputs": [],
   "source": [
    "np.concatenate([np.arange(0.3e9,2.4e9,7e6),np.arange(3.1e9,4.2e9,7e6)])"
   ]
  },
  {
   "cell_type": "code",
   "execution_count": null,
   "metadata": {
    "ExecuteTime": {
     "end_time": "2019-01-16T08:44:43.255465Z",
     "start_time": "2019-01-16T08:44:43.246457Z"
    }
   },
   "outputs": [],
   "source": [
    "station.yoko.current()"
   ]
  },
  {
   "cell_type": "code",
   "execution_count": null,
   "metadata": {
    "ExecuteTime": {
     "end_time": "2019-02-02T17:56:13.962219Z",
     "start_time": "2019-02-02T11:18:36.093982Z"
    }
   },
   "outputs": [],
   "source": [
    "station = qcodes.Station.default #qubit spec vs flux updating resonator (should basically )\n",
    "station.hetsrc.RF.power(-55)\n",
    "station.qubsrc.power(-25)\n",
    "het_freqs = np.arange(4.805e9, 4.88e9, 1e6)\n",
    "qubit_frequencies = np.arange(3.0e9,4.5e9,5e6)\n",
    "\n",
    "#14.64 mT/Amp is the field to current ratio\n",
    "fluxline_currentsDown = np.arange(station.yoko.current(),0.02,-0.002/14.64)\n",
    "\n",
    "station.qubsrc.on()\n",
    "\n",
    "#station.TWPA.on()\n",
    "ctl = ss.setup_soft_sweep(het_freqs, station.hetsrc.frequency, time_bin=0.5e-3, integration_time=15e-3)\n",
    "\n",
    "\n",
    "so = sweep(station.yoko.current, fluxline_currentsDown)(\n",
    "    ss.measure_qubit_spec_optimize_resonator(het_freqs, station.hetsrc, \n",
    "                                            qubit_frequencies, station.qubsrc, \n",
    "                                            time_bin=0.5e-3, integration_time=15e-3, \n",
    "                                            hanger = True, verbose=False, allocated_buffers=100,\n",
    "                                             post_integration_delay=50e-6)\n",
    ")\n",
    "\n",
    "    #note that the two integration times must match!!\n",
    "\n",
    "result = do_experiment(f'optimizedqubit_specVsFlux/{SAMPLE}', so, live_plot=True)"
   ]
  },
  {
   "cell_type": "code",
   "execution_count": null,
   "metadata": {
    "ExecuteTime": {
     "end_time": "2019-01-24T10:07:07.491031Z",
     "start_time": "2019-01-23T20:52:25.660017Z"
    }
   },
   "outputs": [],
   "source": [
    "#this is for sweeping multiple frequency ranges\n",
    "station = qcodes.Station.default\n",
    "station.hetsrc.RF.power(-55)\n",
    "station.qubsrc.power(-30)\n",
    "het_freqs = np.arange(5.195e9, 5.26e9, 1e6)\n",
    "qubit_frequencies = np.array([np.arange(0.5e9,2.5e9,5e6),np.arange(2.5e9,5.0e9,5e6),np.arange(5.75e9,8.25e9,5e6),\n",
    "                              np.arange(8.25e9,10.75e9,5e6)])\n",
    "fluxline_currentsUp = np.arange(0.0,0.04,0.002/14.64) #14.64 mT/Amp is the field to current ratio\n",
    "fluxline_currentsDown = np.arange(0.04,0.0,-0.002/14.64)\n",
    "\n",
    "station.qubsrc.on()\n",
    "\n",
    "#station.TWPA.on()\n",
    "ctl = ss.setup_soft_sweep(het_freqs, station.hetsrc.frequency, time_bin=0.5e-3, integration_time=30e-3)\n",
    "\n",
    "for i in np.arange(0,3,2):\n",
    "    so = sweep(station.yoko.current, fluxline_currentsDown)(\n",
    "        ss.measure_qubit_spec_optimize_resonator(het_freqs, station.hetsrc, \n",
    "                                                 qubit_frequencies[i], station.qubsrc, \n",
    "                                                 time_bin=0.5e-3, integration_time=30e-3, \n",
    "                                                 hanger = True, verbose=False, allocated_buffers=100,\n",
    "                                                 post_integration_delay=50e-6)\n",
    "    )\n",
    "\n",
    "    #note that the two integration times must match!!\n",
    "\n",
    "    result = do_experiment(f'optimizedqubit_specVsFlux/{SAMPLE}', so, live_plot=True)\n",
    "    \n",
    "    so = sweep(station.yoko.current, fluxline_currentsUp)(\n",
    "        ss.measure_qubit_spec_optimize_resonator(het_freqs, station.hetsrc, \n",
    "                                                 qubit_frequencies[i+1], station.qubsrc, \n",
    "                                                 time_bin=0.5e-3, integration_time=30e-3, \n",
    "                                                 hanger = True, verbose=False, allocated_buffers=100,\n",
    "                                                 post_integration_delay=50e-6)\n",
    "    )\n",
    "\n",
    "    #note that the two integration times must match!!\n",
    "\n",
    "    result = do_experiment(f'optimizedqubit_specVsFlux/{SAMPLE}', so, live_plot=True)\n",
    "station.qubsrc.off()\n",
    "    \n",
    "station.TWPA.off()"
   ]
  },
  {
   "cell_type": "code",
   "execution_count": null,
   "metadata": {
    "ExecuteTime": {
     "end_time": "2018-11-27T09:59:42.361459Z",
     "start_time": "2018-11-27T09:59:42.050241Z"
    },
    "collapsed": true
   },
   "outputs": [],
   "source": [
    "station.TWPA.off()\n",
    "station.yoko.ramp_current(-0.000, 0.001, 0.1)"
   ]
  },
  {
   "cell_type": "markdown",
   "metadata": {},
   "source": [
    "#### Plots"
   ]
  },
  {
   "cell_type": "code",
   "execution_count": null,
   "metadata": {
    "ExecuteTime": {
     "end_time": "2018-11-27T12:00:23.227793Z",
     "start_time": "2018-11-27T11:58:41.671Z"
    },
    "collapsed": true
   },
   "outputs": [],
   "source": [
    "from qcodes import load_by_id\n",
    "ds1 = load_by_id(828)\n",
    "freqs1 = ds1.get_data('frequency')\n",
    "mags1 = ds1.get_data('signal_magnitude')\n",
    "#ds2 = load_by_id(382)\n",
    "#freqs2 = ds2.get_data('frequency')\n",
    "#mags2 = ds2.get_data('magnitude')\n",
    "mags1=np.reshape(mags1,(np.shape(mags1)[0],np.shape(mags1)[2]))\n",
    "#mags2=np.reshape(mags2,(np.shape(mags2)[0],np.shape(mags2)[2]))\n",
    "\n",
    "#plt.figure()\n",
    "#for i in range(1):\n",
    "#    #plt.plot(freqs2[i][0][:],mags2[i][:], 'c')\n",
    "#    plt.plot(freqs1[i][0][:],160+20*np.log(mags1[i][:]), 'b')\n",
    "#    plt.grid()\n",
    "#plt.xlim(3e9,8e9)\n",
    "\n",
    "\n",
    "plt.figure()\n",
    "plt.imshow(np.transpose(mags1)[-1:0:-1],aspect='auto',extent = [-4.2e-3, 4.2e-3, 8.1, 8.55], vmax = 0.0046, vmin = 0.0040)\n",
    "plt.colorbar()\n",
    "plt.xlabel('yoko current (A)')\n",
    "plt.ylabel('qubit drive frequency (GHz)')"
   ]
  },
  {
   "cell_type": "code",
   "execution_count": null,
   "metadata": {
    "collapsed": true
   },
   "outputs": [],
   "source": []
  },
  {
   "cell_type": "markdown",
   "metadata": {},
   "source": [
    "## Spec vs readout frequency"
   ]
  },
  {
   "cell_type": "code",
   "execution_count": null,
   "metadata": {
    "ExecuteTime": {
     "end_time": "2018-12-12T09:09:49.736302Z",
     "start_time": "2018-12-12T08:48:14.399309Z"
    },
    "collapsed": true
   },
   "outputs": [],
   "source": [
    "station = qcodes.Station.default \n",
    "station.hetsrc.RF.power(-55)\n",
    "station.qubsrc.power(-25)\n",
    "qubit_frequencies = np.arange(6.5e9, 9.0e9, 5e6)\n",
    "readout_freq = np.arange(4.54e9, 4.59e9, +0.5e6)\n",
    "spec_src=station.qubsrc\n",
    "\n",
    "ctl = ss.setup_soft_sweep(qubit_frequencies, spec_src.frequency, time_bin=0.5e-3, integration_time=30e-3, verbose=True, \n",
    "                          allocated_buffers=100, post_integration_delay=100e-6)\n",
    "\n",
    "\n",
    "station.TWPA.off()\n",
    "spec_src.output_rf('ON')\n",
    "so = sweep(station.hetsrc.frequency, readout_freq)(\n",
    "    ss.measure_soft_time_avg_spec(qubit_frequencies, spec_src, time_bin=0.5e-3, integration_time=30e-3,\n",
    "                                  setup_awg=False, verbose=True, allocated_buffers=100,\n",
    "                                  post_integration_delay=100e-6))\n",
    "\n",
    "result = do_experiment(f'spec_vs_readout_freq/{SAMPLE}', so, live_plot=True)\n",
    "#station.TWPA.off()"
   ]
  },
  {
   "cell_type": "markdown",
   "metadata": {},
   "source": [
    "## Saturation spectroscopy"
   ]
  },
  {
   "cell_type": "code",
   "execution_count": null,
   "metadata": {
    "ExecuteTime": {
     "end_time": "2019-01-28T14:53:16.052614Z",
     "start_time": "2019-01-28T14:53:16.028596Z"
    }
   },
   "outputs": [],
   "source": [
    "import numpy as np\n",
    "import qcodes as qc\n",
    "import broadbean as bb\n",
    "from broadbean.plotting import plotter\n",
    "\n",
    "from pytopo.awg_sequencing import broadbean as bbtools\n",
    "from pytopo.awg_sequencing.broadbean import BluePrints, BroadBeanSequence\n",
    "\n",
    "ramp = bb.PulseAtoms.ramp\n",
    "gaussian = bb.PulseAtoms.gaussian\n",
    "\n",
    "class SatSpecSequence(BroadBeanSequence):\n",
    "    \"\"\"\n",
    "    A sequence that consists of a square qubit pulse followed by a readout pulse.\n",
    "\n",
    "    required channels:\n",
    "        'ats_trigger' : marker for the alazar\n",
    "        'ro_pulse' : readout marker \n",
    "        'qb_pulse' : qubit marker\n",
    "    \"\"\"\n",
    "    name = 'SatSpec_sequence'\n",
    "    \n",
    "    def sequence(self, pulse_time, readout_time, cycle_time = 10e-6, cav_risetime = 0.1e-6, overlap_time = 0.0,\n",
    "                 pre_pulse_time=1e-6, ncycles=2,\n",
    "                 alazar_trigger_time=0.1e-6):\n",
    "        \"\"\"\n",
    "        Parameters:\n",
    "        'pulse_time' : length of the qubit pulse\n",
    "        'readout_time' : length of the pulse on the readout channel\n",
    "        'cycle_time' : time of each elem\n",
    "        'cav_risetime' : give the cavity some time to ring up before taking data\n",
    "        'overlap_time': amount of time the cavity and the qubit pulse overlap (max is the pulse_time)\n",
    "        'pre_pulse_time' : some delay before the any pulses are played\n",
    "        'ncycles': the number of cycles in the sequence. Typically for saturation spectroscopy we need to take\n",
    "        small time bins and average many times. The AWG can't handle it if your sequence has too many elemnts\n",
    "        so this is taken care of here by having 1 starting element where it waits for a trigger and then repeating\n",
    "        the element the number of averages you want to take -1.\n",
    "        \"\"\"\n",
    "        \n",
    "        elements = []\n",
    "        \n",
    "            \n",
    "        bps = bbtools.BluePrints(chan_map=self.chan_map, length=cycle_time, sample_rate=self.SR)\n",
    "        bps['pulse'].insertSegment(0, ramp, (0, 0), dur=cycle_time)\n",
    "        bps['qb_pulse'] = [(pre_pulse_time, pulse_time)]\n",
    "        bps['ats_trigger'] = [(pre_pulse_time+pulse_time - overlap_time+cav_risetime, alazar_trigger_time)]\n",
    "        bps['ro_pulse'] = [(pre_pulse_time+pulse_time - overlap_time, readout_time+2*cav_risetime)]\n",
    "\n",
    "        elements.append(bbtools.blueprints2element(bps))\n",
    "            \n",
    "        \n",
    "        \n",
    "        bps = bbtools.BluePrints(chan_map=self.chan_map, length=cycle_time, sample_rate=self.SR)\n",
    "        bps['pulse'].insertSegment(0, ramp, (0, 0), dur=cycle_time)\n",
    "        bps['qb_pulse'] = [(pre_pulse_time, pulse_time)]\n",
    "        bps['ats_trigger'] = [(pre_pulse_time+pulse_time - overlap_time+cav_risetime, alazar_trigger_time)]\n",
    "        bps['ro_pulse'] = [(pre_pulse_time+pulse_time - overlap_time, readout_time+2*cav_risetime)]\n",
    "        elements.append(bbtools.blueprints2element(bps))\n",
    "        \n",
    "        seq = bbtools.elements2sequence(elements, self.name)\n",
    "        seq.setSequencingNumberOfRepetitions(2, ncycles-1)\n",
    "        \n",
    "        return seq\n",
    "    \n",
    "    \n",
    "SatSpecSequence.chan_map = {\n",
    "    1 : ['pulse', 'ats_trigger', 'ro_pulse'],\n",
    "    2 : [None, 'qb_pulse', None],   \n",
    "}\n",
    "\n",
    "SatSpecSequence.chan_settings = {\n",
    "    1 : {\n",
    "        'marker_hi' : [1.5, 1.5],\n",
    "        'marker_lo' : [-0.3, -0.3],\n",
    "        },\n",
    "    2 : {\n",
    "        'marker_hi' : [1.5, 1.5],\n",
    "        'marker_lo' : [-0.3, -0.3],\n",
    "        },\n",
    "}"
   ]
  },
  {
   "cell_type": "markdown",
   "metadata": {
    "ExecuteTime": {
     "end_time": "2019-01-24T16:44:24.640463Z",
     "start_time": "2019-01-24T16:44:24.634460Z"
    }
   },
   "source": []
  },
  {
   "cell_type": "markdown",
   "metadata": {},
   "source": [
    "## THIS IS A HACK. NEVER CODE LIKE THIS. WILL INCORPORATE IT INTO SOFTWARE SPEC CORRECTLY"
   ]
  },
  {
   "cell_type": "code",
   "execution_count": null,
   "metadata": {
    "ExecuteTime": {
     "end_time": "2019-01-28T18:55:44.701558Z",
     "start_time": "2019-01-28T18:54:12.320026Z"
    }
   },
   "outputs": [],
   "source": [
    "def setup_soft_sweep_SS(values, param, time_bin=0.2e-3, integration_time=10e-3,\n",
    "                     post_integration_delay=10e-6, setup_awg=True, ctl=None,\n",
    "                     allocated_buffers=None, verbose=False):\n",
    "\n",
    "    awg = qcodes.Station.default.awg\n",
    "    if ctl is None:\n",
    "        ctl = qcodes.Station.default.softsweep_ctl\n",
    "    alazar = qcodes.Station.default.alazar\n",
    "\n",
    "    navgs = int(integration_time / time_bin)\n",
    "\n",
    "    if setup_awg:\n",
    "        SatSpec_seq = SatSpecSequence(station.awg, SR=1e8)\n",
    "        SatSpec_seq.wait = 'first'\n",
    "        SatSpec_seq.setup_awg(pulse_time=5e-6, readout_time=5e-6, cav_risetime = 0.2e-6,\n",
    "                              cycle_time = 12e-6, overlap_time = 5e-6,\n",
    "                              ncycles = navgs)\n",
    "    ctl.param = param\n",
    "    ctl.values = values\n",
    "    ctl.buffers_per_block(navgs)\n",
    "    ctl.average_buffers(True)\n",
    "\n",
    "    nalloc = max(2, len(values)-1)\n",
    "    if allocated_buffers is not None:\n",
    "        nalloc = allocated_buffers\n",
    "    ctl.setup_acquisition(samples=int((time_bin-post_integration_delay) * alazar.sample_rate() // 128 * 128),\n",
    "                          records=1,\n",
    "                          buffers=len(values)*navgs, verbose=verbose,\n",
    "                          allocated_buffers=nalloc)\n",
    "    return ctl\n",
    "\n",
    "\n",
    "int_time = 15e-3\n",
    "t_bin = 2e-6\n",
    "\n",
    "\n",
    "station.hetsrc.RF.power(-52)\n",
    "station.hetsrc.frequency(5.226e9)\n",
    "qubit_frequencies = np.arange(7.1e9, 7.4e9, 5e6)\n",
    "spec_src=station.qubsrc\n",
    "spec_src.power(-25)\n",
    "\n",
    "\n",
    "ctl = setup_soft_sweep_SS(qubit_frequencies, spec_src.frequency, time_bin=t_bin, integration_time=int_time, \n",
    "                          post_integration_delay = 0.0e-6, setup_awg = True)\n",
    "#alazar takes samples of int(time_bin - post integration delay )\n",
    "\n",
    "spec_src.on()\n",
    "so = ss.measure_soft_time_avg_spec(qubit_frequencies, spec_src, time_bin=t_bin, \n",
    "                                   integration_time=int_time, setup_awg=False, allocated_buffers=100,\n",
    "                                   post_integration_delay=0.0e-6)\n",
    "\n",
    "result = do_experiment(f'qubit_spec/{SAMPLE}', so, live_plot=True)\n",
    "spec_src.off()"
   ]
  },
  {
   "cell_type": "markdown",
   "metadata": {},
   "source": [
    "# Using magnetic field"
   ]
  },
  {
   "cell_type": "code",
   "execution_count": null,
   "metadata": {
    "ExecuteTime": {
     "end_time": "2018-11-30T14:28:19.648518Z",
     "start_time": "2018-11-30T14:28:19.625500Z"
    },
    "collapsed": true
   },
   "outputs": [],
   "source": [
    "station.mgnt.GRPX.field_ramp_rate(1e-3)\n",
    "station.mgnt.GRPY.field_ramp_rate(1e-3)\n",
    "station.mgnt.GRPZ.field_ramp_rate(1e-3)"
   ]
  },
  {
   "cell_type": "code",
   "execution_count": null,
   "metadata": {
    "ExecuteTime": {
     "end_time": "2018-12-12T22:00:38.352353Z",
     "start_time": "2018-12-12T22:00:31.829606Z"
    },
    "collapsed": true
   },
   "outputs": [],
   "source": [
    "set_magnet_x(5.7e-3)\n",
    "# set_magnet_y(0.0)\n",
    "# set_magnet_z(0.0)"
   ]
  },
  {
   "cell_type": "markdown",
   "metadata": {},
   "source": [
    "## Resonator spec vs field"
   ]
  },
  {
   "cell_type": "code",
   "execution_count": null,
   "metadata": {
    "ExecuteTime": {
     "end_time": "2019-01-04T22:02:16.285160Z",
     "start_time": "2019-01-04T21:56:41.689961Z"
    },
    "collapsed": true
   },
   "outputs": [],
   "source": [
    "cur_field_x = station.mgnt.x()\n",
    "station.hetsrc.RF.power(-55)\n",
    "spec_frequencies=np.arange(4.56e9, 4.61e9, 1e6)\n",
    "spec_src=station.hetsrc\n",
    "\n",
    "station.qubsrc.output_rf('OFF')\n",
    "\n",
    "ctl = ss.setup_soft_sweep(spec_frequencies, spec_src.frequency,\n",
    "                          time_bin=0.5e-3, integration_time=30e-3, verbose=True, \n",
    "                          allocated_buffers=100, post_integration_delay=100e-6)\n",
    "\n",
    "station.TWPA.off()\n",
    "so = sweep(station.mgnt.x, np.arange(cur_field_x, 0.0, -0.005e-3))(\n",
    "    ss.measure_soft_time_avg_spec(spec_frequencies, spec_src, time_bin=0.5e-3, integration_time=30e-3,\n",
    "                                  setup_awg=False, verbose=False, allocated_buffers=100,\n",
    "                                  post_integration_delay=100e-6)\n",
    ")\n",
    "\n",
    "result = do_experiment(f\"resonator_gate_response/{SAMPLE}\", so, live_plot=True)\n",
    "station.TWPA.off()"
   ]
  },
  {
   "cell_type": "code",
   "execution_count": null,
   "metadata": {
    "ExecuteTime": {
     "end_time": "2018-12-08T19:22:56.789577Z",
     "start_time": "2018-12-08T18:10:21.575068Z"
    },
    "collapsed": true
   },
   "outputs": [],
   "source": [
    "cur_field_x = get_real_field_x()\n",
    "station.hetsrc.RF.power(-55)\n",
    "spec_frequencies=np.arange(4.53e9, 4.55e9, 0.5e6)\n",
    "spec_src=station.hetsrc\n",
    "\n",
    "station.qubsrc.output_rf('OFF')\n",
    "\n",
    "ctl = ss.setup_soft_sweep(spec_frequencies, spec_src.frequency,\n",
    "                          time_bin=0.5e-3, integration_time=30e-3, verbose=True, \n",
    "                          allocated_buffers=100, post_integration_delay=100e-6)\n",
    "\n",
    "station.TWPA.off()\n",
    "so = sweep(set_magnet_x, np.arange(5.9e-3, 5.08e-3, -0.002e-3))(\n",
    "    ss.measure_soft_time_avg_spec(spec_frequencies, spec_src, time_bin=0.5e-3, integration_time=30e-3,\n",
    "                                  setup_awg=False, verbose=True, allocated_buffers=100,\n",
    "                                  post_integration_delay=100e-6)\n",
    ")\n",
    "\n",
    "result = do_experiment(f\"resonator_gate_response/{SAMPLE}\", so, live_plot=True)\n",
    "station.TWPA.off()"
   ]
  },
  {
   "cell_type": "code",
   "execution_count": null,
   "metadata": {
    "ExecuteTime": {
     "end_time": "2018-12-08T12:09:24.983834Z",
     "start_time": "2018-12-08T12:09:24.854129Z"
    },
    "collapsed": true
   },
   "outputs": [],
   "source": [
    "get_real_field_x()"
   ]
  },
  {
   "cell_type": "markdown",
   "metadata": {},
   "source": [
    "## Fine qubit spec vs field (without updating resonator)"
   ]
  },
  {
   "cell_type": "code",
   "execution_count": null,
   "metadata": {
    "ExecuteTime": {
     "end_time": "2018-12-11T20:39:58.994247Z",
     "start_time": "2018-12-11T20:39:58.961690Z"
    },
    "collapsed": true
   },
   "outputs": [],
   "source": [
    "dac_cutter14()"
   ]
  },
  {
   "cell_type": "code",
   "execution_count": null,
   "metadata": {
    "ExecuteTime": {
     "end_time": "2018-12-10T22:03:44.137678Z",
     "start_time": "2018-12-10T22:03:44.019669Z"
    },
    "collapsed": true
   },
   "outputs": [],
   "source": [
    "get_real_field_x()"
   ]
  },
  {
   "cell_type": "code",
   "execution_count": null,
   "metadata": {
    "ExecuteTime": {
     "end_time": "2018-12-04T22:06:36.095802Z",
     "start_time": "2018-12-04T22:06:29.298799Z"
    },
    "collapsed": true
   },
   "outputs": [],
   "source": [
    "set_magnet_x(0.0e-3)"
   ]
  },
  {
   "cell_type": "code",
   "execution_count": null,
   "metadata": {
    "ExecuteTime": {
     "end_time": "2018-12-05T00:13:08.057790Z",
     "start_time": "2018-12-04T22:07:25.366086Z"
    },
    "collapsed": true
   },
   "outputs": [],
   "source": [
    "# FINE SCAN VS FLUX USING MAGNETIC FIELD\n",
    "station = qcodes.Station.default ##spec vs field\n",
    "cur_field_x = get_real_field_x()\n",
    "station.hetsrc.RF.power(-60)\n",
    "station.qubsrc.power(-18)\n",
    "station.hetsrc.frequency(4.546e9)\n",
    "qubit_frequencies = np.arange(8.5e9, 11.5e9, 10e6)\n",
    "B_x = np.arange(0.0e-3, +0.8e-3, +0.005e-3)\n",
    "spec_src=station.qubsrc\n",
    "\n",
    "ctl = ss.setup_soft_sweep(qubit_frequencies, spec_src.frequency, integration_time=30e-3)\n",
    "\n",
    "station.TWPA.off()\n",
    "spec_src.output_rf('ON')\n",
    "so = sweep(set_magnet_x,B_x)(\n",
    "    ss.measure_soft_time_avg_spec(qubit_frequencies, spec_src, integration_time=30e-3))\n",
    "\n",
    "result = do_experiment(f'qubit_spec_vs_power/{SAMPLE}', so, live_plot=True)\n",
    "#station.TWPA.off()"
   ]
  },
  {
   "cell_type": "code",
   "execution_count": null,
   "metadata": {
    "ExecuteTime": {
     "end_time": "2018-12-05T04:48:53.455558Z",
     "start_time": "2018-12-05T02:31:05.967849Z"
    },
    "collapsed": true
   },
   "outputs": [],
   "source": [
    "# FINE SCAN VS FLUX USING MAGNETIC FIELD\n",
    "station = qcodes.Station.default ##spec vs field\n",
    "cur_field_x = get_real_field_x()\n",
    "station.hetsrc.RF.power(-60)\n",
    "station.qubsrc.power(-18)\n",
    "station.hetsrc.frequency(4.546e9)\n",
    "qubit_frequencies = np.arange(5.5e9, 8.5e9, 10e6)\n",
    "B_x = np.arange(0.8e-3, +0.0e-3, -0.005e-3)\n",
    "spec_src=station.qubsrc\n",
    "\n",
    "ctl = ss.setup_soft_sweep(qubit_frequencies, spec_src.frequency, integration_time=30e-3)\n",
    "\n",
    "station.TWPA.off()\n",
    "spec_src.output_rf('ON')\n",
    "so = sweep(set_magnet_x,B_x)(\n",
    "    ss.measure_soft_time_avg_spec(qubit_frequencies, spec_src, integration_time=30e-3))\n",
    "\n",
    "result = do_experiment(f'qubit_spec_vs_power/{SAMPLE}', so, live_plot=True)\n",
    "#station.TWPA.off()"
   ]
  },
  {
   "cell_type": "code",
   "execution_count": null,
   "metadata": {
    "ExecuteTime": {
     "end_time": "2018-12-05T04:48:53.455558Z",
     "start_time": "2018-12-05T02:31:05.967849Z"
    },
    "collapsed": true
   },
   "outputs": [],
   "source": [
    "# FINE SCAN VS FLUX USING MAGNETIC FIELD\n",
    "station = qcodes.Station.default ##spec vs field\n",
    "cur_field_x = get_real_field_x()\n",
    "station.hetsrc.RF.power(-60)\n",
    "station.qubsrc.power(-18)\n",
    "station.hetsrc.frequency(4.546e9)\n",
    "qubit_frequencies = np.arange(4.5e9, 1e9, -10e6)\n",
    "B_x = np.arange(0.0e-3, +0.8e-3, +0.005e-3)\n",
    "spec_src=station.qubsrc\n",
    "\n",
    "ctl = ss.setup_soft_sweep(qubit_frequencies, spec_src.frequency, integration_time=30e-3)\n",
    "\n",
    "station.TWPA.off()\n",
    "spec_src.output_rf('ON')\n",
    "so = sweep(set_magnet_x,B_x)(\n",
    "    ss.measure_soft_time_avg_spec(qubit_frequencies, spec_src, integration_time=30e-3))\n",
    "\n",
    "result = do_experiment(f'qubit_spec_vs_power/{SAMPLE}', so, live_plot=True)\n",
    "#station.TWPA.off()"
   ]
  },
  {
   "cell_type": "code",
   "execution_count": null,
   "metadata": {
    "ExecuteTime": {
     "end_time": "2018-11-29T07:37:03.981267Z",
     "start_time": "2018-11-29T07:34:06.844Z"
    },
    "collapsed": true
   },
   "outputs": [],
   "source": [
    "dac_cutter14()"
   ]
  },
  {
   "cell_type": "code",
   "execution_count": null,
   "metadata": {
    "ExecuteTime": {
     "end_time": "2018-11-29T07:37:03.983269Z",
     "start_time": "2018-11-29T07:34:07.397Z"
    },
    "collapsed": true
   },
   "outputs": [],
   "source": [
    "get_real_field_x()"
   ]
  },
  {
   "cell_type": "code",
   "execution_count": null,
   "metadata": {
    "ExecuteTime": {
     "end_time": "2018-11-30T13:23:02.508799Z",
     "start_time": "2018-11-30T12:45:56.278376Z"
    },
    "collapsed": true
   },
   "outputs": [],
   "source": [
    "# FINE SCAN VS FLUX USING MAGNETIC FIELD\n",
    "station = qcodes.Station.default ##spec vs field\n",
    "cur_field_x = get_real_field_x()\n",
    "station.hetsrc.RF.power(-60)\n",
    "station.qubsrc.power(-13)\n",
    "station.hetsrc.frequency(4.546e9)\n",
    "qubit_frequencies = np.arange(5.3e9, 8e9, 10e6)\n",
    "B_x = np.arange(0.05e-3, 0.5e-3, +0.003e-3)\n",
    "spec_src=station.qubsrc\n",
    "\n",
    "ctl = ss.setup_soft_sweep(qubit_frequencies, spec_src.frequency, integration_time=30e-3)\n",
    "\n",
    "station.TWPA.off()\n",
    "spec_src.output_rf('ON')\n",
    "so = sweep(set_magnet_x,B_x)(\n",
    "    ss.measure_soft_time_avg_spec(qubit_frequencies, spec_src, integration_time=30e-3))\n",
    "\n",
    "result = do_experiment(f'qubit_spec_vs_power/{SAMPLE}', so, live_plot=True)\n",
    "#station.TWPA.off()"
   ]
  },
  {
   "cell_type": "code",
   "execution_count": null,
   "metadata": {
    "ExecuteTime": {
     "end_time": "2018-11-30T02:43:04.726197Z",
     "start_time": "2018-11-29T20:16:52.308Z"
    },
    "collapsed": true
   },
   "outputs": [],
   "source": [
    "dac_cutter14()"
   ]
  },
  {
   "cell_type": "code",
   "execution_count": null,
   "metadata": {
    "ExecuteTime": {
     "end_time": "2018-11-30T06:37:21.718127Z",
     "start_time": "2018-11-30T06:37:21.699113Z"
    },
    "collapsed": true
   },
   "outputs": [],
   "source": [
    "get_real_field_x()"
   ]
  },
  {
   "cell_type": "code",
   "execution_count": null,
   "metadata": {
    "ExecuteTime": {
     "end_time": "2018-12-04T08:14:57.542637Z",
     "start_time": "2018-12-04T08:14:51.633776Z"
    },
    "collapsed": true
   },
   "outputs": [],
   "source": [
    "set_magnet_x(0.2e-3)"
   ]
  },
  {
   "cell_type": "code",
   "execution_count": null,
   "metadata": {
    "ExecuteTime": {
     "end_time": "2018-11-30T13:52:57.288105Z",
     "start_time": "2018-11-30T13:23:51.910124Z"
    },
    "collapsed": true
   },
   "outputs": [],
   "source": [
    "# FINE SCAN VS FLUX USING MAGNETIC FIELD\n",
    "station = qcodes.Station.default ##spec vs field\n",
    "cur_field_x = get_real_field_x()\n",
    "station.hetsrc.RF.power(-60)\n",
    "station.qubsrc.power(-13)\n",
    "station.hetsrc.frequency(4.546e9)\n",
    "qubit_frequencies = np.arange(2.5e9, 4.4e9, 10e6)\n",
    "B_x = np.arange(0.175e-3, 0.3e-3, 0.003e-3)\n",
    "spec_src=station.qubsrc\n",
    "\n",
    "ctl = ss.setup_soft_sweep(qubit_frequencies, spec_src.frequency, integration_time=30e-3)\n",
    "\n",
    "station.TWPA.off()\n",
    "spec_src.output_rf('ON')\n",
    "so = sweep(set_magnet_x,B_x)(\n",
    "    ss.measure_soft_time_avg_spec(qubit_frequencies, spec_src, integration_time=30e-3))\n",
    "\n",
    "result = do_experiment(f'qubit_spec_vs_power/{SAMPLE}', so, live_plot=True)\n",
    "#station.TWPA.off()"
   ]
  },
  {
   "cell_type": "markdown",
   "metadata": {},
   "source": [
    "## Coarse qubit spec vs field (updating resonator)"
   ]
  },
  {
   "cell_type": "code",
   "execution_count": null,
   "metadata": {
    "ExecuteTime": {
     "end_time": "2018-12-10T08:21:53.263596Z",
     "start_time": "2018-12-10T08:21:53.231547Z"
    },
    "collapsed": true
   },
   "outputs": [],
   "source": [
    "dac_cutter14()"
   ]
  },
  {
   "cell_type": "code",
   "execution_count": null,
   "metadata": {
    "ExecuteTime": {
     "end_time": "2018-12-07T07:12:23.909774Z",
     "start_time": "2018-12-07T07:12:23.779138Z"
    },
    "collapsed": true
   },
   "outputs": [],
   "source": [
    "get_real_field_x()"
   ]
  },
  {
   "cell_type": "code",
   "execution_count": null,
   "metadata": {
    "ExecuteTime": {
     "end_time": "2018-12-06T18:13:14.579894Z",
     "start_time": "2018-12-06T18:13:07.437922Z"
    },
    "collapsed": true
   },
   "outputs": [],
   "source": [
    "#set_magnet_x(0.85e-3)"
   ]
  },
  {
   "cell_type": "code",
   "execution_count": null,
   "metadata": {
    "ExecuteTime": {
     "end_time": "2018-12-13T11:31:15.113672Z",
     "start_time": "2018-12-13T07:06:09.864556Z"
    },
    "collapsed": true,
    "scrolled": true
   },
   "outputs": [],
   "source": [
    "# COARSE SCAN VS FLUX USING MAGNETIC FIELD\n",
    "cur_field_x = get_real_field_x()\n",
    "station = qcodes.Station.default\n",
    "station.hetsrc.RF.power(-55)\n",
    "station.qubsrc.power(-30)\n",
    "het_freqs = np.arange(4.537e9, 4.555e9, 1e6)\n",
    "qubit_frequencies = np.arange(1e9, 10.5e9, 15e6)\n",
    "B_x = np.arange(6.2e-3, 5.3e-3, -0.004e-3)\n",
    "\n",
    "station.qubsrc.output_rf('ON')\n",
    "\n",
    "station.TWPA.off()\n",
    "ctl = ss.setup_soft_sweep(het_freqs, station.hetsrc.frequency, time_bin=0.5e-3, integration_time=30e-3)\n",
    "\n",
    "so = sweep(set_magnet_x, B_x)(\n",
    "    ss.measure_qubit_spec_optimize_resonator(het_freqs, station.hetsrc, \n",
    "                                             qubit_frequencies, station.qubsrc, \n",
    "                                             time_bin=0.5e-3, integration_time=30e-3, \n",
    "                                             hanger = True, verbose=True, allocated_buffers=100,\n",
    "                                             post_integration_delay=50e-6)\n",
    ")\n",
    "\n",
    "#note that the two integration times must match!!\n",
    "\n",
    "result = do_experiment(f'optimizedqubit_spec/{SAMPLE}', so, live_plot=True)\n",
    "    \n",
    "station.TWPA.off()"
   ]
  },
  {
   "cell_type": "code",
   "execution_count": null,
   "metadata": {
    "ExecuteTime": {
     "end_time": "2018-12-12T07:14:23.934639Z",
     "start_time": "2018-12-12T05:56:19.484791Z"
    },
    "collapsed": true,
    "scrolled": true
   },
   "outputs": [],
   "source": [
    "# COARSE SCAN VS FLUX USING MAGNETIC FIELD\n",
    "cur_field_x = get_real_field_x()\n",
    "station = qcodes.Station.default\n",
    "station.hetsrc.RF.power(-60)\n",
    "station.qubsrc.power(-25)\n",
    "het_freqs = np.arange(4.535e9, 4.555e9, 1e6)\n",
    "qubit_frequencies = np.arange(5.5e9, 10.5e9, 15e6)\n",
    "B_x = np.arange(12.8e-3, 11.6e-3, -0.002e-3)\n",
    "\n",
    "station.qubsrc.output_rf('ON')\n",
    "\n",
    "station.TWPA.off()\n",
    "ctl = ss.setup_soft_sweep(het_freqs, station.hetsrc.frequency, time_bin=0.5e-3, integration_time=30e-3)\n",
    "\n",
    "so = sweep(set_magnet_x, B_x)(\n",
    "    ss.measure_qubit_spec_optimize_resonator(het_freqs, station.hetsrc, \n",
    "                                             qubit_frequencies, station.qubsrc, \n",
    "                                             time_bin=0.5e-3, integration_time=30e-3, \n",
    "                                             hanger = True, verbose=True, allocated_buffers=100,\n",
    "                                             post_integration_delay=50e-6)\n",
    ")\n",
    "\n",
    "#note that the two integration times must match!!\n",
    "\n",
    "result = do_experiment(f'optimizedqubit_spec/{SAMPLE}', so, live_plot=True)\n",
    "    \n",
    "station.TWPA.off()"
   ]
  },
  {
   "cell_type": "code",
   "execution_count": null,
   "metadata": {
    "ExecuteTime": {
     "end_time": "2018-12-07T08:15:06.739608Z",
     "start_time": "2018-12-07T08:15:06.707047Z"
    },
    "collapsed": true
   },
   "outputs": [],
   "source": [
    "dac_cutter14()"
   ]
  },
  {
   "cell_type": "code",
   "execution_count": null,
   "metadata": {
    "ExecuteTime": {
     "end_time": "2018-11-28T22:03:38.146230Z",
     "start_time": "2018-11-28T18:02:20.526Z"
    },
    "collapsed": true
   },
   "outputs": [],
   "source": [
    "get_real_field_x()"
   ]
  },
  {
   "cell_type": "code",
   "execution_count": null,
   "metadata": {
    "ExecuteTime": {
     "end_time": "2018-12-02T11:37:37.523730Z",
     "start_time": "2018-12-02T01:08:42.403Z"
    },
    "collapsed": true,
    "scrolled": false
   },
   "outputs": [],
   "source": [
    "# COARSE SCAN VS FLUX USING MAGNETIC FIELD\n",
    "cur_field_x = get_real_field_x()\n",
    "station = qcodes.Station.default\n",
    "station.hetsrc.RF.power(-60)\n",
    "station.qubsrc.power(-16)\n",
    "het_freqs = np.arange(4.539e9,4.555e9,0.5e6)\n",
    "qubit_frequencies = np.arange(5.5e9, 7.5e9, 5e6)\n",
    "B_x = np.arange(0.8e-3, 0.0e-3, -0.002e-3)\n",
    "\n",
    "station.qubsrc.output_rf('ON')\n",
    "\n",
    "station.TWPA.off()\n",
    "ctl = ss.setup_soft_sweep(het_freqs, station.hetsrc.frequency, time_bin=0.5e-3, integration_time=30e-3)\n",
    "\n",
    "so = sweep(set_magnet_x, B_x)(\n",
    "    ss.measure_qubit_spec_optimize_resonator(het_freqs, station.hetsrc, \n",
    "                                             qubit_frequencies, station.qubsrc, \n",
    "                                             time_bin=0.5e-3, integration_time=30e-3, \n",
    "                                             hanger = True, verbose=True, allocated_buffers=100,\n",
    "                                             post_integration_delay=50e-6)\n",
    ")\n",
    "\n",
    "#note that the two integration times must match!!\n",
    "\n",
    "result = do_experiment(f'optimizedqubit_spec/{SAMPLE}', so, live_plot=True)\n",
    "    \n",
    "station.TWPA.off()"
   ]
  },
  {
   "cell_type": "code",
   "execution_count": null,
   "metadata": {
    "ExecuteTime": {
     "end_time": "2018-11-28T13:55:14.068591Z",
     "start_time": "2018-11-28T13:55:14.062585Z"
    },
    "collapsed": true
   },
   "outputs": [],
   "source": [
    "get_real_field_x"
   ]
  },
  {
   "cell_type": "code",
   "execution_count": null,
   "metadata": {
    "ExecuteTime": {
     "end_time": "2018-12-11T08:21:39.471014Z",
     "start_time": "2018-12-11T08:21:39.439994Z"
    },
    "collapsed": true
   },
   "outputs": [],
   "source": [
    "dac_cutter14()"
   ]
  },
  {
   "cell_type": "markdown",
   "metadata": {},
   "source": [
    "## Plots"
   ]
  },
  {
   "cell_type": "code",
   "execution_count": null,
   "metadata": {
    "ExecuteTime": {
     "end_time": "2018-12-07T08:17:02.942341Z",
     "start_time": "2018-12-07T08:17:02.554295Z"
    },
    "collapsed": true
   },
   "outputs": [],
   "source": [
    "from qcodes import load_by_id\n",
    "id_number = 1106\n",
    "ds1 = load_by_id(id_number)\n",
    "freqs1 = ds1.get_data('frequency')\n",
    "mags1 = ds1.get_data('signal_magnitude')\n",
    "#ds2 = load_by_id(382)\n",
    "#freqs2 = ds2.get_data('frequency')\n",
    "#mags2 = ds2.get_data('magnitude')\n",
    "mags1=np.reshape(mags1,(np.shape(mags1)[0],np.shape(mags1)[2]))\n",
    "#mags2=np.reshape(mags2,(np.shape(mags2)[0],np.shape(mags2)[2]))\n",
    "\n",
    "\n",
    "m = np.mean(mags1)\n",
    "for i in range(mags1.shape[0]):\n",
    "    mags1[i,:] = mags1[i,:] - np.mean(mags1[i,:])+m\n",
    "    \n",
    "#plt.figure()\n",
    "#for i in range(1):\n",
    "#    #plt.plot(freqs2[i][0][:],mags2[i][:], 'c')\n",
    "#    plt.plot(freqs1[i][0][:],160+20*np.log(mags1[i][:]), 'b')\n",
    "#    plt.grid()\n",
    "#plt.xlim(3e9,8e9)\n",
    "\n",
    "\n",
    "plt.figure()\n",
    "#plt.imshow(np.transpose(mags1)[-1:0:-1,-1:0:-1],aspect='auto',extent = [0.095, 0.6, 6, 10], vmax = 0.0045, vmin = 0.0015)\n",
    "plt.imshow(np.transpose(mags1)[-1:0:-1,-1:0:-1],aspect='auto',extent = [-0.05, 0.85, 1, 11.5], vmax = 0.0075, vmin = 0.0018)\n",
    "plt.colorbar()\n",
    "plt.title('id: %d' %id_number)\n",
    "plt.xlabel('B_x (mT)')\n",
    "plt.ylabel('qubit drive frequency (GHz)')"
   ]
  },
  {
   "cell_type": "code",
   "execution_count": null,
   "metadata": {
    "ExecuteTime": {
     "end_time": "2018-12-07T08:17:02.942341Z",
     "start_time": "2018-12-07T08:17:02.554295Z"
    },
    "collapsed": true
   },
   "outputs": [],
   "source": [
    "from qcodes import load_by_id\n",
    "id_number = 1106\n",
    "ds1 = load_by_id(id_number)\n",
    "freqs1 = ds1.get_data('frequency')\n",
    "mags1 = ds1.get_data('signal_magnitude')\n",
    "#ds2 = load_by_id(382)\n",
    "#freqs2 = ds2.get_data('frequency')\n",
    "#mags2 = ds2.get_data('magnitude')\n",
    "mags1=np.reshape(mags1,(np.shape(mags1)[0],np.shape(mags1)[2]))\n",
    "#mags2=np.reshape(mags2,(np.shape(mags2)[0],np.shape(mags2)[2]))\n",
    "\n",
    "\n",
    "m = np.mean(mags1)\n",
    "for i in range(mags1.shape[0]):\n",
    "    mags1[i,:] = mags1[i,:] - np.mean(mags1[i,:])+m\n",
    "    \n",
    "#plt.figure()\n",
    "#for i in range(1):\n",
    "#    #plt.plot(freqs2[i][0][:],mags2[i][:], 'c')\n",
    "#    plt.plot(freqs1[i][0][:],160+20*np.log(mags1[i][:]), 'b')\n",
    "#    plt.grid()\n",
    "#plt.xlim(3e9,8e9)\n",
    "\n",
    "\n",
    "plt.figure()\n",
    "#plt.imshow(np.transpose(mags1)[-1:0:-1,-1:0:-1],aspect='auto',extent = [0.095, 0.6, 6, 10], vmax = 0.0045, vmin = 0.0015)\n",
    "plt.imshow(np.transpose(mags1)[-1:0:-1,-1:0:-1],aspect='auto',extent = [-0.05, 0.85, 1, 11.5], vmax = 0.0075, vmin = 0.0018)\n",
    "plt.colorbar()\n",
    "plt.title('id: %d' %id_number)\n",
    "plt.xlabel('B_x (mT)')\n",
    "plt.ylabel('qubit drive frequency (GHz)')"
   ]
  },
  {
   "cell_type": "code",
   "execution_count": null,
   "metadata": {
    "ExecuteTime": {
     "end_time": "2018-12-12T19:02:10.939973Z",
     "start_time": "2018-12-12T19:02:10.577201Z"
    },
    "collapsed": true,
    "scrolled": false
   },
   "outputs": [],
   "source": [
    "from qcodes import load_by_id\n",
    "id_number = 975\n",
    "ds1 = load_by_id(id_number)\n",
    "freqs1 = ds1.get_data('frequency')\n",
    "mags1 = ds1.get_data('signal_magnitude')\n",
    "field1 = np.squeeze(ds1.get_data('magnet_x'))\n",
    "#ds2 = load_by_id(382)\n",
    "#freqs2 = ds2.get_data('frequency')\n",
    "#mags2 = ds2.get_data('magnitude')\n",
    "mags1=np.reshape(mags1,(np.shape(mags1)[0],np.shape(mags1)[2]))\n",
    "#mags2=np.reshape(mags2,(np.shape(mags2)[0],np.shape(mags2)[2]))\n",
    "\n",
    "\n",
    "# m = np.mean(mags1)\n",
    "# for i in range(mags1.shape[0]):\n",
    "#     mags1[i,:] = mags1[i,:] - np.mean(mags1[i,:])+m\n",
    "    \n",
    "#plt.figure()\n",
    "#for i in range(1):\n",
    "#    #plt.plot(freqs2[i][0][:],mags2[i][:], 'c')\n",
    "#    plt.plot(freqs1[i][0][:],160+20*np.log(mags1[i][:]), 'b')\n",
    "#    plt.grid()\n",
    "#plt.xlim(3e9,8e9)\n",
    "\n",
    "\n",
    "plt.figure()\n",
    "#plt.imshow(np.transpose(mags1)[-1:0:-1,-1:0:-1],aspect='auto',extent = [0.095, 0.6, 6, 10], vmax = 0.0045, vmin = 0.0015)\n",
    "plt.imshow(np.transpose(mags1)[-1:0:-1],aspect='auto',extent = [field1[0], field1[-1],4.5, 4.6], vmax = 0.007, vmin = 0.0002)\n",
    "cbar=plt.colorbar()\n",
    "plt.title('id: %d' %id_number)\n",
    "plt.xlabel('B_x (mT)')\n",
    "plt.ylabel('frequency (GHz)')\n",
    "cbar.set_label('S21 (V)')"
   ]
  },
  {
   "cell_type": "code",
   "execution_count": null,
   "metadata": {
    "ExecuteTime": {
     "end_time": "2018-12-12T18:59:16.581315Z",
     "start_time": "2018-12-12T18:59:16.201911Z"
    },
    "collapsed": true
   },
   "outputs": [],
   "source": [
    "from qcodes import load_by_id\n",
    "id_number = 792\n",
    "ds1 = load_by_id(id_number)\n",
    "freqs1 = ds1.get_data('frequency')\n",
    "mags1 = ds1.get_data('magnitude')\n",
    "cutter1 = np.squeeze(ds1.get_data('ivvi_dac2'))\n",
    "#ds2 = load_by_id(382)\n",
    "#freqs2 = ds2.get_data('frequency')\n",
    "#mags2 = ds2.get_data('magnitude')\n",
    "mags1=np.reshape(mags1,(np.shape(mags1)[0],np.shape(mags1)[2]))\n",
    "#mags2=np.reshape(mags2,(np.shape(mags2)[0],np.shape(mags2)[2]))\n",
    "\n",
    "\n",
    "# m = np.mean(mags1)\n",
    "# for i in range(mags1.shape[0]):\n",
    "#     mags1[i,:] = mags1[i,:] - np.mean(mags1[i,:])+m\n",
    "    \n",
    "#plt.figure()\n",
    "#for i in range(1):\n",
    "#    #plt.plot(freqs2[i][0][:],mags2[i][:], 'c')\n",
    "#    plt.plot(freqs1[i][0][:],160+20*np.log(mags1[i][:]), 'b')\n",
    "#    plt.grid()\n",
    "#plt.xlim(3e9,8e9)\n",
    "\n",
    "\n",
    "plt.figure()\n",
    "#plt.imshow(np.transpose(mags1)[-1:0:-1,-1:0:-1],aspect='auto',extent = [0.095, 0.6, 6, 10], vmax = 0.0045, vmin = 0.0015)\n",
    "plt.imshow(np.transpose(mags1)[-1:0:-1],aspect='auto',extent = [cutter1[0], cutter1[-1], 4.52, 4.64], vmax = 0, vmin = -60)\n",
    "cbar = plt.colorbar()\n",
    "plt.title('id: %d' %id_number)\n",
    "plt.xlabel('cutter (mV)')\n",
    "plt.ylabel('frequency (GHz)')\n",
    "cbar.set_label('S21 (dBm)')"
   ]
  },
  {
   "cell_type": "code",
   "execution_count": null,
   "metadata": {
    "ExecuteTime": {
     "end_time": "2018-12-12T19:02:10.939973Z",
     "start_time": "2018-12-12T19:02:10.577201Z"
    },
    "collapsed": true
   },
   "outputs": [],
   "source": [
    "from qcodes import load_by_id\n",
    "id_number = 971\n",
    "ds1 = load_by_id(id_number)\n",
    "field1 = np.squeeze(ds1.get_data('magnet_x'))\n",
    "freqs1 = np.squeeze(ds1.get_data('frequency'))\n",
    "mags1 = ds1.get_data('signal_magnitude')\n",
    "ds2 = load_by_id(id_number+1)\n",
    "field2 = np.squeeze(ds2.get_data('magnet_x'))\n",
    "freqs2 = np.squeeze(ds2.get_data('frequency'))\n",
    "mags2 = ds2.get_data('signal_magnitude')\n",
    "mags1=np.reshape(mags1,(np.shape(mags1)[0],np.shape(mags1)[2]))\n",
    "mags2=np.reshape(mags2,(np.shape(mags2)[0],np.shape(mags2)[2]))[::-1]\n",
    "\n",
    "df1 = freqs1[0][1] - freqs1[0][0]\n",
    "df2 = freqs2[0][1] - freqs2[0][0]\n",
    "\n",
    "freqs = np.concatenate((freqs2, freqs1), axis=1)\n",
    "mags = np.concatenate((mags2, mags1), axis=1)\n",
    "\n",
    "    \n",
    "field = np.zeros(np.shape(freqs))\n",
    "for i in range(np.shape(freqs)[0]):\n",
    "    field[i,:] = 1000*field1[i]\n",
    "    \n",
    "\n",
    "#mags = mags1\n",
    "#freqs = 1e-9*freqs1\n",
    "# #field = 1000*field1\n",
    "# mags = mags2\n",
    "# freqs = 1e-9*freqs2\n",
    "\n",
    "    \n",
    "    \n",
    "m = np.mean(mags)\n",
    "for i in range(mags.shape[0]):\n",
    "    mags[i,:] = mags[i,:] - np.mean(mags[i,:]) + m\n",
    " \n",
    "mags = mags[:-1, :-1]\n",
    "    \n",
    "#plt.figure()\n",
    "#for i in range(1):\n",
    "#    #plt.plot(freqs2[i][0][:],mags2[i][:], 'c')\n",
    "#    plt.plot(freqs1[i][0][:],160+20*np.log(mags1[i][:]), 'b')\n",
    "#    plt.grid()\n",
    "#plt.xlim(3e9,8e9)\n",
    "\n",
    "\n",
    "plt.figure(figsize=(5,6))\n",
    "#plt.imshow(np.transpose(mags1)[-1:0:-1,-1:0:-1],aspect='auto',extent = [0.095, 0.6, 6, 10], vmax = 0.0045, vmin = 0.0015)\n",
    "plt.pcolormesh(field, freqs, mags, vmin = 0.0005, vmax = 0.0040)\n",
    "cbar =plt.colorbar()\n",
    "cbar.set_label('S21 (V)')\n",
    "plt.title('id: %d' %id_number)\n",
    "plt.xlabel('B_x (mT)')\n",
    "plt.ylabel('qubit drive frequency (GHz)')\n",
    "filename = 'C:/Users/Administrator/Desktop/tests-marta/test1.png'\n",
    "plt.savefig(filename, bbox_inches = 'tight', transparent=True)\n",
    "plt.show()"
   ]
  },
  {
   "cell_type": "code",
   "execution_count": null,
   "metadata": {
    "ExecuteTime": {
     "end_time": "2018-12-11T08:44:35.991621Z",
     "start_time": "2018-12-11T08:44:34.463752Z"
    },
    "collapsed": true
   },
   "outputs": [],
   "source": [
    "from qcodes import load_by_id\n",
    "id_number = 971\n",
    "shift = 3\n",
    "ds1 = load_by_id(id_number)\n",
    "# field1 = np.squeeze(ds1.get_data('magnet_x'))\n",
    "freqs1 = 1e-9*np.squeeze(ds1.get_data('frequency'))\n",
    "mags1 = ds1.get_data('signal_magnitude')\n",
    "ds2 = load_by_id(id_number+1)\n",
    "# field2 = np.squeeze(ds2.get_data('magnet_x'))\n",
    "freqs2 = 1e-9*np.squeeze(ds2.get_data('frequency'))\n",
    "mags2 = ds2.get_data('signal_magnitude')\n",
    "mags1=np.reshape(mags1,(np.shape(mags1)[0],np.shape(mags1)[2]))\n",
    "mags2=np.reshape(mags2,(np.shape(mags2)[0],np.shape(mags2)[2]))[::-1]\n",
    "\n",
    "mags2 = mags2[shift-1:-1,:]\n",
    "mags1 = mags1[0:-shift,:]\n",
    "freqs2 = freqs2[shift-1:-1,:]\n",
    "freqs1 = freqs1[0:-shift,:]\n",
    "\n",
    "# df1 = freqs1[0][1] - freqs1[0][0]\n",
    "# df2 = freqs2[0][1] - freqs2[0][0]\n",
    "\n",
    "freqs = np.concatenate((freqs2, freqs1), axis=1)\n",
    "mags = np.concatenate((mags2, mags1), axis=1)\n",
    "\n",
    "    \n",
    "field1 = np.linspace(-0.13, 1.43, np.shape(freqs)[0])\n",
    "    \n",
    "field = np.zeros(np.shape(freqs))\n",
    "for i in range(np.shape(freqs)[0]):\n",
    "    field[i,:] = field1[i]    \n",
    "\n",
    "#mags = mags1\n",
    "#freqs = 1e-9*freqs1\n",
    "# #field = 1000*field1\n",
    "# mags = mags2\n",
    "# freqs = 1e-9*freqs2\n",
    "\n",
    "    \n",
    "    \n",
    "m = np.mean(mags)\n",
    "for i in range(mags.shape[0]):\n",
    "    mags[i,:] = mags[i,:] - np.mean(mags[i,:]) + m\n",
    " \n",
    "mags = mags[:-1, :-1]\n",
    "\n",
    "#plt.figure()\n",
    "#for i in range(1):\n",
    "#    #plt.plot(freqs2[i][0][:],mags2[i][:], 'c')\n",
    "#    plt.plot(freqs1[i][0][:],160+20*np.log(mags1[i][:]), 'b')\n",
    "#    plt.grid()\n",
    "#plt.xlim(3e9,8e9)\n",
    "\n",
    "\n",
    "plt.figure(figsize=(7,6))\n",
    "#plt.imshow(np.transpose(mags1)[-1:0:-1,-1:0:-1],aspect='auto',extent = [0.095, 0.6, 6, 10], vmax = 0.0045, vmin = 0.0015)\n",
    "plt.pcolormesh(field, freqs, mags, vmin = 0.0005, vmax = 0.0040)\n",
    "cbar =plt.colorbar()\n",
    "cbar.set_label('S21 (V)')\n",
    "#plt.title('id: %d' %id_number)\n",
    "plt.xlabel(r\"flux ($\\Phi_{0}$)\")\n",
    "plt.ylabel('qubit drive frequency (GHz)')\n",
    "#plt.grid()\n",
    "filename = 'C:/Users/Administrator/Desktop/tests-marta/test5.png'\n",
    "plt.savefig(filename, bbox_inches = 'tight', transparent=True)\n",
    "plt.show()"
   ]
  },
  {
   "cell_type": "code",
   "execution_count": null,
   "metadata": {
    "ExecuteTime": {
     "end_time": "2018-12-11T08:57:40.563556Z",
     "start_time": "2018-12-11T08:57:39.240610Z"
    },
    "collapsed": true
   },
   "outputs": [],
   "source": [
    "from qcodes import load_by_id\n",
    "id_number = 1024\n",
    "shift = 3\n",
    "ds1 = load_by_id(id_number)\n",
    "# field1 = np.squeeze(ds1.get_data('magnet_x'))\n",
    "freqs1 = 1e-9*np.squeeze(ds1.get_data('frequency'))\n",
    "mags1 = ds1.get_data('signal_magnitude')\n",
    "ds2 = load_by_id(id_number+2)\n",
    "# field2 = np.squeeze(ds2.get_data('magnet_x'))\n",
    "freqs2 = 1e-9*np.squeeze(ds2.get_data('frequency'))\n",
    "mags2 = ds2.get_data('signal_magnitude')\n",
    "mags1=np.reshape(mags1,(np.shape(mags1)[0],np.shape(mags1)[2]))\n",
    "mags2=np.reshape(mags2,(np.shape(mags2)[0],np.shape(mags2)[2]))[::-1]\n",
    "\n",
    "mags2 = mags2[shift-1:-1,:]\n",
    "mags1 = mags1[0:-shift,::-1]\n",
    "freqs2 = freqs2[shift-1:-1,:]\n",
    "freqs1 = freqs1[0:-shift,::-1]\n",
    "\n",
    "# df1 = freqs1[0][1] - freqs1[0][0]\n",
    "# df2 = freqs2[0][1] - freqs2[0][0]\n",
    "\n",
    "freqs = np.concatenate((freqs1, freqs2), axis=1)\n",
    "mags = np.concatenate((mags1, mags2), axis=1)\n",
    "\n",
    "    \n",
    "field1 = np.linspace(-0.13, 1.415, np.shape(freqs)[0])\n",
    "    \n",
    "field = np.zeros(np.shape(freqs))\n",
    "for i in range(np.shape(freqs)[0]):\n",
    "    field[i,:] = field1[i]    \n",
    "\n",
    "mags = mags[:-1, :-1]\n",
    "  \n",
    "    \n",
    "m = np.mean(mags)\n",
    "for i in range(mags.shape[0]):\n",
    "    mags[i,:] = mags[i,:] - np.mean(mags[i,:]) + m\n",
    "\n",
    "\n",
    "\n",
    "plt.figure(figsize=(7,6))\n",
    "#plt.imshow(np.transpose(mags1)[-1:0:-1,-1:0:-1],aspect='auto',extent = [0.095, 0.6, 6, 10], vmax = 0.0045, vmin = 0.0015)\n",
    "plt.pcolormesh(field, freqs, mags, vmin = 0.0005, vmax = 0.0025)\n",
    "cbar =plt.colorbar()\n",
    "cbar.set_label('S21 (V)')\n",
    "#plt.title('id: %d' %id_number)\n",
    "plt.xlabel(r\"flux ($\\Phi_{0}$)\")\n",
    "plt.ylabel('qubit drive frequency (GHz)')\n",
    "#plt.grid()\n",
    "filename = 'C:/Users/Administrator/Desktop/tests-marta/test6.png'\n",
    "plt.savefig(filename, bbox_inches = 'tight', transparent=True)\n",
    "plt.show()"
   ]
  },
  {
   "cell_type": "code",
   "execution_count": null,
   "metadata": {
    "ExecuteTime": {
     "end_time": "2018-12-11T08:48:16.375537Z",
     "start_time": "2018-12-11T08:48:16.365500Z"
    },
    "collapsed": true
   },
   "outputs": [],
   "source": [
    "np.shape(mags1), np.shape(mags2), np.shape(mags), np.shape(freqs1), np.shape(freqs2), np.shape(freqs)"
   ]
  },
  {
   "cell_type": "code",
   "execution_count": null,
   "metadata": {
    "ExecuteTime": {
     "end_time": "2018-12-11T08:54:14.195078Z",
     "start_time": "2018-12-11T08:54:14.183057Z"
    },
    "collapsed": true
   },
   "outputs": [],
   "source": [
    "plt.plot(freqs[0])"
   ]
  },
  {
   "cell_type": "markdown",
   "metadata": {},
   "source": [
    "# Going up in field"
   ]
  },
  {
   "cell_type": "code",
   "execution_count": null,
   "metadata": {
    "ExecuteTime": {
     "end_time": "2018-11-30T14:28:19.648518Z",
     "start_time": "2018-11-30T14:28:19.625500Z"
    },
    "collapsed": true
   },
   "outputs": [],
   "source": [
    "station.mgnt.GRPX.field_ramp_rate(1e-3)\n",
    "station.mgnt.GRPY.field_ramp_rate(1e-3)\n",
    "station.mgnt.GRPZ.field_ramp_rate(1e-3)"
   ]
  },
  {
   "cell_type": "code",
   "execution_count": null,
   "metadata": {
    "ExecuteTime": {
     "end_time": "2018-12-13T12:33:15.324682Z",
     "start_time": "2018-12-13T12:32:55.676469Z"
    },
    "collapsed": true
   },
   "outputs": [],
   "source": [
    "set_magnet_x(0.0e-3)\n",
    "set_magnet_y(0.0)\n",
    "set_magnet_z(0.0e-3)"
   ]
  },
  {
   "cell_type": "code",
   "execution_count": null,
   "metadata": {
    "ExecuteTime": {
     "end_time": "2018-12-13T12:33:15.684927Z",
     "start_time": "2018-12-13T12:33:15.328686Z"
    },
    "collapsed": true
   },
   "outputs": [],
   "source": [
    "get_real_field_x(), get_real_field_y(), get_real_field_z()"
   ]
  },
  {
   "cell_type": "markdown",
   "metadata": {},
   "source": [
    "## Z "
   ]
  },
  {
   "cell_type": "markdown",
   "metadata": {
    "heading_collapsed": true
   },
   "source": [
    "### Going up in field using Oxford in QT2 DO NOT USE THIS!"
   ]
  },
  {
   "cell_type": "code",
   "execution_count": null,
   "metadata": {
    "ExecuteTime": {
     "end_time": "2018-12-12T17:59:20.114534Z",
     "start_time": "2018-12-12T17:49:41.235439Z"
    },
    "collapsed": true,
    "hidden": true
   },
   "outputs": [],
   "source": [
    "cur_field_z = get_real_field_z()\n",
    "station.hetsrc.RF.power(-55)\n",
    "spec_frequencies=np.arange(4.53e9, 4.59e9, 15e6)\n",
    "spec_src=station.hetsrc\n",
    "\n",
    "station.qubsrc.output_rf('OFF')\n",
    "\n",
    "ctl = ss.setup_soft_sweep(spec_frequencies, spec_src.frequency,\n",
    "                          time_bin=0.5e-3, integration_time=30e-3, verbose=True, \n",
    "                          allocated_buffers=100, post_integration_delay=100e-6)\n",
    "\n",
    "station.TWPA.off()\n",
    "so = sweep(set_magnet_z, np.arange(cur_field_z , 300.0e-3, -20e-3))(\n",
    "    ss.measure_soft_time_avg_spec(spec_frequencies, spec_src, time_bin=0.5e-3, integration_time=30e-3,\n",
    "                                  setup_awg=False, verbose=True, allocated_buffers=100,\n",
    "                                  post_integration_delay=100e-6)\n",
    ")\n",
    "\n",
    "result = do_experiment(f\"resonator_B_z/{SAMPLE}\", so, live_plot=True)\n",
    "station.TWPA.off()"
   ]
  },
  {
   "cell_type": "code",
   "execution_count": null,
   "metadata": {
    "ExecuteTime": {
     "end_time": "2018-12-13T12:31:53.064142Z",
     "start_time": "2018-12-13T12:25:16.234103Z"
    },
    "collapsed": true,
    "hidden": true
   },
   "outputs": [],
   "source": [
    "## Ramping B_z maintaining B_x relatively well aligned in-plane( 1mT down in B_x for every 50 mT down in B_z)\n",
    "\n",
    "cur_field_z = get_real_field_z()\n",
    "set_magnet_x(cur_field_z/50)\n",
    "station.hetsrc.RF.power(-55)\n",
    "spec_frequencies=np.arange(4.56e9, 4.6e9, 10e6)\n",
    "spec_src=station.hetsrc\n",
    "\n",
    "station.qubsrc.output_rf('OFF')\n",
    "\n",
    "ctl = ss.setup_soft_sweep(spec_frequencies, spec_src.frequency,\n",
    "                          time_bin=0.5e-3, integration_time=30e-3, verbose=True, \n",
    "                          allocated_buffers=100, post_integration_delay=100e-6)\n",
    "\n",
    "station.TWPA.off()\n",
    "so = sweep(set_magnet_z_aligned, np.arange(cur_field_z , 0, -20e-3))(\n",
    "    ss.measure_soft_time_avg_spec(spec_frequencies, spec_src, time_bin=0.5e-3, integration_time=30e-3,\n",
    "                                  setup_awg=False, verbose=True, allocated_buffers=100,\n",
    "                                  post_integration_delay=100e-6)\n",
    ")\n",
    "\n",
    "result = do_experiment(f\"resonator_B_z_aligned/{SAMPLE}\", so, live_plot=True)\n",
    "station.TWPA.off()"
   ]
  },
  {
   "cell_type": "markdown",
   "metadata": {},
   "source": [
    "### Going up in field using AMIs"
   ]
  },
  {
   "cell_type": "code",
   "execution_count": null,
   "metadata": {
    "ExecuteTime": {
     "end_time": "2019-01-17T16:08:57.149890Z",
     "start_time": "2019-01-17T16:08:56.738151Z"
    },
    "collapsed": true
   },
   "outputs": [],
   "source": [
    "station.ivvi.set_dacs_zero()"
   ]
  },
  {
   "cell_type": "code",
   "execution_count": null,
   "metadata": {
    "ExecuteTime": {
     "end_time": "2019-01-17T16:09:38.281580Z",
     "start_time": "2019-01-17T16:09:38.275575Z"
    },
    "collapsed": true
   },
   "outputs": [],
   "source": [
    "station.RF.off()"
   ]
  },
  {
   "cell_type": "code",
   "execution_count": null,
   "metadata": {
    "ExecuteTime": {
     "end_time": "2019-01-29T16:12:07.825917Z",
     "start_time": "2019-01-29T15:58:22.088139Z"
    }
   },
   "outputs": [],
   "source": [
    "cur_field_z = station.z_mgnt.field()\n",
    "station.hetsrc.RF.power(-55)\n",
    "spec_frequencies=np.arange(5.21e9, 5.24e9, 2e6)\n",
    "spec_src=station.hetsrc\n",
    "\n",
    "station.qubsrc.off()\n",
    "\n",
    "ctl = ss.setup_soft_sweep(spec_frequencies, spec_src.frequency,\n",
    "                          time_bin=0.5e-3, integration_time=30e-3, verbose=True, \n",
    "                          allocated_buffers=100, post_integration_delay=100e-6)\n",
    "\n",
    "station.TWPA.off()\n",
    "so = sweep(station.z_mgnt.field, np.arange(cur_field_z , 1000.0e-3, 2e-3))(\n",
    "    ss.measure_soft_time_avg_spec(spec_frequencies, spec_src, time_bin=0.5e-3, integration_time=30e-3,\n",
    "                                  setup_awg=False, verbose=False, allocated_buffers=100,\n",
    "                                  post_integration_delay=100e-6)\n",
    ")\n",
    "\n",
    "result = do_experiment(f\"resonator_B_z/{SAMPLE}\", so, live_plot=True)\n",
    "station.TWPA.off()"
   ]
  },
  {
   "cell_type": "code",
   "execution_count": null,
   "metadata": {
    "ExecuteTime": {
     "end_time": "2019-01-11T09:31:21.650801Z",
     "start_time": "2019-01-11T09:31:21.588759Z"
    }
   },
   "outputs": [],
   "source": [
    "station.z_mgnt.field()"
   ]
  },
  {
   "cell_type": "markdown",
   "metadata": {
    "heading_collapsed": true
   },
   "source": [
    "## X (we no longer use the AMI power supplies for X because it is too coarse!)"
   ]
  },
  {
   "cell_type": "code",
   "execution_count": null,
   "metadata": {
    "ExecuteTime": {
     "end_time": "2018-12-12T18:31:07.368696Z",
     "start_time": "2018-12-12T18:17:41.541406Z"
    },
    "collapsed": true,
    "hidden": true
   },
   "outputs": [],
   "source": [
    "cur_field_x = get_real_field_x()\n",
    "station.hetsrc.RF.power(-55)\n",
    "spec_frequencies=np.arange(4.576e9, 4.582e9, 0.5e6)\n",
    "spec_src=station.hetsrc\n",
    "\n",
    "station.qubsrc.output_rf('OFF')\n",
    "\n",
    "\n",
    "ctl = ss.setup_soft_sweep(spec_frequencies, spec_src.frequency,\n",
    "                          time_bin=0.5e-3, integration_time=30e-3, verbose=True, \n",
    "                          allocated_buffers=100, post_integration_delay=100e-6)\n",
    "\n",
    "station.TWPA.off()\n",
    "so = sweep(set_magnet_x, np.arange(5e-3, 7e-3, +0.02e-3))(\n",
    "    ss.measure_soft_time_avg_spec(spec_frequencies, spec_src, time_bin=0.5e-3, integration_time=30e-3,\n",
    "                                  setup_awg=False, verbose=True, allocated_buffers=100,\n",
    "                                  post_integration_delay=100e-6)\n",
    ")\n",
    "\n",
    "result = do_experiment(f\"resonator_B_x/{SAMPLE}\", so, live_plot=True)\n",
    "station.TWPA.off()"
   ]
  },
  {
   "cell_type": "code",
   "execution_count": null,
   "metadata": {
    "ExecuteTime": {
     "end_time": "2018-12-10T14:36:32.059143Z",
     "start_time": "2018-12-10T14:34:00.158291Z"
    },
    "collapsed": true,
    "hidden": true
   },
   "outputs": [],
   "source": [
    "# At a single frequency\n",
    "\n",
    "cur_field_x = get_real_field_x()\n",
    "station.hetsrc.RF.power(-55)\n",
    "station.hetsrc.frequency(4.55e9)\n",
    "station.qubsrc.output_rf('OFF')\n",
    "B_x = np.arange(+23.4e-3, 25e-3, +0.05e-3)\n",
    "\n",
    "ss.setup_single_averaged_IQpoint(0.1e-3, 30e-3, setup_awg=True)\n",
    "so = sweep(set_magnet_x, B_x)(\n",
    "    measure(ss.get_single_averaged_IQpoint_chanA),\n",
    ")\n",
    "\n",
    "#station.TWPA.on()\n",
    "result = do_experiment(f\"resonator_B_y/{SAMPLE}\", so, live_plot=True)\n",
    "#station.TWPA.off()"
   ]
  },
  {
   "cell_type": "markdown",
   "metadata": {},
   "source": [
    "## Y"
   ]
  },
  {
   "cell_type": "code",
   "execution_count": null,
   "metadata": {
    "ExecuteTime": {
     "end_time": "2018-12-10T14:06:53.249942Z",
     "start_time": "2018-12-10T14:02:59.796525Z"
    },
    "collapsed": true
   },
   "outputs": [],
   "source": []
  },
  {
   "cell_type": "code",
   "execution_count": null,
   "metadata": {
    "ExecuteTime": {
     "end_time": "2019-01-30T13:13:02.188790Z",
     "start_time": "2019-01-30T13:08:14.885395Z"
    }
   },
   "outputs": [],
   "source": [
    "cur_field_y = station.y_mgnt.field()\n",
    "station.hetsrc.RF.power(-55)\n",
    "spec_frequencies=np.arange(5.21e9, 5.30e9, 1e6)\n",
    "spec_src=station.hetsrc\n",
    "\n",
    "station.qubsrc.off()\n",
    "\n",
    "ctl = ss.setup_soft_sweep(spec_frequencies, spec_src.frequency,\n",
    "                          time_bin=0.5e-3, integration_time=30e-3, verbose=True, \n",
    "                          allocated_buffers=100, post_integration_delay=100e-6)\n",
    "\n",
    "station.TWPA.off()\n",
    "so = sweep(station.y_mgnt.field, np.arange(cur_field_y , -0.1e-3, -0.1e-3))(\n",
    "    ss.measure_soft_time_avg_spec(spec_frequencies, spec_src, time_bin=0.5e-3, integration_time=30e-3,\n",
    "                                  setup_awg=False, verbose=False, allocated_buffers=100,\n",
    "                                  post_integration_delay=100e-6)\n",
    ")\n",
    "\n",
    "result = do_experiment(f\"resonator_B_y/{SAMPLE}\", so, live_plot=True)\n",
    "station.TWPA.off()"
   ]
  },
  {
   "cell_type": "markdown",
   "metadata": {
    "heading_collapsed": true
   },
   "source": [
    "### Two-tone vs B_Y"
   ]
  },
  {
   "cell_type": "code",
   "execution_count": null,
   "metadata": {
    "ExecuteTime": {
     "end_time": "2018-12-11T15:29:12.192661Z",
     "start_time": "2018-12-11T15:29:10.407303Z"
    },
    "collapsed": true,
    "hidden": true
   },
   "outputs": [],
   "source": [
    "dac_cutter14(-50)"
   ]
  },
  {
   "cell_type": "code",
   "execution_count": null,
   "metadata": {
    "ExecuteTime": {
     "end_time": "2018-12-10T09:06:05.059557Z",
     "start_time": "2018-12-10T09:04:33.401129Z"
    },
    "collapsed": true,
    "hidden": true
   },
   "outputs": [],
   "source": [
    "# Without finding resonator\n",
    "cur_field_y = get_real_field_y()\n",
    "station.hetsrc.RF.power(-55)\n",
    "station.hetsrc.frequency(4.55e9)\n",
    "qubit_frequencies = np.arange(6.6e9, 7.5e9, 5e6)\n",
    "station.qubsrc.power(-25)\n",
    "B_y = np.arange(cur_field_y, cur_field_y+1e-3, +0.1e-3)\n",
    "spec_src=station.qubsrc\n",
    "\n",
    "spec_src.output_rf('ON')\n",
    "\n",
    "ctl = ss.setup_soft_sweep(qubit_frequencies, spec_src.frequency,\n",
    "                          time_bin=0.5e-3, integration_time=30e-3, verbose=True, \n",
    "                          allocated_buffers=100, post_integration_delay=100e-6)\n",
    "\n",
    "station.TWPA.off()\n",
    "so = sweep(set_magnet_y, B_y)(\n",
    "    ss.measure_soft_time_avg_spec(qubit_frequencies, spec_src, time_bin=0.5e-3, integration_time=30e-3,\n",
    "                                  setup_awg=False, verbose=True, allocated_buffers=100,\n",
    "                                  post_integration_delay=100e-6)\n",
    ")\n",
    "\n",
    "result = do_experiment(f'qubit_spec_vs_B_y/{SAMPLE}', so, live_plot=True)\n",
    "station.TWPA.off()"
   ]
  },
  {
   "cell_type": "code",
   "execution_count": null,
   "metadata": {
    "ExecuteTime": {
     "end_time": "2018-12-10T10:48:27.848742Z",
     "start_time": "2018-12-10T10:41:59.407404Z"
    },
    "collapsed": true,
    "hidden": true
   },
   "outputs": [],
   "source": [
    "# Finding resonator\n",
    "station = qcodes.Station.default\n",
    "station.hetsrc.RF.power(-55)\n",
    "cur_field_y = get_real_field_y()\n",
    "het_freqs = np.arange(4.543e9,4.550e9,1e6)\n",
    "station.qubsrc.power(-25)\n",
    "qubit_frequencies = np.arange(6.0e9, 7.5e9, 10e6)\n",
    "B_y = np.arange(-0.7e-3, 3e-3, 0.1e-3)\n",
    "spec_src=station.qubsrc\n",
    "\n",
    "\n",
    "station.qubsrc.output_rf('ON')\n",
    "\n",
    "station.TWPA.off()\n",
    "\n",
    "ctl = ss.setup_soft_sweep(het_freqs, station.hetsrc.frequency, time_bin=0.5e-3, integration_time=30e-3, verbose=True, \n",
    "                          allocated_buffers=100, post_integration_delay=100e-6)\n",
    "\n",
    "so = sweep(set_magnet_y, B_y)(\n",
    "    ss.measure_qubit_spec_optimize_resonator(het_freqs, station.hetsrc, \n",
    "                                             qubit_frequencies, station.qubsrc, \n",
    "                                             time_bin=0.5e-3, integration_time=30e-3, \n",
    "                                             hanger=True, verbose=True, allocated_buffers=100,\n",
    "                                             post_integration_delay=100e-6)\n",
    ") \n",
    "\n",
    "#note that the two integration times must match!!\n",
    "\n",
    "result = do_experiment(f'qubit_spec_vs_B_y/{SAMPLE}', so, live_plot=True)\n",
    "\n",
    "station.TWPA.off()"
   ]
  },
  {
   "cell_type": "code",
   "execution_count": null,
   "metadata": {
    "collapsed": true,
    "hidden": true
   },
   "outputs": [],
   "source": []
  },
  {
   "cell_type": "markdown",
   "metadata": {},
   "source": [
    "# Time domain"
   ]
  },
  {
   "cell_type": "code",
   "execution_count": null,
   "metadata": {
    "ExecuteTime": {
     "end_time": "2018-12-03T09:54:00.096615Z",
     "start_time": "2018-12-03T09:54:00.084600Z"
    },
    "collapsed": true
   },
   "outputs": [],
   "source": [
    "station.hetsrc.RF.power(-60)\n",
    "station.hetsrc.frequency(4.5433e9)\n",
    "station.qubsrc.power(-14)\n",
    "station.qubsrc.frequency(6.014e9)"
   ]
  },
  {
   "cell_type": "code",
   "execution_count": null,
   "metadata": {
    "collapsed": true
   },
   "outputs": [],
   "source": []
  },
  {
   "cell_type": "code",
   "execution_count": null,
   "metadata": {
    "ExecuteTime": {
     "end_time": "2018-12-03T09:54:01.388680Z",
     "start_time": "2018-12-03T09:54:01.381677Z"
    },
    "collapsed": true
   },
   "outputs": [],
   "source": []
  },
  {
   "cell_type": "code",
   "execution_count": null,
   "metadata": {
    "collapsed": true
   },
   "outputs": [],
   "source": []
  },
  {
   "cell_type": "code",
   "execution_count": null,
   "metadata": {
    "ExecuteTime": {
     "end_time": "2019-01-28T14:53:04.965878Z",
     "start_time": "2019-01-28T14:53:04.958862Z"
    },
    "collapsed": true
   },
   "outputs": [],
   "source": [
    "import numpy as np\n",
    "import qcodes as qc\n",
    "import broadbean as bb\n",
    "from broadbean.plotting import plotter\n",
    "\n",
    "from pytopo.awg_sequencing import broadbean as bbtools\n",
    "from pytopo.awg_sequencing.broadbean import BluePrints, BroadBeanSequence\n",
    "\n",
    "ramp = bb.PulseAtoms.ramp\n",
    "gaussian = bb.PulseAtoms.gaussian"
   ]
  },
  {
   "cell_type": "markdown",
   "metadata": {},
   "source": [
    "## Amplitude Rabi"
   ]
  },
  {
   "cell_type": "code",
   "execution_count": null,
   "metadata": {
    "ExecuteTime": {
     "end_time": "2019-01-28T16:07:10.602007Z",
     "start_time": "2019-01-28T16:07:10.578968Z"
    }
   },
   "outputs": [],
   "source": [
    "class RabiSequence(BroadBeanSequence):\n",
    "    \"\"\"\n",
    "    A sequence that consists of a single gaussian pulse followed by a readout pulse.\n",
    "\n",
    "    required channels:\n",
    "        'I' : analog output (qubit drive pulse)\n",
    "        'ats_trigger' : marker for the alazar\n",
    "        'ro_pulse' : readout marker \n",
    "        'qb_pulse' : qubit marker\n",
    "    \"\"\"\n",
    "    name = 'rabi_sequence'\n",
    "\n",
    "    def sequence(self, amplitudes, pulse_time, readout_time,cycle_time = 10e-6,\n",
    "                 pre_pulse_time=1e-6, after_pulse_time=0.1e-6,\n",
    "                 alazar_trigger_time=100e-9, marker_buffer=100e-9, cavity_lifetime = 0.2e-6):\n",
    "        \n",
    "        t_pulse = pre_pulse_time + pulse_time + after_pulse_time\n",
    "        sigma = pulse_time/4.0\n",
    "        #cycle_time=t_pulse+readout_time+1e-6\n",
    "        \n",
    "        \n",
    "        elements = []\n",
    "        for A in amplitudes:\n",
    "            bps = bbtools.BluePrints(chan_map=self.chan_map, length=cycle_time, sample_rate=self.SR)\n",
    "            \n",
    "            bps['I'].insertSegment(0, ramp, (0, 0), dur=pre_pulse_time)\n",
    "            bps['I'].insertSegment(1, gaussian, (A, sigma, 0, 0), \n",
    "                                   name='gaussian_pulse', dur=pulse_time)\n",
    "            bps['I'].insertSegment(2, ramp, (0, 0), dur=cycle_time - pre_pulse_time - pulse_time)\n",
    "            \n",
    "            bps['qb_pulse'] = [(pre_pulse_time - marker_buffer, pulse_time + 2 * marker_buffer)]\n",
    "            bps['ats_trigger'] = [(t_pulse+cavity_lifetime, alazar_trigger_time)]\n",
    "            bps['ro_pulse'] = [(t_pulse, readout_time)]\n",
    "\n",
    "            elements.append(bbtools.blueprints2element(bps))\n",
    "        \n",
    "        return bbtools.elements2sequence(elements, self.name)\n",
    "    \n",
    "    \n",
    "RabiSequence.chan_map = {\n",
    "    1 : ['I', 'ats_trigger', 'ro_pulse'],\n",
    "    2 : [None, 'qb_pulse', None],   \n",
    "}\n",
    "\n",
    "RabiSequence.chan_settings = {\n",
    "    1 : {\n",
    "        'marker_hi' : [1.5, 1.5],\n",
    "        'marker_lo' : [-0.3, -0.3],\n",
    "        },\n",
    "    2 : {\n",
    "        'marker_hi' : [1.5, 1.5],\n",
    "        'marker_lo' : [-0.3, -0.3],\n",
    "        },\n",
    "}\n",
    "\n",
    "\n"
   ]
  },
  {
   "cell_type": "code",
   "execution_count": null,
   "metadata": {
    "ExecuteTime": {
     "end_time": "2019-01-25T17:40:58.369980Z",
     "start_time": "2019-01-25T17:40:58.362476Z"
    },
    "collapsed": true
   },
   "outputs": [],
   "source": [
    "station.qubsrc.on()\n",
    "station.qubsrc.power(-20)"
   ]
  },
  {
   "cell_type": "code",
   "execution_count": null,
   "metadata": {
    "ExecuteTime": {
     "end_time": "2019-01-25T17:41:00.379034Z",
     "start_time": "2019-01-25T17:41:00.375026Z"
    },
    "collapsed": true
   },
   "outputs": [],
   "source": [
    "# station.qubsrc.output_rf('OFF')\n",
    "station.qubsrc.off()"
   ]
  },
  {
   "cell_type": "code",
   "execution_count": null,
   "metadata": {
    "ExecuteTime": {
     "end_time": "2019-01-25T17:35:56.119131Z",
     "start_time": "2019-01-25T17:35:56.115132Z"
    },
    "collapsed": true
   },
   "outputs": [],
   "source": [
    "# station.qubsrc.on()"
   ]
  },
  {
   "cell_type": "code",
   "execution_count": null,
   "metadata": {
    "ExecuteTime": {
     "end_time": "2019-01-28T16:07:16.301986Z",
     "start_time": "2019-01-28T16:07:13.968358Z"
    },
    "collapsed": true
   },
   "outputs": [],
   "source": [
    "readout_time = 3e-6\n",
    "amplitudes = np.linspace(-0.5, 0.5, 21)\n",
    "#amplitudes = np.array([0,0.5])\n",
    "\n",
    "station.fg.ch1.state('OFF')\n",
    "rabi_seq = RabiSequence(station.awg, SR=1e9)\n",
    "rabi_seq.wait = 'all'\n",
    "rabi_seq.setup_awg(amplitudes=amplitudes, pulse_time=1e-6, readout_time=readout_time, cycle_time = 10e-6,start_awg=True)"
   ]
  },
  {
   "cell_type": "code",
   "execution_count": null,
   "metadata": {
    "ExecuteTime": {
     "end_time": "2019-01-25T17:48:29.040864Z",
     "start_time": "2019-01-25T17:48:29.032386Z"
    },
    "collapsed": true
   },
   "outputs": [],
   "source": [
    "station.fg.ch1.freq(1e4)"
   ]
  },
  {
   "cell_type": "code",
   "execution_count": null,
   "metadata": {
    "collapsed": true
   },
   "outputs": [],
   "source": []
  },
  {
   "cell_type": "code",
   "execution_count": null,
   "metadata": {
    "ExecuteTime": {
     "end_time": "2019-01-28T13:03:21.078946Z",
     "start_time": "2019-01-28T13:03:21.066933Z"
    },
    "collapsed": true
   },
   "outputs": [],
   "source": [
    "station.fg.ch1.state('ON')\n",
    "station.RF.power(-55)\n",
    "station.hetsrc.frequency(4.0e9)\n",
    "station.RF.on()"
   ]
  },
  {
   "cell_type": "markdown",
   "metadata": {},
   "source": [
    "### Integrating the full readout"
   ]
  },
  {
   "cell_type": "code",
   "execution_count": null,
   "metadata": {
    "ExecuteTime": {
     "end_time": "2019-01-28T16:07:39.971472Z",
     "start_time": "2019-01-28T16:07:25.882649Z"
    }
   },
   "outputs": [],
   "source": [
    "station.fg.ch1.state('OFF')\n",
    "station.qubsrc.off()\n",
    "station.qubsrc.power(-20)\n",
    "station.qubsrc.IQ_state('ON')\n",
    "station.qubsrc.pulsemod_state('ON')\n",
    "station.qubsrc.pulsemod_source('EXT')\n",
    "station.awg.stop()\n",
    "station.awg.start()\n",
    "\n",
    "# post_iq_acq.integration_stop(readout_time+1e-6)\n",
    "ctl = post_iq_acq\n",
    "ctl.demod_frq(25e6)\n",
    "# ctl = raw_acq\n",
    "ctl.average_buffers(True)\n",
    "ctl.setup_acquisition(None, amplitudes.size, 5000, acq_time=2e-6)\n",
    "ctl.pre_acquire_func = lambda : station.fg.ch1.state('ON')\n",
    "dataAvg = ctl.acquisition()\n",
    "\n",
    "\n",
    "# tvals = ctl.tvals\n",
    "tvals = ctl.demod_tvals\n",
    "station.fg.ch1.state('OFF')"
   ]
  },
  {
   "cell_type": "code",
   "execution_count": null,
   "metadata": {
    "ExecuteTime": {
     "end_time": "2019-01-28T16:07:44.571708Z",
     "start_time": "2019-01-28T16:07:44.488627Z"
    },
    "scrolled": false
   },
   "outputs": [],
   "source": [
    "fig, ax = plt.subplots(1,1)\n",
    "# ax.plot(amplitudes, np.abs(np.mean(np.squeeze(dataAvg), axis=0))[:,0], 'o')\n",
    "ax.plot(np.abs(np.squeeze(dataAvg))[:,0], 'o')\n",
    "# dataAvg.shape\n",
    "\n",
    "#fig, ax = plt.subplots(1,1)\n",
    "#ax.plot(amplitudes,np.mean(np.squeeze(dataAvg).imag, axis=0)[:,0])\n",
    "\n",
    "# fig, ax = plt.subplots(1,1)\n",
    "# ax.plot(amplitudes,np.mean(np.mean(np.squeeze(dataNoavg).real,axis=2), axis=0)[:,0])\n",
    "\n",
    "# fig, ax = plt.subplots(1,1)\n",
    "# ax.plot(amplitudes,np.mean(np.mean(np.squeeze(dataNoavg).imag,axis=2), axis=0)[:,0])\n",
    "\n",
    "# fig, ax = plt.subplots(1,1)\n",
    "# ax.plot(tvals * 1e6, np.squeeze(dataNoavg)[:,].mean(axis=0).real)\n",
    "# ax.plot(tvals * 1e6, np.squeeze(dataNoavg)[:,].mean(axis=0).imag)\n",
    "# ax.plot(tvals * 1e6, np.abs(np.squeeze(dataNoavg)[:,].mean(axis=0)))"
   ]
  },
  {
   "cell_type": "code",
   "execution_count": null,
   "metadata": {
    "ExecuteTime": {
     "end_time": "2018-12-03T10:07:51.711029Z",
     "start_time": "2018-12-03T10:07:51.638386Z"
    },
    "collapsed": true,
    "scrolled": false
   },
   "outputs": [],
   "source": [
    "fig, ax = plt.subplots(1,1)\n",
    "ax.plot(amplitudes,np.abs(np.mean(np.squeeze(dataAvg), axis=0))[:,0],'o')\n",
    "#ax.plot(np.abs(np.squeeze(dataAvg))[:,:,0])\n",
    "\n",
    "\n",
    "#fig, ax = plt.subplots(1,1)\n",
    "#ax.plot(amplitudes,np.mean(np.squeeze(dataAvg).imag, axis=0)[:,0])\n",
    "\n",
    "# fig, ax = plt.subplots(1,1)\n",
    "# ax.plot(amplitudes,np.mean(np.mean(np.squeeze(dataNoavg).real,axis=2), axis=0)[:,0])\n",
    "\n",
    "# fig, ax = plt.subplots(1,1)\n",
    "# ax.plot(amplitudes,np.mean(np.mean(np.squeeze(dataNoavg).imag,axis=2), axis=0)[:,0])\n",
    "\n",
    "# fig, ax = plt.subplots(1,1)\n",
    "# ax.plot(tvals * 1e6, np.squeeze(dataNoavg)[:,].mean(axis=0).real)\n",
    "# ax.plot(tvals * 1e6, np.squeeze(dataNoavg)[:,].mean(axis=0).imag)\n",
    "# ax.plot(tvals * 1e6, np.abs(np.squeeze(dataNoavg)[:,].mean(axis=0)))"
   ]
  },
  {
   "cell_type": "markdown",
   "metadata": {},
   "source": [
    "###"
   ]
  },
  {
   "cell_type": "code",
   "execution_count": null,
   "metadata": {
    "ExecuteTime": {
     "end_time": "2018-12-01T18:42:04.397781Z",
     "start_time": "2018-12-01T18:41:51.173968Z"
    },
    "collapsed": true
   },
   "outputs": [],
   "source": [
    "ctl = post_demod_acq\n",
    "ctl.demod_frq(25e6)\n",
    "# ctl = raw_acq\n",
    "ctl.setup_acquisition(None, amplitudes.size, 1000, acq_time=20e-6)\n",
    "ctl.pre_acquire_func = lambda : station.fg.ch1.state('ON')\n",
    "dataNoavg = ctl.acquisition()\n",
    "\n",
    "\n",
    "# tvals = ctl.tvals\n",
    "tvals = ctl.demod_tvals\n",
    "station.fg.ch1.state('OFF')"
   ]
  },
  {
   "cell_type": "markdown",
   "metadata": {},
   "source": [
    "## Time Rabi"
   ]
  },
  {
   "cell_type": "code",
   "execution_count": null,
   "metadata": {
    "ExecuteTime": {
     "end_time": "2019-01-25T17:39:05.510217Z",
     "start_time": "2019-01-25T17:39:05.488675Z"
    },
    "collapsed": true
   },
   "outputs": [],
   "source": [
    "class RabiSequence(BroadBeanSequence):\n",
    "    \"\"\"\n",
    "    A sequence that consists of a single gaussian pulse followed by a readout pulse.\n",
    "\n",
    "    required channels:\n",
    "        'I' : analog output (qubit drive pulse)\n",
    "        'ats_trigger' : marker for the alazar\n",
    "        'ro_pulse' : readout marker \n",
    "        'qb_pulse' : qubit marker\n",
    "    \"\"\"\n",
    "    name = 'rabi_sequence'\n",
    "\n",
    "    def sequence(self, pulse_times, readout_time,\n",
    "                 pre_pulse_time=1e-6, after_pulse_time=0.1e-6,\n",
    "                 alazar_trigger_time=100e-9, marker_buffer=50e-9):\n",
    "        \n",
    "        \n",
    "        elements = []\n",
    "        for pulse_time in pulse_times:\n",
    "            t_pulse = pre_pulse_time + pulse_time + after_pulse_time\n",
    "            #sigma = pulse_time/4.0\n",
    "            cycle_time=t_pulse+readout_time+1e-6\n",
    "            \n",
    "            bps = bbtools.BluePrints(chan_map=self.chan_map, length=cycle_time, sample_rate=self.SR)\n",
    "            \n",
    "            bps['I'].insertSegment(0, ramp, (0, 0), dur=pre_pulse_time)\n",
    "            # GAUSSIAN PULSE\n",
    "            #bps['I'].insertSegment(1, gaussian, (A, sigma, 0, 0), \n",
    "            #                      name='gaussian_pulse', dur=pulse_time)\n",
    "            # SQUARE PULSE\n",
    "            bps['I'].insertSegment(1, ramp, (0.5, 0.5), dur=pulse_time)\n",
    "            \n",
    "            bps['I'].insertSegment(2, ramp, (0, 0), dur=cycle_time - pre_pulse_time - pulse_time)\n",
    "            \n",
    "            \n",
    "            bps['qb_pulse'] = [(pre_pulse_time - marker_buffer, pulse_time + 2 * marker_buffer)]\n",
    "            bps['ats_trigger'] = [(t_pulse - after_pulse_time, alazar_trigger_time)]\n",
    "            bps['ro_pulse'] = [(t_pulse, readout_time)]\n",
    "\n",
    "            elements.append(bbtools.blueprints2element(bps))\n",
    "        \n",
    "        return bbtools.elements2sequence(elements, self.name)\n",
    "    \n",
    "    \n",
    "RabiSequence.chan_map = {\n",
    "    1 : ['I', 'ats_trigger', 'ro_pulse'],\n",
    "    2 : [None, 'qb_pulse', None],   \n",
    "}\n",
    "\n",
    "RabiSequence.chan_settings = {\n",
    "    1 : {\n",
    "        'marker_hi' : [1.5, 1.5],\n",
    "        'marker_lo' : [-0.3, -0.3],\n",
    "        },\n",
    "    2 : {\n",
    "        'marker_hi' : [1.5, 1.5],\n",
    "        'marker_lo' : [-0.3, -0.3],\n",
    "        },\n",
    "}"
   ]
  },
  {
   "cell_type": "code",
   "execution_count": null,
   "metadata": {
    "ExecuteTime": {
     "end_time": "2019-01-25T17:39:10.762043Z",
     "start_time": "2019-01-25T17:39:06.536184Z"
    },
    "collapsed": true
   },
   "outputs": [],
   "source": [
    "readout_time=10e-6\n",
    "#pulse_times = np.logspace(-7, -4, 51)\n",
    "pulse_times = np.linspace(1e-8, 1e-7, 51)\n",
    "#amplitudes = np.array([0,0.5])\n",
    "\n",
    "station.fg.ch1.state('OFF')\n",
    "rabi_seq = RabiSequence(station.awg, SR=1e9)\n",
    "rabi_seq.wait = 'all'\n",
    "rabi_seq.setup_awg(pulse_times=pulse_times,  after_pulse_time=0.5e-6, readout_time=readout_time, start_awg=True)"
   ]
  },
  {
   "cell_type": "code",
   "execution_count": null,
   "metadata": {
    "ExecuteTime": {
     "end_time": "2018-12-03T10:29:12.549282Z",
     "start_time": "2018-12-03T10:29:12.540768Z"
    },
    "collapsed": true
   },
   "outputs": [],
   "source": [
    "station.qubsrc.output_rf('ON')\n",
    "station.qubsrc.power(20)"
   ]
  },
  {
   "cell_type": "code",
   "execution_count": null,
   "metadata": {
    "ExecuteTime": {
     "end_time": "2018-12-03T10:20:16.807237Z",
     "start_time": "2018-12-03T10:20:16.801165Z"
    },
    "collapsed": true
   },
   "outputs": [],
   "source": [
    "station.qubsrc.output_rf('OFF')"
   ]
  },
  {
   "cell_type": "code",
   "execution_count": null,
   "metadata": {
    "ExecuteTime": {
     "end_time": "2018-12-03T10:25:43.171162Z",
     "start_time": "2018-12-03T10:25:43.161183Z"
    },
    "collapsed": true
   },
   "outputs": [],
   "source": [
    "station.qubsrc.output_rf()"
   ]
  },
  {
   "cell_type": "code",
   "execution_count": null,
   "metadata": {
    "ExecuteTime": {
     "end_time": "2018-12-03T10:51:16.605382Z",
     "start_time": "2018-12-03T10:51:16.057703Z"
    },
    "collapsed": true
   },
   "outputs": [],
   "source": [
    "post_iq_acq.integration_stop(readout_time+1e-6)\n",
    "ctl = post_iq_acq\n",
    "ctl.demod_frq(8e6)\n",
    "# ctl = raw_acq\n",
    "ctl.setup_acquisition(None, pulse_times.size,2, acq_time=0.8e-6)\n",
    "ctl.pre_acquire_func = lambda : station.fg.ch1.state('ON')\n",
    "dataAvg = ctl.acquisition()\n",
    "\n",
    "\n",
    "# tvals = ctl.tvals\n",
    "tvals = ctl.demod_tvals\n",
    "station.fg.ch1.state('OFF')"
   ]
  },
  {
   "cell_type": "code",
   "execution_count": null,
   "metadata": {
    "ExecuteTime": {
     "end_time": "2018-12-03T10:51:17.477457Z",
     "start_time": "2018-12-03T10:51:17.471424Z"
    },
    "collapsed": true
   },
   "outputs": [],
   "source": [
    "dataAvg.shape"
   ]
  },
  {
   "cell_type": "code",
   "execution_count": null,
   "metadata": {
    "ExecuteTime": {
     "end_time": "2018-12-03T10:51:17.804439Z",
     "start_time": "2018-12-03T10:51:17.717764Z"
    },
    "collapsed": true,
    "scrolled": false
   },
   "outputs": [],
   "source": [
    "fig, ax = plt.subplots(1,1)\n",
    "ax.plot(pulse_times,np.abs(np.mean(np.squeeze(dataAvg), axis=0))[:,0],'o-')\n",
    "#ax.plot(np.abs(np.squeeze(dataAvg))[:,:,0])\n",
    "\n",
    "\n",
    "#fig, ax = plt.subplots(1,1)\n",
    "#ax.plot(amplitudes,np.mean(np.squeeze(dataAvg).imag, axis=0)[:,0])\n",
    "\n",
    "# fig, ax = plt.subplots(1,1)\n",
    "# ax.plot(amplitudes,np.mean(np.mean(np.squeeze(dataNoavg).real,axis=2), axis=0)[:,0])\n",
    "\n",
    "# fig, ax = plt.subplots(1,1)\n",
    "# ax.plot(amplitudes,np.mean(np.mean(np.squeeze(dataNoavg).imag,axis=2), axis=0)[:,0])\n",
    "\n",
    "# fig, ax = plt.subplots(1,1)\n",
    "# ax.plot(tvals * 1e6, np.squeeze(dataNoavg)[:,].mean(axis=0).real)\n",
    "# ax.plot(tvals * 1e6, np.squeeze(dataNoavg)[:,].mean(axis=0).imag)\n",
    "# ax.plot(tvals * 1e6, np.abs(np.squeeze(dataNoavg)[:,].mean(axis=0)))"
   ]
  },
  {
   "cell_type": "code",
   "execution_count": null,
   "metadata": {
    "collapsed": true
   },
   "outputs": [],
   "source": []
  },
  {
   "cell_type": "markdown",
   "metadata": {},
   "source": [
    "# TESTS Magnetic Field Sweeps"
   ]
  },
  {
   "cell_type": "markdown",
   "metadata": {},
   "source": [
    "## TESTING UNDER DEVELOPMENT DO NOT USE UNLESS YOU ARE SURE"
   ]
  },
  {
   "cell_type": "code",
   "execution_count": null,
   "metadata": {
    "collapsed": true
   },
   "outputs": [],
   "source": [
    "station.mgnt.theta_target(0.0)\n",
    "station.mgnt.phi_target(0)"
   ]
  },
  {
   "cell_type": "code",
   "execution_count": null,
   "metadata": {
    "ExecuteTime": {
     "end_time": "2018-11-02T11:43:03.705451Z",
     "start_time": "2018-11-02T11:43:03.605380Z"
    },
    "collapsed": true
   },
   "outputs": [],
   "source": [
    "print('Measured field = ' + station.mgnt.field_measured().repr_spherical())\n",
    "#print('Measured field = ' + station.mgnt.field_measured().repr_cartesian())\n",
    "print('Target field = ' + station.mgnt.field_target().repr_spherical())\n",
    "#print('Target field = ' + station.mgnt.field_target().repr_cartesian())"
   ]
  },
  {
   "cell_type": "markdown",
   "metadata": {},
   "source": [
    "### Get resonator trace and plot"
   ]
  },
  {
   "cell_type": "code",
   "execution_count": null,
   "metadata": {
    "ExecuteTime": {
     "end_time": "2018-11-08T09:03:14.565689Z",
     "start_time": "2018-11-08T09:03:14.559685Z"
    },
    "collapsed": true
   },
   "outputs": [],
   "source": [
    "\n",
    "\n",
    "\n",
    "#ctl = ss.setup_soft_sweep(het_freqs, station.hetsrc.frequency, integration_time=30e-3)\n",
    "#testout = get_resonator_spec_and_fit(het_freqs)\n",
    "#testout.params['center'].value, testout.params['center'].stderr\n"
   ]
  },
  {
   "cell_type": "markdown",
   "metadata": {},
   "source": [
    "## Manual Magnet Sweeps"
   ]
  },
  {
   "cell_type": "code",
   "execution_count": null,
   "metadata": {
    "ExecuteTime": {
     "end_time": "2018-11-02T11:43:10.416953Z",
     "start_time": "2018-11-02T11:43:10.359911Z"
    },
    "collapsed": true
   },
   "outputs": [],
   "source": [
    "station.mgnt.r_measured()"
   ]
  },
  {
   "cell_type": "code",
   "execution_count": null,
   "metadata": {
    "ExecuteTime": {
     "end_time": "2018-11-08T11:48:15.556358Z",
     "start_time": "2018-11-08T11:42:16.363184Z"
    },
    "collapsed": true
   },
   "outputs": [],
   "source": [
    "#station.mgnt.field_ramp_rate(FieldVector(x=1e-3, y=1e-3, z=1e-3)) ##sweep r\n",
    "\n",
    "\n",
    "cur_r = station.mgnt.r_measured()\n",
    "station.hetsrc.RF.power(-30)\n",
    "spec_frequencies=np.arange(5.293e9, 5.315e9, 0.5e6)\n",
    "spec_src=station.hetsrc\n",
    "\n",
    "ctl = ss.setup_soft_sweep(spec_frequencies, spec_src.frequency, integration_time=30e-3)\n",
    "\n",
    "station.TWPA.on()\n",
    "so = sweep(set_magnet_r, np.arange(cur_r,0., -20e-3))(\n",
    "    ss.measure_soft_time_avg_spec(spec_frequencies, spec_src.frequency, setup=False)\n",
    ")\n",
    "\n",
    "result = do_experiment(f\"resonator_magnet_r/{SAMPLE}\", so, live_plot=True)\n",
    "station.TWPA.off()\n",
    "\n"
   ]
  },
  {
   "cell_type": "code",
   "execution_count": null,
   "metadata": {
    "ExecuteTime": {
     "end_time": "2018-11-08T11:37:10.630332Z",
     "start_time": "2018-11-08T11:37:04.335Z"
    },
    "collapsed": true
   },
   "outputs": [],
   "source": [
    "station.mgnt.theta_measured()"
   ]
  },
  {
   "cell_type": "code",
   "execution_count": null,
   "metadata": {
    "ExecuteTime": {
     "end_time": "2018-11-08T11:42:10.110132Z",
     "start_time": "2018-11-08T11:41:15.635861Z"
    },
    "collapsed": true
   },
   "outputs": [],
   "source": [
    "cur_theta = station.mgnt.theta_measured() ##sweep theta\n",
    "station.hetsrc.RF.power(-70)\n",
    "spec_frequencies=np.arange(5.290e9, 5.315e9, 0.5e6)\n",
    "spec_src=station.hetsrc\n",
    "\n",
    "ctl = ss.setup_soft_sweep(spec_frequencies, spec_src.frequency, integration_time=30e-3)\n",
    "\n",
    "station.TWPA.on()\n",
    "so = sweep(set_magnet_theta, np.arange(cur_theta,cur_theta+0.1, 0.005))(\n",
    "    ss.measure_soft_time_avg_spec(spec_frequencies, spec_src.frequency, setup=False)\n",
    ")\n",
    "\n",
    "result = do_experiment(f\"resonator_magnet_theta/{SAMPLE}\", so, live_plot=True)\n",
    "station.TWPA.off()\n",
    "\n"
   ]
  },
  {
   "cell_type": "code",
   "execution_count": null,
   "metadata": {
    "ExecuteTime": {
     "end_time": "2018-11-02T14:13:28.509937Z",
     "start_time": "2018-11-02T14:13:28.303528Z"
    },
    "collapsed": true
   },
   "outputs": [],
   "source": [
    "station.mgnt.r_measured() > 0.05"
   ]
  },
  {
   "cell_type": "code",
   "execution_count": null,
   "metadata": {
    "ExecuteTime": {
     "end_time": "2018-11-02T14:22:27.093790Z",
     "start_time": "2018-11-02T14:21:10.524941Z"
    },
    "collapsed": true
   },
   "outputs": [],
   "source": [
    "if station.mgnt.r_measured() > 0.05:\n",
    "    cur_phi = station.mgnt.phi_measured() ##makes sure you don't get jumps\n",
    "else:\n",
    "    cur_phi = station.mgnt.phi_target() #makes sure phi doesn't change sign when it is not well defined\n",
    "station.hetsrc.RF.power(-70)\n",
    "spec_frequencies=np.arange(5.295e9, 5.315e9, 0.5e6)\n",
    "spec_src=station.hetsrc\n",
    "\n",
    "ctl = ss.setup_soft_sweep(spec_frequencies, spec_src, integration_time=30e-3)\n",
    "\n",
    "station.TWPA.on()\n",
    "so = sweep(set_magnet_phi, np.arange(cur_phi,cur_phi-4, -0.6))(\n",
    "    ss.measure_soft_time_avg_spec(spec_frequencies, spec_src, setup=False)\n",
    ")\n",
    "\n",
    "result = do_experiment(f\"resonator_magnet_phi/{SAMPLE}\", so, live_plot=True)\n",
    "station.TWPA.off()\n",
    "\n"
   ]
  },
  {
   "cell_type": "markdown",
   "metadata": {
    "ExecuteTime": {
     "end_time": "2018-11-01T12:33:25.214315Z",
     "start_time": "2018-11-01T12:33:25.212314Z"
    }
   },
   "source": [
    "## Automated Magnet Sweeps"
   ]
  },
  {
   "cell_type": "code",
   "execution_count": null,
   "metadata": {
    "ExecuteTime": {
     "end_time": "2018-11-07T17:12:31.730505Z",
     "start_time": "2018-11-07T17:12:31.728521Z"
    },
    "collapsed": true
   },
   "outputs": [],
   "source": [
    "from pytopo.field_optimization.movement import FieldOptimizationProblem ##optimize at fixed mag"
   ]
  },
  {
   "cell_type": "code",
   "execution_count": null,
   "metadata": {
    "ExecuteTime": {
     "end_time": "2018-11-01T15:24:32.533471Z",
     "start_time": "2018-11-01T15:20:19.087052Z"
    },
    "collapsed": true
   },
   "outputs": [],
   "source": [
    "from pytopo.field_optimization.movement import FieldOptimizationProblem ##optimize at fixed mag\n",
    "\n",
    "\n",
    "xvals = np.arange(5.29e9,5.32e9,0.5e6)\n",
    "    \n",
    "fig = plt.figure()\n",
    "ax = fig.add_subplot(111)\n",
    "ax.set_xlabel('X values')\n",
    "ax.set_ylabel('Y values')\n",
    "line = ax.plot(xvals, np.zeros_like(xvals), '.-')[0]\n",
    "\n",
    "ctl = ss.setup_soft_sweep(xvals, station.hetsrc.frequency, integration_time=30e-3)\n",
    "\n",
    "# now we wrap the measure function such that it doesn't need arguments anymore\n",
    "# of course this requires that we have already good constant values for ax and line\n",
    "measure_trace = partial(measure_and_plot_resonator, ax, line)\n",
    "\n",
    "# now we just have to call the new function wrapper without arguments\n",
    "\n",
    "\n",
    "field_opt = FieldOptimizationProblem(station.mgnt, measure_trace, get_resonator_FWHM)\n",
    "\n",
    "\n",
    "\n",
    "cur_r = station.mgnt.r_target()\n",
    "cur_theta = station.mgnt.theta_target()\n",
    "cur_phi = station.mgnt.phi_target()\n",
    "\n",
    "with station.TWPA():\n",
    "    opt, extra = field_opt.optimize_at_fixed_magnitude(\n",
    "        cur_r, (cur_phi-3, cur_phi+3), 2,(cur_theta-0.1, cur_theta+0.1), 2,\n",
    "        plot=True, return_extra=True, verbose=True, ramp_rate=1e-3, n_steps=3\n",
    "    )\n",
    "# station.TWPA.off()"
   ]
  },
  {
   "cell_type": "code",
   "execution_count": null,
   "metadata": {
    "ExecuteTime": {
     "end_time": "2018-11-02T11:52:13.287565Z",
     "start_time": "2018-11-02T11:52:13.283563Z"
    },
    "collapsed": true
   },
   "outputs": [],
   "source": [
    "0.4/50/2*1e3"
   ]
  },
  {
   "cell_type": "code",
   "execution_count": null,
   "metadata": {
    "ExecuteTime": {
     "end_time": "2018-11-08T11:04:54.803146Z",
     "start_time": "2018-11-08T09:04:57.599223Z"
    },
    "collapsed": true,
    "scrolled": false
   },
   "outputs": [],
   "source": [
    "station.RF.power(-30)\n",
    "xvals = np.arange(5.285e9,5.317e9,0.4e6)\n",
    "    \n",
    "fig = plt.figure()\n",
    "ax = fig.add_subplot(111)\n",
    "ax.set_xlabel('X values')\n",
    "ax.set_ylabel('Y values')\n",
    "line = ax.plot(xvals, np.zeros_like(xvals), '.-')[0]\n",
    "\n",
    "ctl = ss.setup_soft_sweep(xvals, station.hetsrc.frequency, integration_time=30e-3)\n",
    "\n",
    "# now we wrap the measure function such that it doesn't need arguments anymore\n",
    "# of course this requires that we have already good constant values for ax and line\n",
    "measure_trace = partial(measure_and_plot_resonator, ax, line)\n",
    "\n",
    "# now we just have to call the new function wrapper without arguments\n",
    "\n",
    "\n",
    "field_opt = FieldOptimizationProblem(station.mgnt, measure_trace, get_resonator_FWHM)\n",
    "\n",
    "\n",
    "\n",
    "cur_r = station.mgnt.r_measured()\n",
    "cur_theta = station.mgnt.theta_measured()\n",
    "cur_phi = station.mgnt.phi_measured()\n",
    "0.005\n",
    "\n",
    "#with station.TWPA():\n",
    "optimum, extra = field_opt.optimize_and_ramp_magnitude(\n",
    "    cur_r, 1e-3, 200,\n",
    "    cur_phi, 0, 1,\n",
    "    cur_theta, 0.01, 5,\n",
    "    reoptimization_threshold=4.5,\n",
    "    ramp_rate=3e-3,\n",
    "    n_steps=5,\n",
    "    return_extra=True\n",
    "    )\n",
    "\n",
    "# station.TWPA.off()"
   ]
  },
  {
   "cell_type": "code",
   "execution_count": null,
   "metadata": {
    "ExecuteTime": {
     "end_time": "2018-11-02T13:48:34.559065Z",
     "start_time": "2018-11-02T13:48:34.472003Z"
    },
    "collapsed": true
   },
   "outputs": [],
   "source": [
    "plt.figure()\n",
    "plt.plot(\n",
    "    [field.phi for field in extra['history']['optima']],\n",
    "    [field.theta for field in extra['history']['optima']],\n",
    "    zorder=-10\n",
    ")\n",
    "plt.scatter(\n",
    "    [field.phi for field in extra['history']['optima']],\n",
    "    [field.theta for field in extra['history']['optima']],\n",
    "    c=[field.r for field in extra['history']['optima']]\n",
    ")\n",
    "plt.colorbar()"
   ]
  },
  {
   "cell_type": "code",
   "execution_count": null,
   "metadata": {
    "ExecuteTime": {
     "end_time": "2018-11-02T13:49:00.805914Z",
     "start_time": "2018-11-02T13:49:00.779954Z"
    },
    "collapsed": true
   },
   "outputs": [],
   "source": [
    "plt.figure()\n",
    "plt.plot(extra['history']['objectives'])"
   ]
  },
  {
   "cell_type": "code",
   "execution_count": null,
   "metadata": {
    "collapsed": true
   },
   "outputs": [],
   "source": []
  },
  {
   "cell_type": "code",
   "execution_count": null,
   "metadata": {
    "collapsed": true
   },
   "outputs": [],
   "source": []
  },
  {
   "cell_type": "code",
   "execution_count": null,
   "metadata": {
    "collapsed": true
   },
   "outputs": [],
   "source": []
  },
  {
   "cell_type": "code",
   "execution_count": null,
   "metadata": {
    "collapsed": true
   },
   "outputs": [],
   "source": []
  },
  {
   "cell_type": "markdown",
   "metadata": {},
   "source": [
    "# Test Code for Writing Time Domain Sequences"
   ]
  },
  {
   "cell_type": "code",
   "execution_count": null,
   "metadata": {
    "ExecuteTime": {
     "end_time": "2018-11-29T11:10:47.527588Z",
     "start_time": "2018-11-29T11:10:47.520579Z"
    },
    "collapsed": true
   },
   "outputs": [],
   "source": [
    "import numpy as np\n",
    "import qcodes as qc\n",
    "import broadbean as bb\n",
    "from broadbean.plotting import plotter\n",
    "\n",
    "from pytopo.awg_sequencing import broadbean as bbtools\n",
    "from pytopo.awg_sequencing.broadbean import BluePrints, BroadBeanSequence\n",
    "\n",
    "ramp = bb.PulseAtoms.ramp\n",
    "sine = bb.PulseAtoms.sine\n",
    "gaussian = bb.PulseAtoms.gaussian"
   ]
  },
  {
   "cell_type": "code",
   "execution_count": null,
   "metadata": {
    "ExecuteTime": {
     "end_time": "2018-11-29T13:22:08.110106Z",
     "start_time": "2018-11-29T13:22:06.156006Z"
    },
    "collapsed": true
   },
   "outputs": [],
   "source": [
    "class RabiSequence(BroadBeanSequence):\n",
    "    \"\"\"\n",
    "    A sequence that consists of a single gaussian pulse followed by a readout pulse.\n",
    "\n",
    "    required channels:\n",
    "        'I' : analog output (qubit drive pulse)\n",
    "        'ats_trigger' : marker for the alazar\n",
    "        'ro_pulse' : readout marker \n",
    "        'qb_pulse' : qubit marker\n",
    "    \"\"\"\n",
    "    name = 'rabi_sequence'\n",
    "\n",
    "    def sequence(self, amplitudes, pulse_time, readout_time,\n",
    "                 pre_pulse_time=1e-6, after_pulse_time=0.1e-6,\n",
    "                 alazar_trigger_time=100e-9, marker_buffer=100e-9):\n",
    "        \n",
    "        t_pulse = pre_pulse_time + pulse_time + after_pulse_time\n",
    "        sigma = pulse_time/4.0\n",
    "        cycle_time=t_pulse+readout_time+1e-6\n",
    "        \n",
    "        elements = []\n",
    "        for A in amplitudes:\n",
    "            bps = bbtools.BluePrints(chan_map=self.chan_map, length=cycle_time, sample_rate=self.SR)\n",
    "            \n",
    "            bps['I'].insertSegment(0, ramp, (0, 0), dur=pre_pulse_time)\n",
    "            bps['I'].insertSegment(1, gaussian, (A, sigma, 0, 0), \n",
    "                                   name='gaussian_pulse', dur=pulse_time)\n",
    "            bps['I'].insertSegment(2, ramp, (0, 0), dur=cycle_time - pre_pulse_time - pulse_time)\n",
    "            \n",
    "            bps['qb_pulse'] = [(pre_pulse_time - marker_buffer, pulse_time + 2 * marker_buffer)]\n",
    "            bps['ats_trigger'] = [(t_pulse - after_pulse_time, alazar_trigger_time)]\n",
    "            bps['ro_pulse'] = [(t_pulse, readout_time)]\n",
    "\n",
    "            elements.append(bbtools.blueprints2element(bps))\n",
    "        \n",
    "        return bbtools.elements2sequence(elements, self.name)\n",
    "    \n",
    "    \n",
    "RabiSequence.chan_map = {\n",
    "    1 : ['I', 'ats_trigger', 'ro_pulse'],\n",
    "    2 : [None, 'qb_pulse', None],   \n",
    "}\n",
    "\n",
    "RabiSequence.chan_settings = {\n",
    "    1 : {\n",
    "        'marker_hi' : [1.5, 1.5],\n",
    "        'marker_lo' : [-0.3, -0.3],\n",
    "        },\n",
    "    2 : {\n",
    "        'marker_hi' : [1.5, 1.5],\n",
    "        'marker_lo' : [-0.3, -0.3],\n",
    "        },\n",
    "}\n",
    "\n",
    "fg.ch1.state('OFF')\n",
    "readout_time=5e-6\n",
    "amplitudes = np.linspace(-0.5, 0.5, 10)\n",
    "rabi_seq = RabiSequence(station.awg, SR=1e9)\n",
    "rabi_seq.wait = 'all'\n",
    "rabi_seq.setup_awg(amplitudes=amplitudes, pulse_time=1e-6, readout_time=readout_time, start_awg=True)"
   ]
  },
  {
   "cell_type": "code",
   "execution_count": null,
   "metadata": {
    "ExecuteTime": {
     "end_time": "2018-11-29T13:22:08.118087Z",
     "start_time": "2018-11-29T13:22:08.114083Z"
    },
    "collapsed": true
   },
   "outputs": [],
   "source": [
    "post_iq_acq.integration_stop(readout_time+1e-6)"
   ]
  },
  {
   "cell_type": "code",
   "execution_count": null,
   "metadata": {
    "ExecuteTime": {
     "end_time": "2018-11-29T13:22:08.152136Z",
     "start_time": "2018-11-29T13:22:08.121088Z"
    },
    "collapsed": true
   },
   "outputs": [],
   "source": [
    "station.hetsrc.RF.power(-50)\n",
    "station.LO.power(10.0)\n",
    "station.hetsrc.IF(8e6)\n",
    "station.hetsrc.frequency(4.53e9)"
   ]
  },
  {
   "cell_type": "code",
   "execution_count": null,
   "metadata": {
    "ExecuteTime": {
     "end_time": "2018-11-29T13:26:37.359000Z",
     "start_time": "2018-11-29T13:26:21.323888Z"
    },
    "collapsed": true
   },
   "outputs": [],
   "source": [
    "ctl = post_iq_acq\n",
    "ctl.demod_frq(8e6)\n",
    "# ctl = raw_acq\n",
    "ctl.setup_acquisition(None, amplitudes.size, 1000, acq_time=6e-6)\n",
    "ctl.pre_acquire_func = lambda : fg.ch1.state('ON')\n",
    "dataAvg = ctl.acquisition()\n",
    "\n",
    "\n",
    "# tvals = ctl.tvals\n",
    "tvals = ctl.demod_tvals"
   ]
  },
  {
   "cell_type": "code",
   "execution_count": null,
   "metadata": {
    "ExecuteTime": {
     "end_time": "2018-11-29T13:26:53.305907Z",
     "start_time": "2018-11-29T13:26:37.361001Z"
    },
    "collapsed": true
   },
   "outputs": [],
   "source": [
    "ctl = post_demod_acq\n",
    "ctl.demod_frq(8e6)\n",
    "# ctl = raw_acq\n",
    "ctl.setup_acquisition(None, amplitudes.size, 1000, acq_time=6e-6)\n",
    "ctl.pre_acquire_func = lambda : fg.ch1.state('ON')\n",
    "dataNoavg = ctl.acquisition()\n",
    "\n",
    "\n",
    "# tvals = ctl.tvals\n",
    "tvals = ctl.demod_tvals"
   ]
  },
  {
   "cell_type": "code",
   "execution_count": null,
   "metadata": {
    "ExecuteTime": {
     "end_time": "2018-11-29T13:22:24.202339Z",
     "start_time": "2018-11-29T13:22:24.197360Z"
    },
    "collapsed": true
   },
   "outputs": [],
   "source": [
    "data.shape"
   ]
  },
  {
   "cell_type": "code",
   "execution_count": null,
   "metadata": {
    "ExecuteTime": {
     "end_time": "2018-11-29T13:27:26.979091Z",
     "start_time": "2018-11-29T13:27:26.972087Z"
    },
    "collapsed": true
   },
   "outputs": [],
   "source": [
    "dataNoavg.shape"
   ]
  },
  {
   "cell_type": "code",
   "execution_count": null,
   "metadata": {
    "ExecuteTime": {
     "end_time": "2018-11-29T13:29:26.891328Z",
     "start_time": "2018-11-29T13:29:26.503056Z"
    },
    "collapsed": true,
    "scrolled": false
   },
   "outputs": [],
   "source": [
    "fig, ax = plt.subplots(1,1)\n",
    "ax.plot(amplitudes,np.mean(np.squeeze(dataAvg).real, axis=0)[:,0])\n",
    "\n",
    "fig, ax = plt.subplots(1,1)\n",
    "ax.plot(amplitudes,np.mean(np.squeeze(dataAvg).imag, axis=0)[:,0])\n",
    "\n",
    "fig, ax = plt.subplots(1,1)\n",
    "ax.plot(amplitudes,np.mean(np.mean(np.squeeze(dataNoavg).real,axis=2), axis=0)[:,0])\n",
    "\n",
    "fig, ax = plt.subplots(1,1)\n",
    "ax.plot(amplitudes,np.mean(np.mean(np.squeeze(dataNoavg).imag,axis=2), axis=0)[:,0])\n",
    "\n",
    "fig, ax = plt.subplots(1,1)\n",
    "# ax.plot(tvals * 1e6, np.squeeze(dataNoavg)[:, :, 0].mean(axis=0).real)\n",
    "# ax.plot(tvals * 1e6, np.squeeze(dataNoavg)[:, :, 0].mean(axis=0).imag)\n",
    "# ax.plot(tvals * 1e6, np.abs(np.squeeze(dataNoAvg)[:, :, 0].mean(axis=0)))"
   ]
  },
  {
   "cell_type": "code",
   "execution_count": null,
   "metadata": {
    "collapsed": true
   },
   "outputs": [],
   "source": []
  },
  {
   "cell_type": "code",
   "execution_count": null,
   "metadata": {
    "collapsed": true
   },
   "outputs": [],
   "source": []
  },
  {
   "cell_type": "code",
   "execution_count": null,
   "metadata": {
    "collapsed": true
   },
   "outputs": [],
   "source": []
  },
  {
   "cell_type": "code",
   "execution_count": null,
   "metadata": {
    "collapsed": true
   },
   "outputs": [],
   "source": []
  },
  {
   "cell_type": "code",
   "execution_count": null,
   "metadata": {
    "collapsed": true
   },
   "outputs": [],
   "source": []
  },
  {
   "cell_type": "markdown",
   "metadata": {},
   "source": [
    "# OLD STUFF BELOW - ONLY REFERENCE"
   ]
  },
  {
   "cell_type": "code",
   "execution_count": null,
   "metadata": {
    "collapsed": true,
    "scrolled": false
   },
   "outputs": [],
   "source": [
    "frqs, data = soft_resonator_spec(5.6e9, 5.7e9, 1e6, RF_power=-70)"
   ]
  },
  {
   "cell_type": "markdown",
   "metadata": {
    "heading_collapsed": true
   },
   "source": [
    "## Resonator vs time"
   ]
  },
  {
   "cell_type": "code",
   "execution_count": null,
   "metadata": {
    "collapsed": true,
    "hidden": true
   },
   "outputs": [],
   "source": [
    "start, stop, step = 5.6e9, 5.7e9, 2e6\n",
    "integration_time = 10e-3\n",
    "trigger_interval = 1e-3\n",
    "\n",
    "exp = new_experiment(name='resonator_spec_vs_time', sample_name=qc.config.user.experiment.sample_name)\n",
    "\n",
    "# set basic RF stuff\n",
    "station.hetsrc.RF.power(-70)\n",
    "\n",
    "ctl = station.post_iq_acq\n",
    "ctl.average_buffers(True)\n",
    "ctl.demod_frq(station.hetsrc.IF())\n",
    "\n",
    "SR = station.alazar.sample_rate()\n",
    "t_buf = trigger_interval - 10e-6\n",
    "nbufs = int(integration_time // trigger_interval)\n",
    "\n",
    "acq_size = 2 * integration_time * SR * 1e-6 # in MB\n",
    "buf_size = 2 * t_buf * SR * 1e-6\n",
    "print(f'acquisition size: {acq_size} MB; {buf_size} MB/buffer.')  \n",
    "print(f'acquisition time/buffer: {t_buf*1e6} us; {nbufs} buffers.')\n",
    "\n",
    "ctl.setup_acquisition(\n",
    "    samples=int(t_buf * SR // 64 * 64),\n",
    "    records=1,\n",
    "    buffers=nbufs,\n",
    "    allocated_buffers=10,\n",
    ")\n",
    "\n",
    "tvals = np.arange(100)\n",
    "frqs = np.arange(start, stop+step, step)\n",
    "data = np.zeros((frqs.size, 2), dtype=np.complex64)\n",
    "\n",
    "m = acquisition_tools.AlazarMeasurement(\n",
    "    station=station, exp=exp, \n",
    "    soft_params=['iteration', station.hetsrc.frequency],\n",
    "    hard_axes=[\n",
    "        ('channel', np.array([1,2])),\n",
    "    ],\n",
    "    imag=False, real=False, mag=True, phase=True,\n",
    ")\n",
    "\n",
    "with m.run() as datasaver:\n",
    "\n",
    "    datasaver.dataset.subscribe(\n",
    "        QcodesDatasetSubscriber(datasaver.dataset), \n",
    "        state=[], min_wait=0, min_count=1,\n",
    "    )\n",
    "\n",
    "    for j, it in enumerate(tvals):\n",
    "        for i, f in enumerate(frqs):\n",
    "            print(f'Current iteration: {it}. Current frequency: {f*1e-6:.2f} MHz', end='\\r')\n",
    "            station.hetsrc.frequency(f)\n",
    "            time.sleep(0.01)\n",
    "\n",
    "            _data = ctl.acquisition()[0,0,0,:]\n",
    "            data[i,:] = _data\n",
    "            mag, phase = np.abs(_data), np.angle(_data, deg=True)\n",
    "\n",
    "            result = m.get_result(_data, (station.hetsrc.frequency, f), ('iteration', it))\n",
    "            datasaver.add_result(*result)"
   ]
  },
  {
   "cell_type": "markdown",
   "metadata": {
    "heading_collapsed": true
   },
   "source": [
    "# Gate response"
   ]
  },
  {
   "cell_type": "code",
   "execution_count": null,
   "metadata": {
    "collapsed": true,
    "hidden": true
   },
   "outputs": [],
   "source": [
    "station.hetsrc.frequency(5.647e9)\n",
    "station.hetsrc.RF.power(-70)\n",
    "SR = station.alazar.sample_rate()\n",
    "dac = station.ivvi.dac1\n",
    "dacl = station.ivvi.dac11\n",
    "dacr = station.ivvi.dac13\n",
    "\n",
    "station = qc.Station.default\n",
    "exp = new_experiment(name='gate_response', sample_name=qc.config.user.experiment.sample_name)\n",
    "\n",
    "ctl = station.post_iq_acq\n",
    "ctl.average_buffers(True)\n",
    "ctl.demod_frq(station.hetsrc.IF())\n",
    "\n",
    "ctl.setup_acquisition(\n",
    "        samples=int(980e-6 * SR // 64 * 64),\n",
    "        records=1,\n",
    "        buffers=10,\n",
    "        allocated_buffers=10,\n",
    "    )\n",
    "\n",
    "gatevals = np.arange(0, 1000, 0.5)\n",
    "\n",
    "m = acquisition_tools.AlazarMeasurement(\n",
    "        station=station, exp=exp, \n",
    "        soft_params=[dacl],\n",
    "        hard_axes=[\n",
    "            ('channel', np.array([1,2])),\n",
    "        ],\n",
    "        imag=False, real=False, mag=True, phase=True,\n",
    "    )\n",
    "\n",
    "with m.run() as datasaver:\n",
    "        \n",
    "    datasaver.dataset.subscribe(\n",
    "        QcodesDatasetSubscriber(datasaver.dataset), \n",
    "        state=[], min_wait=0, min_count=1,\n",
    "    )\n",
    "\n",
    "    for i, g in enumerate(gatevals):\n",
    "        print(f'Current gate voltage: {g} mV', end='\\r')\n",
    "        dacl(int(g))\n",
    "        dacr(int(g))\n",
    "        dac(int(g))\n",
    "\n",
    "        _data = ctl.acquisition()[0,0,0,:]\n",
    "        mag, phase = np.abs(_data), np.angle(_data, deg=True)\n",
    "\n",
    "        result = m.get_result(_data, (dacl, g))\n",
    "        datasaver.add_result(*result)"
   ]
  },
  {
   "cell_type": "code",
   "execution_count": null,
   "metadata": {
    "collapsed": true,
    "hidden": true
   },
   "outputs": [],
   "source": []
  },
  {
   "cell_type": "markdown",
   "metadata": {},
   "source": [
    "# Qubit spec"
   ]
  },
  {
   "cell_type": "code",
   "execution_count": null,
   "metadata": {
    "collapsed": true
   },
   "outputs": [],
   "source": []
  },
  {
   "cell_type": "markdown",
   "metadata": {},
   "source": [
    "# Scribble"
   ]
  },
  {
   "cell_type": "code",
   "execution_count": null,
   "metadata": {
    "collapsed": true
   },
   "outputs": [],
   "source": []
  },
  {
   "cell_type": "code",
   "execution_count": null,
   "metadata": {
    "ExecuteTime": {
     "end_time": "2018-10-26T12:13:22.761287Z",
     "start_time": "2018-10-26T12:13:22.755300Z"
    },
    "collapsed": true
   },
   "outputs": [],
   "source": [
    "f\"{123456:1.3e}\""
   ]
  },
  {
   "cell_type": "code",
   "execution_count": null,
   "metadata": {
    "ExecuteTime": {
     "end_time": "2018-11-26T12:07:21.370261Z",
     "start_time": "2018-11-26T12:07:19.486942Z"
    },
    "collapsed": true
   },
   "outputs": [],
   "source": [
    "raw_acq = instools.create_inst(acquisition_controllers.RawAcqCtl, \n",
    "                                   'raw_acq', 'alazar',\n",
    "                                   allocate_samples=5e8, \n",
    "                                   force_new_instance=True)"
   ]
  },
  {
   "cell_type": "code",
   "execution_count": null,
   "metadata": {
    "ExecuteTime": {
     "end_time": "2018-11-26T12:07:26.717969Z",
     "start_time": "2018-11-26T12:07:25.743289Z"
    },
    "collapsed": true
   },
   "outputs": [],
   "source": [
    "with station.alazar.syncing():\n",
    "    station.alazar.samples_per_record(int(100e-3/10e-9)//128 * 128)\n",
    "    station.alazar.records_per_buffer(1)\n",
    "    station.alazar.buffers_per_acquisition(2)\n",
    "    \n",
    "raw_acq.setup_acquisition(samples=int(100e-3/10e-9)//128 * 128,\n",
    "                          records=1, buffers=2)\n",
    "data = raw_acq.acquisition()"
   ]
  },
  {
   "cell_type": "code",
   "execution_count": null,
   "metadata": {
    "ExecuteTime": {
     "end_time": "2018-11-23T19:33:16.906153Z",
     "start_time": "2018-11-23T19:33:16.900149Z"
    },
    "collapsed": true
   },
   "outputs": [],
   "source": [
    "data2 = np.squeeze(data[:,1,...,0])\n",
    "tvals = raw_acq.tvals"
   ]
  },
  {
   "cell_type": "code",
   "execution_count": null,
   "metadata": {
    "ExecuteTime": {
     "end_time": "2018-11-23T19:33:18.694737Z",
     "start_time": "2018-11-23T19:33:17.663047Z"
    },
    "collapsed": true
   },
   "outputs": [],
   "source": [
    "fig, ax = plt.subplots(1,1)\n",
    "ax.plot(tvals, data2)"
   ]
  },
  {
   "cell_type": "code",
   "execution_count": null,
   "metadata": {
    "ExecuteTime": {
     "end_time": "2018-11-23T19:26:35.625725Z",
     "start_time": "2018-11-23T19:26:35.540664Z"
    },
    "collapsed": true
   },
   "outputs": [],
   "source": [
    "fft = np.fft.rfft(data2)\n",
    "frqs = np.fft.rfftfreq(data2.size, d=tvals[1]-tvals[0])\n",
    "\n",
    "fig, ax = plt.subplots(1,1)\n",
    "ax.plot(frqs, np.abs(fft))"
   ]
  },
  {
   "cell_type": "code",
   "execution_count": null,
   "metadata": {
    "collapsed": true
   },
   "outputs": [],
   "source": []
  }
 ],
 "metadata": {
  "kernelspec": {
   "display_name": "Python 3",
   "language": "python",
   "name": "python3"
  },
  "language_info": {
   "codemirror_mode": {
    "name": "ipython",
    "version": 3
   },
   "file_extension": ".py",
   "mimetype": "text/x-python",
   "name": "python",
   "nbconvert_exporter": "python",
   "pygments_lexer": "ipython3",
   "version": "3.6.7"
  },
  "toc": {
   "base_numbering": 1,
   "nav_menu": {},
   "number_sections": true,
   "sideBar": true,
   "skip_h1_title": false,
   "title_cell": "Table of Contents",
   "title_sidebar": "Contents",
   "toc_cell": false,
   "toc_position": {
    "height": "calc(100% - 180px)",
    "left": "10px",
    "top": "150px",
    "width": "587px"
   },
   "toc_section_display": true,
   "toc_window_display": true
  }
 },
 "nbformat": 4,
 "nbformat_minor": 2
}

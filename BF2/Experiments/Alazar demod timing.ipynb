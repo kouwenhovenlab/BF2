{
 "cells": [
  {
   "cell_type": "code",
   "execution_count": 49,
   "metadata": {
    "collapsed": true
   },
   "outputs": [],
   "source": [
    "%matplotlib notebook\n",
    "\n",
    "import sys\n",
    "import os\n",
    "import time\n",
    "from importlib import reload\n",
    "import time"
   ]
  },
  {
   "cell_type": "code",
   "execution_count": 2,
   "metadata": {
    "collapsed": true
   },
   "outputs": [],
   "source": [
    "import numpy as np\n",
    "import qcodes as qc\n",
    "import broadbean as bb\n",
    "\n",
    "from matplotlib import pyplot as plt\n",
    "from broadbean.plotting import plotter"
   ]
  },
  {
   "cell_type": "code",
   "execution_count": 3,
   "metadata": {
    "collapsed": true
   },
   "outputs": [],
   "source": [
    "from qcodes.dataset.measurements import Measurement\n",
    "\n",
    "from pytopo.qctools import instruments as instools; reload(instools)\n",
    "from pytopo.qctools.instruments import create_inst, add2station\n",
    "\n",
    "from pytopo.qctools import measurement; reload(measurement)\n",
    "from pytopo.qctools.measurement import MeasurementExt\n",
    "\n",
    "from pytopo.mplplots.init_nb_plotting import *\n",
    "from pytopo.mplplots import plots as mplplots\n",
    "from pytopo.mplplots import tools as mpltools\n",
    "\n",
    "import plottr; reload(plottr)\n",
    "\n",
    "from pytopo.qctools.dataset2 import select_experiment\n",
    "from plottr.qcodes_dataset import QcodesDatasetSubscriber"
   ]
  },
  {
   "cell_type": "code",
   "execution_count": null,
   "metadata": {
    "collapsed": true
   },
   "outputs": [],
   "source": []
  },
  {
   "cell_type": "code",
   "execution_count": null,
   "metadata": {
    "collapsed": true
   },
   "outputs": [],
   "source": []
  },
  {
   "cell_type": "markdown",
   "metadata": {},
   "source": [
    "# Acquisition controllers"
   ]
  },
  {
   "cell_type": "code",
   "execution_count": 122,
   "metadata": {},
   "outputs": [],
   "source": [
    "from qcodes.instrument_drivers.AlazarTech.ATS import AcquisitionController\n",
    "\n",
    "class BaseAcqCtl(AcquisitionController):\n",
    "\n",
    "    ZERO = np.int16(2048)\n",
    "    RANGE = 2047.5\n",
    "    MINSAMPLES = 384\n",
    "    DATADTYPE = np.uint16\n",
    "\n",
    "    def __init__(self, name, alazar_name, **kwargs):\n",
    "        self.acquisitionkwargs = {}\n",
    "        self.number_of_channels = 2\n",
    "        self.trigger_func = None\n",
    "        \n",
    "        self._average_buffers = False\n",
    "\n",
    "        try:\n",
    "            super().__init__(name, alazar_name, **kwargs)\n",
    "        except KeyError:\n",
    "            raise\n",
    "            self._alazar = None\n",
    "        \n",
    "        if self._alazar is not None:\n",
    "            alz = self._get_alazar()\n",
    "            self.add_parameter('sample_rate', get_cmd=alz.sample_rate)\n",
    "            self.add_parameter('samples_per_record', get_cmd=alz.samples_per_record)\n",
    "            self.add_parameter('records_per_buffer', get_cmd=alz.records_per_buffer)\n",
    "            self.add_parameter('buffers_per_acquisition', get_cmd=alz.buffers_per_acquisition)\n",
    "\n",
    "            self.add_parameter('acq_time', get_cmd=None, set_cmd=None, unit='s', initial_value=None)\n",
    "            self.add_parameter(\"acquisition\", get_cmd=self.do_acquisition, snapshot_value=False)\n",
    "        else:\n",
    "            self.add_parameter('sample_rate', set_cmd=None)\n",
    "            self.add_parameter('samples_per_record', set_cmd=None)\n",
    "            self.add_parameter('records_per_buffer', set_cmd=None)\n",
    "            self.add_parameter('buffers_per_acquisition', set_cmd=None)\n",
    "\n",
    "\n",
    "    # Functions that need to be implemented by child classes\n",
    "    def data_shape(self):\n",
    "        raise NotImplementedError\n",
    "\n",
    "    def data_dims(self):\n",
    "        raise NotImplementedError\n",
    "\n",
    "    def process_buffer(self, buf):\n",
    "        raise NotImplementedError\n",
    "\n",
    "    def time2samples(self, t):\n",
    "        nsamples_ideal = t * self.sample_rate()\n",
    "        nsamples = int(nsamples_ideal // 128 * 128)\n",
    "        if nsamples / self.sample_rate() < t:\n",
    "            nsamples += 128\n",
    "        return max(self.MINSAMPLES, nsamples)\n",
    "\n",
    "    def pre_start_capture(self):\n",
    "        self.tvals = np.arange(self.samples_per_record(), dtype=np.float32) / self.sample_rate()\n",
    "        self.buffer_shape = (self.records_per_buffer(),\n",
    "                             self.samples_per_record(),\n",
    "                             self.number_of_channels)\n",
    "\n",
    "        self.data = np.zeros(self.data_shape(), dtype=self.DATADTYPE)\n",
    "        self.handling_times = np.zeros(self.buffers_per_acquisition(), dtype=np.float64)\n",
    "\n",
    "    def pre_acquire(self):\n",
    "        pass\n",
    "\n",
    "    def handle_buffer(self, data, buffer_number=None):\n",
    "        t0 = time.perf_counter()\n",
    "        data.shape = self.buffer_shape\n",
    "        data.dtype = np.uint16\n",
    "        \n",
    "        if not buffer_number or self._average_buffers:\n",
    "            self.data += self.process_buffer(data)\n",
    "            self.handling_times[0] = (time.perf_counter() - t0) * 1e3\n",
    "        else:\n",
    "            self.data[buffer_number] = self.process_buffer(data)\n",
    "            self.handling_times[buffer_number] = (time.perf_counter() - t0) * 1e3\n",
    "\n",
    "    def update_acquisitionkwargs(self, **kwargs):\n",
    "        if self.acq_time() and 'samples_per_record' not in kwargs:\n",
    "            kwargs['samples_per_record'] = self.time2samples(self.acq_time())\n",
    "        self.acquisitionkwargs.update(**kwargs)\n",
    "    \n",
    "    def do_acquisition(self):\n",
    "        if self._alazar is not None:\n",
    "            value = self._get_alazar().acquire(acquisition_controller=self, **self.acquisitionkwargs)\n",
    "        else:\n",
    "            value = None\n",
    "        return value\n",
    "\n",
    "\n",
    "class RawAcqCtl(BaseAcqCtl):\n",
    "\n",
    "    def data_shape(self):\n",
    "        shp = (self.buffers_per_acquisition(),\n",
    "               self.records_per_buffer(),\n",
    "               self.samples_per_record(),\n",
    "               self.number_of_channels)\n",
    "        \n",
    "        if not self._average_buffers:\n",
    "            return shp\n",
    "        else:\n",
    "            return shp[1:]\n",
    "\n",
    "    def data_dims(self):\n",
    "        dims = ('buffers', 'records', 'samples', 'channels')\n",
    "        \n",
    "        if not self._average_buffers:\n",
    "            return dims\n",
    "        else:\n",
    "            return dims[1:]\n",
    "\n",
    "    def process_buffer(self, buf):\n",
    "        return buf\n",
    "    \n",
    "    def post_acquire(self):\n",
    "        return (np.right_shift(self.data, 4).astype(np.float32) - 2048) / 4096\n",
    "    \n",
    "\n",
    "class AvgBufCtl(BaseAcqCtl):\n",
    "    \n",
    "    DATADTYPE = np.uint32 # float32\n",
    "    \n",
    "    def __init__(self, *arg, **kw):\n",
    "        super().__init__(*arg, **kw)    \n",
    "        \n",
    "        self._average_buffers = True\n",
    "    \n",
    "    def data_shape(self):\n",
    "        shp = (self.records_per_buffer(),\n",
    "               self.samples_per_record(),\n",
    "               self.number_of_channels)\n",
    "        return shp\n",
    "\n",
    "    def data_dims(self):\n",
    "        dims = ('records', 'samples', 'channels')\n",
    "        return dims\n",
    "\n",
    "    def process_buffer(self, buf):\n",
    "        return buf # (np.right_shift(buf, 4).astype(np.float32) - 2048) / 4096\n",
    "    \n",
    "    def post_acquire(self):\n",
    "        return (np.right_shift(self.data, 4).astype(np.float32) / self.buffers_per_acquisition() - 2048) / 4096\n"
   ]
  },
  {
   "cell_type": "markdown",
   "metadata": {},
   "source": [
    "# Instantiate instruments"
   ]
  },
  {
   "cell_type": "code",
   "execution_count": 123,
   "metadata": {},
   "outputs": [
    {
     "name": "stdout",
     "output_type": "stream",
     "text": [
      "Instrument alazar already exists.\n",
      "Instrument rawctl already exists.\n",
      "Instrument avgctl already exists.\n",
      "Instrument awg already exists.\n",
      "Instrument LO already exists.\n",
      "Instrument RF already exists.\n",
      "Instrument ro_attenuator already exists.\n"
     ]
    },
    {
     "name": "stderr",
     "output_type": "stream",
     "text": [
      "Snapshot: Could not update parameter:buffer_timeout\n"
     ]
    }
   ],
   "source": [
    "inst_list = []\n",
    "\n",
    "# from pytopo.rf import alazar_acquisition; reload(alazar_acquisition)\n",
    "# from pytopo.rf.alazar_acquisition import RawAcqCtl, DemodAcqCtl, DemodRelAcqCtl, IQRelAcqCtl, IQAcqCtl\n",
    "\n",
    "from qcodes.instrument_drivers.AlazarTech.ATS9360 import AlazarTech_ATS9360\n",
    "alazar = instools.create_inst(AlazarTech_ATS9360, 'alazar')\n",
    "inst_list.append(alazar)\n",
    "\n",
    "rawctl = create_inst(RawAcqCtl, 'rawctl', 'alazar', force_new_instance=True)\n",
    "avgctl = create_inst(AvgBufCtl, 'avgctl', 'alazar', force_new_instance=True)\n",
    "inst_list.append(rawctl)\n",
    "inst_list.append(avgctl)\n",
    "\n",
    "# demod_acq = instools.create_inst(DemodAcqCtl, 'demod_acq', 'alazar', force_new_instance=True)\n",
    "# inst_list.append(demod_acq)\n",
    "\n",
    "# demodrel_acq = instools.create_inst(DemodRelAcqCtl, 'rel_acq', 'alazar', force_new_instance=True)\n",
    "# inst_list.append(demodrel_acq)\n",
    "\n",
    "# iqrel_acq = instools.create_inst(IQRelAcqCtl, 'iqrel_acq', 'alazar', force_new_instance=True)\n",
    "# inst_list.append(iqrel_acq)\n",
    "\n",
    "# iq_acq = instools.create_inst(IQAcqCtl, 'iq_acq', 'alazar', force_new_instance=True)\n",
    "# inst_list.append(iq_acq)\n",
    "\n",
    "from qcodes.instrument_drivers.tektronix.AWG5014 import Tektronix_AWG5014\n",
    "awg = instools.create_inst(Tektronix_AWG5014, 'awg', address=\"TCPIP0::169.254.220.147::inst0::INSTR\")\n",
    "inst_list.append(awg)\n",
    "\n",
    "from qcodes.instrument_drivers.rohde_schwarz.SGS100A import RohdeSchwarz_SGS100A\n",
    "LO = instools.create_inst(RohdeSchwarz_SGS100A, 'LO', address=\"TCPIP0::169.254.2.20\")\n",
    "inst_list.append(LO)\n",
    "RF = instools.create_inst(RohdeSchwarz_SGS100A, 'RF', address=\"TCPIP0::169.254.231.38\")\n",
    "inst_list.append(RF)\n",
    "\n",
    "from qcodes.instrument_drivers.Minicircuits.RUDAT_13G_90 import RUDAT_13G_90_USB\n",
    "ro_attenuator = instools.create_inst(RUDAT_13G_90_USB, 'ro_attenuator')\n",
    "inst_list.append(ro_attenuator)\n",
    "\n",
    "station = qc.Station(*inst_list)"
   ]
  },
  {
   "cell_type": "markdown",
   "metadata": {},
   "source": [
    "# Make a test AWG sequence"
   ]
  },
  {
   "cell_type": "code",
   "execution_count": 91,
   "metadata": {},
   "outputs": [
    {
     "data": {
      "text/plain": [
       "'Running'"
      ]
     },
     "execution_count": 91,
     "metadata": {},
     "output_type": "execute_result"
    }
   ],
   "source": [
    "### params\n",
    "\n",
    "pulse_len = 8e-6\n",
    "seq_len = 100e-6\n",
    "\n",
    "### construct sequence\n",
    "ramp = bb.PulseAtoms.ramp\n",
    "\n",
    "ro = bb.BluePrint()\n",
    "ro.setSR(1e9)\n",
    "\n",
    "ro.insertSegment(0, ramp, (0, 0), dur=seq_len, name='ro_segment')\n",
    "ro.marker1 = [(1e-6, 100e-9)]\n",
    "ro.marker2 = [(2e-6, pulse_len)]\n",
    "\n",
    "elem = bb.Element()\n",
    "elem.addBluePrint(1, ro)\n",
    "\n",
    "seq = bb.Sequence()\n",
    "seq.name = 'test'\n",
    "seq.addElement(1, elem)\n",
    "seq.setSR(1e9)\n",
    "\n",
    "seq.setChannelAmplitude(1, 1)\n",
    "seq.setChannelOffset(1, 0)\n",
    "\n",
    "seq.setSequencingTriggerWait(1, 0)\n",
    "seq.setSequencingGoto(1, 1)\n",
    "\n",
    "pkg = seq.outputForAWGFile()\n",
    "\n",
    "awg.clock_freq(1e9)\n",
    "awg.make_send_and_load_awg_file(*pkg[:])\n",
    "awg.set('ch1_state', 1)\n",
    "awg.start()"
   ]
  },
  {
   "cell_type": "markdown",
   "metadata": {},
   "source": [
    "# Configure Alazar and run"
   ]
  },
  {
   "cell_type": "code",
   "execution_count": 143,
   "metadata": {},
   "outputs": [],
   "source": [
    "IF = 20e6\n",
    "acq_time = 0.1\n",
    "ro_attenuator.attenuation(0)\n",
    "\n",
    "### ATS settings \n",
    "\n",
    "ats_settings = dict(\n",
    "    clock_source='INTERNAL_CLOCK',\n",
    "    sample_rate=int(1e8),\n",
    "    clock_edge='CLOCK_EDGE_RISING',\n",
    "    decimation=1,\n",
    "    coupling=['DC','DC'],\n",
    "    channel_range=[.4, .4],\n",
    "    impedance=[50, 50],\n",
    "    trigger_operation='TRIG_ENGINE_OP_J',\n",
    "    trigger_engine1='TRIG_ENGINE_J',\n",
    "    trigger_source1='EXTERNAL',\n",
    "    trigger_slope1='TRIG_SLOPE_POSITIVE',\n",
    "    trigger_level1=128+20,\n",
    "    trigger_engine2='TRIG_ENGINE_K',\n",
    "    trigger_source2='DISABLE',\n",
    "    trigger_slope2='TRIG_SLOPE_POSITIVE',\n",
    "    trigger_level2=128+5,\n",
    "    external_trigger_coupling='DC',\n",
    "    external_trigger_range='ETR_2V5',\n",
    "    trigger_delay=0,\n",
    "    timeout_ticks=int(1e7),\n",
    "    aux_io_mode='AUX_IN_AUXILIARY',\n",
    "    aux_io_param='NONE',\n",
    ")\n",
    "\n",
    "station.alazar.config(**ats_settings)\n",
    "\n",
    "### ACQ controller settings\n",
    "\n",
    "acq = avgctl\n",
    "\n",
    "# acq.acq_time(0.1)\n",
    "# acq.demod_frq(IF)\n",
    "\n"
   ]
  },
  {
   "cell_type": "code",
   "execution_count": 162,
   "metadata": {
    "collapsed": true
   },
   "outputs": [],
   "source": [
    "acq.update_acquisitionkwargs(**dict(\n",
    "    samples_per_record=int(1e8 * 0.01)//128 * 128,\n",
    "    records_per_buffer=1,\n",
    "    buffers_per_acquisition=200,\n",
    "    buffer_timeout = 10000,\n",
    "    allocated_buffers = 100,\n",
    "))"
   ]
  },
  {
   "cell_type": "code",
   "execution_count": 153,
   "metadata": {},
   "outputs": [],
   "source": []
  },
  {
   "cell_type": "code",
   "execution_count": 145,
   "metadata": {},
   "outputs": [
    {
     "data": {
      "text/plain": [
       "999936"
      ]
     },
     "execution_count": 145,
     "metadata": {},
     "output_type": "execute_result"
    }
   ],
   "source": [
    "int(1e8 * 0.01)//128 * 128"
   ]
  },
  {
   "cell_type": "code",
   "execution_count": 75,
   "metadata": {},
   "outputs": [
    {
     "name": "stdout",
     "output_type": "stream",
     "text": [
      "1.1 s ± 1.36 ms per loop (mean ± std. dev. of 7 runs, 5 loops each)\n"
     ]
    }
   ],
   "source": [
    "%%timeit -n 5\n",
    "data = acq.acquisition()"
   ]
  },
  {
   "cell_type": "code",
   "execution_count": 163,
   "metadata": {},
   "outputs": [
    {
     "data": {
      "text/plain": [
       "(('records', 'samples', 'channels'), (1, 999936, 2), (1, 999936, 2))"
      ]
     },
     "execution_count": 163,
     "metadata": {},
     "output_type": "execute_result"
    }
   ],
   "source": [
    "data = acq.acquisition()\n",
    "acq.data_dims(), acq.data_shape(), data.shape"
   ]
  },
  {
   "cell_type": "code",
   "execution_count": 147,
   "metadata": {},
   "outputs": [
    {
     "name": "stdout",
     "output_type": "stream",
     "text": [
      "True\n",
      "True\n",
      "True\n",
      "True\n",
      "True\n",
      "True\n",
      "True\n",
      "True\n",
      "True\n",
      "True\n",
      "True\n",
      "True\n",
      "True\n",
      "True\n",
      "True\n",
      "True\n",
      "True\n",
      "True\n",
      "True\n",
      "True\n",
      "True\n",
      "True\n",
      "True\n",
      "True\n",
      "True\n",
      "True\n",
      "True\n",
      "True\n",
      "True\n",
      "True\n",
      "True\n",
      "True\n",
      "True\n",
      "True\n",
      "True\n",
      "True\n",
      "True\n",
      "True\n",
      "True\n",
      "True\n",
      "True\n",
      "True\n",
      "True\n",
      "True\n",
      "True\n",
      "True\n",
      "True\n",
      "True\n",
      "True\n",
      "True\n",
      "True\n",
      "True\n",
      "True\n",
      "True\n",
      "True\n",
      "True\n",
      "True\n",
      "True\n",
      "True\n",
      "True\n",
      "True\n",
      "True\n",
      "True\n",
      "True\n",
      "True\n",
      "True\n",
      "True\n",
      "True\n",
      "True\n",
      "True\n",
      "True\n",
      "True\n",
      "True\n",
      "True\n",
      "True\n",
      "True\n",
      "True\n",
      "True\n",
      "True\n",
      "True\n",
      "True\n",
      "True\n",
      "True\n",
      "True\n",
      "True\n",
      "True\n",
      "True\n",
      "True\n",
      "True\n",
      "True\n",
      "True\n",
      "True\n",
      "True\n",
      "True\n",
      "True\n",
      "True\n",
      "True\n",
      "True\n",
      "True\n",
      "True\n",
      "True\n",
      "True\n",
      "True\n",
      "True\n",
      "True\n",
      "True\n",
      "True\n",
      "True\n",
      "True\n",
      "True\n",
      "True\n",
      "True\n",
      "True\n",
      "True\n",
      "True\n",
      "True\n",
      "True\n",
      "True\n",
      "True\n",
      "True\n",
      "True\n",
      "True\n",
      "True\n",
      "True\n",
      "True\n",
      "True\n",
      "True\n",
      "True\n",
      "True\n",
      "True\n",
      "True\n",
      "True\n",
      "True\n",
      "True\n",
      "True\n",
      "True\n",
      "True\n",
      "True\n",
      "True\n",
      "True\n",
      "True\n",
      "True\n",
      "True\n",
      "True\n",
      "True\n",
      "True\n",
      "True\n",
      "True\n",
      "True\n",
      "True\n",
      "True\n",
      "True\n",
      "True\n",
      "True\n",
      "True\n",
      "True\n",
      "True\n",
      "True\n",
      "True\n",
      "True\n",
      "True\n",
      "True\n",
      "True\n",
      "True\n",
      "True\n",
      "True\n",
      "True\n",
      "True\n",
      "True\n",
      "True\n",
      "True\n",
      "True\n",
      "True\n",
      "True\n",
      "True\n",
      "True\n",
      "True\n",
      "True\n",
      "True\n",
      "True\n",
      "True\n",
      "True\n",
      "True\n",
      "True\n",
      "True\n",
      "True\n",
      "True\n",
      "True\n",
      "True\n",
      "True\n",
      "True\n",
      "True\n",
      "True\n",
      "True\n",
      "True\n",
      "True\n",
      "True\n",
      "True\n",
      "True\n",
      "True\n"
     ]
    }
   ],
   "source": [
    "for buffer in alazar.buffer_list:\n",
    "    print(buffer._allocated)"
   ]
  },
  {
   "cell_type": "code",
   "execution_count": null,
   "metadata": {},
   "outputs": [],
   "source": [
    "# plotdata = np.abs(np.squeeze(data))\n",
    "\n",
    "# fig, ax = plt.subplots(1,1)\n",
    "# ax.plot(acq.demod_tvals * 1e6, plotdata)"
   ]
  },
  {
   "cell_type": "code",
   "execution_count": 127,
   "metadata": {},
   "outputs": [
    {
     "data": {
      "text/plain": [
       "3814.697265625"
      ]
     },
     "execution_count": 127,
     "metadata": {},
     "output_type": "execute_result"
    }
   ],
   "source": [
    "5 * 4  * 2e8 / (1024**2)"
   ]
  },
  {
   "cell_type": "code",
   "execution_count": null,
   "metadata": {
    "collapsed": true
   },
   "outputs": [],
   "source": []
  },
  {
   "cell_type": "code",
   "execution_count": null,
   "metadata": {},
   "outputs": [],
   "source": []
  },
  {
   "cell_type": "code",
   "execution_count": 50,
   "metadata": {},
   "outputs": [
    {
     "name": "stdout",
     "output_type": "stream",
     "text": [
      "1.0006094688089888\n"
     ]
    }
   ],
   "source": [
    "t0 = time.perf_counter()\n",
    "time.sleep(1)\n",
    "print(time.perf_counter() - t0)"
   ]
  },
  {
   "cell_type": "code",
   "execution_count": null,
   "metadata": {
    "collapsed": true
   },
   "outputs": [],
   "source": []
  }
 ],
 "metadata": {
  "kernelspec": {
   "display_name": "Python 3",
   "language": "python",
   "name": "python3"
  },
  "language_info": {
   "codemirror_mode": {
    "name": "ipython",
    "version": 3
   },
   "file_extension": ".py",
   "mimetype": "text/x-python",
   "name": "python",
   "nbconvert_exporter": "python",
   "pygments_lexer": "ipython3",
   "version": "3.6.3"
  },
  "toc": {
   "base_numbering": 1,
   "nav_menu": {},
   "number_sections": true,
   "sideBar": true,
   "skip_h1_title": false,
   "title_cell": "Table of Contents",
   "title_sidebar": "Contents",
   "toc_cell": false,
   "toc_position": {},
   "toc_section_display": true,
   "toc_window_display": false
  }
 },
 "nbformat": 4,
 "nbformat_minor": 2
}

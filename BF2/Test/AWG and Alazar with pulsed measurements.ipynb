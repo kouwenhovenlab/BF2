{
 "cells": [
  {
   "cell_type": "code",
   "execution_count": null,
   "metadata": {
    "collapsed": true
   },
   "outputs": [],
   "source": [
    "%matplotlib notebook\n",
    "\n",
    "import sys\n",
    "import os\n",
    "import time"
   ]
  },
  {
   "cell_type": "code",
   "execution_count": null,
   "metadata": {
    "collapsed": true
   },
   "outputs": [],
   "source": []
  },
  {
   "cell_type": "code",
   "execution_count": null,
   "metadata": {},
   "outputs": [],
   "source": [
    "import numpy as np\n",
    "import qcodes as qc\n",
    "import broadbean as bb\n",
    "\n",
    "from matplotlib import pyplot as plt\n",
    "from broadbean.plotting import plotter\n",
    "from labtools.mplplots.init_nb_plotting import *\n",
    "from labtools.mplplots import plots as mplplots\n",
    "from labtools.mplplots import tools as mpltools"
   ]
  },
  {
   "cell_type": "markdown",
   "metadata": {},
   "source": [
    "# Initialization"
   ]
  },
  {
   "cell_type": "markdown",
   "metadata": {},
   "source": [
    "## Classes and methods"
   ]
  },
  {
   "cell_type": "code",
   "execution_count": null,
   "metadata": {
    "collapsed": true
   },
   "outputs": [],
   "source": []
  },
  {
   "cell_type": "markdown",
   "metadata": {},
   "source": [
    "## Load Instruments"
   ]
  },
  {
   "cell_type": "code",
   "execution_count": null,
   "metadata": {},
   "outputs": [],
   "source": [
    "from pytopo.qctools import instruments as instools\n",
    "from pytopo.rf.alazar_acquisition import RawAcqCtl, DemodAcqCtl, DemodRelAcqCtl, IQAcqCtl\n",
    "\n",
    "inst_list = []\n",
    "\n",
    "from qcodes.instrument_drivers.AlazarTech.ATS9360 import AlazarTech_ATS9360\n",
    "alazar = instools.create_inst(AlazarTech_ATS9360, 'alazar')\n",
    "inst_list.append(alazar)\n",
    "\n",
    "raw_acq = instools.create_inst(RawAcqCtl, 'raw_acq', 'alazar', force_new_instance=True)\n",
    "inst_list.append(raw_acq)\n",
    "\n",
    "demod_acq = instools.create_inst(DemodAcqCtl, 'demod_acq', 'alazar', force_new_instance=True)\n",
    "inst_list.append(demod_acq)\n",
    "\n",
    "rel_acq = instools.create_inst(DemodRelAcqCtl, 'rel_acq', 'alazar', force_new_instance=True)\n",
    "inst_list.append(rel_acq)\n",
    "\n",
    "iq_acq = instools.create_inst(IQAcqCtl, 'iq_acq', 'alazar', force_new_instance=True)\n",
    "inst_list.append(iq_acq)\n",
    "\n",
    "from qcodes.instrument_drivers.tektronix.AWG5014 import Tektronix_AWG5014\n",
    "awg5014 = instools.create_inst(Tektronix_AWG5014, 'awg5014', address=\"TCPIP0::169.254.220.147::inst0::INSTR\")\n",
    "inst_list.append(awg5014)\n",
    "\n",
    "from qcodes.instrument_drivers.rohde_schwarz.SGS100A import RohdeSchwarz_SGS100A\n",
    "LO = instools.create_inst(RohdeSchwarz_SGS100A, 'RF', address=\"TCPIP0::169.254.2.20\")\n",
    "inst_list.append(LO)\n",
    "RF = instools.create_inst(RohdeSchwarz_SGS100A, 'LO', address=\"TCPIP0::169.254.231.38\")\n",
    "inst_list.append(RF)\n",
    "\n",
    "station = qc.Station(*inst_list)"
   ]
  },
  {
   "cell_type": "markdown",
   "metadata": {},
   "source": [
    "# Specify a sequence"
   ]
  },
  {
   "cell_type": "markdown",
   "metadata": {},
   "source": [
    "## Use broadbean to specify a mock qubit spec sequence"
   ]
  },
  {
   "cell_type": "code",
   "execution_count": null,
   "metadata": {
    "collapsed": true
   },
   "outputs": [],
   "source": [
    "ramp = bb.PulseAtoms.ramp\n",
    "delay = bb.PulseAtoms.waituntil"
   ]
  },
  {
   "cell_type": "code",
   "execution_count": null,
   "metadata": {},
   "outputs": [],
   "source": [
    "SR = 1e9\n",
    "initial_delay = 1e-6\n",
    "qb_pulse_len = 1e-5\n",
    "ro_delay = 1e-6\n",
    "ro_pulse_len = 1e-6\n",
    "alz_trigger_len = 100e-9\n",
    "alz_trigger_buf = 200e-9\n",
    "\n",
    "spec_elem = bb.Element()\n",
    "\n",
    "qubit = bb.BluePrint()\n",
    "qubit.setSR(SR)\n",
    "qubit.insertSegment(0, ramp, (0, 0), dur=initial_delay)\n",
    "qubit.insertSegment(-1, ramp, (0, 0), dur=qb_pulse_len, name='qb_pulse')\n",
    "qubit.insertSegment(-1, ramp, (0, 0), dur=ro_delay + ro_pulse_len)\n",
    "qubit.setSegmentMarker('qb_pulse', (0, qb_pulse_len), 1)\n",
    "\n",
    "readout = bb.BluePrint()\n",
    "readout.setSR(SR)\n",
    "readout.insertSegment(0, ramp, (0, 0), dur=initial_delay + qb_pulse_len)\n",
    "readout.insertSegment(-1, ramp, (0, 0), dur=ro_delay, name='ro_delay')\n",
    "readout.insertSegment(-1, ramp, (0, 0), dur=ro_pulse_len, name='ro_pulse')\n",
    "readout.setSegmentMarker('ro_delay', (ro_delay - alz_trigger_len - alz_trigger_buf, alz_trigger_len), 1)\n",
    "readout.setSegmentMarker('ro_pulse', (0, ro_pulse_len), 2)\n",
    "\n",
    "spec_elem.addBluePrint(1, readout)\n",
    "spec_elem.addBluePrint(2, qubit)\n",
    "\n",
    "seq = bb.Sequence()\n",
    "seq.name = 'qubit_spec'\n",
    "\n",
    "seq.addElement(1, spec_elem)\n",
    "seq.setSR(SR)\n",
    "\n",
    "seq.setChannelAmplitude(1, 1)\n",
    "seq.setChannelOffset(1, 0)\n",
    "seq.setChannelAmplitude(2, 1)\n",
    "seq.setChannelOffset(2, 0)\n",
    "\n",
    "seq.setSequencingTriggerWait(1, 0)\n",
    "seq.setSequencingGoto(1, 1)\n",
    "\n",
    "plotter(seq)"
   ]
  },
  {
   "cell_type": "markdown",
   "metadata": {},
   "source": [
    "## Program the AWG and play"
   ]
  },
  {
   "cell_type": "code",
   "execution_count": null,
   "metadata": {
    "collapsed": true
   },
   "outputs": [],
   "source": [
    "awg5014.stop()\n",
    "awg5014.clock_freq(SR)\n",
    "pkg = seq.outputForAWGFile()\n",
    "awg5014.make_send_and_load_awg_file(*pkg[:])"
   ]
  },
  {
   "cell_type": "code",
   "execution_count": null,
   "metadata": {},
   "outputs": [],
   "source": [
    "awg5014.ch1_state(1)\n",
    "awg5014.ch2_state(1)\n",
    "awg5014.start()"
   ]
  },
  {
   "cell_type": "markdown",
   "metadata": {},
   "source": [
    "# Alazar Acquisition Examples"
   ]
  },
  {
   "cell_type": "markdown",
   "metadata": {},
   "source": [
    "## Configure Alazar"
   ]
  },
  {
   "cell_type": "code",
   "execution_count": null,
   "metadata": {
    "collapsed": true
   },
   "outputs": [],
   "source": [
    "ats_settings = dict(\n",
    "    clock_source='INTERNAL_CLOCK',\n",
    "    sample_rate=int(1e9),\n",
    "    clock_edge='CLOCK_EDGE_RISING',\n",
    "    decimation=1,\n",
    "    coupling=['DC','DC'],\n",
    "    channel_range=[.4, .4],\n",
    "    impedance=[50, 50],\n",
    "    trigger_operation='TRIG_ENGINE_OP_J',\n",
    "    trigger_engine1='TRIG_ENGINE_J',\n",
    "    trigger_source1='EXTERNAL',\n",
    "    trigger_slope1='TRIG_SLOPE_POSITIVE',\n",
    "    trigger_level1=128+20,\n",
    "    trigger_engine2='TRIG_ENGINE_K',\n",
    "    trigger_source2='DISABLE',\n",
    "    trigger_slope2='TRIG_SLOPE_POSITIVE',\n",
    "    trigger_level2=128+5,\n",
    "    external_trigger_coupling='DC',\n",
    "    external_trigger_range='ETR_2V5',\n",
    "    trigger_delay=0,\n",
    "    timeout_ticks=int(1e7),\n",
    "    aux_io_mode='AUX_IN_AUXILIARY',\n",
    "    aux_io_param='NONE',\n",
    ")\n",
    "\n",
    "station.alazar.config(**ats_settings)"
   ]
  },
  {
   "cell_type": "markdown",
   "metadata": {},
   "source": [
    "## Run Tests\n",
    "\n",
    "Triggers on the signal. make sure you're playing someting :)"
   ]
  },
  {
   "cell_type": "code",
   "execution_count": null,
   "metadata": {},
   "outputs": [],
   "source": [
    "raw_acq.acq_time = 2e-6\n",
    "raw_acq.update_acquisitionkwargs(records_per_buffer=1, \n",
    "                                 buffers_per_acquisition=1,\n",
    "                                 buffer_timeout=10000,\n",
    "                                 allocated_buffers=1)\n",
    "data = raw_acq.do_acquisition()\n",
    "\n",
    "fig, (ax, bx) = plt.subplots(2, 1, figsize=(4, 4), sharex=True)\n",
    "ax.plot(raw_acq.tvals * 1e6, np.squeeze(data)[:, 0])\n",
    "bx.plot(raw_acq.tvals * 1e6, np.squeeze(data)[:, 1])\n",
    "\n",
    "ax.set_ylabel('Channel A (V)')\n",
    "bx.set_ylabel('Channel B (V)')\n",
    "bx.set_xlabel('Time (us)')\n",
    "\n",
    "fig.tight_layout()"
   ]
  },
  {
   "cell_type": "code",
   "execution_count": null,
   "metadata": {},
   "outputs": [],
   "source": [
    "raw_acq.handling_times"
   ]
  },
  {
   "cell_type": "code",
   "execution_count": null,
   "metadata": {},
   "outputs": [],
   "source": [
    "demod_acq.acq_time = 2e-6\n",
    "demod_acq.demod_frq = 20e6\n",
    "demod_acq.update_acquisitionkwargs(records_per_buffer=1, \n",
    "                                   buffers_per_acquisition=1,\n",
    "                                   buffer_timeout=10000,\n",
    "                                   allocated_buffers=1)\n",
    "data = demod_acq.do_acquisition()\n",
    "\n",
    "fig, (ax, bx) = plt.subplots(2, 1, figsize=(4, 4), sharex=True)\n",
    "ax.plot(demod_acq.demod_tvals * 1e6, np.squeeze(data)[:, 0].real, label='Re')\n",
    "ax.plot(demod_acq.demod_tvals * 1e6, np.squeeze(data)[:, 0].imag, label='Im')\n",
    "ax.plot(demod_acq.demod_tvals * 1e6, np.abs(np.squeeze(data)[:, 0]), label='Abs')\n",
    "ax.legend()\n",
    "\n",
    "bx.plot(demod_acq.demod_tvals * 1e6, np.squeeze(data)[:, 1].real)\n",
    "bx.plot(demod_acq.demod_tvals * 1e6, np.squeeze(data)[:, 1].imag)\n",
    "bx.plot(demod_acq.demod_tvals * 1e6, np.abs(np.squeeze(data)[:, 1]))\n",
    "\n",
    "ax.set_ylabel('Channel A (V)')\n",
    "bx.set_ylabel('Channel B (V)')\n",
    "bx.set_xlabel('Time (us)')\n",
    "\n",
    "fig.tight_layout()"
   ]
  },
  {
   "cell_type": "code",
   "execution_count": null,
   "metadata": {},
   "outputs": [],
   "source": [
    "demod_acq.handling_times"
   ]
  },
  {
   "cell_type": "code",
   "execution_count": null,
   "metadata": {},
   "outputs": [],
   "source": [
    "rel_acq.acq_time = 2e-6\n",
    "rel_acq.demod_frq = 20e6\n",
    "rel_acq.update_acquisitionkwargs(records_per_buffer=1, \n",
    "                                 buffers_per_acquisition=1000,\n",
    "                                 buffer_timeout=10000,\n",
    "                                 allocated_buffers=1)\n",
    "data = rel_acq.do_acquisition()\n",
    "\n",
    "fig, ax = plt.subplots(1, 1)\n",
    "ax.plot(rel_acq.demod_tvals * 1e6, np.squeeze(data).mean(axis=0).real, label='Re')\n",
    "ax.plot(rel_acq.demod_tvals * 1e6, np.squeeze(data).mean(axis=0).imag, label='Im')\n",
    "ax.plot(rel_acq.demod_tvals * 1e6, np.abs(np.squeeze(data).mean(axis=0)), label='Abs')\n",
    "ax.legend()\n",
    "\n",
    "ax.set_ylabel('Signal')\n",
    "ax.set_xlabel('Time (us)')\n",
    "\n",
    "fig.tight_layout()"
   ]
  },
  {
   "cell_type": "code",
   "execution_count": null,
   "metadata": {
    "collapsed": true
   },
   "outputs": [],
   "source": [
    "rel_acq.handling_times"
   ]
  },
  {
   "cell_type": "code",
   "execution_count": null,
   "metadata": {},
   "outputs": [],
   "source": [
    "iq_acq.acq_time = 2e-6\n",
    "iq_acq.demod_frq = 20e6\n",
    "iq_acq.update_acquisitionkwargs(records_per_buffer=1, \n",
    "                                buffers_per_acquisition=10,\n",
    "                                buffer_timeout=10000,\n",
    "                                allocated_buffers=1)\n",
    "data = iq_acq.do_acquisition()\n",
    "print(data.shape, iq_acq.handling_times)\n",
    "\n",
    "fig, ax = plt.subplots(1, 1)\n",
    "ax.plot(np.squeeze(data).real, label='Re')\n",
    "ax.plot(np.squeeze(data).imag, label='Im')\n",
    "ax.plot(np.abs(np.squeeze(data)), label='Abs')\n",
    "ax.legend()\n",
    "\n",
    "ax.set_ylabel('Signal')\n",
    "ax.set_xlabel('Repetition')\n",
    "\n",
    "fig.tight_layout()"
   ]
  },
  {
   "cell_type": "code",
   "execution_count": null,
   "metadata": {
    "collapsed": true
   },
   "outputs": [],
   "source": []
  },
  {
   "cell_type": "code",
   "execution_count": null,
   "metadata": {
    "collapsed": true
   },
   "outputs": [],
   "source": []
  },
  {
   "cell_type": "code",
   "execution_count": null,
   "metadata": {
    "collapsed": true
   },
   "outputs": [],
   "source": [
    "station.snapshot()"
   ]
  },
  {
   "cell_type": "code",
   "execution_count": null,
   "metadata": {
    "collapsed": true
   },
   "outputs": [],
   "source": []
  }
 ],
 "metadata": {
  "kernelspec": {
   "display_name": "Python 3",
   "language": "python",
   "name": "python3"
  },
  "language_info": {
   "codemirror_mode": {
    "name": "ipython",
    "version": 3
   },
   "file_extension": ".py",
   "mimetype": "text/x-python",
   "name": "python",
   "nbconvert_exporter": "python",
   "pygments_lexer": "ipython3",
   "version": "3.6.3"
  },
  "toc": {
   "base_numbering": 1,
   "nav_menu": {},
   "number_sections": true,
   "sideBar": true,
   "skip_h1_title": false,
   "title_cell": "Table of Contents",
   "title_sidebar": "Contents",
   "toc_cell": false,
   "toc_position": {},
   "toc_section_display": true,
   "toc_window_display": false
  }
 },
 "nbformat": 4,
 "nbformat_minor": 2
}

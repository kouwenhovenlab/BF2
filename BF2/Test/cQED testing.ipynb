{
 "cells": [
  {
   "cell_type": "code",
   "execution_count": 1,
   "metadata": {
    "ExecuteTime": {
     "end_time": "2018-09-27T15:24:30.629126Z",
     "start_time": "2018-09-27T15:24:28.934946Z"
    },
    "collapsed": true
   },
   "outputs": [],
   "source": [
    "%matplotlib notebook\n",
    "\n",
    "# %qtconsole\n",
    "\n",
    "import logging\n",
    "import time\n",
    "from pprint import pprint\n",
    "from importlib import reload\n",
    "\n",
    "from matplotlib import pyplot as plt\n",
    "from matplotlib import colors, cm\n",
    "import numpy as np\n",
    "\n",
    "import qcodes as qc\n",
    "\n",
    "from qcodes.instrument.parameter import Parameter\n",
    "from qcodes.dataset.experiment_container import new_experiment\n",
    "from qcodes.dataset.database import initialise_database"
   ]
  },
  {
   "cell_type": "code",
   "execution_count": null,
   "metadata": {
    "ExecuteTime": {
     "end_time": "2018-09-26T07:27:32.450318Z",
     "start_time": "2018-09-26T07:27:32.433308Z"
    },
    "collapsed": true
   },
   "outputs": [],
   "source": [
    "%qtconsole"
   ]
  },
  {
   "cell_type": "markdown",
   "metadata": {},
   "source": [
    "# Imports"
   ]
  },
  {
   "cell_type": "code",
   "execution_count": 14,
   "metadata": {
    "ExecuteTime": {
     "end_time": "2018-09-27T15:49:25.148630Z",
     "start_time": "2018-09-27T15:49:25.119613Z"
    }
   },
   "outputs": [
    {
     "data": {
      "text/plain": [
       "<module 'pytopo.rf.alazar.acquisition_controllers' from 'd:\\\\onedrive\\\\bf2\\\\code\\\\pytopo\\\\pytopo\\\\rf\\\\alazar\\\\acquisition_controllers.py'>"
      ]
     },
     "execution_count": 14,
     "metadata": {},
     "output_type": "execute_result"
    }
   ],
   "source": [
    "from pytopo.rf.alazar import acquisition_tools; reload(acquisition_tools)\n",
    "from pytopo.rf.alazar import awg_sequences; reload(awg_sequences)\n",
    "from pytopo.rf.alazar import acquisition_controllers; reload(acquisition_controllers)"
   ]
  },
  {
   "cell_type": "code",
   "execution_count": null,
   "metadata": {
    "collapsed": true
   },
   "outputs": [],
   "source": []
  },
  {
   "cell_type": "markdown",
   "metadata": {},
   "source": [
    "# Init"
   ]
  },
  {
   "cell_type": "markdown",
   "metadata": {},
   "source": [
    "## load instruments"
   ]
  },
  {
   "cell_type": "code",
   "execution_count": 3,
   "metadata": {
    "ExecuteTime": {
     "end_time": "2018-09-27T15:24:47.839627Z",
     "start_time": "2018-09-27T15:24:34.823566Z"
    }
   },
   "outputs": [
    {
     "name": "stdout",
     "output_type": "stream",
     "text": [
      "Connected to: TEKTRONIX AWG5208 (serial:B020237, firmware:FV:6.1.0054.0) in 0.63s\n"
     ]
    }
   ],
   "source": [
    "%run -i D:/OneDrive/BF2/Code/BF2/BF2/init_station_cqed.py"
   ]
  },
  {
   "cell_type": "markdown",
   "metadata": {},
   "source": [
    "## default instrument config"
   ]
  },
  {
   "cell_type": "code",
   "execution_count": 4,
   "metadata": {
    "ExecuteTime": {
     "end_time": "2018-09-27T15:24:57.197586Z",
     "start_time": "2018-09-27T15:24:49.107933Z"
    }
   },
   "outputs": [
    {
     "name": "stdout",
     "output_type": "stream",
     "text": [
      "Allocating 1000000000 elements (2000.0 MB)\n",
      "Allocating 1000000000 elements (4000.0 MB)\n",
      "Allocating 1000000000 elements (4000.0 MB)\n"
     ]
    }
   ],
   "source": [
    "raw_acq = instools.create_inst(acquisition_controllers.RawAcqCtl, \n",
    "                               'raw_acq', 'alazar',\n",
    "                               allocate_samples=1e9, \n",
    "                               force_new_instance=True)\n",
    "\n",
    "post_demod_acq = instools.create_inst(acquisition_controllers.PostDemodCtl, \n",
    "                                      'post_demod_acq', 'alazar',\n",
    "                                      allocate_samples=1e9, \n",
    "                                      force_new_instance=True)\n",
    "\n",
    "post_iq_acq = instools.create_inst(acquisition_controllers.PostIQCtl, \n",
    "                                   'post_iq_acq', 'alazar',\n",
    "                                   allocate_samples=1e9, \n",
    "                                   force_new_instance=True)"
   ]
  },
  {
   "cell_type": "code",
   "execution_count": null,
   "metadata": {
    "collapsed": true
   },
   "outputs": [],
   "source": []
  },
  {
   "cell_type": "markdown",
   "metadata": {},
   "source": [
    "# Emulation of key experiments"
   ]
  },
  {
   "cell_type": "code",
   "execution_count": 5,
   "metadata": {
    "ExecuteTime": {
     "end_time": "2018-09-27T15:24:57.267628Z",
     "start_time": "2018-09-27T15:24:57.200583Z"
    },
    "collapsed": true
   },
   "outputs": [],
   "source": [
    "import broadbean as bb\n",
    "from broadbean.plotting import plotter\n",
    "from pytopo.awg_sequencing import broadbean as bbtools; reload(bbtools)\n",
    "\n",
    "ramp = bb.PulseAtoms.ramp\n",
    "sine = bb.PulseAtoms.sine"
   ]
  },
  {
   "cell_type": "code",
   "execution_count": 6,
   "metadata": {
    "ExecuteTime": {
     "end_time": "2018-09-27T15:25:25.051320Z",
     "start_time": "2018-09-27T15:25:23.188273Z"
    }
   },
   "outputs": [
    {
     "name": "stdout",
     "output_type": "stream",
     "text": [
      "Waveforms done\n",
      "['wfm_1_1_1']\n",
      "True debug\n",
      "[['wfm_1_1_1']]\n"
     ]
    }
   ],
   "source": [
    "chan_map = {\n",
    "    1 : ['pulse', 'ats_trigger', None]\n",
    "}\n",
    "chan_settings = {\n",
    "    1 : {\n",
    "        'marker_hi' : [1.5, 1.5],\n",
    "        'marker_lo' : [-0.3, -0.3],\n",
    "        },\n",
    "}\n",
    "\n",
    "class SinglePulse(bbtools.BroadBeanSequence):\n",
    "    \n",
    "    name = 'single_pulse'\n",
    "\n",
    "    def sequence(self, cycle_time=10e-6, pulse_len=5e-6, pulse_delay=2e-6,\n",
    "                 pulse_frq=10e6, pulse_amp=0.25):\n",
    "\n",
    "        trig_len = 0.1e-6\n",
    "        pre_trig_delay = 0.1e-6\n",
    "        low_time = cycle_time - pulse_delay - pulse_len - trig_len - pre_trig_delay\n",
    "\n",
    "        bps = bbtools.BluePrints(chan_map=chan_map, length=cycle_time)\n",
    "\n",
    "        bps['pulse'].insertSegment(0, ramp, (0,0), dur=pre_trig_delay + trig_len + pulse_delay)\n",
    "        bps['pulse'].insertSegment(1, sine, (pulse_frq, pulse_amp, 0, 0), name='pulse', dur=pulse_len)\n",
    "        bps['pulse'].insertSegment(2, ramp, (0, 0), dur=low_time)\n",
    "\n",
    "        bps['ats_trigger'] = [(pre_trig_delay, trig_len)]\n",
    "\n",
    "        elt = bbtools.blueprints2element(bps)\n",
    "        return bbtools.elements2sequence([elt], self.name) \n",
    "    \n",
    "\n",
    "bbseq = SinglePulse(station.awg, chan_map=chan_map, chan_settings=chan_settings)\n",
    "bbseq.wait = 'off'\n",
    "bbseq.setup_awg()"
   ]
  },
  {
   "cell_type": "code",
   "execution_count": 7,
   "metadata": {
    "ExecuteTime": {
     "end_time": "2018-09-27T15:25:27.906501Z",
     "start_time": "2018-09-27T15:25:27.523619Z"
    }
   },
   "outputs": [
    {
     "name": "stderr",
     "output_type": "stream",
     "text": [
      "'allocated_buffers' should be <= 'buffers_per_acquisition'. Defaulting 'allocated_buffers' to 1\n"
     ]
    },
    {
     "name": "stdout",
     "output_type": "stream",
     "text": [
      "Setup capture: 0.12288 MB total\n",
      " * Buffers: 1 (0.12288 MB/buffer) | (Allocated buffers: 10 = 1.2288000000000001 MB)\n",
      " * Records: 10 (0.012288 MB/record)\n",
      " * Samples: 1536 (= 7.68 us)\n",
      " * Channels: 2\n",
      "(1, 1, 10, 76, 2)\n"
     ]
    }
   ],
   "source": [
    "post_demod_acq.demod_frq(10e6)\n",
    "post_demod_acq.average_buffers(True)\n",
    "\n",
    "data = acquisition_tools.simple_triggered_sweep_acquisition(\n",
    "    npts=10, acq_time=8e-6, navgs=1, ctl=post_demod_acq,\n",
    ")\n",
    "print(data.shape)"
   ]
  },
  {
   "cell_type": "code",
   "execution_count": 15,
   "metadata": {
    "ExecuteTime": {
     "end_time": "2018-09-27T15:49:32.942079Z",
     "start_time": "2018-09-27T15:49:30.354430Z"
    }
   },
   "outputs": [
    {
     "name": "stdout",
     "output_type": "stream",
     "text": [
      "Starting experimental run with id: 18\n"
     ]
    }
   ],
   "source": [
    "bogus = Parameter('bogus', set_cmd=None, initial_value=1, unit='A')\n",
    "nonsense = Parameter('nonsense', set_cmd=None, initial_value=1e3, unit='mV')\n",
    "\n",
    "hard_axes = [\n",
    "    ('repetition', np.arange(10)),\n",
    "    ('time', None),\n",
    "    ('channel', [1,2])\n",
    "]\n",
    "\n",
    "exp = new_experiment(name='testing', sample_name='no sample')\n",
    "\n",
    "m = acquisition_tools.AlazarMeasurement(\n",
    "    station, hard_axes=hard_axes, exp=exp, \n",
    "    real=False, imag=False, mag=True, phase=True,\n",
    "    soft_params=[bogus, nonsense, 'crap']\n",
    ")\n",
    "\n",
    "with m.run() as datasaver:\n",
    "    for i in [1,2]:\n",
    "        for j in [1e3]:\n",
    "            for k in [-7, -5]:\n",
    "                result = m.get_result(data, \n",
    "                                      (bogus, i), (nonsense, j), ('crap', k), \n",
    "                                      ('time', post_demod_acq.demod_tvals))\n",
    "                datasaver.add_result(*result)"
   ]
  },
  {
   "cell_type": "markdown",
   "metadata": {},
   "source": [
    "# Scribble"
   ]
  }
 ],
 "metadata": {
  "kernelspec": {
   "display_name": "Python 3",
   "language": "python",
   "name": "python3"
  },
  "language_info": {
   "codemirror_mode": {
    "name": "ipython",
    "version": 3
   },
   "file_extension": ".py",
   "mimetype": "text/x-python",
   "name": "python",
   "nbconvert_exporter": "python",
   "pygments_lexer": "ipython3",
   "version": "3.6.3"
  },
  "toc": {
   "base_numbering": 1,
   "nav_menu": {},
   "number_sections": true,
   "sideBar": true,
   "skip_h1_title": false,
   "title_cell": "Table of Contents",
   "title_sidebar": "Contents",
   "toc_cell": false,
   "toc_position": {},
   "toc_section_display": true,
   "toc_window_display": true
  }
 },
 "nbformat": 4,
 "nbformat_minor": 2
}
